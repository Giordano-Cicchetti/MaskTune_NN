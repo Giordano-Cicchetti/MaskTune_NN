{
  "cells": [
    {
      "attachments": {},
      "cell_type": "markdown",
      "metadata": {},
      "source": [
        "<h1><center>MASKTUNE: Mitigating Spurious Correlations by forcing to explore</center></h1>\n",
        "\n",
        "In this notebook we will focus our attenction in a different dataset: BackgroundChallenge.\n",
        "The backgrounds challenge is a public dataset challenge for creating more background-robust models. This repository contains test datasets of ImageNet-9 (IN-9) with different amounts of background and foreground signal,\n",
        "which you can use to measure the extent to which your models rely on image backgrounds. \n",
        "This dataset is helpful in testing the robustness of vision models with respect to their dependence on the backgrounds of images.\n",
        "\n",
        "The nine classes of this dataset are: dog,bird,wheeled vehicle,reptile,carnivore,insect,musical instrument,primate,fish.\n",
        "\n",
        "The training dataset is composed of 45000 images from ImageNet.\n",
        "For the test set instead Background challenge proposes different types of Dataset each of the is different from others and it is built with a specific purpose.\n",
        "\n",
        "In this notebook we will use the Original Test Dataset, the Only-Foreground Test Dataset, the Mixed-Random Test Dataset and Mixed-Same Test Dataset."
      ]
    },
    {
      "cell_type": "markdown",
      "metadata": {
        "id": "2LHqjR9soqyH"
      },
      "source": [
        "## 1. Download Dataset"
      ]
    },
    {
      "attachments": {},
      "cell_type": "markdown",
      "metadata": {},
      "source": [
        "Download train dataset"
      ]
    },
    {
      "cell_type": "code",
      "execution_count": null,
      "metadata": {
        "colab": {
          "base_uri": "https://localhost:8080/"
        },
        "id": "OrcHwYCm_RQm",
        "outputId": "9b1242c2-de21-444d-b5bf-032c60548bd1"
      },
      "outputs": [],
      "source": [
        "!wget https://www.dropbox.com/s/0vv2qsc4ywb4z5v/original.tar.gz"
      ]
    },
    {
      "cell_type": "code",
      "execution_count": null,
      "metadata": {
        "id": "2GaJUvlvDGri"
      },
      "outputs": [],
      "source": [
        "import tarfile\n",
        "from zipfile import ZipFile\n",
        "f=tarfile.open('original.tar.gz')\n",
        "f.extractall('data')\n",
        "f.close()"
      ]
    },
    {
      "attachments": {},
      "cell_type": "markdown",
      "metadata": {},
      "source": [
        "Download test datasets"
      ]
    },
    {
      "cell_type": "code",
      "execution_count": null,
      "metadata": {
        "colab": {
          "base_uri": "https://localhost:8080/"
        },
        "id": "DOtkqnBY8vqs",
        "outputId": "7004c2e5-87f2-41fb-b79e-862dca7d9cc9"
      },
      "outputs": [],
      "source": [
        "!wget https://github.com/MadryLab/backgrounds_challenge/releases/download/data/backgrounds_challenge_data.tar.gz"
      ]
    },
    {
      "cell_type": "code",
      "execution_count": null,
      "metadata": {
        "id": "k2OUnLjy85Ud"
      },
      "outputs": [],
      "source": [
        "import tarfile\n",
        "from zipfile import ZipFile\n",
        "f=tarfile.open('backgrounds_challenge_data.tar.gz')\n",
        "f.extractall('data')\n",
        "f.close()\n"
      ]
    },
    {
      "cell_type": "markdown",
      "metadata": {
        "id": "ooy6Rd-7ovow"
      },
      "source": [
        "## 2. Train Model"
      ]
    },
    {
      "cell_type": "code",
      "execution_count": null,
      "metadata": {
        "colab": {
          "base_uri": "https://localhost:8080/"
        },
        "id": "4oUIktcuoqL5",
        "outputId": "55102661-faaf-4462-ffd6-2d8fbc867f2e"
      },
      "outputs": [
        {
          "name": "stdout",
          "output_type": "stream",
          "text": [
            "Mounted at /content/drive\n"
          ]
        }
      ],
      "source": [
        "from google.colab import drive\n",
        "drive.mount('/content/drive')"
      ]
    },
    {
      "cell_type": "code",
      "execution_count": null,
      "metadata": {
        "id": "Qg_3tvCkpsxp"
      },
      "outputs": [],
      "source": [
        "!cp drive/MyDrive/NN_Project_GiorJac/Background_Challenge/* /content/ -r "
      ]
    },
    {
      "cell_type": "code",
      "execution_count": null,
      "metadata": {
        "colab": {
          "base_uri": "https://localhost:8080/"
        },
        "id": "J1wQsFb9i6lc",
        "outputId": "a63f7321-0030-4364-dd67-710a74995c21"
      },
      "outputs": [],
      "source": [
        "!pip install timm\n",
        "!pip install grad-cam"
      ]
    },
    {
      "cell_type": "code",
      "execution_count": null,
      "metadata": {
        "colab": {
          "base_uri": "https://localhost:8080/"
        },
        "id": "ERixCwiCi7Dx",
        "outputId": "0efb60b3-9e0e-472f-e6c1-492cbe7b15e1"
      },
      "outputs": [
        {
          "name": "stdout",
          "output_type": "stream",
          "text": [
            "Cloning into 'MaskTune_NN'...\n",
            "remote: Enumerating objects: 301, done.\u001b[K\n",
            "remote: Counting objects: 100% (97/97), done.\u001b[K\n",
            "remote: Compressing objects: 100% (75/75), done.\u001b[K\n",
            "remote: Total 301 (delta 49), reused 55 (delta 22), pack-reused 204\u001b[K\n",
            "Receiving objects: 100% (301/301), 31.69 MiB | 13.16 MiB/s, done.\n",
            "Resolving deltas: 100% (143/143), done.\n"
          ]
        }
      ],
      "source": [
        "#only in google colab\n",
        "!git clone https://github.com/Giordano-Cicchetti/MaskTune_NN/\n",
        "!cp MaskTune_NN/IN9L/* /content -r\n",
        "!rm MaskTune_NN/ -r"
      ]
    },
    {
      "cell_type": "markdown",
      "metadata": {
        "id": "JDe_qQT8g5nw"
      },
      "source": [
        "#2. TRAIN MODEL\n"
      ]
    },
    {
      "cell_type": "code",
      "execution_count": null,
      "metadata": {
        "colab": {
          "base_uri": "https://localhost:8080/"
        },
        "id": "i-R0bUxUhQ9y",
        "outputId": "8394409e-cd61-4430-d094-945129d42957"
      },
      "outputs": [
        {
          "data": {
            "text/plain": [
              "device(type='cuda')"
            ]
          },
          "execution_count": 1,
          "metadata": {},
          "output_type": "execute_result"
        }
      ],
      "source": [
        "import torch\n",
        "# Device configuration\n",
        "device = torch.device('cuda' if torch.cuda.is_available() else 'cpu')\n",
        "device"
      ]
    },
    {
      "cell_type": "code",
      "execution_count": null,
      "metadata": {
        "colab": {
          "base_uri": "https://localhost:8080/"
        },
        "id": "MVTui7lug_Jn",
        "outputId": "56fa5a4b-c628-48ad-a214-d2586a4dfcb1"
      },
      "outputs": [
        {
          "name": "stderr",
          "output_type": "stream",
          "text": [
            "/usr/local/lib/python3.8/dist-packages/torchvision/transforms/transforms.py:899: UserWarning: Argument 'interpolation' of type int is deprecated since 0.13 and will be removed in 0.15. Please use InterpolationMode enum.\n",
            "  warnings.warn(\n"
          ]
        },
        {
          "name": "stdout",
          "output_type": "stream",
          "text": [
            "---------- indexing train data ----------\n"
          ]
        },
        {
          "name": "stderr",
          "output_type": "stream",
          "text": [
            "100%|██████████| 9/9 [00:00<00:00, 39.20it/s]\n"
          ]
        },
        {
          "name": "stdout",
          "output_type": "stream",
          "text": [
            "---------- indexing val data ----------\n"
          ]
        },
        {
          "name": "stderr",
          "output_type": "stream",
          "text": [
            "100%|██████████| 9/9 [00:00<00:00, 458.39it/s]\n"
          ]
        },
        {
          "name": "stdout",
          "output_type": "stream",
          "text": [
            "---------- indexing original data ----------\n"
          ]
        },
        {
          "name": "stderr",
          "output_type": "stream",
          "text": [
            "100%|██████████| 9/9 [00:00<00:00, 308.01it/s]\n"
          ]
        },
        {
          "name": "stdout",
          "output_type": "stream",
          "text": [
            "---------- indexing mixed_same data ----------\n"
          ]
        },
        {
          "name": "stderr",
          "output_type": "stream",
          "text": [
            "100%|██████████| 9/9 [00:00<00:00, 459.52it/s]\n"
          ]
        },
        {
          "name": "stdout",
          "output_type": "stream",
          "text": [
            "---------- indexing mixed_rand data ----------\n"
          ]
        },
        {
          "name": "stderr",
          "output_type": "stream",
          "text": [
            "100%|██████████| 9/9 [00:00<00:00, 418.73it/s]\n"
          ]
        },
        {
          "name": "stdout",
          "output_type": "stream",
          "text": [
            "---------- indexing only_fg data ----------\n"
          ]
        },
        {
          "name": "stderr",
          "output_type": "stream",
          "text": [
            "100%|██████████| 9/9 [00:00<00:00, 530.16it/s]\n"
          ]
        }
      ],
      "source": [
        "from TrainIN9l import *\n",
        "train=BackgroundChallenge_Train(device=device)"
      ]
    },
    {
      "cell_type": "code",
      "execution_count": null,
      "metadata": {
        "colab": {
          "base_uri": "https://localhost:8080/",
          "height": 328
        },
        "id": "zyAHATSLiY4_",
        "outputId": "c3d8e627-78f7-44a3-c1b3-8f3152989994"
      },
      "outputs": [
        {
          "name": "stderr",
          "output_type": "stream",
          "text": [
            "train epoch 0:   1%|          | 3/355 [00:04<07:55,  1.35s/it, loss=1.37, accuracy=0.909]\n"
          ]
        },
        {
          "ename": "KeyboardInterrupt",
          "evalue": "ignored",
          "output_type": "error",
          "traceback": [
            "\u001b[0;31m---------------------------------------------------------------------------\u001b[0m",
            "\u001b[0;31mKeyboardInterrupt\u001b[0m                         Traceback (most recent call last)",
            "\u001b[0;32m<ipython-input-12-2f408cb8dfe0>\u001b[0m in \u001b[0;36m<module>\u001b[0;34m\u001b[0m\n\u001b[0;32m----> 1\u001b[0;31m \u001b[0mtrain\u001b[0m\u001b[0;34m.\u001b[0m\u001b[0mtrain_erm\u001b[0m\u001b[0;34m(\u001b[0m\u001b[0;34m)\u001b[0m\u001b[0;34m\u001b[0m\u001b[0;34m\u001b[0m\u001b[0m\n\u001b[0m",
            "\u001b[0;32m/content/train.py\u001b[0m in \u001b[0;36mtrain_erm\u001b[0;34m(self, epochs, best_resume_checkpoint_path, last_resume_checkpoint_path)\u001b[0m\n\u001b[1;32m    283\u001b[0m             \u001b[0mself\u001b[0m\u001b[0;34m.\u001b[0m\u001b[0mcurrent_epoch\u001b[0m \u001b[0;34m=\u001b[0m \u001b[0mcurrent_epoch\u001b[0m\u001b[0;34m\u001b[0m\u001b[0;34m\u001b[0m\u001b[0m\n\u001b[1;32m    284\u001b[0m             \u001b[0;31m#Run a train epoch\u001b[0m\u001b[0;34m\u001b[0m\u001b[0;34m\u001b[0m\u001b[0;34m\u001b[0m\u001b[0m\n\u001b[0;32m--> 285\u001b[0;31m             self.run_an_epoch(\n\u001b[0m\u001b[1;32m    286\u001b[0m                 data_loader=self.train_loader, epoch=current_epoch, mode=\"train\",device=self.device)\n\u001b[1;32m    287\u001b[0m             \u001b[0;31m#Run a validation epoch and save the validation accuracy\u001b[0m\u001b[0;34m\u001b[0m\u001b[0;34m\u001b[0m\u001b[0;34m\u001b[0m\u001b[0m\n",
            "\u001b[0;32m/content/train.py\u001b[0m in \u001b[0;36mrun_an_epoch\u001b[0;34m(self, data_loader, epoch, mode, device)\u001b[0m\n\u001b[1;32m    228\u001b[0m                 \u001b[0;34mf\"{mode} epoch: {epoch}\"\u001b[0m\u001b[0;34m\u001b[0m\u001b[0;34m\u001b[0m\u001b[0m\n\u001b[1;32m    229\u001b[0m             )\n\u001b[0;32m--> 230\u001b[0;31m             \u001b[0;32mfor\u001b[0m \u001b[0mdata\u001b[0m \u001b[0;32min\u001b[0m \u001b[0mprogress_bar\u001b[0m\u001b[0;34m:\u001b[0m\u001b[0;34m\u001b[0m\u001b[0;34m\u001b[0m\u001b[0m\n\u001b[0m\u001b[1;32m    231\u001b[0m                 \u001b[0mprogress_bar\u001b[0m\u001b[0;34m.\u001b[0m\u001b[0mset_description\u001b[0m\u001b[0;34m(\u001b[0m\u001b[0;34mf'{mode} epoch {epoch}'\u001b[0m\u001b[0;34m)\u001b[0m\u001b[0;34m\u001b[0m\u001b[0;34m\u001b[0m\u001b[0m\n\u001b[1;32m    232\u001b[0m                 \u001b[0;31m#Take batch of inputs in variable X and corrispondent labels in variable y\u001b[0m\u001b[0;34m\u001b[0m\u001b[0;34m\u001b[0m\u001b[0;34m\u001b[0m\u001b[0m\n",
            "\u001b[0;32m/usr/local/lib/python3.8/dist-packages/tqdm/std.py\u001b[0m in \u001b[0;36m__iter__\u001b[0;34m(self)\u001b[0m\n\u001b[1;32m   1193\u001b[0m \u001b[0;34m\u001b[0m\u001b[0m\n\u001b[1;32m   1194\u001b[0m         \u001b[0;32mtry\u001b[0m\u001b[0;34m:\u001b[0m\u001b[0;34m\u001b[0m\u001b[0;34m\u001b[0m\u001b[0m\n\u001b[0;32m-> 1195\u001b[0;31m             \u001b[0;32mfor\u001b[0m \u001b[0mobj\u001b[0m \u001b[0;32min\u001b[0m \u001b[0miterable\u001b[0m\u001b[0;34m:\u001b[0m\u001b[0;34m\u001b[0m\u001b[0;34m\u001b[0m\u001b[0m\n\u001b[0m\u001b[1;32m   1196\u001b[0m                 \u001b[0;32myield\u001b[0m \u001b[0mobj\u001b[0m\u001b[0;34m\u001b[0m\u001b[0;34m\u001b[0m\u001b[0m\n\u001b[1;32m   1197\u001b[0m                 \u001b[0;31m# Update and possibly print the progressbar.\u001b[0m\u001b[0;34m\u001b[0m\u001b[0;34m\u001b[0m\u001b[0;34m\u001b[0m\u001b[0m\n",
            "\u001b[0;32m/usr/local/lib/python3.8/dist-packages/torch/utils/data/dataloader.py\u001b[0m in \u001b[0;36m__next__\u001b[0;34m(self)\u001b[0m\n\u001b[1;32m    626\u001b[0m                 \u001b[0;31m# TODO(https://github.com/pytorch/pytorch/issues/76750)\u001b[0m\u001b[0;34m\u001b[0m\u001b[0;34m\u001b[0m\u001b[0;34m\u001b[0m\u001b[0m\n\u001b[1;32m    627\u001b[0m                 \u001b[0mself\u001b[0m\u001b[0;34m.\u001b[0m\u001b[0m_reset\u001b[0m\u001b[0;34m(\u001b[0m\u001b[0;34m)\u001b[0m  \u001b[0;31m# type: ignore[call-arg]\u001b[0m\u001b[0;34m\u001b[0m\u001b[0;34m\u001b[0m\u001b[0m\n\u001b[0;32m--> 628\u001b[0;31m             \u001b[0mdata\u001b[0m \u001b[0;34m=\u001b[0m \u001b[0mself\u001b[0m\u001b[0;34m.\u001b[0m\u001b[0m_next_data\u001b[0m\u001b[0;34m(\u001b[0m\u001b[0;34m)\u001b[0m\u001b[0;34m\u001b[0m\u001b[0;34m\u001b[0m\u001b[0m\n\u001b[0m\u001b[1;32m    629\u001b[0m             \u001b[0mself\u001b[0m\u001b[0;34m.\u001b[0m\u001b[0m_num_yielded\u001b[0m \u001b[0;34m+=\u001b[0m \u001b[0;36m1\u001b[0m\u001b[0;34m\u001b[0m\u001b[0;34m\u001b[0m\u001b[0m\n\u001b[1;32m    630\u001b[0m             \u001b[0;32mif\u001b[0m \u001b[0mself\u001b[0m\u001b[0;34m.\u001b[0m\u001b[0m_dataset_kind\u001b[0m \u001b[0;34m==\u001b[0m \u001b[0m_DatasetKind\u001b[0m\u001b[0;34m.\u001b[0m\u001b[0mIterable\u001b[0m \u001b[0;32mand\u001b[0m\u001b[0;31m \u001b[0m\u001b[0;31m\\\u001b[0m\u001b[0;34m\u001b[0m\u001b[0;34m\u001b[0m\u001b[0m\n",
            "\u001b[0;32m/usr/local/lib/python3.8/dist-packages/torch/utils/data/dataloader.py\u001b[0m in \u001b[0;36m_next_data\u001b[0;34m(self)\u001b[0m\n\u001b[1;32m   1314\u001b[0m \u001b[0;34m\u001b[0m\u001b[0m\n\u001b[1;32m   1315\u001b[0m             \u001b[0;32massert\u001b[0m \u001b[0;32mnot\u001b[0m \u001b[0mself\u001b[0m\u001b[0;34m.\u001b[0m\u001b[0m_shutdown\u001b[0m \u001b[0;32mand\u001b[0m \u001b[0mself\u001b[0m\u001b[0;34m.\u001b[0m\u001b[0m_tasks_outstanding\u001b[0m \u001b[0;34m>\u001b[0m \u001b[0;36m0\u001b[0m\u001b[0;34m\u001b[0m\u001b[0;34m\u001b[0m\u001b[0m\n\u001b[0;32m-> 1316\u001b[0;31m             \u001b[0midx\u001b[0m\u001b[0;34m,\u001b[0m \u001b[0mdata\u001b[0m \u001b[0;34m=\u001b[0m \u001b[0mself\u001b[0m\u001b[0;34m.\u001b[0m\u001b[0m_get_data\u001b[0m\u001b[0;34m(\u001b[0m\u001b[0;34m)\u001b[0m\u001b[0;34m\u001b[0m\u001b[0;34m\u001b[0m\u001b[0m\n\u001b[0m\u001b[1;32m   1317\u001b[0m             \u001b[0mself\u001b[0m\u001b[0;34m.\u001b[0m\u001b[0m_tasks_outstanding\u001b[0m \u001b[0;34m-=\u001b[0m \u001b[0;36m1\u001b[0m\u001b[0;34m\u001b[0m\u001b[0;34m\u001b[0m\u001b[0m\n\u001b[1;32m   1318\u001b[0m             \u001b[0;32mif\u001b[0m \u001b[0mself\u001b[0m\u001b[0;34m.\u001b[0m\u001b[0m_dataset_kind\u001b[0m \u001b[0;34m==\u001b[0m \u001b[0m_DatasetKind\u001b[0m\u001b[0;34m.\u001b[0m\u001b[0mIterable\u001b[0m\u001b[0;34m:\u001b[0m\u001b[0;34m\u001b[0m\u001b[0;34m\u001b[0m\u001b[0m\n",
            "\u001b[0;32m/usr/local/lib/python3.8/dist-packages/torch/utils/data/dataloader.py\u001b[0m in \u001b[0;36m_get_data\u001b[0;34m(self)\u001b[0m\n\u001b[1;32m   1280\u001b[0m         \u001b[0;32melse\u001b[0m\u001b[0;34m:\u001b[0m\u001b[0;34m\u001b[0m\u001b[0;34m\u001b[0m\u001b[0m\n\u001b[1;32m   1281\u001b[0m             \u001b[0;32mwhile\u001b[0m \u001b[0;32mTrue\u001b[0m\u001b[0;34m:\u001b[0m\u001b[0;34m\u001b[0m\u001b[0;34m\u001b[0m\u001b[0m\n\u001b[0;32m-> 1282\u001b[0;31m                 \u001b[0msuccess\u001b[0m\u001b[0;34m,\u001b[0m \u001b[0mdata\u001b[0m \u001b[0;34m=\u001b[0m \u001b[0mself\u001b[0m\u001b[0;34m.\u001b[0m\u001b[0m_try_get_data\u001b[0m\u001b[0;34m(\u001b[0m\u001b[0;34m)\u001b[0m\u001b[0;34m\u001b[0m\u001b[0;34m\u001b[0m\u001b[0m\n\u001b[0m\u001b[1;32m   1283\u001b[0m                 \u001b[0;32mif\u001b[0m \u001b[0msuccess\u001b[0m\u001b[0;34m:\u001b[0m\u001b[0;34m\u001b[0m\u001b[0;34m\u001b[0m\u001b[0m\n\u001b[1;32m   1284\u001b[0m                     \u001b[0;32mreturn\u001b[0m \u001b[0mdata\u001b[0m\u001b[0;34m\u001b[0m\u001b[0;34m\u001b[0m\u001b[0m\n",
            "\u001b[0;32m/usr/local/lib/python3.8/dist-packages/torch/utils/data/dataloader.py\u001b[0m in \u001b[0;36m_try_get_data\u001b[0;34m(self, timeout)\u001b[0m\n\u001b[1;32m   1118\u001b[0m         \u001b[0;31m#   (bool: whether successfully get data, any: data if successful else None)\u001b[0m\u001b[0;34m\u001b[0m\u001b[0;34m\u001b[0m\u001b[0;34m\u001b[0m\u001b[0m\n\u001b[1;32m   1119\u001b[0m         \u001b[0;32mtry\u001b[0m\u001b[0;34m:\u001b[0m\u001b[0;34m\u001b[0m\u001b[0;34m\u001b[0m\u001b[0m\n\u001b[0;32m-> 1120\u001b[0;31m             \u001b[0mdata\u001b[0m \u001b[0;34m=\u001b[0m \u001b[0mself\u001b[0m\u001b[0;34m.\u001b[0m\u001b[0m_data_queue\u001b[0m\u001b[0;34m.\u001b[0m\u001b[0mget\u001b[0m\u001b[0;34m(\u001b[0m\u001b[0mtimeout\u001b[0m\u001b[0;34m=\u001b[0m\u001b[0mtimeout\u001b[0m\u001b[0;34m)\u001b[0m\u001b[0;34m\u001b[0m\u001b[0;34m\u001b[0m\u001b[0m\n\u001b[0m\u001b[1;32m   1121\u001b[0m             \u001b[0;32mreturn\u001b[0m \u001b[0;34m(\u001b[0m\u001b[0;32mTrue\u001b[0m\u001b[0;34m,\u001b[0m \u001b[0mdata\u001b[0m\u001b[0;34m)\u001b[0m\u001b[0;34m\u001b[0m\u001b[0;34m\u001b[0m\u001b[0m\n\u001b[1;32m   1122\u001b[0m         \u001b[0;32mexcept\u001b[0m \u001b[0mException\u001b[0m \u001b[0;32mas\u001b[0m \u001b[0me\u001b[0m\u001b[0;34m:\u001b[0m\u001b[0;34m\u001b[0m\u001b[0;34m\u001b[0m\u001b[0m\n",
            "\u001b[0;32m/usr/lib/python3.8/multiprocessing/queues.py\u001b[0m in \u001b[0;36mget\u001b[0;34m(self, block, timeout)\u001b[0m\n\u001b[1;32m    105\u001b[0m                 \u001b[0;32mif\u001b[0m \u001b[0mblock\u001b[0m\u001b[0;34m:\u001b[0m\u001b[0;34m\u001b[0m\u001b[0;34m\u001b[0m\u001b[0m\n\u001b[1;32m    106\u001b[0m                     \u001b[0mtimeout\u001b[0m \u001b[0;34m=\u001b[0m \u001b[0mdeadline\u001b[0m \u001b[0;34m-\u001b[0m \u001b[0mtime\u001b[0m\u001b[0;34m.\u001b[0m\u001b[0mmonotonic\u001b[0m\u001b[0;34m(\u001b[0m\u001b[0;34m)\u001b[0m\u001b[0;34m\u001b[0m\u001b[0;34m\u001b[0m\u001b[0m\n\u001b[0;32m--> 107\u001b[0;31m                     \u001b[0;32mif\u001b[0m \u001b[0;32mnot\u001b[0m \u001b[0mself\u001b[0m\u001b[0;34m.\u001b[0m\u001b[0m_poll\u001b[0m\u001b[0;34m(\u001b[0m\u001b[0mtimeout\u001b[0m\u001b[0;34m)\u001b[0m\u001b[0;34m:\u001b[0m\u001b[0;34m\u001b[0m\u001b[0;34m\u001b[0m\u001b[0m\n\u001b[0m\u001b[1;32m    108\u001b[0m                         \u001b[0;32mraise\u001b[0m \u001b[0mEmpty\u001b[0m\u001b[0;34m\u001b[0m\u001b[0;34m\u001b[0m\u001b[0m\n\u001b[1;32m    109\u001b[0m                 \u001b[0;32melif\u001b[0m \u001b[0;32mnot\u001b[0m \u001b[0mself\u001b[0m\u001b[0;34m.\u001b[0m\u001b[0m_poll\u001b[0m\u001b[0;34m(\u001b[0m\u001b[0;34m)\u001b[0m\u001b[0;34m:\u001b[0m\u001b[0;34m\u001b[0m\u001b[0;34m\u001b[0m\u001b[0m\n",
            "\u001b[0;32m/usr/lib/python3.8/multiprocessing/connection.py\u001b[0m in \u001b[0;36mpoll\u001b[0;34m(self, timeout)\u001b[0m\n\u001b[1;32m    255\u001b[0m         \u001b[0mself\u001b[0m\u001b[0;34m.\u001b[0m\u001b[0m_check_closed\u001b[0m\u001b[0;34m(\u001b[0m\u001b[0;34m)\u001b[0m\u001b[0;34m\u001b[0m\u001b[0;34m\u001b[0m\u001b[0m\n\u001b[1;32m    256\u001b[0m         \u001b[0mself\u001b[0m\u001b[0;34m.\u001b[0m\u001b[0m_check_readable\u001b[0m\u001b[0;34m(\u001b[0m\u001b[0;34m)\u001b[0m\u001b[0;34m\u001b[0m\u001b[0;34m\u001b[0m\u001b[0m\n\u001b[0;32m--> 257\u001b[0;31m         \u001b[0;32mreturn\u001b[0m \u001b[0mself\u001b[0m\u001b[0;34m.\u001b[0m\u001b[0m_poll\u001b[0m\u001b[0;34m(\u001b[0m\u001b[0mtimeout\u001b[0m\u001b[0;34m)\u001b[0m\u001b[0;34m\u001b[0m\u001b[0;34m\u001b[0m\u001b[0m\n\u001b[0m\u001b[1;32m    258\u001b[0m \u001b[0;34m\u001b[0m\u001b[0m\n\u001b[1;32m    259\u001b[0m     \u001b[0;32mdef\u001b[0m \u001b[0m__enter__\u001b[0m\u001b[0;34m(\u001b[0m\u001b[0mself\u001b[0m\u001b[0;34m)\u001b[0m\u001b[0;34m:\u001b[0m\u001b[0;34m\u001b[0m\u001b[0;34m\u001b[0m\u001b[0m\n",
            "\u001b[0;32m/usr/lib/python3.8/multiprocessing/connection.py\u001b[0m in \u001b[0;36m_poll\u001b[0;34m(self, timeout)\u001b[0m\n\u001b[1;32m    422\u001b[0m \u001b[0;34m\u001b[0m\u001b[0m\n\u001b[1;32m    423\u001b[0m     \u001b[0;32mdef\u001b[0m \u001b[0m_poll\u001b[0m\u001b[0;34m(\u001b[0m\u001b[0mself\u001b[0m\u001b[0;34m,\u001b[0m \u001b[0mtimeout\u001b[0m\u001b[0;34m)\u001b[0m\u001b[0;34m:\u001b[0m\u001b[0;34m\u001b[0m\u001b[0;34m\u001b[0m\u001b[0m\n\u001b[0;32m--> 424\u001b[0;31m         \u001b[0mr\u001b[0m \u001b[0;34m=\u001b[0m \u001b[0mwait\u001b[0m\u001b[0;34m(\u001b[0m\u001b[0;34m[\u001b[0m\u001b[0mself\u001b[0m\u001b[0;34m]\u001b[0m\u001b[0;34m,\u001b[0m \u001b[0mtimeout\u001b[0m\u001b[0;34m)\u001b[0m\u001b[0;34m\u001b[0m\u001b[0;34m\u001b[0m\u001b[0m\n\u001b[0m\u001b[1;32m    425\u001b[0m         \u001b[0;32mreturn\u001b[0m \u001b[0mbool\u001b[0m\u001b[0;34m(\u001b[0m\u001b[0mr\u001b[0m\u001b[0;34m)\u001b[0m\u001b[0;34m\u001b[0m\u001b[0;34m\u001b[0m\u001b[0m\n\u001b[1;32m    426\u001b[0m \u001b[0;34m\u001b[0m\u001b[0m\n",
            "\u001b[0;32m/usr/lib/python3.8/multiprocessing/connection.py\u001b[0m in \u001b[0;36mwait\u001b[0;34m(object_list, timeout)\u001b[0m\n\u001b[1;32m    929\u001b[0m \u001b[0;34m\u001b[0m\u001b[0m\n\u001b[1;32m    930\u001b[0m             \u001b[0;32mwhile\u001b[0m \u001b[0;32mTrue\u001b[0m\u001b[0;34m:\u001b[0m\u001b[0;34m\u001b[0m\u001b[0;34m\u001b[0m\u001b[0m\n\u001b[0;32m--> 931\u001b[0;31m                 \u001b[0mready\u001b[0m \u001b[0;34m=\u001b[0m \u001b[0mselector\u001b[0m\u001b[0;34m.\u001b[0m\u001b[0mselect\u001b[0m\u001b[0;34m(\u001b[0m\u001b[0mtimeout\u001b[0m\u001b[0;34m)\u001b[0m\u001b[0;34m\u001b[0m\u001b[0;34m\u001b[0m\u001b[0m\n\u001b[0m\u001b[1;32m    932\u001b[0m                 \u001b[0;32mif\u001b[0m \u001b[0mready\u001b[0m\u001b[0;34m:\u001b[0m\u001b[0;34m\u001b[0m\u001b[0;34m\u001b[0m\u001b[0m\n\u001b[1;32m    933\u001b[0m                     \u001b[0;32mreturn\u001b[0m \u001b[0;34m[\u001b[0m\u001b[0mkey\u001b[0m\u001b[0;34m.\u001b[0m\u001b[0mfileobj\u001b[0m \u001b[0;32mfor\u001b[0m \u001b[0;34m(\u001b[0m\u001b[0mkey\u001b[0m\u001b[0;34m,\u001b[0m \u001b[0mevents\u001b[0m\u001b[0;34m)\u001b[0m \u001b[0;32min\u001b[0m \u001b[0mready\u001b[0m\u001b[0;34m]\u001b[0m\u001b[0;34m\u001b[0m\u001b[0;34m\u001b[0m\u001b[0m\n",
            "\u001b[0;32m/usr/lib/python3.8/selectors.py\u001b[0m in \u001b[0;36mselect\u001b[0;34m(self, timeout)\u001b[0m\n\u001b[1;32m    413\u001b[0m         \u001b[0mready\u001b[0m \u001b[0;34m=\u001b[0m \u001b[0;34m[\u001b[0m\u001b[0;34m]\u001b[0m\u001b[0;34m\u001b[0m\u001b[0;34m\u001b[0m\u001b[0m\n\u001b[1;32m    414\u001b[0m         \u001b[0;32mtry\u001b[0m\u001b[0;34m:\u001b[0m\u001b[0;34m\u001b[0m\u001b[0;34m\u001b[0m\u001b[0m\n\u001b[0;32m--> 415\u001b[0;31m             \u001b[0mfd_event_list\u001b[0m \u001b[0;34m=\u001b[0m \u001b[0mself\u001b[0m\u001b[0;34m.\u001b[0m\u001b[0m_selector\u001b[0m\u001b[0;34m.\u001b[0m\u001b[0mpoll\u001b[0m\u001b[0;34m(\u001b[0m\u001b[0mtimeout\u001b[0m\u001b[0;34m)\u001b[0m\u001b[0;34m\u001b[0m\u001b[0;34m\u001b[0m\u001b[0m\n\u001b[0m\u001b[1;32m    416\u001b[0m         \u001b[0;32mexcept\u001b[0m \u001b[0mInterruptedError\u001b[0m\u001b[0;34m:\u001b[0m\u001b[0;34m\u001b[0m\u001b[0;34m\u001b[0m\u001b[0m\n\u001b[1;32m    417\u001b[0m             \u001b[0;32mreturn\u001b[0m \u001b[0mready\u001b[0m\u001b[0;34m\u001b[0m\u001b[0;34m\u001b[0m\u001b[0m\n",
            "\u001b[0;31mKeyboardInterrupt\u001b[0m: "
          ]
        }
      ],
      "source": [
        "train.train_erm()"
      ]
    },
    {
      "cell_type": "code",
      "execution_count": null,
      "metadata": {
        "colab": {
          "base_uri": "https://localhost:8080/",
          "height": 745
        },
        "id": "YIONKshhqAyZ",
        "outputId": "d40c9ec0-fdce-41d4-de05-2f0069fa1b84"
      },
      "outputs": [
        {
          "name": "stderr",
          "output_type": "stream",
          "text": [
            "train epoch 13: 100%|██████████| 355/355 [07:12<00:00,  1.22s/it, loss=1.35, accuracy=0.911]\n",
            "validation epoch 13: 100%|██████████| 33/33 [00:34<00:00,  1.04s/it, loss=1.32, accuracy=0.91]\n",
            "train epoch 14: 100%|██████████| 355/355 [07:13<00:00,  1.22s/it, loss=1.28, accuracy=0.916]\n",
            "validation epoch 14: 100%|██████████| 33/33 [00:36<00:00,  1.09s/it, loss=1.26, accuracy=0.916]\n",
            "train epoch 15: 100%|██████████| 355/355 [07:14<00:00,  1.22s/it, loss=1.22, accuracy=0.921]\n",
            "validation epoch 15: 100%|██████████| 33/33 [00:36<00:00,  1.10s/it, loss=1.19, accuracy=0.923]\n",
            "train epoch 16: 100%|██████████| 355/355 [07:13<00:00,  1.22s/it, loss=1.16, accuracy=0.924]\n",
            "validation epoch 16: 100%|██████████| 33/33 [00:36<00:00,  1.09s/it, loss=1.14, accuracy=0.925]\n",
            "train epoch 17: 100%|██████████| 355/355 [07:13<00:00,  1.22s/it, loss=1.09, accuracy=0.929]\n",
            "validation epoch 17: 100%|██████████| 33/33 [00:34<00:00,  1.05s/it, loss=1.07, accuracy=0.93]\n",
            "train epoch 18: 100%|██████████| 355/355 [07:12<00:00,  1.22s/it, loss=1.03, accuracy=0.932]\n",
            "validation epoch 18: 100%|██████████| 33/33 [00:36<00:00,  1.10s/it, loss=1, accuracy=0.938]\n",
            "train epoch 19: 100%|██████████| 355/355 [07:13<00:00,  1.22s/it, loss=0.965, accuracy=0.935]\n",
            "validation epoch 19: 100%|██████████| 33/33 [00:34<00:00,  1.03s/it, loss=0.948, accuracy=0.938]\n",
            "train epoch 20: 100%|██████████| 355/355 [07:13<00:00,  1.22s/it, loss=0.906, accuracy=0.938]\n",
            "validation epoch 20: 100%|██████████| 33/33 [00:34<00:00,  1.05s/it, loss=0.883, accuracy=0.938]\n",
            "train epoch 21: 100%|██████████| 355/355 [07:12<00:00,  1.22s/it, loss=0.849, accuracy=0.941]\n",
            "validation epoch 21: 100%|██████████| 33/33 [00:38<00:00,  1.16s/it, loss=0.829, accuracy=0.939]\n",
            "train epoch 22: 100%|██████████| 355/355 [07:12<00:00,  1.22s/it, loss=0.794, accuracy=0.942]\n",
            "validation epoch 22: 100%|██████████| 33/33 [00:36<00:00,  1.10s/it, loss=0.781, accuracy=0.944]\n",
            "train epoch 23: 100%|██████████| 355/355 [07:12<00:00,  1.22s/it, loss=0.742, accuracy=0.945]\n",
            "validation epoch 23: 100%|██████████| 33/33 [00:36<00:00,  1.10s/it, loss=0.735, accuracy=0.943]\n",
            "train epoch 24: 100%|██████████| 355/355 [07:12<00:00,  1.22s/it, loss=0.695, accuracy=0.945]\n",
            "validation epoch 24: 100%|██████████| 33/33 [00:33<00:00,  1.03s/it, loss=0.68, accuracy=0.947]\n",
            "train epoch 25:   0%|          | 1/355 [00:02<12:37,  2.14s/it, loss=0.721, accuracy=0.93]\n"
          ]
        },
        {
          "ename": "KeyboardInterrupt",
          "evalue": "ignored",
          "output_type": "error",
          "traceback": [
            "\u001b[0;31m---------------------------------------------------------------------------\u001b[0m",
            "\u001b[0;31mKeyboardInterrupt\u001b[0m                         Traceback (most recent call last)",
            "\u001b[0;32m<ipython-input-15-94c79b6e559f>\u001b[0m in \u001b[0;36m<module>\u001b[0;34m\u001b[0m\n\u001b[0;32m----> 1\u001b[0;31m \u001b[0mtrain\u001b[0m\u001b[0;34m.\u001b[0m\u001b[0mtrain_erm\u001b[0m\u001b[0;34m(\u001b[0m\u001b[0mbest_resume_checkpoint_path\u001b[0m\u001b[0;34m=\u001b[0m\u001b[0;34m\"best_erm_model.pt\"\u001b[0m\u001b[0;34m,\u001b[0m\u001b[0mlast_resume_checkpoint_path\u001b[0m\u001b[0;34m=\u001b[0m\u001b[0;34m\"last_erm_model.pt\"\u001b[0m\u001b[0;34m)\u001b[0m\u001b[0;34m\u001b[0m\u001b[0;34m\u001b[0m\u001b[0m\n\u001b[0m",
            "\u001b[0;32m/content/train.py\u001b[0m in \u001b[0;36mtrain_erm\u001b[0;34m(self, epochs, best_resume_checkpoint_path, last_resume_checkpoint_path)\u001b[0m\n\u001b[1;32m    283\u001b[0m             \u001b[0mself\u001b[0m\u001b[0;34m.\u001b[0m\u001b[0mcurrent_epoch\u001b[0m \u001b[0;34m=\u001b[0m \u001b[0mcurrent_epoch\u001b[0m\u001b[0;34m\u001b[0m\u001b[0;34m\u001b[0m\u001b[0m\n\u001b[1;32m    284\u001b[0m             \u001b[0;31m#Run a train epoch\u001b[0m\u001b[0;34m\u001b[0m\u001b[0;34m\u001b[0m\u001b[0;34m\u001b[0m\u001b[0m\n\u001b[0;32m--> 285\u001b[0;31m             self.run_an_epoch(\n\u001b[0m\u001b[1;32m    286\u001b[0m                 data_loader=self.train_loader, epoch=current_epoch, mode=\"train\",device=self.device)\n\u001b[1;32m    287\u001b[0m             \u001b[0;31m#Run a validation epoch and save the validation accuracy\u001b[0m\u001b[0;34m\u001b[0m\u001b[0;34m\u001b[0m\u001b[0;34m\u001b[0m\u001b[0m\n",
            "\u001b[0;32m/content/train.py\u001b[0m in \u001b[0;36mrun_an_epoch\u001b[0;34m(self, data_loader, epoch, mode, device)\u001b[0m\n\u001b[1;32m    232\u001b[0m                 \u001b[0;31m#Take batch of inputs in variable X and corrispondent labels in variable y\u001b[0m\u001b[0;34m\u001b[0m\u001b[0;34m\u001b[0m\u001b[0;34m\u001b[0m\u001b[0m\n\u001b[1;32m    233\u001b[0m                 \u001b[0mX\u001b[0m\u001b[0;34m,\u001b[0m \u001b[0my\u001b[0m \u001b[0;34m=\u001b[0m \u001b[0mdata\u001b[0m\u001b[0;34m[\u001b[0m\u001b[0;36m0\u001b[0m\u001b[0;34m]\u001b[0m\u001b[0;34m,\u001b[0m \u001b[0mdata\u001b[0m\u001b[0;34m[\u001b[0m\u001b[0;36m2\u001b[0m\u001b[0;34m]\u001b[0m\u001b[0;34m\u001b[0m\u001b[0;34m\u001b[0m\u001b[0m\n\u001b[0;32m--> 234\u001b[0;31m                 \u001b[0mX\u001b[0m\u001b[0;34m,\u001b[0m \u001b[0my\u001b[0m \u001b[0;34m=\u001b[0m \u001b[0mX\u001b[0m\u001b[0;34m.\u001b[0m\u001b[0mto\u001b[0m\u001b[0;34m(\u001b[0m\u001b[0mdevice\u001b[0m\u001b[0;34m)\u001b[0m\u001b[0;34m,\u001b[0m \u001b[0my\u001b[0m\u001b[0;34m.\u001b[0m\u001b[0mto\u001b[0m\u001b[0;34m(\u001b[0m\u001b[0mdevice\u001b[0m\u001b[0;34m)\u001b[0m\u001b[0;34m\u001b[0m\u001b[0;34m\u001b[0m\u001b[0m\n\u001b[0m\u001b[1;32m    235\u001b[0m                 \u001b[0;31m#Inference time\u001b[0m\u001b[0;34m\u001b[0m\u001b[0;34m\u001b[0m\u001b[0;34m\u001b[0m\u001b[0m\n\u001b[1;32m    236\u001b[0m                 \u001b[0moutputs\u001b[0m \u001b[0;34m=\u001b[0m \u001b[0mself\u001b[0m\u001b[0;34m.\u001b[0m\u001b[0mmodel\u001b[0m\u001b[0;34m(\u001b[0m\u001b[0mX\u001b[0m\u001b[0;34m)\u001b[0m\u001b[0;34m\u001b[0m\u001b[0;34m\u001b[0m\u001b[0m\n",
            "\u001b[0;31mKeyboardInterrupt\u001b[0m: "
          ]
        }
      ],
      "source": [
        "train.train_erm(best_resume_checkpoint_path=\"best_erm_model.pt\",last_resume_checkpoint_path=\"last_erm_model.pt\")"
      ]
    },
    {
      "cell_type": "code",
      "execution_count": null,
      "metadata": {
        "colab": {
          "base_uri": "https://localhost:8080/",
          "height": 606
        },
        "id": "hC1pK0nCwdf3",
        "outputId": "42728525-141e-4dd1-e334-c82f711a5acd"
      },
      "outputs": [
        {
          "name": "stderr",
          "output_type": "stream",
          "text": [
            "train epoch 25: 100%|██████████| 355/355 [07:12<00:00,  1.22s/it, loss=0.648, accuracy=0.948]\n",
            "validation epoch 25: 100%|██████████| 33/33 [00:34<00:00,  1.04s/it, loss=0.63, accuracy=0.946]\n",
            "train epoch 26: 100%|██████████| 355/355 [07:12<00:00,  1.22s/it, loss=0.607, accuracy=0.949]\n",
            "validation epoch 26: 100%|██████████| 33/33 [00:35<00:00,  1.09s/it, loss=0.596, accuracy=0.946]\n",
            "train epoch 27: 100%|██████████| 355/355 [07:12<00:00,  1.22s/it, loss=0.569, accuracy=0.95]\n",
            "validation epoch 27: 100%|██████████| 33/33 [00:34<00:00,  1.04s/it, loss=0.554, accuracy=0.951]\n",
            "train epoch 28: 100%|██████████| 355/355 [07:12<00:00,  1.22s/it, loss=0.533, accuracy=0.952]\n",
            "validation epoch 28: 100%|██████████| 33/33 [00:33<00:00,  1.02s/it, loss=0.523, accuracy=0.951]\n",
            "train epoch 29: 100%|██████████| 355/355 [07:11<00:00,  1.22s/it, loss=0.499, accuracy=0.953]\n",
            "validation epoch 29: 100%|██████████| 33/33 [00:35<00:00,  1.08s/it, loss=0.488, accuracy=0.955]\n",
            "train epoch 30: 100%|██████████| 355/355 [07:11<00:00,  1.22s/it, loss=0.485, accuracy=0.953]\n",
            "validation epoch 30: 100%|██████████| 33/33 [00:33<00:00,  1.03s/it, loss=0.494, accuracy=0.951]\n",
            "train epoch 31: 100%|██████████| 355/355 [07:11<00:00,  1.22s/it, loss=0.481, accuracy=0.953]\n",
            "validation epoch 31: 100%|██████████| 33/33 [00:33<00:00,  1.02s/it, loss=0.49, accuracy=0.954]\n",
            "train epoch 32: 100%|██████████| 355/355 [07:11<00:00,  1.22s/it, loss=0.476, accuracy=0.953]\n",
            "validation epoch 32: 100%|██████████| 33/33 [00:33<00:00,  1.01s/it, loss=0.485, accuracy=0.949]\n",
            "train epoch 33:   0%|          | 1/355 [00:02<14:54,  2.53s/it, loss=0.482, accuracy=0.953]\n"
          ]
        },
        {
          "ename": "KeyboardInterrupt",
          "evalue": "ignored",
          "output_type": "error",
          "traceback": [
            "\u001b[0;31m---------------------------------------------------------------------------\u001b[0m",
            "\u001b[0;31mKeyboardInterrupt\u001b[0m                         Traceback (most recent call last)",
            "\u001b[0;32m<ipython-input-18-94c79b6e559f>\u001b[0m in \u001b[0;36m<module>\u001b[0;34m\u001b[0m\n\u001b[0;32m----> 1\u001b[0;31m \u001b[0mtrain\u001b[0m\u001b[0;34m.\u001b[0m\u001b[0mtrain_erm\u001b[0m\u001b[0;34m(\u001b[0m\u001b[0mbest_resume_checkpoint_path\u001b[0m\u001b[0;34m=\u001b[0m\u001b[0;34m\"best_erm_model.pt\"\u001b[0m\u001b[0;34m,\u001b[0m\u001b[0mlast_resume_checkpoint_path\u001b[0m\u001b[0;34m=\u001b[0m\u001b[0;34m\"last_erm_model.pt\"\u001b[0m\u001b[0;34m)\u001b[0m\u001b[0;34m\u001b[0m\u001b[0;34m\u001b[0m\u001b[0m\n\u001b[0m",
            "\u001b[0;32m/content/train.py\u001b[0m in \u001b[0;36mtrain_erm\u001b[0;34m(self, epochs, best_resume_checkpoint_path, last_resume_checkpoint_path)\u001b[0m\n\u001b[1;32m    283\u001b[0m             \u001b[0mself\u001b[0m\u001b[0;34m.\u001b[0m\u001b[0mcurrent_epoch\u001b[0m \u001b[0;34m=\u001b[0m \u001b[0mcurrent_epoch\u001b[0m\u001b[0;34m\u001b[0m\u001b[0;34m\u001b[0m\u001b[0m\n\u001b[1;32m    284\u001b[0m             \u001b[0;31m#Run a train epoch\u001b[0m\u001b[0;34m\u001b[0m\u001b[0;34m\u001b[0m\u001b[0;34m\u001b[0m\u001b[0m\n\u001b[0;32m--> 285\u001b[0;31m             self.run_an_epoch(\n\u001b[0m\u001b[1;32m    286\u001b[0m                 data_loader=self.train_loader, epoch=current_epoch, mode=\"train\",device=self.device)\n\u001b[1;32m    287\u001b[0m             \u001b[0;31m#Run a validation epoch and save the validation accuracy\u001b[0m\u001b[0;34m\u001b[0m\u001b[0;34m\u001b[0m\u001b[0;34m\u001b[0m\u001b[0m\n",
            "\u001b[0;32m/content/train.py\u001b[0m in \u001b[0;36mrun_an_epoch\u001b[0;34m(self, data_loader, epoch, mode, device)\u001b[0m\n\u001b[1;32m    238\u001b[0m                 \u001b[0;31m#Loss calculation\u001b[0m\u001b[0;34m\u001b[0m\u001b[0;34m\u001b[0m\u001b[0;34m\u001b[0m\u001b[0m\n\u001b[1;32m    239\u001b[0m                 \u001b[0mloss\u001b[0m \u001b[0;34m=\u001b[0m \u001b[0mself\u001b[0m\u001b[0;34m.\u001b[0m\u001b[0mloss_function\u001b[0m\u001b[0;34m(\u001b[0m\u001b[0moutputs\u001b[0m\u001b[0;34m,\u001b[0m \u001b[0my\u001b[0m\u001b[0;34m)\u001b[0m\u001b[0;34m\u001b[0m\u001b[0;34m\u001b[0m\u001b[0m\n\u001b[0;32m--> 240\u001b[0;31m                 \u001b[0mlosses\u001b[0m\u001b[0;34m.\u001b[0m\u001b[0mupdate\u001b[0m\u001b[0;34m(\u001b[0m\u001b[0mloss\u001b[0m\u001b[0;34m.\u001b[0m\u001b[0mitem\u001b[0m\u001b[0;34m(\u001b[0m\u001b[0;34m)\u001b[0m\u001b[0;34m,\u001b[0m \u001b[0mX\u001b[0m\u001b[0;34m.\u001b[0m\u001b[0msize\u001b[0m\u001b[0;34m(\u001b[0m\u001b[0;36m0\u001b[0m\u001b[0;34m)\u001b[0m\u001b[0;34m)\u001b[0m\u001b[0;34m\u001b[0m\u001b[0;34m\u001b[0m\u001b[0m\n\u001b[0m\u001b[1;32m    241\u001b[0m                 \u001b[0;31m#Use softmax and then argmax to assign integer label in [0,1] to outputs\u001b[0m\u001b[0;34m\u001b[0m\u001b[0;34m\u001b[0m\u001b[0;34m\u001b[0m\u001b[0m\n\u001b[1;32m    242\u001b[0m                 \u001b[0moutput_probabilities\u001b[0m \u001b[0;34m=\u001b[0m \u001b[0mF\u001b[0m\u001b[0;34m.\u001b[0m\u001b[0msoftmax\u001b[0m\u001b[0;34m(\u001b[0m\u001b[0moutputs\u001b[0m\u001b[0;34m,\u001b[0m \u001b[0mdim\u001b[0m\u001b[0;34m=\u001b[0m\u001b[0;36m1\u001b[0m\u001b[0;34m)\u001b[0m\u001b[0;34m\u001b[0m\u001b[0;34m\u001b[0m\u001b[0m\n",
            "\u001b[0;31mKeyboardInterrupt\u001b[0m: "
          ]
        }
      ],
      "source": [
        "train.train_erm(best_resume_checkpoint_path=\"best_erm_model.pt\",last_resume_checkpoint_path=\"last_erm_model.pt\")"
      ]
    },
    {
      "cell_type": "code",
      "execution_count": null,
      "metadata": {
        "colab": {
          "base_uri": "https://localhost:8080/",
          "height": 987
        },
        "id": "kBx579sJNKls",
        "outputId": "6f6e6687-0706-4705-efb7-5e4271df4333"
      },
      "outputs": [
        {
          "name": "stderr",
          "output_type": "stream",
          "text": [
            "train epoch 33: 100%|██████████| 355/355 [08:10<00:00,  1.38s/it, loss=0.476, accuracy=0.953]\n",
            "validation epoch 33: 100%|██████████| 33/33 [00:35<00:00,  1.07s/it, loss=0.484, accuracy=0.953]\n",
            "train epoch 34: 100%|██████████| 355/355 [08:05<00:00,  1.37s/it, loss=0.473, accuracy=0.953]\n",
            "validation epoch 34: 100%|██████████| 33/33 [00:33<00:00,  1.00s/it, loss=0.475, accuracy=0.954]\n",
            "train epoch 35: 100%|██████████| 355/355 [08:05<00:00,  1.37s/it, loss=0.47, accuracy=0.954]\n",
            "validation epoch 35: 100%|██████████| 33/33 [00:33<00:00,  1.02s/it, loss=0.475, accuracy=0.955]\n",
            "train epoch 36: 100%|██████████| 355/355 [08:04<00:00,  1.36s/it, loss=0.466, accuracy=0.954]\n",
            "validation epoch 36: 100%|██████████| 33/33 [00:32<00:00,  1.03it/s, loss=0.469, accuracy=0.952]\n",
            "train epoch 37: 100%|██████████| 355/355 [08:05<00:00,  1.37s/it, loss=0.465, accuracy=0.952]\n",
            "validation epoch 37: 100%|██████████| 33/33 [00:34<00:00,  1.04s/it, loss=0.465, accuracy=0.953]\n",
            "train epoch 38: 100%|██████████| 355/355 [08:06<00:00,  1.37s/it, loss=0.461, accuracy=0.954]\n",
            "validation epoch 38: 100%|██████████| 33/33 [00:32<00:00,  1.02it/s, loss=0.474, accuracy=0.954]\n",
            "train epoch 39: 100%|██████████| 355/355 [08:04<00:00,  1.36s/it, loss=0.46, accuracy=0.954]\n",
            "validation epoch 39: 100%|██████████| 33/33 [00:33<00:00,  1.02s/it, loss=0.468, accuracy=0.954]\n",
            "train epoch 40: 100%|██████████| 355/355 [08:05<00:00,  1.37s/it, loss=0.457, accuracy=0.953]\n",
            "validation epoch 40: 100%|██████████| 33/33 [00:32<00:00,  1.02it/s, loss=0.465, accuracy=0.954]\n",
            "train epoch 41: 100%|██████████| 355/355 [08:04<00:00,  1.36s/it, loss=0.453, accuracy=0.954]\n",
            "validation epoch 41: 100%|██████████| 33/33 [00:35<00:00,  1.07s/it, loss=0.459, accuracy=0.951]\n",
            "train epoch 42: 100%|██████████| 355/355 [08:04<00:00,  1.36s/it, loss=0.452, accuracy=0.953]\n",
            "validation epoch 42: 100%|██████████| 33/33 [00:32<00:00,  1.03it/s, loss=0.456, accuracy=0.954]\n",
            "train epoch 43: 100%|██████████| 355/355 [08:05<00:00,  1.37s/it, loss=0.449, accuracy=0.955]\n",
            "validation epoch 43: 100%|██████████| 33/33 [00:32<00:00,  1.02it/s, loss=0.456, accuracy=0.954]\n",
            "train epoch 44: 100%|██████████| 355/355 [08:04<00:00,  1.36s/it, loss=0.446, accuracy=0.954]\n",
            "validation epoch 44: 100%|██████████| 33/33 [00:32<00:00,  1.03it/s, loss=0.453, accuracy=0.955]\n",
            "train epoch 45: 100%|██████████| 355/355 [08:05<00:00,  1.37s/it, loss=0.443, accuracy=0.954]\n",
            "validation epoch 45: 100%|██████████| 33/33 [00:31<00:00,  1.04it/s, loss=0.453, accuracy=0.955]\n",
            "train epoch 46: 100%|██████████| 355/355 [08:05<00:00,  1.37s/it, loss=0.441, accuracy=0.955]\n",
            "validation epoch 46: 100%|██████████| 33/33 [00:32<00:00,  1.03it/s, loss=0.44, accuracy=0.955]\n",
            "train epoch 47: 100%|██████████| 355/355 [08:04<00:00,  1.37s/it, loss=0.439, accuracy=0.955]\n",
            "validation epoch 47: 100%|██████████| 33/33 [00:31<00:00,  1.04it/s, loss=0.447, accuracy=0.954]\n",
            "train epoch 48: 100%|██████████| 355/355 [08:05<00:00,  1.37s/it, loss=0.436, accuracy=0.955]\n",
            "validation epoch 48: 100%|██████████| 33/33 [00:31<00:00,  1.03it/s, loss=0.443, accuracy=0.956]\n",
            "train epoch 49: 100%|██████████| 355/355 [08:05<00:00,  1.37s/it, loss=0.434, accuracy=0.955]\n",
            "validation epoch 49: 100%|██████████| 33/33 [00:32<00:00,  1.03it/s, loss=0.437, accuracy=0.957]\n",
            "train epoch 50: 100%|██████████| 355/355 [08:05<00:00,  1.37s/it, loss=0.431, accuracy=0.955]\n",
            "validation epoch 50: 100%|██████████| 33/33 [00:32<00:00,  1.02it/s, loss=0.436, accuracy=0.957]\n",
            "train epoch 51: 100%|██████████| 355/355 [08:04<00:00,  1.37s/it, loss=0.429, accuracy=0.954]\n",
            "validation epoch 51: 100%|██████████| 33/33 [00:32<00:00,  1.03it/s, loss=0.435, accuracy=0.955]\n",
            "train epoch 52:  12%|█▏        | 42/355 [00:58<07:16,  1.40s/it, loss=0.429, accuracy=0.949]\n"
          ]
        },
        {
          "ename": "KeyboardInterrupt",
          "evalue": "ignored",
          "output_type": "error",
          "traceback": [
            "\u001b[0;31m---------------------------------------------------------------------------\u001b[0m",
            "\u001b[0;31mKeyboardInterrupt\u001b[0m                         Traceback (most recent call last)",
            "\u001b[0;32m<ipython-input-11-94c79b6e559f>\u001b[0m in \u001b[0;36m<module>\u001b[0;34m\u001b[0m\n\u001b[0;32m----> 1\u001b[0;31m \u001b[0mtrain\u001b[0m\u001b[0;34m.\u001b[0m\u001b[0mtrain_erm\u001b[0m\u001b[0;34m(\u001b[0m\u001b[0mbest_resume_checkpoint_path\u001b[0m\u001b[0;34m=\u001b[0m\u001b[0;34m\"best_erm_model.pt\"\u001b[0m\u001b[0;34m,\u001b[0m\u001b[0mlast_resume_checkpoint_path\u001b[0m\u001b[0;34m=\u001b[0m\u001b[0;34m\"last_erm_model.pt\"\u001b[0m\u001b[0;34m)\u001b[0m\u001b[0;34m\u001b[0m\u001b[0;34m\u001b[0m\u001b[0m\n\u001b[0m",
            "\u001b[0;32m/content/train.py\u001b[0m in \u001b[0;36mtrain_erm\u001b[0;34m(self, epochs, best_resume_checkpoint_path, last_resume_checkpoint_path)\u001b[0m\n\u001b[1;32m    283\u001b[0m             \u001b[0mself\u001b[0m\u001b[0;34m.\u001b[0m\u001b[0mcurrent_epoch\u001b[0m \u001b[0;34m=\u001b[0m \u001b[0mcurrent_epoch\u001b[0m\u001b[0;34m\u001b[0m\u001b[0;34m\u001b[0m\u001b[0m\n\u001b[1;32m    284\u001b[0m             \u001b[0;31m#Run a train epoch\u001b[0m\u001b[0;34m\u001b[0m\u001b[0;34m\u001b[0m\u001b[0;34m\u001b[0m\u001b[0m\n\u001b[0;32m--> 285\u001b[0;31m             self.run_an_epoch(\n\u001b[0m\u001b[1;32m    286\u001b[0m                 data_loader=self.train_loader, epoch=current_epoch, mode=\"train\",device=self.device)\n\u001b[1;32m    287\u001b[0m             \u001b[0;31m#Run a validation epoch and save the validation accuracy\u001b[0m\u001b[0;34m\u001b[0m\u001b[0;34m\u001b[0m\u001b[0;34m\u001b[0m\u001b[0m\n",
            "\u001b[0;32m/content/train.py\u001b[0m in \u001b[0;36mrun_an_epoch\u001b[0;34m(self, data_loader, epoch, mode, device)\u001b[0m\n\u001b[1;32m    232\u001b[0m                 \u001b[0;31m#Take batch of inputs in variable X and corrispondent labels in variable y\u001b[0m\u001b[0;34m\u001b[0m\u001b[0;34m\u001b[0m\u001b[0;34m\u001b[0m\u001b[0m\n\u001b[1;32m    233\u001b[0m                 \u001b[0mX\u001b[0m\u001b[0;34m,\u001b[0m \u001b[0my\u001b[0m \u001b[0;34m=\u001b[0m \u001b[0mdata\u001b[0m\u001b[0;34m[\u001b[0m\u001b[0;36m0\u001b[0m\u001b[0;34m]\u001b[0m\u001b[0;34m,\u001b[0m \u001b[0mdata\u001b[0m\u001b[0;34m[\u001b[0m\u001b[0;36m2\u001b[0m\u001b[0;34m]\u001b[0m\u001b[0;34m\u001b[0m\u001b[0;34m\u001b[0m\u001b[0m\n\u001b[0;32m--> 234\u001b[0;31m                 \u001b[0mX\u001b[0m\u001b[0;34m,\u001b[0m \u001b[0my\u001b[0m \u001b[0;34m=\u001b[0m \u001b[0mX\u001b[0m\u001b[0;34m.\u001b[0m\u001b[0mto\u001b[0m\u001b[0;34m(\u001b[0m\u001b[0mdevice\u001b[0m\u001b[0;34m)\u001b[0m\u001b[0;34m,\u001b[0m \u001b[0my\u001b[0m\u001b[0;34m.\u001b[0m\u001b[0mto\u001b[0m\u001b[0;34m(\u001b[0m\u001b[0mdevice\u001b[0m\u001b[0;34m)\u001b[0m\u001b[0;34m\u001b[0m\u001b[0;34m\u001b[0m\u001b[0m\n\u001b[0m\u001b[1;32m    235\u001b[0m                 \u001b[0;31m#Inference time\u001b[0m\u001b[0;34m\u001b[0m\u001b[0;34m\u001b[0m\u001b[0;34m\u001b[0m\u001b[0m\n\u001b[1;32m    236\u001b[0m                 \u001b[0moutputs\u001b[0m \u001b[0;34m=\u001b[0m \u001b[0mself\u001b[0m\u001b[0;34m.\u001b[0m\u001b[0mmodel\u001b[0m\u001b[0;34m(\u001b[0m\u001b[0mX\u001b[0m\u001b[0;34m)\u001b[0m\u001b[0;34m\u001b[0m\u001b[0;34m\u001b[0m\u001b[0m\n",
            "\u001b[0;31mKeyboardInterrupt\u001b[0m: "
          ]
        }
      ],
      "source": [
        "train.train_erm(best_resume_checkpoint_path=\"best_erm_model.pt\",last_resume_checkpoint_path=\"last_erm_model.pt\")"
      ]
    },
    {
      "cell_type": "code",
      "execution_count": null,
      "metadata": {
        "colab": {
          "base_uri": "https://localhost:8080/",
          "height": 745
        },
        "id": "nRlIlO7IwiBo",
        "outputId": "ada27027-83a8-4d0c-f0fb-6acf492fd08b"
      },
      "outputs": [
        {
          "name": "stderr",
          "output_type": "stream",
          "text": [
            "train epoch 52: 100%|██████████| 355/355 [07:20<00:00,  1.24s/it, loss=0.426, accuracy=0.955]\n",
            "validation epoch 52: 100%|██████████| 33/33 [00:34<00:00,  1.06s/it, loss=0.434, accuracy=0.955]\n",
            "train epoch 53: 100%|██████████| 355/355 [07:12<00:00,  1.22s/it, loss=0.424, accuracy=0.955]\n",
            "validation epoch 53: 100%|██████████| 33/33 [00:31<00:00,  1.05it/s, loss=0.431, accuracy=0.952]\n",
            "train epoch 54: 100%|██████████| 355/355 [07:11<00:00,  1.22s/it, loss=0.424, accuracy=0.955]\n",
            "validation epoch 54: 100%|██████████| 33/33 [00:31<00:00,  1.05it/s, loss=0.43, accuracy=0.954]\n",
            "train epoch 55: 100%|██████████| 355/355 [07:11<00:00,  1.22s/it, loss=0.42, accuracy=0.955]\n",
            "validation epoch 55: 100%|██████████| 33/33 [00:31<00:00,  1.06it/s, loss=0.421, accuracy=0.957]\n",
            "train epoch 56: 100%|██████████| 355/355 [07:12<00:00,  1.22s/it, loss=0.416, accuracy=0.956]\n",
            "validation epoch 56: 100%|██████████| 33/33 [00:31<00:00,  1.05it/s, loss=0.427, accuracy=0.955]\n",
            "train epoch 57: 100%|██████████| 355/355 [07:11<00:00,  1.22s/it, loss=0.416, accuracy=0.955]\n",
            "validation epoch 57: 100%|██████████| 33/33 [00:31<00:00,  1.05it/s, loss=0.424, accuracy=0.954]\n",
            "train epoch 58: 100%|██████████| 355/355 [07:12<00:00,  1.22s/it, loss=0.412, accuracy=0.956]\n",
            "validation epoch 58: 100%|██████████| 33/33 [00:32<00:00,  1.01it/s, loss=0.424, accuracy=0.955]\n",
            "train epoch 59: 100%|██████████| 355/355 [07:11<00:00,  1.22s/it, loss=0.409, accuracy=0.956]\n",
            "validation epoch 59: 100%|██████████| 33/33 [00:31<00:00,  1.05it/s, loss=0.413, accuracy=0.953]\n",
            "train epoch 60: 100%|██████████| 355/355 [07:11<00:00,  1.22s/it, loss=0.409, accuracy=0.956]\n",
            "validation epoch 60: 100%|██████████| 33/33 [00:31<00:00,  1.05it/s, loss=0.415, accuracy=0.955]\n",
            "train epoch 61: 100%|██████████| 355/355 [07:11<00:00,  1.22s/it, loss=0.409, accuracy=0.957]\n",
            "validation epoch 61: 100%|██████████| 33/33 [00:31<00:00,  1.05it/s, loss=0.418, accuracy=0.955]\n",
            "train epoch 62: 100%|██████████| 355/355 [07:11<00:00,  1.22s/it, loss=0.408, accuracy=0.955]\n",
            "validation epoch 62: 100%|██████████| 33/33 [00:31<00:00,  1.06it/s, loss=0.412, accuracy=0.956]\n",
            "train epoch 63: 100%|██████████| 355/355 [07:11<00:00,  1.22s/it, loss=0.409, accuracy=0.956]\n",
            "validation epoch 63: 100%|██████████| 33/33 [00:31<00:00,  1.06it/s, loss=0.413, accuracy=0.955]\n",
            "train epoch 64:   1%|          | 3/355 [00:04<08:39,  1.48s/it, loss=0.41, accuracy=0.953]\n"
          ]
        },
        {
          "ename": "KeyboardInterrupt",
          "evalue": "ignored",
          "output_type": "error",
          "traceback": [
            "\u001b[0;31m---------------------------------------------------------------------------\u001b[0m",
            "\u001b[0;31mKeyboardInterrupt\u001b[0m                         Traceback (most recent call last)",
            "\u001b[0;32m<ipython-input-11-94c79b6e559f>\u001b[0m in \u001b[0;36m<module>\u001b[0;34m\u001b[0m\n\u001b[0;32m----> 1\u001b[0;31m \u001b[0mtrain\u001b[0m\u001b[0;34m.\u001b[0m\u001b[0mtrain_erm\u001b[0m\u001b[0;34m(\u001b[0m\u001b[0mbest_resume_checkpoint_path\u001b[0m\u001b[0;34m=\u001b[0m\u001b[0;34m\"best_erm_model.pt\"\u001b[0m\u001b[0;34m,\u001b[0m\u001b[0mlast_resume_checkpoint_path\u001b[0m\u001b[0;34m=\u001b[0m\u001b[0;34m\"last_erm_model.pt\"\u001b[0m\u001b[0;34m)\u001b[0m\u001b[0;34m\u001b[0m\u001b[0;34m\u001b[0m\u001b[0m\n\u001b[0m",
            "\u001b[0;32m/content/train.py\u001b[0m in \u001b[0;36mtrain_erm\u001b[0;34m(self, epochs, best_resume_checkpoint_path, last_resume_checkpoint_path)\u001b[0m\n\u001b[1;32m    283\u001b[0m             \u001b[0mself\u001b[0m\u001b[0;34m.\u001b[0m\u001b[0mcurrent_epoch\u001b[0m \u001b[0;34m=\u001b[0m \u001b[0mcurrent_epoch\u001b[0m\u001b[0;34m\u001b[0m\u001b[0;34m\u001b[0m\u001b[0m\n\u001b[1;32m    284\u001b[0m             \u001b[0;31m#Run a train epoch\u001b[0m\u001b[0;34m\u001b[0m\u001b[0;34m\u001b[0m\u001b[0;34m\u001b[0m\u001b[0m\n\u001b[0;32m--> 285\u001b[0;31m             self.run_an_epoch(\n\u001b[0m\u001b[1;32m    286\u001b[0m                 data_loader=self.train_loader, epoch=current_epoch, mode=\"train\",device=self.device)\n\u001b[1;32m    287\u001b[0m             \u001b[0;31m#Run a validation epoch and save the validation accuracy\u001b[0m\u001b[0;34m\u001b[0m\u001b[0;34m\u001b[0m\u001b[0;34m\u001b[0m\u001b[0m\n",
            "\u001b[0;32m/content/train.py\u001b[0m in \u001b[0;36mrun_an_epoch\u001b[0;34m(self, data_loader, epoch, mode, device)\u001b[0m\n\u001b[1;32m    232\u001b[0m                 \u001b[0;31m#Take batch of inputs in variable X and corrispondent labels in variable y\u001b[0m\u001b[0;34m\u001b[0m\u001b[0;34m\u001b[0m\u001b[0;34m\u001b[0m\u001b[0m\n\u001b[1;32m    233\u001b[0m                 \u001b[0mX\u001b[0m\u001b[0;34m,\u001b[0m \u001b[0my\u001b[0m \u001b[0;34m=\u001b[0m \u001b[0mdata\u001b[0m\u001b[0;34m[\u001b[0m\u001b[0;36m0\u001b[0m\u001b[0;34m]\u001b[0m\u001b[0;34m,\u001b[0m \u001b[0mdata\u001b[0m\u001b[0;34m[\u001b[0m\u001b[0;36m2\u001b[0m\u001b[0;34m]\u001b[0m\u001b[0;34m\u001b[0m\u001b[0;34m\u001b[0m\u001b[0m\n\u001b[0;32m--> 234\u001b[0;31m                 \u001b[0mX\u001b[0m\u001b[0;34m,\u001b[0m \u001b[0my\u001b[0m \u001b[0;34m=\u001b[0m \u001b[0mX\u001b[0m\u001b[0;34m.\u001b[0m\u001b[0mto\u001b[0m\u001b[0;34m(\u001b[0m\u001b[0mdevice\u001b[0m\u001b[0;34m)\u001b[0m\u001b[0;34m,\u001b[0m \u001b[0my\u001b[0m\u001b[0;34m.\u001b[0m\u001b[0mto\u001b[0m\u001b[0;34m(\u001b[0m\u001b[0mdevice\u001b[0m\u001b[0;34m)\u001b[0m\u001b[0;34m\u001b[0m\u001b[0;34m\u001b[0m\u001b[0m\n\u001b[0m\u001b[1;32m    235\u001b[0m                 \u001b[0;31m#Inference time\u001b[0m\u001b[0;34m\u001b[0m\u001b[0;34m\u001b[0m\u001b[0;34m\u001b[0m\u001b[0m\n\u001b[1;32m    236\u001b[0m                 \u001b[0moutputs\u001b[0m \u001b[0;34m=\u001b[0m \u001b[0mself\u001b[0m\u001b[0;34m.\u001b[0m\u001b[0mmodel\u001b[0m\u001b[0;34m(\u001b[0m\u001b[0mX\u001b[0m\u001b[0;34m)\u001b[0m\u001b[0;34m\u001b[0m\u001b[0;34m\u001b[0m\u001b[0m\n",
            "\u001b[0;31mKeyboardInterrupt\u001b[0m: "
          ]
        }
      ],
      "source": [
        "train.train_erm(best_resume_checkpoint_path=\"best_erm_model.pt\",last_resume_checkpoint_path=\"last_erm_model.pt\")"
      ]
    },
    {
      "cell_type": "code",
      "execution_count": null,
      "metadata": {
        "colab": {
          "base_uri": "https://localhost:8080/",
          "height": 849
        },
        "id": "deGBV-pxGz3H",
        "outputId": "9a26d87c-a459-4ba1-9518-23e6af732d24"
      },
      "outputs": [
        {
          "name": "stderr",
          "output_type": "stream",
          "text": [
            "train epoch 64: 100%|██████████| 355/355 [07:16<00:00,  1.23s/it, loss=0.409, accuracy=0.955]\n",
            "validation epoch 64: 100%|██████████| 33/33 [00:31<00:00,  1.06it/s, loss=0.418, accuracy=0.954]\n",
            "train epoch 65: 100%|██████████| 355/355 [07:11<00:00,  1.22s/it, loss=0.408, accuracy=0.957]\n",
            "validation epoch 65: 100%|██████████| 33/33 [00:31<00:00,  1.05it/s, loss=0.413, accuracy=0.956]\n",
            "train epoch 66: 100%|██████████| 355/355 [07:11<00:00,  1.22s/it, loss=0.408, accuracy=0.956]\n",
            "validation epoch 66: 100%|██████████| 33/33 [00:31<00:00,  1.05it/s, loss=0.416, accuracy=0.957]\n",
            "train epoch 67: 100%|██████████| 355/355 [07:11<00:00,  1.22s/it, loss=0.408, accuracy=0.955]\n",
            "validation epoch 67: 100%|██████████| 33/33 [00:31<00:00,  1.04it/s, loss=0.412, accuracy=0.953]\n",
            "train epoch 68: 100%|██████████| 355/355 [07:11<00:00,  1.22s/it, loss=0.409, accuracy=0.955]\n",
            "validation epoch 68: 100%|██████████| 33/33 [00:31<00:00,  1.06it/s, loss=0.414, accuracy=0.957]\n",
            "train epoch 69: 100%|██████████| 355/355 [07:11<00:00,  1.22s/it, loss=0.408, accuracy=0.956]\n",
            "validation epoch 69: 100%|██████████| 33/33 [00:31<00:00,  1.06it/s, loss=0.417, accuracy=0.954]\n",
            "train epoch 70: 100%|██████████| 355/355 [07:11<00:00,  1.22s/it, loss=0.406, accuracy=0.956]\n",
            "validation epoch 70: 100%|██████████| 33/33 [00:31<00:00,  1.06it/s, loss=0.417, accuracy=0.955]\n",
            "train epoch 71: 100%|██████████| 355/355 [07:11<00:00,  1.22s/it, loss=0.405, accuracy=0.957]\n",
            "validation epoch 71: 100%|██████████| 33/33 [00:31<00:00,  1.06it/s, loss=0.415, accuracy=0.955]\n",
            "train epoch 72: 100%|██████████| 355/355 [07:11<00:00,  1.22s/it, loss=0.407, accuracy=0.955]\n",
            "validation epoch 72: 100%|██████████| 33/33 [00:31<00:00,  1.06it/s, loss=0.412, accuracy=0.956]\n",
            "train epoch 73: 100%|██████████| 355/355 [07:11<00:00,  1.22s/it, loss=0.408, accuracy=0.956]\n",
            "validation epoch 73: 100%|██████████| 33/33 [00:31<00:00,  1.06it/s, loss=0.416, accuracy=0.955]\n",
            "train epoch 74: 100%|██████████| 355/355 [07:11<00:00,  1.22s/it, loss=0.406, accuracy=0.955]\n",
            "validation epoch 74: 100%|██████████| 33/33 [00:31<00:00,  1.06it/s, loss=0.412, accuracy=0.956]\n",
            "train epoch 75: 100%|██████████| 355/355 [07:11<00:00,  1.22s/it, loss=0.407, accuracy=0.955]\n",
            "validation epoch 75: 100%|██████████| 33/33 [00:31<00:00,  1.06it/s, loss=0.417, accuracy=0.958]\n",
            "train epoch 76: 100%|██████████| 355/355 [07:11<00:00,  1.22s/it, loss=0.406, accuracy=0.957]\n",
            "validation epoch 76: 100%|██████████| 33/33 [00:31<00:00,  1.05it/s, loss=0.414, accuracy=0.955]\n",
            "train epoch 77: 100%|██████████| 355/355 [07:11<00:00,  1.22s/it, loss=0.407, accuracy=0.956]\n",
            "validation epoch 77: 100%|██████████| 33/33 [00:30<00:00,  1.07it/s, loss=0.411, accuracy=0.959]\n",
            "train epoch 78: 100%|██████████| 355/355 [07:11<00:00,  1.22s/it, loss=0.406, accuracy=0.957]\n",
            "validation epoch 78: 100%|██████████| 33/33 [00:31<00:00,  1.06it/s, loss=0.413, accuracy=0.955]\n",
            "train epoch 79:   1%|          | 2/355 [00:03<09:30,  1.62s/it, loss=0.396, accuracy=0.953]\n"
          ]
        },
        {
          "ename": "KeyboardInterrupt",
          "evalue": "ignored",
          "output_type": "error",
          "traceback": [
            "\u001b[0;31m---------------------------------------------------------------------------\u001b[0m",
            "\u001b[0;31mKeyboardInterrupt\u001b[0m                         Traceback (most recent call last)",
            "\u001b[0;32m<ipython-input-3-94c79b6e559f>\u001b[0m in \u001b[0;36m<module>\u001b[0;34m\u001b[0m\n\u001b[0;32m----> 1\u001b[0;31m \u001b[0mtrain\u001b[0m\u001b[0;34m.\u001b[0m\u001b[0mtrain_erm\u001b[0m\u001b[0;34m(\u001b[0m\u001b[0mbest_resume_checkpoint_path\u001b[0m\u001b[0;34m=\u001b[0m\u001b[0;34m\"best_erm_model.pt\"\u001b[0m\u001b[0;34m,\u001b[0m\u001b[0mlast_resume_checkpoint_path\u001b[0m\u001b[0;34m=\u001b[0m\u001b[0;34m\"last_erm_model.pt\"\u001b[0m\u001b[0;34m)\u001b[0m\u001b[0;34m\u001b[0m\u001b[0;34m\u001b[0m\u001b[0m\n\u001b[0m",
            "\u001b[0;32m/content/train.py\u001b[0m in \u001b[0;36mtrain_erm\u001b[0;34m(self, epochs, best_resume_checkpoint_path, last_resume_checkpoint_path)\u001b[0m\n\u001b[1;32m    283\u001b[0m             \u001b[0mself\u001b[0m\u001b[0;34m.\u001b[0m\u001b[0mcurrent_epoch\u001b[0m \u001b[0;34m=\u001b[0m \u001b[0mcurrent_epoch\u001b[0m\u001b[0;34m\u001b[0m\u001b[0;34m\u001b[0m\u001b[0m\n\u001b[1;32m    284\u001b[0m             \u001b[0;31m#Run a train epoch\u001b[0m\u001b[0;34m\u001b[0m\u001b[0;34m\u001b[0m\u001b[0;34m\u001b[0m\u001b[0m\n\u001b[0;32m--> 285\u001b[0;31m             self.run_an_epoch(\n\u001b[0m\u001b[1;32m    286\u001b[0m                 data_loader=self.train_loader, epoch=current_epoch, mode=\"train\",device=self.device)\n\u001b[1;32m    287\u001b[0m             \u001b[0;31m#Run a validation epoch and save the validation accuracy\u001b[0m\u001b[0;34m\u001b[0m\u001b[0;34m\u001b[0m\u001b[0;34m\u001b[0m\u001b[0m\n",
            "\u001b[0;32m/content/train.py\u001b[0m in \u001b[0;36mrun_an_epoch\u001b[0;34m(self, data_loader, epoch, mode, device)\u001b[0m\n\u001b[1;32m    232\u001b[0m                 \u001b[0;31m#Take batch of inputs in variable X and corrispondent labels in variable y\u001b[0m\u001b[0;34m\u001b[0m\u001b[0;34m\u001b[0m\u001b[0;34m\u001b[0m\u001b[0m\n\u001b[1;32m    233\u001b[0m                 \u001b[0mX\u001b[0m\u001b[0;34m,\u001b[0m \u001b[0my\u001b[0m \u001b[0;34m=\u001b[0m \u001b[0mdata\u001b[0m\u001b[0;34m[\u001b[0m\u001b[0;36m0\u001b[0m\u001b[0;34m]\u001b[0m\u001b[0;34m,\u001b[0m \u001b[0mdata\u001b[0m\u001b[0;34m[\u001b[0m\u001b[0;36m2\u001b[0m\u001b[0;34m]\u001b[0m\u001b[0;34m\u001b[0m\u001b[0;34m\u001b[0m\u001b[0m\n\u001b[0;32m--> 234\u001b[0;31m                 \u001b[0mX\u001b[0m\u001b[0;34m,\u001b[0m \u001b[0my\u001b[0m \u001b[0;34m=\u001b[0m \u001b[0mX\u001b[0m\u001b[0;34m.\u001b[0m\u001b[0mto\u001b[0m\u001b[0;34m(\u001b[0m\u001b[0mdevice\u001b[0m\u001b[0;34m)\u001b[0m\u001b[0;34m,\u001b[0m \u001b[0my\u001b[0m\u001b[0;34m.\u001b[0m\u001b[0mto\u001b[0m\u001b[0;34m(\u001b[0m\u001b[0mdevice\u001b[0m\u001b[0;34m)\u001b[0m\u001b[0;34m\u001b[0m\u001b[0;34m\u001b[0m\u001b[0m\n\u001b[0m\u001b[1;32m    235\u001b[0m                 \u001b[0;31m#Inference time\u001b[0m\u001b[0;34m\u001b[0m\u001b[0;34m\u001b[0m\u001b[0;34m\u001b[0m\u001b[0m\n\u001b[1;32m    236\u001b[0m                 \u001b[0moutputs\u001b[0m \u001b[0;34m=\u001b[0m \u001b[0mself\u001b[0m\u001b[0;34m.\u001b[0m\u001b[0mmodel\u001b[0m\u001b[0;34m(\u001b[0m\u001b[0mX\u001b[0m\u001b[0;34m)\u001b[0m\u001b[0;34m\u001b[0m\u001b[0;34m\u001b[0m\u001b[0m\n",
            "\u001b[0;31mKeyboardInterrupt\u001b[0m: "
          ]
        }
      ],
      "source": [
        "train.train_erm(best_resume_checkpoint_path=\"best_erm_model.pt\",last_resume_checkpoint_path=\"last_erm_model.pt\")"
      ]
    },
    {
      "cell_type": "code",
      "execution_count": null,
      "metadata": {
        "colab": {
          "base_uri": "https://localhost:8080/",
          "height": 588
        },
        "id": "041On5SAh6oK",
        "outputId": "e19a0503-c6da-4c1f-d52b-1cb29cfc2d04"
      },
      "outputs": [
        {
          "name": "stderr",
          "output_type": "stream",
          "text": [
            "train epoch 79: 100%|██████████| 355/355 [07:11<00:00,  1.22s/it, loss=0.406, accuracy=0.956]\n",
            "validation epoch 79: 100%|██████████| 33/33 [00:31<00:00,  1.05it/s, loss=0.409, accuracy=0.952]\n",
            "train epoch 80: 100%|██████████| 355/355 [07:11<00:00,  1.22s/it, loss=0.406, accuracy=0.956]\n",
            "validation epoch 80: 100%|██████████| 33/33 [00:31<00:00,  1.06it/s, loss=0.411, accuracy=0.955]\n",
            "train epoch 81: 100%|██████████| 355/355 [07:11<00:00,  1.22s/it, loss=0.405, accuracy=0.957]\n",
            "validation epoch 81: 100%|██████████| 33/33 [00:31<00:00,  1.06it/s, loss=0.413, accuracy=0.955]\n",
            "train epoch 82: 100%|██████████| 355/355 [07:11<00:00,  1.22s/it, loss=0.405, accuracy=0.956]\n",
            "validation epoch 82: 100%|██████████| 33/33 [00:31<00:00,  1.06it/s, loss=0.41, accuracy=0.955]\n",
            "train epoch 83: 100%|██████████| 355/355 [07:11<00:00,  1.22s/it, loss=0.406, accuracy=0.956]\n",
            "validation epoch 83: 100%|██████████| 33/33 [00:31<00:00,  1.05it/s, loss=0.414, accuracy=0.953]\n",
            "train epoch 84: 100%|██████████| 355/355 [07:11<00:00,  1.22s/it, loss=0.404, accuracy=0.956]\n",
            "validation epoch 84: 100%|██████████| 33/33 [00:31<00:00,  1.06it/s, loss=0.416, accuracy=0.954]\n",
            "train epoch 85: 100%|██████████| 355/355 [07:11<00:00,  1.22s/it, loss=0.404, accuracy=0.957]\n",
            "validation epoch 85: 100%|██████████| 33/33 [00:30<00:00,  1.07it/s, loss=0.413, accuracy=0.957]\n",
            "train epoch 86:   1%|          | 4/355 [00:06<08:59,  1.54s/it, loss=0.389, accuracy=0.951]\n"
          ]
        },
        {
          "ename": "KeyboardInterrupt",
          "evalue": "ignored",
          "output_type": "error",
          "traceback": [
            "\u001b[0;31m---------------------------------------------------------------------------\u001b[0m",
            "\u001b[0;31mKeyboardInterrupt\u001b[0m                         Traceback (most recent call last)",
            "\u001b[0;32m<ipython-input-5-94c79b6e559f>\u001b[0m in \u001b[0;36m<module>\u001b[0;34m\u001b[0m\n\u001b[0;32m----> 1\u001b[0;31m \u001b[0mtrain\u001b[0m\u001b[0;34m.\u001b[0m\u001b[0mtrain_erm\u001b[0m\u001b[0;34m(\u001b[0m\u001b[0mbest_resume_checkpoint_path\u001b[0m\u001b[0;34m=\u001b[0m\u001b[0;34m\"best_erm_model.pt\"\u001b[0m\u001b[0;34m,\u001b[0m\u001b[0mlast_resume_checkpoint_path\u001b[0m\u001b[0;34m=\u001b[0m\u001b[0;34m\"last_erm_model.pt\"\u001b[0m\u001b[0;34m)\u001b[0m\u001b[0;34m\u001b[0m\u001b[0;34m\u001b[0m\u001b[0m\n\u001b[0m",
            "\u001b[0;32m/content/train.py\u001b[0m in \u001b[0;36mtrain_erm\u001b[0;34m(self, epochs, best_resume_checkpoint_path, last_resume_checkpoint_path)\u001b[0m\n\u001b[1;32m    283\u001b[0m             \u001b[0mself\u001b[0m\u001b[0;34m.\u001b[0m\u001b[0mcurrent_epoch\u001b[0m \u001b[0;34m=\u001b[0m \u001b[0mcurrent_epoch\u001b[0m\u001b[0;34m\u001b[0m\u001b[0;34m\u001b[0m\u001b[0m\n\u001b[1;32m    284\u001b[0m             \u001b[0;31m#Run a train epoch\u001b[0m\u001b[0;34m\u001b[0m\u001b[0;34m\u001b[0m\u001b[0;34m\u001b[0m\u001b[0m\n\u001b[0;32m--> 285\u001b[0;31m             self.run_an_epoch(\n\u001b[0m\u001b[1;32m    286\u001b[0m                 data_loader=self.train_loader, epoch=current_epoch, mode=\"train\",device=self.device)\n\u001b[1;32m    287\u001b[0m             \u001b[0;31m#Run a validation epoch and save the validation accuracy\u001b[0m\u001b[0;34m\u001b[0m\u001b[0;34m\u001b[0m\u001b[0;34m\u001b[0m\u001b[0m\n",
            "\u001b[0;32m/content/train.py\u001b[0m in \u001b[0;36mrun_an_epoch\u001b[0;34m(self, data_loader, epoch, mode, device)\u001b[0m\n\u001b[1;32m    248\u001b[0m                     \u001b[0mself\u001b[0m\u001b[0;34m.\u001b[0m\u001b[0moptimizer\u001b[0m\u001b[0;34m.\u001b[0m\u001b[0mzero_grad\u001b[0m\u001b[0;34m(\u001b[0m\u001b[0;34m)\u001b[0m\u001b[0;34m\u001b[0m\u001b[0;34m\u001b[0m\u001b[0m\n\u001b[1;32m    249\u001b[0m                     \u001b[0mloss\u001b[0m\u001b[0;34m.\u001b[0m\u001b[0mbackward\u001b[0m\u001b[0;34m(\u001b[0m\u001b[0;34m)\u001b[0m\u001b[0;34m\u001b[0m\u001b[0;34m\u001b[0m\u001b[0m\n\u001b[0;32m--> 250\u001b[0;31m                     \u001b[0mself\u001b[0m\u001b[0;34m.\u001b[0m\u001b[0moptimizer\u001b[0m\u001b[0;34m.\u001b[0m\u001b[0mstep\u001b[0m\u001b[0;34m(\u001b[0m\u001b[0;34m)\u001b[0m\u001b[0;34m\u001b[0m\u001b[0;34m\u001b[0m\u001b[0m\n\u001b[0m\u001b[1;32m    251\u001b[0m \u001b[0;34m\u001b[0m\u001b[0m\n\u001b[1;32m    252\u001b[0m                 progress_bar.set_postfix(\n",
            "\u001b[0;32m/usr/local/lib/python3.8/dist-packages/torch/optim/lr_scheduler.py\u001b[0m in \u001b[0;36mwrapper\u001b[0;34m(*args, **kwargs)\u001b[0m\n\u001b[1;32m     66\u001b[0m                 \u001b[0minstance\u001b[0m\u001b[0;34m.\u001b[0m\u001b[0m_step_count\u001b[0m \u001b[0;34m+=\u001b[0m \u001b[0;36m1\u001b[0m\u001b[0;34m\u001b[0m\u001b[0;34m\u001b[0m\u001b[0m\n\u001b[1;32m     67\u001b[0m                 \u001b[0mwrapped\u001b[0m \u001b[0;34m=\u001b[0m \u001b[0mfunc\u001b[0m\u001b[0;34m.\u001b[0m\u001b[0m__get__\u001b[0m\u001b[0;34m(\u001b[0m\u001b[0minstance\u001b[0m\u001b[0;34m,\u001b[0m \u001b[0mcls\u001b[0m\u001b[0;34m)\u001b[0m\u001b[0;34m\u001b[0m\u001b[0;34m\u001b[0m\u001b[0m\n\u001b[0;32m---> 68\u001b[0;31m                 \u001b[0;32mreturn\u001b[0m \u001b[0mwrapped\u001b[0m\u001b[0;34m(\u001b[0m\u001b[0;34m*\u001b[0m\u001b[0margs\u001b[0m\u001b[0;34m,\u001b[0m \u001b[0;34m**\u001b[0m\u001b[0mkwargs\u001b[0m\u001b[0;34m)\u001b[0m\u001b[0;34m\u001b[0m\u001b[0;34m\u001b[0m\u001b[0m\n\u001b[0m\u001b[1;32m     69\u001b[0m \u001b[0;34m\u001b[0m\u001b[0m\n\u001b[1;32m     70\u001b[0m             \u001b[0;31m# Note that the returned function here is no longer a bound method,\u001b[0m\u001b[0;34m\u001b[0m\u001b[0;34m\u001b[0m\u001b[0;34m\u001b[0m\u001b[0m\n",
            "\u001b[0;32m/usr/local/lib/python3.8/dist-packages/torch/optim/optimizer.py\u001b[0m in \u001b[0;36mwrapper\u001b[0;34m(*args, **kwargs)\u001b[0m\n\u001b[1;32m    138\u001b[0m                 \u001b[0mprofile_name\u001b[0m \u001b[0;34m=\u001b[0m \u001b[0;34m\"Optimizer.step#{}.step\"\u001b[0m\u001b[0;34m.\u001b[0m\u001b[0mformat\u001b[0m\u001b[0;34m(\u001b[0m\u001b[0mobj\u001b[0m\u001b[0;34m.\u001b[0m\u001b[0m__class__\u001b[0m\u001b[0;34m.\u001b[0m\u001b[0m__name__\u001b[0m\u001b[0;34m)\u001b[0m\u001b[0;34m\u001b[0m\u001b[0;34m\u001b[0m\u001b[0m\n\u001b[1;32m    139\u001b[0m                 \u001b[0;32mwith\u001b[0m \u001b[0mtorch\u001b[0m\u001b[0;34m.\u001b[0m\u001b[0mautograd\u001b[0m\u001b[0;34m.\u001b[0m\u001b[0mprofiler\u001b[0m\u001b[0;34m.\u001b[0m\u001b[0mrecord_function\u001b[0m\u001b[0;34m(\u001b[0m\u001b[0mprofile_name\u001b[0m\u001b[0;34m)\u001b[0m\u001b[0;34m:\u001b[0m\u001b[0;34m\u001b[0m\u001b[0;34m\u001b[0m\u001b[0m\n\u001b[0;32m--> 140\u001b[0;31m                     \u001b[0mout\u001b[0m \u001b[0;34m=\u001b[0m \u001b[0mfunc\u001b[0m\u001b[0;34m(\u001b[0m\u001b[0;34m*\u001b[0m\u001b[0margs\u001b[0m\u001b[0;34m,\u001b[0m \u001b[0;34m**\u001b[0m\u001b[0mkwargs\u001b[0m\u001b[0;34m)\u001b[0m\u001b[0;34m\u001b[0m\u001b[0;34m\u001b[0m\u001b[0m\n\u001b[0m\u001b[1;32m    141\u001b[0m                     \u001b[0mobj\u001b[0m\u001b[0;34m.\u001b[0m\u001b[0m_optimizer_step_code\u001b[0m\u001b[0;34m(\u001b[0m\u001b[0;34m)\u001b[0m\u001b[0;34m\u001b[0m\u001b[0;34m\u001b[0m\u001b[0m\n\u001b[1;32m    142\u001b[0m                     \u001b[0;32mreturn\u001b[0m \u001b[0mout\u001b[0m\u001b[0;34m\u001b[0m\u001b[0;34m\u001b[0m\u001b[0m\n",
            "\u001b[0;32m/usr/local/lib/python3.8/dist-packages/torch/optim/optimizer.py\u001b[0m in \u001b[0;36m_use_grad\u001b[0;34m(self, *args, **kwargs)\u001b[0m\n\u001b[1;32m     21\u001b[0m         \u001b[0;32mtry\u001b[0m\u001b[0;34m:\u001b[0m\u001b[0;34m\u001b[0m\u001b[0;34m\u001b[0m\u001b[0m\n\u001b[1;32m     22\u001b[0m             \u001b[0mtorch\u001b[0m\u001b[0;34m.\u001b[0m\u001b[0mset_grad_enabled\u001b[0m\u001b[0;34m(\u001b[0m\u001b[0mself\u001b[0m\u001b[0;34m.\u001b[0m\u001b[0mdefaults\u001b[0m\u001b[0;34m[\u001b[0m\u001b[0;34m'differentiable'\u001b[0m\u001b[0;34m]\u001b[0m\u001b[0;34m)\u001b[0m\u001b[0;34m\u001b[0m\u001b[0;34m\u001b[0m\u001b[0m\n\u001b[0;32m---> 23\u001b[0;31m             \u001b[0mret\u001b[0m \u001b[0;34m=\u001b[0m \u001b[0mfunc\u001b[0m\u001b[0;34m(\u001b[0m\u001b[0mself\u001b[0m\u001b[0;34m,\u001b[0m \u001b[0;34m*\u001b[0m\u001b[0margs\u001b[0m\u001b[0;34m,\u001b[0m \u001b[0;34m**\u001b[0m\u001b[0mkwargs\u001b[0m\u001b[0;34m)\u001b[0m\u001b[0;34m\u001b[0m\u001b[0;34m\u001b[0m\u001b[0m\n\u001b[0m\u001b[1;32m     24\u001b[0m         \u001b[0;32mfinally\u001b[0m\u001b[0;34m:\u001b[0m\u001b[0;34m\u001b[0m\u001b[0;34m\u001b[0m\u001b[0m\n\u001b[1;32m     25\u001b[0m             \u001b[0mtorch\u001b[0m\u001b[0;34m.\u001b[0m\u001b[0mset_grad_enabled\u001b[0m\u001b[0;34m(\u001b[0m\u001b[0mprev_grad\u001b[0m\u001b[0;34m)\u001b[0m\u001b[0;34m\u001b[0m\u001b[0;34m\u001b[0m\u001b[0m\n",
            "\u001b[0;32m/usr/local/lib/python3.8/dist-packages/torch/optim/sgd.py\u001b[0m in \u001b[0;36mstep\u001b[0;34m(self, closure)\u001b[0m\n\u001b[1;32m    149\u001b[0m                         \u001b[0mmomentum_buffer_list\u001b[0m\u001b[0;34m.\u001b[0m\u001b[0mappend\u001b[0m\u001b[0;34m(\u001b[0m\u001b[0mstate\u001b[0m\u001b[0;34m[\u001b[0m\u001b[0;34m'momentum_buffer'\u001b[0m\u001b[0;34m]\u001b[0m\u001b[0;34m)\u001b[0m\u001b[0;34m\u001b[0m\u001b[0;34m\u001b[0m\u001b[0m\n\u001b[1;32m    150\u001b[0m \u001b[0;34m\u001b[0m\u001b[0m\n\u001b[0;32m--> 151\u001b[0;31m             sgd(params_with_grad,\n\u001b[0m\u001b[1;32m    152\u001b[0m                 \u001b[0md_p_list\u001b[0m\u001b[0;34m,\u001b[0m\u001b[0;34m\u001b[0m\u001b[0;34m\u001b[0m\u001b[0m\n\u001b[1;32m    153\u001b[0m                 \u001b[0mmomentum_buffer_list\u001b[0m\u001b[0;34m,\u001b[0m\u001b[0;34m\u001b[0m\u001b[0;34m\u001b[0m\u001b[0m\n",
            "\u001b[0;32m/usr/local/lib/python3.8/dist-packages/torch/optim/sgd.py\u001b[0m in \u001b[0;36msgd\u001b[0;34m(params, d_p_list, momentum_buffer_list, has_sparse_grad, foreach, weight_decay, momentum, lr, dampening, nesterov, maximize)\u001b[0m\n\u001b[1;32m    200\u001b[0m         \u001b[0mfunc\u001b[0m \u001b[0;34m=\u001b[0m \u001b[0m_single_tensor_sgd\u001b[0m\u001b[0;34m\u001b[0m\u001b[0;34m\u001b[0m\u001b[0m\n\u001b[1;32m    201\u001b[0m \u001b[0;34m\u001b[0m\u001b[0m\n\u001b[0;32m--> 202\u001b[0;31m     func(params,\n\u001b[0m\u001b[1;32m    203\u001b[0m          \u001b[0md_p_list\u001b[0m\u001b[0;34m,\u001b[0m\u001b[0;34m\u001b[0m\u001b[0;34m\u001b[0m\u001b[0m\n\u001b[1;32m    204\u001b[0m          \u001b[0mmomentum_buffer_list\u001b[0m\u001b[0;34m,\u001b[0m\u001b[0;34m\u001b[0m\u001b[0;34m\u001b[0m\u001b[0m\n",
            "\u001b[0;32m/usr/local/lib/python3.8/dist-packages/torch/optim/sgd.py\u001b[0m in \u001b[0;36m_single_tensor_sgd\u001b[0;34m(params, d_p_list, momentum_buffer_list, weight_decay, momentum, lr, dampening, nesterov, maximize, has_sparse_grad)\u001b[0m\n\u001b[1;32m    243\u001b[0m                 \u001b[0md_p\u001b[0m \u001b[0;34m=\u001b[0m \u001b[0mbuf\u001b[0m\u001b[0;34m\u001b[0m\u001b[0;34m\u001b[0m\u001b[0m\n\u001b[1;32m    244\u001b[0m \u001b[0;34m\u001b[0m\u001b[0m\n\u001b[0;32m--> 245\u001b[0;31m         \u001b[0mparam\u001b[0m\u001b[0;34m.\u001b[0m\u001b[0madd_\u001b[0m\u001b[0;34m(\u001b[0m\u001b[0md_p\u001b[0m\u001b[0;34m,\u001b[0m \u001b[0malpha\u001b[0m\u001b[0;34m=\u001b[0m\u001b[0;34m-\u001b[0m\u001b[0mlr\u001b[0m\u001b[0;34m)\u001b[0m\u001b[0;34m\u001b[0m\u001b[0;34m\u001b[0m\u001b[0m\n\u001b[0m\u001b[1;32m    246\u001b[0m \u001b[0;34m\u001b[0m\u001b[0m\n\u001b[1;32m    247\u001b[0m \u001b[0;34m\u001b[0m\u001b[0m\n",
            "\u001b[0;31mKeyboardInterrupt\u001b[0m: "
          ]
        }
      ],
      "source": [
        "train.train_erm(best_resume_checkpoint_path=\"best_erm_model.pt\",last_resume_checkpoint_path=\"last_erm_model.pt\")"
      ]
    },
    {
      "cell_type": "code",
      "execution_count": null,
      "metadata": {
        "colab": {
          "base_uri": "https://localhost:8080/",
          "height": 606
        },
        "id": "JQtk4-usuWtR",
        "outputId": "bdcd4411-7fa9-4070-a4c3-ffc474139626"
      },
      "outputs": [
        {
          "name": "stderr",
          "output_type": "stream",
          "text": [
            "train epoch 86: 100%|██████████| 355/355 [07:12<00:00,  1.22s/it, loss=0.405, accuracy=0.956]\n",
            "validation epoch 86: 100%|██████████| 33/33 [00:31<00:00,  1.05it/s, loss=0.42, accuracy=0.954]\n",
            "train epoch 87: 100%|██████████| 355/355 [07:11<00:00,  1.22s/it, loss=0.405, accuracy=0.956]\n",
            "validation epoch 87: 100%|██████████| 33/33 [00:31<00:00,  1.06it/s, loss=0.416, accuracy=0.952]\n",
            "train epoch 88: 100%|██████████| 355/355 [07:11<00:00,  1.22s/it, loss=0.404, accuracy=0.957]\n",
            "validation epoch 88: 100%|██████████| 33/33 [00:30<00:00,  1.06it/s, loss=0.42, accuracy=0.952]\n",
            "train epoch 89: 100%|██████████| 355/355 [07:11<00:00,  1.22s/it, loss=0.405, accuracy=0.956]\n",
            "validation epoch 89: 100%|██████████| 33/33 [00:31<00:00,  1.03it/s, loss=0.416, accuracy=0.957]\n",
            "train epoch 90: 100%|██████████| 355/355 [07:12<00:00,  1.22s/it, loss=0.404, accuracy=0.956]\n",
            "validation epoch 90: 100%|██████████| 33/33 [00:31<00:00,  1.03it/s, loss=0.41, accuracy=0.954]\n",
            "train epoch 91: 100%|██████████| 355/355 [07:12<00:00,  1.22s/it, loss=0.403, accuracy=0.957]\n",
            "validation epoch 91: 100%|██████████| 33/33 [00:31<00:00,  1.04it/s, loss=0.409, accuracy=0.955]\n",
            "train epoch 92: 100%|██████████| 355/355 [07:11<00:00,  1.22s/it, loss=0.405, accuracy=0.956]\n",
            "validation epoch 92: 100%|██████████| 33/33 [00:31<00:00,  1.06it/s, loss=0.409, accuracy=0.956]\n",
            "train epoch 93: 100%|██████████| 355/355 [07:11<00:00,  1.22s/it, loss=0.404, accuracy=0.956]\n",
            "validation epoch 93: 100%|██████████| 33/33 [00:31<00:00,  1.06it/s, loss=0.411, accuracy=0.955]\n",
            "train epoch 94:   1%|          | 2/355 [00:03<11:39,  1.98s/it, loss=0.408, accuracy=0.961]\n"
          ]
        },
        {
          "ename": "KeyboardInterrupt",
          "evalue": "ignored",
          "output_type": "error",
          "traceback": [
            "\u001b[0;31m---------------------------------------------------------------------------\u001b[0m",
            "\u001b[0;31mKeyboardInterrupt\u001b[0m                         Traceback (most recent call last)",
            "\u001b[0;32m<ipython-input-8-94c79b6e559f>\u001b[0m in \u001b[0;36m<module>\u001b[0;34m\u001b[0m\n\u001b[0;32m----> 1\u001b[0;31m \u001b[0mtrain\u001b[0m\u001b[0;34m.\u001b[0m\u001b[0mtrain_erm\u001b[0m\u001b[0;34m(\u001b[0m\u001b[0mbest_resume_checkpoint_path\u001b[0m\u001b[0;34m=\u001b[0m\u001b[0;34m\"best_erm_model.pt\"\u001b[0m\u001b[0;34m,\u001b[0m\u001b[0mlast_resume_checkpoint_path\u001b[0m\u001b[0;34m=\u001b[0m\u001b[0;34m\"last_erm_model.pt\"\u001b[0m\u001b[0;34m)\u001b[0m\u001b[0;34m\u001b[0m\u001b[0;34m\u001b[0m\u001b[0m\n\u001b[0m",
            "\u001b[0;32m/content/train.py\u001b[0m in \u001b[0;36mtrain_erm\u001b[0;34m(self, epochs, best_resume_checkpoint_path, last_resume_checkpoint_path)\u001b[0m\n\u001b[1;32m    283\u001b[0m             \u001b[0mself\u001b[0m\u001b[0;34m.\u001b[0m\u001b[0mcurrent_epoch\u001b[0m \u001b[0;34m=\u001b[0m \u001b[0mcurrent_epoch\u001b[0m\u001b[0;34m\u001b[0m\u001b[0;34m\u001b[0m\u001b[0m\n\u001b[1;32m    284\u001b[0m             \u001b[0;31m#Run a train epoch\u001b[0m\u001b[0;34m\u001b[0m\u001b[0;34m\u001b[0m\u001b[0;34m\u001b[0m\u001b[0m\n\u001b[0;32m--> 285\u001b[0;31m             self.run_an_epoch(\n\u001b[0m\u001b[1;32m    286\u001b[0m                 data_loader=self.train_loader, epoch=current_epoch, mode=\"train\",device=self.device)\n\u001b[1;32m    287\u001b[0m             \u001b[0;31m#Run a validation epoch and save the validation accuracy\u001b[0m\u001b[0;34m\u001b[0m\u001b[0;34m\u001b[0m\u001b[0;34m\u001b[0m\u001b[0m\n",
            "\u001b[0;32m/content/train.py\u001b[0m in \u001b[0;36mrun_an_epoch\u001b[0;34m(self, data_loader, epoch, mode, device)\u001b[0m\n\u001b[1;32m    228\u001b[0m                 \u001b[0;34mf\"{mode} epoch: {epoch}\"\u001b[0m\u001b[0;34m\u001b[0m\u001b[0;34m\u001b[0m\u001b[0m\n\u001b[1;32m    229\u001b[0m             )\n\u001b[0;32m--> 230\u001b[0;31m             \u001b[0;32mfor\u001b[0m \u001b[0mdata\u001b[0m \u001b[0;32min\u001b[0m \u001b[0mprogress_bar\u001b[0m\u001b[0;34m:\u001b[0m\u001b[0;34m\u001b[0m\u001b[0;34m\u001b[0m\u001b[0m\n\u001b[0m\u001b[1;32m    231\u001b[0m                 \u001b[0mprogress_bar\u001b[0m\u001b[0;34m.\u001b[0m\u001b[0mset_description\u001b[0m\u001b[0;34m(\u001b[0m\u001b[0;34mf'{mode} epoch {epoch}'\u001b[0m\u001b[0;34m)\u001b[0m\u001b[0;34m\u001b[0m\u001b[0;34m\u001b[0m\u001b[0m\n\u001b[1;32m    232\u001b[0m                 \u001b[0;31m#Take batch of inputs in variable X and corrispondent labels in variable y\u001b[0m\u001b[0;34m\u001b[0m\u001b[0;34m\u001b[0m\u001b[0;34m\u001b[0m\u001b[0m\n",
            "\u001b[0;32m/usr/local/lib/python3.8/dist-packages/tqdm/std.py\u001b[0m in \u001b[0;36m__iter__\u001b[0;34m(self)\u001b[0m\n\u001b[1;32m   1193\u001b[0m \u001b[0;34m\u001b[0m\u001b[0m\n\u001b[1;32m   1194\u001b[0m         \u001b[0;32mtry\u001b[0m\u001b[0;34m:\u001b[0m\u001b[0;34m\u001b[0m\u001b[0;34m\u001b[0m\u001b[0m\n\u001b[0;32m-> 1195\u001b[0;31m             \u001b[0;32mfor\u001b[0m \u001b[0mobj\u001b[0m \u001b[0;32min\u001b[0m \u001b[0miterable\u001b[0m\u001b[0;34m:\u001b[0m\u001b[0;34m\u001b[0m\u001b[0;34m\u001b[0m\u001b[0m\n\u001b[0m\u001b[1;32m   1196\u001b[0m                 \u001b[0;32myield\u001b[0m \u001b[0mobj\u001b[0m\u001b[0;34m\u001b[0m\u001b[0;34m\u001b[0m\u001b[0m\n\u001b[1;32m   1197\u001b[0m                 \u001b[0;31m# Update and possibly print the progressbar.\u001b[0m\u001b[0;34m\u001b[0m\u001b[0;34m\u001b[0m\u001b[0;34m\u001b[0m\u001b[0m\n",
            "\u001b[0;32m/usr/local/lib/python3.8/dist-packages/torch/utils/data/dataloader.py\u001b[0m in \u001b[0;36m__next__\u001b[0;34m(self)\u001b[0m\n\u001b[1;32m    626\u001b[0m                 \u001b[0;31m# TODO(https://github.com/pytorch/pytorch/issues/76750)\u001b[0m\u001b[0;34m\u001b[0m\u001b[0;34m\u001b[0m\u001b[0;34m\u001b[0m\u001b[0m\n\u001b[1;32m    627\u001b[0m                 \u001b[0mself\u001b[0m\u001b[0;34m.\u001b[0m\u001b[0m_reset\u001b[0m\u001b[0;34m(\u001b[0m\u001b[0;34m)\u001b[0m  \u001b[0;31m# type: ignore[call-arg]\u001b[0m\u001b[0;34m\u001b[0m\u001b[0;34m\u001b[0m\u001b[0m\n\u001b[0;32m--> 628\u001b[0;31m             \u001b[0mdata\u001b[0m \u001b[0;34m=\u001b[0m \u001b[0mself\u001b[0m\u001b[0;34m.\u001b[0m\u001b[0m_next_data\u001b[0m\u001b[0;34m(\u001b[0m\u001b[0;34m)\u001b[0m\u001b[0;34m\u001b[0m\u001b[0;34m\u001b[0m\u001b[0m\n\u001b[0m\u001b[1;32m    629\u001b[0m             \u001b[0mself\u001b[0m\u001b[0;34m.\u001b[0m\u001b[0m_num_yielded\u001b[0m \u001b[0;34m+=\u001b[0m \u001b[0;36m1\u001b[0m\u001b[0;34m\u001b[0m\u001b[0;34m\u001b[0m\u001b[0m\n\u001b[1;32m    630\u001b[0m             \u001b[0;32mif\u001b[0m \u001b[0mself\u001b[0m\u001b[0;34m.\u001b[0m\u001b[0m_dataset_kind\u001b[0m \u001b[0;34m==\u001b[0m \u001b[0m_DatasetKind\u001b[0m\u001b[0;34m.\u001b[0m\u001b[0mIterable\u001b[0m \u001b[0;32mand\u001b[0m\u001b[0;31m \u001b[0m\u001b[0;31m\\\u001b[0m\u001b[0;34m\u001b[0m\u001b[0;34m\u001b[0m\u001b[0m\n",
            "\u001b[0;32m/usr/local/lib/python3.8/dist-packages/torch/utils/data/dataloader.py\u001b[0m in \u001b[0;36m_next_data\u001b[0;34m(self)\u001b[0m\n\u001b[1;32m   1314\u001b[0m \u001b[0;34m\u001b[0m\u001b[0m\n\u001b[1;32m   1315\u001b[0m             \u001b[0;32massert\u001b[0m \u001b[0;32mnot\u001b[0m \u001b[0mself\u001b[0m\u001b[0;34m.\u001b[0m\u001b[0m_shutdown\u001b[0m \u001b[0;32mand\u001b[0m \u001b[0mself\u001b[0m\u001b[0;34m.\u001b[0m\u001b[0m_tasks_outstanding\u001b[0m \u001b[0;34m>\u001b[0m \u001b[0;36m0\u001b[0m\u001b[0;34m\u001b[0m\u001b[0;34m\u001b[0m\u001b[0m\n\u001b[0;32m-> 1316\u001b[0;31m             \u001b[0midx\u001b[0m\u001b[0;34m,\u001b[0m \u001b[0mdata\u001b[0m \u001b[0;34m=\u001b[0m \u001b[0mself\u001b[0m\u001b[0;34m.\u001b[0m\u001b[0m_get_data\u001b[0m\u001b[0;34m(\u001b[0m\u001b[0;34m)\u001b[0m\u001b[0;34m\u001b[0m\u001b[0;34m\u001b[0m\u001b[0m\n\u001b[0m\u001b[1;32m   1317\u001b[0m             \u001b[0mself\u001b[0m\u001b[0;34m.\u001b[0m\u001b[0m_tasks_outstanding\u001b[0m \u001b[0;34m-=\u001b[0m \u001b[0;36m1\u001b[0m\u001b[0;34m\u001b[0m\u001b[0;34m\u001b[0m\u001b[0m\n\u001b[1;32m   1318\u001b[0m             \u001b[0;32mif\u001b[0m \u001b[0mself\u001b[0m\u001b[0;34m.\u001b[0m\u001b[0m_dataset_kind\u001b[0m \u001b[0;34m==\u001b[0m \u001b[0m_DatasetKind\u001b[0m\u001b[0;34m.\u001b[0m\u001b[0mIterable\u001b[0m\u001b[0;34m:\u001b[0m\u001b[0;34m\u001b[0m\u001b[0;34m\u001b[0m\u001b[0m\n",
            "\u001b[0;32m/usr/local/lib/python3.8/dist-packages/torch/utils/data/dataloader.py\u001b[0m in \u001b[0;36m_get_data\u001b[0;34m(self)\u001b[0m\n\u001b[1;32m   1280\u001b[0m         \u001b[0;32melse\u001b[0m\u001b[0;34m:\u001b[0m\u001b[0;34m\u001b[0m\u001b[0;34m\u001b[0m\u001b[0m\n\u001b[1;32m   1281\u001b[0m             \u001b[0;32mwhile\u001b[0m \u001b[0;32mTrue\u001b[0m\u001b[0;34m:\u001b[0m\u001b[0;34m\u001b[0m\u001b[0;34m\u001b[0m\u001b[0m\n\u001b[0;32m-> 1282\u001b[0;31m                 \u001b[0msuccess\u001b[0m\u001b[0;34m,\u001b[0m \u001b[0mdata\u001b[0m \u001b[0;34m=\u001b[0m \u001b[0mself\u001b[0m\u001b[0;34m.\u001b[0m\u001b[0m_try_get_data\u001b[0m\u001b[0;34m(\u001b[0m\u001b[0;34m)\u001b[0m\u001b[0;34m\u001b[0m\u001b[0;34m\u001b[0m\u001b[0m\n\u001b[0m\u001b[1;32m   1283\u001b[0m                 \u001b[0;32mif\u001b[0m \u001b[0msuccess\u001b[0m\u001b[0;34m:\u001b[0m\u001b[0;34m\u001b[0m\u001b[0;34m\u001b[0m\u001b[0m\n\u001b[1;32m   1284\u001b[0m                     \u001b[0;32mreturn\u001b[0m \u001b[0mdata\u001b[0m\u001b[0;34m\u001b[0m\u001b[0;34m\u001b[0m\u001b[0m\n",
            "\u001b[0;32m/usr/local/lib/python3.8/dist-packages/torch/utils/data/dataloader.py\u001b[0m in \u001b[0;36m_try_get_data\u001b[0;34m(self, timeout)\u001b[0m\n\u001b[1;32m   1118\u001b[0m         \u001b[0;31m#   (bool: whether successfully get data, any: data if successful else None)\u001b[0m\u001b[0;34m\u001b[0m\u001b[0;34m\u001b[0m\u001b[0;34m\u001b[0m\u001b[0m\n\u001b[1;32m   1119\u001b[0m         \u001b[0;32mtry\u001b[0m\u001b[0;34m:\u001b[0m\u001b[0;34m\u001b[0m\u001b[0;34m\u001b[0m\u001b[0m\n\u001b[0;32m-> 1120\u001b[0;31m             \u001b[0mdata\u001b[0m \u001b[0;34m=\u001b[0m \u001b[0mself\u001b[0m\u001b[0;34m.\u001b[0m\u001b[0m_data_queue\u001b[0m\u001b[0;34m.\u001b[0m\u001b[0mget\u001b[0m\u001b[0;34m(\u001b[0m\u001b[0mtimeout\u001b[0m\u001b[0;34m=\u001b[0m\u001b[0mtimeout\u001b[0m\u001b[0;34m)\u001b[0m\u001b[0;34m\u001b[0m\u001b[0;34m\u001b[0m\u001b[0m\n\u001b[0m\u001b[1;32m   1121\u001b[0m             \u001b[0;32mreturn\u001b[0m \u001b[0;34m(\u001b[0m\u001b[0;32mTrue\u001b[0m\u001b[0;34m,\u001b[0m \u001b[0mdata\u001b[0m\u001b[0;34m)\u001b[0m\u001b[0;34m\u001b[0m\u001b[0;34m\u001b[0m\u001b[0m\n\u001b[1;32m   1122\u001b[0m         \u001b[0;32mexcept\u001b[0m \u001b[0mException\u001b[0m \u001b[0;32mas\u001b[0m \u001b[0me\u001b[0m\u001b[0;34m:\u001b[0m\u001b[0;34m\u001b[0m\u001b[0;34m\u001b[0m\u001b[0m\n",
            "\u001b[0;32m/usr/lib/python3.8/multiprocessing/queues.py\u001b[0m in \u001b[0;36mget\u001b[0;34m(self, block, timeout)\u001b[0m\n\u001b[1;32m    105\u001b[0m                 \u001b[0;32mif\u001b[0m \u001b[0mblock\u001b[0m\u001b[0;34m:\u001b[0m\u001b[0;34m\u001b[0m\u001b[0;34m\u001b[0m\u001b[0m\n\u001b[1;32m    106\u001b[0m                     \u001b[0mtimeout\u001b[0m \u001b[0;34m=\u001b[0m \u001b[0mdeadline\u001b[0m \u001b[0;34m-\u001b[0m \u001b[0mtime\u001b[0m\u001b[0;34m.\u001b[0m\u001b[0mmonotonic\u001b[0m\u001b[0;34m(\u001b[0m\u001b[0;34m)\u001b[0m\u001b[0;34m\u001b[0m\u001b[0;34m\u001b[0m\u001b[0m\n\u001b[0;32m--> 107\u001b[0;31m                     \u001b[0;32mif\u001b[0m \u001b[0;32mnot\u001b[0m \u001b[0mself\u001b[0m\u001b[0;34m.\u001b[0m\u001b[0m_poll\u001b[0m\u001b[0;34m(\u001b[0m\u001b[0mtimeout\u001b[0m\u001b[0;34m)\u001b[0m\u001b[0;34m:\u001b[0m\u001b[0;34m\u001b[0m\u001b[0;34m\u001b[0m\u001b[0m\n\u001b[0m\u001b[1;32m    108\u001b[0m                         \u001b[0;32mraise\u001b[0m \u001b[0mEmpty\u001b[0m\u001b[0;34m\u001b[0m\u001b[0;34m\u001b[0m\u001b[0m\n\u001b[1;32m    109\u001b[0m                 \u001b[0;32melif\u001b[0m \u001b[0;32mnot\u001b[0m \u001b[0mself\u001b[0m\u001b[0;34m.\u001b[0m\u001b[0m_poll\u001b[0m\u001b[0;34m(\u001b[0m\u001b[0;34m)\u001b[0m\u001b[0;34m:\u001b[0m\u001b[0;34m\u001b[0m\u001b[0;34m\u001b[0m\u001b[0m\n",
            "\u001b[0;32m/usr/lib/python3.8/multiprocessing/connection.py\u001b[0m in \u001b[0;36mpoll\u001b[0;34m(self, timeout)\u001b[0m\n\u001b[1;32m    255\u001b[0m         \u001b[0mself\u001b[0m\u001b[0;34m.\u001b[0m\u001b[0m_check_closed\u001b[0m\u001b[0;34m(\u001b[0m\u001b[0;34m)\u001b[0m\u001b[0;34m\u001b[0m\u001b[0;34m\u001b[0m\u001b[0m\n\u001b[1;32m    256\u001b[0m         \u001b[0mself\u001b[0m\u001b[0;34m.\u001b[0m\u001b[0m_check_readable\u001b[0m\u001b[0;34m(\u001b[0m\u001b[0;34m)\u001b[0m\u001b[0;34m\u001b[0m\u001b[0;34m\u001b[0m\u001b[0m\n\u001b[0;32m--> 257\u001b[0;31m         \u001b[0;32mreturn\u001b[0m \u001b[0mself\u001b[0m\u001b[0;34m.\u001b[0m\u001b[0m_poll\u001b[0m\u001b[0;34m(\u001b[0m\u001b[0mtimeout\u001b[0m\u001b[0;34m)\u001b[0m\u001b[0;34m\u001b[0m\u001b[0;34m\u001b[0m\u001b[0m\n\u001b[0m\u001b[1;32m    258\u001b[0m \u001b[0;34m\u001b[0m\u001b[0m\n\u001b[1;32m    259\u001b[0m     \u001b[0;32mdef\u001b[0m \u001b[0m__enter__\u001b[0m\u001b[0;34m(\u001b[0m\u001b[0mself\u001b[0m\u001b[0;34m)\u001b[0m\u001b[0;34m:\u001b[0m\u001b[0;34m\u001b[0m\u001b[0;34m\u001b[0m\u001b[0m\n",
            "\u001b[0;32m/usr/lib/python3.8/multiprocessing/connection.py\u001b[0m in \u001b[0;36m_poll\u001b[0;34m(self, timeout)\u001b[0m\n\u001b[1;32m    422\u001b[0m \u001b[0;34m\u001b[0m\u001b[0m\n\u001b[1;32m    423\u001b[0m     \u001b[0;32mdef\u001b[0m \u001b[0m_poll\u001b[0m\u001b[0;34m(\u001b[0m\u001b[0mself\u001b[0m\u001b[0;34m,\u001b[0m \u001b[0mtimeout\u001b[0m\u001b[0;34m)\u001b[0m\u001b[0;34m:\u001b[0m\u001b[0;34m\u001b[0m\u001b[0;34m\u001b[0m\u001b[0m\n\u001b[0;32m--> 424\u001b[0;31m         \u001b[0mr\u001b[0m \u001b[0;34m=\u001b[0m \u001b[0mwait\u001b[0m\u001b[0;34m(\u001b[0m\u001b[0;34m[\u001b[0m\u001b[0mself\u001b[0m\u001b[0;34m]\u001b[0m\u001b[0;34m,\u001b[0m \u001b[0mtimeout\u001b[0m\u001b[0;34m)\u001b[0m\u001b[0;34m\u001b[0m\u001b[0;34m\u001b[0m\u001b[0m\n\u001b[0m\u001b[1;32m    425\u001b[0m         \u001b[0;32mreturn\u001b[0m \u001b[0mbool\u001b[0m\u001b[0;34m(\u001b[0m\u001b[0mr\u001b[0m\u001b[0;34m)\u001b[0m\u001b[0;34m\u001b[0m\u001b[0;34m\u001b[0m\u001b[0m\n\u001b[1;32m    426\u001b[0m \u001b[0;34m\u001b[0m\u001b[0m\n",
            "\u001b[0;32m/usr/lib/python3.8/multiprocessing/connection.py\u001b[0m in \u001b[0;36mwait\u001b[0;34m(object_list, timeout)\u001b[0m\n\u001b[1;32m    929\u001b[0m \u001b[0;34m\u001b[0m\u001b[0m\n\u001b[1;32m    930\u001b[0m             \u001b[0;32mwhile\u001b[0m \u001b[0;32mTrue\u001b[0m\u001b[0;34m:\u001b[0m\u001b[0;34m\u001b[0m\u001b[0;34m\u001b[0m\u001b[0m\n\u001b[0;32m--> 931\u001b[0;31m                 \u001b[0mready\u001b[0m \u001b[0;34m=\u001b[0m \u001b[0mselector\u001b[0m\u001b[0;34m.\u001b[0m\u001b[0mselect\u001b[0m\u001b[0;34m(\u001b[0m\u001b[0mtimeout\u001b[0m\u001b[0;34m)\u001b[0m\u001b[0;34m\u001b[0m\u001b[0;34m\u001b[0m\u001b[0m\n\u001b[0m\u001b[1;32m    932\u001b[0m                 \u001b[0;32mif\u001b[0m \u001b[0mready\u001b[0m\u001b[0;34m:\u001b[0m\u001b[0;34m\u001b[0m\u001b[0;34m\u001b[0m\u001b[0m\n\u001b[1;32m    933\u001b[0m                     \u001b[0;32mreturn\u001b[0m \u001b[0;34m[\u001b[0m\u001b[0mkey\u001b[0m\u001b[0;34m.\u001b[0m\u001b[0mfileobj\u001b[0m \u001b[0;32mfor\u001b[0m \u001b[0;34m(\u001b[0m\u001b[0mkey\u001b[0m\u001b[0;34m,\u001b[0m \u001b[0mevents\u001b[0m\u001b[0;34m)\u001b[0m \u001b[0;32min\u001b[0m \u001b[0mready\u001b[0m\u001b[0;34m]\u001b[0m\u001b[0;34m\u001b[0m\u001b[0;34m\u001b[0m\u001b[0m\n",
            "\u001b[0;32m/usr/lib/python3.8/selectors.py\u001b[0m in \u001b[0;36mselect\u001b[0;34m(self, timeout)\u001b[0m\n\u001b[1;32m    413\u001b[0m         \u001b[0mready\u001b[0m \u001b[0;34m=\u001b[0m \u001b[0;34m[\u001b[0m\u001b[0;34m]\u001b[0m\u001b[0;34m\u001b[0m\u001b[0;34m\u001b[0m\u001b[0m\n\u001b[1;32m    414\u001b[0m         \u001b[0;32mtry\u001b[0m\u001b[0;34m:\u001b[0m\u001b[0;34m\u001b[0m\u001b[0;34m\u001b[0m\u001b[0m\n\u001b[0;32m--> 415\u001b[0;31m             \u001b[0mfd_event_list\u001b[0m \u001b[0;34m=\u001b[0m \u001b[0mself\u001b[0m\u001b[0;34m.\u001b[0m\u001b[0m_selector\u001b[0m\u001b[0;34m.\u001b[0m\u001b[0mpoll\u001b[0m\u001b[0;34m(\u001b[0m\u001b[0mtimeout\u001b[0m\u001b[0;34m)\u001b[0m\u001b[0;34m\u001b[0m\u001b[0;34m\u001b[0m\u001b[0m\n\u001b[0m\u001b[1;32m    416\u001b[0m         \u001b[0;32mexcept\u001b[0m \u001b[0mInterruptedError\u001b[0m\u001b[0;34m:\u001b[0m\u001b[0;34m\u001b[0m\u001b[0;34m\u001b[0m\u001b[0m\n\u001b[1;32m    417\u001b[0m             \u001b[0;32mreturn\u001b[0m \u001b[0mready\u001b[0m\u001b[0;34m\u001b[0m\u001b[0;34m\u001b[0m\u001b[0m\n",
            "\u001b[0;31mKeyboardInterrupt\u001b[0m: "
          ]
        }
      ],
      "source": [
        "train.train_erm(best_resume_checkpoint_path=\"best_erm_model.pt\",last_resume_checkpoint_path=\"last_erm_model.pt\")"
      ]
    },
    {
      "cell_type": "code",
      "execution_count": null,
      "metadata": {
        "colab": {
          "base_uri": "https://localhost:8080/"
        },
        "id": "tbnquq0580DA",
        "outputId": "1860893c-568c-40f0-e852-36149b1950e2"
      },
      "outputs": [
        {
          "name": "stderr",
          "output_type": "stream",
          "text": [
            "train epoch 94: 100%|██████████| 355/355 [07:55<00:00,  1.34s/it, loss=0.404, accuracy=0.957]\n",
            "validation epoch 94: 100%|██████████| 33/33 [00:38<00:00,  1.17s/it, loss=0.418, accuracy=0.956]\n",
            "train epoch 95: 100%|██████████| 355/355 [07:44<00:00,  1.31s/it, loss=0.405, accuracy=0.956]\n",
            "validation epoch 95: 100%|██████████| 33/33 [00:35<00:00,  1.09s/it, loss=0.412, accuracy=0.952]\n",
            "train epoch 96: 100%|██████████| 355/355 [07:43<00:00,  1.31s/it, loss=0.404, accuracy=0.956]\n",
            "validation epoch 96: 100%|██████████| 33/33 [00:36<00:00,  1.11s/it, loss=0.418, accuracy=0.956]\n",
            "train epoch 97: 100%|██████████| 355/355 [07:43<00:00,  1.31s/it, loss=0.403, accuracy=0.956]\n",
            "validation epoch 97: 100%|██████████| 33/33 [00:35<00:00,  1.08s/it, loss=0.405, accuracy=0.957]\n",
            "train epoch 98: 100%|██████████| 355/355 [07:43<00:00,  1.31s/it, loss=0.405, accuracy=0.956]\n",
            "validation epoch 98: 100%|██████████| 33/33 [00:35<00:00,  1.08s/it, loss=0.414, accuracy=0.957]\n",
            "train epoch 99: 100%|██████████| 355/355 [07:42<00:00,  1.30s/it, loss=0.405, accuracy=0.956]\n",
            "validation epoch 99: 100%|██████████| 33/33 [00:37<00:00,  1.12s/it, loss=0.405, accuracy=0.961]\n"
          ]
        }
      ],
      "source": [
        "train.train_erm(best_resume_checkpoint_path=\"best_erm_model.pt\",last_resume_checkpoint_path=\"last_erm_model.pt\")"
      ]
    },
    {
      "cell_type": "code",
      "execution_count": null,
      "metadata": {
        "colab": {
          "base_uri": "https://localhost:8080/"
        },
        "id": "I0yS0ZqSVWSo",
        "outputId": "b83bf49f-2bc7-41f5-e722-b3a2a19724fa"
      },
      "outputs": [
        {
          "name": "stdout",
          "output_type": "stream",
          "text": [
            "----------testing the model----------\n",
            "----------Testing loader original accuracy----------\n"
          ]
        },
        {
          "name": "stderr",
          "output_type": "stream",
          "text": [
            "train epoch 99: 100%|██████████| 32/32 [00:40<00:00,  1.27s/it, loss=1.91, accuracy=0.397]\n"
          ]
        },
        {
          "name": "stdout",
          "output_type": "stream",
          "text": [
            "----------Test loader original accuracy =0.39732993521341464----------\n",
            "----------Testing loader mixed same accuracy----------\n"
          ]
        },
        {
          "name": "stderr",
          "output_type": "stream",
          "text": [
            "train epoch 99: 100%|██████████| 32/32 [00:39<00:00,  1.22s/it, loss=1.97, accuracy=0.36]\n"
          ]
        },
        {
          "name": "stdout",
          "output_type": "stream",
          "text": [
            "----------Test loader mixed same accuracy =0.35961318597560976----------\n",
            "----------Testing loader mixed rand accuracy----------\n"
          ]
        },
        {
          "name": "stderr",
          "output_type": "stream",
          "text": [
            "train epoch 99: 100%|██████████| 32/32 [00:40<00:00,  1.28s/it, loss=2.1, accuracy=0.326]\n"
          ]
        },
        {
          "name": "stdout",
          "output_type": "stream",
          "text": [
            "----------Test loader mixed rand accuracy =0.3260885099085366----------\n",
            "----------Testing loader only foreground accuracy----------\n"
          ]
        },
        {
          "name": "stderr",
          "output_type": "stream",
          "text": [
            "train epoch 99: 100%|██████████| 32/32 [00:40<00:00,  1.28s/it, loss=2, accuracy=0.341]"
          ]
        },
        {
          "name": "stdout",
          "output_type": "stream",
          "text": [
            "----------Test loader only foreground accuracy =0.34140982278963417----------\n"
          ]
        },
        {
          "name": "stderr",
          "output_type": "stream",
          "text": [
            "\n"
          ]
        }
      ],
      "source": [
        "train.test(\"best_erm_model.pt\")"
      ]
    },
    {
      "cell_type": "code",
      "execution_count": null,
      "metadata": {
        "colab": {
          "base_uri": "https://localhost:8080/"
        },
        "id": "XYlp_Gakk4GK",
        "outputId": "167be4c1-c6fc-4006-cc8a-acabfed99232"
      },
      "outputs": [
        {
          "name": "stdout",
          "output_type": "stream",
          "text": [
            "---------- indexing Masked data ----------\n"
          ]
        },
        {
          "name": "stderr",
          "output_type": "stream",
          "text": [
            "100%|██████████| 9/9 [00:00<00:00, 80.73it/s]\n",
            "train epoch 100: 100%|██████████| 355/355 [07:44<00:00,  1.31s/it, loss=0.532, accuracy=0.896]\n",
            "validation epoch 100: 100%|██████████| 33/33 [00:37<00:00,  1.14s/it, loss=0.446, accuracy=0.96]\n"
          ]
        }
      ],
      "source": [
        "def finetune(best_resume_checkpoint_path: str=None, last_resume_checkpoint_path: str=None) -> None:\n",
        "  \n",
        "  if(best_resume_checkpoint_path!=None and last_resume_checkpoint_path!=None):\n",
        "    train.mask_data(best_resume_checkpoint_path)\n",
        "    checkpoint = torch.load(last_resume_checkpoint_path)\n",
        "    train.model.load_state_dict(checkpoint['model_state_dict'])\n",
        "    train.optimizer.load_state_dict(checkpoint['optimizer_state_dict'])\n",
        "    resume_epoch = checkpoint['epoch'] + 1\n",
        "\n",
        "\n",
        "    train.run_an_epoch(data_loader=train.masked_loader,epoch=resume_epoch,mode=\"train\",device=train.device)\n",
        "    val_accuracy = train.run_an_epoch(\n",
        "        data_loader=train.val_loader, epoch=resume_epoch, mode=\"validation\",device=train.device\n",
        "    )\n",
        "    torch.save({\n",
        "                'epoch': resume_epoch,\n",
        "                'model_state_dict': train.model.state_dict(),\n",
        "                'optimizer_state_dict': train.optimizer.state_dict(),\n",
        "                'scheduler_state_dict': train.lr_scheduler.state_dict(),\n",
        "                'accuracy' : val_accuracy,\n",
        "                }, \"masked_erm_model.pt\")\n",
        "    \n",
        "\n",
        "finetune(best_resume_checkpoint_path=\"best_erm_model.pt\",last_resume_checkpoint_path=\"last_erm_model.pt\")"
      ]
    },
    {
      "cell_type": "code",
      "execution_count": null,
      "metadata": {
        "colab": {
          "base_uri": "https://localhost:8080/"
        },
        "id": "QMtaNsco4Cqo",
        "outputId": "c56fc532-c3a7-4460-ba87-639c2fb63a4d"
      },
      "outputs": [
        {
          "name": "stdout",
          "output_type": "stream",
          "text": [
            "----------testing the model----------\n",
            "----------Testing loader original accuracy----------\n"
          ]
        },
        {
          "name": "stderr",
          "output_type": "stream",
          "text": [
            "test epoch 100: 100%|██████████| 32/32 [00:15<00:00,  2.12it/s, loss=0.456, accuracy=0.963]\n"
          ]
        },
        {
          "name": "stdout",
          "output_type": "stream",
          "text": [
            "----------Testing loader mixed same accuracy----------\n"
          ]
        },
        {
          "name": "stderr",
          "output_type": "stream",
          "text": [
            "test epoch 100: 100%|██████████| 32/32 [00:15<00:00,  2.13it/s, loss=0.475, accuracy=0.936]\n"
          ]
        },
        {
          "name": "stdout",
          "output_type": "stream",
          "text": [
            "----------Testing loader mixed rand accuracy----------\n"
          ]
        },
        {
          "name": "stderr",
          "output_type": "stream",
          "text": [
            "test epoch 100: 100%|██████████| 32/32 [00:14<00:00,  2.16it/s, loss=0.894, accuracy=0.764]\n"
          ]
        },
        {
          "name": "stdout",
          "output_type": "stream",
          "text": [
            "----------Testing loader only foreground accuracy----------\n"
          ]
        },
        {
          "name": "stderr",
          "output_type": "stream",
          "text": [
            "test epoch 100: 100%|██████████| 32/32 [00:14<00:00,  2.25it/s, loss=0.664, accuracy=0.909]\n"
          ]
        }
      ],
      "source": [
        "train.test(\"masked_erm_model.pt\")"
      ]
    }
  ],
  "metadata": {
    "accelerator": "GPU",
    "colab": {
      "provenance": []
    },
    "gpuClass": "standard",
    "kernelspec": {
      "display_name": "base",
      "language": "python",
      "name": "python3"
    },
    "language_info": {
      "name": "python",
      "version": "3.9.13 (main, Aug 25 2022, 23:51:50) [MSC v.1916 64 bit (AMD64)]"
    },
    "vscode": {
      "interpreter": {
        "hash": "35245964b02ff0b8366a59ddbb06e7fec6c998537075754623b17923808d9864"
      }
    }
  },
  "nbformat": 4,
  "nbformat_minor": 0
}
