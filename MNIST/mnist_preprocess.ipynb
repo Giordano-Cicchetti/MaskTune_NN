{
  "cells": [
    {
      "cell_type": "code",
      "execution_count": 1,
      "metadata": {
        "id": "zQOL1IniDSk7"
      },
      "outputs": [],
      "source": [
        "import torch\n",
        "import os"
      ]
    },
    {
      "cell_type": "code",
      "execution_count": 2,
      "metadata": {
        "colab": {
          "base_uri": "https://localhost:8080/"
        },
        "id": "0cJjuFxNKrYx",
        "outputId": "93f77eaa-091a-4bf2-8e95-ed14d543494f"
      },
      "outputs": [
        {
          "output_type": "stream",
          "name": "stdout",
          "text": [
            "Cloning into 'MaskTune_NN'...\n",
            "remote: Enumerating objects: 43, done.\u001b[K\n",
            "remote: Counting objects: 100% (43/43), done.\u001b[K\n",
            "remote: Compressing objects: 100% (28/28), done.\u001b[K\n",
            "remote: Total 43 (delta 15), reused 34 (delta 12), pack-reused 0\u001b[K\n",
            "Unpacking objects: 100% (43/43), 54.49 KiB | 3.21 MiB/s, done.\n"
          ]
        }
      ],
      "source": [
        "#only in google colab\n",
        "!git clone https://github.com/Giordano-Cicchetti/MaskTune_NN/"
      ]
    },
    {
      "cell_type": "code",
      "execution_count": 3,
      "metadata": {
        "id": "S5iimDN9QED2"
      },
      "outputs": [],
      "source": [
        "#only on google colab\n",
        "!cp MaskTune_NN/MNIST/* /content -r\n",
        "!rm MaskTune_NN/ -r"
      ]
    },
    {
      "cell_type": "code",
      "execution_count": 4,
      "metadata": {
        "colab": {
          "base_uri": "https://localhost:8080/"
        },
        "id": "Va6zuljTDhFv",
        "outputId": "d0ef7027-619f-45e2-c286-aa6b52c49a05"
      },
      "outputs": [
        {
          "output_type": "execute_result",
          "data": {
            "text/plain": [
              "device(type='cuda')"
            ]
          },
          "metadata": {},
          "execution_count": 4
        }
      ],
      "source": [
        "# Device configuration\n",
        "device = torch.device('cuda' if torch.cuda.is_available() else 'cpu')\n",
        "device"
      ]
    },
    {
      "cell_type": "code",
      "execution_count": 25,
      "metadata": {
        "id": "JGvz8Oa_L_UL",
        "outputId": "22febda4-7515-4352-b539-2f6a976b674a",
        "colab": {
          "base_uri": "https://localhost:8080/"
        }
      },
      "outputs": [
        {
          "output_type": "stream",
          "name": "stdout",
          "text": [
            "data/MNISTRGB_BIASED/train\n",
            "data/MNISTRGB_BIASED/test/original\n",
            "data/MNISTRGB_BIASED/test/biased\n"
          ]
        }
      ],
      "source": [
        "from train import *\n",
        "train= TrainBaseERM(device)\n"
      ]
    },
    {
      "cell_type": "code",
      "source": [
        "train.test_dataset_original.targets[0:1000]"
      ],
      "metadata": {
        "id": "DYFXo141MVLk",
        "outputId": "fbae86b5-cbb8-44a9-8db0-fc0e1d929354",
        "colab": {
          "base_uri": "https://localhost:8080/"
        }
      },
      "execution_count": 29,
      "outputs": [
        {
          "output_type": "execute_result",
          "data": {
            "text/plain": [
              "tensor([0, 0, 0, 0, 0, 0, 0, 0, 0, 0, 0, 0, 0, 0, 0, 0, 0, 0, 0, 0, 0, 0, 0, 0,\n",
              "        0, 0, 0, 0, 0, 0, 0, 0, 0, 0, 0, 0, 0, 0, 0, 0, 0, 0, 0, 0, 0, 0, 0, 0,\n",
              "        0, 0, 0, 0, 0, 0, 0, 0, 0, 0, 0, 0, 0, 0, 0, 0, 0, 0, 0, 0, 0, 0, 0, 0,\n",
              "        0, 0, 0, 0, 0, 0, 0, 0, 0, 0, 0, 0, 0, 0, 0, 0, 0, 0, 0, 0, 0, 0, 0, 0,\n",
              "        0, 0, 0, 0, 0, 0, 0, 0, 0, 0, 0, 0, 0, 0, 0, 0, 0, 0, 0, 0, 0, 0, 0, 0,\n",
              "        0, 0, 0, 0, 0, 0, 0, 0, 0, 0, 0, 0, 0, 0, 0, 0, 0, 0, 0, 0, 0, 0, 0, 0,\n",
              "        0, 0, 0, 0, 0, 0, 0, 0, 0, 0, 0, 0, 0, 0, 0, 0, 0, 0, 0, 0, 0, 0, 0, 0,\n",
              "        0, 0, 0, 0, 0, 0, 0, 0, 0, 0, 0, 0, 0, 0, 0, 0, 0, 0, 0, 0, 0, 0, 0, 0,\n",
              "        0, 0, 0, 0, 0, 0, 0, 0, 0, 0, 0, 0, 0, 0, 0, 0, 0, 0, 0, 0, 0, 0, 0, 0,\n",
              "        0, 0, 0, 0, 0, 0, 0, 0, 0, 0, 0, 0, 0, 0, 0, 0, 0, 0, 0, 0, 0, 0, 0, 0,\n",
              "        0, 0, 0, 0, 0, 0, 0, 0, 0, 0, 0, 0, 0, 0, 0, 0, 0, 0, 0, 0, 0, 0, 0, 0,\n",
              "        0, 0, 0, 0, 0, 0, 0, 0, 0, 0, 0, 0, 0, 0, 0, 0, 0, 0, 0, 0, 0, 0, 0, 0,\n",
              "        0, 0, 0, 0, 0, 0, 0, 0, 0, 0, 0, 0, 0, 0, 0, 0, 0, 0, 0, 0, 0, 0, 0, 0,\n",
              "        0, 0, 0, 0, 0, 0, 0, 0, 0, 0, 0, 0, 0, 0, 0, 0, 0, 0, 0, 0, 0, 0, 0, 0,\n",
              "        0, 0, 0, 0, 0, 0, 0, 0, 0, 0, 0, 0, 0, 0, 0, 0, 0, 0, 0, 0, 0, 0, 0, 0,\n",
              "        0, 0, 0, 0, 0, 0, 0, 0, 0, 0, 0, 0, 0, 0, 0, 0, 0, 0, 0, 0, 0, 0, 0, 0,\n",
              "        0, 0, 0, 0, 0, 0, 0, 0, 0, 0, 0, 0, 0, 0, 0, 0, 0, 0, 0, 0, 0, 0, 0, 0,\n",
              "        0, 0, 0, 0, 0, 0, 0, 0, 0, 0, 0, 0, 0, 0, 0, 0, 0, 0, 0, 0, 0, 0, 0, 0,\n",
              "        0, 0, 0, 0, 0, 0, 0, 0, 0, 0, 0, 0, 0, 0, 0, 0, 0, 0, 0, 0, 0, 0, 0, 0,\n",
              "        0, 0, 0, 0, 0, 0, 0, 0, 0, 0, 0, 0, 0, 0, 0, 0, 0, 0, 0, 0, 0, 0, 0, 0,\n",
              "        0, 0, 0, 0, 0, 0, 0, 0, 0, 0, 0, 0, 0, 0, 0, 0, 0, 0, 0, 0, 0, 0, 0, 0,\n",
              "        0, 0, 0, 0, 0, 0, 0, 0, 0, 0, 0, 0, 0, 0, 0, 0, 0, 0, 0, 0, 0, 0, 0, 0,\n",
              "        0, 0, 0, 0, 0, 0, 0, 0, 0, 0, 0, 0, 0, 0, 0, 0, 0, 0, 0, 0, 0, 0, 0, 0,\n",
              "        0, 0, 0, 0, 0, 0, 0, 0, 0, 0, 0, 0, 0, 0, 0, 0, 0, 0, 0, 0, 0, 0, 0, 0,\n",
              "        0, 0, 0, 0, 0, 0, 0, 0, 0, 0, 0, 0, 0, 0, 0, 0, 0, 0, 0, 0, 0, 0, 0, 0,\n",
              "        0, 0, 0, 0, 0, 0, 0, 0, 0, 0, 0, 0, 0, 0, 0, 0, 0, 0, 0, 0, 0, 0, 0, 0,\n",
              "        0, 0, 0, 0, 0, 0, 0, 0, 0, 0, 0, 0, 0, 0, 0, 0, 0, 0, 0, 0, 0, 0, 0, 0,\n",
              "        0, 0, 0, 0, 0, 0, 0, 0, 0, 0, 0, 0, 0, 0, 0, 0, 0, 0, 0, 0, 0, 0, 0, 0,\n",
              "        0, 0, 0, 0, 0, 0, 0, 0, 0, 0, 0, 0, 0, 0, 0, 0, 0, 0, 0, 0, 0, 0, 0, 0,\n",
              "        0, 0, 0, 0, 0, 0, 0, 0, 0, 0, 0, 0, 0, 0, 0, 0, 0, 0, 0, 0, 0, 0, 0, 0,\n",
              "        0, 0, 0, 0, 0, 0, 0, 0, 0, 0, 0, 0, 0, 0, 0, 0, 0, 0, 0, 0, 0, 0, 0, 0,\n",
              "        0, 0, 0, 0, 0, 0, 0, 0, 0, 0, 0, 0, 0, 0, 0, 0, 0, 0, 0, 0, 0, 0, 0, 0,\n",
              "        0, 0, 0, 0, 0, 0, 0, 0, 0, 0, 0, 0, 0, 0, 0, 0, 0, 0, 0, 0, 0, 0, 0, 0,\n",
              "        0, 0, 0, 0, 0, 0, 0, 0, 0, 0, 0, 0, 0, 0, 0, 0, 0, 0, 0, 0, 0, 0, 0, 0,\n",
              "        0, 0, 0, 0, 0, 0, 0, 0, 0, 0, 0, 0, 0, 0, 0, 0, 0, 0, 0, 0, 0, 0, 0, 0,\n",
              "        0, 0, 0, 0, 0, 0, 0, 0, 0, 0, 0, 0, 0, 0, 0, 0, 0, 0, 0, 0, 0, 0, 0, 0,\n",
              "        0, 0, 0, 0, 0, 0, 0, 0, 0, 0, 0, 0, 0, 0, 0, 0, 0, 0, 0, 0, 0, 0, 0, 0,\n",
              "        0, 0, 0, 0, 0, 0, 0, 0, 0, 0, 0, 0, 0, 0, 0, 0, 0, 0, 0, 0, 0, 0, 0, 0,\n",
              "        0, 0, 0, 0, 0, 0, 0, 0, 0, 0, 0, 0, 0, 0, 0, 0, 0, 0, 0, 0, 0, 0, 0, 0,\n",
              "        0, 0, 0, 0, 0, 0, 0, 0, 0, 0, 0, 0, 0, 0, 0, 0, 0, 0, 0, 0, 0, 0, 0, 0,\n",
              "        0, 0, 0, 0, 0, 0, 0, 0, 0, 0, 0, 0, 0, 0, 0, 0, 0, 0, 0, 0, 0, 0, 0, 0,\n",
              "        0, 0, 0, 0, 0, 0, 0, 0, 0, 0, 0, 0, 0, 0, 0, 0])"
            ]
          },
          "metadata": {},
          "execution_count": 29
        }
      ]
    },
    {
      "cell_type": "code",
      "execution_count": 30,
      "metadata": {
        "id": "W24_M4Sx4cg2",
        "outputId": "6cd53c13-04e7-4f69-9c9f-3686a8d55f79",
        "colab": {
          "base_uri": "https://localhost:8080/"
        }
      },
      "outputs": [
        {
          "output_type": "stream",
          "name": "stderr",
          "text": [
            "train epoch 0: 100%|██████████| 375/375 [00:08<00:00, 46.71it/s, loss=0.277, accuracy=0.851]\n",
            "validation epoch 0: 100%|██████████| 94/94 [00:01<00:00, 50.70it/s, loss=1.52, accuracy=0.606]\n"
          ]
        },
        {
          "output_type": "stream",
          "name": "stdout",
          "text": [
            "lr: 0.01\n"
          ]
        },
        {
          "output_type": "stream",
          "name": "stderr",
          "text": [
            "train epoch 1: 100%|██████████| 375/375 [00:08<00:00, 46.52it/s, loss=0.233, accuracy=0.871]\n",
            "validation epoch 1: 100%|██████████| 94/94 [00:01<00:00, 50.84it/s, loss=1.4, accuracy=0.606]\n"
          ]
        },
        {
          "output_type": "stream",
          "name": "stdout",
          "text": [
            "lr: 0.01\n"
          ]
        },
        {
          "output_type": "stream",
          "name": "stderr",
          "text": [
            "train epoch 2: 100%|██████████| 375/375 [00:08<00:00, 46.00it/s, loss=0.223, accuracy=0.875]\n",
            "validation epoch 2: 100%|██████████| 94/94 [00:01<00:00, 51.36it/s, loss=1.94, accuracy=0.61]\n"
          ]
        },
        {
          "output_type": "stream",
          "name": "stdout",
          "text": [
            "lr: 0.01\n"
          ]
        },
        {
          "output_type": "stream",
          "name": "stderr",
          "text": [
            "train epoch 3: 100%|██████████| 375/375 [00:08<00:00, 45.51it/s, loss=0.218, accuracy=0.876]\n",
            "validation epoch 3: 100%|██████████| 94/94 [00:01<00:00, 49.92it/s, loss=1.6, accuracy=0.602]\n"
          ]
        },
        {
          "output_type": "stream",
          "name": "stdout",
          "text": [
            "lr: 0.01\n"
          ]
        },
        {
          "output_type": "stream",
          "name": "stderr",
          "text": [
            "train epoch 4: 100%|██████████| 375/375 [00:08<00:00, 46.38it/s, loss=0.214, accuracy=0.878]\n",
            "validation epoch 4: 100%|██████████| 94/94 [00:01<00:00, 49.89it/s, loss=1.95, accuracy=0.598]\n"
          ]
        },
        {
          "output_type": "stream",
          "name": "stdout",
          "text": [
            "lr: 0.01\n"
          ]
        },
        {
          "output_type": "stream",
          "name": "stderr",
          "text": [
            "train epoch 5: 100%|██████████| 375/375 [00:08<00:00, 45.65it/s, loss=0.21, accuracy=0.882]\n",
            "validation epoch 5: 100%|██████████| 94/94 [00:01<00:00, 50.65it/s, loss=1.92, accuracy=0.61]\n"
          ]
        },
        {
          "output_type": "stream",
          "name": "stdout",
          "text": [
            "lr: 0.01\n"
          ]
        },
        {
          "output_type": "stream",
          "name": "stderr",
          "text": [
            "train epoch 6: 100%|██████████| 375/375 [00:08<00:00, 46.06it/s, loss=0.206, accuracy=0.885]\n",
            "validation epoch 6: 100%|██████████| 94/94 [00:01<00:00, 50.96it/s, loss=1.79, accuracy=0.621]\n"
          ]
        },
        {
          "output_type": "stream",
          "name": "stdout",
          "text": [
            "lr: 0.01\n"
          ]
        },
        {
          "output_type": "stream",
          "name": "stderr",
          "text": [
            "train epoch 7: 100%|██████████| 375/375 [00:08<00:00, 46.68it/s, loss=0.202, accuracy=0.886]\n",
            "validation epoch 7: 100%|██████████| 94/94 [00:01<00:00, 50.73it/s, loss=2.1, accuracy=0.603]\n"
          ]
        },
        {
          "output_type": "stream",
          "name": "stdout",
          "text": [
            "lr: 0.01\n"
          ]
        },
        {
          "output_type": "stream",
          "name": "stderr",
          "text": [
            "train epoch 8: 100%|██████████| 375/375 [00:09<00:00, 41.58it/s, loss=0.198, accuracy=0.891]\n",
            "validation epoch 8: 100%|██████████| 94/94 [00:01<00:00, 50.12it/s, loss=2.22, accuracy=0.611]\n"
          ]
        },
        {
          "output_type": "stream",
          "name": "stdout",
          "text": [
            "lr: 0.01\n"
          ]
        },
        {
          "output_type": "stream",
          "name": "stderr",
          "text": [
            "train epoch 9: 100%|██████████| 375/375 [00:08<00:00, 45.82it/s, loss=0.195, accuracy=0.893]\n",
            "validation epoch 9: 100%|██████████| 94/94 [00:01<00:00, 50.22it/s, loss=2.21, accuracy=0.625]\n"
          ]
        },
        {
          "output_type": "stream",
          "name": "stdout",
          "text": [
            "lr: 0.01\n"
          ]
        }
      ],
      "source": [
        "train.train_erm(epochs=10)"
      ]
    },
    {
      "cell_type": "code",
      "execution_count": 31,
      "metadata": {
        "id": "h8IL1gdd4cg2",
        "outputId": "22530055-1513-4c25-b7f2-a6a3353bee73",
        "colab": {
          "base_uri": "https://localhost:8080/"
        }
      },
      "outputs": [
        {
          "output_type": "stream",
          "name": "stderr",
          "text": [
            "train epoch 10: 100%|██████████| 375/375 [00:08<00:00, 45.53it/s, loss=0.191, accuracy=0.896]\n",
            "validation epoch 10: 100%|██████████| 94/94 [00:01<00:00, 51.20it/s, loss=2.04, accuracy=0.628]\n"
          ]
        },
        {
          "output_type": "stream",
          "name": "stdout",
          "text": [
            "lr: 0.01\n"
          ]
        },
        {
          "output_type": "stream",
          "name": "stderr",
          "text": [
            "train epoch 11: 100%|██████████| 375/375 [00:08<00:00, 45.37it/s, loss=0.185, accuracy=0.9]\n",
            "validation epoch 11: 100%|██████████| 94/94 [00:01<00:00, 50.50it/s, loss=2.06, accuracy=0.62]\n"
          ]
        },
        {
          "output_type": "stream",
          "name": "stdout",
          "text": [
            "lr: 0.01\n"
          ]
        },
        {
          "output_type": "stream",
          "name": "stderr",
          "text": [
            "train epoch 12: 100%|██████████| 375/375 [00:08<00:00, 46.26it/s, loss=0.182, accuracy=0.903]\n",
            "validation epoch 12: 100%|██████████| 94/94 [00:01<00:00, 50.95it/s, loss=2.09, accuracy=0.61]\n"
          ]
        },
        {
          "output_type": "stream",
          "name": "stdout",
          "text": [
            "lr: 0.01\n"
          ]
        },
        {
          "output_type": "stream",
          "name": "stderr",
          "text": [
            "train epoch 13: 100%|██████████| 375/375 [00:08<00:00, 42.32it/s, loss=0.176, accuracy=0.906]\n",
            "validation epoch 13: 100%|██████████| 94/94 [00:01<00:00, 49.73it/s, loss=2.12, accuracy=0.63]\n"
          ]
        },
        {
          "output_type": "stream",
          "name": "stdout",
          "text": [
            "lr: 0.01\n"
          ]
        },
        {
          "output_type": "stream",
          "name": "stderr",
          "text": [
            "train epoch 14: 100%|██████████| 375/375 [00:08<00:00, 45.76it/s, loss=0.171, accuracy=0.91]\n",
            "validation epoch 14: 100%|██████████| 94/94 [00:01<00:00, 50.38it/s, loss=2.14, accuracy=0.607]\n"
          ]
        },
        {
          "output_type": "stream",
          "name": "stdout",
          "text": [
            "lr: 0.01\n"
          ]
        },
        {
          "output_type": "stream",
          "name": "stderr",
          "text": [
            "train epoch 15: 100%|██████████| 375/375 [00:08<00:00, 45.77it/s, loss=0.166, accuracy=0.915]\n",
            "validation epoch 15: 100%|██████████| 94/94 [00:01<00:00, 49.84it/s, loss=2.32, accuracy=0.626]\n"
          ]
        },
        {
          "output_type": "stream",
          "name": "stdout",
          "text": [
            "lr: 0.01\n"
          ]
        },
        {
          "output_type": "stream",
          "name": "stderr",
          "text": [
            "train epoch 16: 100%|██████████| 375/375 [00:08<00:00, 45.70it/s, loss=0.159, accuracy=0.918]\n",
            "validation epoch 16: 100%|██████████| 94/94 [00:01<00:00, 50.27it/s, loss=2.2, accuracy=0.652]\n"
          ]
        },
        {
          "output_type": "stream",
          "name": "stdout",
          "text": [
            "lr: 0.01\n"
          ]
        },
        {
          "output_type": "stream",
          "name": "stderr",
          "text": [
            "train epoch 17: 100%|██████████| 375/375 [00:08<00:00, 45.62it/s, loss=0.152, accuracy=0.923]\n",
            "validation epoch 17: 100%|██████████| 94/94 [00:01<00:00, 50.35it/s, loss=2.62, accuracy=0.627]\n"
          ]
        },
        {
          "output_type": "stream",
          "name": "stdout",
          "text": [
            "lr: 0.01\n"
          ]
        },
        {
          "output_type": "stream",
          "name": "stderr",
          "text": [
            "train epoch 18: 100%|██████████| 375/375 [00:08<00:00, 46.01it/s, loss=0.147, accuracy=0.928]\n",
            "validation epoch 18: 100%|██████████| 94/94 [00:01<00:00, 50.29it/s, loss=2.55, accuracy=0.6]\n"
          ]
        },
        {
          "output_type": "stream",
          "name": "stdout",
          "text": [
            "lr: 0.01\n"
          ]
        },
        {
          "output_type": "stream",
          "name": "stderr",
          "text": [
            "train epoch 19: 100%|██████████| 375/375 [00:08<00:00, 45.62it/s, loss=0.139, accuracy=0.933]\n",
            "validation epoch 19: 100%|██████████| 94/94 [00:01<00:00, 49.75it/s, loss=3.49, accuracy=0.604]\n"
          ]
        },
        {
          "output_type": "stream",
          "name": "stdout",
          "text": [
            "lr: 0.01\n"
          ]
        },
        {
          "output_type": "stream",
          "name": "stderr",
          "text": [
            "train epoch 20: 100%|██████████| 375/375 [00:08<00:00, 45.23it/s, loss=0.138, accuracy=0.933]\n",
            "validation epoch 20: 100%|██████████| 94/94 [00:01<00:00, 50.74it/s, loss=2.67, accuracy=0.649]\n"
          ]
        },
        {
          "output_type": "stream",
          "name": "stdout",
          "text": [
            "lr: 0.01\n"
          ]
        },
        {
          "output_type": "stream",
          "name": "stderr",
          "text": [
            "train epoch 21: 100%|██████████| 375/375 [00:08<00:00, 45.03it/s, loss=0.13, accuracy=0.938]\n",
            "validation epoch 21: 100%|██████████| 94/94 [00:01<00:00, 50.11it/s, loss=2.43, accuracy=0.642]\n"
          ]
        },
        {
          "output_type": "stream",
          "name": "stdout",
          "text": [
            "lr: 0.01\n"
          ]
        },
        {
          "output_type": "stream",
          "name": "stderr",
          "text": [
            "train epoch 22: 100%|██████████| 375/375 [00:08<00:00, 46.31it/s, loss=0.123, accuracy=0.942]\n",
            "validation epoch 22: 100%|██████████| 94/94 [00:01<00:00, 50.92it/s, loss=2.9, accuracy=0.644]\n"
          ]
        },
        {
          "output_type": "stream",
          "name": "stdout",
          "text": [
            "lr: 0.01\n"
          ]
        },
        {
          "output_type": "stream",
          "name": "stderr",
          "text": [
            "train epoch 23: 100%|██████████| 375/375 [00:08<00:00, 45.42it/s, loss=0.118, accuracy=0.945]\n",
            "validation epoch 23: 100%|██████████| 94/94 [00:01<00:00, 49.69it/s, loss=2.97, accuracy=0.61]\n"
          ]
        },
        {
          "output_type": "stream",
          "name": "stdout",
          "text": [
            "lr: 0.01\n"
          ]
        },
        {
          "output_type": "stream",
          "name": "stderr",
          "text": [
            "train epoch 24: 100%|██████████| 375/375 [00:08<00:00, 46.03it/s, loss=0.112, accuracy=0.948]\n",
            "validation epoch 24: 100%|██████████| 94/94 [00:01<00:00, 49.71it/s, loss=2.54, accuracy=0.642]\n"
          ]
        },
        {
          "output_type": "stream",
          "name": "stdout",
          "text": [
            "lr: 0.005\n"
          ]
        },
        {
          "output_type": "stream",
          "name": "stderr",
          "text": [
            "train epoch 25: 100%|██████████| 375/375 [00:08<00:00, 45.96it/s, loss=0.0832, accuracy=0.967]\n",
            "validation epoch 25: 100%|██████████| 94/94 [00:01<00:00, 50.11it/s, loss=3.45, accuracy=0.614]\n"
          ]
        },
        {
          "output_type": "stream",
          "name": "stdout",
          "text": [
            "lr: 0.005\n"
          ]
        },
        {
          "output_type": "stream",
          "name": "stderr",
          "text": [
            "train epoch 26: 100%|██████████| 375/375 [00:08<00:00, 45.28it/s, loss=0.0721, accuracy=0.973]\n",
            "validation epoch 26: 100%|██████████| 94/94 [00:01<00:00, 49.84it/s, loss=3.15, accuracy=0.64]\n"
          ]
        },
        {
          "output_type": "stream",
          "name": "stdout",
          "text": [
            "lr: 0.005\n"
          ]
        },
        {
          "output_type": "stream",
          "name": "stderr",
          "text": [
            "train epoch 27: 100%|██████████| 375/375 [00:08<00:00, 44.55it/s, loss=0.0665, accuracy=0.976]\n",
            "validation epoch 27: 100%|██████████| 94/94 [00:01<00:00, 49.48it/s, loss=3.39, accuracy=0.621]\n"
          ]
        },
        {
          "output_type": "stream",
          "name": "stdout",
          "text": [
            "lr: 0.005\n"
          ]
        },
        {
          "output_type": "stream",
          "name": "stderr",
          "text": [
            "train epoch 28: 100%|██████████| 375/375 [00:08<00:00, 41.74it/s, loss=0.0613, accuracy=0.978]\n",
            "validation epoch 28: 100%|██████████| 94/94 [00:01<00:00, 49.24it/s, loss=3.33, accuracy=0.629]\n"
          ]
        },
        {
          "output_type": "stream",
          "name": "stdout",
          "text": [
            "lr: 0.005\n"
          ]
        },
        {
          "output_type": "stream",
          "name": "stderr",
          "text": [
            "train epoch 29: 100%|██████████| 375/375 [00:08<00:00, 44.48it/s, loss=0.0557, accuracy=0.982]\n",
            "validation epoch 29: 100%|██████████| 94/94 [00:01<00:00, 49.31it/s, loss=3.09, accuracy=0.641]\n"
          ]
        },
        {
          "output_type": "stream",
          "name": "stdout",
          "text": [
            "lr: 0.005\n"
          ]
        },
        {
          "output_type": "stream",
          "name": "stderr",
          "text": [
            "train epoch 30: 100%|██████████| 375/375 [00:08<00:00, 45.10it/s, loss=0.0533, accuracy=0.981]\n",
            "validation epoch 30: 100%|██████████| 94/94 [00:01<00:00, 49.22it/s, loss=3.53, accuracy=0.621]\n"
          ]
        },
        {
          "output_type": "stream",
          "name": "stdout",
          "text": [
            "lr: 0.005\n"
          ]
        },
        {
          "output_type": "stream",
          "name": "stderr",
          "text": [
            "train epoch 31: 100%|██████████| 375/375 [00:08<00:00, 45.33it/s, loss=0.0491, accuracy=0.984]\n",
            "validation epoch 31: 100%|██████████| 94/94 [00:01<00:00, 49.56it/s, loss=3.1, accuracy=0.652]\n"
          ]
        },
        {
          "output_type": "stream",
          "name": "stdout",
          "text": [
            "lr: 0.005\n"
          ]
        },
        {
          "output_type": "stream",
          "name": "stderr",
          "text": [
            "train epoch 32: 100%|██████████| 375/375 [00:08<00:00, 44.44it/s, loss=0.044, accuracy=0.987]\n",
            "validation epoch 32: 100%|██████████| 94/94 [00:01<00:00, 49.63it/s, loss=3.16, accuracy=0.632]\n"
          ]
        },
        {
          "output_type": "stream",
          "name": "stdout",
          "text": [
            "lr: 0.005\n"
          ]
        },
        {
          "output_type": "stream",
          "name": "stderr",
          "text": [
            "train epoch 33: 100%|██████████| 375/375 [00:09<00:00, 40.88it/s, loss=0.0424, accuracy=0.987]\n",
            "validation epoch 33: 100%|██████████| 94/94 [00:01<00:00, 49.18it/s, loss=2.99, accuracy=0.646]\n"
          ]
        },
        {
          "output_type": "stream",
          "name": "stdout",
          "text": [
            "lr: 0.005\n"
          ]
        },
        {
          "output_type": "stream",
          "name": "stderr",
          "text": [
            "train epoch 34: 100%|██████████| 375/375 [00:08<00:00, 45.09it/s, loss=0.0385, accuracy=0.989]\n",
            "validation epoch 34: 100%|██████████| 94/94 [00:01<00:00, 48.88it/s, loss=3.09, accuracy=0.642]\n"
          ]
        },
        {
          "output_type": "stream",
          "name": "stdout",
          "text": [
            "lr: 0.005\n"
          ]
        },
        {
          "output_type": "stream",
          "name": "stderr",
          "text": [
            "train epoch 35: 100%|██████████| 375/375 [00:08<00:00, 44.48it/s, loss=0.0365, accuracy=0.99]\n",
            "validation epoch 35: 100%|██████████| 94/94 [00:01<00:00, 49.29it/s, loss=3.56, accuracy=0.631]\n"
          ]
        },
        {
          "output_type": "stream",
          "name": "stdout",
          "text": [
            "lr: 0.005\n"
          ]
        },
        {
          "output_type": "stream",
          "name": "stderr",
          "text": [
            "train epoch 36: 100%|██████████| 375/375 [00:08<00:00, 45.27it/s, loss=0.032, accuracy=0.992]\n",
            "validation epoch 36: 100%|██████████| 94/94 [00:01<00:00, 49.64it/s, loss=3.37, accuracy=0.628]\n"
          ]
        },
        {
          "output_type": "stream",
          "name": "stdout",
          "text": [
            "lr: 0.005\n"
          ]
        },
        {
          "output_type": "stream",
          "name": "stderr",
          "text": [
            "train epoch 37: 100%|██████████| 375/375 [00:08<00:00, 45.01it/s, loss=0.0298, accuracy=0.993]\n",
            "validation epoch 37: 100%|██████████| 94/94 [00:01<00:00, 47.57it/s, loss=3.53, accuracy=0.633]\n"
          ]
        },
        {
          "output_type": "stream",
          "name": "stdout",
          "text": [
            "lr: 0.005\n"
          ]
        },
        {
          "output_type": "stream",
          "name": "stderr",
          "text": [
            "train epoch 38: 100%|██████████| 375/375 [00:08<00:00, 44.92it/s, loss=0.0267, accuracy=0.994]\n",
            "validation epoch 38: 100%|██████████| 94/94 [00:01<00:00, 48.98it/s, loss=3.62, accuracy=0.631]\n"
          ]
        },
        {
          "output_type": "stream",
          "name": "stdout",
          "text": [
            "lr: 0.005\n"
          ]
        },
        {
          "output_type": "stream",
          "name": "stderr",
          "text": [
            "train epoch 39: 100%|██████████| 375/375 [00:08<00:00, 44.75it/s, loss=0.0259, accuracy=0.994]\n",
            "validation epoch 39: 100%|██████████| 94/94 [00:01<00:00, 48.85it/s, loss=3.62, accuracy=0.636]\n"
          ]
        },
        {
          "output_type": "stream",
          "name": "stdout",
          "text": [
            "lr: 0.005\n"
          ]
        },
        {
          "output_type": "stream",
          "name": "stderr",
          "text": [
            "train epoch 40: 100%|██████████| 375/375 [00:08<00:00, 44.59it/s, loss=0.0239, accuracy=0.995]\n",
            "validation epoch 40: 100%|██████████| 94/94 [00:02<00:00, 46.22it/s, loss=3.73, accuracy=0.635]\n"
          ]
        },
        {
          "output_type": "stream",
          "name": "stdout",
          "text": [
            "lr: 0.005\n"
          ]
        },
        {
          "output_type": "stream",
          "name": "stderr",
          "text": [
            "train epoch 41: 100%|██████████| 375/375 [00:08<00:00, 44.80it/s, loss=0.0209, accuracy=0.996]\n",
            "validation epoch 41: 100%|██████████| 94/94 [00:01<00:00, 48.77it/s, loss=3.63, accuracy=0.638]\n"
          ]
        },
        {
          "output_type": "stream",
          "name": "stdout",
          "text": [
            "lr: 0.005\n"
          ]
        },
        {
          "output_type": "stream",
          "name": "stderr",
          "text": [
            "train epoch 42: 100%|██████████| 375/375 [00:08<00:00, 44.52it/s, loss=0.0194, accuracy=0.997]\n",
            "validation epoch 42: 100%|██████████| 94/94 [00:01<00:00, 48.33it/s, loss=3.44, accuracy=0.65]\n"
          ]
        },
        {
          "output_type": "stream",
          "name": "stdout",
          "text": [
            "lr: 0.005\n"
          ]
        },
        {
          "output_type": "stream",
          "name": "stderr",
          "text": [
            "train epoch 43: 100%|██████████| 375/375 [00:08<00:00, 44.22it/s, loss=0.0173, accuracy=0.998]\n",
            "validation epoch 43: 100%|██████████| 94/94 [00:01<00:00, 48.74it/s, loss=3.59, accuracy=0.651]\n"
          ]
        },
        {
          "output_type": "stream",
          "name": "stdout",
          "text": [
            "lr: 0.005\n"
          ]
        },
        {
          "output_type": "stream",
          "name": "stderr",
          "text": [
            "train epoch 44: 100%|██████████| 375/375 [00:08<00:00, 43.98it/s, loss=0.0168, accuracy=0.997]\n",
            "validation epoch 44: 100%|██████████| 94/94 [00:01<00:00, 48.36it/s, loss=3.98, accuracy=0.627]\n"
          ]
        },
        {
          "output_type": "stream",
          "name": "stdout",
          "text": [
            "lr: 0.005\n"
          ]
        },
        {
          "output_type": "stream",
          "name": "stderr",
          "text": [
            "train epoch 45: 100%|██████████| 375/375 [00:08<00:00, 44.42it/s, loss=0.0134, accuracy=0.999]\n",
            "validation epoch 45: 100%|██████████| 94/94 [00:01<00:00, 48.37it/s, loss=3.35, accuracy=0.648]\n"
          ]
        },
        {
          "output_type": "stream",
          "name": "stdout",
          "text": [
            "lr: 0.005\n"
          ]
        },
        {
          "output_type": "stream",
          "name": "stderr",
          "text": [
            "train epoch 46: 100%|██████████| 375/375 [00:08<00:00, 45.09it/s, loss=0.0141, accuracy=0.998]\n",
            "validation epoch 46: 100%|██████████| 94/94 [00:01<00:00, 48.83it/s, loss=4.06, accuracy=0.614]\n"
          ]
        },
        {
          "output_type": "stream",
          "name": "stdout",
          "text": [
            "lr: 0.005\n"
          ]
        },
        {
          "output_type": "stream",
          "name": "stderr",
          "text": [
            "train epoch 47: 100%|██████████| 375/375 [00:08<00:00, 42.60it/s, loss=0.0126, accuracy=0.999]\n",
            "validation epoch 47: 100%|██████████| 94/94 [00:02<00:00, 41.86it/s, loss=3.73, accuracy=0.647]\n"
          ]
        },
        {
          "output_type": "stream",
          "name": "stdout",
          "text": [
            "lr: 0.005\n"
          ]
        },
        {
          "output_type": "stream",
          "name": "stderr",
          "text": [
            "train epoch 48: 100%|██████████| 375/375 [00:08<00:00, 44.82it/s, loss=0.011, accuracy=0.999]\n",
            "validation epoch 48: 100%|██████████| 94/94 [00:01<00:00, 48.49it/s, loss=3.86, accuracy=0.639]\n"
          ]
        },
        {
          "output_type": "stream",
          "name": "stdout",
          "text": [
            "lr: 0.005\n"
          ]
        },
        {
          "output_type": "stream",
          "name": "stderr",
          "text": [
            "train epoch 49: 100%|██████████| 375/375 [00:08<00:00, 45.01it/s, loss=0.00967, accuracy=0.999]\n",
            "validation epoch 49: 100%|██████████| 94/94 [00:02<00:00, 45.89it/s, loss=4.12, accuracy=0.629]\n"
          ]
        },
        {
          "output_type": "stream",
          "name": "stdout",
          "text": [
            "lr: 0.0025\n"
          ]
        },
        {
          "output_type": "stream",
          "name": "stderr",
          "text": [
            "train epoch 50: 100%|██████████| 375/375 [00:08<00:00, 43.81it/s, loss=0.00667, accuracy=1]\n",
            "validation epoch 50: 100%|██████████| 94/94 [00:01<00:00, 48.35it/s, loss=3.95, accuracy=0.636]\n"
          ]
        },
        {
          "output_type": "stream",
          "name": "stdout",
          "text": [
            "lr: 0.0025\n"
          ]
        },
        {
          "output_type": "stream",
          "name": "stderr",
          "text": [
            "train epoch 51: 100%|██████████| 375/375 [00:08<00:00, 44.15it/s, loss=0.00555, accuracy=1]\n",
            "validation epoch 51: 100%|██████████| 94/94 [00:01<00:00, 49.27it/s, loss=3.83, accuracy=0.635]\n"
          ]
        },
        {
          "output_type": "stream",
          "name": "stdout",
          "text": [
            "lr: 0.0025\n"
          ]
        },
        {
          "output_type": "stream",
          "name": "stderr",
          "text": [
            "train epoch 52: 100%|██████████| 375/375 [00:09<00:00, 40.76it/s, loss=0.00528, accuracy=1]\n",
            "validation epoch 52: 100%|██████████| 94/94 [00:01<00:00, 49.62it/s, loss=3.8, accuracy=0.638]\n"
          ]
        },
        {
          "output_type": "stream",
          "name": "stdout",
          "text": [
            "lr: 0.0025\n"
          ]
        },
        {
          "output_type": "stream",
          "name": "stderr",
          "text": [
            "train epoch 53: 100%|██████████| 375/375 [00:08<00:00, 45.03it/s, loss=0.00515, accuracy=1]\n",
            "validation epoch 53: 100%|██████████| 94/94 [00:01<00:00, 48.64it/s, loss=4.12, accuracy=0.628]\n"
          ]
        },
        {
          "output_type": "stream",
          "name": "stdout",
          "text": [
            "lr: 0.0025\n"
          ]
        },
        {
          "output_type": "stream",
          "name": "stderr",
          "text": [
            "train epoch 54: 100%|██████████| 375/375 [00:08<00:00, 44.54it/s, loss=0.00488, accuracy=1]\n",
            "validation epoch 54: 100%|██████████| 94/94 [00:01<00:00, 48.41it/s, loss=3.8, accuracy=0.635]\n"
          ]
        },
        {
          "output_type": "stream",
          "name": "stdout",
          "text": [
            "lr: 0.0025\n"
          ]
        },
        {
          "output_type": "stream",
          "name": "stderr",
          "text": [
            "train epoch 55: 100%|██████████| 375/375 [00:08<00:00, 44.42it/s, loss=0.00461, accuracy=1]\n",
            "validation epoch 55: 100%|██████████| 94/94 [00:01<00:00, 48.81it/s, loss=3.78, accuracy=0.639]\n"
          ]
        },
        {
          "output_type": "stream",
          "name": "stdout",
          "text": [
            "lr: 0.0025\n"
          ]
        },
        {
          "output_type": "stream",
          "name": "stderr",
          "text": [
            "train epoch 56: 100%|██████████| 375/375 [00:08<00:00, 44.64it/s, loss=0.00448, accuracy=1]\n",
            "validation epoch 56: 100%|██████████| 94/94 [00:01<00:00, 48.40it/s, loss=3.86, accuracy=0.636]\n"
          ]
        },
        {
          "output_type": "stream",
          "name": "stdout",
          "text": [
            "lr: 0.0025\n"
          ]
        },
        {
          "output_type": "stream",
          "name": "stderr",
          "text": [
            "train epoch 57: 100%|██████████| 375/375 [00:08<00:00, 44.61it/s, loss=0.00438, accuracy=1]\n",
            "validation epoch 57: 100%|██████████| 94/94 [00:01<00:00, 48.79it/s, loss=3.84, accuracy=0.64]\n"
          ]
        },
        {
          "output_type": "stream",
          "name": "stdout",
          "text": [
            "lr: 0.0025\n"
          ]
        },
        {
          "output_type": "stream",
          "name": "stderr",
          "text": [
            "train epoch 58: 100%|██████████| 375/375 [00:08<00:00, 44.01it/s, loss=0.00426, accuracy=1]\n",
            "validation epoch 58: 100%|██████████| 94/94 [00:01<00:00, 48.53it/s, loss=3.74, accuracy=0.641]\n"
          ]
        },
        {
          "output_type": "stream",
          "name": "stdout",
          "text": [
            "lr: 0.0025\n"
          ]
        },
        {
          "output_type": "stream",
          "name": "stderr",
          "text": [
            "train epoch 59: 100%|██████████| 375/375 [00:08<00:00, 44.20it/s, loss=0.00422, accuracy=1]\n",
            "validation epoch 59: 100%|██████████| 94/94 [00:01<00:00, 47.74it/s, loss=4.08, accuracy=0.63]\n"
          ]
        },
        {
          "output_type": "stream",
          "name": "stdout",
          "text": [
            "lr: 0.0025\n"
          ]
        },
        {
          "output_type": "stream",
          "name": "stderr",
          "text": [
            "train epoch 60: 100%|██████████| 375/375 [00:08<00:00, 44.67it/s, loss=0.00411, accuracy=1]\n",
            "validation epoch 60: 100%|██████████| 94/94 [00:01<00:00, 49.73it/s, loss=3.78, accuracy=0.645]\n"
          ]
        },
        {
          "output_type": "stream",
          "name": "stdout",
          "text": [
            "lr: 0.0025\n"
          ]
        },
        {
          "output_type": "stream",
          "name": "stderr",
          "text": [
            "train epoch 61: 100%|██████████| 375/375 [00:08<00:00, 43.78it/s, loss=0.00389, accuracy=1]\n",
            "validation epoch 61: 100%|██████████| 94/94 [00:01<00:00, 48.51it/s, loss=3.59, accuracy=0.646]\n"
          ]
        },
        {
          "output_type": "stream",
          "name": "stdout",
          "text": [
            "lr: 0.0025\n"
          ]
        },
        {
          "output_type": "stream",
          "name": "stderr",
          "text": [
            "train epoch 62: 100%|██████████| 375/375 [00:08<00:00, 44.43it/s, loss=0.00373, accuracy=1]\n",
            "validation epoch 62: 100%|██████████| 94/94 [00:01<00:00, 48.94it/s, loss=3.83, accuracy=0.635]\n"
          ]
        },
        {
          "output_type": "stream",
          "name": "stdout",
          "text": [
            "lr: 0.0025\n"
          ]
        },
        {
          "output_type": "stream",
          "name": "stderr",
          "text": [
            "train epoch 63: 100%|██████████| 375/375 [00:08<00:00, 44.19it/s, loss=0.00351, accuracy=1]\n",
            "validation epoch 63: 100%|██████████| 94/94 [00:01<00:00, 49.25it/s, loss=3.94, accuracy=0.632]\n"
          ]
        },
        {
          "output_type": "stream",
          "name": "stdout",
          "text": [
            "lr: 0.0025\n"
          ]
        },
        {
          "output_type": "stream",
          "name": "stderr",
          "text": [
            "train epoch 64: 100%|██████████| 375/375 [00:08<00:00, 43.75it/s, loss=0.00345, accuracy=1]\n",
            "validation epoch 64: 100%|██████████| 94/94 [00:01<00:00, 48.41it/s, loss=3.87, accuracy=0.635]\n"
          ]
        },
        {
          "output_type": "stream",
          "name": "stdout",
          "text": [
            "lr: 0.0025\n"
          ]
        },
        {
          "output_type": "stream",
          "name": "stderr",
          "text": [
            "train epoch 65: 100%|██████████| 375/375 [00:08<00:00, 44.46it/s, loss=0.00345, accuracy=1]\n",
            "validation epoch 65: 100%|██████████| 94/94 [00:01<00:00, 48.06it/s, loss=3.81, accuracy=0.638]\n"
          ]
        },
        {
          "output_type": "stream",
          "name": "stdout",
          "text": [
            "lr: 0.0025\n"
          ]
        },
        {
          "output_type": "stream",
          "name": "stderr",
          "text": [
            "train epoch 66: 100%|██████████| 375/375 [00:08<00:00, 44.03it/s, loss=0.00334, accuracy=1]\n",
            "validation epoch 66: 100%|██████████| 94/94 [00:02<00:00, 40.56it/s, loss=3.86, accuracy=0.637]\n"
          ]
        },
        {
          "output_type": "stream",
          "name": "stdout",
          "text": [
            "lr: 0.0025\n"
          ]
        },
        {
          "output_type": "stream",
          "name": "stderr",
          "text": [
            "train epoch 67: 100%|██████████| 375/375 [00:08<00:00, 42.06it/s, loss=0.00344, accuracy=1]\n",
            "validation epoch 67: 100%|██████████| 94/94 [00:01<00:00, 47.52it/s, loss=4.01, accuracy=0.632]\n"
          ]
        },
        {
          "output_type": "stream",
          "name": "stdout",
          "text": [
            "lr: 0.0025\n"
          ]
        },
        {
          "output_type": "stream",
          "name": "stderr",
          "text": [
            "train epoch 68: 100%|██████████| 375/375 [00:08<00:00, 44.37it/s, loss=0.00333, accuracy=1]\n",
            "validation epoch 68: 100%|██████████| 94/94 [00:01<00:00, 47.70it/s, loss=3.91, accuracy=0.636]\n"
          ]
        },
        {
          "output_type": "stream",
          "name": "stdout",
          "text": [
            "lr: 0.0025\n"
          ]
        },
        {
          "output_type": "stream",
          "name": "stderr",
          "text": [
            "train epoch 69: 100%|██████████| 375/375 [00:08<00:00, 43.71it/s, loss=0.00324, accuracy=1]\n",
            "validation epoch 69: 100%|██████████| 94/94 [00:01<00:00, 48.74it/s, loss=4.04, accuracy=0.635]\n"
          ]
        },
        {
          "output_type": "stream",
          "name": "stdout",
          "text": [
            "lr: 0.0025\n"
          ]
        },
        {
          "output_type": "stream",
          "name": "stderr",
          "text": [
            "train epoch 70: 100%|██████████| 375/375 [00:08<00:00, 43.53it/s, loss=0.00312, accuracy=1]\n",
            "validation epoch 70: 100%|██████████| 94/94 [00:02<00:00, 44.64it/s, loss=3.9, accuracy=0.633]\n"
          ]
        },
        {
          "output_type": "stream",
          "name": "stdout",
          "text": [
            "lr: 0.0025\n"
          ]
        },
        {
          "output_type": "stream",
          "name": "stderr",
          "text": [
            "train epoch 71: 100%|██████████| 375/375 [00:09<00:00, 41.48it/s, loss=0.00293, accuracy=1]\n",
            "validation epoch 71: 100%|██████████| 94/94 [00:01<00:00, 48.47it/s, loss=3.93, accuracy=0.636]\n"
          ]
        },
        {
          "output_type": "stream",
          "name": "stdout",
          "text": [
            "lr: 0.0025\n"
          ]
        },
        {
          "output_type": "stream",
          "name": "stderr",
          "text": [
            "train epoch 72: 100%|██████████| 375/375 [00:08<00:00, 43.90it/s, loss=0.003, accuracy=1]\n",
            "validation epoch 72: 100%|██████████| 94/94 [00:02<00:00, 46.21it/s, loss=3.78, accuracy=0.641]\n"
          ]
        },
        {
          "output_type": "stream",
          "name": "stdout",
          "text": [
            "lr: 0.0025\n"
          ]
        },
        {
          "output_type": "stream",
          "name": "stderr",
          "text": [
            "train epoch 73: 100%|██████████| 375/375 [00:08<00:00, 43.57it/s, loss=0.00296, accuracy=1]\n",
            "validation epoch 73: 100%|██████████| 94/94 [00:01<00:00, 48.12it/s, loss=3.92, accuracy=0.639]\n"
          ]
        },
        {
          "output_type": "stream",
          "name": "stdout",
          "text": [
            "lr: 0.0025\n"
          ]
        },
        {
          "output_type": "stream",
          "name": "stderr",
          "text": [
            "train epoch 74: 100%|██████████| 375/375 [00:08<00:00, 43.69it/s, loss=0.00287, accuracy=1]\n",
            "validation epoch 74: 100%|██████████| 94/94 [00:01<00:00, 47.58it/s, loss=3.99, accuracy=0.635]\n"
          ]
        },
        {
          "output_type": "stream",
          "name": "stdout",
          "text": [
            "lr: 0.00125\n"
          ]
        },
        {
          "output_type": "stream",
          "name": "stderr",
          "text": [
            "train epoch 75: 100%|██████████| 375/375 [00:08<00:00, 44.01it/s, loss=0.00272, accuracy=1]\n",
            "validation epoch 75: 100%|██████████| 94/94 [00:01<00:00, 48.08it/s, loss=3.73, accuracy=0.645]\n"
          ]
        },
        {
          "output_type": "stream",
          "name": "stdout",
          "text": [
            "lr: 0.00125\n"
          ]
        },
        {
          "output_type": "stream",
          "name": "stderr",
          "text": [
            "train epoch 76: 100%|██████████| 375/375 [00:08<00:00, 44.09it/s, loss=0.00256, accuracy=1]\n",
            "validation epoch 76: 100%|██████████| 94/94 [00:01<00:00, 48.57it/s, loss=3.89, accuracy=0.635]\n"
          ]
        },
        {
          "output_type": "stream",
          "name": "stdout",
          "text": [
            "lr: 0.00125\n"
          ]
        },
        {
          "output_type": "stream",
          "name": "stderr",
          "text": [
            "train epoch 77: 100%|██████████| 375/375 [00:08<00:00, 43.77it/s, loss=0.00249, accuracy=1]\n",
            "validation epoch 77: 100%|██████████| 94/94 [00:01<00:00, 48.49it/s, loss=3.87, accuracy=0.639]\n"
          ]
        },
        {
          "output_type": "stream",
          "name": "stdout",
          "text": [
            "lr: 0.00125\n"
          ]
        },
        {
          "output_type": "stream",
          "name": "stderr",
          "text": [
            "train epoch 78: 100%|██████████| 375/375 [00:08<00:00, 43.40it/s, loss=0.0025, accuracy=1]\n",
            "validation epoch 78: 100%|██████████| 94/94 [00:01<00:00, 48.43it/s, loss=4.15, accuracy=0.632]\n"
          ]
        },
        {
          "output_type": "stream",
          "name": "stdout",
          "text": [
            "lr: 0.00125\n"
          ]
        },
        {
          "output_type": "stream",
          "name": "stderr",
          "text": [
            "train epoch 79: 100%|██████████| 375/375 [00:08<00:00, 43.82it/s, loss=0.00257, accuracy=1]\n",
            "validation epoch 79: 100%|██████████| 94/94 [00:01<00:00, 48.00it/s, loss=4.03, accuracy=0.633]\n"
          ]
        },
        {
          "output_type": "stream",
          "name": "stdout",
          "text": [
            "lr: 0.00125\n"
          ]
        },
        {
          "output_type": "stream",
          "name": "stderr",
          "text": [
            "train epoch 80: 100%|██████████| 375/375 [00:08<00:00, 43.74it/s, loss=0.0025, accuracy=1]\n",
            "validation epoch 80: 100%|██████████| 94/94 [00:01<00:00, 47.49it/s, loss=4.03, accuracy=0.636]\n"
          ]
        },
        {
          "output_type": "stream",
          "name": "stdout",
          "text": [
            "lr: 0.00125\n"
          ]
        },
        {
          "output_type": "stream",
          "name": "stderr",
          "text": [
            "train epoch 81: 100%|██████████| 375/375 [00:08<00:00, 43.43it/s, loss=0.00239, accuracy=1]\n",
            "validation epoch 81: 100%|██████████| 94/94 [00:01<00:00, 47.42it/s, loss=3.93, accuracy=0.639]\n"
          ]
        },
        {
          "output_type": "stream",
          "name": "stdout",
          "text": [
            "lr: 0.00125\n"
          ]
        },
        {
          "output_type": "stream",
          "name": "stderr",
          "text": [
            "train epoch 82: 100%|██████████| 375/375 [00:08<00:00, 43.61it/s, loss=0.0024, accuracy=1]\n",
            "validation epoch 82: 100%|██████████| 94/94 [00:01<00:00, 48.03it/s, loss=3.98, accuracy=0.635]\n"
          ]
        },
        {
          "output_type": "stream",
          "name": "stdout",
          "text": [
            "lr: 0.00125\n"
          ]
        },
        {
          "output_type": "stream",
          "name": "stderr",
          "text": [
            "train epoch 83: 100%|██████████| 375/375 [00:08<00:00, 43.77it/s, loss=0.00238, accuracy=1]\n",
            "validation epoch 83: 100%|██████████| 94/94 [00:01<00:00, 47.43it/s, loss=4.04, accuracy=0.638]\n"
          ]
        },
        {
          "output_type": "stream",
          "name": "stdout",
          "text": [
            "lr: 0.00125\n"
          ]
        },
        {
          "output_type": "stream",
          "name": "stderr",
          "text": [
            "train epoch 84: 100%|██████████| 375/375 [00:08<00:00, 43.37it/s, loss=0.00235, accuracy=1]\n",
            "validation epoch 84: 100%|██████████| 94/94 [00:01<00:00, 47.81it/s, loss=3.98, accuracy=0.632]\n"
          ]
        },
        {
          "output_type": "stream",
          "name": "stdout",
          "text": [
            "lr: 0.00125\n"
          ]
        },
        {
          "output_type": "stream",
          "name": "stderr",
          "text": [
            "train epoch 85: 100%|██████████| 375/375 [00:08<00:00, 42.89it/s, loss=0.00241, accuracy=1]\n",
            "validation epoch 85: 100%|██████████| 94/94 [00:02<00:00, 39.51it/s, loss=4.01, accuracy=0.634]\n"
          ]
        },
        {
          "output_type": "stream",
          "name": "stdout",
          "text": [
            "lr: 0.00125\n"
          ]
        },
        {
          "output_type": "stream",
          "name": "stderr",
          "text": [
            "train epoch 86: 100%|██████████| 375/375 [00:08<00:00, 44.01it/s, loss=0.00238, accuracy=1]\n",
            "validation epoch 86: 100%|██████████| 94/94 [00:01<00:00, 47.61it/s, loss=4.08, accuracy=0.633]\n"
          ]
        },
        {
          "output_type": "stream",
          "name": "stdout",
          "text": [
            "lr: 0.00125\n"
          ]
        },
        {
          "output_type": "stream",
          "name": "stderr",
          "text": [
            "train epoch 87: 100%|██████████| 375/375 [00:08<00:00, 43.42it/s, loss=0.00226, accuracy=1]\n",
            "validation epoch 87: 100%|██████████| 94/94 [00:02<00:00, 43.71it/s, loss=4.01, accuracy=0.633]\n"
          ]
        },
        {
          "output_type": "stream",
          "name": "stdout",
          "text": [
            "lr: 0.00125\n"
          ]
        },
        {
          "output_type": "stream",
          "name": "stderr",
          "text": [
            "train epoch 88: 100%|██████████| 375/375 [00:08<00:00, 44.00it/s, loss=0.00232, accuracy=1]\n",
            "validation epoch 88: 100%|██████████| 94/94 [00:01<00:00, 47.65it/s, loss=3.85, accuracy=0.637]\n"
          ]
        },
        {
          "output_type": "stream",
          "name": "stdout",
          "text": [
            "lr: 0.00125\n"
          ]
        },
        {
          "output_type": "stream",
          "name": "stderr",
          "text": [
            "train epoch 89: 100%|██████████| 375/375 [00:09<00:00, 41.41it/s, loss=0.00233, accuracy=1]\n",
            "validation epoch 89: 100%|██████████| 94/94 [00:02<00:00, 42.11it/s, loss=4, accuracy=0.636]\n"
          ]
        },
        {
          "output_type": "stream",
          "name": "stdout",
          "text": [
            "lr: 0.00125\n"
          ]
        },
        {
          "output_type": "stream",
          "name": "stderr",
          "text": [
            "train epoch 90: 100%|██████████| 375/375 [00:08<00:00, 43.65it/s, loss=0.00232, accuracy=1]\n",
            "validation epoch 90: 100%|██████████| 94/94 [00:01<00:00, 47.54it/s, loss=4.07, accuracy=0.636]\n"
          ]
        },
        {
          "output_type": "stream",
          "name": "stdout",
          "text": [
            "lr: 0.00125\n"
          ]
        },
        {
          "output_type": "stream",
          "name": "stderr",
          "text": [
            "train epoch 91: 100%|██████████| 375/375 [00:08<00:00, 43.56it/s, loss=0.00241, accuracy=1]\n",
            "validation epoch 91: 100%|██████████| 94/94 [00:02<00:00, 44.93it/s, loss=3.92, accuracy=0.641]\n"
          ]
        },
        {
          "output_type": "stream",
          "name": "stdout",
          "text": [
            "lr: 0.00125\n"
          ]
        },
        {
          "output_type": "stream",
          "name": "stderr",
          "text": [
            "train epoch 92: 100%|██████████| 375/375 [00:08<00:00, 43.42it/s, loss=0.00233, accuracy=1]\n",
            "validation epoch 92: 100%|██████████| 94/94 [00:02<00:00, 46.14it/s, loss=3.97, accuracy=0.635]\n"
          ]
        },
        {
          "output_type": "stream",
          "name": "stdout",
          "text": [
            "lr: 0.00125\n"
          ]
        },
        {
          "output_type": "stream",
          "name": "stderr",
          "text": [
            "train epoch 93: 100%|██████████| 375/375 [00:08<00:00, 43.05it/s, loss=0.00218, accuracy=1]\n",
            "validation epoch 93: 100%|██████████| 94/94 [00:02<00:00, 42.93it/s, loss=4.05, accuracy=0.63]\n"
          ]
        },
        {
          "output_type": "stream",
          "name": "stdout",
          "text": [
            "lr: 0.00125\n"
          ]
        },
        {
          "output_type": "stream",
          "name": "stderr",
          "text": [
            "train epoch 94: 100%|██████████| 375/375 [00:09<00:00, 41.06it/s, loss=0.00222, accuracy=1]\n",
            "validation epoch 94: 100%|██████████| 94/94 [00:02<00:00, 42.62it/s, loss=3.86, accuracy=0.637]\n"
          ]
        },
        {
          "output_type": "stream",
          "name": "stdout",
          "text": [
            "lr: 0.00125\n"
          ]
        },
        {
          "output_type": "stream",
          "name": "stderr",
          "text": [
            "train epoch 95: 100%|██████████| 375/375 [00:09<00:00, 40.47it/s, loss=0.00219, accuracy=1]\n",
            "validation epoch 95: 100%|██████████| 94/94 [00:02<00:00, 43.96it/s, loss=3.94, accuracy=0.634]\n"
          ]
        },
        {
          "output_type": "stream",
          "name": "stdout",
          "text": [
            "lr: 0.00125\n"
          ]
        },
        {
          "output_type": "stream",
          "name": "stderr",
          "text": [
            "train epoch 96: 100%|██████████| 375/375 [00:09<00:00, 39.82it/s, loss=0.00235, accuracy=1]\n",
            "validation epoch 96: 100%|██████████| 94/94 [00:02<00:00, 43.89it/s, loss=4.04, accuracy=0.631]\n"
          ]
        },
        {
          "output_type": "stream",
          "name": "stdout",
          "text": [
            "lr: 0.00125\n"
          ]
        },
        {
          "output_type": "stream",
          "name": "stderr",
          "text": [
            "train epoch 97: 100%|██████████| 375/375 [00:09<00:00, 39.78it/s, loss=0.00218, accuracy=1]\n",
            "validation epoch 97: 100%|██████████| 94/94 [00:02<00:00, 44.04it/s, loss=3.87, accuracy=0.638]\n"
          ]
        },
        {
          "output_type": "stream",
          "name": "stdout",
          "text": [
            "lr: 0.00125\n"
          ]
        },
        {
          "output_type": "stream",
          "name": "stderr",
          "text": [
            "train epoch 98: 100%|██████████| 375/375 [00:08<00:00, 41.72it/s, loss=0.00217, accuracy=1]\n",
            "validation epoch 98: 100%|██████████| 94/94 [00:02<00:00, 46.32it/s, loss=4.03, accuracy=0.633]\n"
          ]
        },
        {
          "output_type": "stream",
          "name": "stdout",
          "text": [
            "lr: 0.00125\n"
          ]
        },
        {
          "output_type": "stream",
          "name": "stderr",
          "text": [
            "train epoch 99: 100%|██████████| 375/375 [00:08<00:00, 42.21it/s, loss=0.00212, accuracy=1]\n",
            "validation epoch 99: 100%|██████████| 94/94 [00:02<00:00, 43.99it/s, loss=4.12, accuracy=0.633]\n"
          ]
        },
        {
          "output_type": "stream",
          "name": "stdout",
          "text": [
            "lr: 0.00125\n"
          ]
        }
      ],
      "source": [
        "train.train_erm(resume=True,best_resume_checkpoint_path=\"best_erm_model.pt\",last_resume_checkpoint_path=\"last_erm_model.pt\")"
      ]
    },
    {
      "cell_type": "code",
      "execution_count": 36,
      "metadata": {
        "id": "phuR2Wzp4cg3",
        "outputId": "ae143fe6-5b35-4f02-8c2a-05a66b128dfe",
        "colab": {
          "base_uri": "https://localhost:8080/"
        }
      },
      "outputs": [
        {
          "output_type": "stream",
          "name": "stdout",
          "text": [
            "----------testing the model----------\n"
          ]
        },
        {
          "output_type": "stream",
          "name": "stderr",
          "text": [
            "test epoch 16: 100%|██████████| 79/79 [00:01<00:00, 46.14it/s, loss=2.51, accuracy=0.652]"
          ]
        },
        {
          "output_type": "stream",
          "name": "stdout",
          "text": [
            "Test accuracy = 0.6524920886075949\n"
          ]
        },
        {
          "output_type": "stream",
          "name": "stderr",
          "text": [
            "\n"
          ]
        }
      ],
      "source": [
        "train.test(train.test_loader_original,\"best_erm_model.pt\")"
      ]
    },
    {
      "cell_type": "code",
      "execution_count": 37,
      "metadata": {
        "id": "73E0knZA4cg3",
        "outputId": "60822799-676e-4605-83f4-3d03dfff2568",
        "colab": {
          "base_uri": "https://localhost:8080/"
        }
      },
      "outputs": [
        {
          "output_type": "stream",
          "name": "stdout",
          "text": [
            "----------testing the model----------\n"
          ]
        },
        {
          "output_type": "stream",
          "name": "stderr",
          "text": [
            "test epoch 16: 100%|██████████| 79/79 [00:01<00:00, 46.89it/s, loss=3.59, accuracy=0.46]\n"
          ]
        },
        {
          "output_type": "stream",
          "name": "stdout",
          "text": [
            "Test accuracy = 0.46014636075949367\n"
          ]
        }
      ],
      "source": [
        "train.test(train.test_loader_biased,\"best_erm_model.pt\")"
      ]
    },
    {
      "cell_type": "code",
      "execution_count": 13,
      "metadata": {
        "id": "czo8ySJd7Lj9"
      },
      "outputs": [],
      "source": [
        "!rm data -r"
      ]
    }
  ],
  "metadata": {
    "accelerator": "GPU",
    "colab": {
      "provenance": []
    },
    "gpuClass": "standard",
    "kernelspec": {
      "display_name": "MACHINELEARNING",
      "language": "python",
      "name": "python3"
    },
    "language_info": {
      "codemirror_mode": {
        "name": "ipython",
        "version": 3
      },
      "file_extension": ".py",
      "mimetype": "text/x-python",
      "name": "python",
      "nbconvert_exporter": "python",
      "pygments_lexer": "ipython3",
      "version": "3.9.15"
    },
    "vscode": {
      "interpreter": {
        "hash": "c3d2da9ea33237c85584c9c67e1981ac38a3fd243e6de17eadf5b3b825ecc547"
      }
    }
  },
  "nbformat": 4,
  "nbformat_minor": 0
}