{
  "cells": [
    {
      "cell_type": "code",
      "execution_count": 1,
      "metadata": {
        "id": "zQOL1IniDSk7"
      },
      "outputs": [],
      "source": [
        "import torch\n",
        "import os"
      ]
    },
    {
      "cell_type": "code",
      "execution_count": 2,
      "metadata": {
        "colab": {
          "base_uri": "https://localhost:8080/"
        },
        "id": "0cJjuFxNKrYx",
        "outputId": "68745110-439e-4a87-97ce-cad048106e96"
      },
      "outputs": [
        {
          "output_type": "stream",
          "name": "stdout",
          "text": [
            "Cloning into 'MaskTune_NN'...\n",
            "remote: Enumerating objects: 106, done.\u001b[K\n",
            "remote: Counting objects: 100% (106/106), done.\u001b[K\n",
            "remote: Compressing objects: 100% (75/75), done.\u001b[K\n",
            "remote: Total 106 (delta 45), reused 67 (delta 28), pack-reused 0\u001b[K\n",
            "Receiving objects: 100% (106/106), 4.37 MiB | 12.11 MiB/s, done.\n",
            "Resolving deltas: 100% (45/45), done.\n"
          ]
        }
      ],
      "source": [
        "#only in google colab\n",
        "!git clone https://github.com/Giordano-Cicchetti/MaskTune_NN/"
      ]
    },
    {
      "cell_type": "code",
      "execution_count": 2,
      "metadata": {
        "id": "S5iimDN9QED2",
        "colab": {
          "base_uri": "https://localhost:8080/"
        },
        "outputId": "eeced0fb-f592-455d-fe23-14d7fde49951"
      },
      "outputs": [
        {
          "output_type": "stream",
          "name": "stdout",
          "text": [
            "cp: cannot stat 'MaskTune_NN/MNIST/*': No such file or directory\n",
            "rm: cannot remove 'MaskTune_NN/': No such file or directory\n"
          ]
        }
      ],
      "source": [
        "#only on google colab\n",
        "!cp MaskTune_NN/MNIST/* /content -r\n",
        "!rm MaskTune_NN/ -r"
      ]
    },
    {
      "cell_type": "code",
      "execution_count": 3,
      "metadata": {
        "colab": {
          "base_uri": "https://localhost:8080/"
        },
        "id": "Va6zuljTDhFv",
        "outputId": "ea9663a6-e3fb-4412-9c9c-312c812d647b"
      },
      "outputs": [
        {
          "output_type": "execute_result",
          "data": {
            "text/plain": [
              "device(type='cuda')"
            ]
          },
          "metadata": {},
          "execution_count": 3
        }
      ],
      "source": [
        "# Device configuration\n",
        "device = torch.device('cuda' if torch.cuda.is_available() else 'cpu')\n",
        "device"
      ]
    },
    {
      "cell_type": "code",
      "source": [
        "!pip install grad-cam"
      ],
      "metadata": {
        "colab": {
          "base_uri": "https://localhost:8080/"
        },
        "id": "hn_HGtj2ZJeC",
        "outputId": "f3473c4a-e880-4d74-cdc3-a102328fd42c"
      },
      "execution_count": 4,
      "outputs": [
        {
          "output_type": "stream",
          "name": "stdout",
          "text": [
            "Looking in indexes: https://pypi.org/simple, https://us-python.pkg.dev/colab-wheels/public/simple/\n",
            "Requirement already satisfied: grad-cam in /usr/local/lib/python3.8/dist-packages (1.4.6)\n",
            "Requirement already satisfied: torch>=1.7.1 in /usr/local/lib/python3.8/dist-packages (from grad-cam) (1.13.1+cu116)\n",
            "Requirement already satisfied: tqdm in /usr/local/lib/python3.8/dist-packages (from grad-cam) (4.64.1)\n",
            "Requirement already satisfied: opencv-python in /usr/local/lib/python3.8/dist-packages (from grad-cam) (4.6.0.66)\n",
            "Requirement already satisfied: scikit-learn in /usr/local/lib/python3.8/dist-packages (from grad-cam) (1.0.2)\n",
            "Requirement already satisfied: torchvision>=0.8.2 in /usr/local/lib/python3.8/dist-packages (from grad-cam) (0.14.1+cu116)\n",
            "Requirement already satisfied: ttach in /usr/local/lib/python3.8/dist-packages (from grad-cam) (0.0.3)\n",
            "Requirement already satisfied: Pillow in /usr/local/lib/python3.8/dist-packages (from grad-cam) (7.1.2)\n",
            "Requirement already satisfied: numpy in /usr/local/lib/python3.8/dist-packages (from grad-cam) (1.21.6)\n",
            "Requirement already satisfied: matplotlib in /usr/local/lib/python3.8/dist-packages (from grad-cam) (3.2.2)\n",
            "Requirement already satisfied: typing-extensions in /usr/local/lib/python3.8/dist-packages (from torch>=1.7.1->grad-cam) (4.4.0)\n",
            "Requirement already satisfied: requests in /usr/local/lib/python3.8/dist-packages (from torchvision>=0.8.2->grad-cam) (2.25.1)\n",
            "Requirement already satisfied: kiwisolver>=1.0.1 in /usr/local/lib/python3.8/dist-packages (from matplotlib->grad-cam) (1.4.4)\n",
            "Requirement already satisfied: pyparsing!=2.0.4,!=2.1.2,!=2.1.6,>=2.0.1 in /usr/local/lib/python3.8/dist-packages (from matplotlib->grad-cam) (3.0.9)\n",
            "Requirement already satisfied: python-dateutil>=2.1 in /usr/local/lib/python3.8/dist-packages (from matplotlib->grad-cam) (2.8.2)\n",
            "Requirement already satisfied: cycler>=0.10 in /usr/local/lib/python3.8/dist-packages (from matplotlib->grad-cam) (0.11.0)\n",
            "Requirement already satisfied: scipy>=1.1.0 in /usr/local/lib/python3.8/dist-packages (from scikit-learn->grad-cam) (1.7.3)\n",
            "Requirement already satisfied: threadpoolctl>=2.0.0 in /usr/local/lib/python3.8/dist-packages (from scikit-learn->grad-cam) (3.1.0)\n",
            "Requirement already satisfied: joblib>=0.11 in /usr/local/lib/python3.8/dist-packages (from scikit-learn->grad-cam) (1.2.0)\n",
            "Requirement already satisfied: six>=1.5 in /usr/local/lib/python3.8/dist-packages (from python-dateutil>=2.1->matplotlib->grad-cam) (1.15.0)\n",
            "Requirement already satisfied: chardet<5,>=3.0.2 in /usr/local/lib/python3.8/dist-packages (from requests->torchvision>=0.8.2->grad-cam) (4.0.0)\n",
            "Requirement already satisfied: certifi>=2017.4.17 in /usr/local/lib/python3.8/dist-packages (from requests->torchvision>=0.8.2->grad-cam) (2022.12.7)\n",
            "Requirement already satisfied: idna<3,>=2.5 in /usr/local/lib/python3.8/dist-packages (from requests->torchvision>=0.8.2->grad-cam) (2.10)\n",
            "Requirement already satisfied: urllib3<1.27,>=1.21.1 in /usr/local/lib/python3.8/dist-packages (from requests->torchvision>=0.8.2->grad-cam) (1.24.3)\n"
          ]
        }
      ]
    },
    {
      "cell_type": "code",
      "execution_count": 5,
      "metadata": {
        "id": "JGvz8Oa_L_UL",
        "outputId": "17cc582e-894e-4cc6-90af-2935d1a115ac",
        "colab": {
          "base_uri": "https://localhost:8080/"
        }
      },
      "outputs": [
        {
          "output_type": "stream",
          "name": "stdout",
          "text": [
            "\n",
            "\n",
            "Start loading data of train dataset in main memory\n",
            "\n",
            "\n",
            "\n",
            "\n",
            "Start loading data of test dataset in main memory\n",
            "\n",
            "\n",
            "\n",
            "\n",
            "Start loading data of test dataset in main memory\n",
            "\n",
            "\n"
          ]
        }
      ],
      "source": [
        "from train import *\n",
        "train= TrainBaseERM(device)\n"
      ]
    },
    {
      "cell_type": "code",
      "source": [
        "train.test_dataset_original.targets[0:1000]"
      ],
      "metadata": {
        "id": "DYFXo141MVLk"
      },
      "execution_count": null,
      "outputs": []
    },
    {
      "cell_type": "code",
      "execution_count": null,
      "metadata": {
        "id": "W24_M4Sx4cg2"
      },
      "outputs": [],
      "source": [
        "train.train_erm(epochs=10)"
      ]
    },
    {
      "cell_type": "code",
      "execution_count": null,
      "metadata": {
        "id": "h8IL1gdd4cg2"
      },
      "outputs": [],
      "source": [
        "train.train_erm(resume=True,best_resume_checkpoint_path=\"best_erm_model.pt\",last_resume_checkpoint_path=\"last_erm_model.pt\")"
      ]
    },
    {
      "cell_type": "code",
      "execution_count": 8,
      "metadata": {
        "id": "phuR2Wzp4cg3",
        "outputId": "c8a92a03-3ab2-4fff-db02-7870a4c5d587",
        "colab": {
          "base_uri": "https://localhost:8080/"
        }
      },
      "outputs": [
        {
          "output_type": "stream",
          "name": "stdout",
          "text": [
            "----------testing the model----------\n"
          ]
        },
        {
          "output_type": "stream",
          "name": "stderr",
          "text": [
            "test epoch 12: 100%|██████████| 79/79 [00:08<00:00,  9.00it/s, loss=2.72, accuracy=0.594]"
          ]
        },
        {
          "output_type": "stream",
          "name": "stdout",
          "text": [
            "----------Test accuracy =0.5941455696202531----------\n"
          ]
        },
        {
          "output_type": "stream",
          "name": "stderr",
          "text": [
            "\n"
          ]
        }
      ],
      "source": [
        "train.test(train.test_loader_original,\"best_erm_model.pt\")"
      ]
    },
    {
      "cell_type": "code",
      "execution_count": 9,
      "metadata": {
        "id": "73E0knZA4cg3",
        "outputId": "a64a2289-d6a3-448c-9430-528fff1206de",
        "colab": {
          "base_uri": "https://localhost:8080/"
        }
      },
      "outputs": [
        {
          "output_type": "stream",
          "name": "stdout",
          "text": [
            "----------testing the model----------\n"
          ]
        },
        {
          "output_type": "stream",
          "name": "stderr",
          "text": [
            "test epoch 12: 100%|██████████| 79/79 [00:02<00:00, 37.29it/s, loss=4.25, accuracy=0.31]"
          ]
        },
        {
          "output_type": "stream",
          "name": "stdout",
          "text": [
            "----------Test accuracy =0.30963212025316456----------\n"
          ]
        },
        {
          "output_type": "stream",
          "name": "stderr",
          "text": [
            "\n"
          ]
        }
      ],
      "source": [
        "train.test(train.test_loader_biased,\"best_erm_model.pt\")"
      ]
    },
    {
      "cell_type": "code",
      "execution_count": null,
      "metadata": {
        "id": "czo8ySJd7Lj9"
      },
      "outputs": [],
      "source": [
        "!rm data -r"
      ]
    },
    {
      "cell_type": "code",
      "source": [
        "def finetune(best_resume_checkpoint_path: str=None, last_resume_checkpoint_path: str=None) -> None:\n",
        "  checkpoint = torch.load(\"best_erm_model.pt\")\n",
        "\n",
        "  if(best_resume_checkpoint_path!=None and last_resume_checkpoint_path!=None):\n",
        "    train.mask_data(train.train_loader,best_resume_checkpoint_path)\n",
        "    train.model.load_state_dict(checkpoint['model_state_dict'])\n",
        "    resume_epoch = checkpoint['epoch'] + 1\n",
        "    train.optimizer = optim.SGD(\n",
        "                train.model.parameters(),\n",
        "                lr=0.01,\n",
        "                momentum=0.9,\n",
        "                weight_decay=1e-4\n",
        "            )\n",
        "    train.lr_scheduler.load_state_dict(checkpoint['scheduler_state_dict'])\n",
        "    \n",
        "    train.run_an_epoch(data_loader=train.masked_loader,epoch=resume_epoch,mode=\"train\",device=train.device)\n",
        "    val_accuracy = train.run_an_epoch(\n",
        "                data_loader=train.val_loader, epoch=resume_epoch, mode=\"validation\",device=train.device\n",
        "            )\n",
        "    torch.save({\n",
        "                'epoch': resume_epoch,\n",
        "                'model_state_dict': train.model.state_dict(),\n",
        "                'optimizer_state_dict': train.optimizer.state_dict(),\n",
        "                'scheduler_state_dict': train.lr_scheduler.state_dict(),\n",
        "                'accuracy' : val_accuracy,\n",
        "                }, \"masked_erm_model.pt\")\n",
        "    \n",
        "\n",
        "finetune(best_resume_checkpoint_path=\"best_erm_model.pt\",last_resume_checkpoint_path=\"last_erm_model.pt\")\n"
      ],
      "metadata": {
        "colab": {
          "base_uri": "https://localhost:8080/"
        },
        "id": "XMb7Kl9fZcZO",
        "outputId": "4083c19f-8c97-4b96-e6a4-a1fec05eb085"
      },
      "execution_count": 28,
      "outputs": [
        {
          "output_type": "stream",
          "name": "stderr",
          "text": [
            "train epoch 13: 100%|██████████| 375/375 [00:08<00:00, 43.93it/s, loss=0.759, accuracy=0.498]\n",
            "validation epoch 13: 100%|██████████| 94/94 [00:01<00:00, 47.86it/s, loss=0.72, accuracy=0.454]\n"
          ]
        }
      ]
    },
    {
      "cell_type": "code",
      "source": [
        "train.test(train.test_loader_original,\"masked_erm_model.pt\")"
      ],
      "metadata": {
        "colab": {
          "base_uri": "https://localhost:8080/"
        },
        "id": "u3yH0i5oaGVO",
        "outputId": "6a171512-8dba-4655-b821-612f98068bc2"
      },
      "execution_count": 7,
      "outputs": [
        {
          "output_type": "stream",
          "name": "stdout",
          "text": [
            "----------testing the model----------\n"
          ]
        },
        {
          "output_type": "stream",
          "name": "stderr",
          "text": [
            "test epoch masking: 100%|██████████| 79/79 [00:01<00:00, 49.09it/s, loss=0.741, accuracy=0.484]"
          ]
        },
        {
          "output_type": "stream",
          "name": "stdout",
          "text": [
            "----------Test accuracy =0.48388053797468356----------\n"
          ]
        },
        {
          "output_type": "stream",
          "name": "stderr",
          "text": [
            "\n"
          ]
        }
      ]
    },
    {
      "cell_type": "code",
      "source": [
        "train.test(train.test_loader_biased,\"masked_erm_model.pt\")"
      ],
      "metadata": {
        "colab": {
          "base_uri": "https://localhost:8080/"
        },
        "id": "FSFByH4baLWM",
        "outputId": "c5398ca6-b610-4fa0-b2ea-c05140df3107"
      },
      "execution_count": 8,
      "outputs": [
        {
          "output_type": "stream",
          "name": "stdout",
          "text": [
            "----------testing the model----------\n"
          ]
        },
        {
          "output_type": "stream",
          "name": "stderr",
          "text": [
            "test epoch masking: 100%|██████████| 79/79 [00:02<00:00, 37.80it/s, loss=0.814, accuracy=0.405]"
          ]
        },
        {
          "output_type": "stream",
          "name": "stdout",
          "text": [
            "----------Test accuracy =0.40466772151898733----------\n"
          ]
        },
        {
          "output_type": "stream",
          "name": "stderr",
          "text": [
            "\n"
          ]
        }
      ]
    }
  ],
  "metadata": {
    "accelerator": "GPU",
    "colab": {
      "provenance": []
    },
    "gpuClass": "standard",
    "kernelspec": {
      "display_name": "MACHINELEARNING",
      "language": "python",
      "name": "python3"
    },
    "language_info": {
      "codemirror_mode": {
        "name": "ipython",
        "version": 3
      },
      "file_extension": ".py",
      "mimetype": "text/x-python",
      "name": "python",
      "nbconvert_exporter": "python",
      "pygments_lexer": "ipython3",
      "version": "3.9.15"
    },
    "vscode": {
      "interpreter": {
        "hash": "c3d2da9ea33237c85584c9c67e1981ac38a3fd243e6de17eadf5b3b825ecc547"
      }
    }
  },
  "nbformat": 4,
  "nbformat_minor": 0
}