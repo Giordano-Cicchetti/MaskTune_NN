{
  "cells": [
    {
      "cell_type": "code",
      "execution_count": 1,
      "metadata": {
        "id": "zQOL1IniDSk7"
      },
      "outputs": [
        {
          "name": "stderr",
          "output_type": "stream",
          "text": [
            "c:\\Users\\Giordano\\Anaconda3\\envs\\MACHINELEARNING\\lib\\site-packages\\tqdm\\auto.py:22: TqdmWarning: IProgress not found. Please update jupyter and ipywidgets. See https://ipywidgets.readthedocs.io/en/stable/user_install.html\n",
            "  from .autonotebook import tqdm as notebook_tqdm\n"
          ]
        }
      ],
      "source": [
        "import torch\n",
        "import os"
      ]
    },
    {
      "cell_type": "code",
      "execution_count": 2,
      "metadata": {
        "colab": {
          "base_uri": "https://localhost:8080/"
        },
        "id": "0cJjuFxNKrYx",
        "outputId": "b26e915a-1e19-428c-b3c8-5399596e5584"
      },
      "outputs": [
        {
          "name": "stdout",
          "output_type": "stream",
          "text": [
            "Cloning into 'MaskTune_NN'...\n",
            "remote: Enumerating objects: 61, done.\u001b[K\n",
            "remote: Counting objects: 100% (61/61), done.\u001b[K\n",
            "remote: Compressing objects: 100% (41/41), done.\u001b[K\n",
            "remote: Total 61 (delta 21), reused 47 (delta 17), pack-reused 0\u001b[K\n",
            "Unpacking objects: 100% (61/61), 2.19 MiB | 4.79 MiB/s, done.\n"
          ]
        }
      ],
      "source": [
        "#only in google colab\n",
        "!git clone https://github.com/Giordano-Cicchetti/MaskTune_NN/"
      ]
    },
    {
      "cell_type": "code",
      "execution_count": 3,
      "metadata": {
        "id": "S5iimDN9QED2"
      },
      "outputs": [],
      "source": [
        "#only on google colab\n",
        "!cp MaskTune_NN/MNIST/* /content -r\n",
        "!rm MaskTune_NN/ -r"
      ]
    },
    {
      "cell_type": "code",
      "execution_count": 2,
      "metadata": {
        "colab": {
          "base_uri": "https://localhost:8080/"
        },
        "id": "Va6zuljTDhFv",
        "outputId": "964c5310-0c03-46b9-c4f8-a379dd09d87a"
      },
      "outputs": [
        {
          "data": {
            "text/plain": [
              "device(type='cuda')"
            ]
          },
          "execution_count": 2,
          "metadata": {},
          "output_type": "execute_result"
        }
      ],
      "source": [
        "# Device configuration\n",
        "device = torch.device('cuda' if torch.cuda.is_available() else 'cpu')\n",
        "device"
      ]
    },
    {
      "cell_type": "code",
      "execution_count": null,
      "metadata": {
        "colab": {
          "base_uri": "https://localhost:8080/"
        },
        "id": "FYtN98l1lGOl",
        "outputId": "4727f4f6-bc28-47b6-8fb7-e4a63b91a037"
      },
      "outputs": [],
      "source": [
        "!pip install grad-cam  "
      ]
    },
    {
      "cell_type": "code",
      "execution_count": 3,
      "metadata": {
        "colab": {
          "base_uri": "https://localhost:8080/"
        },
        "id": "JGvz8Oa_L_UL",
        "outputId": "efe3311b-0525-4530-e79f-a5ae085581e5"
      },
      "outputs": [
        {
          "name": "stdout",
          "output_type": "stream",
          "text": [
            "\n",
            "\n",
            "Start loading data of train dataset in main memory\n",
            "\n",
            "\n",
            "\n",
            "\n",
            "start creating and saving test dataset of BiasedMnist\n",
            "\n",
            "\n",
            "\n",
            "\n",
            "Start loading data of test dataset in main memory\n",
            "\n",
            "\n",
            "\n",
            "\n",
            "start creating and saving test dataset of BiasedMnist\n",
            "\n",
            "\n",
            "\n",
            "\n",
            "Start loading data of test dataset in main memory\n",
            "\n",
            "\n"
          ]
        }
      ],
      "source": [
        "from train import *\n",
        "train= TrainBaseERM(device)\n"
      ]
    },
    {
      "cell_type": "code",
      "execution_count": 5,
      "metadata": {},
      "outputs": [
        {
          "data": {
            "text/plain": [
              "tensor([0., 0., 0., 0., 0., 0., 0., 0., 0., 0., 0., 0., 0., 0., 0., 0., 0., 0., 0., 0., 0., 0., 0., 0.,\n",
              "        0., 0., 0., 0., 0., 0., 0., 0., 0., 0., 0., 0., 0., 0., 0., 0., 0., 0., 0., 0., 0., 0., 0., 0.,\n",
              "        0., 0., 0., 0., 0., 0., 0., 0., 0., 0., 0., 0., 0., 0., 0., 0., 0., 0., 0., 0., 0., 0., 0., 0.,\n",
              "        0., 0., 0., 0., 0., 0., 0., 0., 0., 0., 0., 0., 0., 0., 0., 0., 0., 0., 0., 0., 0., 0., 0., 0.,\n",
              "        0., 0., 0., 0.])"
            ]
          },
          "execution_count": 5,
          "metadata": {},
          "output_type": "execute_result"
        }
      ],
      "source": [
        "train.val_dataset.targets[0:100]"
      ]
    },
    {
      "cell_type": "code",
      "execution_count": 6,
      "metadata": {
        "colab": {
          "base_uri": "https://localhost:8080/"
        },
        "id": "W24_M4Sx4cg2",
        "outputId": "6cd53c13-04e7-4f69-9c9f-3686a8d55f79"
      },
      "outputs": [
        {
          "name": "stderr",
          "output_type": "stream",
          "text": [
            "train epoch 0: 100%|██████████| 375/375 [00:14<00:00, 25.44it/s, loss=0.0515, accuracy=0.981]\n",
            "validation epoch 0: 100%|██████████| 94/94 [00:04<00:00, 21.70it/s, loss=0.0155, accuracy=0.995] \n"
          ]
        },
        {
          "name": "stdout",
          "output_type": "stream",
          "text": [
            "lr: 0.01\n"
          ]
        },
        {
          "name": "stderr",
          "output_type": "stream",
          "text": [
            "train epoch 1: 100%|██████████| 375/375 [00:10<00:00, 35.65it/s, loss=0.0115, accuracy=0.996]\n",
            "validation epoch 1: 100%|██████████| 94/94 [00:04<00:00, 21.49it/s, loss=0.012, accuracy=0.996]  \n"
          ]
        },
        {
          "name": "stdout",
          "output_type": "stream",
          "text": [
            "lr: 0.01\n"
          ]
        },
        {
          "name": "stderr",
          "output_type": "stream",
          "text": [
            "train epoch 2: 100%|██████████| 375/375 [00:10<00:00, 35.99it/s, loss=0.00717, accuracy=0.998]\n",
            "validation epoch 2: 100%|██████████| 94/94 [00:04<00:00, 21.40it/s, loss=0.0117, accuracy=0.996] \n"
          ]
        },
        {
          "name": "stdout",
          "output_type": "stream",
          "text": [
            "lr: 0.01\n"
          ]
        },
        {
          "name": "stderr",
          "output_type": "stream",
          "text": [
            "train epoch 3: 100%|██████████| 375/375 [00:10<00:00, 36.03it/s, loss=0.00517, accuracy=0.999]\n",
            "validation epoch 3: 100%|██████████| 94/94 [00:04<00:00, 21.61it/s, loss=0.0099, accuracy=0.997] \n"
          ]
        },
        {
          "name": "stdout",
          "output_type": "stream",
          "text": [
            "lr: 0.01\n"
          ]
        },
        {
          "name": "stderr",
          "output_type": "stream",
          "text": [
            "train epoch 4: 100%|██████████| 375/375 [00:10<00:00, 37.01it/s, loss=0.00344, accuracy=0.999]\n",
            "validation epoch 4: 100%|██████████| 94/94 [00:04<00:00, 21.83it/s, loss=0.00981, accuracy=0.997]\n"
          ]
        },
        {
          "name": "stdout",
          "output_type": "stream",
          "text": [
            "lr: 0.01\n"
          ]
        },
        {
          "name": "stderr",
          "output_type": "stream",
          "text": [
            "train epoch 5: 100%|██████████| 375/375 [00:10<00:00, 36.64it/s, loss=0.00284, accuracy=0.999]\n",
            "validation epoch 5: 100%|██████████| 94/94 [00:04<00:00, 21.38it/s, loss=0.00884, accuracy=0.997]\n"
          ]
        },
        {
          "name": "stdout",
          "output_type": "stream",
          "text": [
            "lr: 0.01\n"
          ]
        },
        {
          "name": "stderr",
          "output_type": "stream",
          "text": [
            "train epoch 6: 100%|██████████| 375/375 [00:10<00:00, 35.33it/s, loss=0.00177, accuracy=1]   \n",
            "validation epoch 6: 100%|██████████| 94/94 [00:04<00:00, 22.01it/s, loss=0.0101, accuracy=0.998] \n"
          ]
        },
        {
          "name": "stdout",
          "output_type": "stream",
          "text": [
            "lr: 0.01\n"
          ]
        },
        {
          "name": "stderr",
          "output_type": "stream",
          "text": [
            "train epoch 7: 100%|██████████| 375/375 [00:10<00:00, 36.79it/s, loss=0.00143, accuracy=1]\n",
            "validation epoch 7: 100%|██████████| 94/94 [00:04<00:00, 21.08it/s, loss=0.0101, accuracy=0.997] \n"
          ]
        },
        {
          "name": "stdout",
          "output_type": "stream",
          "text": [
            "lr: 0.01\n"
          ]
        },
        {
          "name": "stderr",
          "output_type": "stream",
          "text": [
            "train epoch 8: 100%|██████████| 375/375 [00:10<00:00, 34.27it/s, loss=0.00114, accuracy=1]\n",
            "validation epoch 8: 100%|██████████| 94/94 [00:04<00:00, 20.46it/s, loss=0.00949, accuracy=0.998]\n"
          ]
        },
        {
          "name": "stdout",
          "output_type": "stream",
          "text": [
            "lr: 0.01\n"
          ]
        },
        {
          "name": "stderr",
          "output_type": "stream",
          "text": [
            "train epoch 9: 100%|██████████| 375/375 [00:11<00:00, 33.66it/s, loss=0.000758, accuracy=1]   \n",
            "validation epoch 9: 100%|██████████| 94/94 [00:04<00:00, 19.88it/s, loss=0.0102, accuracy=0.998] "
          ]
        },
        {
          "name": "stdout",
          "output_type": "stream",
          "text": [
            "lr: 0.01\n"
          ]
        },
        {
          "name": "stderr",
          "output_type": "stream",
          "text": [
            "\n"
          ]
        }
      ],
      "source": [
        "train.train_erm(epochs=10)"
      ]
    },
    {
      "cell_type": "code",
      "execution_count": 7,
      "metadata": {
        "colab": {
          "base_uri": "https://localhost:8080/"
        },
        "id": "h8IL1gdd4cg2",
        "outputId": "22530055-1513-4c25-b7f2-a6a3353bee73"
      },
      "outputs": [
        {
          "name": "stderr",
          "output_type": "stream",
          "text": [
            "train epoch 10: 100%|██████████| 375/375 [00:10<00:00, 35.03it/s, loss=0.000723, accuracy=1]\n",
            "validation epoch 10: 100%|██████████| 94/94 [00:04<00:00, 21.86it/s, loss=0.0108, accuracy=0.997]\n"
          ]
        },
        {
          "name": "stdout",
          "output_type": "stream",
          "text": [
            "lr: 0.01\n"
          ]
        },
        {
          "name": "stderr",
          "output_type": "stream",
          "text": [
            "train epoch 11: 100%|██████████| 375/375 [00:10<00:00, 35.34it/s, loss=0.000702, accuracy=1]\n",
            "validation epoch 11: 100%|██████████| 94/94 [00:04<00:00, 21.12it/s, loss=0.011, accuracy=0.997]  \n"
          ]
        },
        {
          "name": "stdout",
          "output_type": "stream",
          "text": [
            "lr: 0.01\n"
          ]
        },
        {
          "name": "stderr",
          "output_type": "stream",
          "text": [
            "train epoch 12: 100%|██████████| 375/375 [00:10<00:00, 34.79it/s, loss=0.000563, accuracy=1]\n",
            "validation epoch 12: 100%|██████████| 94/94 [00:04<00:00, 20.72it/s, loss=0.00976, accuracy=0.998]\n"
          ]
        },
        {
          "name": "stdout",
          "output_type": "stream",
          "text": [
            "lr: 0.01\n"
          ]
        },
        {
          "name": "stderr",
          "output_type": "stream",
          "text": [
            "train epoch 13: 100%|██████████| 375/375 [00:10<00:00, 36.80it/s, loss=0.000421, accuracy=1]\n",
            "validation epoch 13: 100%|██████████| 94/94 [00:04<00:00, 21.35it/s, loss=0.0101, accuracy=0.998] \n"
          ]
        },
        {
          "name": "stdout",
          "output_type": "stream",
          "text": [
            "lr: 0.01\n"
          ]
        },
        {
          "name": "stderr",
          "output_type": "stream",
          "text": [
            "train epoch 14: 100%|██████████| 375/375 [00:10<00:00, 34.78it/s, loss=0.000326, accuracy=1]\n",
            "validation epoch 14: 100%|██████████| 94/94 [00:04<00:00, 21.01it/s, loss=0.0104, accuracy=0.998] \n"
          ]
        },
        {
          "name": "stdout",
          "output_type": "stream",
          "text": [
            "lr: 0.01\n"
          ]
        },
        {
          "name": "stderr",
          "output_type": "stream",
          "text": [
            "train epoch 15: 100%|██████████| 375/375 [00:10<00:00, 35.12it/s, loss=0.000347, accuracy=1]\n",
            "validation epoch 15: 100%|██████████| 94/94 [00:04<00:00, 21.87it/s, loss=0.0102, accuracy=0.998] \n"
          ]
        },
        {
          "name": "stdout",
          "output_type": "stream",
          "text": [
            "lr: 0.01\n"
          ]
        },
        {
          "name": "stderr",
          "output_type": "stream",
          "text": [
            "train epoch 16: 100%|██████████| 375/375 [00:10<00:00, 34.36it/s, loss=0.000317, accuracy=1]\n",
            "validation epoch 16: 100%|██████████| 94/94 [00:04<00:00, 20.44it/s, loss=0.0105, accuracy=0.998] \n"
          ]
        },
        {
          "name": "stdout",
          "output_type": "stream",
          "text": [
            "lr: 0.01\n"
          ]
        },
        {
          "name": "stderr",
          "output_type": "stream",
          "text": [
            "train epoch 17: 100%|██████████| 375/375 [00:10<00:00, 36.51it/s, loss=0.000307, accuracy=1]\n",
            "validation epoch 17: 100%|██████████| 94/94 [00:04<00:00, 21.14it/s, loss=0.0105, accuracy=0.998] \n"
          ]
        },
        {
          "name": "stdout",
          "output_type": "stream",
          "text": [
            "lr: 0.01\n"
          ]
        },
        {
          "name": "stderr",
          "output_type": "stream",
          "text": [
            "train epoch 18: 100%|██████████| 375/375 [00:10<00:00, 36.35it/s, loss=0.000258, accuracy=1]\n",
            "validation epoch 18: 100%|██████████| 94/94 [00:04<00:00, 19.98it/s, loss=0.0103, accuracy=0.998] \n"
          ]
        },
        {
          "name": "stdout",
          "output_type": "stream",
          "text": [
            "lr: 0.01\n"
          ]
        },
        {
          "name": "stderr",
          "output_type": "stream",
          "text": [
            "train epoch 19: 100%|██████████| 375/375 [00:10<00:00, 36.30it/s, loss=0.000345, accuracy=1]\n",
            "validation epoch 19: 100%|██████████| 94/94 [00:04<00:00, 20.09it/s, loss=0.0105, accuracy=0.997]\n"
          ]
        },
        {
          "name": "stdout",
          "output_type": "stream",
          "text": [
            "lr: 0.01\n"
          ]
        },
        {
          "name": "stderr",
          "output_type": "stream",
          "text": [
            "train epoch 20: 100%|██████████| 375/375 [00:10<00:00, 36.43it/s, loss=0.000359, accuracy=1]\n",
            "validation epoch 20: 100%|██████████| 94/94 [00:04<00:00, 21.31it/s, loss=0.0102, accuracy=0.998] \n"
          ]
        },
        {
          "name": "stdout",
          "output_type": "stream",
          "text": [
            "lr: 0.01\n"
          ]
        },
        {
          "name": "stderr",
          "output_type": "stream",
          "text": [
            "train epoch 21: 100%|██████████| 375/375 [00:10<00:00, 35.64it/s, loss=0.000255, accuracy=1]\n",
            "validation epoch 21: 100%|██████████| 94/94 [00:04<00:00, 21.45it/s, loss=0.0108, accuracy=0.997] \n"
          ]
        },
        {
          "name": "stdout",
          "output_type": "stream",
          "text": [
            "lr: 0.01\n"
          ]
        },
        {
          "name": "stderr",
          "output_type": "stream",
          "text": [
            "train epoch 22: 100%|██████████| 375/375 [00:10<00:00, 35.15it/s, loss=0.000352, accuracy=1]\n",
            "validation epoch 22: 100%|██████████| 94/94 [00:04<00:00, 20.08it/s, loss=0.0109, accuracy=0.998] \n"
          ]
        },
        {
          "name": "stdout",
          "output_type": "stream",
          "text": [
            "lr: 0.01\n"
          ]
        },
        {
          "name": "stderr",
          "output_type": "stream",
          "text": [
            "train epoch 23: 100%|██████████| 375/375 [00:10<00:00, 34.87it/s, loss=0.00027, accuracy=1] \n",
            "validation epoch 23: 100%|██████████| 94/94 [00:04<00:00, 20.52it/s, loss=0.0105, accuracy=0.998] \n"
          ]
        },
        {
          "name": "stdout",
          "output_type": "stream",
          "text": [
            "lr: 0.01\n"
          ]
        },
        {
          "name": "stderr",
          "output_type": "stream",
          "text": [
            "train epoch 24: 100%|██████████| 375/375 [00:10<00:00, 36.25it/s, loss=0.000196, accuracy=1]\n",
            "validation epoch 24: 100%|██████████| 94/94 [00:04<00:00, 21.71it/s, loss=0.0104, accuracy=0.997] \n"
          ]
        },
        {
          "name": "stdout",
          "output_type": "stream",
          "text": [
            "lr: 0.005\n"
          ]
        },
        {
          "name": "stderr",
          "output_type": "stream",
          "text": [
            "train epoch 25: 100%|██████████| 375/375 [00:10<00:00, 35.47it/s, loss=0.000189, accuracy=1]\n",
            "validation epoch 25: 100%|██████████| 94/94 [00:04<00:00, 18.91it/s, loss=0.0105, accuracy=0.998] \n"
          ]
        },
        {
          "name": "stdout",
          "output_type": "stream",
          "text": [
            "lr: 0.005\n"
          ]
        },
        {
          "name": "stderr",
          "output_type": "stream",
          "text": [
            "train epoch 26: 100%|██████████| 375/375 [00:10<00:00, 35.66it/s, loss=0.000175, accuracy=1]\n",
            "validation epoch 26: 100%|██████████| 94/94 [00:04<00:00, 19.65it/s, loss=0.0108, accuracy=0.997] \n"
          ]
        },
        {
          "name": "stdout",
          "output_type": "stream",
          "text": [
            "lr: 0.005\n"
          ]
        },
        {
          "name": "stderr",
          "output_type": "stream",
          "text": [
            "train epoch 27: 100%|██████████| 375/375 [00:10<00:00, 35.64it/s, loss=0.000157, accuracy=1]\n",
            "validation epoch 27: 100%|██████████| 94/94 [00:04<00:00, 20.18it/s, loss=0.0102, accuracy=0.998] \n"
          ]
        },
        {
          "name": "stdout",
          "output_type": "stream",
          "text": [
            "lr: 0.005\n"
          ]
        },
        {
          "name": "stderr",
          "output_type": "stream",
          "text": [
            "train epoch 28: 100%|██████████| 375/375 [00:10<00:00, 36.77it/s, loss=0.000166, accuracy=1]\n",
            "validation epoch 28: 100%|██████████| 94/94 [00:04<00:00, 21.64it/s, loss=0.0104, accuracy=0.998] \n"
          ]
        },
        {
          "name": "stdout",
          "output_type": "stream",
          "text": [
            "lr: 0.005\n"
          ]
        },
        {
          "name": "stderr",
          "output_type": "stream",
          "text": [
            "train epoch 29: 100%|██████████| 375/375 [00:10<00:00, 36.67it/s, loss=0.000159, accuracy=1]\n",
            "validation epoch 29: 100%|██████████| 94/94 [00:04<00:00, 21.74it/s, loss=0.0105, accuracy=0.998] \n"
          ]
        },
        {
          "name": "stdout",
          "output_type": "stream",
          "text": [
            "lr: 0.005\n"
          ]
        },
        {
          "name": "stderr",
          "output_type": "stream",
          "text": [
            "train epoch 30: 100%|██████████| 375/375 [00:10<00:00, 35.67it/s, loss=0.000183, accuracy=1]\n",
            "validation epoch 30: 100%|██████████| 94/94 [00:04<00:00, 20.90it/s, loss=0.0105, accuracy=0.998] \n"
          ]
        },
        {
          "name": "stdout",
          "output_type": "stream",
          "text": [
            "lr: 0.005\n"
          ]
        },
        {
          "name": "stderr",
          "output_type": "stream",
          "text": [
            "train epoch 31: 100%|██████████| 375/375 [00:10<00:00, 34.50it/s, loss=0.000185, accuracy=1]\n",
            "validation epoch 31: 100%|██████████| 94/94 [00:04<00:00, 21.60it/s, loss=0.0102, accuracy=0.998] \n"
          ]
        },
        {
          "name": "stdout",
          "output_type": "stream",
          "text": [
            "lr: 0.005\n"
          ]
        },
        {
          "name": "stderr",
          "output_type": "stream",
          "text": [
            "train epoch 32: 100%|██████████| 375/375 [00:10<00:00, 35.31it/s, loss=0.000164, accuracy=1]\n",
            "validation epoch 32: 100%|██████████| 94/94 [00:04<00:00, 20.63it/s, loss=0.0103, accuracy=0.998] \n"
          ]
        },
        {
          "name": "stdout",
          "output_type": "stream",
          "text": [
            "lr: 0.005\n"
          ]
        },
        {
          "name": "stderr",
          "output_type": "stream",
          "text": [
            "train epoch 33: 100%|██████████| 375/375 [00:10<00:00, 34.21it/s, loss=0.000157, accuracy=1]\n",
            "validation epoch 33: 100%|██████████| 94/94 [00:04<00:00, 21.40it/s, loss=0.0108, accuracy=0.997] \n"
          ]
        },
        {
          "name": "stdout",
          "output_type": "stream",
          "text": [
            "lr: 0.005\n"
          ]
        },
        {
          "name": "stderr",
          "output_type": "stream",
          "text": [
            "train epoch 34: 100%|██████████| 375/375 [00:10<00:00, 36.66it/s, loss=0.000153, accuracy=1]\n",
            "validation epoch 34: 100%|██████████| 94/94 [00:04<00:00, 20.27it/s, loss=0.0103, accuracy=0.998] \n"
          ]
        },
        {
          "name": "stdout",
          "output_type": "stream",
          "text": [
            "lr: 0.005\n"
          ]
        },
        {
          "name": "stderr",
          "output_type": "stream",
          "text": [
            "train epoch 35: 100%|██████████| 375/375 [00:10<00:00, 34.68it/s, loss=0.000147, accuracy=1]\n",
            "validation epoch 35: 100%|██████████| 94/94 [00:04<00:00, 20.90it/s, loss=0.0104, accuracy=0.998] \n"
          ]
        },
        {
          "name": "stdout",
          "output_type": "stream",
          "text": [
            "lr: 0.005\n"
          ]
        },
        {
          "name": "stderr",
          "output_type": "stream",
          "text": [
            "train epoch 36: 100%|██████████| 375/375 [00:10<00:00, 35.20it/s, loss=0.000153, accuracy=1]\n",
            "validation epoch 36: 100%|██████████| 94/94 [00:04<00:00, 21.35it/s, loss=0.0101, accuracy=0.998] \n"
          ]
        },
        {
          "name": "stdout",
          "output_type": "stream",
          "text": [
            "lr: 0.005\n"
          ]
        },
        {
          "name": "stderr",
          "output_type": "stream",
          "text": [
            "train epoch 37: 100%|██████████| 375/375 [00:10<00:00, 35.93it/s, loss=0.000127, accuracy=1]\n",
            "validation epoch 37: 100%|██████████| 94/94 [00:04<00:00, 19.42it/s, loss=0.0105, accuracy=0.998] \n"
          ]
        },
        {
          "name": "stdout",
          "output_type": "stream",
          "text": [
            "lr: 0.005\n"
          ]
        },
        {
          "name": "stderr",
          "output_type": "stream",
          "text": [
            "train epoch 38: 100%|██████████| 375/375 [00:12<00:00, 30.21it/s, loss=0.000137, accuracy=1]\n",
            "validation epoch 38: 100%|██████████| 94/94 [00:04<00:00, 19.58it/s, loss=0.0104, accuracy=0.998] \n"
          ]
        },
        {
          "name": "stdout",
          "output_type": "stream",
          "text": [
            "lr: 0.005\n"
          ]
        },
        {
          "name": "stderr",
          "output_type": "stream",
          "text": [
            "train epoch 39: 100%|██████████| 375/375 [00:11<00:00, 33.22it/s, loss=0.000135, accuracy=1]\n",
            "validation epoch 39: 100%|██████████| 94/94 [00:05<00:00, 18.33it/s, loss=0.0103, accuracy=0.998] \n"
          ]
        },
        {
          "name": "stdout",
          "output_type": "stream",
          "text": [
            "lr: 0.005\n"
          ]
        },
        {
          "name": "stderr",
          "output_type": "stream",
          "text": [
            "train epoch 40: 100%|██████████| 375/375 [00:11<00:00, 32.88it/s, loss=0.000144, accuracy=1]\n",
            "validation epoch 40: 100%|██████████| 94/94 [00:04<00:00, 21.29it/s, loss=0.0104, accuracy=0.998] \n"
          ]
        },
        {
          "name": "stdout",
          "output_type": "stream",
          "text": [
            "lr: 0.005\n"
          ]
        },
        {
          "name": "stderr",
          "output_type": "stream",
          "text": [
            "train epoch 41: 100%|██████████| 375/375 [00:11<00:00, 33.33it/s, loss=0.000129, accuracy=1]\n",
            "validation epoch 41: 100%|██████████| 94/94 [00:04<00:00, 21.44it/s, loss=0.0103, accuracy=0.998] \n"
          ]
        },
        {
          "name": "stdout",
          "output_type": "stream",
          "text": [
            "lr: 0.005\n"
          ]
        },
        {
          "name": "stderr",
          "output_type": "stream",
          "text": [
            "train epoch 42: 100%|██████████| 375/375 [00:10<00:00, 34.72it/s, loss=0.000141, accuracy=1]\n",
            "validation epoch 42: 100%|██████████| 94/94 [00:04<00:00, 21.26it/s, loss=0.0105, accuracy=0.998] \n"
          ]
        },
        {
          "name": "stdout",
          "output_type": "stream",
          "text": [
            "lr: 0.005\n"
          ]
        },
        {
          "name": "stderr",
          "output_type": "stream",
          "text": [
            "train epoch 43: 100%|██████████| 375/375 [00:11<00:00, 33.46it/s, loss=0.000126, accuracy=1]\n",
            "validation epoch 43: 100%|██████████| 94/94 [00:04<00:00, 21.17it/s, loss=0.0105, accuracy=0.998] \n"
          ]
        },
        {
          "name": "stdout",
          "output_type": "stream",
          "text": [
            "lr: 0.005\n"
          ]
        },
        {
          "name": "stderr",
          "output_type": "stream",
          "text": [
            "train epoch 44: 100%|██████████| 375/375 [00:10<00:00, 34.16it/s, loss=0.000129, accuracy=1]\n",
            "validation epoch 44: 100%|██████████| 94/94 [00:04<00:00, 19.97it/s, loss=0.0107, accuracy=0.998] \n"
          ]
        },
        {
          "name": "stdout",
          "output_type": "stream",
          "text": [
            "lr: 0.005\n"
          ]
        },
        {
          "name": "stderr",
          "output_type": "stream",
          "text": [
            "train epoch 45: 100%|██████████| 375/375 [00:11<00:00, 31.38it/s, loss=0.000121, accuracy=1]\n",
            "validation epoch 45: 100%|██████████| 94/94 [00:04<00:00, 20.53it/s, loss=0.0106, accuracy=0.998] \n"
          ]
        },
        {
          "name": "stdout",
          "output_type": "stream",
          "text": [
            "lr: 0.005\n"
          ]
        },
        {
          "name": "stderr",
          "output_type": "stream",
          "text": [
            "train epoch 46: 100%|██████████| 375/375 [00:10<00:00, 34.88it/s, loss=0.000132, accuracy=1]\n",
            "validation epoch 46: 100%|██████████| 94/94 [00:04<00:00, 21.49it/s, loss=0.0107, accuracy=0.998] \n"
          ]
        },
        {
          "name": "stdout",
          "output_type": "stream",
          "text": [
            "lr: 0.005\n"
          ]
        },
        {
          "name": "stderr",
          "output_type": "stream",
          "text": [
            "train epoch 47: 100%|██████████| 375/375 [00:10<00:00, 34.74it/s, loss=0.000116, accuracy=1]\n",
            "validation epoch 47: 100%|██████████| 94/94 [00:04<00:00, 20.30it/s, loss=0.0104, accuracy=0.998] \n"
          ]
        },
        {
          "name": "stdout",
          "output_type": "stream",
          "text": [
            "lr: 0.005\n"
          ]
        },
        {
          "name": "stderr",
          "output_type": "stream",
          "text": [
            "train epoch 48: 100%|██████████| 375/375 [00:11<00:00, 32.56it/s, loss=0.000123, accuracy=1]\n",
            "validation epoch 48: 100%|██████████| 94/94 [00:04<00:00, 21.23it/s, loss=0.0106, accuracy=0.998] \n"
          ]
        },
        {
          "name": "stdout",
          "output_type": "stream",
          "text": [
            "lr: 0.005\n"
          ]
        },
        {
          "name": "stderr",
          "output_type": "stream",
          "text": [
            "train epoch 49: 100%|██████████| 375/375 [00:10<00:00, 35.02it/s, loss=0.000124, accuracy=1]\n",
            "validation epoch 49: 100%|██████████| 94/94 [00:04<00:00, 21.14it/s, loss=0.011, accuracy=0.997]  \n"
          ]
        },
        {
          "name": "stdout",
          "output_type": "stream",
          "text": [
            "lr: 0.0025\n"
          ]
        },
        {
          "name": "stderr",
          "output_type": "stream",
          "text": [
            "train epoch 50: 100%|██████████| 375/375 [00:10<00:00, 35.25it/s, loss=0.000124, accuracy=1]\n",
            "validation epoch 50: 100%|██████████| 94/94 [00:04<00:00, 21.13it/s, loss=0.0102, accuracy=0.998] \n"
          ]
        },
        {
          "name": "stdout",
          "output_type": "stream",
          "text": [
            "lr: 0.0025\n"
          ]
        },
        {
          "name": "stderr",
          "output_type": "stream",
          "text": [
            "train epoch 51: 100%|██████████| 375/375 [00:10<00:00, 34.96it/s, loss=0.000117, accuracy=1]\n",
            "validation epoch 51: 100%|██████████| 94/94 [00:04<00:00, 21.02it/s, loss=0.0109, accuracy=0.997] \n"
          ]
        },
        {
          "name": "stdout",
          "output_type": "stream",
          "text": [
            "lr: 0.0025\n"
          ]
        },
        {
          "name": "stderr",
          "output_type": "stream",
          "text": [
            "train epoch 52: 100%|██████████| 375/375 [00:10<00:00, 34.99it/s, loss=0.000131, accuracy=1]\n",
            "validation epoch 52: 100%|██████████| 94/94 [00:04<00:00, 21.41it/s, loss=0.0102, accuracy=0.998] \n"
          ]
        },
        {
          "name": "stdout",
          "output_type": "stream",
          "text": [
            "lr: 0.0025\n"
          ]
        },
        {
          "name": "stderr",
          "output_type": "stream",
          "text": [
            "train epoch 53: 100%|██████████| 375/375 [00:11<00:00, 33.45it/s, loss=0.000114, accuracy=1]\n",
            "validation epoch 53: 100%|██████████| 94/94 [00:04<00:00, 21.23it/s, loss=0.0103, accuracy=0.998] \n"
          ]
        },
        {
          "name": "stdout",
          "output_type": "stream",
          "text": [
            "lr: 0.0025\n"
          ]
        },
        {
          "name": "stderr",
          "output_type": "stream",
          "text": [
            "train epoch 54: 100%|██████████| 375/375 [00:10<00:00, 35.32it/s, loss=0.000122, accuracy=1]\n",
            "validation epoch 54: 100%|██████████| 94/94 [00:04<00:00, 20.32it/s, loss=0.00998, accuracy=0.998]\n"
          ]
        },
        {
          "name": "stdout",
          "output_type": "stream",
          "text": [
            "lr: 0.0025\n"
          ]
        },
        {
          "name": "stderr",
          "output_type": "stream",
          "text": [
            "train epoch 55: 100%|██████████| 375/375 [00:10<00:00, 35.13it/s, loss=0.000114, accuracy=1]\n",
            "validation epoch 55: 100%|██████████| 94/94 [00:04<00:00, 20.78it/s, loss=0.0106, accuracy=0.997] \n"
          ]
        },
        {
          "name": "stdout",
          "output_type": "stream",
          "text": [
            "lr: 0.0025\n"
          ]
        },
        {
          "name": "stderr",
          "output_type": "stream",
          "text": [
            "train epoch 56: 100%|██████████| 375/375 [00:10<00:00, 36.10it/s, loss=0.000112, accuracy=1]\n",
            "validation epoch 56: 100%|██████████| 94/94 [00:04<00:00, 19.73it/s, loss=0.0108, accuracy=0.997] \n"
          ]
        },
        {
          "name": "stdout",
          "output_type": "stream",
          "text": [
            "lr: 0.0025\n"
          ]
        },
        {
          "name": "stderr",
          "output_type": "stream",
          "text": [
            "train epoch 57: 100%|██████████| 375/375 [00:10<00:00, 34.89it/s, loss=0.000108, accuracy=1]\n",
            "validation epoch 57: 100%|██████████| 94/94 [00:04<00:00, 21.24it/s, loss=0.0102, accuracy=0.998] \n"
          ]
        },
        {
          "name": "stdout",
          "output_type": "stream",
          "text": [
            "lr: 0.0025\n"
          ]
        },
        {
          "name": "stderr",
          "output_type": "stream",
          "text": [
            "train epoch 58: 100%|██████████| 375/375 [00:10<00:00, 35.15it/s, loss=0.000128, accuracy=1]\n",
            "validation epoch 58: 100%|██████████| 94/94 [00:04<00:00, 21.67it/s, loss=0.0101, accuracy=0.998] \n"
          ]
        },
        {
          "name": "stdout",
          "output_type": "stream",
          "text": [
            "lr: 0.0025\n"
          ]
        },
        {
          "name": "stderr",
          "output_type": "stream",
          "text": [
            "train epoch 59: 100%|██████████| 375/375 [00:10<00:00, 34.24it/s, loss=0.000115, accuracy=1]\n",
            "validation epoch 59: 100%|██████████| 94/94 [00:04<00:00, 21.27it/s, loss=0.0111, accuracy=0.997] \n"
          ]
        },
        {
          "name": "stdout",
          "output_type": "stream",
          "text": [
            "lr: 0.0025\n"
          ]
        },
        {
          "name": "stderr",
          "output_type": "stream",
          "text": [
            "train epoch 60: 100%|██████████| 375/375 [00:10<00:00, 34.80it/s, loss=0.000128, accuracy=1]\n",
            "validation epoch 60: 100%|██████████| 94/94 [00:04<00:00, 21.96it/s, loss=0.0108, accuracy=0.998] \n"
          ]
        },
        {
          "name": "stdout",
          "output_type": "stream",
          "text": [
            "lr: 0.0025\n"
          ]
        },
        {
          "name": "stderr",
          "output_type": "stream",
          "text": [
            "train epoch 61: 100%|██████████| 375/375 [00:10<00:00, 34.84it/s, loss=0.000113, accuracy=1]\n",
            "validation epoch 61: 100%|██████████| 94/94 [00:04<00:00, 22.00it/s, loss=0.0106, accuracy=0.997] \n"
          ]
        },
        {
          "name": "stdout",
          "output_type": "stream",
          "text": [
            "lr: 0.0025\n"
          ]
        },
        {
          "name": "stderr",
          "output_type": "stream",
          "text": [
            "train epoch 62: 100%|██████████| 375/375 [00:10<00:00, 35.32it/s, loss=0.000118, accuracy=1]\n",
            "validation epoch 62: 100%|██████████| 94/94 [00:04<00:00, 20.96it/s, loss=0.0104, accuracy=0.998] \n"
          ]
        },
        {
          "name": "stdout",
          "output_type": "stream",
          "text": [
            "lr: 0.0025\n"
          ]
        },
        {
          "name": "stderr",
          "output_type": "stream",
          "text": [
            "train epoch 63: 100%|██████████| 375/375 [00:10<00:00, 35.61it/s, loss=0.000119, accuracy=1]\n",
            "validation epoch 63: 100%|██████████| 94/94 [00:04<00:00, 21.96it/s, loss=0.0105, accuracy=0.997] \n"
          ]
        },
        {
          "name": "stdout",
          "output_type": "stream",
          "text": [
            "lr: 0.0025\n"
          ]
        },
        {
          "name": "stderr",
          "output_type": "stream",
          "text": [
            "train epoch 64: 100%|██████████| 375/375 [00:10<00:00, 34.72it/s, loss=0.000133, accuracy=1]\n",
            "validation epoch 64: 100%|██████████| 94/94 [00:04<00:00, 21.46it/s, loss=0.0103, accuracy=0.998] \n"
          ]
        },
        {
          "name": "stdout",
          "output_type": "stream",
          "text": [
            "lr: 0.0025\n"
          ]
        },
        {
          "name": "stderr",
          "output_type": "stream",
          "text": [
            "train epoch 65: 100%|██████████| 375/375 [00:12<00:00, 30.30it/s, loss=0.000122, accuracy=1]\n",
            "validation epoch 65: 100%|██████████| 94/94 [00:04<00:00, 20.34it/s, loss=0.0105, accuracy=0.998] \n"
          ]
        },
        {
          "name": "stdout",
          "output_type": "stream",
          "text": [
            "lr: 0.0025\n"
          ]
        },
        {
          "name": "stderr",
          "output_type": "stream",
          "text": [
            "train epoch 66: 100%|██████████| 375/375 [00:10<00:00, 35.63it/s, loss=0.000126, accuracy=1]\n",
            "validation epoch 66: 100%|██████████| 94/94 [00:04<00:00, 21.37it/s, loss=0.0101, accuracy=0.998] \n"
          ]
        },
        {
          "name": "stdout",
          "output_type": "stream",
          "text": [
            "lr: 0.0025\n"
          ]
        },
        {
          "name": "stderr",
          "output_type": "stream",
          "text": [
            "train epoch 67: 100%|██████████| 375/375 [00:10<00:00, 36.16it/s, loss=0.00012, accuracy=1] \n",
            "validation epoch 67: 100%|██████████| 94/94 [00:04<00:00, 19.87it/s, loss=0.0111, accuracy=0.997] \n"
          ]
        },
        {
          "name": "stdout",
          "output_type": "stream",
          "text": [
            "lr: 0.0025\n"
          ]
        },
        {
          "name": "stderr",
          "output_type": "stream",
          "text": [
            "train epoch 68: 100%|██████████| 375/375 [00:11<00:00, 32.08it/s, loss=0.00013, accuracy=1] \n",
            "validation epoch 68: 100%|██████████| 94/94 [00:04<00:00, 21.16it/s, loss=0.0102, accuracy=0.998] \n"
          ]
        },
        {
          "name": "stdout",
          "output_type": "stream",
          "text": [
            "lr: 0.0025\n"
          ]
        },
        {
          "name": "stderr",
          "output_type": "stream",
          "text": [
            "train epoch 69: 100%|██████████| 375/375 [00:11<00:00, 33.06it/s, loss=0.000115, accuracy=1]\n",
            "validation epoch 69: 100%|██████████| 94/94 [00:04<00:00, 19.06it/s, loss=0.0103, accuracy=0.998] \n"
          ]
        },
        {
          "name": "stdout",
          "output_type": "stream",
          "text": [
            "lr: 0.0025\n"
          ]
        },
        {
          "name": "stderr",
          "output_type": "stream",
          "text": [
            "train epoch 70: 100%|██████████| 375/375 [00:12<00:00, 29.27it/s, loss=0.000122, accuracy=1]\n",
            "validation epoch 70: 100%|██████████| 94/94 [00:04<00:00, 19.37it/s, loss=0.0104, accuracy=0.998] \n"
          ]
        },
        {
          "name": "stdout",
          "output_type": "stream",
          "text": [
            "lr: 0.0025\n"
          ]
        },
        {
          "name": "stderr",
          "output_type": "stream",
          "text": [
            "train epoch 71: 100%|██████████| 375/375 [00:11<00:00, 31.55it/s, loss=0.000116, accuracy=1]\n",
            "validation epoch 71: 100%|██████████| 94/94 [00:04<00:00, 20.15it/s, loss=0.00996, accuracy=0.998]\n"
          ]
        },
        {
          "name": "stdout",
          "output_type": "stream",
          "text": [
            "lr: 0.0025\n"
          ]
        },
        {
          "name": "stderr",
          "output_type": "stream",
          "text": [
            "train epoch 72: 100%|██████████| 375/375 [00:12<00:00, 31.14it/s, loss=0.000123, accuracy=1]\n",
            "validation epoch 72: 100%|██████████| 94/94 [00:04<00:00, 19.01it/s, loss=0.0114, accuracy=0.997] \n"
          ]
        },
        {
          "name": "stdout",
          "output_type": "stream",
          "text": [
            "lr: 0.0025\n"
          ]
        },
        {
          "name": "stderr",
          "output_type": "stream",
          "text": [
            "train epoch 73: 100%|██████████| 375/375 [00:11<00:00, 32.00it/s, loss=0.000106, accuracy=1]\n",
            "validation epoch 73: 100%|██████████| 94/94 [00:04<00:00, 18.81it/s, loss=0.011, accuracy=0.997]  \n"
          ]
        },
        {
          "name": "stdout",
          "output_type": "stream",
          "text": [
            "lr: 0.0025\n"
          ]
        },
        {
          "name": "stderr",
          "output_type": "stream",
          "text": [
            "train epoch 74: 100%|██████████| 375/375 [00:11<00:00, 32.05it/s, loss=0.00013, accuracy=1] \n",
            "validation epoch 74: 100%|██████████| 94/94 [00:05<00:00, 18.41it/s, loss=0.0109, accuracy=0.997] \n"
          ]
        },
        {
          "name": "stdout",
          "output_type": "stream",
          "text": [
            "lr: 0.00125\n"
          ]
        },
        {
          "name": "stderr",
          "output_type": "stream",
          "text": [
            "train epoch 75: 100%|██████████| 375/375 [00:10<00:00, 34.11it/s, loss=0.00012, accuracy=1] \n",
            "validation epoch 75: 100%|██████████| 94/94 [00:04<00:00, 19.55it/s, loss=0.0105, accuracy=0.998] \n"
          ]
        },
        {
          "name": "stdout",
          "output_type": "stream",
          "text": [
            "lr: 0.00125\n"
          ]
        },
        {
          "name": "stderr",
          "output_type": "stream",
          "text": [
            "train epoch 76: 100%|██████████| 375/375 [00:11<00:00, 33.02it/s, loss=0.000122, accuracy=1]\n",
            "validation epoch 76: 100%|██████████| 94/94 [00:04<00:00, 20.36it/s, loss=0.0101, accuracy=0.998] \n"
          ]
        },
        {
          "name": "stdout",
          "output_type": "stream",
          "text": [
            "lr: 0.00125\n"
          ]
        },
        {
          "name": "stderr",
          "output_type": "stream",
          "text": [
            "train epoch 77: 100%|██████████| 375/375 [00:10<00:00, 36.33it/s, loss=0.000108, accuracy=1]\n",
            "validation epoch 77: 100%|██████████| 94/94 [00:04<00:00, 21.24it/s, loss=0.0103, accuracy=0.998] \n"
          ]
        },
        {
          "name": "stdout",
          "output_type": "stream",
          "text": [
            "lr: 0.00125\n"
          ]
        },
        {
          "name": "stderr",
          "output_type": "stream",
          "text": [
            "train epoch 78: 100%|██████████| 375/375 [00:12<00:00, 30.12it/s, loss=0.000117, accuracy=1]\n",
            "validation epoch 78: 100%|██████████| 94/94 [00:04<00:00, 21.33it/s, loss=0.0102, accuracy=0.998] \n"
          ]
        },
        {
          "name": "stdout",
          "output_type": "stream",
          "text": [
            "lr: 0.00125\n"
          ]
        },
        {
          "name": "stderr",
          "output_type": "stream",
          "text": [
            "train epoch 79: 100%|██████████| 375/375 [00:10<00:00, 34.24it/s, loss=0.000107, accuracy=1]\n",
            "validation epoch 79: 100%|██████████| 94/94 [00:04<00:00, 20.38it/s, loss=0.0101, accuracy=0.998] \n"
          ]
        },
        {
          "name": "stdout",
          "output_type": "stream",
          "text": [
            "lr: 0.00125\n"
          ]
        },
        {
          "name": "stderr",
          "output_type": "stream",
          "text": [
            "train epoch 80: 100%|██████████| 375/375 [00:11<00:00, 33.77it/s, loss=0.000114, accuracy=1]\n",
            "validation epoch 80: 100%|██████████| 94/94 [00:04<00:00, 22.03it/s, loss=0.0105, accuracy=0.998] \n"
          ]
        },
        {
          "name": "stdout",
          "output_type": "stream",
          "text": [
            "lr: 0.00125\n"
          ]
        },
        {
          "name": "stderr",
          "output_type": "stream",
          "text": [
            "train epoch 81: 100%|██████████| 375/375 [00:10<00:00, 34.36it/s, loss=0.000133, accuracy=1]\n",
            "validation epoch 81: 100%|██████████| 94/94 [00:05<00:00, 18.50it/s, loss=0.0106, accuracy=0.998] \n"
          ]
        },
        {
          "name": "stdout",
          "output_type": "stream",
          "text": [
            "lr: 0.00125\n"
          ]
        },
        {
          "name": "stderr",
          "output_type": "stream",
          "text": [
            "train epoch 82: 100%|██████████| 375/375 [00:11<00:00, 33.44it/s, loss=0.000127, accuracy=1]\n",
            "validation epoch 82: 100%|██████████| 94/94 [00:04<00:00, 20.58it/s, loss=0.0106, accuracy=0.998] \n"
          ]
        },
        {
          "name": "stdout",
          "output_type": "stream",
          "text": [
            "lr: 0.00125\n"
          ]
        },
        {
          "name": "stderr",
          "output_type": "stream",
          "text": [
            "train epoch 83: 100%|██████████| 375/375 [00:10<00:00, 35.00it/s, loss=0.000111, accuracy=1]\n",
            "validation epoch 83: 100%|██████████| 94/94 [00:04<00:00, 20.90it/s, loss=0.0111, accuracy=0.997] \n"
          ]
        },
        {
          "name": "stdout",
          "output_type": "stream",
          "text": [
            "lr: 0.00125\n"
          ]
        },
        {
          "name": "stderr",
          "output_type": "stream",
          "text": [
            "train epoch 84: 100%|██████████| 375/375 [00:10<00:00, 34.73it/s, loss=0.000123, accuracy=1]\n",
            "validation epoch 84: 100%|██████████| 94/94 [00:04<00:00, 21.78it/s, loss=0.0105, accuracy=0.998] \n"
          ]
        },
        {
          "name": "stdout",
          "output_type": "stream",
          "text": [
            "lr: 0.00125\n"
          ]
        },
        {
          "name": "stderr",
          "output_type": "stream",
          "text": [
            "train epoch 85: 100%|██████████| 375/375 [00:11<00:00, 32.29it/s, loss=0.00011, accuracy=1] \n",
            "validation epoch 85: 100%|██████████| 94/94 [00:06<00:00, 15.43it/s, loss=0.0104, accuracy=0.998] \n"
          ]
        },
        {
          "name": "stdout",
          "output_type": "stream",
          "text": [
            "lr: 0.00125\n"
          ]
        },
        {
          "name": "stderr",
          "output_type": "stream",
          "text": [
            "train epoch 86: 100%|██████████| 375/375 [00:10<00:00, 35.68it/s, loss=0.000125, accuracy=1]\n",
            "validation epoch 86: 100%|██████████| 94/94 [00:04<00:00, 21.37it/s, loss=0.0108, accuracy=0.997] \n"
          ]
        },
        {
          "name": "stdout",
          "output_type": "stream",
          "text": [
            "lr: 0.00125\n"
          ]
        },
        {
          "name": "stderr",
          "output_type": "stream",
          "text": [
            "train epoch 87: 100%|██████████| 375/375 [00:11<00:00, 31.90it/s, loss=9.88e-5, accuracy=1] \n",
            "validation epoch 87: 100%|██████████| 94/94 [00:04<00:00, 20.30it/s, loss=0.011, accuracy=0.997]  \n"
          ]
        },
        {
          "name": "stdout",
          "output_type": "stream",
          "text": [
            "lr: 0.00125\n"
          ]
        },
        {
          "name": "stderr",
          "output_type": "stream",
          "text": [
            "train epoch 88: 100%|██████████| 375/375 [00:10<00:00, 34.47it/s, loss=0.000114, accuracy=1]\n",
            "validation epoch 88: 100%|██████████| 94/94 [00:04<00:00, 20.38it/s, loss=0.0108, accuracy=0.997] \n"
          ]
        },
        {
          "name": "stdout",
          "output_type": "stream",
          "text": [
            "lr: 0.00125\n"
          ]
        },
        {
          "name": "stderr",
          "output_type": "stream",
          "text": [
            "train epoch 89: 100%|██████████| 375/375 [00:11<00:00, 32.49it/s, loss=0.000122, accuracy=1]\n",
            "validation epoch 89: 100%|██████████| 94/94 [00:06<00:00, 15.50it/s, loss=0.00998, accuracy=0.998]\n"
          ]
        },
        {
          "name": "stdout",
          "output_type": "stream",
          "text": [
            "lr: 0.00125\n"
          ]
        },
        {
          "name": "stderr",
          "output_type": "stream",
          "text": [
            "train epoch 90: 100%|██████████| 375/375 [00:12<00:00, 30.38it/s, loss=0.000102, accuracy=1]\n",
            "validation epoch 90: 100%|██████████| 94/94 [00:04<00:00, 20.29it/s, loss=0.0101, accuracy=0.998] \n"
          ]
        },
        {
          "name": "stdout",
          "output_type": "stream",
          "text": [
            "lr: 0.00125\n"
          ]
        },
        {
          "name": "stderr",
          "output_type": "stream",
          "text": [
            "train epoch 91: 100%|██████████| 375/375 [00:11<00:00, 32.03it/s, loss=0.000109, accuracy=1]\n",
            "validation epoch 91: 100%|██████████| 94/94 [00:04<00:00, 19.83it/s, loss=0.0101, accuracy=0.998] \n"
          ]
        },
        {
          "name": "stdout",
          "output_type": "stream",
          "text": [
            "lr: 0.00125\n"
          ]
        },
        {
          "name": "stderr",
          "output_type": "stream",
          "text": [
            "train epoch 92: 100%|██████████| 375/375 [00:11<00:00, 31.74it/s, loss=0.000111, accuracy=1]\n",
            "validation epoch 92: 100%|██████████| 94/94 [00:04<00:00, 21.19it/s, loss=0.0106, accuracy=0.998] \n"
          ]
        },
        {
          "name": "stdout",
          "output_type": "stream",
          "text": [
            "lr: 0.00125\n"
          ]
        },
        {
          "name": "stderr",
          "output_type": "stream",
          "text": [
            "train epoch 93: 100%|██████████| 375/375 [00:11<00:00, 34.02it/s, loss=0.000114, accuracy=1]\n",
            "validation epoch 93: 100%|██████████| 94/94 [00:04<00:00, 21.32it/s, loss=0.0113, accuracy=0.997] \n"
          ]
        },
        {
          "name": "stdout",
          "output_type": "stream",
          "text": [
            "lr: 0.00125\n"
          ]
        },
        {
          "name": "stderr",
          "output_type": "stream",
          "text": [
            "train epoch 94: 100%|██████████| 375/375 [00:10<00:00, 35.54it/s, loss=0.000115, accuracy=1]\n",
            "validation epoch 94: 100%|██████████| 94/94 [00:05<00:00, 16.31it/s, loss=0.0107, accuracy=0.998] \n"
          ]
        },
        {
          "name": "stdout",
          "output_type": "stream",
          "text": [
            "lr: 0.00125\n"
          ]
        },
        {
          "name": "stderr",
          "output_type": "stream",
          "text": [
            "train epoch 95: 100%|██████████| 375/375 [00:18<00:00, 19.82it/s, loss=0.000119, accuracy=1]\n",
            "validation epoch 95: 100%|██████████| 94/94 [00:05<00:00, 17.25it/s, loss=0.01, accuracy=0.998]   \n"
          ]
        },
        {
          "name": "stdout",
          "output_type": "stream",
          "text": [
            "lr: 0.00125\n"
          ]
        },
        {
          "name": "stderr",
          "output_type": "stream",
          "text": [
            "train epoch 96: 100%|██████████| 375/375 [00:17<00:00, 21.15it/s, loss=9.97e-5, accuracy=1] \n",
            "validation epoch 96: 100%|██████████| 94/94 [00:05<00:00, 16.78it/s, loss=0.0106, accuracy=0.998] \n"
          ]
        },
        {
          "name": "stdout",
          "output_type": "stream",
          "text": [
            "lr: 0.00125\n"
          ]
        },
        {
          "name": "stderr",
          "output_type": "stream",
          "text": [
            "train epoch 97: 100%|██████████| 375/375 [00:18<00:00, 20.56it/s, loss=0.000113, accuracy=1]\n",
            "validation epoch 97: 100%|██████████| 94/94 [00:05<00:00, 17.16it/s, loss=0.0102, accuracy=0.998] \n"
          ]
        },
        {
          "name": "stdout",
          "output_type": "stream",
          "text": [
            "lr: 0.00125\n"
          ]
        },
        {
          "name": "stderr",
          "output_type": "stream",
          "text": [
            "train epoch 98: 100%|██████████| 375/375 [00:18<00:00, 20.76it/s, loss=0.000103, accuracy=1]\n",
            "validation epoch 98: 100%|██████████| 94/94 [00:05<00:00, 15.86it/s, loss=0.0107, accuracy=0.997] \n"
          ]
        },
        {
          "name": "stdout",
          "output_type": "stream",
          "text": [
            "lr: 0.00125\n"
          ]
        },
        {
          "name": "stderr",
          "output_type": "stream",
          "text": [
            "train epoch 99: 100%|██████████| 375/375 [00:18<00:00, 19.98it/s, loss=0.0001, accuracy=1]  \n",
            "validation epoch 99: 100%|██████████| 94/94 [00:05<00:00, 17.08it/s, loss=0.0108, accuracy=0.997] "
          ]
        },
        {
          "name": "stdout",
          "output_type": "stream",
          "text": [
            "lr: 0.00125\n"
          ]
        },
        {
          "name": "stderr",
          "output_type": "stream",
          "text": [
            "\n"
          ]
        }
      ],
      "source": [
        "train.train_erm(resume=True,best_resume_checkpoint_path=\"best_erm_model.pt\",last_resume_checkpoint_path=\"last_erm_model.pt\")"
      ]
    },
    {
      "cell_type": "code",
      "execution_count": 12,
      "metadata": {
        "colab": {
          "base_uri": "https://localhost:8080/"
        },
        "id": "phuR2Wzp4cg3",
        "outputId": "0ba16d64-908b-47ea-eb32-c3915406b428"
      },
      "outputs": [
        {
          "name": "stdout",
          "output_type": "stream",
          "text": [
            "----------testing the model----------\n"
          ]
        },
        {
          "name": "stderr",
          "output_type": "stream",
          "text": [
            "test epoch 12: 100%|██████████| 79/79 [00:05<00:00, 13.54it/s, loss=2.72, accuracy=0.598] "
          ]
        },
        {
          "name": "stdout",
          "output_type": "stream",
          "text": [
            "----------Test accuracy =0.5976068037974683----------\n"
          ]
        },
        {
          "name": "stderr",
          "output_type": "stream",
          "text": [
            "\n"
          ]
        }
      ],
      "source": [
        "train.test(train.test_loader_original,\"best_erm_model.pt\")"
      ]
    },
    {
      "cell_type": "code",
      "execution_count": 13,
      "metadata": {
        "colab": {
          "base_uri": "https://localhost:8080/"
        },
        "id": "73E0knZA4cg3",
        "outputId": "7e9513b6-74f8-4638-aa4b-53f8c958fa13"
      },
      "outputs": [
        {
          "name": "stdout",
          "output_type": "stream",
          "text": [
            "----------testing the model----------\n"
          ]
        },
        {
          "name": "stderr",
          "output_type": "stream",
          "text": [
            "test epoch 12: 100%|██████████| 79/79 [00:05<00:00, 14.64it/s, loss=4.25, accuracy=0.31]  "
          ]
        },
        {
          "name": "stdout",
          "output_type": "stream",
          "text": [
            "----------Test accuracy =0.30963212025316456----------\n"
          ]
        },
        {
          "name": "stderr",
          "output_type": "stream",
          "text": [
            "\n"
          ]
        }
      ],
      "source": [
        "train.test(train.test_loader_biased,\"best_erm_model.pt\")"
      ]
    },
    {
      "cell_type": "code",
      "execution_count": 14,
      "metadata": {},
      "outputs": [
        {
          "ename": "AttributeError",
          "evalue": "'TrainBaseERM' object has no attribute 'mask_data'",
          "output_type": "error",
          "traceback": [
            "\u001b[1;31m---------------------------------------------------------------------------\u001b[0m",
            "\u001b[1;31mAttributeError\u001b[0m                            Traceback (most recent call last)",
            "Cell \u001b[1;32mIn[14], line 1\u001b[0m\n\u001b[1;32m----> 1\u001b[0m train\u001b[39m.\u001b[39;49mmask_data(train\u001b[39m.\u001b[39mtest_loader_biased,\u001b[39m\"\u001b[39m\u001b[39mbest_erm_model.pt\u001b[39m\u001b[39m\"\u001b[39m)\n",
            "\u001b[1;31mAttributeError\u001b[0m: 'TrainBaseERM' object has no attribute 'mask_data'"
          ]
        }
      ],
      "source": [
        "train.mask_data(train.test_loader_biased,\"best_erm_model.pt\")"
      ]
    },
    {
      "cell_type": "code",
      "execution_count": 8,
      "metadata": {},
      "outputs": [
        {
          "data": {
            "text/plain": [
              "<matplotlib.image.AxesImage at 0x2014c6b0910>"
            ]
          },
          "execution_count": 8,
          "metadata": {},
          "output_type": "execute_result"
        },
        {
          "data": {
            "image/png": "[encoded data removed]",
            "text/plain": [
              "<Figure size 640x480 with 1 Axes>"
            ]
          },
          "metadata": {},
          "output_type": "display_data"
        }
      ],
      "source": [
        "import matplotlib.pyplot as plt\n",
        "plt.imshow(train.test_dataset_biased[0][0].transpose(0,1).transpose(1,2))"
      ]
    },
    {
      "cell_type": "code",
      "execution_count": 9,
      "metadata": {},
      "outputs": [
        {
          "data": {
            "text/plain": [
              "<matplotlib.image.AxesImage at 0x20152b56cd0>"
            ]
          },
          "execution_count": 9,
          "metadata": {},
          "output_type": "execute_result"
        },
        {
          "data": {
            "image/png": "[encoded data removed]",
            "text/plain": [
              "<Figure size 640x480 with 1 Axes>"
            ]
          },
          "metadata": {},
          "output_type": "display_data"
        }
      ],
      "source": [
        "plt.imshow(train.masked_dataset[0][0].transpose(0,1).transpose(1,2))"
      ]
    },
    {
      "cell_type": "code",
      "execution_count": 13,
      "metadata": {
        "id": "czo8ySJd7Lj9"
      },
      "outputs": [],
      "source": [
        "!rm data -r"
      ]
    }
  ],
  "metadata": {
    "accelerator": "GPU",
    "colab": {
      "provenance": []
    },
    "gpuClass": "standard",
    "kernelspec": {
      "display_name": "MACHINELEARNING",
      "language": "python",
      "name": "python3"
    },
    "language_info": {
      "codemirror_mode": {
        "name": "ipython",
        "version": 3
      },
      "file_extension": ".py",
      "mimetype": "text/x-python",
      "name": "python",
      "nbconvert_exporter": "python",
      "pygments_lexer": "ipython3",
      "version": "3.9.15"
    },
    "vscode": {
      "interpreter": {
        "hash": "c3d2da9ea33237c85584c9c67e1981ac38a3fd243e6de17eadf5b3b825ecc547"
      }
    }
  },
  "nbformat": 4,
  "nbformat_minor": 0
}
