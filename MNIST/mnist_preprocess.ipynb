{
  "cells": [
    {
      "cell_type": "code",
      "execution_count": 1,
      "metadata": {
        "id": "zQOL1IniDSk7"
      },
      "outputs": [
        {
          "name": "stderr",
          "output_type": "stream",
          "text": [
            "c:\\Users\\Giordano\\Anaconda3\\envs\\MACHINELEARNING\\lib\\site-packages\\tqdm\\auto.py:22: TqdmWarning: IProgress not found. Please update jupyter and ipywidgets. See https://ipywidgets.readthedocs.io/en/stable/user_install.html\n",
            "  from .autonotebook import tqdm as notebook_tqdm\n"
          ]
        }
      ],
      "source": [
        "import torch\n",
        "import os"
      ]
    },
    {
      "cell_type": "code",
      "execution_count": null,
      "metadata": {
        "colab": {
          "base_uri": "https://localhost:8080/"
        },
        "id": "0cJjuFxNKrYx",
        "outputId": "a473b5b5-8e5b-4657-fa3c-0d0fb6acc26f"
      },
      "outputs": [],
      "source": [
        "#only in google colab\n",
        "!git clone https://github.com/Giordano-Cicchetti/MaskTune_NN/"
      ]
    },
    {
      "cell_type": "code",
      "execution_count": 2,
      "metadata": {
        "id": "S5iimDN9QED2"
      },
      "outputs": [
        {
          "name": "stderr",
          "output_type": "stream",
          "text": [
            "\"cp\" non � riconosciuto come comando interno o esterno,\n",
            " un programma eseguibile o un file batch.\n",
            "\"rm\" non � riconosciuto come comando interno o esterno,\n",
            " un programma eseguibile o un file batch.\n"
          ]
        }
      ],
      "source": [
        "#only on google colab\n",
        "!cp MaskTune_NN/MNIST/* /content -r\n",
        "!rm MaskTune_NN/ -r"
      ]
    },
    {
      "cell_type": "code",
      "execution_count": 3,
      "metadata": {
        "colab": {
          "base_uri": "https://localhost:8080/"
        },
        "id": "Va6zuljTDhFv",
        "outputId": "2a9db3d2-7411-4c48-b17d-96784392164f"
      },
      "outputs": [
        {
          "data": {
            "text/plain": [
              "device(type='cuda')"
            ]
          },
          "execution_count": 3,
          "metadata": {},
          "output_type": "execute_result"
        }
      ],
      "source": [
        "# Device configuration\n",
        "device = torch.device('cuda' if torch.cuda.is_available() else 'cpu')\n",
        "device"
      ]
    },
    {
      "cell_type": "code",
      "execution_count": 4,
      "metadata": {
        "id": "JGvz8Oa_L_UL"
      },
      "outputs": [
        {
          "name": "stdout",
          "output_type": "stream",
          "text": [
            "data\\MNISTRGB_BIASED\\train\n",
            "data\\MNISTRGB_BIASED\\test\\original\n",
            "\n",
            "\n",
            "start creating and saving test dataset of BiasedMnist\n",
            "\n",
            "\n",
            "data\\MNISTRGB_BIASED\\test\\biased\n",
            "\n",
            "\n",
            "start creating and saving test dataset of BiasedMnist\n",
            "\n",
            "\n"
          ]
        }
      ],
      "source": [
        "from train import *\n",
        "train= TrainBaseERM(device)\n"
      ]
    },
    {
      "cell_type": "code",
      "execution_count": 5,
      "metadata": {},
      "outputs": [
        {
          "name": "stderr",
          "output_type": "stream",
          "text": [
            "train epoch 0: 100%|██████████| 375/375 [00:15<00:00, 24.12it/s, loss=0.708, accuracy=0.5]  \n",
            "validation epoch 0: 100%|██████████| 94/94 [00:04<00:00, 20.64it/s, loss=0.704, accuracy=0.501]\n"
          ]
        },
        {
          "name": "stdout",
          "output_type": "stream",
          "text": [
            "lr: 0.01\n"
          ]
        },
        {
          "name": "stderr",
          "output_type": "stream",
          "text": [
            "train epoch 1: 100%|██████████| 375/375 [00:11<00:00, 33.31it/s, loss=0.704, accuracy=0.503]\n",
            "validation epoch 1: 100%|██████████| 94/94 [00:04<00:00, 20.17it/s, loss=0.698, accuracy=0.514]\n"
          ]
        },
        {
          "name": "stdout",
          "output_type": "stream",
          "text": [
            "lr: 0.01\n"
          ]
        },
        {
          "name": "stderr",
          "output_type": "stream",
          "text": [
            "train epoch 2: 100%|██████████| 375/375 [00:11<00:00, 33.72it/s, loss=0.704, accuracy=0.508]\n",
            "validation epoch 2: 100%|██████████| 94/94 [00:04<00:00, 20.47it/s, loss=0.699, accuracy=0.506]\n"
          ]
        },
        {
          "name": "stdout",
          "output_type": "stream",
          "text": [
            "lr: 0.01\n"
          ]
        },
        {
          "name": "stderr",
          "output_type": "stream",
          "text": [
            "train epoch 3: 100%|██████████| 375/375 [00:10<00:00, 34.62it/s, loss=0.704, accuracy=0.51] \n",
            "validation epoch 3: 100%|██████████| 94/94 [00:04<00:00, 20.73it/s, loss=0.711, accuracy=0.489]\n"
          ]
        },
        {
          "name": "stdout",
          "output_type": "stream",
          "text": [
            "lr: 0.01\n"
          ]
        },
        {
          "name": "stderr",
          "output_type": "stream",
          "text": [
            "train epoch 4: 100%|██████████| 375/375 [00:11<00:00, 33.97it/s, loss=0.702, accuracy=0.519]\n",
            "validation epoch 4: 100%|██████████| 94/94 [00:04<00:00, 20.74it/s, loss=0.706, accuracy=0.494]\n"
          ]
        },
        {
          "name": "stdout",
          "output_type": "stream",
          "text": [
            "lr: 0.01\n"
          ]
        },
        {
          "name": "stderr",
          "output_type": "stream",
          "text": [
            "train epoch 5: 100%|██████████| 375/375 [00:10<00:00, 34.44it/s, loss=0.698, accuracy=0.527]\n",
            "validation epoch 5: 100%|██████████| 94/94 [00:04<00:00, 21.17it/s, loss=0.704, accuracy=0.504]\n"
          ]
        },
        {
          "name": "stdout",
          "output_type": "stream",
          "text": [
            "lr: 0.01\n"
          ]
        },
        {
          "name": "stderr",
          "output_type": "stream",
          "text": [
            "train epoch 6: 100%|██████████| 375/375 [00:10<00:00, 34.76it/s, loss=0.693, accuracy=0.541]\n",
            "validation epoch 6: 100%|██████████| 94/94 [00:04<00:00, 20.82it/s, loss=0.707, accuracy=0.501]\n"
          ]
        },
        {
          "name": "stdout",
          "output_type": "stream",
          "text": [
            "lr: 0.01\n"
          ]
        },
        {
          "name": "stderr",
          "output_type": "stream",
          "text": [
            "train epoch 7: 100%|██████████| 375/375 [00:11<00:00, 32.68it/s, loss=0.69, accuracy=0.547] \n",
            "validation epoch 7: 100%|██████████| 94/94 [00:04<00:00, 19.84it/s, loss=0.711, accuracy=0.506]\n"
          ]
        },
        {
          "name": "stdout",
          "output_type": "stream",
          "text": [
            "lr: 0.01\n"
          ]
        },
        {
          "name": "stderr",
          "output_type": "stream",
          "text": [
            "train epoch 8: 100%|██████████| 375/375 [00:12<00:00, 31.03it/s, loss=0.684, accuracy=0.563]\n",
            "validation epoch 8: 100%|██████████| 94/94 [00:04<00:00, 20.20it/s, loss=0.72, accuracy=0.497] \n"
          ]
        },
        {
          "name": "stdout",
          "output_type": "stream",
          "text": [
            "lr: 0.01\n"
          ]
        },
        {
          "name": "stderr",
          "output_type": "stream",
          "text": [
            "train epoch 9: 100%|██████████| 375/375 [00:11<00:00, 32.42it/s, loss=0.679, accuracy=0.573]\n",
            "validation epoch 9: 100%|██████████| 94/94 [00:04<00:00, 20.75it/s, loss=0.722, accuracy=0.497]"
          ]
        },
        {
          "name": "stdout",
          "output_type": "stream",
          "text": [
            "lr: 0.01\n"
          ]
        },
        {
          "name": "stderr",
          "output_type": "stream",
          "text": [
            "\n"
          ]
        }
      ],
      "source": [
        "train.train_erm(epochs=10)"
      ]
    },
    {
      "cell_type": "code",
      "execution_count": 5,
      "metadata": {},
      "outputs": [
        {
          "name": "stderr",
          "output_type": "stream",
          "text": [
            "train epoch 9: 100%|██████████| 375/375 [00:23<00:00, 15.76it/s, loss=0.679, accuracy=0.572]\n",
            "validation epoch 9: 100%|██████████| 94/94 [00:10<00:00,  8.84it/s, loss=0.725, accuracy=0.503]\n"
          ]
        },
        {
          "name": "stdout",
          "output_type": "stream",
          "text": [
            "lr: 0.01\n"
          ]
        },
        {
          "name": "stderr",
          "output_type": "stream",
          "text": [
            "train epoch 10: 100%|██████████| 375/375 [00:24<00:00, 15.25it/s, loss=0.672, accuracy=0.582]\n",
            "validation epoch 10: 100%|██████████| 94/94 [00:10<00:00,  8.66it/s, loss=0.729, accuracy=0.504]\n"
          ]
        },
        {
          "name": "stdout",
          "output_type": "stream",
          "text": [
            "lr: 0.01\n"
          ]
        },
        {
          "name": "stderr",
          "output_type": "stream",
          "text": [
            "train epoch 11: 100%|██████████| 375/375 [00:39<00:00,  9.44it/s, loss=0.666, accuracy=0.595]\n",
            "validation epoch 11: 100%|██████████| 94/94 [00:10<00:00,  8.75it/s, loss=0.741, accuracy=0.495]\n"
          ]
        },
        {
          "name": "stdout",
          "output_type": "stream",
          "text": [
            "lr: 0.01\n"
          ]
        },
        {
          "name": "stderr",
          "output_type": "stream",
          "text": [
            "train epoch 12: 100%|██████████| 375/375 [00:38<00:00,  9.80it/s, loss=0.656, accuracy=0.607]\n",
            "validation epoch 12: 100%|██████████| 94/94 [00:09<00:00,  9.54it/s, loss=0.737, accuracy=0.51] \n"
          ]
        },
        {
          "name": "stdout",
          "output_type": "stream",
          "text": [
            "lr: 0.01\n"
          ]
        },
        {
          "name": "stderr",
          "output_type": "stream",
          "text": [
            "train epoch 13: 100%|██████████| 375/375 [00:28<00:00, 13.08it/s, loss=0.647, accuracy=0.621]\n",
            "validation epoch 13: 100%|██████████| 94/94 [00:10<00:00,  9.31it/s, loss=0.757, accuracy=0.501]\n"
          ]
        },
        {
          "name": "stdout",
          "output_type": "stream",
          "text": [
            "lr: 0.01\n"
          ]
        },
        {
          "name": "stderr",
          "output_type": "stream",
          "text": [
            "train epoch 14: 100%|██████████| 375/375 [00:23<00:00, 15.63it/s, loss=0.637, accuracy=0.634]\n",
            "validation epoch 14: 100%|██████████| 94/94 [00:09<00:00,  9.46it/s, loss=0.76, accuracy=0.508] \n"
          ]
        },
        {
          "name": "stdout",
          "output_type": "stream",
          "text": [
            "lr: 0.01\n"
          ]
        },
        {
          "name": "stderr",
          "output_type": "stream",
          "text": [
            "train epoch 15: 100%|██████████| 375/375 [00:25<00:00, 14.76it/s, loss=0.622, accuracy=0.65] \n",
            "validation epoch 15: 100%|██████████| 94/94 [00:09<00:00,  9.72it/s, loss=0.777, accuracy=0.507]\n"
          ]
        },
        {
          "name": "stdout",
          "output_type": "stream",
          "text": [
            "lr: 0.01\n"
          ]
        },
        {
          "name": "stderr",
          "output_type": "stream",
          "text": [
            "train epoch 16: 100%|██████████| 375/375 [00:27<00:00, 13.59it/s, loss=0.607, accuracy=0.666]\n",
            "validation epoch 16: 100%|██████████| 94/94 [00:10<00:00,  8.57it/s, loss=0.801, accuracy=0.505]\n"
          ]
        },
        {
          "name": "stdout",
          "output_type": "stream",
          "text": [
            "lr: 0.01\n"
          ]
        },
        {
          "name": "stderr",
          "output_type": "stream",
          "text": [
            "train epoch 17: 100%|██████████| 375/375 [00:27<00:00, 13.62it/s, loss=0.592, accuracy=0.678]\n",
            "validation epoch 17: 100%|██████████| 94/94 [00:09<00:00,  9.82it/s, loss=0.822, accuracy=0.507]\n"
          ]
        },
        {
          "name": "stdout",
          "output_type": "stream",
          "text": [
            "lr: 0.01\n"
          ]
        },
        {
          "name": "stderr",
          "output_type": "stream",
          "text": [
            "train epoch 18: 100%|██████████| 375/375 [00:21<00:00, 17.40it/s, loss=0.572, accuracy=0.697]\n",
            "validation epoch 18: 100%|██████████| 94/94 [00:09<00:00,  9.44it/s, loss=0.83, accuracy=0.51]  \n"
          ]
        },
        {
          "name": "stdout",
          "output_type": "stream",
          "text": [
            "lr: 0.01\n"
          ]
        },
        {
          "name": "stderr",
          "output_type": "stream",
          "text": [
            "train epoch 19: 100%|██████████| 375/375 [00:27<00:00, 13.79it/s, loss=0.559, accuracy=0.709]\n",
            "validation epoch 19: 100%|██████████| 94/94 [00:09<00:00,  9.41it/s, loss=0.841, accuracy=0.51] \n"
          ]
        },
        {
          "name": "stdout",
          "output_type": "stream",
          "text": [
            "lr: 0.01\n"
          ]
        },
        {
          "name": "stderr",
          "output_type": "stream",
          "text": [
            "train epoch 20: 100%|██████████| 375/375 [00:23<00:00, 15.69it/s, loss=0.534, accuracy=0.725]\n",
            "validation epoch 20: 100%|██████████| 94/94 [00:10<00:00,  9.33it/s, loss=0.929, accuracy=0.504]\n"
          ]
        },
        {
          "name": "stdout",
          "output_type": "stream",
          "text": [
            "lr: 0.01\n"
          ]
        },
        {
          "name": "stderr",
          "output_type": "stream",
          "text": [
            "train epoch 21: 100%|██████████| 375/375 [00:22<00:00, 16.82it/s, loss=0.514, accuracy=0.743]\n",
            "validation epoch 21: 100%|██████████| 94/94 [00:10<00:00,  9.00it/s, loss=0.93, accuracy=0.506] \n"
          ]
        },
        {
          "name": "stdout",
          "output_type": "stream",
          "text": [
            "lr: 0.01\n"
          ]
        },
        {
          "name": "stderr",
          "output_type": "stream",
          "text": [
            "train epoch 22: 100%|██████████| 375/375 [00:32<00:00, 11.58it/s, loss=0.493, accuracy=0.756]\n",
            "validation epoch 22: 100%|██████████| 94/94 [00:09<00:00,  9.56it/s, loss=0.986, accuracy=0.502]\n"
          ]
        },
        {
          "name": "stdout",
          "output_type": "stream",
          "text": [
            "lr: 0.01\n"
          ]
        },
        {
          "name": "stderr",
          "output_type": "stream",
          "text": [
            "train epoch 23: 100%|██████████| 375/375 [00:22<00:00, 16.44it/s, loss=0.469, accuracy=0.773]\n",
            "validation epoch 23: 100%|██████████| 94/94 [00:10<00:00,  9.07it/s, loss=0.995, accuracy=0.507]\n"
          ]
        },
        {
          "name": "stdout",
          "output_type": "stream",
          "text": [
            "lr: 0.005\n"
          ]
        },
        {
          "name": "stderr",
          "output_type": "stream",
          "text": [
            "train epoch 24: 100%|██████████| 375/375 [00:23<00:00, 15.77it/s, loss=0.362, accuracy=0.848]\n",
            "validation epoch 24: 100%|██████████| 94/94 [00:09<00:00, 10.14it/s, loss=1.06, accuracy=0.505]\n"
          ]
        },
        {
          "name": "stdout",
          "output_type": "stream",
          "text": [
            "lr: 0.005\n"
          ]
        },
        {
          "name": "stderr",
          "output_type": "stream",
          "text": [
            "train epoch 25: 100%|██████████| 375/375 [00:26<00:00, 13.97it/s, loss=0.321, accuracy=0.864]\n",
            "validation epoch 25: 100%|██████████| 94/94 [00:10<00:00,  8.69it/s, loss=1.11, accuracy=0.503]\n"
          ]
        },
        {
          "name": "stdout",
          "output_type": "stream",
          "text": [
            "lr: 0.005\n"
          ]
        },
        {
          "name": "stderr",
          "output_type": "stream",
          "text": [
            "train epoch 26: 100%|██████████| 375/375 [00:25<00:00, 14.60it/s, loss=0.295, accuracy=0.879]\n",
            "validation epoch 26: 100%|██████████| 94/94 [00:10<00:00,  8.98it/s, loss=1.17, accuracy=0.508]\n"
          ]
        },
        {
          "name": "stdout",
          "output_type": "stream",
          "text": [
            "lr: 0.005\n"
          ]
        },
        {
          "name": "stderr",
          "output_type": "stream",
          "text": [
            "train epoch 27: 100%|██████████| 375/375 [00:24<00:00, 15.34it/s, loss=0.27, accuracy=0.891] \n",
            "validation epoch 27: 100%|██████████| 94/94 [00:10<00:00,  9.17it/s, loss=1.25, accuracy=0.502]\n"
          ]
        },
        {
          "name": "stdout",
          "output_type": "stream",
          "text": [
            "lr: 0.005\n"
          ]
        },
        {
          "name": "stderr",
          "output_type": "stream",
          "text": [
            "train epoch 28: 100%|██████████| 375/375 [00:23<00:00, 16.04it/s, loss=0.256, accuracy=0.896]\n",
            "validation epoch 28: 100%|██████████| 94/94 [00:10<00:00,  9.04it/s, loss=1.51, accuracy=0.511]\n"
          ]
        },
        {
          "name": "stdout",
          "output_type": "stream",
          "text": [
            "lr: 0.005\n"
          ]
        },
        {
          "name": "stderr",
          "output_type": "stream",
          "text": [
            "train epoch 29: 100%|██████████| 375/375 [00:23<00:00, 16.23it/s, loss=0.231, accuracy=0.911]\n",
            "validation epoch 29: 100%|██████████| 94/94 [00:11<00:00,  8.33it/s, loss=1.36, accuracy=0.505]\n"
          ]
        },
        {
          "name": "stdout",
          "output_type": "stream",
          "text": [
            "lr: 0.005\n"
          ]
        },
        {
          "name": "stderr",
          "output_type": "stream",
          "text": [
            "train epoch 30: 100%|██████████| 375/375 [00:23<00:00, 15.72it/s, loss=0.218, accuracy=0.915]\n",
            "validation epoch 30: 100%|██████████| 94/94 [00:10<00:00,  9.27it/s, loss=1.43, accuracy=0.504]\n"
          ]
        },
        {
          "name": "stdout",
          "output_type": "stream",
          "text": [
            "lr: 0.005\n"
          ]
        },
        {
          "name": "stderr",
          "output_type": "stream",
          "text": [
            "train epoch 31: 100%|██████████| 375/375 [00:24<00:00, 15.32it/s, loss=0.202, accuracy=0.923]\n",
            "validation epoch 31: 100%|██████████| 94/94 [00:11<00:00,  8.40it/s, loss=1.49, accuracy=0.504]\n"
          ]
        },
        {
          "name": "stdout",
          "output_type": "stream",
          "text": [
            "lr: 0.005\n"
          ]
        },
        {
          "name": "stderr",
          "output_type": "stream",
          "text": [
            "train epoch 32: 100%|██████████| 375/375 [00:27<00:00, 13.84it/s, loss=0.194, accuracy=0.926]\n",
            "validation epoch 32: 100%|██████████| 94/94 [00:09<00:00, 10.03it/s, loss=1.47, accuracy=0.503]\n"
          ]
        },
        {
          "name": "stdout",
          "output_type": "stream",
          "text": [
            "lr: 0.005\n"
          ]
        },
        {
          "name": "stderr",
          "output_type": "stream",
          "text": [
            "train epoch 33: 100%|██████████| 375/375 [00:23<00:00, 15.85it/s, loss=0.176, accuracy=0.934]\n",
            "validation epoch 33: 100%|██████████| 94/94 [00:09<00:00,  9.72it/s, loss=1.52, accuracy=0.5]  \n"
          ]
        },
        {
          "name": "stdout",
          "output_type": "stream",
          "text": [
            "lr: 0.005\n"
          ]
        },
        {
          "name": "stderr",
          "output_type": "stream",
          "text": [
            "train epoch 34: 100%|██████████| 375/375 [00:27<00:00, 13.69it/s, loss=0.164, accuracy=0.941]\n",
            "validation epoch 34: 100%|██████████| 94/94 [00:10<00:00,  9.32it/s, loss=1.64, accuracy=0.508]\n"
          ]
        },
        {
          "name": "stdout",
          "output_type": "stream",
          "text": [
            "lr: 0.005\n"
          ]
        },
        {
          "name": "stderr",
          "output_type": "stream",
          "text": [
            "train epoch 35: 100%|██████████| 375/375 [00:23<00:00, 15.73it/s, loss=0.15, accuracy=0.947] \n",
            "validation epoch 35: 100%|██████████| 94/94 [00:10<00:00,  8.74it/s, loss=1.85, accuracy=0.509]\n"
          ]
        },
        {
          "name": "stdout",
          "output_type": "stream",
          "text": [
            "lr: 0.005\n"
          ]
        },
        {
          "name": "stderr",
          "output_type": "stream",
          "text": [
            "train epoch 36: 100%|██████████| 375/375 [00:26<00:00, 14.13it/s, loss=0.144, accuracy=0.95] \n",
            "validation epoch 36: 100%|██████████| 94/94 [00:09<00:00, 10.10it/s, loss=1.71, accuracy=0.498]\n"
          ]
        },
        {
          "name": "stdout",
          "output_type": "stream",
          "text": [
            "lr: 0.005\n"
          ]
        },
        {
          "name": "stderr",
          "output_type": "stream",
          "text": [
            "train epoch 37: 100%|██████████| 375/375 [00:23<00:00, 15.81it/s, loss=0.13, accuracy=0.955] \n",
            "validation epoch 37: 100%|██████████| 94/94 [00:10<00:00,  9.32it/s, loss=1.68, accuracy=0.505]\n"
          ]
        },
        {
          "name": "stdout",
          "output_type": "stream",
          "text": [
            "lr: 0.005\n"
          ]
        },
        {
          "name": "stderr",
          "output_type": "stream",
          "text": [
            "train epoch 38: 100%|██████████| 375/375 [00:23<00:00, 16.03it/s, loss=0.117, accuracy=0.962]\n",
            "validation epoch 38: 100%|██████████| 94/94 [00:09<00:00, 10.44it/s, loss=1.77, accuracy=0.505]\n"
          ]
        },
        {
          "name": "stdout",
          "output_type": "stream",
          "text": [
            "lr: 0.005\n"
          ]
        },
        {
          "name": "stderr",
          "output_type": "stream",
          "text": [
            "train epoch 39: 100%|██████████| 375/375 [00:25<00:00, 14.88it/s, loss=0.114, accuracy=0.961]\n",
            "validation epoch 39: 100%|██████████| 94/94 [00:10<00:00,  9.40it/s, loss=1.8, accuracy=0.5]   \n"
          ]
        },
        {
          "name": "stdout",
          "output_type": "stream",
          "text": [
            "lr: 0.005\n"
          ]
        },
        {
          "name": "stderr",
          "output_type": "stream",
          "text": [
            "train epoch 40: 100%|██████████| 375/375 [00:24<00:00, 15.32it/s, loss=0.106, accuracy=0.965] \n",
            "validation epoch 40: 100%|██████████| 94/94 [00:09<00:00,  9.78it/s, loss=1.82, accuracy=0.501]\n"
          ]
        },
        {
          "name": "stdout",
          "output_type": "stream",
          "text": [
            "lr: 0.005\n"
          ]
        },
        {
          "name": "stderr",
          "output_type": "stream",
          "text": [
            "train epoch 41: 100%|██████████| 375/375 [00:20<00:00, 18.41it/s, loss=0.0999, accuracy=0.969]\n",
            "validation epoch 41: 100%|██████████| 94/94 [00:04<00:00, 20.13it/s, loss=1.9, accuracy=0.503] \n"
          ]
        },
        {
          "name": "stdout",
          "output_type": "stream",
          "text": [
            "lr: 0.005\n"
          ]
        },
        {
          "name": "stderr",
          "output_type": "stream",
          "text": [
            "train epoch 42: 100%|██████████| 375/375 [00:10<00:00, 34.12it/s, loss=0.0934, accuracy=0.97] \n",
            "validation epoch 42: 100%|██████████| 94/94 [00:04<00:00, 21.02it/s, loss=1.88, accuracy=0.504]\n"
          ]
        },
        {
          "name": "stdout",
          "output_type": "stream",
          "text": [
            "lr: 0.005\n"
          ]
        },
        {
          "name": "stderr",
          "output_type": "stream",
          "text": [
            "train epoch 43: 100%|██████████| 375/375 [00:11<00:00, 34.08it/s, loss=0.082, accuracy=0.975] \n",
            "validation epoch 43: 100%|██████████| 94/94 [00:04<00:00, 20.65it/s, loss=1.96, accuracy=0.502]\n"
          ]
        },
        {
          "name": "stdout",
          "output_type": "stream",
          "text": [
            "lr: 0.005\n"
          ]
        },
        {
          "name": "stderr",
          "output_type": "stream",
          "text": [
            "train epoch 44: 100%|██████████| 375/375 [00:11<00:00, 33.98it/s, loss=0.0806, accuracy=0.976]\n",
            "validation epoch 44: 100%|██████████| 94/94 [00:04<00:00, 19.19it/s, loss=2.19, accuracy=0.495]\n"
          ]
        },
        {
          "name": "stdout",
          "output_type": "stream",
          "text": [
            "lr: 0.005\n"
          ]
        },
        {
          "name": "stderr",
          "output_type": "stream",
          "text": [
            "train epoch 45: 100%|██████████| 375/375 [00:11<00:00, 33.16it/s, loss=0.0758, accuracy=0.977]\n",
            "validation epoch 45: 100%|██████████| 94/94 [00:05<00:00, 18.35it/s, loss=1.99, accuracy=0.498]\n"
          ]
        },
        {
          "name": "stdout",
          "output_type": "stream",
          "text": [
            "lr: 0.005\n"
          ]
        },
        {
          "name": "stderr",
          "output_type": "stream",
          "text": [
            "train epoch 46: 100%|██████████| 375/375 [00:11<00:00, 32.31it/s, loss=0.062, accuracy=0.984] \n",
            "validation epoch 46: 100%|██████████| 94/94 [00:04<00:00, 19.90it/s, loss=2.03, accuracy=0.501]\n"
          ]
        },
        {
          "name": "stdout",
          "output_type": "stream",
          "text": [
            "lr: 0.005\n"
          ]
        },
        {
          "name": "stderr",
          "output_type": "stream",
          "text": [
            "train epoch 47: 100%|██████████| 375/375 [00:11<00:00, 32.93it/s, loss=0.0604, accuracy=0.983]\n",
            "validation epoch 47: 100%|██████████| 94/94 [00:04<00:00, 19.53it/s, loss=2.07, accuracy=0.506]\n"
          ]
        },
        {
          "name": "stdout",
          "output_type": "stream",
          "text": [
            "lr: 0.005\n"
          ]
        },
        {
          "name": "stderr",
          "output_type": "stream",
          "text": [
            "train epoch 48: 100%|██████████| 375/375 [00:11<00:00, 32.82it/s, loss=0.0527, accuracy=0.987]\n",
            "validation epoch 48: 100%|██████████| 94/94 [00:04<00:00, 20.41it/s, loss=2.06, accuracy=0.502]\n"
          ]
        },
        {
          "name": "stdout",
          "output_type": "stream",
          "text": [
            "lr: 0.0025\n"
          ]
        },
        {
          "name": "stderr",
          "output_type": "stream",
          "text": [
            "train epoch 49: 100%|██████████| 375/375 [00:10<00:00, 34.12it/s, loss=0.0325, accuracy=0.996]\n",
            "validation epoch 49: 100%|██████████| 94/94 [00:04<00:00, 19.21it/s, loss=2.07, accuracy=0.502]\n"
          ]
        },
        {
          "name": "stdout",
          "output_type": "stream",
          "text": [
            "lr: 0.0025\n"
          ]
        },
        {
          "name": "stderr",
          "output_type": "stream",
          "text": [
            "train epoch 50: 100%|██████████| 375/375 [00:11<00:00, 32.66it/s, loss=0.0242, accuracy=0.998]\n",
            "validation epoch 50: 100%|██████████| 94/94 [00:04<00:00, 19.39it/s, loss=2.08, accuracy=0.504]\n"
          ]
        },
        {
          "name": "stdout",
          "output_type": "stream",
          "text": [
            "lr: 0.0025\n"
          ]
        },
        {
          "name": "stderr",
          "output_type": "stream",
          "text": [
            "train epoch 51: 100%|██████████| 375/375 [00:11<00:00, 32.42it/s, loss=0.0214, accuracy=0.999]\n",
            "validation epoch 51: 100%|██████████| 94/94 [00:04<00:00, 20.43it/s, loss=2.1, accuracy=0.505] \n"
          ]
        },
        {
          "name": "stdout",
          "output_type": "stream",
          "text": [
            "lr: 0.0025\n"
          ]
        },
        {
          "name": "stderr",
          "output_type": "stream",
          "text": [
            "train epoch 52: 100%|██████████| 375/375 [00:10<00:00, 34.26it/s, loss=0.0203, accuracy=0.999]\n",
            "validation epoch 52: 100%|██████████| 94/94 [00:04<00:00, 20.96it/s, loss=2.11, accuracy=0.502]\n"
          ]
        },
        {
          "name": "stdout",
          "output_type": "stream",
          "text": [
            "lr: 0.0025\n"
          ]
        },
        {
          "name": "stderr",
          "output_type": "stream",
          "text": [
            "train epoch 53: 100%|██████████| 375/375 [00:11<00:00, 33.79it/s, loss=0.0188, accuracy=0.999]\n",
            "validation epoch 53: 100%|██████████| 94/94 [00:05<00:00, 18.30it/s, loss=2.11, accuracy=0.506]\n"
          ]
        },
        {
          "name": "stdout",
          "output_type": "stream",
          "text": [
            "lr: 0.0025\n"
          ]
        },
        {
          "name": "stderr",
          "output_type": "stream",
          "text": [
            "train epoch 54: 100%|██████████| 375/375 [00:11<00:00, 32.68it/s, loss=0.018, accuracy=0.999] \n",
            "validation epoch 54: 100%|██████████| 94/94 [00:04<00:00, 20.32it/s, loss=2.13, accuracy=0.504]\n"
          ]
        },
        {
          "name": "stdout",
          "output_type": "stream",
          "text": [
            "lr: 0.0025\n"
          ]
        },
        {
          "name": "stderr",
          "output_type": "stream",
          "text": [
            "train epoch 55: 100%|██████████| 375/375 [00:11<00:00, 32.75it/s, loss=0.0163, accuracy=0.999]\n",
            "validation epoch 55: 100%|██████████| 94/94 [00:04<00:00, 20.32it/s, loss=2.16, accuracy=0.501]\n"
          ]
        },
        {
          "name": "stdout",
          "output_type": "stream",
          "text": [
            "lr: 0.0025\n"
          ]
        },
        {
          "name": "stderr",
          "output_type": "stream",
          "text": [
            "train epoch 56: 100%|██████████| 375/375 [00:11<00:00, 32.54it/s, loss=0.0158, accuracy=0.999]\n",
            "validation epoch 56: 100%|██████████| 94/94 [00:04<00:00, 20.24it/s, loss=2.17, accuracy=0.501]\n"
          ]
        },
        {
          "name": "stdout",
          "output_type": "stream",
          "text": [
            "lr: 0.0025\n"
          ]
        },
        {
          "name": "stderr",
          "output_type": "stream",
          "text": [
            "train epoch 57: 100%|██████████| 375/375 [00:10<00:00, 34.36it/s, loss=0.0155, accuracy=1]    \n",
            "validation epoch 57: 100%|██████████| 94/94 [00:04<00:00, 20.16it/s, loss=2.19, accuracy=0.502]\n"
          ]
        },
        {
          "name": "stdout",
          "output_type": "stream",
          "text": [
            "lr: 0.0025\n"
          ]
        },
        {
          "name": "stderr",
          "output_type": "stream",
          "text": [
            "train epoch 58: 100%|██████████| 375/375 [00:11<00:00, 33.80it/s, loss=0.0147, accuracy=1]   \n",
            "validation epoch 58: 100%|██████████| 94/94 [00:04<00:00, 20.83it/s, loss=2.18, accuracy=0.503]\n"
          ]
        },
        {
          "name": "stdout",
          "output_type": "stream",
          "text": [
            "lr: 0.0025\n"
          ]
        },
        {
          "name": "stderr",
          "output_type": "stream",
          "text": [
            "train epoch 59: 100%|██████████| 375/375 [00:11<00:00, 31.75it/s, loss=0.0142, accuracy=1]    \n",
            "validation epoch 59: 100%|██████████| 94/94 [00:04<00:00, 20.25it/s, loss=2.2, accuracy=0.503] \n"
          ]
        },
        {
          "name": "stdout",
          "output_type": "stream",
          "text": [
            "lr: 0.0025\n"
          ]
        },
        {
          "name": "stderr",
          "output_type": "stream",
          "text": [
            "train epoch 60: 100%|██████████| 375/375 [00:11<00:00, 33.24it/s, loss=0.0132, accuracy=1]   \n",
            "validation epoch 60: 100%|██████████| 94/94 [00:04<00:00, 19.96it/s, loss=2.21, accuracy=0.501]\n"
          ]
        },
        {
          "name": "stdout",
          "output_type": "stream",
          "text": [
            "lr: 0.0025\n"
          ]
        },
        {
          "name": "stderr",
          "output_type": "stream",
          "text": [
            "train epoch 61: 100%|██████████| 375/375 [00:11<00:00, 31.88it/s, loss=0.0134, accuracy=1]   \n",
            "validation epoch 61: 100%|██████████| 94/94 [00:04<00:00, 19.68it/s, loss=2.27, accuracy=0.502]\n"
          ]
        },
        {
          "name": "stdout",
          "output_type": "stream",
          "text": [
            "lr: 0.0025\n"
          ]
        },
        {
          "name": "stderr",
          "output_type": "stream",
          "text": [
            "train epoch 62: 100%|██████████| 375/375 [00:11<00:00, 31.71it/s, loss=0.013, accuracy=1]    \n",
            "validation epoch 62: 100%|██████████| 94/94 [00:04<00:00, 20.44it/s, loss=2.23, accuracy=0.499]\n"
          ]
        },
        {
          "name": "stdout",
          "output_type": "stream",
          "text": [
            "lr: 0.0025\n"
          ]
        },
        {
          "name": "stderr",
          "output_type": "stream",
          "text": [
            "train epoch 63: 100%|██████████| 375/375 [00:11<00:00, 32.56it/s, loss=0.0123, accuracy=1]\n",
            "validation epoch 63: 100%|██████████| 94/94 [00:04<00:00, 20.03it/s, loss=2.25, accuracy=0.503]\n"
          ]
        },
        {
          "name": "stdout",
          "output_type": "stream",
          "text": [
            "lr: 0.0025\n"
          ]
        },
        {
          "name": "stderr",
          "output_type": "stream",
          "text": [
            "train epoch 64: 100%|██████████| 375/375 [00:11<00:00, 33.76it/s, loss=0.012, accuracy=1] \n",
            "validation epoch 64: 100%|██████████| 94/94 [00:04<00:00, 20.90it/s, loss=2.25, accuracy=0.501]\n"
          ]
        },
        {
          "name": "stdout",
          "output_type": "stream",
          "text": [
            "lr: 0.0025\n"
          ]
        },
        {
          "name": "stderr",
          "output_type": "stream",
          "text": [
            "train epoch 65: 100%|██████████| 375/375 [00:11<00:00, 33.71it/s, loss=0.0118, accuracy=1]\n",
            "validation epoch 65: 100%|██████████| 94/94 [00:04<00:00, 20.81it/s, loss=2.27, accuracy=0.499]\n"
          ]
        },
        {
          "name": "stdout",
          "output_type": "stream",
          "text": [
            "lr: 0.0025\n"
          ]
        },
        {
          "name": "stderr",
          "output_type": "stream",
          "text": [
            "train epoch 66: 100%|██████████| 375/375 [00:11<00:00, 33.59it/s, loss=0.0117, accuracy=1]\n",
            "validation epoch 66: 100%|██████████| 94/94 [00:04<00:00, 20.74it/s, loss=2.27, accuracy=0.502]\n"
          ]
        },
        {
          "name": "stdout",
          "output_type": "stream",
          "text": [
            "lr: 0.0025\n"
          ]
        },
        {
          "name": "stderr",
          "output_type": "stream",
          "text": [
            "train epoch 67: 100%|██████████| 375/375 [00:10<00:00, 34.31it/s, loss=0.0114, accuracy=1]\n",
            "validation epoch 67: 100%|██████████| 94/94 [00:04<00:00, 19.98it/s, loss=2.26, accuracy=0.501]\n"
          ]
        },
        {
          "name": "stdout",
          "output_type": "stream",
          "text": [
            "lr: 0.0025\n"
          ]
        },
        {
          "name": "stderr",
          "output_type": "stream",
          "text": [
            "train epoch 68: 100%|██████████| 375/375 [00:10<00:00, 34.40it/s, loss=0.011, accuracy=1] \n",
            "validation epoch 68: 100%|██████████| 94/94 [00:04<00:00, 20.89it/s, loss=2.27, accuracy=0.502]\n"
          ]
        },
        {
          "name": "stdout",
          "output_type": "stream",
          "text": [
            "lr: 0.0025\n"
          ]
        },
        {
          "name": "stderr",
          "output_type": "stream",
          "text": [
            "train epoch 69: 100%|██████████| 375/375 [00:11<00:00, 32.61it/s, loss=0.0106, accuracy=1]\n",
            "validation epoch 69: 100%|██████████| 94/94 [00:04<00:00, 19.58it/s, loss=2.29, accuracy=0.504]\n"
          ]
        },
        {
          "name": "stdout",
          "output_type": "stream",
          "text": [
            "lr: 0.0025\n"
          ]
        },
        {
          "name": "stderr",
          "output_type": "stream",
          "text": [
            "train epoch 70: 100%|██████████| 375/375 [00:11<00:00, 32.44it/s, loss=0.0102, accuracy=1] \n",
            "validation epoch 70: 100%|██████████| 94/94 [00:04<00:00, 20.15it/s, loss=2.3, accuracy=0.503] \n"
          ]
        },
        {
          "name": "stdout",
          "output_type": "stream",
          "text": [
            "lr: 0.0025\n"
          ]
        },
        {
          "name": "stderr",
          "output_type": "stream",
          "text": [
            "train epoch 71: 100%|██████████| 375/375 [00:11<00:00, 32.59it/s, loss=0.0102, accuracy=1] \n",
            "validation epoch 71: 100%|██████████| 94/94 [00:04<00:00, 20.09it/s, loss=2.31, accuracy=0.5]  \n"
          ]
        },
        {
          "name": "stdout",
          "output_type": "stream",
          "text": [
            "lr: 0.0025\n"
          ]
        },
        {
          "name": "stderr",
          "output_type": "stream",
          "text": [
            "train epoch 72: 100%|██████████| 375/375 [00:11<00:00, 33.65it/s, loss=0.00975, accuracy=1]  \n",
            "validation epoch 72: 100%|██████████| 94/94 [00:04<00:00, 20.66it/s, loss=2.31, accuracy=0.502]\n"
          ]
        },
        {
          "name": "stdout",
          "output_type": "stream",
          "text": [
            "lr: 0.0025\n"
          ]
        },
        {
          "name": "stderr",
          "output_type": "stream",
          "text": [
            "train epoch 73: 100%|██████████| 375/375 [00:11<00:00, 32.64it/s, loss=0.00936, accuracy=1]\n",
            "validation epoch 73: 100%|██████████| 94/94 [00:04<00:00, 19.50it/s, loss=2.31, accuracy=0.502]\n"
          ]
        },
        {
          "name": "stdout",
          "output_type": "stream",
          "text": [
            "lr: 0.00125\n"
          ]
        },
        {
          "name": "stderr",
          "output_type": "stream",
          "text": [
            "train epoch 74: 100%|██████████| 375/375 [00:11<00:00, 33.08it/s, loss=0.00844, accuracy=1]\n",
            "validation epoch 74: 100%|██████████| 94/94 [00:04<00:00, 20.45it/s, loss=2.32, accuracy=0.503]\n"
          ]
        },
        {
          "name": "stdout",
          "output_type": "stream",
          "text": [
            "lr: 0.00125\n"
          ]
        },
        {
          "name": "stderr",
          "output_type": "stream",
          "text": [
            "train epoch 75: 100%|██████████| 375/375 [00:11<00:00, 34.07it/s, loss=0.00853, accuracy=1]\n",
            "validation epoch 75: 100%|██████████| 94/94 [00:04<00:00, 19.86it/s, loss=2.34, accuracy=0.501]\n"
          ]
        },
        {
          "name": "stdout",
          "output_type": "stream",
          "text": [
            "lr: 0.00125\n"
          ]
        },
        {
          "name": "stderr",
          "output_type": "stream",
          "text": [
            "train epoch 76: 100%|██████████| 375/375 [00:10<00:00, 34.09it/s, loss=0.00829, accuracy=1]\n",
            "validation epoch 76: 100%|██████████| 94/94 [00:04<00:00, 21.05it/s, loss=2.33, accuracy=0.5]  \n"
          ]
        },
        {
          "name": "stdout",
          "output_type": "stream",
          "text": [
            "lr: 0.00125\n"
          ]
        },
        {
          "name": "stderr",
          "output_type": "stream",
          "text": [
            "train epoch 77: 100%|██████████| 375/375 [00:10<00:00, 34.55it/s, loss=0.00815, accuracy=1]\n",
            "validation epoch 77: 100%|██████████| 94/94 [00:05<00:00, 17.92it/s, loss=2.34, accuracy=0.501]\n"
          ]
        },
        {
          "name": "stdout",
          "output_type": "stream",
          "text": [
            "lr: 0.00125\n"
          ]
        },
        {
          "name": "stderr",
          "output_type": "stream",
          "text": [
            "train epoch 78: 100%|██████████| 375/375 [00:11<00:00, 32.75it/s, loss=0.00836, accuracy=1]   \n",
            "validation epoch 78: 100%|██████████| 94/94 [00:04<00:00, 20.27it/s, loss=2.35, accuracy=0.502]\n"
          ]
        },
        {
          "name": "stdout",
          "output_type": "stream",
          "text": [
            "lr: 0.00125\n"
          ]
        },
        {
          "name": "stderr",
          "output_type": "stream",
          "text": [
            "train epoch 79: 100%|██████████| 375/375 [00:11<00:00, 32.31it/s, loss=0.00814, accuracy=1]\n",
            "validation epoch 79: 100%|██████████| 94/94 [00:04<00:00, 19.27it/s, loss=2.33, accuracy=0.503]\n"
          ]
        },
        {
          "name": "stdout",
          "output_type": "stream",
          "text": [
            "lr: 0.00125\n"
          ]
        },
        {
          "name": "stderr",
          "output_type": "stream",
          "text": [
            "train epoch 80: 100%|██████████| 375/375 [00:11<00:00, 32.62it/s, loss=0.00792, accuracy=1]\n",
            "validation epoch 80: 100%|██████████| 94/94 [00:04<00:00, 19.86it/s, loss=2.34, accuracy=0.505]\n"
          ]
        },
        {
          "name": "stdout",
          "output_type": "stream",
          "text": [
            "lr: 0.00125\n"
          ]
        },
        {
          "name": "stderr",
          "output_type": "stream",
          "text": [
            "train epoch 81: 100%|██████████| 375/375 [00:11<00:00, 33.98it/s, loss=0.00811, accuracy=1]   \n",
            "validation epoch 81: 100%|██████████| 94/94 [00:04<00:00, 20.89it/s, loss=2.34, accuracy=0.503]\n"
          ]
        },
        {
          "name": "stdout",
          "output_type": "stream",
          "text": [
            "lr: 0.00125\n"
          ]
        },
        {
          "name": "stderr",
          "output_type": "stream",
          "text": [
            "train epoch 82: 100%|██████████| 375/375 [00:11<00:00, 33.64it/s, loss=0.0079, accuracy=1] \n",
            "validation epoch 82: 100%|██████████| 94/94 [00:04<00:00, 20.70it/s, loss=2.34, accuracy=0.503]\n"
          ]
        },
        {
          "name": "stdout",
          "output_type": "stream",
          "text": [
            "lr: 0.00125\n"
          ]
        },
        {
          "name": "stderr",
          "output_type": "stream",
          "text": [
            "train epoch 83: 100%|██████████| 375/375 [00:10<00:00, 34.44it/s, loss=0.00796, accuracy=1]\n",
            "validation epoch 83: 100%|██████████| 94/94 [00:04<00:00, 20.14it/s, loss=2.36, accuracy=0.503]\n"
          ]
        },
        {
          "name": "stdout",
          "output_type": "stream",
          "text": [
            "lr: 0.00125\n"
          ]
        },
        {
          "name": "stderr",
          "output_type": "stream",
          "text": [
            "train epoch 84: 100%|██████████| 375/375 [00:13<00:00, 27.42it/s, loss=0.00774, accuracy=1]\n",
            "validation epoch 84: 100%|██████████| 94/94 [00:04<00:00, 20.22it/s, loss=2.35, accuracy=0.502]\n"
          ]
        },
        {
          "name": "stdout",
          "output_type": "stream",
          "text": [
            "lr: 0.00125\n"
          ]
        },
        {
          "name": "stderr",
          "output_type": "stream",
          "text": [
            "train epoch 85: 100%|██████████| 375/375 [00:11<00:00, 32.66it/s, loss=0.00786, accuracy=1]\n",
            "validation epoch 85: 100%|██████████| 94/94 [00:04<00:00, 19.80it/s, loss=2.36, accuracy=0.5]  \n"
          ]
        },
        {
          "name": "stdout",
          "output_type": "stream",
          "text": [
            "lr: 0.00125\n"
          ]
        },
        {
          "name": "stderr",
          "output_type": "stream",
          "text": [
            "train epoch 86: 100%|██████████| 375/375 [00:11<00:00, 32.47it/s, loss=0.00772, accuracy=1]\n",
            "validation epoch 86: 100%|██████████| 94/94 [00:04<00:00, 19.91it/s, loss=2.36, accuracy=0.503]\n"
          ]
        },
        {
          "name": "stdout",
          "output_type": "stream",
          "text": [
            "lr: 0.00125\n"
          ]
        },
        {
          "name": "stderr",
          "output_type": "stream",
          "text": [
            "train epoch 87: 100%|██████████| 375/375 [00:11<00:00, 32.34it/s, loss=0.00754, accuracy=1]\n",
            "validation epoch 87: 100%|██████████| 94/94 [00:04<00:00, 19.53it/s, loss=2.36, accuracy=0.502]\n"
          ]
        },
        {
          "name": "stdout",
          "output_type": "stream",
          "text": [
            "lr: 0.00125\n"
          ]
        },
        {
          "name": "stderr",
          "output_type": "stream",
          "text": [
            "train epoch 88: 100%|██████████| 375/375 [00:11<00:00, 34.07it/s, loss=0.00741, accuracy=1]\n",
            "validation epoch 88: 100%|██████████| 94/94 [00:04<00:00, 20.65it/s, loss=2.37, accuracy=0.503]\n"
          ]
        },
        {
          "name": "stdout",
          "output_type": "stream",
          "text": [
            "lr: 0.00125\n"
          ]
        },
        {
          "name": "stderr",
          "output_type": "stream",
          "text": [
            "train epoch 89: 100%|██████████| 375/375 [00:11<00:00, 32.77it/s, loss=0.00746, accuracy=1]\n",
            "validation epoch 89: 100%|██████████| 94/94 [00:04<00:00, 20.09it/s, loss=2.35, accuracy=0.503]\n"
          ]
        },
        {
          "name": "stdout",
          "output_type": "stream",
          "text": [
            "lr: 0.00125\n"
          ]
        },
        {
          "name": "stderr",
          "output_type": "stream",
          "text": [
            "train epoch 90: 100%|██████████| 375/375 [00:11<00:00, 32.97it/s, loss=0.00745, accuracy=1]\n",
            "validation epoch 90: 100%|██████████| 94/94 [00:04<00:00, 20.30it/s, loss=2.38, accuracy=0.5]  \n"
          ]
        },
        {
          "name": "stdout",
          "output_type": "stream",
          "text": [
            "lr: 0.00125\n"
          ]
        },
        {
          "name": "stderr",
          "output_type": "stream",
          "text": [
            "train epoch 91: 100%|██████████| 375/375 [00:11<00:00, 34.09it/s, loss=0.00721, accuracy=1]\n",
            "validation epoch 91: 100%|██████████| 94/94 [00:04<00:00, 21.02it/s, loss=2.39, accuracy=0.501]\n"
          ]
        },
        {
          "name": "stdout",
          "output_type": "stream",
          "text": [
            "lr: 0.00125\n"
          ]
        },
        {
          "name": "stderr",
          "output_type": "stream",
          "text": [
            "train epoch 92: 100%|██████████| 375/375 [00:11<00:00, 31.85it/s, loss=0.00751, accuracy=1]\n",
            "validation epoch 92: 100%|██████████| 94/94 [00:05<00:00, 18.42it/s, loss=2.38, accuracy=0.502]\n"
          ]
        },
        {
          "name": "stdout",
          "output_type": "stream",
          "text": [
            "lr: 0.00125\n"
          ]
        },
        {
          "name": "stderr",
          "output_type": "stream",
          "text": [
            "train epoch 93: 100%|██████████| 375/375 [00:11<00:00, 33.14it/s, loss=0.00721, accuracy=1]\n",
            "validation epoch 93: 100%|██████████| 94/94 [00:04<00:00, 20.40it/s, loss=2.37, accuracy=0.501]\n"
          ]
        },
        {
          "name": "stdout",
          "output_type": "stream",
          "text": [
            "lr: 0.00125\n"
          ]
        },
        {
          "name": "stderr",
          "output_type": "stream",
          "text": [
            "train epoch 94: 100%|██████████| 375/375 [00:10<00:00, 34.52it/s, loss=0.00717, accuracy=1]\n",
            "validation epoch 94: 100%|██████████| 94/94 [00:04<00:00, 20.66it/s, loss=2.37, accuracy=0.503]\n"
          ]
        },
        {
          "name": "stdout",
          "output_type": "stream",
          "text": [
            "lr: 0.00125\n"
          ]
        },
        {
          "name": "stderr",
          "output_type": "stream",
          "text": [
            "train epoch 95: 100%|██████████| 375/375 [00:11<00:00, 33.80it/s, loss=0.00708, accuracy=1]\n",
            "validation epoch 95: 100%|██████████| 94/94 [00:04<00:00, 20.23it/s, loss=2.38, accuracy=0.501]\n"
          ]
        },
        {
          "name": "stdout",
          "output_type": "stream",
          "text": [
            "lr: 0.00125\n"
          ]
        },
        {
          "name": "stderr",
          "output_type": "stream",
          "text": [
            "train epoch 96: 100%|██████████| 375/375 [00:11<00:00, 33.82it/s, loss=0.00698, accuracy=1]\n",
            "validation epoch 96: 100%|██████████| 94/94 [00:04<00:00, 20.58it/s, loss=2.38, accuracy=0.502]\n"
          ]
        },
        {
          "name": "stdout",
          "output_type": "stream",
          "text": [
            "lr: 0.00125\n"
          ]
        },
        {
          "name": "stderr",
          "output_type": "stream",
          "text": [
            "train epoch 97: 100%|██████████| 375/375 [00:11<00:00, 33.39it/s, loss=0.007, accuracy=1]  \n",
            "validation epoch 97: 100%|██████████| 94/94 [00:04<00:00, 20.77it/s, loss=2.39, accuracy=0.502]\n"
          ]
        },
        {
          "name": "stdout",
          "output_type": "stream",
          "text": [
            "lr: 0.00125\n"
          ]
        },
        {
          "name": "stderr",
          "output_type": "stream",
          "text": [
            "train epoch 98: 100%|██████████| 375/375 [00:11<00:00, 33.91it/s, loss=0.00689, accuracy=1]\n",
            "validation epoch 98: 100%|██████████| 94/94 [00:04<00:00, 21.34it/s, loss=2.39, accuracy=0.502]\n"
          ]
        },
        {
          "name": "stdout",
          "output_type": "stream",
          "text": [
            "lr: 0.00125\n"
          ]
        },
        {
          "name": "stderr",
          "output_type": "stream",
          "text": [
            "train epoch 99: 100%|██████████| 375/375 [00:10<00:00, 34.57it/s, loss=0.00718, accuracy=1]\n",
            "validation epoch 99: 100%|██████████| 94/94 [00:04<00:00, 21.21it/s, loss=2.39, accuracy=0.502]"
          ]
        },
        {
          "name": "stdout",
          "output_type": "stream",
          "text": [
            "lr: 0.00125\n"
          ]
        },
        {
          "name": "stderr",
          "output_type": "stream",
          "text": [
            "\n"
          ]
        }
      ],
      "source": [
        "train.train_erm(resume=True,best_resume_checkpoint_path=\"best_erm_model.pt\",last_resume_checkpoint_path=\"last_erm_model.pt\")"
      ]
    },
    {
      "cell_type": "code",
      "execution_count": 6,
      "metadata": {},
      "outputs": [
        {
          "name": "stdout",
          "output_type": "stream",
          "text": [
            "----------testing the model----------\n"
          ]
        },
        {
          "name": "stderr",
          "output_type": "stream",
          "text": [
            "test epoch 1: 100%|██████████| 79/79 [00:04<00:00, 18.06it/s, loss=0.698, accuracy=0.508]"
          ]
        },
        {
          "name": "stdout",
          "output_type": "stream",
          "text": [
            "Test accuracy = 0.5076147151898734\n"
          ]
        },
        {
          "name": "stderr",
          "output_type": "stream",
          "text": [
            "\n"
          ]
        }
      ],
      "source": [
        "train.test(train.test_loader_original,\"best_erm_model.pt\")"
      ]
    },
    {
      "cell_type": "code",
      "execution_count": 7,
      "metadata": {},
      "outputs": [
        {
          "name": "stdout",
          "output_type": "stream",
          "text": [
            "----------testing the model----------\n"
          ]
        },
        {
          "name": "stderr",
          "output_type": "stream",
          "text": [
            "test epoch 1: 100%|██████████| 79/79 [00:04<00:00, 18.53it/s, loss=0.697, accuracy=0.508]"
          ]
        },
        {
          "name": "stdout",
          "output_type": "stream",
          "text": [
            "Test accuracy = 0.5079113924050633\n"
          ]
        },
        {
          "name": "stderr",
          "output_type": "stream",
          "text": [
            "\n"
          ]
        }
      ],
      "source": [
        "train.test(train.test_loader_biased,\"best_erm_model.pt\")"
      ]
    },
    {
      "cell_type": "code",
      "execution_count": null,
      "metadata": {
        "id": "czo8ySJd7Lj9"
      },
      "outputs": [],
      "source": [
        "!rm data -r"
      ]
    }
  ],
  "metadata": {
    "accelerator": "GPU",
    "colab": {
      "provenance": []
    },
    "gpuClass": "standard",
    "kernelspec": {
      "display_name": "MACHINELEARNING",
      "language": "python",
      "name": "python3"
    },
    "language_info": {
      "codemirror_mode": {
        "name": "ipython",
        "version": 3
      },
      "file_extension": ".py",
      "mimetype": "text/x-python",
      "name": "python",
      "nbconvert_exporter": "python",
      "pygments_lexer": "ipython3",
      "version": "3.9.15"
    },
    "vscode": {
      "interpreter": {
        "hash": "c3d2da9ea33237c85584c9c67e1981ac38a3fd243e6de17eadf5b3b825ecc547"
      }
    },
    "widgets": {
      "application/vnd.jupyter.widget-state+json": {
        "01f1ba6b4d124e22bec8161803d89f32": {
          "model_module": "@jupyter-widgets/base",
          "model_module_version": "1.2.0",
          "model_name": "LayoutModel",
          "state": {
            "_model_module": "@jupyter-widgets/base",
            "_model_module_version": "1.2.0",
            "_model_name": "LayoutModel",
            "_view_count": null,
            "_view_module": "@jupyter-widgets/base",
            "_view_module_version": "1.2.0",
            "_view_name": "LayoutView",
            "align_content": null,
            "align_items": null,
            "align_self": null,
            "border": null,
            "bottom": null,
            "display": null,
            "flex": null,
            "flex_flow": null,
            "grid_area": null,
            "grid_auto_columns": null,
            "grid_auto_flow": null,
            "grid_auto_rows": null,
            "grid_column": null,
            "grid_gap": null,
            "grid_row": null,
            "grid_template_areas": null,
            "grid_template_columns": null,
            "grid_template_rows": null,
            "height": null,
            "justify_content": null,
            "justify_items": null,
            "left": null,
            "margin": null,
            "max_height": null,
            "max_width": null,
            "min_height": null,
            "min_width": null,
            "object_fit": null,
            "object_position": null,
            "order": null,
            "overflow": null,
            "overflow_x": null,
            "overflow_y": null,
            "padding": null,
            "right": null,
            "top": null,
            "visibility": null,
            "width": null
          }
        },
        "06a6640150d048e0ae1b93c019adaad8": {
          "model_module": "@jupyter-widgets/base",
          "model_module_version": "1.2.0",
          "model_name": "LayoutModel",
          "state": {
            "_model_module": "@jupyter-widgets/base",
            "_model_module_version": "1.2.0",
            "_model_name": "LayoutModel",
            "_view_count": null,
            "_view_module": "@jupyter-widgets/base",
            "_view_module_version": "1.2.0",
            "_view_name": "LayoutView",
            "align_content": null,
            "align_items": null,
            "align_self": null,
            "border": null,
            "bottom": null,
            "display": null,
            "flex": null,
            "flex_flow": null,
            "grid_area": null,
            "grid_auto_columns": null,
            "grid_auto_flow": null,
            "grid_auto_rows": null,
            "grid_column": null,
            "grid_gap": null,
            "grid_row": null,
            "grid_template_areas": null,
            "grid_template_columns": null,
            "grid_template_rows": null,
            "height": null,
            "justify_content": null,
            "justify_items": null,
            "left": null,
            "margin": null,
            "max_height": null,
            "max_width": null,
            "min_height": null,
            "min_width": null,
            "object_fit": null,
            "object_position": null,
            "order": null,
            "overflow": null,
            "overflow_x": null,
            "overflow_y": null,
            "padding": null,
            "right": null,
            "top": null,
            "visibility": null,
            "width": null
          }
        },
        "0ae3982f20a74665991d2db6a8401780": {
          "model_module": "@jupyter-widgets/controls",
          "model_module_version": "1.5.0",
          "model_name": "HTMLModel",
          "state": {
            "_dom_classes": [],
            "_model_module": "@jupyter-widgets/controls",
            "_model_module_version": "1.5.0",
            "_model_name": "HTMLModel",
            "_view_count": null,
            "_view_module": "@jupyter-widgets/controls",
            "_view_module_version": "1.5.0",
            "_view_name": "HTMLView",
            "description": "",
            "description_tooltip": null,
            "layout": "IPY_MODEL_01f1ba6b4d124e22bec8161803d89f32",
            "placeholder": "​",
            "style": "IPY_MODEL_be843fbb8fb54025a42dbf7bd2372a4b",
            "value": " 28881/28881 [00:00&lt;00:00, 1670744.98it/s]"
          }
        },
        "0b0ffc5fbd8f4546904b9a672934e4e3": {
          "model_module": "@jupyter-widgets/base",
          "model_module_version": "1.2.0",
          "model_name": "LayoutModel",
          "state": {
            "_model_module": "@jupyter-widgets/base",
            "_model_module_version": "1.2.0",
            "_model_name": "LayoutModel",
            "_view_count": null,
            "_view_module": "@jupyter-widgets/base",
            "_view_module_version": "1.2.0",
            "_view_name": "LayoutView",
            "align_content": null,
            "align_items": null,
            "align_self": null,
            "border": null,
            "bottom": null,
            "display": null,
            "flex": null,
            "flex_flow": null,
            "grid_area": null,
            "grid_auto_columns": null,
            "grid_auto_flow": null,
            "grid_auto_rows": null,
            "grid_column": null,
            "grid_gap": null,
            "grid_row": null,
            "grid_template_areas": null,
            "grid_template_columns": null,
            "grid_template_rows": null,
            "height": null,
            "justify_content": null,
            "justify_items": null,
            "left": null,
            "margin": null,
            "max_height": null,
            "max_width": null,
            "min_height": null,
            "min_width": null,
            "object_fit": null,
            "object_position": null,
            "order": null,
            "overflow": null,
            "overflow_x": null,
            "overflow_y": null,
            "padding": null,
            "right": null,
            "top": null,
            "visibility": null,
            "width": null
          }
        },
        "0fda975a80534ad5b880d66e5320686b": {
          "model_module": "@jupyter-widgets/controls",
          "model_module_version": "1.5.0",
          "model_name": "HBoxModel",
          "state": {
            "_dom_classes": [],
            "_model_module": "@jupyter-widgets/controls",
            "_model_module_version": "1.5.0",
            "_model_name": "HBoxModel",
            "_view_count": null,
            "_view_module": "@jupyter-widgets/controls",
            "_view_module_version": "1.5.0",
            "_view_name": "HBoxView",
            "box_style": "",
            "children": [
              "IPY_MODEL_2e01cade68f040efa3545eb5d66428f5",
              "IPY_MODEL_c01017ca3b2a487f9e8984d78ebbc106",
              "IPY_MODEL_0ae3982f20a74665991d2db6a8401780"
            ],
            "layout": "IPY_MODEL_9994109668464144938593a67ac9cff0"
          }
        },
        "2747ed7736dc40f7a91b475a51ca370b": {
          "model_module": "@jupyter-widgets/controls",
          "model_module_version": "1.5.0",
          "model_name": "ProgressStyleModel",
          "state": {
            "_model_module": "@jupyter-widgets/controls",
            "_model_module_version": "1.5.0",
            "_model_name": "ProgressStyleModel",
            "_view_count": null,
            "_view_module": "@jupyter-widgets/base",
            "_view_module_version": "1.2.0",
            "_view_name": "StyleView",
            "bar_color": null,
            "description_width": ""
          }
        },
        "28229f6a75354d649a879a45c8ea5b1f": {
          "model_module": "@jupyter-widgets/controls",
          "model_module_version": "1.5.0",
          "model_name": "FloatProgressModel",
          "state": {
            "_dom_classes": [],
            "_model_module": "@jupyter-widgets/controls",
            "_model_module_version": "1.5.0",
            "_model_name": "FloatProgressModel",
            "_view_count": null,
            "_view_module": "@jupyter-widgets/controls",
            "_view_module_version": "1.5.0",
            "_view_name": "ProgressView",
            "bar_style": "success",
            "description": "",
            "description_tooltip": null,
            "layout": "IPY_MODEL_b38638b16e8740cfa046e6b2c233b36a",
            "max": 9912422,
            "min": 0,
            "orientation": "horizontal",
            "style": "IPY_MODEL_9441d01b3dbe4873931fce9ee59bf298",
            "value": 9912422
          }
        },
        "2ca3ffba892140918b1801f2c49775f8": {
          "model_module": "@jupyter-widgets/base",
          "model_module_version": "1.2.0",
          "model_name": "LayoutModel",
          "state": {
            "_model_module": "@jupyter-widgets/base",
            "_model_module_version": "1.2.0",
            "_model_name": "LayoutModel",
            "_view_count": null,
            "_view_module": "@jupyter-widgets/base",
            "_view_module_version": "1.2.0",
            "_view_name": "LayoutView",
            "align_content": null,
            "align_items": null,
            "align_self": null,
            "border": null,
            "bottom": null,
            "display": null,
            "flex": null,
            "flex_flow": null,
            "grid_area": null,
            "grid_auto_columns": null,
            "grid_auto_flow": null,
            "grid_auto_rows": null,
            "grid_column": null,
            "grid_gap": null,
            "grid_row": null,
            "grid_template_areas": null,
            "grid_template_columns": null,
            "grid_template_rows": null,
            "height": null,
            "justify_content": null,
            "justify_items": null,
            "left": null,
            "margin": null,
            "max_height": null,
            "max_width": null,
            "min_height": null,
            "min_width": null,
            "object_fit": null,
            "object_position": null,
            "order": null,
            "overflow": null,
            "overflow_x": null,
            "overflow_y": null,
            "padding": null,
            "right": null,
            "top": null,
            "visibility": null,
            "width": null
          }
        },
        "2e01cade68f040efa3545eb5d66428f5": {
          "model_module": "@jupyter-widgets/controls",
          "model_module_version": "1.5.0",
          "model_name": "HTMLModel",
          "state": {
            "_dom_classes": [],
            "_model_module": "@jupyter-widgets/controls",
            "_model_module_version": "1.5.0",
            "_model_name": "HTMLModel",
            "_view_count": null,
            "_view_module": "@jupyter-widgets/controls",
            "_view_module_version": "1.5.0",
            "_view_name": "HTMLView",
            "description": "",
            "description_tooltip": null,
            "layout": "IPY_MODEL_06a6640150d048e0ae1b93c019adaad8",
            "placeholder": "​",
            "style": "IPY_MODEL_49498da6f08f4177b32ab7ed6f34a38c",
            "value": "100%"
          }
        },
        "3bff23d4c7154869ae9435c46f657120": {
          "model_module": "@jupyter-widgets/controls",
          "model_module_version": "1.5.0",
          "model_name": "DescriptionStyleModel",
          "state": {
            "_model_module": "@jupyter-widgets/controls",
            "_model_module_version": "1.5.0",
            "_model_name": "DescriptionStyleModel",
            "_view_count": null,
            "_view_module": "@jupyter-widgets/base",
            "_view_module_version": "1.2.0",
            "_view_name": "StyleView",
            "description_width": ""
          }
        },
        "443ece5655554465b48e9e2d659b3289": {
          "model_module": "@jupyter-widgets/controls",
          "model_module_version": "1.5.0",
          "model_name": "HTMLModel",
          "state": {
            "_dom_classes": [],
            "_model_module": "@jupyter-widgets/controls",
            "_model_module_version": "1.5.0",
            "_model_name": "HTMLModel",
            "_view_count": null,
            "_view_module": "@jupyter-widgets/controls",
            "_view_module_version": "1.5.0",
            "_view_name": "HTMLView",
            "description": "",
            "description_tooltip": null,
            "layout": "IPY_MODEL_9e41c37dc5134a9fb548d7e48e018439",
            "placeholder": "​",
            "style": "IPY_MODEL_e3111fbb881c48eb98e4878abb2bc771",
            "value": "100%"
          }
        },
        "49498da6f08f4177b32ab7ed6f34a38c": {
          "model_module": "@jupyter-widgets/controls",
          "model_module_version": "1.5.0",
          "model_name": "DescriptionStyleModel",
          "state": {
            "_model_module": "@jupyter-widgets/controls",
            "_model_module_version": "1.5.0",
            "_model_name": "DescriptionStyleModel",
            "_view_count": null,
            "_view_module": "@jupyter-widgets/base",
            "_view_module_version": "1.2.0",
            "_view_name": "StyleView",
            "description_width": ""
          }
        },
        "4fe449d6256b41c88d21640fea5f3f01": {
          "model_module": "@jupyter-widgets/base",
          "model_module_version": "1.2.0",
          "model_name": "LayoutModel",
          "state": {
            "_model_module": "@jupyter-widgets/base",
            "_model_module_version": "1.2.0",
            "_model_name": "LayoutModel",
            "_view_count": null,
            "_view_module": "@jupyter-widgets/base",
            "_view_module_version": "1.2.0",
            "_view_name": "LayoutView",
            "align_content": null,
            "align_items": null,
            "align_self": null,
            "border": null,
            "bottom": null,
            "display": null,
            "flex": null,
            "flex_flow": null,
            "grid_area": null,
            "grid_auto_columns": null,
            "grid_auto_flow": null,
            "grid_auto_rows": null,
            "grid_column": null,
            "grid_gap": null,
            "grid_row": null,
            "grid_template_areas": null,
            "grid_template_columns": null,
            "grid_template_rows": null,
            "height": null,
            "justify_content": null,
            "justify_items": null,
            "left": null,
            "margin": null,
            "max_height": null,
            "max_width": null,
            "min_height": null,
            "min_width": null,
            "object_fit": null,
            "object_position": null,
            "order": null,
            "overflow": null,
            "overflow_x": null,
            "overflow_y": null,
            "padding": null,
            "right": null,
            "top": null,
            "visibility": null,
            "width": null
          }
        },
        "50d28c19f9274b57acad3521efac9c3d": {
          "model_module": "@jupyter-widgets/controls",
          "model_module_version": "1.5.0",
          "model_name": "DescriptionStyleModel",
          "state": {
            "_model_module": "@jupyter-widgets/controls",
            "_model_module_version": "1.5.0",
            "_model_name": "DescriptionStyleModel",
            "_view_count": null,
            "_view_module": "@jupyter-widgets/base",
            "_view_module_version": "1.2.0",
            "_view_name": "StyleView",
            "description_width": ""
          }
        },
        "52a6ea1e76504abdbd3bfa0adbf1a828": {
          "model_module": "@jupyter-widgets/base",
          "model_module_version": "1.2.0",
          "model_name": "LayoutModel",
          "state": {
            "_model_module": "@jupyter-widgets/base",
            "_model_module_version": "1.2.0",
            "_model_name": "LayoutModel",
            "_view_count": null,
            "_view_module": "@jupyter-widgets/base",
            "_view_module_version": "1.2.0",
            "_view_name": "LayoutView",
            "align_content": null,
            "align_items": null,
            "align_self": null,
            "border": null,
            "bottom": null,
            "display": null,
            "flex": null,
            "flex_flow": null,
            "grid_area": null,
            "grid_auto_columns": null,
            "grid_auto_flow": null,
            "grid_auto_rows": null,
            "grid_column": null,
            "grid_gap": null,
            "grid_row": null,
            "grid_template_areas": null,
            "grid_template_columns": null,
            "grid_template_rows": null,
            "height": null,
            "justify_content": null,
            "justify_items": null,
            "left": null,
            "margin": null,
            "max_height": null,
            "max_width": null,
            "min_height": null,
            "min_width": null,
            "object_fit": null,
            "object_position": null,
            "order": null,
            "overflow": null,
            "overflow_x": null,
            "overflow_y": null,
            "padding": null,
            "right": null,
            "top": null,
            "visibility": null,
            "width": null
          }
        },
        "5d9131db42e34e4d8a1bf26dfeb786e1": {
          "model_module": "@jupyter-widgets/base",
          "model_module_version": "1.2.0",
          "model_name": "LayoutModel",
          "state": {
            "_model_module": "@jupyter-widgets/base",
            "_model_module_version": "1.2.0",
            "_model_name": "LayoutModel",
            "_view_count": null,
            "_view_module": "@jupyter-widgets/base",
            "_view_module_version": "1.2.0",
            "_view_name": "LayoutView",
            "align_content": null,
            "align_items": null,
            "align_self": null,
            "border": null,
            "bottom": null,
            "display": null,
            "flex": null,
            "flex_flow": null,
            "grid_area": null,
            "grid_auto_columns": null,
            "grid_auto_flow": null,
            "grid_auto_rows": null,
            "grid_column": null,
            "grid_gap": null,
            "grid_row": null,
            "grid_template_areas": null,
            "grid_template_columns": null,
            "grid_template_rows": null,
            "height": null,
            "justify_content": null,
            "justify_items": null,
            "left": null,
            "margin": null,
            "max_height": null,
            "max_width": null,
            "min_height": null,
            "min_width": null,
            "object_fit": null,
            "object_position": null,
            "order": null,
            "overflow": null,
            "overflow_x": null,
            "overflow_y": null,
            "padding": null,
            "right": null,
            "top": null,
            "visibility": null,
            "width": null
          }
        },
        "5f02cab6c29f4307b1848a9ccc623cd9": {
          "model_module": "@jupyter-widgets/base",
          "model_module_version": "1.2.0",
          "model_name": "LayoutModel",
          "state": {
            "_model_module": "@jupyter-widgets/base",
            "_model_module_version": "1.2.0",
            "_model_name": "LayoutModel",
            "_view_count": null,
            "_view_module": "@jupyter-widgets/base",
            "_view_module_version": "1.2.0",
            "_view_name": "LayoutView",
            "align_content": null,
            "align_items": null,
            "align_self": null,
            "border": null,
            "bottom": null,
            "display": null,
            "flex": null,
            "flex_flow": null,
            "grid_area": null,
            "grid_auto_columns": null,
            "grid_auto_flow": null,
            "grid_auto_rows": null,
            "grid_column": null,
            "grid_gap": null,
            "grid_row": null,
            "grid_template_areas": null,
            "grid_template_columns": null,
            "grid_template_rows": null,
            "height": null,
            "justify_content": null,
            "justify_items": null,
            "left": null,
            "margin": null,
            "max_height": null,
            "max_width": null,
            "min_height": null,
            "min_width": null,
            "object_fit": null,
            "object_position": null,
            "order": null,
            "overflow": null,
            "overflow_x": null,
            "overflow_y": null,
            "padding": null,
            "right": null,
            "top": null,
            "visibility": null,
            "width": null
          }
        },
        "72e18decfeeb4082b24e0977da35ddca": {
          "model_module": "@jupyter-widgets/controls",
          "model_module_version": "1.5.0",
          "model_name": "DescriptionStyleModel",
          "state": {
            "_model_module": "@jupyter-widgets/controls",
            "_model_module_version": "1.5.0",
            "_model_name": "DescriptionStyleModel",
            "_view_count": null,
            "_view_module": "@jupyter-widgets/base",
            "_view_module_version": "1.2.0",
            "_view_name": "StyleView",
            "description_width": ""
          }
        },
        "7dd3f11b49a34749937a6aec18a62b5f": {
          "model_module": "@jupyter-widgets/controls",
          "model_module_version": "1.5.0",
          "model_name": "ProgressStyleModel",
          "state": {
            "_model_module": "@jupyter-widgets/controls",
            "_model_module_version": "1.5.0",
            "_model_name": "ProgressStyleModel",
            "_view_count": null,
            "_view_module": "@jupyter-widgets/base",
            "_view_module_version": "1.2.0",
            "_view_name": "StyleView",
            "bar_color": null,
            "description_width": ""
          }
        },
        "7fb735906f9446f2838fa8416d3a6188": {
          "model_module": "@jupyter-widgets/controls",
          "model_module_version": "1.5.0",
          "model_name": "HBoxModel",
          "state": {
            "_dom_classes": [],
            "_model_module": "@jupyter-widgets/controls",
            "_model_module_version": "1.5.0",
            "_model_name": "HBoxModel",
            "_view_count": null,
            "_view_module": "@jupyter-widgets/controls",
            "_view_module_version": "1.5.0",
            "_view_name": "HBoxView",
            "box_style": "",
            "children": [
              "IPY_MODEL_d2db190452524e52a016ff92d661ca8b",
              "IPY_MODEL_8a99f1ff1a1e4ba79a62f7eb0654b353",
              "IPY_MODEL_b535e4cd41c449f984dc735b2837b52c"
            ],
            "layout": "IPY_MODEL_f64301fe5926480bbf8fb8a3699852ad"
          }
        },
        "80da98052cfd4959b27aa6382b578195": {
          "model_module": "@jupyter-widgets/controls",
          "model_module_version": "1.5.0",
          "model_name": "HTMLModel",
          "state": {
            "_dom_classes": [],
            "_model_module": "@jupyter-widgets/controls",
            "_model_module_version": "1.5.0",
            "_model_name": "HTMLModel",
            "_view_count": null,
            "_view_module": "@jupyter-widgets/controls",
            "_view_module_version": "1.5.0",
            "_view_name": "HTMLView",
            "description": "",
            "description_tooltip": null,
            "layout": "IPY_MODEL_ec7e736e1373438899a5750433f3f2e5",
            "placeholder": "​",
            "style": "IPY_MODEL_72e18decfeeb4082b24e0977da35ddca",
            "value": "100%"
          }
        },
        "8a99f1ff1a1e4ba79a62f7eb0654b353": {
          "model_module": "@jupyter-widgets/controls",
          "model_module_version": "1.5.0",
          "model_name": "FloatProgressModel",
          "state": {
            "_dom_classes": [],
            "_model_module": "@jupyter-widgets/controls",
            "_model_module_version": "1.5.0",
            "_model_name": "FloatProgressModel",
            "_view_count": null,
            "_view_module": "@jupyter-widgets/controls",
            "_view_module_version": "1.5.0",
            "_view_name": "ProgressView",
            "bar_style": "success",
            "description": "",
            "description_tooltip": null,
            "layout": "IPY_MODEL_d4fc4b3ba1cf4792aba5c8422941f933",
            "max": 4542,
            "min": 0,
            "orientation": "horizontal",
            "style": "IPY_MODEL_feb4bae52a3d4600abf5e6c28137f8b1",
            "value": 4542
          }
        },
        "8d0da82f759c49fd9884d9bcc417cfdb": {
          "model_module": "@jupyter-widgets/controls",
          "model_module_version": "1.5.0",
          "model_name": "HBoxModel",
          "state": {
            "_dom_classes": [],
            "_model_module": "@jupyter-widgets/controls",
            "_model_module_version": "1.5.0",
            "_model_name": "HBoxModel",
            "_view_count": null,
            "_view_module": "@jupyter-widgets/controls",
            "_view_module_version": "1.5.0",
            "_view_name": "HBoxView",
            "box_style": "",
            "children": [
              "IPY_MODEL_80da98052cfd4959b27aa6382b578195",
              "IPY_MODEL_e5b73b5e40dc454e911cae2123d8d0a6",
              "IPY_MODEL_dddac6a1079540a2a8befbb322c66211"
            ],
            "layout": "IPY_MODEL_5f02cab6c29f4307b1848a9ccc623cd9"
          }
        },
        "9441d01b3dbe4873931fce9ee59bf298": {
          "model_module": "@jupyter-widgets/controls",
          "model_module_version": "1.5.0",
          "model_name": "ProgressStyleModel",
          "state": {
            "_model_module": "@jupyter-widgets/controls",
            "_model_module_version": "1.5.0",
            "_model_name": "ProgressStyleModel",
            "_view_count": null,
            "_view_module": "@jupyter-widgets/base",
            "_view_module_version": "1.2.0",
            "_view_name": "StyleView",
            "bar_color": null,
            "description_width": ""
          }
        },
        "9994109668464144938593a67ac9cff0": {
          "model_module": "@jupyter-widgets/base",
          "model_module_version": "1.2.0",
          "model_name": "LayoutModel",
          "state": {
            "_model_module": "@jupyter-widgets/base",
            "_model_module_version": "1.2.0",
            "_model_name": "LayoutModel",
            "_view_count": null,
            "_view_module": "@jupyter-widgets/base",
            "_view_module_version": "1.2.0",
            "_view_name": "LayoutView",
            "align_content": null,
            "align_items": null,
            "align_self": null,
            "border": null,
            "bottom": null,
            "display": null,
            "flex": null,
            "flex_flow": null,
            "grid_area": null,
            "grid_auto_columns": null,
            "grid_auto_flow": null,
            "grid_auto_rows": null,
            "grid_column": null,
            "grid_gap": null,
            "grid_row": null,
            "grid_template_areas": null,
            "grid_template_columns": null,
            "grid_template_rows": null,
            "height": null,
            "justify_content": null,
            "justify_items": null,
            "left": null,
            "margin": null,
            "max_height": null,
            "max_width": null,
            "min_height": null,
            "min_width": null,
            "object_fit": null,
            "object_position": null,
            "order": null,
            "overflow": null,
            "overflow_x": null,
            "overflow_y": null,
            "padding": null,
            "right": null,
            "top": null,
            "visibility": null,
            "width": null
          }
        },
        "9e41c37dc5134a9fb548d7e48e018439": {
          "model_module": "@jupyter-widgets/base",
          "model_module_version": "1.2.0",
          "model_name": "LayoutModel",
          "state": {
            "_model_module": "@jupyter-widgets/base",
            "_model_module_version": "1.2.0",
            "_model_name": "LayoutModel",
            "_view_count": null,
            "_view_module": "@jupyter-widgets/base",
            "_view_module_version": "1.2.0",
            "_view_name": "LayoutView",
            "align_content": null,
            "align_items": null,
            "align_self": null,
            "border": null,
            "bottom": null,
            "display": null,
            "flex": null,
            "flex_flow": null,
            "grid_area": null,
            "grid_auto_columns": null,
            "grid_auto_flow": null,
            "grid_auto_rows": null,
            "grid_column": null,
            "grid_gap": null,
            "grid_row": null,
            "grid_template_areas": null,
            "grid_template_columns": null,
            "grid_template_rows": null,
            "height": null,
            "justify_content": null,
            "justify_items": null,
            "left": null,
            "margin": null,
            "max_height": null,
            "max_width": null,
            "min_height": null,
            "min_width": null,
            "object_fit": null,
            "object_position": null,
            "order": null,
            "overflow": null,
            "overflow_x": null,
            "overflow_y": null,
            "padding": null,
            "right": null,
            "top": null,
            "visibility": null,
            "width": null
          }
        },
        "b38638b16e8740cfa046e6b2c233b36a": {
          "model_module": "@jupyter-widgets/base",
          "model_module_version": "1.2.0",
          "model_name": "LayoutModel",
          "state": {
            "_model_module": "@jupyter-widgets/base",
            "_model_module_version": "1.2.0",
            "_model_name": "LayoutModel",
            "_view_count": null,
            "_view_module": "@jupyter-widgets/base",
            "_view_module_version": "1.2.0",
            "_view_name": "LayoutView",
            "align_content": null,
            "align_items": null,
            "align_self": null,
            "border": null,
            "bottom": null,
            "display": null,
            "flex": null,
            "flex_flow": null,
            "grid_area": null,
            "grid_auto_columns": null,
            "grid_auto_flow": null,
            "grid_auto_rows": null,
            "grid_column": null,
            "grid_gap": null,
            "grid_row": null,
            "grid_template_areas": null,
            "grid_template_columns": null,
            "grid_template_rows": null,
            "height": null,
            "justify_content": null,
            "justify_items": null,
            "left": null,
            "margin": null,
            "max_height": null,
            "max_width": null,
            "min_height": null,
            "min_width": null,
            "object_fit": null,
            "object_position": null,
            "order": null,
            "overflow": null,
            "overflow_x": null,
            "overflow_y": null,
            "padding": null,
            "right": null,
            "top": null,
            "visibility": null,
            "width": null
          }
        },
        "b535e4cd41c449f984dc735b2837b52c": {
          "model_module": "@jupyter-widgets/controls",
          "model_module_version": "1.5.0",
          "model_name": "HTMLModel",
          "state": {
            "_dom_classes": [],
            "_model_module": "@jupyter-widgets/controls",
            "_model_module_version": "1.5.0",
            "_model_name": "HTMLModel",
            "_view_count": null,
            "_view_module": "@jupyter-widgets/controls",
            "_view_module_version": "1.5.0",
            "_view_name": "HTMLView",
            "description": "",
            "description_tooltip": null,
            "layout": "IPY_MODEL_cf22a28ccd1b4eb1a35b4ab471f194fb",
            "placeholder": "​",
            "style": "IPY_MODEL_efa43313cfa849328c494b81a4f6b96b",
            "value": " 4542/4542 [00:00&lt;00:00, 210159.39it/s]"
          }
        },
        "be843fbb8fb54025a42dbf7bd2372a4b": {
          "model_module": "@jupyter-widgets/controls",
          "model_module_version": "1.5.0",
          "model_name": "DescriptionStyleModel",
          "state": {
            "_model_module": "@jupyter-widgets/controls",
            "_model_module_version": "1.5.0",
            "_model_name": "DescriptionStyleModel",
            "_view_count": null,
            "_view_module": "@jupyter-widgets/base",
            "_view_module_version": "1.2.0",
            "_view_name": "StyleView",
            "description_width": ""
          }
        },
        "c01017ca3b2a487f9e8984d78ebbc106": {
          "model_module": "@jupyter-widgets/controls",
          "model_module_version": "1.5.0",
          "model_name": "FloatProgressModel",
          "state": {
            "_dom_classes": [],
            "_model_module": "@jupyter-widgets/controls",
            "_model_module_version": "1.5.0",
            "_model_name": "FloatProgressModel",
            "_view_count": null,
            "_view_module": "@jupyter-widgets/controls",
            "_view_module_version": "1.5.0",
            "_view_name": "ProgressView",
            "bar_style": "success",
            "description": "",
            "description_tooltip": null,
            "layout": "IPY_MODEL_0b0ffc5fbd8f4546904b9a672934e4e3",
            "max": 28881,
            "min": 0,
            "orientation": "horizontal",
            "style": "IPY_MODEL_2747ed7736dc40f7a91b475a51ca370b",
            "value": 28881
          }
        },
        "cf22a28ccd1b4eb1a35b4ab471f194fb": {
          "model_module": "@jupyter-widgets/base",
          "model_module_version": "1.2.0",
          "model_name": "LayoutModel",
          "state": {
            "_model_module": "@jupyter-widgets/base",
            "_model_module_version": "1.2.0",
            "_model_name": "LayoutModel",
            "_view_count": null,
            "_view_module": "@jupyter-widgets/base",
            "_view_module_version": "1.2.0",
            "_view_name": "LayoutView",
            "align_content": null,
            "align_items": null,
            "align_self": null,
            "border": null,
            "bottom": null,
            "display": null,
            "flex": null,
            "flex_flow": null,
            "grid_area": null,
            "grid_auto_columns": null,
            "grid_auto_flow": null,
            "grid_auto_rows": null,
            "grid_column": null,
            "grid_gap": null,
            "grid_row": null,
            "grid_template_areas": null,
            "grid_template_columns": null,
            "grid_template_rows": null,
            "height": null,
            "justify_content": null,
            "justify_items": null,
            "left": null,
            "margin": null,
            "max_height": null,
            "max_width": null,
            "min_height": null,
            "min_width": null,
            "object_fit": null,
            "object_position": null,
            "order": null,
            "overflow": null,
            "overflow_x": null,
            "overflow_y": null,
            "padding": null,
            "right": null,
            "top": null,
            "visibility": null,
            "width": null
          }
        },
        "d2db190452524e52a016ff92d661ca8b": {
          "model_module": "@jupyter-widgets/controls",
          "model_module_version": "1.5.0",
          "model_name": "HTMLModel",
          "state": {
            "_dom_classes": [],
            "_model_module": "@jupyter-widgets/controls",
            "_model_module_version": "1.5.0",
            "_model_name": "HTMLModel",
            "_view_count": null,
            "_view_module": "@jupyter-widgets/controls",
            "_view_module_version": "1.5.0",
            "_view_name": "HTMLView",
            "description": "",
            "description_tooltip": null,
            "layout": "IPY_MODEL_f5bd7f1e4d96424b8ab418bf1711a3e4",
            "placeholder": "​",
            "style": "IPY_MODEL_3bff23d4c7154869ae9435c46f657120",
            "value": "100%"
          }
        },
        "d4fc4b3ba1cf4792aba5c8422941f933": {
          "model_module": "@jupyter-widgets/base",
          "model_module_version": "1.2.0",
          "model_name": "LayoutModel",
          "state": {
            "_model_module": "@jupyter-widgets/base",
            "_model_module_version": "1.2.0",
            "_model_name": "LayoutModel",
            "_view_count": null,
            "_view_module": "@jupyter-widgets/base",
            "_view_module_version": "1.2.0",
            "_view_name": "LayoutView",
            "align_content": null,
            "align_items": null,
            "align_self": null,
            "border": null,
            "bottom": null,
            "display": null,
            "flex": null,
            "flex_flow": null,
            "grid_area": null,
            "grid_auto_columns": null,
            "grid_auto_flow": null,
            "grid_auto_rows": null,
            "grid_column": null,
            "grid_gap": null,
            "grid_row": null,
            "grid_template_areas": null,
            "grid_template_columns": null,
            "grid_template_rows": null,
            "height": null,
            "justify_content": null,
            "justify_items": null,
            "left": null,
            "margin": null,
            "max_height": null,
            "max_width": null,
            "min_height": null,
            "min_width": null,
            "object_fit": null,
            "object_position": null,
            "order": null,
            "overflow": null,
            "overflow_x": null,
            "overflow_y": null,
            "padding": null,
            "right": null,
            "top": null,
            "visibility": null,
            "width": null
          }
        },
        "d5fe9fcc066b4cd9ac60e969939d0a56": {
          "model_module": "@jupyter-widgets/controls",
          "model_module_version": "1.5.0",
          "model_name": "HTMLModel",
          "state": {
            "_dom_classes": [],
            "_model_module": "@jupyter-widgets/controls",
            "_model_module_version": "1.5.0",
            "_model_name": "HTMLModel",
            "_view_count": null,
            "_view_module": "@jupyter-widgets/controls",
            "_view_module_version": "1.5.0",
            "_view_name": "HTMLView",
            "description": "",
            "description_tooltip": null,
            "layout": "IPY_MODEL_2ca3ffba892140918b1801f2c49775f8",
            "placeholder": "​",
            "style": "IPY_MODEL_50d28c19f9274b57acad3521efac9c3d",
            "value": " 9912422/9912422 [00:00&lt;00:00, 183743807.15it/s]"
          }
        },
        "dddac6a1079540a2a8befbb322c66211": {
          "model_module": "@jupyter-widgets/controls",
          "model_module_version": "1.5.0",
          "model_name": "HTMLModel",
          "state": {
            "_dom_classes": [],
            "_model_module": "@jupyter-widgets/controls",
            "_model_module_version": "1.5.0",
            "_model_name": "HTMLModel",
            "_view_count": null,
            "_view_module": "@jupyter-widgets/controls",
            "_view_module_version": "1.5.0",
            "_view_name": "HTMLView",
            "description": "",
            "description_tooltip": null,
            "layout": "IPY_MODEL_52a6ea1e76504abdbd3bfa0adbf1a828",
            "placeholder": "​",
            "style": "IPY_MODEL_f177649b1b234ba9ae963e99d163fb48",
            "value": " 1648877/1648877 [00:00&lt;00:00, 64531369.46it/s]"
          }
        },
        "e3111fbb881c48eb98e4878abb2bc771": {
          "model_module": "@jupyter-widgets/controls",
          "model_module_version": "1.5.0",
          "model_name": "DescriptionStyleModel",
          "state": {
            "_model_module": "@jupyter-widgets/controls",
            "_model_module_version": "1.5.0",
            "_model_name": "DescriptionStyleModel",
            "_view_count": null,
            "_view_module": "@jupyter-widgets/base",
            "_view_module_version": "1.2.0",
            "_view_name": "StyleView",
            "description_width": ""
          }
        },
        "e5b73b5e40dc454e911cae2123d8d0a6": {
          "model_module": "@jupyter-widgets/controls",
          "model_module_version": "1.5.0",
          "model_name": "FloatProgressModel",
          "state": {
            "_dom_classes": [],
            "_model_module": "@jupyter-widgets/controls",
            "_model_module_version": "1.5.0",
            "_model_name": "FloatProgressModel",
            "_view_count": null,
            "_view_module": "@jupyter-widgets/controls",
            "_view_module_version": "1.5.0",
            "_view_name": "ProgressView",
            "bar_style": "success",
            "description": "",
            "description_tooltip": null,
            "layout": "IPY_MODEL_5d9131db42e34e4d8a1bf26dfeb786e1",
            "max": 1648877,
            "min": 0,
            "orientation": "horizontal",
            "style": "IPY_MODEL_7dd3f11b49a34749937a6aec18a62b5f",
            "value": 1648877
          }
        },
        "ec7e736e1373438899a5750433f3f2e5": {
          "model_module": "@jupyter-widgets/base",
          "model_module_version": "1.2.0",
          "model_name": "LayoutModel",
          "state": {
            "_model_module": "@jupyter-widgets/base",
            "_model_module_version": "1.2.0",
            "_model_name": "LayoutModel",
            "_view_count": null,
            "_view_module": "@jupyter-widgets/base",
            "_view_module_version": "1.2.0",
            "_view_name": "LayoutView",
            "align_content": null,
            "align_items": null,
            "align_self": null,
            "border": null,
            "bottom": null,
            "display": null,
            "flex": null,
            "flex_flow": null,
            "grid_area": null,
            "grid_auto_columns": null,
            "grid_auto_flow": null,
            "grid_auto_rows": null,
            "grid_column": null,
            "grid_gap": null,
            "grid_row": null,
            "grid_template_areas": null,
            "grid_template_columns": null,
            "grid_template_rows": null,
            "height": null,
            "justify_content": null,
            "justify_items": null,
            "left": null,
            "margin": null,
            "max_height": null,
            "max_width": null,
            "min_height": null,
            "min_width": null,
            "object_fit": null,
            "object_position": null,
            "order": null,
            "overflow": null,
            "overflow_x": null,
            "overflow_y": null,
            "padding": null,
            "right": null,
            "top": null,
            "visibility": null,
            "width": null
          }
        },
        "efa43313cfa849328c494b81a4f6b96b": {
          "model_module": "@jupyter-widgets/controls",
          "model_module_version": "1.5.0",
          "model_name": "DescriptionStyleModel",
          "state": {
            "_model_module": "@jupyter-widgets/controls",
            "_model_module_version": "1.5.0",
            "_model_name": "DescriptionStyleModel",
            "_view_count": null,
            "_view_module": "@jupyter-widgets/base",
            "_view_module_version": "1.2.0",
            "_view_name": "StyleView",
            "description_width": ""
          }
        },
        "f177649b1b234ba9ae963e99d163fb48": {
          "model_module": "@jupyter-widgets/controls",
          "model_module_version": "1.5.0",
          "model_name": "DescriptionStyleModel",
          "state": {
            "_model_module": "@jupyter-widgets/controls",
            "_model_module_version": "1.5.0",
            "_model_name": "DescriptionStyleModel",
            "_view_count": null,
            "_view_module": "@jupyter-widgets/base",
            "_view_module_version": "1.2.0",
            "_view_name": "StyleView",
            "description_width": ""
          }
        },
        "f5bd7f1e4d96424b8ab418bf1711a3e4": {
          "model_module": "@jupyter-widgets/base",
          "model_module_version": "1.2.0",
          "model_name": "LayoutModel",
          "state": {
            "_model_module": "@jupyter-widgets/base",
            "_model_module_version": "1.2.0",
            "_model_name": "LayoutModel",
            "_view_count": null,
            "_view_module": "@jupyter-widgets/base",
            "_view_module_version": "1.2.0",
            "_view_name": "LayoutView",
            "align_content": null,
            "align_items": null,
            "align_self": null,
            "border": null,
            "bottom": null,
            "display": null,
            "flex": null,
            "flex_flow": null,
            "grid_area": null,
            "grid_auto_columns": null,
            "grid_auto_flow": null,
            "grid_auto_rows": null,
            "grid_column": null,
            "grid_gap": null,
            "grid_row": null,
            "grid_template_areas": null,
            "grid_template_columns": null,
            "grid_template_rows": null,
            "height": null,
            "justify_content": null,
            "justify_items": null,
            "left": null,
            "margin": null,
            "max_height": null,
            "max_width": null,
            "min_height": null,
            "min_width": null,
            "object_fit": null,
            "object_position": null,
            "order": null,
            "overflow": null,
            "overflow_x": null,
            "overflow_y": null,
            "padding": null,
            "right": null,
            "top": null,
            "visibility": null,
            "width": null
          }
        },
        "f5e370c40d1a48529434986623512e92": {
          "model_module": "@jupyter-widgets/controls",
          "model_module_version": "1.5.0",
          "model_name": "HBoxModel",
          "state": {
            "_dom_classes": [],
            "_model_module": "@jupyter-widgets/controls",
            "_model_module_version": "1.5.0",
            "_model_name": "HBoxModel",
            "_view_count": null,
            "_view_module": "@jupyter-widgets/controls",
            "_view_module_version": "1.5.0",
            "_view_name": "HBoxView",
            "box_style": "",
            "children": [
              "IPY_MODEL_443ece5655554465b48e9e2d659b3289",
              "IPY_MODEL_28229f6a75354d649a879a45c8ea5b1f",
              "IPY_MODEL_d5fe9fcc066b4cd9ac60e969939d0a56"
            ],
            "layout": "IPY_MODEL_4fe449d6256b41c88d21640fea5f3f01"
          }
        },
        "f64301fe5926480bbf8fb8a3699852ad": {
          "model_module": "@jupyter-widgets/base",
          "model_module_version": "1.2.0",
          "model_name": "LayoutModel",
          "state": {
            "_model_module": "@jupyter-widgets/base",
            "_model_module_version": "1.2.0",
            "_model_name": "LayoutModel",
            "_view_count": null,
            "_view_module": "@jupyter-widgets/base",
            "_view_module_version": "1.2.0",
            "_view_name": "LayoutView",
            "align_content": null,
            "align_items": null,
            "align_self": null,
            "border": null,
            "bottom": null,
            "display": null,
            "flex": null,
            "flex_flow": null,
            "grid_area": null,
            "grid_auto_columns": null,
            "grid_auto_flow": null,
            "grid_auto_rows": null,
            "grid_column": null,
            "grid_gap": null,
            "grid_row": null,
            "grid_template_areas": null,
            "grid_template_columns": null,
            "grid_template_rows": null,
            "height": null,
            "justify_content": null,
            "justify_items": null,
            "left": null,
            "margin": null,
            "max_height": null,
            "max_width": null,
            "min_height": null,
            "min_width": null,
            "object_fit": null,
            "object_position": null,
            "order": null,
            "overflow": null,
            "overflow_x": null,
            "overflow_y": null,
            "padding": null,
            "right": null,
            "top": null,
            "visibility": null,
            "width": null
          }
        },
        "feb4bae52a3d4600abf5e6c28137f8b1": {
          "model_module": "@jupyter-widgets/controls",
          "model_module_version": "1.5.0",
          "model_name": "ProgressStyleModel",
          "state": {
            "_model_module": "@jupyter-widgets/controls",
            "_model_module_version": "1.5.0",
            "_model_name": "ProgressStyleModel",
            "_view_count": null,
            "_view_module": "@jupyter-widgets/base",
            "_view_module_version": "1.2.0",
            "_view_name": "StyleView",
            "bar_color": null,
            "description_width": ""
          }
        }
      }
    }
  },
  "nbformat": 4,
  "nbformat_minor": 0
}
