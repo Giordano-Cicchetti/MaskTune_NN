{
  "cells": [
    {
      "cell_type": "markdown",
      "metadata": {
        "id": "75Gm0a9BoopL"
      },
      "source": [
        "### Selective Classification:<br>\n",
        "Selective classification is classification technique that significantly improve prediction performance by trading-off coverage over the dataset.<br>\n",
        "The idea of selective classification is the following, an image is classified if the probability that it falls in a certain class is lower than a certain threshold. <br>\n",
        "This approach guarantees a lower value of misclassification but on the other hand it classifies only the elements of the dataset that are more probable to belongs to a class."
      ]
    },
    {
      "cell_type": "markdown",
      "metadata": {
        "id": "fqq6F5fjp2bj"
      },
      "source": [
        "Let $m_\\theta^{original}$ the results of model trained on the original dataset and $m_\\theta^{masked}$ the results obtained after the training epoch performed on the masked dataset. MaskTune does not abstain only if the models agree on the class the element belongs."
      ]
    },
    {
      "attachments": {},
      "cell_type": "markdown",
      "metadata": {
        "id": "Q2tcCmC1u3qi"
      },
      "source": [
        "Let $j$ an input image, it is possible to define the prediction probabilities of $j$ for the class $i$ as:\n",
        "*   $P_{ij}^{original}$ obtained by $m_\\theta^{original}$\n",
        "*   $P_{ij}^{masked}$ obtained by $m_\\theta^{masked}$\n",
        "\n",
        "MaskTune does not abstain to predict the class of image if $P_{ij}^{original}\\cdot P_{ij}^{masked}>\\lambda$.<br>\n",
        "The value $\\lambda$ is a threshold that guarantees the tareget coverage $T$ of classified elements. The idea for obtaining a value of $\\lambda$ adequate for the chosen threshold is based on <b>iterate</b> over the validation set for finiding the threshold value $\\lambda^{'}$ such that if it is applied over the validation set, it returns the desired coverage.<br>\n",
        "$|\\forall i\\in{validation set}\\rightarrow i>\\lambda^{'}|=T$\n",
        "<br>\n",
        "The correctness of this process is due by the fact that since $P_{ij}^{original}$ and $P_{ij}^{masked}>\\lambda$ are two probability values, then if one of these is too low with respect to the other the probability that the system is abstaining become higher and this is true since an high difference between the probability classes means a 'discorde' classification, "
      ]
    },
    {
      "cell_type": "markdown",
      "metadata": {
        "id": "ZobuOGoOwn_E"
      },
      "source": [
        "\n",
        "---"
      ]
    },
    {
      "attachments": {},
      "cell_type": "markdown",
      "metadata": {
        "id": "W_-3pShQE9UX"
      },
      "source": [
        "### CIFAR-10\n",
        "This notebook focuses on the \"CIFAR-10\" dataset. The dataset consists of 60.000 color images that belong to 10 different classes.<br>\n",
        "In the specific case, the used dataset is the original one that can be 'raggiunto' by following link 'link'.<br>\n",
        "The train dataset is composed by 50.000 elements, while the remaining 10.000 elements build the test dataset."
      ]
    },
    {
      "cell_type": "code",
      "execution_count": null,
      "metadata": {
        "colab": {
          "base_uri": "https://localhost:8080/"
        },
        "id": "9KJdmP-5hdcS",
        "outputId": "607d084b-630e-4a7b-84eb-86dc4f72a7e7"
      },
      "outputs": [
        {
          "name": "stdout",
          "output_type": "stream",
          "text": [
            "Looking in indexes: https://pypi.org/simple, https://us-python.pkg.dev/colab-wheels/public/simple/\n",
            "Collecting timm\n",
            "  Downloading timm-0.6.12-py3-none-any.whl (549 kB)\n",
            "\u001b[2K     \u001b[90m━━━━━━━━━━━━━━━━━━━━━━━━━━━━━━━━━━━━━━━\u001b[0m \u001b[32m549.1/549.1 KB\u001b[0m \u001b[31m4.2 MB/s\u001b[0m eta \u001b[36m0:00:00\u001b[0m\n",
            "\u001b[?25hCollecting huggingface-hub\n",
            "  Downloading huggingface_hub-0.12.0-py3-none-any.whl (190 kB)\n",
            "\u001b[2K     \u001b[90m━━━━━━━━━━━━━━━━━━━━━━━━━━━━━━━━━━━━━━\u001b[0m \u001b[32m190.3/190.3 KB\u001b[0m \u001b[31m13.4 MB/s\u001b[0m eta \u001b[36m0:00:00\u001b[0m\n",
            "\u001b[?25hRequirement already satisfied: torchvision in /usr/local/lib/python3.8/dist-packages (from timm) (0.14.1+cu116)\n",
            "Requirement already satisfied: pyyaml in /usr/local/lib/python3.8/dist-packages (from timm) (6.0)\n",
            "Requirement already satisfied: torch>=1.7 in /usr/local/lib/python3.8/dist-packages (from timm) (1.13.1+cu116)\n",
            "Requirement already satisfied: typing-extensions in /usr/local/lib/python3.8/dist-packages (from torch>=1.7->timm) (4.4.0)\n",
            "Requirement already satisfied: packaging>=20.9 in /usr/local/lib/python3.8/dist-packages (from huggingface-hub->timm) (21.3)\n",
            "Requirement already satisfied: tqdm>=4.42.1 in /usr/local/lib/python3.8/dist-packages (from huggingface-hub->timm) (4.64.1)\n",
            "Requirement already satisfied: requests in /usr/local/lib/python3.8/dist-packages (from huggingface-hub->timm) (2.25.1)\n",
            "Requirement already satisfied: filelock in /usr/local/lib/python3.8/dist-packages (from huggingface-hub->timm) (3.9.0)\n",
            "Requirement already satisfied: pillow!=8.3.*,>=5.3.0 in /usr/local/lib/python3.8/dist-packages (from torchvision->timm) (7.1.2)\n",
            "Requirement already satisfied: numpy in /usr/local/lib/python3.8/dist-packages (from torchvision->timm) (1.21.6)\n",
            "Requirement already satisfied: pyparsing!=3.0.5,>=2.0.2 in /usr/local/lib/python3.8/dist-packages (from packaging>=20.9->huggingface-hub->timm) (3.0.9)\n",
            "Requirement already satisfied: chardet<5,>=3.0.2 in /usr/local/lib/python3.8/dist-packages (from requests->huggingface-hub->timm) (4.0.0)\n",
            "Requirement already satisfied: idna<3,>=2.5 in /usr/local/lib/python3.8/dist-packages (from requests->huggingface-hub->timm) (2.10)\n",
            "Requirement already satisfied: urllib3<1.27,>=1.21.1 in /usr/local/lib/python3.8/dist-packages (from requests->huggingface-hub->timm) (1.24.3)\n",
            "Requirement already satisfied: certifi>=2017.4.17 in /usr/local/lib/python3.8/dist-packages (from requests->huggingface-hub->timm) (2022.12.7)\n",
            "Installing collected packages: huggingface-hub, timm\n",
            "Successfully installed huggingface-hub-0.12.0 timm-0.6.12\n",
            "Looking in indexes: https://pypi.org/simple, https://us-python.pkg.dev/colab-wheels/public/simple/\n",
            "Collecting grad-cam\n",
            "  Downloading grad-cam-1.4.6.tar.gz (7.8 MB)\n",
            "\u001b[2K     \u001b[90m━━━━━━━━━━━━━━━━━━━━━━━━━━━━━━━━━━━━━━━━\u001b[0m \u001b[32m7.8/7.8 MB\u001b[0m \u001b[31m26.0 MB/s\u001b[0m eta \u001b[36m0:00:00\u001b[0m\n",
            "\u001b[?25h  Installing build dependencies ... \u001b[?25l\u001b[?25hdone\n",
            "  Getting requirements to build wheel ... \u001b[?25l\u001b[?25hdone\n",
            "  Preparing metadata (pyproject.toml) ... \u001b[?25l\u001b[?25hdone\n",
            "Requirement already satisfied: numpy in /usr/local/lib/python3.8/dist-packages (from grad-cam) (1.21.6)\n",
            "Requirement already satisfied: matplotlib in /usr/local/lib/python3.8/dist-packages (from grad-cam) (3.2.2)\n",
            "Requirement already satisfied: tqdm in /usr/local/lib/python3.8/dist-packages (from grad-cam) (4.64.1)\n",
            "Requirement already satisfied: Pillow in /usr/local/lib/python3.8/dist-packages (from grad-cam) (7.1.2)\n",
            "Collecting ttach\n",
            "  Downloading ttach-0.0.3-py3-none-any.whl (9.8 kB)\n",
            "Requirement already satisfied: scikit-learn in /usr/local/lib/python3.8/dist-packages (from grad-cam) (1.0.2)\n",
            "Requirement already satisfied: torch>=1.7.1 in /usr/local/lib/python3.8/dist-packages (from grad-cam) (1.13.1+cu116)\n",
            "Requirement already satisfied: opencv-python in /usr/local/lib/python3.8/dist-packages (from grad-cam) (4.6.0.66)\n",
            "Requirement already satisfied: torchvision>=0.8.2 in /usr/local/lib/python3.8/dist-packages (from grad-cam) (0.14.1+cu116)\n",
            "Requirement already satisfied: typing-extensions in /usr/local/lib/python3.8/dist-packages (from torch>=1.7.1->grad-cam) (4.4.0)\n",
            "Requirement already satisfied: requests in /usr/local/lib/python3.8/dist-packages (from torchvision>=0.8.2->grad-cam) (2.25.1)\n",
            "Requirement already satisfied: cycler>=0.10 in /usr/local/lib/python3.8/dist-packages (from matplotlib->grad-cam) (0.11.0)\n",
            "Requirement already satisfied: kiwisolver>=1.0.1 in /usr/local/lib/python3.8/dist-packages (from matplotlib->grad-cam) (1.4.4)\n",
            "Requirement already satisfied: python-dateutil>=2.1 in /usr/local/lib/python3.8/dist-packages (from matplotlib->grad-cam) (2.8.2)\n",
            "Requirement already satisfied: pyparsing!=2.0.4,!=2.1.2,!=2.1.6,>=2.0.1 in /usr/local/lib/python3.8/dist-packages (from matplotlib->grad-cam) (3.0.9)\n",
            "Requirement already satisfied: scipy>=1.1.0 in /usr/local/lib/python3.8/dist-packages (from scikit-learn->grad-cam) (1.7.3)\n",
            "Requirement already satisfied: threadpoolctl>=2.0.0 in /usr/local/lib/python3.8/dist-packages (from scikit-learn->grad-cam) (3.1.0)\n",
            "Requirement already satisfied: joblib>=0.11 in /usr/local/lib/python3.8/dist-packages (from scikit-learn->grad-cam) (1.2.0)\n",
            "Requirement already satisfied: six>=1.5 in /usr/local/lib/python3.8/dist-packages (from python-dateutil>=2.1->matplotlib->grad-cam) (1.15.0)\n",
            "Requirement already satisfied: idna<3,>=2.5 in /usr/local/lib/python3.8/dist-packages (from requests->torchvision>=0.8.2->grad-cam) (2.10)\n",
            "Requirement already satisfied: chardet<5,>=3.0.2 in /usr/local/lib/python3.8/dist-packages (from requests->torchvision>=0.8.2->grad-cam) (4.0.0)\n",
            "Requirement already satisfied: certifi>=2017.4.17 in /usr/local/lib/python3.8/dist-packages (from requests->torchvision>=0.8.2->grad-cam) (2022.12.7)\n",
            "Requirement already satisfied: urllib3<1.27,>=1.21.1 in /usr/local/lib/python3.8/dist-packages (from requests->torchvision>=0.8.2->grad-cam) (1.24.3)\n",
            "Building wheels for collected packages: grad-cam\n",
            "  Building wheel for grad-cam (pyproject.toml) ... \u001b[?25l\u001b[?25hdone\n",
            "  Created wheel for grad-cam: filename=grad_cam-1.4.6-py3-none-any.whl size=38261 sha256=c7e147bcf78a20352723838b565d54ab9c14dd9ade6999f5a1ec11e4b23e2975\n",
            "  Stored in directory: /root/.cache/pip/wheels/53/02/43/1f75726b5c28459596067ad91e36951463c01273eef661f09f\n",
            "Successfully built grad-cam\n",
            "Installing collected packages: ttach, grad-cam\n",
            "Successfully installed grad-cam-1.4.6 ttach-0.0.3\n"
          ]
        }
      ],
      "source": [
        "# add needed dependencies\n",
        "import torch\n",
        "from train import *\n",
        "!pip install timm\n",
        "!pip install grad-cam"
      ]
    },
    {
      "cell_type": "code",
      "execution_count": null,
      "metadata": {
        "colab": {
          "base_uri": "https://localhost:8080/"
        },
        "id": "NrgpxzWxgfMH",
        "outputId": "2b334857-b763-475e-b18c-b1c855a4165a"
      },
      "outputs": [
        {
          "name": "stdout",
          "output_type": "stream",
          "text": [
            "Cloning into 'MaskTune_NN'...\n",
            "remote: Enumerating objects: 223, done.\u001b[K\n",
            "remote: Counting objects: 100% (19/19), done.\u001b[K\n",
            "remote: Compressing objects: 100% (15/15), done.\u001b[K\n",
            "remote: Total 223 (delta 6), reused 10 (delta 4), pack-reused 204\u001b[K\n",
            "Receiving objects: 100% (223/223), 14.81 MiB | 16.83 MiB/s, done.\n",
            "Resolving deltas: 100% (100/100), done.\n"
          ]
        }
      ],
      "source": [
        "# Clone the repository\n",
        "!git clone https://github.com/Giordano-Cicchetti/MaskTune_NN/\n",
        "!cp MaskTune_NN/CIFAR10/* /content -r\n",
        "!rm MaskTune_NN/ -r"
      ]
    },
    {
      "cell_type": "code",
      "execution_count": null,
      "metadata": {
        "colab": {
          "base_uri": "https://localhost:8080/"
        },
        "id": "i-R0bUxUhQ9y",
        "outputId": "3ea27aba-04fa-412d-f293-15bc7292e827"
      },
      "outputs": [
        {
          "data": {
            "text/plain": [
              "device(type='cuda')"
            ]
          },
          "execution_count": 1,
          "metadata": {},
          "output_type": "execute_result"
        }
      ],
      "source": [
        "# Device configuration\n",
        "device = torch.device('cuda' if torch.cuda.is_available() else 'cpu')\n",
        "device"
      ]
    },
    {
      "cell_type": "markdown",
      "metadata": {
        "id": "3KTLrMkRGn_i"
      },
      "source": [
        "The following instruction build the datasets and the data loaders used in this work."
      ]
    },
    {
      "cell_type": "code",
      "execution_count": null,
      "metadata": {
        "colab": {
          "base_uri": "https://localhost:8080/"
        },
        "id": "MVTui7lug_Jn",
        "outputId": "cea7e7e0-0656-4a15-94ad-f901263e8bbf"
      },
      "outputs": [
        {
          "name": "stdout",
          "output_type": "stream",
          "text": [
            "Files already downloaded and verified\n",
            "Files already downloaded and verified\n",
            "Files already downloaded and verified\n"
          ]
        }
      ],
      "source": [
        "# Build an instance of the class Cifar10Train\n",
        "C10train = Cifar10Train(device=device)"
      ]
    },
    {
      "cell_type": "markdown",
      "metadata": {
        "id": "WmjlqYYrHDdx"
      },
      "source": [
        "The used network is a **ResNet-32**. ResNet-32 is a convolutional neural network that is based on ResNet architecture and, as suggested by the name, ResNet-32 has 32 layers.<br>\n",
        "The network is trained from scratch for 300 epochs."
      ]
    },
    {
      "cell_type": "markdown",
      "metadata": {
        "id": "VG9pJEB1Mj6t"
      },
      "source": [
        "Code for training phase and testing phase can be studied in the file <a href=\"https://github.com/Giordano-Cicchetti/MaskTune_NN/blob/main/CIFAR10/train.py\">CIFAR10/train.py</a>"
      ]
    },
    {
      "attachments": {},
      "cell_type": "markdown",
      "metadata": {
        "id": "hOf6upDrGynC"
      },
      "source": [
        "#### Training"
      ]
    },
    {
      "cell_type": "markdown",
      "metadata": {
        "id": "r3t4AKZLJfFS"
      },
      "source": [
        "Parameters:\n",
        "\n",
        "\n",
        "*   learning rate ⇒ 0.1\n",
        "*   learning rate cut ⇒ halved for every 25 epochs\n",
        "*   momentum ⇒ 0.9\n",
        "*   weight decay ⇒ 0.0001\n",
        "*   batch size ⇒ 128  \n",
        "\n",
        "\n"
      ]
    },
    {
      "cell_type": "code",
      "execution_count": null,
      "metadata": {
        "colab": {
          "base_uri": "https://localhost:8080/"
        },
        "id": "zyAHATSLiY4_",
        "outputId": "4548272f-6845-44c1-dc48-e2ca2aa73fd4"
      },
      "outputs": [
        {
          "name": "stderr",
          "output_type": "stream",
          "text": [
            "train epoch 0: 100%|██████████| 313/313 [00:20<00:00, 15.20it/s, loss=2.36, accuracy=0.154]\n",
            "validation epoch 0: 100%|██████████| 79/79 [00:02<00:00, 31.23it/s, loss=1.94, accuracy=0.248]\n"
          ]
        },
        {
          "name": "stdout",
          "output_type": "stream",
          "text": [
            "lr: 0.1\n"
          ]
        },
        {
          "name": "stderr",
          "output_type": "stream",
          "text": [
            "train epoch 1: 100%|██████████| 313/313 [00:18<00:00, 16.74it/s, loss=1.76, accuracy=0.322]\n",
            "validation epoch 1: 100%|██████████| 79/79 [00:02<00:00, 32.65it/s, loss=1.56, accuracy=0.421]\n"
          ]
        },
        {
          "name": "stdout",
          "output_type": "stream",
          "text": [
            "lr: 0.1\n"
          ]
        },
        {
          "name": "stderr",
          "output_type": "stream",
          "text": [
            "train epoch 2: 100%|██████████| 313/313 [00:19<00:00, 15.93it/s, loss=1.49, accuracy=0.451]\n",
            "validation epoch 2: 100%|██████████| 79/79 [00:02<00:00, 31.38it/s, loss=1.38, accuracy=0.498]\n"
          ]
        },
        {
          "name": "stdout",
          "output_type": "stream",
          "text": [
            "lr: 0.1\n"
          ]
        },
        {
          "name": "stderr",
          "output_type": "stream",
          "text": [
            "train epoch 3: 100%|██████████| 313/313 [00:18<00:00, 16.81it/s, loss=1.28, accuracy=0.536]\n",
            "validation epoch 3: 100%|██████████| 79/79 [00:02<00:00, 31.03it/s, loss=1.47, accuracy=0.513]\n"
          ]
        },
        {
          "name": "stdout",
          "output_type": "stream",
          "text": [
            "lr: 0.1\n"
          ]
        },
        {
          "name": "stderr",
          "output_type": "stream",
          "text": [
            "train epoch 4: 100%|██████████| 313/313 [00:19<00:00, 16.29it/s, loss=1.15, accuracy=0.587]\n",
            "validation epoch 4: 100%|██████████| 79/79 [00:02<00:00, 31.36it/s, loss=1.21, accuracy=0.563]\n"
          ]
        },
        {
          "name": "stdout",
          "output_type": "stream",
          "text": [
            "lr: 0.1\n"
          ]
        },
        {
          "name": "stderr",
          "output_type": "stream",
          "text": [
            "train epoch 5: 100%|██████████| 313/313 [00:18<00:00, 17.07it/s, loss=1.04, accuracy=0.63]\n",
            "validation epoch 5: 100%|██████████| 79/79 [00:02<00:00, 30.85it/s, loss=0.983, accuracy=0.651]\n"
          ]
        },
        {
          "name": "stdout",
          "output_type": "stream",
          "text": [
            "lr: 0.1\n"
          ]
        },
        {
          "name": "stderr",
          "output_type": "stream",
          "text": [
            "train epoch 6: 100%|██████████| 313/313 [00:18<00:00, 16.93it/s, loss=0.953, accuracy=0.662]\n",
            "validation epoch 6: 100%|██████████| 79/79 [00:02<00:00, 32.39it/s, loss=0.907, accuracy=0.687]\n"
          ]
        },
        {
          "name": "stdout",
          "output_type": "stream",
          "text": [
            "lr: 0.1\n"
          ]
        },
        {
          "name": "stderr",
          "output_type": "stream",
          "text": [
            "train epoch 7: 100%|██████████| 313/313 [00:18<00:00, 16.89it/s, loss=0.873, accuracy=0.693]\n",
            "validation epoch 7: 100%|██████████| 79/79 [00:02<00:00, 31.55it/s, loss=0.852, accuracy=0.711]\n"
          ]
        },
        {
          "name": "stdout",
          "output_type": "stream",
          "text": [
            "lr: 0.1\n"
          ]
        },
        {
          "name": "stderr",
          "output_type": "stream",
          "text": [
            "train epoch 8: 100%|██████████| 313/313 [00:18<00:00, 17.08it/s, loss=0.806, accuracy=0.719]\n",
            "validation epoch 8: 100%|██████████| 79/79 [00:02<00:00, 32.03it/s, loss=0.786, accuracy=0.727]\n"
          ]
        },
        {
          "name": "stdout",
          "output_type": "stream",
          "text": [
            "lr: 0.1\n"
          ]
        },
        {
          "name": "stderr",
          "output_type": "stream",
          "text": [
            "train epoch 9: 100%|██████████| 313/313 [00:18<00:00, 16.76it/s, loss=0.765, accuracy=0.731]\n",
            "validation epoch 9: 100%|██████████| 79/79 [00:02<00:00, 31.24it/s, loss=0.822, accuracy=0.724]\n"
          ]
        },
        {
          "name": "stdout",
          "output_type": "stream",
          "text": [
            "lr: 0.1\n"
          ]
        },
        {
          "name": "stderr",
          "output_type": "stream",
          "text": [
            "train epoch 10: 100%|██████████| 313/313 [00:18<00:00, 16.76it/s, loss=0.728, accuracy=0.747]\n",
            "validation epoch 10: 100%|██████████| 79/79 [00:02<00:00, 31.69it/s, loss=0.891, accuracy=0.709]\n"
          ]
        },
        {
          "name": "stdout",
          "output_type": "stream",
          "text": [
            "lr: 0.1\n"
          ]
        },
        {
          "name": "stderr",
          "output_type": "stream",
          "text": [
            "train epoch 11: 100%|██████████| 313/313 [00:18<00:00, 16.92it/s, loss=0.689, accuracy=0.76]\n",
            "validation epoch 11: 100%|██████████| 79/79 [00:02<00:00, 32.42it/s, loss=0.641, accuracy=0.779]\n"
          ]
        },
        {
          "name": "stdout",
          "output_type": "stream",
          "text": [
            "lr: 0.1\n"
          ]
        },
        {
          "name": "stderr",
          "output_type": "stream",
          "text": [
            "train epoch 12: 100%|██████████| 313/313 [00:18<00:00, 16.74it/s, loss=0.666, accuracy=0.767]\n",
            "validation epoch 12: 100%|██████████| 79/79 [00:02<00:00, 31.45it/s, loss=0.824, accuracy=0.732]\n"
          ]
        },
        {
          "name": "stdout",
          "output_type": "stream",
          "text": [
            "lr: 0.1\n"
          ]
        },
        {
          "name": "stderr",
          "output_type": "stream",
          "text": [
            "train epoch 13: 100%|██████████| 313/313 [00:18<00:00, 16.83it/s, loss=0.633, accuracy=0.78]\n",
            "validation epoch 13: 100%|██████████| 79/79 [00:02<00:00, 31.50it/s, loss=0.633, accuracy=0.78]\n"
          ]
        },
        {
          "name": "stdout",
          "output_type": "stream",
          "text": [
            "lr: 0.1\n"
          ]
        },
        {
          "name": "stderr",
          "output_type": "stream",
          "text": [
            "train epoch 14: 100%|██████████| 313/313 [00:19<00:00, 15.95it/s, loss=0.62, accuracy=0.783]\n",
            "validation epoch 14: 100%|██████████| 79/79 [00:02<00:00, 31.98it/s, loss=0.677, accuracy=0.771]\n"
          ]
        },
        {
          "name": "stdout",
          "output_type": "stream",
          "text": [
            "lr: 0.1\n"
          ]
        },
        {
          "name": "stderr",
          "output_type": "stream",
          "text": [
            "train epoch 15: 100%|██████████| 313/313 [00:18<00:00, 16.86it/s, loss=0.599, accuracy=0.792]\n",
            "validation epoch 15: 100%|██████████| 79/79 [00:02<00:00, 31.18it/s, loss=0.707, accuracy=0.767]\n"
          ]
        },
        {
          "name": "stdout",
          "output_type": "stream",
          "text": [
            "lr: 0.1\n"
          ]
        },
        {
          "name": "stderr",
          "output_type": "stream",
          "text": [
            "train epoch 16: 100%|██████████| 313/313 [00:18<00:00, 16.69it/s, loss=0.575, accuracy=0.8]\n",
            "validation epoch 16: 100%|██████████| 79/79 [00:02<00:00, 32.09it/s, loss=0.664, accuracy=0.776]\n"
          ]
        },
        {
          "name": "stdout",
          "output_type": "stream",
          "text": [
            "lr: 0.1\n"
          ]
        },
        {
          "name": "stderr",
          "output_type": "stream",
          "text": [
            "train epoch 17: 100%|██████████| 313/313 [00:18<00:00, 16.72it/s, loss=0.564, accuracy=0.804]\n",
            "validation epoch 17: 100%|██████████| 79/79 [00:02<00:00, 31.05it/s, loss=0.731, accuracy=0.758]\n"
          ]
        },
        {
          "name": "stdout",
          "output_type": "stream",
          "text": [
            "lr: 0.1\n"
          ]
        },
        {
          "name": "stderr",
          "output_type": "stream",
          "text": [
            "train epoch 18: 100%|██████████| 313/313 [00:18<00:00, 16.77it/s, loss=0.553, accuracy=0.809]\n",
            "validation epoch 18: 100%|██████████| 79/79 [00:02<00:00, 31.92it/s, loss=0.769, accuracy=0.749]\n"
          ]
        },
        {
          "name": "stdout",
          "output_type": "stream",
          "text": [
            "lr: 0.1\n"
          ]
        },
        {
          "name": "stderr",
          "output_type": "stream",
          "text": [
            "train epoch 19: 100%|██████████| 313/313 [00:18<00:00, 16.83it/s, loss=0.533, accuracy=0.813]\n",
            "validation epoch 19: 100%|██████████| 79/79 [00:02<00:00, 30.40it/s, loss=0.633, accuracy=0.789]\n"
          ]
        },
        {
          "name": "stdout",
          "output_type": "stream",
          "text": [
            "lr: 0.1\n"
          ]
        },
        {
          "name": "stderr",
          "output_type": "stream",
          "text": [
            "train epoch 20: 100%|██████████| 313/313 [00:18<00:00, 16.80it/s, loss=0.515, accuracy=0.821]\n",
            "validation epoch 20: 100%|██████████| 79/79 [00:02<00:00, 32.21it/s, loss=0.69, accuracy=0.772]\n"
          ]
        },
        {
          "name": "stdout",
          "output_type": "stream",
          "text": [
            "lr: 0.1\n"
          ]
        },
        {
          "name": "stderr",
          "output_type": "stream",
          "text": [
            "train epoch 21: 100%|██████████| 313/313 [00:18<00:00, 16.78it/s, loss=0.51, accuracy=0.822]\n",
            "validation epoch 21: 100%|██████████| 79/79 [00:02<00:00, 31.85it/s, loss=0.558, accuracy=0.813]\n"
          ]
        },
        {
          "name": "stdout",
          "output_type": "stream",
          "text": [
            "lr: 0.1\n"
          ]
        },
        {
          "name": "stderr",
          "output_type": "stream",
          "text": [
            "train epoch 22: 100%|██████████| 313/313 [00:18<00:00, 16.82it/s, loss=0.496, accuracy=0.828]\n",
            "validation epoch 22: 100%|██████████| 79/79 [00:02<00:00, 32.06it/s, loss=0.558, accuracy=0.808]\n"
          ]
        },
        {
          "name": "stdout",
          "output_type": "stream",
          "text": [
            "lr: 0.1\n"
          ]
        },
        {
          "name": "stderr",
          "output_type": "stream",
          "text": [
            "train epoch 23: 100%|██████████| 313/313 [00:19<00:00, 15.90it/s, loss=0.487, accuracy=0.831]\n",
            "validation epoch 23: 100%|██████████| 79/79 [00:02<00:00, 30.72it/s, loss=0.527, accuracy=0.82]\n"
          ]
        },
        {
          "name": "stdout",
          "output_type": "stream",
          "text": [
            "lr: 0.1\n"
          ]
        },
        {
          "name": "stderr",
          "output_type": "stream",
          "text": [
            "train epoch 24: 100%|██████████| 313/313 [00:18<00:00, 16.80it/s, loss=0.478, accuracy=0.834]\n",
            "validation epoch 24: 100%|██████████| 79/79 [00:02<00:00, 30.73it/s, loss=0.517, accuracy=0.828]\n"
          ]
        },
        {
          "name": "stdout",
          "output_type": "stream",
          "text": [
            "lr: 0.05\n"
          ]
        },
        {
          "name": "stderr",
          "output_type": "stream",
          "text": [
            "train epoch 25: 100%|██████████| 313/313 [00:18<00:00, 16.79it/s, loss=0.398, accuracy=0.861]\n",
            "validation epoch 25: 100%|██████████| 79/79 [00:02<00:00, 32.43it/s, loss=0.443, accuracy=0.85]\n"
          ]
        },
        {
          "name": "stdout",
          "output_type": "stream",
          "text": [
            "lr: 0.05\n"
          ]
        },
        {
          "name": "stderr",
          "output_type": "stream",
          "text": [
            "train epoch 26: 100%|██████████| 313/313 [00:18<00:00, 16.94it/s, loss=0.38, accuracy=0.867]\n",
            "validation epoch 26: 100%|██████████| 79/79 [00:02<00:00, 30.84it/s, loss=0.44, accuracy=0.854]\n"
          ]
        },
        {
          "name": "stdout",
          "output_type": "stream",
          "text": [
            "lr: 0.05\n"
          ]
        },
        {
          "name": "stderr",
          "output_type": "stream",
          "text": [
            "train epoch 27: 100%|██████████| 313/313 [00:18<00:00, 16.76it/s, loss=0.372, accuracy=0.869]\n",
            "validation epoch 27: 100%|██████████| 79/79 [00:02<00:00, 31.79it/s, loss=0.469, accuracy=0.843]\n"
          ]
        },
        {
          "name": "stdout",
          "output_type": "stream",
          "text": [
            "lr: 0.05\n"
          ]
        },
        {
          "name": "stderr",
          "output_type": "stream",
          "text": [
            "train epoch 28: 100%|██████████| 313/313 [00:18<00:00, 16.77it/s, loss=0.364, accuracy=0.872]\n",
            "validation epoch 28: 100%|██████████| 79/79 [00:02<00:00, 30.86it/s, loss=0.432, accuracy=0.856]\n"
          ]
        },
        {
          "name": "stdout",
          "output_type": "stream",
          "text": [
            "lr: 0.05\n"
          ]
        },
        {
          "name": "stderr",
          "output_type": "stream",
          "text": [
            "train epoch 29: 100%|██████████| 313/313 [00:18<00:00, 16.73it/s, loss=0.363, accuracy=0.873]\n",
            "validation epoch 29: 100%|██████████| 79/79 [00:02<00:00, 30.94it/s, loss=0.457, accuracy=0.844]\n"
          ]
        },
        {
          "name": "stdout",
          "output_type": "stream",
          "text": [
            "lr: 0.05\n"
          ]
        },
        {
          "name": "stderr",
          "output_type": "stream",
          "text": [
            "train epoch 30: 100%|██████████| 313/313 [00:18<00:00, 16.66it/s, loss=0.357, accuracy=0.876]\n",
            "validation epoch 30: 100%|██████████| 79/79 [00:02<00:00, 32.35it/s, loss=0.45, accuracy=0.854]\n"
          ]
        },
        {
          "name": "stdout",
          "output_type": "stream",
          "text": [
            "lr: 0.05\n"
          ]
        },
        {
          "name": "stderr",
          "output_type": "stream",
          "text": [
            "train epoch 31: 100%|██████████| 313/313 [00:18<00:00, 16.87it/s, loss=0.348, accuracy=0.879]\n",
            "validation epoch 31: 100%|██████████| 79/79 [00:02<00:00, 32.46it/s, loss=0.459, accuracy=0.85]\n"
          ]
        },
        {
          "name": "stdout",
          "output_type": "stream",
          "text": [
            "lr: 0.05\n"
          ]
        },
        {
          "name": "stderr",
          "output_type": "stream",
          "text": [
            "train epoch 32: 100%|██████████| 313/313 [00:18<00:00, 16.89it/s, loss=0.345, accuracy=0.88]\n",
            "validation epoch 32: 100%|██████████| 79/79 [00:02<00:00, 32.14it/s, loss=0.44, accuracy=0.854]\n"
          ]
        },
        {
          "name": "stdout",
          "output_type": "stream",
          "text": [
            "lr: 0.05\n"
          ]
        },
        {
          "name": "stderr",
          "output_type": "stream",
          "text": [
            "train epoch 33: 100%|██████████| 313/313 [00:19<00:00, 16.11it/s, loss=0.341, accuracy=0.881]\n",
            "validation epoch 33: 100%|██████████| 79/79 [00:02<00:00, 31.56it/s, loss=0.477, accuracy=0.849]\n"
          ]
        },
        {
          "name": "stdout",
          "output_type": "stream",
          "text": [
            "lr: 0.05\n"
          ]
        },
        {
          "name": "stderr",
          "output_type": "stream",
          "text": [
            "train epoch 34: 100%|██████████| 313/313 [00:18<00:00, 16.69it/s, loss=0.338, accuracy=0.883]\n",
            "validation epoch 34: 100%|██████████| 79/79 [00:02<00:00, 30.65it/s, loss=0.448, accuracy=0.858]\n"
          ]
        },
        {
          "name": "stdout",
          "output_type": "stream",
          "text": [
            "lr: 0.05\n"
          ]
        },
        {
          "name": "stderr",
          "output_type": "stream",
          "text": [
            "train epoch 35: 100%|██████████| 313/313 [00:18<00:00, 16.77it/s, loss=0.337, accuracy=0.882]\n",
            "validation epoch 35: 100%|██████████| 79/79 [00:02<00:00, 30.26it/s, loss=0.446, accuracy=0.852]\n"
          ]
        },
        {
          "name": "stdout",
          "output_type": "stream",
          "text": [
            "lr: 0.05\n"
          ]
        },
        {
          "name": "stderr",
          "output_type": "stream",
          "text": [
            "train epoch 36: 100%|██████████| 313/313 [00:18<00:00, 16.62it/s, loss=0.33, accuracy=0.882]\n",
            "validation epoch 36: 100%|██████████| 79/79 [00:02<00:00, 30.75it/s, loss=0.518, accuracy=0.838]\n"
          ]
        },
        {
          "name": "stdout",
          "output_type": "stream",
          "text": [
            "lr: 0.05\n"
          ]
        },
        {
          "name": "stderr",
          "output_type": "stream",
          "text": [
            "train epoch 37: 100%|██████████| 313/313 [00:18<00:00, 16.71it/s, loss=0.332, accuracy=0.882]\n",
            "validation epoch 37: 100%|██████████| 79/79 [00:02<00:00, 31.43it/s, loss=0.496, accuracy=0.844]\n"
          ]
        },
        {
          "name": "stdout",
          "output_type": "stream",
          "text": [
            "lr: 0.05\n"
          ]
        },
        {
          "name": "stderr",
          "output_type": "stream",
          "text": [
            "train epoch 38: 100%|██████████| 313/313 [00:18<00:00, 17.04it/s, loss=0.326, accuracy=0.885]\n",
            "validation epoch 38: 100%|██████████| 79/79 [00:02<00:00, 31.05it/s, loss=0.417, accuracy=0.861]\n"
          ]
        },
        {
          "name": "stdout",
          "output_type": "stream",
          "text": [
            "lr: 0.05\n"
          ]
        },
        {
          "name": "stderr",
          "output_type": "stream",
          "text": [
            "train epoch 39: 100%|██████████| 313/313 [00:18<00:00, 16.93it/s, loss=0.323, accuracy=0.886]\n",
            "validation epoch 39: 100%|██████████| 79/79 [00:02<00:00, 32.05it/s, loss=0.401, accuracy=0.866]\n"
          ]
        },
        {
          "name": "stdout",
          "output_type": "stream",
          "text": [
            "lr: 0.05\n"
          ]
        },
        {
          "name": "stderr",
          "output_type": "stream",
          "text": [
            "train epoch 40: 100%|██████████| 313/313 [00:18<00:00, 16.84it/s, loss=0.319, accuracy=0.886]\n",
            "validation epoch 40: 100%|██████████| 79/79 [00:02<00:00, 30.33it/s, loss=0.446, accuracy=0.857]\n"
          ]
        },
        {
          "name": "stdout",
          "output_type": "stream",
          "text": [
            "lr: 0.05\n"
          ]
        },
        {
          "name": "stderr",
          "output_type": "stream",
          "text": [
            "train epoch 41: 100%|██████████| 313/313 [00:18<00:00, 16.59it/s, loss=0.326, accuracy=0.886]\n",
            "validation epoch 41: 100%|██████████| 79/79 [00:02<00:00, 31.14it/s, loss=0.418, accuracy=0.862]\n"
          ]
        },
        {
          "name": "stdout",
          "output_type": "stream",
          "text": [
            "lr: 0.05\n"
          ]
        },
        {
          "name": "stderr",
          "output_type": "stream",
          "text": [
            "train epoch 42: 100%|██████████| 313/313 [00:19<00:00, 15.94it/s, loss=0.313, accuracy=0.89]\n",
            "validation epoch 42: 100%|██████████| 79/79 [00:02<00:00, 29.81it/s, loss=0.443, accuracy=0.859]\n"
          ]
        },
        {
          "name": "stdout",
          "output_type": "stream",
          "text": [
            "lr: 0.05\n"
          ]
        },
        {
          "name": "stderr",
          "output_type": "stream",
          "text": [
            "train epoch 43: 100%|██████████| 313/313 [00:18<00:00, 16.97it/s, loss=0.31, accuracy=0.892]\n",
            "validation epoch 43: 100%|██████████| 79/79 [00:02<00:00, 31.53it/s, loss=0.46, accuracy=0.854]\n"
          ]
        },
        {
          "name": "stdout",
          "output_type": "stream",
          "text": [
            "lr: 0.05\n"
          ]
        },
        {
          "name": "stderr",
          "output_type": "stream",
          "text": [
            "train epoch 44: 100%|██████████| 313/313 [00:18<00:00, 16.80it/s, loss=0.312, accuracy=0.891]\n",
            "validation epoch 44: 100%|██████████| 79/79 [00:02<00:00, 31.58it/s, loss=0.405, accuracy=0.868]\n"
          ]
        },
        {
          "name": "stdout",
          "output_type": "stream",
          "text": [
            "lr: 0.05\n"
          ]
        },
        {
          "name": "stderr",
          "output_type": "stream",
          "text": [
            "train epoch 45: 100%|██████████| 313/313 [00:18<00:00, 16.94it/s, loss=0.307, accuracy=0.892]\n",
            "validation epoch 45: 100%|██████████| 79/79 [00:02<00:00, 31.00it/s, loss=0.446, accuracy=0.857]\n"
          ]
        },
        {
          "name": "stdout",
          "output_type": "stream",
          "text": [
            "lr: 0.05\n"
          ]
        },
        {
          "name": "stderr",
          "output_type": "stream",
          "text": [
            "train epoch 46: 100%|██████████| 313/313 [00:18<00:00, 16.63it/s, loss=0.301, accuracy=0.894]\n",
            "validation epoch 46: 100%|██████████| 79/79 [00:02<00:00, 31.39it/s, loss=0.475, accuracy=0.855]\n"
          ]
        },
        {
          "name": "stdout",
          "output_type": "stream",
          "text": [
            "lr: 0.05\n"
          ]
        },
        {
          "name": "stderr",
          "output_type": "stream",
          "text": [
            "train epoch 47: 100%|██████████| 313/313 [00:18<00:00, 16.86it/s, loss=0.305, accuracy=0.892]\n",
            "validation epoch 47: 100%|██████████| 79/79 [00:02<00:00, 31.45it/s, loss=0.509, accuracy=0.848]\n"
          ]
        },
        {
          "name": "stdout",
          "output_type": "stream",
          "text": [
            "lr: 0.05\n"
          ]
        },
        {
          "name": "stderr",
          "output_type": "stream",
          "text": [
            "train epoch 48: 100%|██████████| 313/313 [00:18<00:00, 16.82it/s, loss=0.3, accuracy=0.894]\n",
            "validation epoch 48: 100%|██████████| 79/79 [00:02<00:00, 31.75it/s, loss=0.416, accuracy=0.863]\n"
          ]
        },
        {
          "name": "stdout",
          "output_type": "stream",
          "text": [
            "lr: 0.05\n"
          ]
        },
        {
          "name": "stderr",
          "output_type": "stream",
          "text": [
            "train epoch 49: 100%|██████████| 313/313 [00:18<00:00, 16.99it/s, loss=0.299, accuracy=0.895]\n",
            "validation epoch 49: 100%|██████████| 79/79 [00:02<00:00, 32.22it/s, loss=0.439, accuracy=0.856]\n"
          ]
        },
        {
          "name": "stdout",
          "output_type": "stream",
          "text": [
            "lr: 0.025\n"
          ]
        },
        {
          "name": "stderr",
          "output_type": "stream",
          "text": [
            "train epoch 50: 100%|██████████| 313/313 [00:18<00:00, 16.95it/s, loss=0.235, accuracy=0.917]\n",
            "validation epoch 50: 100%|██████████| 79/79 [00:02<00:00, 31.39it/s, loss=0.375, accuracy=0.881]\n"
          ]
        },
        {
          "name": "stdout",
          "output_type": "stream",
          "text": [
            "lr: 0.025\n"
          ]
        },
        {
          "name": "stderr",
          "output_type": "stream",
          "text": [
            "train epoch 51: 100%|██████████| 313/313 [00:18<00:00, 17.06it/s, loss=0.219, accuracy=0.924]\n",
            "validation epoch 51: 100%|██████████| 79/79 [00:02<00:00, 30.09it/s, loss=0.369, accuracy=0.883]\n"
          ]
        },
        {
          "name": "stdout",
          "output_type": "stream",
          "text": [
            "lr: 0.025\n"
          ]
        },
        {
          "name": "stderr",
          "output_type": "stream",
          "text": [
            "train epoch 52: 100%|██████████| 313/313 [00:19<00:00, 16.28it/s, loss=0.217, accuracy=0.924]\n",
            "validation epoch 52: 100%|██████████| 79/79 [00:02<00:00, 31.65it/s, loss=0.409, accuracy=0.871]\n"
          ]
        },
        {
          "name": "stdout",
          "output_type": "stream",
          "text": [
            "lr: 0.025\n"
          ]
        },
        {
          "name": "stderr",
          "output_type": "stream",
          "text": [
            "train epoch 53: 100%|██████████| 313/313 [00:18<00:00, 17.04it/s, loss=0.209, accuracy=0.925]\n",
            "validation epoch 53: 100%|██████████| 79/79 [00:02<00:00, 31.91it/s, loss=0.391, accuracy=0.881]\n"
          ]
        },
        {
          "name": "stdout",
          "output_type": "stream",
          "text": [
            "lr: 0.025\n"
          ]
        },
        {
          "name": "stderr",
          "output_type": "stream",
          "text": [
            "train epoch 54: 100%|██████████| 313/313 [00:18<00:00, 17.01it/s, loss=0.208, accuracy=0.927]\n",
            "validation epoch 54: 100%|██████████| 79/79 [00:02<00:00, 31.76it/s, loss=0.431, accuracy=0.875]\n"
          ]
        },
        {
          "name": "stdout",
          "output_type": "stream",
          "text": [
            "lr: 0.025\n"
          ]
        },
        {
          "name": "stderr",
          "output_type": "stream",
          "text": [
            "train epoch 55: 100%|██████████| 313/313 [00:18<00:00, 16.90it/s, loss=0.206, accuracy=0.927]\n",
            "validation epoch 55: 100%|██████████| 79/79 [00:02<00:00, 31.35it/s, loss=0.418, accuracy=0.879]\n"
          ]
        },
        {
          "name": "stdout",
          "output_type": "stream",
          "text": [
            "lr: 0.025\n"
          ]
        },
        {
          "name": "stderr",
          "output_type": "stream",
          "text": [
            "train epoch 56: 100%|██████████| 313/313 [00:18<00:00, 16.66it/s, loss=0.204, accuracy=0.928]\n",
            "validation epoch 56: 100%|██████████| 79/79 [00:02<00:00, 31.35it/s, loss=0.447, accuracy=0.867]\n"
          ]
        },
        {
          "name": "stdout",
          "output_type": "stream",
          "text": [
            "lr: 0.025\n"
          ]
        },
        {
          "name": "stderr",
          "output_type": "stream",
          "text": [
            "train epoch 57: 100%|██████████| 313/313 [00:18<00:00, 16.84it/s, loss=0.205, accuracy=0.926]\n",
            "validation epoch 57: 100%|██████████| 79/79 [00:02<00:00, 31.50it/s, loss=0.391, accuracy=0.88]\n"
          ]
        },
        {
          "name": "stdout",
          "output_type": "stream",
          "text": [
            "lr: 0.025\n"
          ]
        },
        {
          "name": "stderr",
          "output_type": "stream",
          "text": [
            "train epoch 58: 100%|██████████| 313/313 [00:18<00:00, 16.81it/s, loss=0.204, accuracy=0.93]\n",
            "validation epoch 58: 100%|██████████| 79/79 [00:02<00:00, 31.66it/s, loss=0.409, accuracy=0.881]\n"
          ]
        },
        {
          "name": "stdout",
          "output_type": "stream",
          "text": [
            "lr: 0.025\n"
          ]
        },
        {
          "name": "stderr",
          "output_type": "stream",
          "text": [
            "train epoch 59: 100%|██████████| 313/313 [00:18<00:00, 16.60it/s, loss=0.203, accuracy=0.928]\n",
            "validation epoch 59: 100%|██████████| 79/79 [00:02<00:00, 30.84it/s, loss=0.428, accuracy=0.873]\n"
          ]
        },
        {
          "name": "stdout",
          "output_type": "stream",
          "text": [
            "lr: 0.025\n"
          ]
        },
        {
          "name": "stderr",
          "output_type": "stream",
          "text": [
            "train epoch 60: 100%|██████████| 313/313 [00:18<00:00, 16.96it/s, loss=0.209, accuracy=0.925]\n",
            "validation epoch 60: 100%|██████████| 79/79 [00:02<00:00, 30.59it/s, loss=0.397, accuracy=0.875]\n"
          ]
        },
        {
          "name": "stdout",
          "output_type": "stream",
          "text": [
            "lr: 0.025\n"
          ]
        },
        {
          "name": "stderr",
          "output_type": "stream",
          "text": [
            "train epoch 61: 100%|██████████| 313/313 [00:19<00:00, 16.19it/s, loss=0.2, accuracy=0.93]\n",
            "validation epoch 61: 100%|██████████| 79/79 [00:02<00:00, 31.64it/s, loss=0.412, accuracy=0.878]\n"
          ]
        },
        {
          "name": "stdout",
          "output_type": "stream",
          "text": [
            "lr: 0.025\n"
          ]
        },
        {
          "name": "stderr",
          "output_type": "stream",
          "text": [
            "train epoch 62: 100%|██████████| 313/313 [00:18<00:00, 16.85it/s, loss=0.196, accuracy=0.93]\n",
            "validation epoch 62: 100%|██████████| 79/79 [00:02<00:00, 30.52it/s, loss=0.381, accuracy=0.886]\n"
          ]
        },
        {
          "name": "stdout",
          "output_type": "stream",
          "text": [
            "lr: 0.025\n"
          ]
        },
        {
          "name": "stderr",
          "output_type": "stream",
          "text": [
            "train epoch 63: 100%|██████████| 313/313 [00:18<00:00, 16.82it/s, loss=0.198, accuracy=0.929]\n",
            "validation epoch 63: 100%|██████████| 79/79 [00:02<00:00, 31.39it/s, loss=0.432, accuracy=0.872]\n"
          ]
        },
        {
          "name": "stdout",
          "output_type": "stream",
          "text": [
            "lr: 0.025\n"
          ]
        },
        {
          "name": "stderr",
          "output_type": "stream",
          "text": [
            "train epoch 64: 100%|██████████| 313/313 [00:18<00:00, 16.97it/s, loss=0.196, accuracy=0.929]\n",
            "validation epoch 64: 100%|██████████| 79/79 [00:02<00:00, 31.74it/s, loss=0.436, accuracy=0.871]\n"
          ]
        },
        {
          "name": "stdout",
          "output_type": "stream",
          "text": [
            "lr: 0.025\n"
          ]
        },
        {
          "name": "stderr",
          "output_type": "stream",
          "text": [
            "train epoch 65: 100%|██████████| 313/313 [00:18<00:00, 16.93it/s, loss=0.193, accuracy=0.932]\n",
            "validation epoch 65: 100%|██████████| 79/79 [00:02<00:00, 31.67it/s, loss=0.382, accuracy=0.885]\n"
          ]
        },
        {
          "name": "stdout",
          "output_type": "stream",
          "text": [
            "lr: 0.025\n"
          ]
        },
        {
          "name": "stderr",
          "output_type": "stream",
          "text": [
            "train epoch 66: 100%|██████████| 313/313 [00:18<00:00, 16.87it/s, loss=0.192, accuracy=0.932]\n",
            "validation epoch 66: 100%|██████████| 79/79 [00:02<00:00, 31.63it/s, loss=0.451, accuracy=0.874]\n"
          ]
        },
        {
          "name": "stdout",
          "output_type": "stream",
          "text": [
            "lr: 0.025\n"
          ]
        },
        {
          "name": "stderr",
          "output_type": "stream",
          "text": [
            "train epoch 67: 100%|██████████| 313/313 [00:18<00:00, 16.96it/s, loss=0.192, accuracy=0.931]\n",
            "validation epoch 67: 100%|██████████| 79/79 [00:02<00:00, 31.36it/s, loss=0.447, accuracy=0.869]\n"
          ]
        },
        {
          "name": "stdout",
          "output_type": "stream",
          "text": [
            "lr: 0.025\n"
          ]
        },
        {
          "name": "stderr",
          "output_type": "stream",
          "text": [
            "train epoch 68: 100%|██████████| 313/313 [00:18<00:00, 17.02it/s, loss=0.188, accuracy=0.933]\n",
            "validation epoch 68: 100%|██████████| 79/79 [00:02<00:00, 31.23it/s, loss=0.406, accuracy=0.879]\n"
          ]
        },
        {
          "name": "stdout",
          "output_type": "stream",
          "text": [
            "lr: 0.025\n"
          ]
        },
        {
          "name": "stderr",
          "output_type": "stream",
          "text": [
            "train epoch 69: 100%|██████████| 313/313 [00:18<00:00, 16.86it/s, loss=0.194, accuracy=0.931]\n",
            "validation epoch 69: 100%|██████████| 79/79 [00:02<00:00, 31.32it/s, loss=0.407, accuracy=0.879]\n"
          ]
        },
        {
          "name": "stdout",
          "output_type": "stream",
          "text": [
            "lr: 0.025\n"
          ]
        },
        {
          "name": "stderr",
          "output_type": "stream",
          "text": [
            "train epoch 70: 100%|██████████| 313/313 [00:18<00:00, 16.90it/s, loss=0.186, accuracy=0.934]\n",
            "validation epoch 70: 100%|██████████| 79/79 [00:02<00:00, 29.21it/s, loss=0.441, accuracy=0.873]\n"
          ]
        },
        {
          "name": "stdout",
          "output_type": "stream",
          "text": [
            "lr: 0.025\n"
          ]
        },
        {
          "name": "stderr",
          "output_type": "stream",
          "text": [
            "train epoch 71: 100%|██████████| 313/313 [00:19<00:00, 15.97it/s, loss=0.189, accuracy=0.932]\n",
            "validation epoch 71: 100%|██████████| 79/79 [00:02<00:00, 30.66it/s, loss=0.42, accuracy=0.879]\n"
          ]
        },
        {
          "name": "stdout",
          "output_type": "stream",
          "text": [
            "lr: 0.025\n"
          ]
        },
        {
          "name": "stderr",
          "output_type": "stream",
          "text": [
            "train epoch 72: 100%|██████████| 313/313 [00:18<00:00, 16.67it/s, loss=0.19, accuracy=0.932]\n",
            "validation epoch 72: 100%|██████████| 79/79 [00:02<00:00, 30.53it/s, loss=0.438, accuracy=0.872]\n"
          ]
        },
        {
          "name": "stdout",
          "output_type": "stream",
          "text": [
            "lr: 0.025\n"
          ]
        },
        {
          "name": "stderr",
          "output_type": "stream",
          "text": [
            "train epoch 73: 100%|██████████| 313/313 [00:18<00:00, 16.62it/s, loss=0.188, accuracy=0.933]\n",
            "validation epoch 73: 100%|██████████| 79/79 [00:02<00:00, 30.99it/s, loss=0.416, accuracy=0.876]\n"
          ]
        },
        {
          "name": "stdout",
          "output_type": "stream",
          "text": [
            "lr: 0.025\n"
          ]
        },
        {
          "name": "stderr",
          "output_type": "stream",
          "text": [
            "train epoch 74: 100%|██████████| 313/313 [00:18<00:00, 16.80it/s, loss=0.179, accuracy=0.936]\n",
            "validation epoch 74: 100%|██████████| 79/79 [00:02<00:00, 30.45it/s, loss=0.402, accuracy=0.884]\n"
          ]
        },
        {
          "name": "stdout",
          "output_type": "stream",
          "text": [
            "lr: 0.0125\n"
          ]
        },
        {
          "name": "stderr",
          "output_type": "stream",
          "text": [
            "train epoch 75: 100%|██████████| 313/313 [00:18<00:00, 16.81it/s, loss=0.143, accuracy=0.95]\n",
            "validation epoch 75: 100%|██████████| 79/79 [00:02<00:00, 31.92it/s, loss=0.374, accuracy=0.891]\n"
          ]
        },
        {
          "name": "stdout",
          "output_type": "stream",
          "text": [
            "lr: 0.0125\n"
          ]
        },
        {
          "name": "stderr",
          "output_type": "stream",
          "text": [
            "train epoch 76: 100%|██████████| 313/313 [00:18<00:00, 16.75it/s, loss=0.134, accuracy=0.953]\n",
            "validation epoch 76: 100%|██████████| 79/79 [00:02<00:00, 29.70it/s, loss=0.387, accuracy=0.892]\n"
          ]
        },
        {
          "name": "stdout",
          "output_type": "stream",
          "text": [
            "lr: 0.0125\n"
          ]
        },
        {
          "name": "stderr",
          "output_type": "stream",
          "text": [
            "train epoch 77: 100%|██████████| 313/313 [00:18<00:00, 16.64it/s, loss=0.126, accuracy=0.956]\n",
            "validation epoch 77: 100%|██████████| 79/79 [00:02<00:00, 31.20it/s, loss=0.378, accuracy=0.893]\n"
          ]
        },
        {
          "name": "stdout",
          "output_type": "stream",
          "text": [
            "lr: 0.0125\n"
          ]
        },
        {
          "name": "stderr",
          "output_type": "stream",
          "text": [
            "train epoch 78: 100%|██████████| 313/313 [00:18<00:00, 16.71it/s, loss=0.129, accuracy=0.954]\n",
            "validation epoch 78: 100%|██████████| 79/79 [00:02<00:00, 31.42it/s, loss=0.375, accuracy=0.89]\n"
          ]
        },
        {
          "name": "stdout",
          "output_type": "stream",
          "text": [
            "lr: 0.0125\n"
          ]
        },
        {
          "name": "stderr",
          "output_type": "stream",
          "text": [
            "train epoch 79: 100%|██████████| 313/313 [00:18<00:00, 16.98it/s, loss=0.121, accuracy=0.957]\n",
            "validation epoch 79: 100%|██████████| 79/79 [00:02<00:00, 31.59it/s, loss=0.387, accuracy=0.892]\n"
          ]
        },
        {
          "name": "stdout",
          "output_type": "stream",
          "text": [
            "lr: 0.0125\n"
          ]
        },
        {
          "name": "stderr",
          "output_type": "stream",
          "text": [
            "train epoch 80: 100%|██████████| 313/313 [00:19<00:00, 16.04it/s, loss=0.126, accuracy=0.956]\n",
            "validation epoch 80: 100%|██████████| 79/79 [00:02<00:00, 31.37it/s, loss=0.384, accuracy=0.894]\n"
          ]
        },
        {
          "name": "stdout",
          "output_type": "stream",
          "text": [
            "lr: 0.0125\n"
          ]
        },
        {
          "name": "stderr",
          "output_type": "stream",
          "text": [
            "train epoch 81: 100%|██████████| 313/313 [00:18<00:00, 16.87it/s, loss=0.118, accuracy=0.958]\n",
            "validation epoch 81: 100%|██████████| 79/79 [00:02<00:00, 29.80it/s, loss=0.388, accuracy=0.891]\n"
          ]
        },
        {
          "name": "stdout",
          "output_type": "stream",
          "text": [
            "lr: 0.0125\n"
          ]
        },
        {
          "name": "stderr",
          "output_type": "stream",
          "text": [
            "train epoch 82: 100%|██████████| 313/313 [00:18<00:00, 16.52it/s, loss=0.121, accuracy=0.956]\n",
            "validation epoch 82: 100%|██████████| 79/79 [00:02<00:00, 30.98it/s, loss=0.394, accuracy=0.894]\n"
          ]
        },
        {
          "name": "stdout",
          "output_type": "stream",
          "text": [
            "lr: 0.0125\n"
          ]
        },
        {
          "name": "stderr",
          "output_type": "stream",
          "text": [
            "train epoch 83: 100%|██████████| 313/313 [00:18<00:00, 16.72it/s, loss=0.12, accuracy=0.957]\n",
            "validation epoch 83: 100%|██████████| 79/79 [00:02<00:00, 30.96it/s, loss=0.403, accuracy=0.89]\n"
          ]
        },
        {
          "name": "stdout",
          "output_type": "stream",
          "text": [
            "lr: 0.0125\n"
          ]
        },
        {
          "name": "stderr",
          "output_type": "stream",
          "text": [
            "train epoch 84: 100%|██████████| 313/313 [00:18<00:00, 16.87it/s, loss=0.117, accuracy=0.959]\n",
            "validation epoch 84: 100%|██████████| 79/79 [00:02<00:00, 31.61it/s, loss=0.424, accuracy=0.888]\n"
          ]
        },
        {
          "name": "stdout",
          "output_type": "stream",
          "text": [
            "lr: 0.0125\n"
          ]
        },
        {
          "name": "stderr",
          "output_type": "stream",
          "text": [
            "train epoch 85: 100%|██████████| 313/313 [00:18<00:00, 16.86it/s, loss=0.124, accuracy=0.956]\n",
            "validation epoch 85: 100%|██████████| 79/79 [00:02<00:00, 29.92it/s, loss=0.421, accuracy=0.887]\n"
          ]
        },
        {
          "name": "stdout",
          "output_type": "stream",
          "text": [
            "lr: 0.0125\n"
          ]
        },
        {
          "name": "stderr",
          "output_type": "stream",
          "text": [
            "train epoch 86: 100%|██████████| 313/313 [00:18<00:00, 16.73it/s, loss=0.118, accuracy=0.958]\n",
            "validation epoch 86: 100%|██████████| 79/79 [00:02<00:00, 31.25it/s, loss=0.397, accuracy=0.893]\n"
          ]
        },
        {
          "name": "stdout",
          "output_type": "stream",
          "text": [
            "lr: 0.0125\n"
          ]
        },
        {
          "name": "stderr",
          "output_type": "stream",
          "text": [
            "train epoch 87: 100%|██████████| 313/313 [00:18<00:00, 16.48it/s, loss=0.118, accuracy=0.958]\n",
            "validation epoch 87: 100%|██████████| 79/79 [00:02<00:00, 31.33it/s, loss=0.39, accuracy=0.892]\n"
          ]
        },
        {
          "name": "stdout",
          "output_type": "stream",
          "text": [
            "lr: 0.0125\n"
          ]
        },
        {
          "name": "stderr",
          "output_type": "stream",
          "text": [
            "train epoch 88: 100%|██████████| 313/313 [00:18<00:00, 16.71it/s, loss=0.115, accuracy=0.959]\n",
            "validation epoch 88: 100%|██████████| 79/79 [00:02<00:00, 31.38it/s, loss=0.39, accuracy=0.89]\n"
          ]
        },
        {
          "name": "stdout",
          "output_type": "stream",
          "text": [
            "lr: 0.0125\n"
          ]
        },
        {
          "name": "stderr",
          "output_type": "stream",
          "text": [
            "train epoch 89: 100%|██████████| 313/313 [00:19<00:00, 15.93it/s, loss=0.111, accuracy=0.96]\n",
            "validation epoch 89: 100%|██████████| 79/79 [00:02<00:00, 31.40it/s, loss=0.4, accuracy=0.891]\n"
          ]
        },
        {
          "name": "stdout",
          "output_type": "stream",
          "text": [
            "lr: 0.0125\n"
          ]
        },
        {
          "name": "stderr",
          "output_type": "stream",
          "text": [
            "train epoch 90: 100%|██████████| 313/313 [00:18<00:00, 16.86it/s, loss=0.115, accuracy=0.959]\n",
            "validation epoch 90: 100%|██████████| 79/79 [00:02<00:00, 31.64it/s, loss=0.403, accuracy=0.893]\n"
          ]
        },
        {
          "name": "stdout",
          "output_type": "stream",
          "text": [
            "lr: 0.0125\n"
          ]
        },
        {
          "name": "stderr",
          "output_type": "stream",
          "text": [
            "train epoch 91: 100%|██████████| 313/313 [00:18<00:00, 16.84it/s, loss=0.11, accuracy=0.961]\n",
            "validation epoch 91: 100%|██████████| 79/79 [00:02<00:00, 31.10it/s, loss=0.408, accuracy=0.893]\n"
          ]
        },
        {
          "name": "stdout",
          "output_type": "stream",
          "text": [
            "lr: 0.0125\n"
          ]
        },
        {
          "name": "stderr",
          "output_type": "stream",
          "text": [
            "train epoch 92: 100%|██████████| 313/313 [00:18<00:00, 16.91it/s, loss=0.11, accuracy=0.961]\n",
            "validation epoch 92: 100%|██████████| 79/79 [00:02<00:00, 31.68it/s, loss=0.418, accuracy=0.892]\n"
          ]
        },
        {
          "name": "stdout",
          "output_type": "stream",
          "text": [
            "lr: 0.0125\n"
          ]
        },
        {
          "name": "stderr",
          "output_type": "stream",
          "text": [
            "train epoch 93: 100%|██████████| 313/313 [00:18<00:00, 16.64it/s, loss=0.112, accuracy=0.959]\n",
            "validation epoch 93: 100%|██████████| 79/79 [00:02<00:00, 30.97it/s, loss=0.412, accuracy=0.888]\n"
          ]
        },
        {
          "name": "stdout",
          "output_type": "stream",
          "text": [
            "lr: 0.0125\n"
          ]
        },
        {
          "name": "stderr",
          "output_type": "stream",
          "text": [
            "train epoch 94: 100%|██████████| 313/313 [00:18<00:00, 16.73it/s, loss=0.116, accuracy=0.959]\n",
            "validation epoch 94: 100%|██████████| 79/79 [00:02<00:00, 30.35it/s, loss=0.405, accuracy=0.892]\n"
          ]
        },
        {
          "name": "stdout",
          "output_type": "stream",
          "text": [
            "lr: 0.0125\n"
          ]
        },
        {
          "name": "stderr",
          "output_type": "stream",
          "text": [
            "train epoch 95: 100%|██████████| 313/313 [00:18<00:00, 16.68it/s, loss=0.108, accuracy=0.962]\n",
            "validation epoch 95: 100%|██████████| 79/79 [00:02<00:00, 30.29it/s, loss=0.421, accuracy=0.89]\n"
          ]
        },
        {
          "name": "stdout",
          "output_type": "stream",
          "text": [
            "lr: 0.0125\n"
          ]
        },
        {
          "name": "stderr",
          "output_type": "stream",
          "text": [
            "train epoch 96: 100%|██████████| 313/313 [00:18<00:00, 16.55it/s, loss=0.112, accuracy=0.959]\n",
            "validation epoch 96: 100%|██████████| 79/79 [00:02<00:00, 31.31it/s, loss=0.436, accuracy=0.884]\n"
          ]
        },
        {
          "name": "stdout",
          "output_type": "stream",
          "text": [
            "lr: 0.0125\n"
          ]
        },
        {
          "name": "stderr",
          "output_type": "stream",
          "text": [
            "train epoch 97: 100%|██████████| 313/313 [00:18<00:00, 16.76it/s, loss=0.11, accuracy=0.96]\n",
            "validation epoch 97: 100%|██████████| 79/79 [00:02<00:00, 31.04it/s, loss=0.426, accuracy=0.89]\n"
          ]
        },
        {
          "name": "stdout",
          "output_type": "stream",
          "text": [
            "lr: 0.0125\n"
          ]
        },
        {
          "name": "stderr",
          "output_type": "stream",
          "text": [
            "train epoch 98: 100%|██████████| 313/313 [00:19<00:00, 16.01it/s, loss=0.11, accuracy=0.962]\n",
            "validation epoch 98: 100%|██████████| 79/79 [00:02<00:00, 31.07it/s, loss=0.433, accuracy=0.884]\n"
          ]
        },
        {
          "name": "stdout",
          "output_type": "stream",
          "text": [
            "lr: 0.0125\n"
          ]
        },
        {
          "name": "stderr",
          "output_type": "stream",
          "text": [
            "train epoch 99: 100%|██████████| 313/313 [00:18<00:00, 16.93it/s, loss=0.11, accuracy=0.961]\n",
            "validation epoch 99: 100%|██████████| 79/79 [00:02<00:00, 30.82it/s, loss=0.417, accuracy=0.89]\n"
          ]
        },
        {
          "name": "stdout",
          "output_type": "stream",
          "text": [
            "lr: 0.00625\n"
          ]
        },
        {
          "name": "stderr",
          "output_type": "stream",
          "text": [
            "train epoch 100: 100%|██████████| 313/313 [00:18<00:00, 16.57it/s, loss=0.0872, accuracy=0.969]\n",
            "validation epoch 100: 100%|██████████| 79/79 [00:02<00:00, 31.08it/s, loss=0.395, accuracy=0.897]\n"
          ]
        },
        {
          "name": "stdout",
          "output_type": "stream",
          "text": [
            "lr: 0.00625\n"
          ]
        },
        {
          "name": "stderr",
          "output_type": "stream",
          "text": [
            "train epoch 101: 100%|██████████| 313/313 [00:18<00:00, 16.64it/s, loss=0.0824, accuracy=0.971]\n",
            "validation epoch 101: 100%|██████████| 79/79 [00:02<00:00, 29.03it/s, loss=0.403, accuracy=0.896]\n"
          ]
        },
        {
          "name": "stdout",
          "output_type": "stream",
          "text": [
            "lr: 0.00625\n"
          ]
        },
        {
          "name": "stderr",
          "output_type": "stream",
          "text": [
            "train epoch 102: 100%|██████████| 313/313 [00:18<00:00, 16.84it/s, loss=0.0797, accuracy=0.973]\n",
            "validation epoch 102: 100%|██████████| 79/79 [00:02<00:00, 31.30it/s, loss=0.402, accuracy=0.895]\n"
          ]
        },
        {
          "name": "stdout",
          "output_type": "stream",
          "text": [
            "lr: 0.00625\n"
          ]
        },
        {
          "name": "stderr",
          "output_type": "stream",
          "text": [
            "train epoch 103: 100%|██████████| 313/313 [00:18<00:00, 16.66it/s, loss=0.0746, accuracy=0.974]\n",
            "validation epoch 103: 100%|██████████| 79/79 [00:02<00:00, 30.65it/s, loss=0.413, accuracy=0.897]\n"
          ]
        },
        {
          "name": "stdout",
          "output_type": "stream",
          "text": [
            "lr: 0.00625\n"
          ]
        },
        {
          "name": "stderr",
          "output_type": "stream",
          "text": [
            "train epoch 104: 100%|██████████| 313/313 [00:18<00:00, 16.64it/s, loss=0.0715, accuracy=0.976]\n",
            "validation epoch 104: 100%|██████████| 79/79 [00:02<00:00, 30.58it/s, loss=0.407, accuracy=0.897]\n"
          ]
        },
        {
          "name": "stdout",
          "output_type": "stream",
          "text": [
            "lr: 0.00625\n"
          ]
        },
        {
          "name": "stderr",
          "output_type": "stream",
          "text": [
            "train epoch 105: 100%|██████████| 313/313 [00:19<00:00, 16.47it/s, loss=0.0723, accuracy=0.974]\n",
            "validation epoch 105: 100%|██████████| 79/79 [00:02<00:00, 29.89it/s, loss=0.413, accuracy=0.899]\n"
          ]
        },
        {
          "name": "stdout",
          "output_type": "stream",
          "text": [
            "lr: 0.00625\n"
          ]
        },
        {
          "name": "stderr",
          "output_type": "stream",
          "text": [
            "train epoch 106: 100%|██████████| 313/313 [00:18<00:00, 16.58it/s, loss=0.0728, accuracy=0.975]\n",
            "validation epoch 106: 100%|██████████| 79/79 [00:02<00:00, 30.53it/s, loss=0.412, accuracy=0.896]\n"
          ]
        },
        {
          "name": "stdout",
          "output_type": "stream",
          "text": [
            "lr: 0.00625\n"
          ]
        },
        {
          "name": "stderr",
          "output_type": "stream",
          "text": [
            "train epoch 107: 100%|██████████| 313/313 [00:19<00:00, 15.99it/s, loss=0.0708, accuracy=0.975]\n",
            "validation epoch 107: 100%|██████████| 79/79 [00:02<00:00, 29.69it/s, loss=0.416, accuracy=0.895]\n"
          ]
        },
        {
          "name": "stdout",
          "output_type": "stream",
          "text": [
            "lr: 0.00625\n"
          ]
        },
        {
          "name": "stderr",
          "output_type": "stream",
          "text": [
            "train epoch 108: 100%|██████████| 313/313 [00:18<00:00, 16.84it/s, loss=0.07, accuracy=0.975]\n",
            "validation epoch 108: 100%|██████████| 79/79 [00:02<00:00, 30.97it/s, loss=0.407, accuracy=0.901]\n"
          ]
        },
        {
          "name": "stdout",
          "output_type": "stream",
          "text": [
            "lr: 0.00625\n"
          ]
        },
        {
          "name": "stderr",
          "output_type": "stream",
          "text": [
            "train epoch 109: 100%|██████████| 313/313 [00:18<00:00, 16.72it/s, loss=0.0726, accuracy=0.974]\n",
            "validation epoch 109: 100%|██████████| 79/79 [00:02<00:00, 30.86it/s, loss=0.445, accuracy=0.889]\n"
          ]
        },
        {
          "name": "stdout",
          "output_type": "stream",
          "text": [
            "lr: 0.00625\n"
          ]
        },
        {
          "name": "stderr",
          "output_type": "stream",
          "text": [
            "train epoch 110: 100%|██████████| 313/313 [00:18<00:00, 16.70it/s, loss=0.0739, accuracy=0.974]\n",
            "validation epoch 110: 100%|██████████| 79/79 [00:02<00:00, 30.20it/s, loss=0.423, accuracy=0.897]\n"
          ]
        },
        {
          "name": "stdout",
          "output_type": "stream",
          "text": [
            "lr: 0.00625\n"
          ]
        },
        {
          "name": "stderr",
          "output_type": "stream",
          "text": [
            "train epoch 111: 100%|██████████| 313/313 [00:18<00:00, 16.78it/s, loss=0.0711, accuracy=0.975]\n",
            "validation epoch 111: 100%|██████████| 79/79 [00:02<00:00, 30.42it/s, loss=0.433, accuracy=0.89]\n"
          ]
        },
        {
          "name": "stdout",
          "output_type": "stream",
          "text": [
            "lr: 0.00625\n"
          ]
        },
        {
          "name": "stderr",
          "output_type": "stream",
          "text": [
            "train epoch 112: 100%|██████████| 313/313 [00:19<00:00, 16.44it/s, loss=0.0698, accuracy=0.975]\n",
            "validation epoch 112: 100%|██████████| 79/79 [00:02<00:00, 30.76it/s, loss=0.415, accuracy=0.896]\n"
          ]
        },
        {
          "name": "stdout",
          "output_type": "stream",
          "text": [
            "lr: 0.00625\n"
          ]
        },
        {
          "name": "stderr",
          "output_type": "stream",
          "text": [
            "train epoch 113: 100%|██████████| 313/313 [00:18<00:00, 16.78it/s, loss=0.0668, accuracy=0.977]\n",
            "validation epoch 113: 100%|██████████| 79/79 [00:02<00:00, 30.96it/s, loss=0.427, accuracy=0.899]\n"
          ]
        },
        {
          "name": "stdout",
          "output_type": "stream",
          "text": [
            "lr: 0.00625\n"
          ]
        },
        {
          "name": "stderr",
          "output_type": "stream",
          "text": [
            "train epoch 114: 100%|██████████| 313/313 [00:18<00:00, 16.65it/s, loss=0.067, accuracy=0.978]\n",
            "validation epoch 114: 100%|██████████| 79/79 [00:02<00:00, 30.93it/s, loss=0.422, accuracy=0.898]\n"
          ]
        },
        {
          "name": "stdout",
          "output_type": "stream",
          "text": [
            "lr: 0.00625\n"
          ]
        },
        {
          "name": "stderr",
          "output_type": "stream",
          "text": [
            "train epoch 115: 100%|██████████| 313/313 [00:18<00:00, 16.78it/s, loss=0.0682, accuracy=0.976]\n",
            "validation epoch 115: 100%|██████████| 79/79 [00:02<00:00, 30.51it/s, loss=0.423, accuracy=0.899]\n"
          ]
        },
        {
          "name": "stdout",
          "output_type": "stream",
          "text": [
            "lr: 0.00625\n"
          ]
        },
        {
          "name": "stderr",
          "output_type": "stream",
          "text": [
            "train epoch 116: 100%|██████████| 313/313 [00:18<00:00, 16.62it/s, loss=0.0702, accuracy=0.976]\n",
            "validation epoch 116: 100%|██████████| 79/79 [00:03<00:00, 25.56it/s, loss=0.42, accuracy=0.896]\n"
          ]
        },
        {
          "name": "stdout",
          "output_type": "stream",
          "text": [
            "lr: 0.00625\n"
          ]
        },
        {
          "name": "stderr",
          "output_type": "stream",
          "text": [
            "train epoch 117: 100%|██████████| 313/313 [00:18<00:00, 16.54it/s, loss=0.0673, accuracy=0.977]\n",
            "validation epoch 117: 100%|██████████| 79/79 [00:02<00:00, 30.97it/s, loss=0.434, accuracy=0.899]\n"
          ]
        },
        {
          "name": "stdout",
          "output_type": "stream",
          "text": [
            "lr: 0.00625\n"
          ]
        },
        {
          "name": "stderr",
          "output_type": "stream",
          "text": [
            "train epoch 118: 100%|██████████| 313/313 [00:18<00:00, 16.57it/s, loss=0.0651, accuracy=0.977]\n",
            "validation epoch 118: 100%|██████████| 79/79 [00:02<00:00, 30.32it/s, loss=0.434, accuracy=0.895]\n"
          ]
        },
        {
          "name": "stdout",
          "output_type": "stream",
          "text": [
            "lr: 0.00625\n"
          ]
        },
        {
          "name": "stderr",
          "output_type": "stream",
          "text": [
            "train epoch 119: 100%|██████████| 313/313 [00:18<00:00, 16.71it/s, loss=0.0724, accuracy=0.974]\n",
            "validation epoch 119: 100%|██████████| 79/79 [00:02<00:00, 29.33it/s, loss=0.428, accuracy=0.899]\n"
          ]
        },
        {
          "name": "stdout",
          "output_type": "stream",
          "text": [
            "lr: 0.00625\n"
          ]
        },
        {
          "name": "stderr",
          "output_type": "stream",
          "text": [
            "train epoch 120: 100%|██████████| 313/313 [00:18<00:00, 16.70it/s, loss=0.0663, accuracy=0.977]\n",
            "validation epoch 120: 100%|██████████| 79/79 [00:02<00:00, 31.00it/s, loss=0.438, accuracy=0.893]\n"
          ]
        },
        {
          "name": "stdout",
          "output_type": "stream",
          "text": [
            "lr: 0.00625\n"
          ]
        },
        {
          "name": "stderr",
          "output_type": "stream",
          "text": [
            "train epoch 121: 100%|██████████| 313/313 [00:18<00:00, 16.69it/s, loss=0.0652, accuracy=0.977]\n",
            "validation epoch 121: 100%|██████████| 79/79 [00:02<00:00, 30.59it/s, loss=0.452, accuracy=0.897]\n"
          ]
        },
        {
          "name": "stdout",
          "output_type": "stream",
          "text": [
            "lr: 0.00625\n"
          ]
        },
        {
          "name": "stderr",
          "output_type": "stream",
          "text": [
            "train epoch 122: 100%|██████████| 313/313 [00:18<00:00, 16.77it/s, loss=0.0674, accuracy=0.976]\n",
            "validation epoch 122: 100%|██████████| 79/79 [00:02<00:00, 30.95it/s, loss=0.44, accuracy=0.896]\n"
          ]
        },
        {
          "name": "stdout",
          "output_type": "stream",
          "text": [
            "lr: 0.00625\n"
          ]
        },
        {
          "name": "stderr",
          "output_type": "stream",
          "text": [
            "train epoch 123: 100%|██████████| 313/313 [00:18<00:00, 16.64it/s, loss=0.0633, accuracy=0.978]\n",
            "validation epoch 123: 100%|██████████| 79/79 [00:02<00:00, 30.86it/s, loss=0.428, accuracy=0.898]\n"
          ]
        },
        {
          "name": "stdout",
          "output_type": "stream",
          "text": [
            "lr: 0.00625\n"
          ]
        },
        {
          "name": "stderr",
          "output_type": "stream",
          "text": [
            "train epoch 124: 100%|██████████| 313/313 [00:18<00:00, 16.69it/s, loss=0.0664, accuracy=0.977]\n",
            "validation epoch 124: 100%|██████████| 79/79 [00:02<00:00, 31.04it/s, loss=0.431, accuracy=0.895]\n"
          ]
        },
        {
          "name": "stdout",
          "output_type": "stream",
          "text": [
            "lr: 0.003125\n"
          ]
        },
        {
          "name": "stderr",
          "output_type": "stream",
          "text": [
            "train epoch 125: 100%|██████████| 313/313 [00:18<00:00, 16.70it/s, loss=0.0547, accuracy=0.982]\n",
            "validation epoch 125: 100%|██████████| 79/79 [00:02<00:00, 31.53it/s, loss=0.418, accuracy=0.898]\n"
          ]
        },
        {
          "name": "stdout",
          "output_type": "stream",
          "text": [
            "lr: 0.003125\n"
          ]
        },
        {
          "name": "stderr",
          "output_type": "stream",
          "text": [
            "train epoch 126: 100%|██████████| 313/313 [00:19<00:00, 16.07it/s, loss=0.0517, accuracy=0.983]\n",
            "validation epoch 126: 100%|██████████| 79/79 [00:02<00:00, 31.40it/s, loss=0.426, accuracy=0.901]\n"
          ]
        },
        {
          "name": "stdout",
          "output_type": "stream",
          "text": [
            "lr: 0.003125\n"
          ]
        },
        {
          "name": "stderr",
          "output_type": "stream",
          "text": [
            "train epoch 127: 100%|██████████| 313/313 [00:18<00:00, 16.60it/s, loss=0.0532, accuracy=0.982]\n",
            "validation epoch 127: 100%|██████████| 79/79 [00:02<00:00, 30.55it/s, loss=0.425, accuracy=0.9]\n"
          ]
        },
        {
          "name": "stdout",
          "output_type": "stream",
          "text": [
            "lr: 0.003125\n"
          ]
        },
        {
          "name": "stderr",
          "output_type": "stream",
          "text": [
            "train epoch 128: 100%|██████████| 313/313 [00:19<00:00, 16.44it/s, loss=0.0507, accuracy=0.983]\n",
            "validation epoch 128: 100%|██████████| 79/79 [00:02<00:00, 29.15it/s, loss=0.431, accuracy=0.9]\n"
          ]
        },
        {
          "name": "stdout",
          "output_type": "stream",
          "text": [
            "lr: 0.003125\n"
          ]
        },
        {
          "name": "stderr",
          "output_type": "stream",
          "text": [
            "train epoch 129: 100%|██████████| 313/313 [00:18<00:00, 16.55it/s, loss=0.0489, accuracy=0.984]\n",
            "validation epoch 129: 100%|██████████| 79/79 [00:02<00:00, 30.57it/s, loss=0.431, accuracy=0.9]\n"
          ]
        },
        {
          "name": "stdout",
          "output_type": "stream",
          "text": [
            "lr: 0.003125\n"
          ]
        },
        {
          "name": "stderr",
          "output_type": "stream",
          "text": [
            "train epoch 130: 100%|██████████| 313/313 [00:18<00:00, 16.70it/s, loss=0.0472, accuracy=0.984]\n",
            "validation epoch 130: 100%|██████████| 79/79 [00:02<00:00, 29.81it/s, loss=0.432, accuracy=0.898]\n"
          ]
        },
        {
          "name": "stdout",
          "output_type": "stream",
          "text": [
            "lr: 0.003125\n"
          ]
        },
        {
          "name": "stderr",
          "output_type": "stream",
          "text": [
            "train epoch 131: 100%|██████████| 313/313 [00:18<00:00, 16.71it/s, loss=0.0515, accuracy=0.982]\n",
            "validation epoch 131: 100%|██████████| 79/79 [00:02<00:00, 31.08it/s, loss=0.429, accuracy=0.898]\n"
          ]
        },
        {
          "name": "stdout",
          "output_type": "stream",
          "text": [
            "lr: 0.003125\n"
          ]
        },
        {
          "name": "stderr",
          "output_type": "stream",
          "text": [
            "train epoch 132: 100%|██████████| 313/313 [00:18<00:00, 16.79it/s, loss=0.0466, accuracy=0.984]\n",
            "validation epoch 132: 100%|██████████| 79/79 [00:02<00:00, 30.91it/s, loss=0.431, accuracy=0.899]\n"
          ]
        },
        {
          "name": "stdout",
          "output_type": "stream",
          "text": [
            "lr: 0.003125\n"
          ]
        },
        {
          "name": "stderr",
          "output_type": "stream",
          "text": [
            "train epoch 133: 100%|██████████| 313/313 [00:18<00:00, 16.87it/s, loss=0.0463, accuracy=0.985]\n",
            "validation epoch 133: 100%|██████████| 79/79 [00:02<00:00, 30.93it/s, loss=0.426, accuracy=0.899]\n"
          ]
        },
        {
          "name": "stdout",
          "output_type": "stream",
          "text": [
            "lr: 0.003125\n"
          ]
        },
        {
          "name": "stderr",
          "output_type": "stream",
          "text": [
            "train epoch 134: 100%|██████████| 313/313 [00:18<00:00, 16.70it/s, loss=0.0471, accuracy=0.984]\n",
            "validation epoch 134: 100%|██████████| 79/79 [00:02<00:00, 31.03it/s, loss=0.446, accuracy=0.897]\n"
          ]
        },
        {
          "name": "stdout",
          "output_type": "stream",
          "text": [
            "lr: 0.003125\n"
          ]
        },
        {
          "name": "stderr",
          "output_type": "stream",
          "text": [
            "train epoch 135: 100%|██████████| 313/313 [00:19<00:00, 15.87it/s, loss=0.0448, accuracy=0.984]\n",
            "validation epoch 135: 100%|██████████| 79/79 [00:02<00:00, 30.34it/s, loss=0.448, accuracy=0.896]\n"
          ]
        },
        {
          "name": "stdout",
          "output_type": "stream",
          "text": [
            "lr: 0.003125\n"
          ]
        },
        {
          "name": "stderr",
          "output_type": "stream",
          "text": [
            "train epoch 136: 100%|██████████| 313/313 [00:18<00:00, 16.53it/s, loss=0.0461, accuracy=0.984]\n",
            "validation epoch 136: 100%|██████████| 79/79 [00:02<00:00, 30.01it/s, loss=0.428, accuracy=0.9]\n"
          ]
        },
        {
          "name": "stdout",
          "output_type": "stream",
          "text": [
            "lr: 0.003125\n"
          ]
        },
        {
          "name": "stderr",
          "output_type": "stream",
          "text": [
            "train epoch 137: 100%|██████████| 313/313 [00:18<00:00, 16.51it/s, loss=0.0456, accuracy=0.984]\n",
            "validation epoch 137: 100%|██████████| 79/79 [00:02<00:00, 28.40it/s, loss=0.436, accuracy=0.899]\n"
          ]
        },
        {
          "name": "stdout",
          "output_type": "stream",
          "text": [
            "lr: 0.003125\n"
          ]
        },
        {
          "name": "stderr",
          "output_type": "stream",
          "text": [
            "train epoch 138: 100%|██████████| 313/313 [00:18<00:00, 16.56it/s, loss=0.0461, accuracy=0.984]\n",
            "validation epoch 138: 100%|██████████| 79/79 [00:02<00:00, 31.03it/s, loss=0.44, accuracy=0.9]\n"
          ]
        },
        {
          "name": "stdout",
          "output_type": "stream",
          "text": [
            "lr: 0.003125\n"
          ]
        },
        {
          "name": "stderr",
          "output_type": "stream",
          "text": [
            "train epoch 139: 100%|██████████| 313/313 [00:18<00:00, 16.64it/s, loss=0.0458, accuracy=0.984]\n",
            "validation epoch 139: 100%|██████████| 79/79 [00:02<00:00, 30.45it/s, loss=0.437, accuracy=0.899]\n"
          ]
        },
        {
          "name": "stdout",
          "output_type": "stream",
          "text": [
            "lr: 0.003125\n"
          ]
        },
        {
          "name": "stderr",
          "output_type": "stream",
          "text": [
            "train epoch 140: 100%|██████████| 313/313 [00:18<00:00, 16.77it/s, loss=0.0454, accuracy=0.985]\n",
            "validation epoch 140: 100%|██████████| 79/79 [00:02<00:00, 31.02it/s, loss=0.431, accuracy=0.899]\n"
          ]
        },
        {
          "name": "stdout",
          "output_type": "stream",
          "text": [
            "lr: 0.003125\n"
          ]
        },
        {
          "name": "stderr",
          "output_type": "stream",
          "text": [
            "train epoch 141: 100%|██████████| 313/313 [00:18<00:00, 16.72it/s, loss=0.0457, accuracy=0.985]\n",
            "validation epoch 141: 100%|██████████| 79/79 [00:02<00:00, 30.77it/s, loss=0.445, accuracy=0.899]\n"
          ]
        },
        {
          "name": "stdout",
          "output_type": "stream",
          "text": [
            "lr: 0.003125\n"
          ]
        },
        {
          "name": "stderr",
          "output_type": "stream",
          "text": [
            "train epoch 142: 100%|██████████| 313/313 [00:18<00:00, 16.56it/s, loss=0.0466, accuracy=0.984]\n",
            "validation epoch 142: 100%|██████████| 79/79 [00:02<00:00, 29.91it/s, loss=0.435, accuracy=0.899]\n"
          ]
        },
        {
          "name": "stdout",
          "output_type": "stream",
          "text": [
            "lr: 0.003125\n"
          ]
        },
        {
          "name": "stderr",
          "output_type": "stream",
          "text": [
            "train epoch 143: 100%|██████████| 313/313 [00:19<00:00, 16.42it/s, loss=0.0443, accuracy=0.985]\n",
            "validation epoch 143: 100%|██████████| 79/79 [00:02<00:00, 30.21it/s, loss=0.445, accuracy=0.897]\n"
          ]
        },
        {
          "name": "stdout",
          "output_type": "stream",
          "text": [
            "lr: 0.003125\n"
          ]
        },
        {
          "name": "stderr",
          "output_type": "stream",
          "text": [
            "train epoch 144: 100%|██████████| 313/313 [00:19<00:00, 15.79it/s, loss=0.048, accuracy=0.983]\n",
            "validation epoch 144: 100%|██████████| 79/79 [00:02<00:00, 30.75it/s, loss=0.443, accuracy=0.9]\n"
          ]
        },
        {
          "name": "stdout",
          "output_type": "stream",
          "text": [
            "lr: 0.003125\n"
          ]
        },
        {
          "name": "stderr",
          "output_type": "stream",
          "text": [
            "train epoch 145: 100%|██████████| 313/313 [00:18<00:00, 16.61it/s, loss=0.044, accuracy=0.985]\n",
            "validation epoch 145: 100%|██████████| 79/79 [00:02<00:00, 29.38it/s, loss=0.449, accuracy=0.897]\n"
          ]
        },
        {
          "name": "stdout",
          "output_type": "stream",
          "text": [
            "lr: 0.003125\n"
          ]
        },
        {
          "name": "stderr",
          "output_type": "stream",
          "text": [
            "train epoch 146: 100%|██████████| 313/313 [00:19<00:00, 16.47it/s, loss=0.0425, accuracy=0.986]\n",
            "validation epoch 146: 100%|██████████| 79/79 [00:02<00:00, 29.22it/s, loss=0.447, accuracy=0.899]\n"
          ]
        },
        {
          "name": "stdout",
          "output_type": "stream",
          "text": [
            "lr: 0.003125\n"
          ]
        },
        {
          "name": "stderr",
          "output_type": "stream",
          "text": [
            "train epoch 147: 100%|██████████| 313/313 [00:18<00:00, 16.71it/s, loss=0.042, accuracy=0.986]\n",
            "validation epoch 147: 100%|██████████| 79/79 [00:02<00:00, 30.47it/s, loss=0.451, accuracy=0.897]\n"
          ]
        },
        {
          "name": "stdout",
          "output_type": "stream",
          "text": [
            "lr: 0.003125\n"
          ]
        },
        {
          "name": "stderr",
          "output_type": "stream",
          "text": [
            "train epoch 148: 100%|██████████| 313/313 [00:18<00:00, 16.68it/s, loss=0.0436, accuracy=0.986]\n",
            "validation epoch 148: 100%|██████████| 79/79 [00:02<00:00, 29.81it/s, loss=0.447, accuracy=0.895]\n"
          ]
        },
        {
          "name": "stdout",
          "output_type": "stream",
          "text": [
            "lr: 0.003125\n"
          ]
        },
        {
          "name": "stderr",
          "output_type": "stream",
          "text": [
            "train epoch 149: 100%|██████████| 313/313 [00:18<00:00, 16.65it/s, loss=0.0444, accuracy=0.985]\n",
            "validation epoch 149: 100%|██████████| 79/79 [00:02<00:00, 30.22it/s, loss=0.449, accuracy=0.898]\n"
          ]
        },
        {
          "name": "stdout",
          "output_type": "stream",
          "text": [
            "lr: 0.0015625\n"
          ]
        },
        {
          "name": "stderr",
          "output_type": "stream",
          "text": [
            "train epoch 150: 100%|██████████| 313/313 [00:18<00:00, 16.60it/s, loss=0.0402, accuracy=0.986]\n",
            "validation epoch 150: 100%|██████████| 79/79 [00:02<00:00, 30.37it/s, loss=0.442, accuracy=0.902]\n"
          ]
        },
        {
          "name": "stdout",
          "output_type": "stream",
          "text": [
            "lr: 0.0015625\n"
          ]
        },
        {
          "name": "stderr",
          "output_type": "stream",
          "text": [
            "train epoch 151: 100%|██████████| 313/313 [00:18<00:00, 16.70it/s, loss=0.0382, accuracy=0.987]\n",
            "validation epoch 151: 100%|██████████| 79/79 [00:02<00:00, 30.14it/s, loss=0.445, accuracy=0.902]\n"
          ]
        },
        {
          "name": "stdout",
          "output_type": "stream",
          "text": [
            "lr: 0.0015625\n"
          ]
        },
        {
          "name": "stderr",
          "output_type": "stream",
          "text": [
            "train epoch 152: 100%|██████████| 313/313 [00:18<00:00, 16.53it/s, loss=0.0396, accuracy=0.986]\n",
            "validation epoch 152: 100%|██████████| 79/79 [00:02<00:00, 30.08it/s, loss=0.44, accuracy=0.903]\n"
          ]
        },
        {
          "name": "stdout",
          "output_type": "stream",
          "text": [
            "lr: 0.0015625\n"
          ]
        },
        {
          "name": "stderr",
          "output_type": "stream",
          "text": [
            "train epoch 153: 100%|██████████| 313/313 [00:19<00:00, 15.85it/s, loss=0.037, accuracy=0.988]\n",
            "validation epoch 153: 100%|██████████| 79/79 [00:02<00:00, 28.87it/s, loss=0.448, accuracy=0.902]\n"
          ]
        },
        {
          "name": "stdout",
          "output_type": "stream",
          "text": [
            "lr: 0.0015625\n"
          ]
        },
        {
          "name": "stderr",
          "output_type": "stream",
          "text": [
            "train epoch 154: 100%|██████████| 313/313 [00:18<00:00, 16.51it/s, loss=0.0359, accuracy=0.988]\n",
            "validation epoch 154: 100%|██████████| 79/79 [00:02<00:00, 30.35it/s, loss=0.449, accuracy=0.9]\n"
          ]
        },
        {
          "name": "stdout",
          "output_type": "stream",
          "text": [
            "lr: 0.0015625\n"
          ]
        },
        {
          "name": "stderr",
          "output_type": "stream",
          "text": [
            "train epoch 155: 100%|██████████| 313/313 [00:18<00:00, 16.70it/s, loss=0.0365, accuracy=0.988]\n",
            "validation epoch 155: 100%|██████████| 79/79 [00:02<00:00, 30.50it/s, loss=0.444, accuracy=0.899]\n"
          ]
        },
        {
          "name": "stdout",
          "output_type": "stream",
          "text": [
            "lr: 0.0015625\n"
          ]
        },
        {
          "name": "stderr",
          "output_type": "stream",
          "text": [
            "train epoch 156: 100%|██████████| 313/313 [00:18<00:00, 16.65it/s, loss=0.0346, accuracy=0.988]\n",
            "validation epoch 156: 100%|██████████| 79/79 [00:02<00:00, 30.78it/s, loss=0.441, accuracy=0.9]\n"
          ]
        },
        {
          "name": "stdout",
          "output_type": "stream",
          "text": [
            "lr: 0.0015625\n"
          ]
        },
        {
          "name": "stderr",
          "output_type": "stream",
          "text": [
            "train epoch 157: 100%|██████████| 313/313 [00:19<00:00, 16.39it/s, loss=0.0345, accuracy=0.989]\n",
            "validation epoch 157: 100%|██████████| 79/79 [00:02<00:00, 29.89it/s, loss=0.445, accuracy=0.902]\n"
          ]
        },
        {
          "name": "stdout",
          "output_type": "stream",
          "text": [
            "lr: 0.0015625\n"
          ]
        },
        {
          "name": "stderr",
          "output_type": "stream",
          "text": [
            "train epoch 158: 100%|██████████| 313/313 [00:19<00:00, 16.32it/s, loss=0.0374, accuracy=0.987]\n",
            "validation epoch 158: 100%|██████████| 79/79 [00:02<00:00, 29.80it/s, loss=0.445, accuracy=0.903]\n"
          ]
        },
        {
          "name": "stdout",
          "output_type": "stream",
          "text": [
            "lr: 0.0015625\n"
          ]
        },
        {
          "name": "stderr",
          "output_type": "stream",
          "text": [
            "train epoch 159: 100%|██████████| 313/313 [00:18<00:00, 16.49it/s, loss=0.0377, accuracy=0.988]\n",
            "validation epoch 159: 100%|██████████| 79/79 [00:02<00:00, 29.94it/s, loss=0.445, accuracy=0.903]\n"
          ]
        },
        {
          "name": "stdout",
          "output_type": "stream",
          "text": [
            "lr: 0.0015625\n"
          ]
        },
        {
          "name": "stderr",
          "output_type": "stream",
          "text": [
            "train epoch 160: 100%|██████████| 313/313 [00:18<00:00, 16.58it/s, loss=0.0341, accuracy=0.989]\n",
            "validation epoch 160: 100%|██████████| 79/79 [00:02<00:00, 29.95it/s, loss=0.446, accuracy=0.902]\n"
          ]
        },
        {
          "name": "stdout",
          "output_type": "stream",
          "text": [
            "lr: 0.0015625\n"
          ]
        },
        {
          "name": "stderr",
          "output_type": "stream",
          "text": [
            "train epoch 161: 100%|██████████| 313/313 [00:19<00:00, 16.37it/s, loss=0.0345, accuracy=0.988]\n",
            "validation epoch 161: 100%|██████████| 79/79 [00:03<00:00, 23.27it/s, loss=0.452, accuracy=0.899]\n"
          ]
        },
        {
          "name": "stdout",
          "output_type": "stream",
          "text": [
            "lr: 0.0015625\n"
          ]
        },
        {
          "name": "stderr",
          "output_type": "stream",
          "text": [
            "train epoch 162: 100%|██████████| 313/313 [00:19<00:00, 16.47it/s, loss=0.0332, accuracy=0.99]\n",
            "validation epoch 162: 100%|██████████| 79/79 [00:02<00:00, 27.84it/s, loss=0.456, accuracy=0.901]\n"
          ]
        },
        {
          "name": "stdout",
          "output_type": "stream",
          "text": [
            "lr: 0.0015625\n"
          ]
        },
        {
          "name": "stderr",
          "output_type": "stream",
          "text": [
            "train epoch 163: 100%|██████████| 313/313 [00:18<00:00, 16.49it/s, loss=0.034, accuracy=0.988]\n",
            "validation epoch 163: 100%|██████████| 79/79 [00:02<00:00, 30.64it/s, loss=0.447, accuracy=0.901]\n"
          ]
        },
        {
          "name": "stdout",
          "output_type": "stream",
          "text": [
            "lr: 0.0015625\n"
          ]
        },
        {
          "name": "stderr",
          "output_type": "stream",
          "text": [
            "train epoch 164: 100%|██████████| 313/313 [00:19<00:00, 16.39it/s, loss=0.0361, accuracy=0.988]\n",
            "validation epoch 164: 100%|██████████| 79/79 [00:02<00:00, 30.41it/s, loss=0.455, accuracy=0.902]\n"
          ]
        },
        {
          "name": "stdout",
          "output_type": "stream",
          "text": [
            "lr: 0.0015625\n"
          ]
        },
        {
          "name": "stderr",
          "output_type": "stream",
          "text": [
            "train epoch 165: 100%|██████████| 313/313 [00:19<00:00, 16.45it/s, loss=0.0359, accuracy=0.989]\n",
            "validation epoch 165: 100%|██████████| 79/79 [00:02<00:00, 30.40it/s, loss=0.454, accuracy=0.9]\n"
          ]
        },
        {
          "name": "stdout",
          "output_type": "stream",
          "text": [
            "lr: 0.0015625\n"
          ]
        },
        {
          "name": "stderr",
          "output_type": "stream",
          "text": [
            "train epoch 166: 100%|██████████| 313/313 [00:18<00:00, 16.57it/s, loss=0.0333, accuracy=0.989]\n",
            "validation epoch 166: 100%|██████████| 79/79 [00:02<00:00, 29.20it/s, loss=0.457, accuracy=0.9]\n"
          ]
        },
        {
          "name": "stdout",
          "output_type": "stream",
          "text": [
            "lr: 0.0015625\n"
          ]
        },
        {
          "name": "stderr",
          "output_type": "stream",
          "text": [
            "train epoch 167: 100%|██████████| 313/313 [00:19<00:00, 16.47it/s, loss=0.0337, accuracy=0.989]\n",
            "validation epoch 167: 100%|██████████| 79/79 [00:02<00:00, 30.03it/s, loss=0.458, accuracy=0.896]\n"
          ]
        },
        {
          "name": "stdout",
          "output_type": "stream",
          "text": [
            "lr: 0.0015625\n"
          ]
        },
        {
          "name": "stderr",
          "output_type": "stream",
          "text": [
            "train epoch 168: 100%|██████████| 313/313 [00:19<00:00, 16.25it/s, loss=0.0328, accuracy=0.99]\n",
            "validation epoch 168: 100%|██████████| 79/79 [00:02<00:00, 29.62it/s, loss=0.455, accuracy=0.899]\n"
          ]
        },
        {
          "name": "stdout",
          "output_type": "stream",
          "text": [
            "lr: 0.0015625\n"
          ]
        },
        {
          "name": "stderr",
          "output_type": "stream",
          "text": [
            "train epoch 169: 100%|██████████| 313/313 [00:19<00:00, 16.43it/s, loss=0.0346, accuracy=0.989]\n",
            "validation epoch 169: 100%|██████████| 79/79 [00:02<00:00, 30.57it/s, loss=0.46, accuracy=0.901]\n"
          ]
        },
        {
          "name": "stdout",
          "output_type": "stream",
          "text": [
            "lr: 0.0015625\n"
          ]
        },
        {
          "name": "stderr",
          "output_type": "stream",
          "text": [
            "train epoch 170: 100%|██████████| 313/313 [00:19<00:00, 15.72it/s, loss=0.0351, accuracy=0.989]\n",
            "validation epoch 170: 100%|██████████| 79/79 [00:02<00:00, 30.20it/s, loss=0.462, accuracy=0.899]\n"
          ]
        },
        {
          "name": "stdout",
          "output_type": "stream",
          "text": [
            "lr: 0.0015625\n"
          ]
        },
        {
          "name": "stderr",
          "output_type": "stream",
          "text": [
            "train epoch 171: 100%|██████████| 313/313 [00:18<00:00, 16.54it/s, loss=0.0349, accuracy=0.988]\n",
            "validation epoch 171: 100%|██████████| 79/79 [00:02<00:00, 27.84it/s, loss=0.459, accuracy=0.899]\n"
          ]
        },
        {
          "name": "stdout",
          "output_type": "stream",
          "text": [
            "lr: 0.0015625\n"
          ]
        },
        {
          "name": "stderr",
          "output_type": "stream",
          "text": [
            "train epoch 172: 100%|██████████| 313/313 [00:19<00:00, 16.38it/s, loss=0.0341, accuracy=0.988]\n",
            "validation epoch 172: 100%|██████████| 79/79 [00:02<00:00, 29.29it/s, loss=0.453, accuracy=0.902]\n"
          ]
        },
        {
          "name": "stdout",
          "output_type": "stream",
          "text": [
            "lr: 0.0015625\n"
          ]
        },
        {
          "name": "stderr",
          "output_type": "stream",
          "text": [
            "train epoch 173: 100%|██████████| 313/313 [00:19<00:00, 16.45it/s, loss=0.0343, accuracy=0.988]\n",
            "validation epoch 173: 100%|██████████| 79/79 [00:02<00:00, 29.74it/s, loss=0.457, accuracy=0.9]\n"
          ]
        },
        {
          "name": "stdout",
          "output_type": "stream",
          "text": [
            "lr: 0.0015625\n"
          ]
        },
        {
          "name": "stderr",
          "output_type": "stream",
          "text": [
            "train epoch 174: 100%|██████████| 313/313 [00:18<00:00, 16.71it/s, loss=0.0329, accuracy=0.989]\n",
            "validation epoch 174: 100%|██████████| 79/79 [00:02<00:00, 30.42it/s, loss=0.451, accuracy=0.901]\n"
          ]
        },
        {
          "name": "stdout",
          "output_type": "stream",
          "text": [
            "lr: 0.00078125\n"
          ]
        },
        {
          "name": "stderr",
          "output_type": "stream",
          "text": [
            "train epoch 175: 100%|██████████| 313/313 [00:19<00:00, 15.70it/s, loss=0.0323, accuracy=0.99]\n",
            "validation epoch 175: 100%|██████████| 79/79 [00:02<00:00, 30.03it/s, loss=0.451, accuracy=0.901]\n"
          ]
        },
        {
          "name": "stdout",
          "output_type": "stream",
          "text": [
            "lr: 0.00078125\n"
          ]
        },
        {
          "name": "stderr",
          "output_type": "stream",
          "text": [
            "train epoch 176: 100%|██████████| 313/313 [00:19<00:00, 16.38it/s, loss=0.0324, accuracy=0.989]\n",
            "validation epoch 176: 100%|██████████| 79/79 [00:02<00:00, 29.70it/s, loss=0.454, accuracy=0.901]\n"
          ]
        },
        {
          "name": "stdout",
          "output_type": "stream",
          "text": [
            "lr: 0.00078125\n"
          ]
        },
        {
          "name": "stderr",
          "output_type": "stream",
          "text": [
            "train epoch 177: 100%|██████████| 313/313 [00:18<00:00, 16.58it/s, loss=0.0322, accuracy=0.99]\n",
            "validation epoch 177: 100%|██████████| 79/79 [00:02<00:00, 30.33it/s, loss=0.453, accuracy=0.902]\n"
          ]
        },
        {
          "name": "stdout",
          "output_type": "stream",
          "text": [
            "lr: 0.00078125\n"
          ]
        },
        {
          "name": "stderr",
          "output_type": "stream",
          "text": [
            "train epoch 178: 100%|██████████| 313/313 [00:18<00:00, 16.50it/s, loss=0.0316, accuracy=0.99]\n",
            "validation epoch 178: 100%|██████████| 79/79 [00:02<00:00, 30.07it/s, loss=0.451, accuracy=0.901]\n"
          ]
        },
        {
          "name": "stdout",
          "output_type": "stream",
          "text": [
            "lr: 0.00078125\n"
          ]
        },
        {
          "name": "stderr",
          "output_type": "stream",
          "text": [
            "train epoch 179: 100%|██████████| 313/313 [00:19<00:00, 16.40it/s, loss=0.0324, accuracy=0.989]\n",
            "validation epoch 179: 100%|██████████| 79/79 [00:02<00:00, 29.80it/s, loss=0.451, accuracy=0.902]\n"
          ]
        },
        {
          "name": "stdout",
          "output_type": "stream",
          "text": [
            "lr: 0.00078125\n"
          ]
        },
        {
          "name": "stderr",
          "output_type": "stream",
          "text": [
            "train epoch 180: 100%|██████████| 313/313 [00:19<00:00, 16.41it/s, loss=0.0297, accuracy=0.99]\n",
            "validation epoch 180: 100%|██████████| 79/79 [00:02<00:00, 28.95it/s, loss=0.449, accuracy=0.902]\n"
          ]
        },
        {
          "name": "stdout",
          "output_type": "stream",
          "text": [
            "lr: 0.00078125\n"
          ]
        },
        {
          "name": "stderr",
          "output_type": "stream",
          "text": [
            "train epoch 181: 100%|██████████| 313/313 [00:18<00:00, 16.62it/s, loss=0.0317, accuracy=0.99]\n",
            "validation epoch 181: 100%|██████████| 79/79 [00:02<00:00, 30.25it/s, loss=0.457, accuracy=0.901]\n"
          ]
        },
        {
          "name": "stdout",
          "output_type": "stream",
          "text": [
            "lr: 0.00078125\n"
          ]
        },
        {
          "name": "stderr",
          "output_type": "stream",
          "text": [
            "train epoch 182: 100%|██████████| 313/313 [00:19<00:00, 16.42it/s, loss=0.0302, accuracy=0.99]\n",
            "validation epoch 182: 100%|██████████| 79/79 [00:02<00:00, 30.13it/s, loss=0.456, accuracy=0.902]\n"
          ]
        },
        {
          "name": "stdout",
          "output_type": "stream",
          "text": [
            "lr: 0.00078125\n"
          ]
        },
        {
          "name": "stderr",
          "output_type": "stream",
          "text": [
            "train epoch 183: 100%|██████████| 313/313 [00:19<00:00, 16.38it/s, loss=0.03, accuracy=0.99]\n",
            "validation epoch 183: 100%|██████████| 79/79 [00:03<00:00, 23.90it/s, loss=0.452, accuracy=0.902]\n"
          ]
        },
        {
          "name": "stdout",
          "output_type": "stream",
          "text": [
            "lr: 0.00078125\n"
          ]
        },
        {
          "name": "stderr",
          "output_type": "stream",
          "text": [
            "train epoch 184: 100%|██████████| 313/313 [00:19<00:00, 16.36it/s, loss=0.0296, accuracy=0.99]\n",
            "validation epoch 184: 100%|██████████| 79/79 [00:02<00:00, 29.65it/s, loss=0.449, accuracy=0.901]\n"
          ]
        },
        {
          "name": "stdout",
          "output_type": "stream",
          "text": [
            "lr: 0.00078125\n"
          ]
        },
        {
          "name": "stderr",
          "output_type": "stream",
          "text": [
            "train epoch 185: 100%|██████████| 313/313 [00:18<00:00, 16.55it/s, loss=0.0312, accuracy=0.99]\n",
            "validation epoch 185: 100%|██████████| 79/79 [00:02<00:00, 29.50it/s, loss=0.461, accuracy=0.902]\n"
          ]
        },
        {
          "name": "stdout",
          "output_type": "stream",
          "text": [
            "lr: 0.00078125\n"
          ]
        },
        {
          "name": "stderr",
          "output_type": "stream",
          "text": [
            "train epoch 186: 100%|██████████| 313/313 [00:19<00:00, 16.31it/s, loss=0.0294, accuracy=0.99]\n",
            "validation epoch 186: 100%|██████████| 79/79 [00:02<00:00, 30.03it/s, loss=0.455, accuracy=0.9]\n"
          ]
        },
        {
          "name": "stdout",
          "output_type": "stream",
          "text": [
            "lr: 0.00078125\n"
          ]
        },
        {
          "name": "stderr",
          "output_type": "stream",
          "text": [
            "train epoch 187: 100%|██████████| 313/313 [00:19<00:00, 16.45it/s, loss=0.0299, accuracy=0.99]\n",
            "validation epoch 187: 100%|██████████| 79/79 [00:02<00:00, 29.84it/s, loss=0.459, accuracy=0.901]\n"
          ]
        },
        {
          "name": "stdout",
          "output_type": "stream",
          "text": [
            "lr: 0.00078125\n"
          ]
        },
        {
          "name": "stderr",
          "output_type": "stream",
          "text": [
            "train epoch 188: 100%|██████████| 313/313 [00:18<00:00, 16.57it/s, loss=0.0291, accuracy=0.99]\n",
            "validation epoch 188: 100%|██████████| 79/79 [00:02<00:00, 29.96it/s, loss=0.453, accuracy=0.901]\n"
          ]
        },
        {
          "name": "stdout",
          "output_type": "stream",
          "text": [
            "lr: 0.00078125\n"
          ]
        },
        {
          "name": "stderr",
          "output_type": "stream",
          "text": [
            "train epoch 189: 100%|██████████| 313/313 [00:19<00:00, 16.45it/s, loss=0.0294, accuracy=0.991]\n",
            "validation epoch 189: 100%|██████████| 79/79 [00:02<00:00, 29.11it/s, loss=0.447, accuracy=0.902]\n"
          ]
        },
        {
          "name": "stdout",
          "output_type": "stream",
          "text": [
            "lr: 0.00078125\n"
          ]
        },
        {
          "name": "stderr",
          "output_type": "stream",
          "text": [
            "train epoch 190: 100%|██████████| 313/313 [00:19<00:00, 16.42it/s, loss=0.0302, accuracy=0.99]\n",
            "validation epoch 190: 100%|██████████| 79/79 [00:02<00:00, 30.15it/s, loss=0.459, accuracy=0.901]\n"
          ]
        },
        {
          "name": "stdout",
          "output_type": "stream",
          "text": [
            "lr: 0.00078125\n"
          ]
        },
        {
          "name": "stderr",
          "output_type": "stream",
          "text": [
            "train epoch 191: 100%|██████████| 313/313 [00:19<00:00, 16.33it/s, loss=0.0305, accuracy=0.99]\n",
            "validation epoch 191: 100%|██████████| 79/79 [00:02<00:00, 30.04it/s, loss=0.453, accuracy=0.903]\n"
          ]
        },
        {
          "name": "stdout",
          "output_type": "stream",
          "text": [
            "lr: 0.00078125\n"
          ]
        },
        {
          "name": "stderr",
          "output_type": "stream",
          "text": [
            "train epoch 192: 100%|██████████| 313/313 [00:19<00:00, 15.78it/s, loss=0.0295, accuracy=0.99]\n",
            "validation epoch 192: 100%|██████████| 79/79 [00:02<00:00, 29.89it/s, loss=0.448, accuracy=0.904]\n"
          ]
        },
        {
          "name": "stdout",
          "output_type": "stream",
          "text": [
            "lr: 0.00078125\n"
          ]
        },
        {
          "name": "stderr",
          "output_type": "stream",
          "text": [
            "train epoch 193: 100%|██████████| 313/313 [00:19<00:00, 16.43it/s, loss=0.0296, accuracy=0.99]\n",
            "validation epoch 193: 100%|██████████| 79/79 [00:02<00:00, 29.69it/s, loss=0.451, accuracy=0.903]\n"
          ]
        },
        {
          "name": "stdout",
          "output_type": "stream",
          "text": [
            "lr: 0.00078125\n"
          ]
        },
        {
          "name": "stderr",
          "output_type": "stream",
          "text": [
            "train epoch 194: 100%|██████████| 313/313 [00:19<00:00, 16.43it/s, loss=0.0305, accuracy=0.99]\n",
            "validation epoch 194: 100%|██████████| 79/79 [00:02<00:00, 29.66it/s, loss=0.46, accuracy=0.904]\n"
          ]
        },
        {
          "name": "stdout",
          "output_type": "stream",
          "text": [
            "lr: 0.00078125\n"
          ]
        },
        {
          "name": "stderr",
          "output_type": "stream",
          "text": [
            "train epoch 195: 100%|██████████| 313/313 [00:19<00:00, 16.35it/s, loss=0.028, accuracy=0.991]\n",
            "validation epoch 195: 100%|██████████| 79/79 [00:02<00:00, 30.40it/s, loss=0.456, accuracy=0.903]\n"
          ]
        },
        {
          "name": "stdout",
          "output_type": "stream",
          "text": [
            "lr: 0.00078125\n"
          ]
        },
        {
          "name": "stderr",
          "output_type": "stream",
          "text": [
            "train epoch 196: 100%|██████████| 313/313 [00:18<00:00, 16.57it/s, loss=0.0296, accuracy=0.99]\n",
            "validation epoch 196: 100%|██████████| 79/79 [00:02<00:00, 29.62it/s, loss=0.456, accuracy=0.901]\n"
          ]
        },
        {
          "name": "stdout",
          "output_type": "stream",
          "text": [
            "lr: 0.00078125\n"
          ]
        },
        {
          "name": "stderr",
          "output_type": "stream",
          "text": [
            "train epoch 197: 100%|██████████| 313/313 [00:19<00:00, 16.41it/s, loss=0.0289, accuracy=0.991]\n",
            "validation epoch 197: 100%|██████████| 79/79 [00:02<00:00, 29.38it/s, loss=0.46, accuracy=0.903]\n"
          ]
        },
        {
          "name": "stdout",
          "output_type": "stream",
          "text": [
            "lr: 0.00078125\n"
          ]
        },
        {
          "name": "stderr",
          "output_type": "stream",
          "text": [
            "train epoch 198: 100%|██████████| 313/313 [00:19<00:00, 16.33it/s, loss=0.0291, accuracy=0.991]\n",
            "validation epoch 198: 100%|██████████| 79/79 [00:02<00:00, 30.00it/s, loss=0.456, accuracy=0.901]\n"
          ]
        },
        {
          "name": "stdout",
          "output_type": "stream",
          "text": [
            "lr: 0.00078125\n"
          ]
        },
        {
          "name": "stderr",
          "output_type": "stream",
          "text": [
            "train epoch 199: 100%|██████████| 313/313 [00:19<00:00, 16.18it/s, loss=0.0302, accuracy=0.99]\n",
            "validation epoch 199: 100%|██████████| 79/79 [00:02<00:00, 29.65it/s, loss=0.461, accuracy=0.9]\n"
          ]
        },
        {
          "name": "stdout",
          "output_type": "stream",
          "text": [
            "lr: 0.000390625\n"
          ]
        },
        {
          "name": "stderr",
          "output_type": "stream",
          "text": [
            "train epoch 200: 100%|██████████| 313/313 [00:19<00:00, 16.31it/s, loss=0.0301, accuracy=0.99]\n",
            "validation epoch 200: 100%|██████████| 79/79 [00:02<00:00, 28.53it/s, loss=0.457, accuracy=0.901]\n"
          ]
        },
        {
          "name": "stdout",
          "output_type": "stream",
          "text": [
            "lr: 0.000390625\n"
          ]
        },
        {
          "name": "stderr",
          "output_type": "stream",
          "text": [
            "train epoch 201: 100%|██████████| 313/313 [00:20<00:00, 15.51it/s, loss=0.0282, accuracy=0.991]\n",
            "validation epoch 201: 100%|██████████| 79/79 [00:02<00:00, 29.69it/s, loss=0.456, accuracy=0.901]\n"
          ]
        },
        {
          "name": "stdout",
          "output_type": "stream",
          "text": [
            "lr: 0.000390625\n"
          ]
        },
        {
          "name": "stderr",
          "output_type": "stream",
          "text": [
            "train epoch 202: 100%|██████████| 313/313 [00:19<00:00, 16.15it/s, loss=0.0259, accuracy=0.991]\n",
            "validation epoch 202: 100%|██████████| 79/79 [00:02<00:00, 29.35it/s, loss=0.455, accuracy=0.901]\n"
          ]
        },
        {
          "name": "stdout",
          "output_type": "stream",
          "text": [
            "lr: 0.000390625\n"
          ]
        },
        {
          "name": "stderr",
          "output_type": "stream",
          "text": [
            "train epoch 203: 100%|██████████| 313/313 [00:19<00:00, 16.43it/s, loss=0.0283, accuracy=0.991]\n",
            "validation epoch 203: 100%|██████████| 79/79 [00:02<00:00, 29.94it/s, loss=0.462, accuracy=0.902]\n"
          ]
        },
        {
          "name": "stdout",
          "output_type": "stream",
          "text": [
            "lr: 0.000390625\n"
          ]
        },
        {
          "name": "stderr",
          "output_type": "stream",
          "text": [
            "train epoch 204: 100%|██████████| 313/313 [00:19<00:00, 16.20it/s, loss=0.0284, accuracy=0.991]\n",
            "validation epoch 204: 100%|██████████| 79/79 [00:02<00:00, 30.33it/s, loss=0.458, accuracy=0.902]\n"
          ]
        },
        {
          "name": "stdout",
          "output_type": "stream",
          "text": [
            "lr: 0.000390625\n"
          ]
        },
        {
          "name": "stderr",
          "output_type": "stream",
          "text": [
            "train epoch 205: 100%|██████████| 313/313 [00:19<00:00, 16.30it/s, loss=0.0265, accuracy=0.992]\n",
            "validation epoch 205: 100%|██████████| 79/79 [00:02<00:00, 28.97it/s, loss=0.459, accuracy=0.904]\n"
          ]
        },
        {
          "name": "stdout",
          "output_type": "stream",
          "text": [
            "lr: 0.000390625\n"
          ]
        },
        {
          "name": "stderr",
          "output_type": "stream",
          "text": [
            "train epoch 206: 100%|██████████| 313/313 [00:19<00:00, 16.36it/s, loss=0.0277, accuracy=0.991]\n",
            "validation epoch 206: 100%|██████████| 79/79 [00:02<00:00, 29.48it/s, loss=0.458, accuracy=0.903]\n"
          ]
        },
        {
          "name": "stdout",
          "output_type": "stream",
          "text": [
            "lr: 0.000390625\n"
          ]
        },
        {
          "name": "stderr",
          "output_type": "stream",
          "text": [
            "train epoch 207: 100%|██████████| 313/313 [00:19<00:00, 16.22it/s, loss=0.029, accuracy=0.99]\n",
            "validation epoch 207: 100%|██████████| 79/79 [00:02<00:00, 29.64it/s, loss=0.455, accuracy=0.9]\n"
          ]
        },
        {
          "name": "stdout",
          "output_type": "stream",
          "text": [
            "lr: 0.000390625\n"
          ]
        },
        {
          "name": "stderr",
          "output_type": "stream",
          "text": [
            "train epoch 208: 100%|██████████| 313/313 [00:19<00:00, 16.03it/s, loss=0.0277, accuracy=0.99]\n",
            "validation epoch 208: 100%|██████████| 79/79 [00:02<00:00, 28.40it/s, loss=0.46, accuracy=0.901]\n"
          ]
        },
        {
          "name": "stdout",
          "output_type": "stream",
          "text": [
            "lr: 0.000390625\n"
          ]
        },
        {
          "name": "stderr",
          "output_type": "stream",
          "text": [
            "train epoch 209: 100%|██████████| 313/313 [00:19<00:00, 16.33it/s, loss=0.0268, accuracy=0.991]\n",
            "validation epoch 209: 100%|██████████| 79/79 [00:02<00:00, 28.56it/s, loss=0.455, accuracy=0.902]\n"
          ]
        },
        {
          "name": "stdout",
          "output_type": "stream",
          "text": [
            "lr: 0.000390625\n"
          ]
        },
        {
          "name": "stderr",
          "output_type": "stream",
          "text": [
            "train epoch 210: 100%|██████████| 313/313 [00:20<00:00, 15.56it/s, loss=0.0279, accuracy=0.991]\n",
            "validation epoch 210: 100%|██████████| 79/79 [00:02<00:00, 29.51it/s, loss=0.461, accuracy=0.902]\n"
          ]
        },
        {
          "name": "stdout",
          "output_type": "stream",
          "text": [
            "lr: 0.000390625\n"
          ]
        },
        {
          "name": "stderr",
          "output_type": "stream",
          "text": [
            "train epoch 211: 100%|██████████| 313/313 [00:19<00:00, 16.22it/s, loss=0.0296, accuracy=0.99]\n",
            "validation epoch 211: 100%|██████████| 79/79 [00:02<00:00, 29.33it/s, loss=0.461, accuracy=0.901]\n"
          ]
        },
        {
          "name": "stdout",
          "output_type": "stream",
          "text": [
            "lr: 0.000390625\n"
          ]
        },
        {
          "name": "stderr",
          "output_type": "stream",
          "text": [
            "train epoch 212: 100%|██████████| 313/313 [00:19<00:00, 16.40it/s, loss=0.0288, accuracy=0.99]\n",
            "validation epoch 212: 100%|██████████| 79/79 [00:02<00:00, 29.37it/s, loss=0.46, accuracy=0.902]\n"
          ]
        },
        {
          "name": "stdout",
          "output_type": "stream",
          "text": [
            "lr: 0.000390625\n"
          ]
        },
        {
          "name": "stderr",
          "output_type": "stream",
          "text": [
            "train epoch 213: 100%|██████████| 313/313 [00:19<00:00, 16.08it/s, loss=0.0283, accuracy=0.991]\n",
            "validation epoch 213: 100%|██████████| 79/79 [00:02<00:00, 29.81it/s, loss=0.462, accuracy=0.901]\n"
          ]
        },
        {
          "name": "stdout",
          "output_type": "stream",
          "text": [
            "lr: 0.000390625\n"
          ]
        },
        {
          "name": "stderr",
          "output_type": "stream",
          "text": [
            "train epoch 214: 100%|██████████| 313/313 [00:19<00:00, 16.18it/s, loss=0.027, accuracy=0.991]\n",
            "validation epoch 214: 100%|██████████| 79/79 [00:02<00:00, 29.06it/s, loss=0.461, accuracy=0.902]\n"
          ]
        },
        {
          "name": "stdout",
          "output_type": "stream",
          "text": [
            "lr: 0.000390625\n"
          ]
        },
        {
          "name": "stderr",
          "output_type": "stream",
          "text": [
            "train epoch 215: 100%|██████████| 313/313 [00:19<00:00, 16.06it/s, loss=0.0267, accuracy=0.992]\n",
            "validation epoch 215: 100%|██████████| 79/79 [00:02<00:00, 29.34it/s, loss=0.457, accuracy=0.9]\n"
          ]
        },
        {
          "name": "stdout",
          "output_type": "stream",
          "text": [
            "lr: 0.000390625\n"
          ]
        },
        {
          "name": "stderr",
          "output_type": "stream",
          "text": [
            "train epoch 216: 100%|██████████| 313/313 [00:19<00:00, 16.09it/s, loss=0.0267, accuracy=0.991]\n",
            "validation epoch 216: 100%|██████████| 79/79 [00:02<00:00, 29.48it/s, loss=0.46, accuracy=0.899]\n"
          ]
        },
        {
          "name": "stdout",
          "output_type": "stream",
          "text": [
            "lr: 0.000390625\n"
          ]
        },
        {
          "name": "stderr",
          "output_type": "stream",
          "text": [
            "train epoch 217: 100%|██████████| 313/313 [00:19<00:00, 16.15it/s, loss=0.0275, accuracy=0.991]\n",
            "validation epoch 217: 100%|██████████| 79/79 [00:02<00:00, 29.88it/s, loss=0.465, accuracy=0.903]\n"
          ]
        },
        {
          "name": "stdout",
          "output_type": "stream",
          "text": [
            "lr: 0.000390625\n"
          ]
        },
        {
          "name": "stderr",
          "output_type": "stream",
          "text": [
            "train epoch 218: 100%|██████████| 313/313 [00:19<00:00, 16.47it/s, loss=0.0276, accuracy=0.991]\n",
            "validation epoch 218: 100%|██████████| 79/79 [00:02<00:00, 28.35it/s, loss=0.456, accuracy=0.902]\n"
          ]
        },
        {
          "name": "stdout",
          "output_type": "stream",
          "text": [
            "lr: 0.000390625\n"
          ]
        },
        {
          "name": "stderr",
          "output_type": "stream",
          "text": [
            "train epoch 219: 100%|██████████| 313/313 [00:20<00:00, 15.59it/s, loss=0.0262, accuracy=0.992]\n",
            "validation epoch 219: 100%|██████████| 79/79 [00:02<00:00, 29.21it/s, loss=0.466, accuracy=0.901]\n"
          ]
        },
        {
          "name": "stdout",
          "output_type": "stream",
          "text": [
            "lr: 0.000390625\n"
          ]
        },
        {
          "name": "stderr",
          "output_type": "stream",
          "text": [
            "train epoch 220: 100%|██████████| 313/313 [00:19<00:00, 16.17it/s, loss=0.0273, accuracy=0.991]\n",
            "validation epoch 220: 100%|██████████| 79/79 [00:02<00:00, 29.76it/s, loss=0.454, accuracy=0.901]\n"
          ]
        },
        {
          "name": "stdout",
          "output_type": "stream",
          "text": [
            "lr: 0.000390625\n"
          ]
        },
        {
          "name": "stderr",
          "output_type": "stream",
          "text": [
            "train epoch 221: 100%|██████████| 313/313 [00:19<00:00, 16.37it/s, loss=0.0276, accuracy=0.992]\n",
            "validation epoch 221: 100%|██████████| 79/79 [00:02<00:00, 29.75it/s, loss=0.462, accuracy=0.901]\n"
          ]
        },
        {
          "name": "stdout",
          "output_type": "stream",
          "text": [
            "lr: 0.000390625\n"
          ]
        },
        {
          "name": "stderr",
          "output_type": "stream",
          "text": [
            "train epoch 222: 100%|██████████| 313/313 [00:19<00:00, 16.23it/s, loss=0.0283, accuracy=0.991]\n",
            "validation epoch 222: 100%|██████████| 79/79 [00:02<00:00, 29.34it/s, loss=0.463, accuracy=0.901]\n"
          ]
        },
        {
          "name": "stdout",
          "output_type": "stream",
          "text": [
            "lr: 0.000390625\n"
          ]
        },
        {
          "name": "stderr",
          "output_type": "stream",
          "text": [
            "train epoch 223: 100%|██████████| 313/313 [00:19<00:00, 16.35it/s, loss=0.0266, accuracy=0.991]\n",
            "validation epoch 223: 100%|██████████| 79/79 [00:02<00:00, 29.26it/s, loss=0.465, accuracy=0.899]\n"
          ]
        },
        {
          "name": "stdout",
          "output_type": "stream",
          "text": [
            "lr: 0.000390625\n"
          ]
        },
        {
          "name": "stderr",
          "output_type": "stream",
          "text": [
            "train epoch 224: 100%|██████████| 313/313 [00:19<00:00, 16.07it/s, loss=0.0276, accuracy=0.991]\n",
            "validation epoch 224: 100%|██████████| 79/79 [00:02<00:00, 29.63it/s, loss=0.458, accuracy=0.902]\n"
          ]
        },
        {
          "name": "stdout",
          "output_type": "stream",
          "text": [
            "lr: 0.0001953125\n"
          ]
        },
        {
          "name": "stderr",
          "output_type": "stream",
          "text": [
            "train epoch 225: 100%|██████████| 313/313 [00:19<00:00, 16.37it/s, loss=0.0258, accuracy=0.992]\n",
            "validation epoch 225: 100%|██████████| 79/79 [00:02<00:00, 29.09it/s, loss=0.464, accuracy=0.902]\n"
          ]
        },
        {
          "name": "stdout",
          "output_type": "stream",
          "text": [
            "lr: 0.0001953125\n"
          ]
        },
        {
          "name": "stderr",
          "output_type": "stream",
          "text": [
            "train epoch 226: 100%|██████████| 313/313 [00:19<00:00, 16.00it/s, loss=0.0267, accuracy=0.991]\n",
            "validation epoch 226: 100%|██████████| 79/79 [00:02<00:00, 28.98it/s, loss=0.456, accuracy=0.903]\n"
          ]
        },
        {
          "name": "stdout",
          "output_type": "stream",
          "text": [
            "lr: 0.0001953125\n"
          ]
        },
        {
          "name": "stderr",
          "output_type": "stream",
          "text": [
            "train epoch 227: 100%|██████████| 313/313 [00:19<00:00, 16.11it/s, loss=0.0254, accuracy=0.992]\n",
            "validation epoch 227: 100%|██████████| 79/79 [00:02<00:00, 27.68it/s, loss=0.462, accuracy=0.902]\n"
          ]
        },
        {
          "name": "stdout",
          "output_type": "stream",
          "text": [
            "lr: 0.0001953125\n"
          ]
        },
        {
          "name": "stderr",
          "output_type": "stream",
          "text": [
            "train epoch 228: 100%|██████████| 313/313 [00:20<00:00, 15.38it/s, loss=0.0256, accuracy=0.992]\n",
            "validation epoch 228: 100%|██████████| 79/79 [00:02<00:00, 29.41it/s, loss=0.46, accuracy=0.902]\n"
          ]
        },
        {
          "name": "stdout",
          "output_type": "stream",
          "text": [
            "lr: 0.0001953125\n"
          ]
        },
        {
          "name": "stderr",
          "output_type": "stream",
          "text": [
            "train epoch 229: 100%|██████████| 313/313 [00:19<00:00, 16.14it/s, loss=0.028, accuracy=0.991]\n",
            "validation epoch 229: 100%|██████████| 79/79 [00:02<00:00, 29.90it/s, loss=0.459, accuracy=0.903]\n"
          ]
        },
        {
          "name": "stdout",
          "output_type": "stream",
          "text": [
            "lr: 0.0001953125\n"
          ]
        },
        {
          "name": "stderr",
          "output_type": "stream",
          "text": [
            "train epoch 230: 100%|██████████| 313/313 [00:19<00:00, 16.23it/s, loss=0.0265, accuracy=0.991]\n",
            "validation epoch 230: 100%|██████████| 79/79 [00:02<00:00, 29.36it/s, loss=0.461, accuracy=0.901]\n"
          ]
        },
        {
          "name": "stdout",
          "output_type": "stream",
          "text": [
            "lr: 0.0001953125\n"
          ]
        },
        {
          "name": "stderr",
          "output_type": "stream",
          "text": [
            "train epoch 231: 100%|██████████| 313/313 [00:19<00:00, 16.16it/s, loss=0.0256, accuracy=0.991]\n",
            "validation epoch 231: 100%|██████████| 79/79 [00:02<00:00, 29.47it/s, loss=0.462, accuracy=0.901]\n"
          ]
        },
        {
          "name": "stdout",
          "output_type": "stream",
          "text": [
            "lr: 0.0001953125\n"
          ]
        },
        {
          "name": "stderr",
          "output_type": "stream",
          "text": [
            "train epoch 232: 100%|██████████| 313/313 [00:19<00:00, 16.35it/s, loss=0.0259, accuracy=0.992]\n",
            "validation epoch 232: 100%|██████████| 79/79 [00:02<00:00, 29.24it/s, loss=0.455, accuracy=0.903]\n"
          ]
        },
        {
          "name": "stdout",
          "output_type": "stream",
          "text": [
            "lr: 0.0001953125\n"
          ]
        },
        {
          "name": "stderr",
          "output_type": "stream",
          "text": [
            "train epoch 233: 100%|██████████| 313/313 [00:19<00:00, 16.16it/s, loss=0.0264, accuracy=0.991]\n",
            "validation epoch 233: 100%|██████████| 79/79 [00:02<00:00, 30.27it/s, loss=0.457, accuracy=0.902]\n"
          ]
        },
        {
          "name": "stdout",
          "output_type": "stream",
          "text": [
            "lr: 0.0001953125\n"
          ]
        },
        {
          "name": "stderr",
          "output_type": "stream",
          "text": [
            "train epoch 234: 100%|██████████| 313/313 [00:19<00:00, 16.02it/s, loss=0.0255, accuracy=0.993]\n",
            "validation epoch 234: 100%|██████████| 79/79 [00:02<00:00, 28.88it/s, loss=0.461, accuracy=0.903]\n"
          ]
        },
        {
          "name": "stdout",
          "output_type": "stream",
          "text": [
            "lr: 0.0001953125\n"
          ]
        },
        {
          "name": "stderr",
          "output_type": "stream",
          "text": [
            "train epoch 235: 100%|██████████| 313/313 [00:19<00:00, 15.96it/s, loss=0.0274, accuracy=0.991]\n",
            "validation epoch 235: 100%|██████████| 79/79 [00:02<00:00, 29.35it/s, loss=0.462, accuracy=0.902]\n"
          ]
        },
        {
          "name": "stdout",
          "output_type": "stream",
          "text": [
            "lr: 0.0001953125\n"
          ]
        },
        {
          "name": "stderr",
          "output_type": "stream",
          "text": [
            "train epoch 236: 100%|██████████| 313/313 [00:19<00:00, 16.27it/s, loss=0.027, accuracy=0.991]\n",
            "validation epoch 236: 100%|██████████| 79/79 [00:02<00:00, 28.27it/s, loss=0.461, accuracy=0.904]\n"
          ]
        },
        {
          "name": "stdout",
          "output_type": "stream",
          "text": [
            "lr: 0.0001953125\n"
          ]
        },
        {
          "name": "stderr",
          "output_type": "stream",
          "text": [
            "train epoch 237: 100%|██████████| 313/313 [00:20<00:00, 15.51it/s, loss=0.0266, accuracy=0.991]\n",
            "validation epoch 237: 100%|██████████| 79/79 [00:02<00:00, 29.13it/s, loss=0.458, accuracy=0.903]\n"
          ]
        },
        {
          "name": "stdout",
          "output_type": "stream",
          "text": [
            "lr: 0.0001953125\n"
          ]
        },
        {
          "name": "stderr",
          "output_type": "stream",
          "text": [
            "train epoch 238: 100%|██████████| 313/313 [00:19<00:00, 15.94it/s, loss=0.0267, accuracy=0.991]\n",
            "validation epoch 238: 100%|██████████| 79/79 [00:02<00:00, 29.10it/s, loss=0.459, accuracy=0.903]\n"
          ]
        },
        {
          "name": "stdout",
          "output_type": "stream",
          "text": [
            "lr: 0.0001953125\n"
          ]
        },
        {
          "name": "stderr",
          "output_type": "stream",
          "text": [
            "train epoch 239: 100%|██████████| 313/313 [00:19<00:00, 16.12it/s, loss=0.0262, accuracy=0.991]\n",
            "validation epoch 239: 100%|██████████| 79/79 [00:02<00:00, 29.33it/s, loss=0.46, accuracy=0.9]\n"
          ]
        },
        {
          "name": "stdout",
          "output_type": "stream",
          "text": [
            "lr: 0.0001953125\n"
          ]
        },
        {
          "name": "stderr",
          "output_type": "stream",
          "text": [
            "train epoch 240: 100%|██████████| 313/313 [00:19<00:00, 16.16it/s, loss=0.0267, accuracy=0.991]\n",
            "validation epoch 240: 100%|██████████| 79/79 [00:02<00:00, 28.77it/s, loss=0.459, accuracy=0.902]\n"
          ]
        },
        {
          "name": "stdout",
          "output_type": "stream",
          "text": [
            "lr: 0.0001953125\n"
          ]
        },
        {
          "name": "stderr",
          "output_type": "stream",
          "text": [
            "train epoch 241: 100%|██████████| 313/313 [00:19<00:00, 16.24it/s, loss=0.0258, accuracy=0.991]\n",
            "validation epoch 241: 100%|██████████| 79/79 [00:02<00:00, 28.67it/s, loss=0.467, accuracy=0.901]\n"
          ]
        },
        {
          "name": "stdout",
          "output_type": "stream",
          "text": [
            "lr: 0.0001953125\n"
          ]
        },
        {
          "name": "stderr",
          "output_type": "stream",
          "text": [
            "train epoch 242: 100%|██████████| 313/313 [00:19<00:00, 15.97it/s, loss=0.0245, accuracy=0.992]\n",
            "validation epoch 242: 100%|██████████| 79/79 [00:02<00:00, 29.50it/s, loss=0.463, accuracy=0.902]\n"
          ]
        },
        {
          "name": "stdout",
          "output_type": "stream",
          "text": [
            "lr: 0.0001953125\n"
          ]
        },
        {
          "name": "stderr",
          "output_type": "stream",
          "text": [
            "train epoch 243: 100%|██████████| 313/313 [00:19<00:00, 16.18it/s, loss=0.0255, accuracy=0.992]\n",
            "validation epoch 243: 100%|██████████| 79/79 [00:02<00:00, 29.27it/s, loss=0.464, accuracy=0.901]\n"
          ]
        },
        {
          "name": "stdout",
          "output_type": "stream",
          "text": [
            "lr: 0.0001953125\n"
          ]
        },
        {
          "name": "stderr",
          "output_type": "stream",
          "text": [
            "train epoch 244: 100%|██████████| 313/313 [00:19<00:00, 16.44it/s, loss=0.0252, accuracy=0.992]\n",
            "validation epoch 244: 100%|██████████| 79/79 [00:02<00:00, 29.58it/s, loss=0.464, accuracy=0.903]\n"
          ]
        },
        {
          "name": "stdout",
          "output_type": "stream",
          "text": [
            "lr: 0.0001953125\n"
          ]
        },
        {
          "name": "stderr",
          "output_type": "stream",
          "text": [
            "train epoch 245: 100%|██████████| 313/313 [00:19<00:00, 16.20it/s, loss=0.0276, accuracy=0.991]\n",
            "validation epoch 245: 100%|██████████| 79/79 [00:03<00:00, 23.33it/s, loss=0.459, accuracy=0.903]\n"
          ]
        },
        {
          "name": "stdout",
          "output_type": "stream",
          "text": [
            "lr: 0.0001953125\n"
          ]
        },
        {
          "name": "stderr",
          "output_type": "stream",
          "text": [
            "train epoch 246: 100%|██████████| 313/313 [00:19<00:00, 15.92it/s, loss=0.026, accuracy=0.992]\n",
            "validation epoch 246: 100%|██████████| 79/79 [00:02<00:00, 29.61it/s, loss=0.467, accuracy=0.902]\n"
          ]
        },
        {
          "name": "stdout",
          "output_type": "stream",
          "text": [
            "lr: 0.0001953125\n"
          ]
        },
        {
          "name": "stderr",
          "output_type": "stream",
          "text": [
            "train epoch 247: 100%|██████████| 313/313 [00:19<00:00, 16.10it/s, loss=0.0249, accuracy=0.992]\n",
            "validation epoch 247: 100%|██████████| 79/79 [00:02<00:00, 29.23it/s, loss=0.462, accuracy=0.902]\n"
          ]
        },
        {
          "name": "stdout",
          "output_type": "stream",
          "text": [
            "lr: 0.0001953125\n"
          ]
        },
        {
          "name": "stderr",
          "output_type": "stream",
          "text": [
            "train epoch 248: 100%|██████████| 313/313 [00:19<00:00, 16.19it/s, loss=0.0271, accuracy=0.991]\n",
            "validation epoch 248: 100%|██████████| 79/79 [00:02<00:00, 29.05it/s, loss=0.462, accuracy=0.902]\n"
          ]
        },
        {
          "name": "stdout",
          "output_type": "stream",
          "text": [
            "lr: 0.0001953125\n"
          ]
        },
        {
          "name": "stderr",
          "output_type": "stream",
          "text": [
            "train epoch 249: 100%|██████████| 313/313 [00:19<00:00, 15.89it/s, loss=0.0262, accuracy=0.991]\n",
            "validation epoch 249: 100%|██████████| 79/79 [00:02<00:00, 28.43it/s, loss=0.466, accuracy=0.903]\n"
          ]
        },
        {
          "name": "stdout",
          "output_type": "stream",
          "text": [
            "lr: 9.765625e-05\n"
          ]
        },
        {
          "name": "stderr",
          "output_type": "stream",
          "text": [
            "train epoch 250: 100%|██████████| 313/313 [00:19<00:00, 16.21it/s, loss=0.027, accuracy=0.991]\n",
            "validation epoch 250: 100%|██████████| 79/79 [00:02<00:00, 29.26it/s, loss=0.464, accuracy=0.903]\n"
          ]
        },
        {
          "name": "stdout",
          "output_type": "stream",
          "text": [
            "lr: 9.765625e-05\n"
          ]
        },
        {
          "name": "stderr",
          "output_type": "stream",
          "text": [
            "train epoch 251: 100%|██████████| 313/313 [00:19<00:00, 16.05it/s, loss=0.0285, accuracy=0.991]\n",
            "validation epoch 251: 100%|██████████| 79/79 [00:02<00:00, 29.32it/s, loss=0.464, accuracy=0.901]\n"
          ]
        },
        {
          "name": "stdout",
          "output_type": "stream",
          "text": [
            "lr: 9.765625e-05\n"
          ]
        },
        {
          "name": "stderr",
          "output_type": "stream",
          "text": [
            "train epoch 252: 100%|██████████| 313/313 [00:19<00:00, 16.24it/s, loss=0.0262, accuracy=0.991]\n",
            "validation epoch 252: 100%|██████████| 79/79 [00:02<00:00, 29.38it/s, loss=0.461, accuracy=0.903]\n"
          ]
        },
        {
          "name": "stdout",
          "output_type": "stream",
          "text": [
            "lr: 9.765625e-05\n"
          ]
        },
        {
          "name": "stderr",
          "output_type": "stream",
          "text": [
            "train epoch 253: 100%|██████████| 313/313 [00:19<00:00, 16.11it/s, loss=0.0263, accuracy=0.992]\n",
            "validation epoch 253: 100%|██████████| 79/79 [00:02<00:00, 29.31it/s, loss=0.47, accuracy=0.902]\n"
          ]
        },
        {
          "name": "stdout",
          "output_type": "stream",
          "text": [
            "lr: 9.765625e-05\n"
          ]
        },
        {
          "name": "stderr",
          "output_type": "stream",
          "text": [
            "train epoch 254: 100%|██████████| 313/313 [00:20<00:00, 15.52it/s, loss=0.024, accuracy=0.993]\n",
            "validation epoch 254: 100%|██████████| 79/79 [00:02<00:00, 27.25it/s, loss=0.459, accuracy=0.903]\n"
          ]
        },
        {
          "name": "stdout",
          "output_type": "stream",
          "text": [
            "lr: 9.765625e-05\n"
          ]
        },
        {
          "name": "stderr",
          "output_type": "stream",
          "text": [
            "train epoch 255: 100%|██████████| 313/313 [00:19<00:00, 16.11it/s, loss=0.0257, accuracy=0.991]\n",
            "validation epoch 255: 100%|██████████| 79/79 [00:02<00:00, 29.33it/s, loss=0.462, accuracy=0.902]\n"
          ]
        },
        {
          "name": "stdout",
          "output_type": "stream",
          "text": [
            "lr: 9.765625e-05\n"
          ]
        },
        {
          "name": "stderr",
          "output_type": "stream",
          "text": [
            "train epoch 256: 100%|██████████| 313/313 [00:19<00:00, 15.81it/s, loss=0.0248, accuracy=0.992]\n",
            "validation epoch 256: 100%|██████████| 79/79 [00:02<00:00, 28.57it/s, loss=0.463, accuracy=0.902]\n"
          ]
        },
        {
          "name": "stdout",
          "output_type": "stream",
          "text": [
            "lr: 9.765625e-05\n"
          ]
        },
        {
          "name": "stderr",
          "output_type": "stream",
          "text": [
            "train epoch 257: 100%|██████████| 313/313 [00:19<00:00, 16.15it/s, loss=0.0258, accuracy=0.992]\n",
            "validation epoch 257: 100%|██████████| 79/79 [00:02<00:00, 29.18it/s, loss=0.466, accuracy=0.902]\n"
          ]
        },
        {
          "name": "stdout",
          "output_type": "stream",
          "text": [
            "lr: 9.765625e-05\n"
          ]
        },
        {
          "name": "stderr",
          "output_type": "stream",
          "text": [
            "train epoch 258: 100%|██████████| 313/313 [00:19<00:00, 16.17it/s, loss=0.0259, accuracy=0.991]\n",
            "validation epoch 258: 100%|██████████| 79/79 [00:02<00:00, 29.53it/s, loss=0.462, accuracy=0.902]\n"
          ]
        },
        {
          "name": "stdout",
          "output_type": "stream",
          "text": [
            "lr: 9.765625e-05\n"
          ]
        },
        {
          "name": "stderr",
          "output_type": "stream",
          "text": [
            "train epoch 259: 100%|██████████| 313/313 [00:19<00:00, 16.19it/s, loss=0.0245, accuracy=0.992]\n",
            "validation epoch 259: 100%|██████████| 79/79 [00:02<00:00, 28.25it/s, loss=0.468, accuracy=0.9]\n"
          ]
        },
        {
          "name": "stdout",
          "output_type": "stream",
          "text": [
            "lr: 9.765625e-05\n"
          ]
        },
        {
          "name": "stderr",
          "output_type": "stream",
          "text": [
            "train epoch 260: 100%|██████████| 313/313 [00:19<00:00, 15.94it/s, loss=0.0254, accuracy=0.992]\n",
            "validation epoch 260: 100%|██████████| 79/79 [00:02<00:00, 29.17it/s, loss=0.463, accuracy=0.903]\n"
          ]
        },
        {
          "name": "stdout",
          "output_type": "stream",
          "text": [
            "lr: 9.765625e-05\n"
          ]
        },
        {
          "name": "stderr",
          "output_type": "stream",
          "text": [
            "train epoch 261: 100%|██████████| 313/313 [00:19<00:00, 16.22it/s, loss=0.0247, accuracy=0.992]\n",
            "validation epoch 261: 100%|██████████| 79/79 [00:02<00:00, 29.25it/s, loss=0.461, accuracy=0.904]\n"
          ]
        },
        {
          "name": "stdout",
          "output_type": "stream",
          "text": [
            "lr: 9.765625e-05\n"
          ]
        },
        {
          "name": "stderr",
          "output_type": "stream",
          "text": [
            "train epoch 262: 100%|██████████| 313/313 [00:19<00:00, 16.26it/s, loss=0.0255, accuracy=0.992]\n",
            "validation epoch 262: 100%|██████████| 79/79 [00:02<00:00, 29.26it/s, loss=0.465, accuracy=0.902]\n"
          ]
        },
        {
          "name": "stdout",
          "output_type": "stream",
          "text": [
            "lr: 9.765625e-05\n"
          ]
        },
        {
          "name": "stderr",
          "output_type": "stream",
          "text": [
            "train epoch 263: 100%|██████████| 313/313 [00:20<00:00, 15.40it/s, loss=0.0246, accuracy=0.992]\n",
            "validation epoch 263: 100%|██████████| 79/79 [00:02<00:00, 27.89it/s, loss=0.461, accuracy=0.902]\n"
          ]
        },
        {
          "name": "stdout",
          "output_type": "stream",
          "text": [
            "lr: 9.765625e-05\n"
          ]
        },
        {
          "name": "stderr",
          "output_type": "stream",
          "text": [
            "train epoch 264: 100%|██████████| 313/313 [00:19<00:00, 16.09it/s, loss=0.025, accuracy=0.992]\n",
            "validation epoch 264: 100%|██████████| 79/79 [00:02<00:00, 29.19it/s, loss=0.465, accuracy=0.902]\n"
          ]
        },
        {
          "name": "stdout",
          "output_type": "stream",
          "text": [
            "lr: 9.765625e-05\n"
          ]
        },
        {
          "name": "stderr",
          "output_type": "stream",
          "text": [
            "train epoch 265: 100%|██████████| 313/313 [00:19<00:00, 15.85it/s, loss=0.0266, accuracy=0.991]\n",
            "validation epoch 265: 100%|██████████| 79/79 [00:02<00:00, 28.91it/s, loss=0.466, accuracy=0.901]\n"
          ]
        },
        {
          "name": "stdout",
          "output_type": "stream",
          "text": [
            "lr: 9.765625e-05\n"
          ]
        },
        {
          "name": "stderr",
          "output_type": "stream",
          "text": [
            "train epoch 266: 100%|██████████| 313/313 [00:19<00:00, 16.07it/s, loss=0.0256, accuracy=0.992]\n",
            "validation epoch 266: 100%|██████████| 79/79 [00:02<00:00, 29.25it/s, loss=0.465, accuracy=0.902]\n"
          ]
        },
        {
          "name": "stdout",
          "output_type": "stream",
          "text": [
            "lr: 9.765625e-05\n"
          ]
        },
        {
          "name": "stderr",
          "output_type": "stream",
          "text": [
            "train epoch 267: 100%|██████████| 313/313 [00:19<00:00, 15.91it/s, loss=0.0235, accuracy=0.992]\n",
            "validation epoch 267: 100%|██████████| 79/79 [00:02<00:00, 28.31it/s, loss=0.462, accuracy=0.903]\n"
          ]
        },
        {
          "name": "stdout",
          "output_type": "stream",
          "text": [
            "lr: 9.765625e-05\n"
          ]
        },
        {
          "name": "stderr",
          "output_type": "stream",
          "text": [
            "train epoch 268: 100%|██████████| 313/313 [00:19<00:00, 16.16it/s, loss=0.0264, accuracy=0.991]\n",
            "validation epoch 268: 100%|██████████| 79/79 [00:02<00:00, 29.21it/s, loss=0.461, accuracy=0.903]\n"
          ]
        },
        {
          "name": "stdout",
          "output_type": "stream",
          "text": [
            "lr: 9.765625e-05\n"
          ]
        },
        {
          "name": "stderr",
          "output_type": "stream",
          "text": [
            "train epoch 269: 100%|██████████| 313/313 [00:19<00:00, 16.00it/s, loss=0.0233, accuracy=0.993]\n",
            "validation epoch 269: 100%|██████████| 79/79 [00:02<00:00, 28.68it/s, loss=0.464, accuracy=0.903]\n"
          ]
        },
        {
          "name": "stdout",
          "output_type": "stream",
          "text": [
            "lr: 9.765625e-05\n"
          ]
        },
        {
          "name": "stderr",
          "output_type": "stream",
          "text": [
            "train epoch 270: 100%|██████████| 313/313 [00:19<00:00, 16.01it/s, loss=0.0255, accuracy=0.992]\n",
            "validation epoch 270: 100%|██████████| 79/79 [00:02<00:00, 29.53it/s, loss=0.459, accuracy=0.903]\n"
          ]
        },
        {
          "name": "stdout",
          "output_type": "stream",
          "text": [
            "lr: 9.765625e-05\n"
          ]
        },
        {
          "name": "stderr",
          "output_type": "stream",
          "text": [
            "train epoch 271: 100%|██████████| 313/313 [00:19<00:00, 16.05it/s, loss=0.0253, accuracy=0.993]\n",
            "validation epoch 271: 100%|██████████| 79/79 [00:02<00:00, 29.01it/s, loss=0.465, accuracy=0.902]\n"
          ]
        },
        {
          "name": "stdout",
          "output_type": "stream",
          "text": [
            "lr: 9.765625e-05\n"
          ]
        },
        {
          "name": "stderr",
          "output_type": "stream",
          "text": [
            "train epoch 272: 100%|██████████| 313/313 [00:20<00:00, 15.42it/s, loss=0.0244, accuracy=0.992]\n",
            "validation epoch 272: 100%|██████████| 79/79 [00:02<00:00, 28.44it/s, loss=0.468, accuracy=0.903]\n"
          ]
        },
        {
          "name": "stdout",
          "output_type": "stream",
          "text": [
            "lr: 9.765625e-05\n"
          ]
        },
        {
          "name": "stderr",
          "output_type": "stream",
          "text": [
            "train epoch 273: 100%|██████████| 313/313 [00:19<00:00, 16.14it/s, loss=0.0247, accuracy=0.992]\n",
            "validation epoch 273: 100%|██████████| 79/79 [00:02<00:00, 29.20it/s, loss=0.468, accuracy=0.903]\n"
          ]
        },
        {
          "name": "stdout",
          "output_type": "stream",
          "text": [
            "lr: 9.765625e-05\n"
          ]
        },
        {
          "name": "stderr",
          "output_type": "stream",
          "text": [
            "train epoch 274: 100%|██████████| 313/313 [00:19<00:00, 15.99it/s, loss=0.0257, accuracy=0.992]\n",
            "validation epoch 274: 100%|██████████| 79/79 [00:02<00:00, 28.32it/s, loss=0.463, accuracy=0.902]\n"
          ]
        },
        {
          "name": "stdout",
          "output_type": "stream",
          "text": [
            "lr: 4.8828125e-05\n"
          ]
        },
        {
          "name": "stderr",
          "output_type": "stream",
          "text": [
            "train epoch 275: 100%|██████████| 313/313 [00:19<00:00, 16.09it/s, loss=0.0268, accuracy=0.991]\n",
            "validation epoch 275: 100%|██████████| 79/79 [00:02<00:00, 28.52it/s, loss=0.464, accuracy=0.901]\n"
          ]
        },
        {
          "name": "stdout",
          "output_type": "stream",
          "text": [
            "lr: 4.8828125e-05\n"
          ]
        },
        {
          "name": "stderr",
          "output_type": "stream",
          "text": [
            "train epoch 276: 100%|██████████| 313/313 [00:19<00:00, 16.01it/s, loss=0.0261, accuracy=0.992]\n",
            "validation epoch 276: 100%|██████████| 79/79 [00:02<00:00, 29.17it/s, loss=0.47, accuracy=0.901]\n"
          ]
        },
        {
          "name": "stdout",
          "output_type": "stream",
          "text": [
            "lr: 4.8828125e-05\n"
          ]
        },
        {
          "name": "stderr",
          "output_type": "stream",
          "text": [
            "train epoch 277: 100%|██████████| 313/313 [00:19<00:00, 16.11it/s, loss=0.0267, accuracy=0.991]\n",
            "validation epoch 277: 100%|██████████| 79/79 [00:02<00:00, 28.12it/s, loss=0.463, accuracy=0.902]\n"
          ]
        },
        {
          "name": "stdout",
          "output_type": "stream",
          "text": [
            "lr: 4.8828125e-05\n"
          ]
        },
        {
          "name": "stderr",
          "output_type": "stream",
          "text": [
            "train epoch 278: 100%|██████████| 313/313 [00:19<00:00, 15.82it/s, loss=0.0251, accuracy=0.992]\n",
            "validation epoch 278: 100%|██████████| 79/79 [00:02<00:00, 29.38it/s, loss=0.464, accuracy=0.903]\n"
          ]
        },
        {
          "name": "stdout",
          "output_type": "stream",
          "text": [
            "lr: 4.8828125e-05\n"
          ]
        },
        {
          "name": "stderr",
          "output_type": "stream",
          "text": [
            "train epoch 279: 100%|██████████| 313/313 [00:19<00:00, 16.05it/s, loss=0.0277, accuracy=0.991]\n",
            "validation epoch 279: 100%|██████████| 79/79 [00:02<00:00, 28.27it/s, loss=0.463, accuracy=0.902]\n"
          ]
        },
        {
          "name": "stdout",
          "output_type": "stream",
          "text": [
            "lr: 4.8828125e-05\n"
          ]
        },
        {
          "name": "stderr",
          "output_type": "stream",
          "text": [
            "train epoch 280: 100%|██████████| 313/313 [00:19<00:00, 16.12it/s, loss=0.0258, accuracy=0.992]\n",
            "validation epoch 280: 100%|██████████| 79/79 [00:02<00:00, 28.72it/s, loss=0.47, accuracy=0.903]\n"
          ]
        },
        {
          "name": "stdout",
          "output_type": "stream",
          "text": [
            "lr: 4.8828125e-05\n"
          ]
        },
        {
          "name": "stderr",
          "output_type": "stream",
          "text": [
            "train epoch 281: 100%|██████████| 313/313 [00:20<00:00, 15.21it/s, loss=0.0258, accuracy=0.992]\n",
            "validation epoch 281: 100%|██████████| 79/79 [00:02<00:00, 27.53it/s, loss=0.462, accuracy=0.902]\n"
          ]
        },
        {
          "name": "stdout",
          "output_type": "stream",
          "text": [
            "lr: 4.8828125e-05\n"
          ]
        },
        {
          "name": "stderr",
          "output_type": "stream",
          "text": [
            "train epoch 282: 100%|██████████| 313/313 [00:19<00:00, 15.90it/s, loss=0.0261, accuracy=0.992]\n",
            "validation epoch 282: 100%|██████████| 79/79 [00:02<00:00, 29.14it/s, loss=0.464, accuracy=0.903]\n"
          ]
        },
        {
          "name": "stdout",
          "output_type": "stream",
          "text": [
            "lr: 4.8828125e-05\n"
          ]
        },
        {
          "name": "stderr",
          "output_type": "stream",
          "text": [
            "train epoch 283: 100%|██████████| 313/313 [00:19<00:00, 15.98it/s, loss=0.0255, accuracy=0.992]\n",
            "validation epoch 283: 100%|██████████| 79/79 [00:02<00:00, 28.02it/s, loss=0.463, accuracy=0.902]\n"
          ]
        },
        {
          "name": "stdout",
          "output_type": "stream",
          "text": [
            "lr: 4.8828125e-05\n"
          ]
        },
        {
          "name": "stderr",
          "output_type": "stream",
          "text": [
            "train epoch 284: 100%|██████████| 313/313 [00:19<00:00, 15.87it/s, loss=0.0248, accuracy=0.992]\n",
            "validation epoch 284: 100%|██████████| 79/79 [00:02<00:00, 28.81it/s, loss=0.465, accuracy=0.901]\n"
          ]
        },
        {
          "name": "stdout",
          "output_type": "stream",
          "text": [
            "lr: 4.8828125e-05\n"
          ]
        },
        {
          "name": "stderr",
          "output_type": "stream",
          "text": [
            "train epoch 285: 100%|██████████| 313/313 [00:19<00:00, 15.71it/s, loss=0.0256, accuracy=0.992]\n",
            "validation epoch 285: 100%|██████████| 79/79 [00:02<00:00, 28.56it/s, loss=0.466, accuracy=0.902]\n"
          ]
        },
        {
          "name": "stdout",
          "output_type": "stream",
          "text": [
            "lr: 4.8828125e-05\n"
          ]
        },
        {
          "name": "stderr",
          "output_type": "stream",
          "text": [
            "train epoch 286: 100%|██████████| 313/313 [00:19<00:00, 16.00it/s, loss=0.0269, accuracy=0.991]\n",
            "validation epoch 286: 100%|██████████| 79/79 [00:02<00:00, 28.74it/s, loss=0.465, accuracy=0.901]\n"
          ]
        },
        {
          "name": "stdout",
          "output_type": "stream",
          "text": [
            "lr: 4.8828125e-05\n"
          ]
        },
        {
          "name": "stderr",
          "output_type": "stream",
          "text": [
            "train epoch 287: 100%|██████████| 313/313 [00:19<00:00, 16.00it/s, loss=0.0244, accuracy=0.992]\n",
            "validation epoch 287: 100%|██████████| 79/79 [00:02<00:00, 28.30it/s, loss=0.462, accuracy=0.904]\n"
          ]
        },
        {
          "name": "stdout",
          "output_type": "stream",
          "text": [
            "lr: 4.8828125e-05\n"
          ]
        },
        {
          "name": "stderr",
          "output_type": "stream",
          "text": [
            "train epoch 288: 100%|██████████| 313/313 [00:19<00:00, 15.93it/s, loss=0.0264, accuracy=0.992]\n",
            "validation epoch 288: 100%|██████████| 79/79 [00:02<00:00, 28.77it/s, loss=0.465, accuracy=0.903]\n"
          ]
        },
        {
          "name": "stdout",
          "output_type": "stream",
          "text": [
            "lr: 4.8828125e-05\n"
          ]
        },
        {
          "name": "stderr",
          "output_type": "stream",
          "text": [
            "train epoch 289: 100%|██████████| 313/313 [00:20<00:00, 15.06it/s, loss=0.0246, accuracy=0.993]\n",
            "validation epoch 289: 100%|██████████| 79/79 [00:02<00:00, 28.54it/s, loss=0.462, accuracy=0.903]\n"
          ]
        },
        {
          "name": "stdout",
          "output_type": "stream",
          "text": [
            "lr: 4.8828125e-05\n"
          ]
        },
        {
          "name": "stderr",
          "output_type": "stream",
          "text": [
            "train epoch 290: 100%|██████████| 313/313 [00:19<00:00, 16.07it/s, loss=0.0246, accuracy=0.992]\n",
            "validation epoch 290: 100%|██████████| 79/79 [00:02<00:00, 27.82it/s, loss=0.466, accuracy=0.903]\n"
          ]
        },
        {
          "name": "stdout",
          "output_type": "stream",
          "text": [
            "lr: 4.8828125e-05\n"
          ]
        },
        {
          "name": "stderr",
          "output_type": "stream",
          "text": [
            "train epoch 291: 100%|██████████| 313/313 [00:19<00:00, 16.01it/s, loss=0.0261, accuracy=0.991]\n",
            "validation epoch 291: 100%|██████████| 79/79 [00:02<00:00, 28.56it/s, loss=0.461, accuracy=0.901]\n"
          ]
        },
        {
          "name": "stdout",
          "output_type": "stream",
          "text": [
            "lr: 4.8828125e-05\n"
          ]
        },
        {
          "name": "stderr",
          "output_type": "stream",
          "text": [
            "train epoch 292: 100%|██████████| 313/313 [00:19<00:00, 15.88it/s, loss=0.0248, accuracy=0.992]\n",
            "validation epoch 292: 100%|██████████| 79/79 [00:02<00:00, 27.79it/s, loss=0.458, accuracy=0.904]\n"
          ]
        },
        {
          "name": "stdout",
          "output_type": "stream",
          "text": [
            "lr: 4.8828125e-05\n"
          ]
        },
        {
          "name": "stderr",
          "output_type": "stream",
          "text": [
            "train epoch 293: 100%|██████████| 313/313 [00:19<00:00, 15.81it/s, loss=0.0249, accuracy=0.992]\n",
            "validation epoch 293: 100%|██████████| 79/79 [00:02<00:00, 28.59it/s, loss=0.467, accuracy=0.902]\n"
          ]
        },
        {
          "name": "stdout",
          "output_type": "stream",
          "text": [
            "lr: 4.8828125e-05\n"
          ]
        },
        {
          "name": "stderr",
          "output_type": "stream",
          "text": [
            "train epoch 294: 100%|██████████| 313/313 [00:19<00:00, 15.81it/s, loss=0.0275, accuracy=0.991]\n",
            "validation epoch 294: 100%|██████████| 79/79 [00:02<00:00, 29.18it/s, loss=0.466, accuracy=0.903]\n"
          ]
        },
        {
          "name": "stdout",
          "output_type": "stream",
          "text": [
            "lr: 4.8828125e-05\n"
          ]
        },
        {
          "name": "stderr",
          "output_type": "stream",
          "text": [
            "train epoch 295: 100%|██████████| 313/313 [00:19<00:00, 15.80it/s, loss=0.0258, accuracy=0.992]\n",
            "validation epoch 295: 100%|██████████| 79/79 [00:02<00:00, 28.42it/s, loss=0.46, accuracy=0.904]\n"
          ]
        },
        {
          "name": "stdout",
          "output_type": "stream",
          "text": [
            "lr: 4.8828125e-05\n"
          ]
        },
        {
          "name": "stderr",
          "output_type": "stream",
          "text": [
            "train epoch 296: 100%|██████████| 313/313 [00:19<00:00, 15.82it/s, loss=0.0251, accuracy=0.992]\n",
            "validation epoch 296: 100%|██████████| 79/79 [00:02<00:00, 29.01it/s, loss=0.465, accuracy=0.902]\n"
          ]
        },
        {
          "name": "stdout",
          "output_type": "stream",
          "text": [
            "lr: 4.8828125e-05\n"
          ]
        },
        {
          "name": "stderr",
          "output_type": "stream",
          "text": [
            "train epoch 297: 100%|██████████| 313/313 [00:19<00:00, 15.89it/s, loss=0.0235, accuracy=0.992]\n",
            "validation epoch 297: 100%|██████████| 79/79 [00:02<00:00, 27.08it/s, loss=0.463, accuracy=0.902]\n"
          ]
        },
        {
          "name": "stdout",
          "output_type": "stream",
          "text": [
            "lr: 4.8828125e-05\n"
          ]
        },
        {
          "name": "stderr",
          "output_type": "stream",
          "text": [
            "train epoch 298: 100%|██████████| 313/313 [00:20<00:00, 15.19it/s, loss=0.0267, accuracy=0.991]\n",
            "validation epoch 298: 100%|██████████| 79/79 [00:02<00:00, 28.17it/s, loss=0.464, accuracy=0.903]\n"
          ]
        },
        {
          "name": "stdout",
          "output_type": "stream",
          "text": [
            "lr: 4.8828125e-05\n"
          ]
        },
        {
          "name": "stderr",
          "output_type": "stream",
          "text": [
            "train epoch 299: 100%|██████████| 313/313 [00:20<00:00, 15.51it/s, loss=0.0256, accuracy=0.992]\n",
            "validation epoch 299: 100%|██████████| 79/79 [00:02<00:00, 28.16it/s, loss=0.463, accuracy=0.904]\n"
          ]
        },
        {
          "name": "stdout",
          "output_type": "stream",
          "text": [
            "lr: 2.44140625e-05\n"
          ]
        }
      ],
      "source": [
        "# Let's start training\n",
        "C10train.train_erm()"
      ]
    },
    {
      "attachments": {},
      "cell_type": "markdown",
      "metadata": {
        "id": "fAobrlGyLvkj"
      },
      "source": [
        "#### Testing"
      ]
    },
    {
      "attachments": {},
      "cell_type": "markdown",
      "metadata": {},
      "source": [
        "Perform the evaluation of the model by using the parameters of the epoch with highest accuracy in validation phase. This step is done without performing selective classification, so the model never abstains."
      ]
    },
    {
      "cell_type": "code",
      "execution_count": null,
      "metadata": {
        "colab": {
          "base_uri": "https://localhost:8080/"
        },
        "id": "YHz8KaA3Q9pr",
        "outputId": "71244e4b-7e89-4d67-c5c3-84fbae1a7e58"
      },
      "outputs": [
        {
          "name": "stdout",
          "output_type": "stream",
          "text": [
            "----------testing the model----------\n"
          ]
        },
        {
          "name": "stderr",
          "output_type": "stream",
          "text": [
            "test epoch 292: 100%|██████████| 79/79 [00:08<00:00,  9.23it/s, loss=0.521, accuracy=0.891]"
          ]
        },
        {
          "name": "stdout",
          "output_type": "stream",
          "text": [
            "----------Test accuracy =0.8912183544303798----------\n"
          ]
        },
        {
          "name": "stderr",
          "output_type": "stream",
          "text": [
            "\n"
          ]
        }
      ],
      "source": [
        "C10train.test(C10train.test_loader,\"best_erm_model.pt\")"
      ]
    },
    {
      "cell_type": "markdown",
      "metadata": {
        "id": "48_T8JRBMd-a"
      },
      "source": [
        "#### Masking"
      ]
    },
    {
      "cell_type": "code",
      "execution_count": null,
      "metadata": {
        "colab": {
          "base_uri": "https://localhost:8080/"
        },
        "id": "XYlp_Gakk4GK",
        "outputId": "4bcc29f3-8f19-4bc8-8ff8-308db33416d9"
      },
      "outputs": [
        {
          "name": "stderr",
          "output_type": "stream",
          "text": [
            "100%|██████████| 50000/50000 [11:49<00:00, 70.52it/s]\n",
            "train epoch 300: 100%|██████████| 313/313 [00:15<00:00, 20.83it/s, loss=0.408, accuracy=0.884]\n",
            "validation epoch 300: 100%|██████████| 79/79 [00:02<00:00, 28.96it/s, loss=0.505, accuracy=0.889]\n"
          ]
        }
      ],
      "source": [
        "def finetune(best_resume_checkpoint_path: str=None, last_resume_checkpoint_path: str=None) -> None:\n",
        "  \n",
        "  if(best_resume_checkpoint_path!=None and last_resume_checkpoint_path!=None):\n",
        "    # build the dataset composed by masked images and the data loader\n",
        "    C10train.mask_data(best_resume_checkpoint_path)\n",
        "\n",
        "    # resume needed data stored in saved models\n",
        "    checkpoint = torch.load(last_resume_checkpoint_path)\n",
        "    C10train.model.load_state_dict(checkpoint['model_state_dict'])\n",
        "    C10train.optimizer.load_state_dict(checkpoint['optimizer_state_dict'])\n",
        "    resume_epoch = checkpoint['epoch'] + 1\n",
        "\n",
        "    # perform a single training epoch on the masked dataset and build the 'masked model'\n",
        "    C10train.run_an_epoch(data_loader=C10train.masked_loader,epoch=resume_epoch,mode=\"train\",device=C10train.device)\n",
        "    val_accuracy = C10train.run_an_epoch(\n",
        "        data_loader=C10train.val_loader, epoch=resume_epoch, mode=\"validation\",device=C10train.device\n",
        "    )\n",
        "    torch.save({\n",
        "                'epoch': resume_epoch,\n",
        "                'model_state_dict': C10train.model.state_dict(),\n",
        "                'optimizer_state_dict': C10train.optimizer.state_dict(),\n",
        "                'scheduler_state_dict': C10train.lr_scheduler.state_dict(),\n",
        "                'accuracy' : val_accuracy,\n",
        "                }, \"masked_erm_model.pt\")\n",
        "    \n",
        "\n",
        "finetune(best_resume_checkpoint_path=\"best_erm_model.pt\",last_resume_checkpoint_path=\"last_erm_model.pt\")"
      ]
    },
    {
      "cell_type": "code",
      "execution_count": null,
      "metadata": {
        "colab": {
          "base_uri": "https://localhost:8080/"
        },
        "id": "QMtaNsco4Cqo",
        "outputId": "4445de84-b746-438d-c81c-f04f63147c6e"
      },
      "outputs": [
        {
          "name": "stdout",
          "output_type": "stream",
          "text": [
            "----------testing the model----------\n"
          ]
        },
        {
          "name": "stderr",
          "output_type": "stream",
          "text": [
            "test epoch 300: 100%|██████████| 79/79 [00:02<00:00, 29.38it/s, loss=0.575, accuracy=0.879]"
          ]
        },
        {
          "name": "stdout",
          "output_type": "stream",
          "text": [
            "----------Test accuracy =0.8791534810126582----------\n"
          ]
        },
        {
          "name": "stderr",
          "output_type": "stream",
          "text": [
            "\n"
          ]
        }
      ],
      "source": [
        "# perform evaluation on the built masked model \n",
        "C10train.test(C10train.test_loader,\"masked_erm_model.pt\")"
      ]
    },
    {
      "cell_type": "markdown",
      "metadata": {
        "id": "2iLMy7C-O4EN"
      },
      "source": [
        "#### Selective Classification"
      ]
    },
    {
      "cell_type": "code",
      "execution_count": null,
      "metadata": {
        "id": "SUXYzR0gO9Gy"
      },
      "outputs": [],
      "source": [
        "import copy\n",
        "from tqdm import tqdm\n",
        "import torch.nn.functional as Functional"
      ]
    },
    {
      "cell_type": "code",
      "execution_count": null,
      "metadata": {
        "id": "dQwu2Of3ZBpx"
      },
      "outputs": [],
      "source": [
        "def test_selective_classification(erm_model_checkpoint_path: str=None, finetuned_model_checkpoint_path: str=None):\n",
        "        # verifies the existence of the models\n",
        "        assert erm_model_checkpoint_path is not None, \"erm model's checkpoint path should be passed to the test function to test on that\"\n",
        "        assert finetuned_model_checkpoint_path is not None, \"finetuned model's checkpoint path should be passed to the test function to test on that\"\n",
        "        \n",
        "        # create a copy of the model used in train\n",
        "        finetuned_model = copy.deepcopy(C10train.model)\n",
        "        finetuned_model = finetuned_model.to(C10train.device)\n",
        "        C10train.logger.info(\n",
        "            \"-\" * 10 + \"testing with selective classification\" + \"-\" * 10, print_msg=True)\n",
        "        \n",
        "        # set the 'standard' model in evaluation phase and load parameters of the model\n",
        "        checkpoint_erm = torch.load(erm_model_checkpoint_path)\n",
        "        C10train.model.load_state_dict(checkpoint_erm['model_state_dict'])\n",
        "        C10train.model.eval()\n",
        "        \n",
        "        # set the 'fine tuned' model in evaluation phase and load parameters of the model\n",
        "        checkpoint_finetuned = torch.load(finetuned_model_checkpoint_path)\n",
        "        finetuned_model.load_state_dict(checkpoint_finetuned['model_state_dict'])\n",
        "        finetuned_model.eval()\n",
        "\n",
        "        # initialize needed structures\n",
        "        val_equals = []\n",
        "        val_prob = []\n",
        "        test_equals = []\n",
        "        test_prob = []\n",
        "\n",
        "\n",
        "        with torch.no_grad():\n",
        "            # round over validation dataset\n",
        "            for inputs, targets in tqdm(C10train.val_loader):\n",
        "                inputs, targets = inputs.to(\n",
        "                    C10train.device), targets.to(C10train.device)\n",
        "\n",
        "                # 'standard' model\n",
        "                outputs = C10train.model(inputs)\n",
        "                output_prob = Functional.softmax(outputs, dim=1)\n",
        "\n",
        "                # 'fine tuned' model\n",
        "                ft_outputs = finetuned_model(inputs)\n",
        "                ft_output_prob = Functional.softmax(\n",
        "                    ft_outputs, dim=1)\n",
        "                \n",
        "                # combine probabilities of the models\n",
        "                probabilities = Functional.softmax(\n",
        "                    output_prob * ft_output_prob, dim=1)\n",
        "                \n",
        "                # define for each element in 'probabilities' the class in\n",
        "                # which it is predicted and the related probability\n",
        "                # add the probability values found in the related structure\n",
        "                prob_class, predictions_class = probabilities.data.max(1)\n",
        "                val_prob.append(prob_class)\n",
        "                \n",
        "                # find the elements which prediction is equal to target\n",
        "                equals = predictions_class.cpu().eq(targets.data.cpu())\n",
        "                val_equals.append(equals)\n",
        "\n",
        "            # define structures that contain data extracted on validation dataset\n",
        "            val_equals = torch.cat(val_equals, 0).cpu()\n",
        "            val_prob = torch.cat(val_prob, 0).cpu()\n",
        "            val_indices = torch.sort(val_prob, descending=True)[1]\n",
        "            val_equals = torch.gather(val_equals, dim=0, index=val_indices)\n",
        "            val_prob = torch.gather(val_prob, dim=0, index=val_indices)\n",
        "\n",
        "            # round over test dataset\n",
        "            for inputs, targets in tqdm(C10train.test_loader):\n",
        "                inputs, targets = inputs.to(\n",
        "                    C10train.device), targets.to(C10train.device)\n",
        "\n",
        "                # 'standard' model\n",
        "                outputs = C10train.model(inputs)\n",
        "                output_prob = Functional.softmax(outputs, dim=1)\n",
        "\n",
        "                # 'fine tuned' model\n",
        "                ft_outputs = finetuned_model(inputs)\n",
        "                ft_output_prob = Functional.softmax(\n",
        "                    ft_outputs, dim=1)\n",
        "                \n",
        "                # combine probabilities of the models over test set\n",
        "                probabilities = Functional.softmax(\n",
        "                    output_prob * ft_output_prob, dim=1)\n",
        "                \n",
        "                # define for each element in 'probabilities' the class in\n",
        "                # which it is predicted and the related probability\n",
        "                # add the probability values found in the related structure\n",
        "                prob_class, predictions_class = probabilities.data.max(1)\n",
        "                test_prob.append(prob_class)\n",
        "\n",
        "                # find the elements which prediction is equal to target\n",
        "                equals = predictions_class.cpu().eq(targets.data.cpu())\n",
        "                test_equals.append(equals)\n",
        "            \n",
        "            # define structures that contain data extracted on test dataset\n",
        "            test_equals = torch.cat(test_equals, 0).cpu()\n",
        "            test_prob = torch.cat(test_prob, 0).cpu()\n",
        "            test_indices = torch.sort(test_prob, descending=True)[1]\n",
        "            test_equals = torch.gather(test_equals, dim=0, index=test_indices)\n",
        "            test_prob = torch.gather(test_prob, dim=0, index=test_indices)\n",
        "            \n",
        "            # round over the coverage percentage\n",
        "            for cov_val in range(85,101,5):\n",
        "                # takes the index of the element in the position that represents \n",
        "                # the e_cov percentage of the validation set \n",
        "                th_index = int((cov_val / 100) * len(val_indices))\n",
        "                \n",
        "                # set the threshold as the number in the index defined above\n",
        "                # or if |val_prob| is lower than this index, as the element\n",
        "                # in last position of val_prob \n",
        "                threshold = val_prob[min(th_index, len(val_prob)-1)]\n",
        "                \n",
        "                # defiene for each element in test dataset if it will be \n",
        "                # used or not\n",
        "                predicted_samples = test_prob>=threshold\n",
        "                \n",
        "                # compute the classification error rate over the studied elements of\n",
        "                # the test dataset  \n",
        "                error = 1 - (torch.sum(predicted_samples * test_equals) / torch.sum(predicted_samples))\n",
        "                \n",
        "                # print the expected coverage, the real coverage, classification error rate\n",
        "                C10train.logger.info(\n",
        "                    \"EXP COV {}, COV {}, ERROR: {}\".format(\n",
        "                        cov_val, int((torch.sum(predicted_samples).item() / len(predicted_samples)) * 100.0, 2), 100 * int(error.item(), 3)\n",
        "                    ),\n",
        "                    print_msg=True\n",
        "                )\n",
        "                "
      ]
    },
    {
      "cell_type": "markdown",
      "metadata": {
        "id": "1l3uuJp8Sz1k"
      },
      "source": [
        "In the above "
      ]
    },
    {
      "cell_type": "code",
      "execution_count": null,
      "metadata": {
        "colab": {
          "base_uri": "https://localhost:8080/"
        },
        "id": "DeR_ik1JiXw1",
        "outputId": "8d8c59f3-a8fe-4a91-d9e9-47b7635783c5"
      },
      "outputs": [
        {
          "name": "stdout",
          "output_type": "stream",
          "text": [
            "----------testing with selective classification----------\n"
          ]
        },
        {
          "name": "stderr",
          "output_type": "stream",
          "text": [
            "100%|██████████| 79/79 [00:02<00:00, 31.53it/s]\n",
            "100%|██████████| 79/79 [00:02<00:00, 31.90it/s]"
          ]
        },
        {
          "name": "stdout",
          "output_type": "stream",
          "text": [
            "EXP COV 85, COV 84.89, ERROR: 4.96\n",
            "EXP COV 90, COV 89.93, ERROR: 6.68\n",
            "EXP COV 95, COV 94.78, ERROR: 8.690000000000001\n",
            "EXP COV 100, COV 100.0, ERROR: 11.15\n"
          ]
        },
        {
          "name": "stderr",
          "output_type": "stream",
          "text": [
            "\n"
          ]
        }
      ],
      "source": [
        "# Perform selective classification\n",
        "test_selective_classification(\"best_erm_model.pt\",\"masked_erm_model.pt\")"
      ]
    }
  ],
  "metadata": {
    "accelerator": "GPU",
    "colab": {
      "provenance": []
    },
    "gpuClass": "standard",
    "kernelspec": {
      "display_name": "MACHINELEARNING",
      "language": "python",
      "name": "python3"
    },
    "language_info": {
      "codemirror_mode": {
        "name": "ipython",
        "version": 3
      },
      "file_extension": ".py",
      "mimetype": "text/x-python",
      "name": "python",
      "nbconvert_exporter": "python",
      "pygments_lexer": "ipython3",
      "version": "3.9.15 (main, Nov 24 2022, 14:39:17) [MSC v.1916 64 bit (AMD64)]"
    },
    "vscode": {
      "interpreter": {
        "hash": "c3d2da9ea33237c85584c9c67e1981ac38a3fd243e6de17eadf5b3b825ecc547"
      }
    }
  },
  "nbformat": 4,
  "nbformat_minor": 0
}
