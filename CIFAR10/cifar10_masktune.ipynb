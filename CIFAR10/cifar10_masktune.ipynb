{
  "cells": [
    {
      "attachments": {},
      "cell_type": "markdown",
      "metadata": {
        "id": "75Gm0a9BoopL"
      },
      "source": [
        "<h1><center>MASKTUNE: Mitigating Spurious Correlations by forcing to explore</center></h1>\n",
        "\n",
        "### Selective Classification task<br>\n",
        "Selective classification is classification technique that significantly improve prediction performance by trading-off coverage over the dataset.<br>\n",
        "The idea of selective classification is the following, an image is classified if the probability that it falls in a certain class is higher than a certain threshold. <br>\n",
        "This approach guarantees a lower value of misclassification but on the other hand it classifies only the elements of the dataset that are more probable to belongs to a class."
      ]
    },
    {
      "cell_type": "markdown",
      "metadata": {
        "id": "fqq6F5fjp2bj"
      },
      "source": [
        "Let $m_\\theta^{original}$ the results of model trained on the original dataset and $m_\\theta^{masked}$ the results obtained after the training epoch performed on the masked dataset. MaskTune does not abstain only if the models agree on the class the element belongs."
      ]
    },
    {
      "attachments": {},
      "cell_type": "markdown",
      "metadata": {
        "id": "Q2tcCmC1u3qi"
      },
      "source": [
        "Let $j$ an input image, it is possible to define the prediction probabilities of $j$ for the class $i$ as:\n",
        "*   $P_{ij}^{original}$ obtained by $m_\\theta^{original}$\n",
        "*   $P_{ij}^{masked}$ obtained by $m_\\theta^{masked}$\n",
        "\n",
        "MaskTune does not abstain to predict the class of image if $P_{ij}^{original}\\cdot P_{ij}^{masked}>\\lambda$.<br>\n",
        "The value $\\lambda$ is a threshold that guarantees the tareget coverage $T$ of classified elements. The idea for obtaining a value of $\\lambda$ adequate for the chosen threshold is based on <b>iterate</b> over the validation set for finiding the threshold value $\\lambda^{'}$ such that if it is applied over the validation set, it returns the desired coverage.<br>\n",
        "$|\\forall i\\in{validation\\_set}\\rightarrow i>\\lambda^{'}|=T\\cdot |validation\\_set|$.\n",
        "<br>\n",
        "The correctness of this process is due by the fact that since $P_{ij}^{original}$ and $P_{ij}^{masked}$ are two probability values, then if one of these is too low with respect to the other the probability that the system is abstaining become higher and this is true since an high difference between the probability classes means a 'discorde' classification."
      ]
    },
    {
      "cell_type": "markdown",
      "metadata": {
        "id": "ZobuOGoOwn_E"
      },
      "source": [
        "\n",
        "---"
      ]
    },
    {
      "attachments": {},
      "cell_type": "markdown",
      "metadata": {
        "id": "W_-3pShQE9UX"
      },
      "source": [
        "### CIFAR-10\n",
        "This notebook focuses on the \"CIFAR-10\" dataset. The dataset contains 60.000 32x32 color images representing subjects which belong to 10 different classes.<br>\n",
        "In the specific case, the used dataset is the original one that can be obtained <a href='https://www.kaggle.com/c/cifar-10'>here</a>.<br>\n",
        "The train dataset is composed by 50.000 elements, while the remaining 10.000 elements build the test dataset."
      ]
    },
    {
      "cell_type": "code",
      "execution_count": null,
      "metadata": {
        "colab": {
          "base_uri": "https://localhost:8080/"
        },
        "id": "NrgpxzWxgfMH",
        "outputId": "2b334857-b763-475e-b18c-b1c855a4165a"
      },
      "outputs": [
        {
          "name": "stdout",
          "output_type": "stream",
          "text": [
            "Cloning into 'MaskTune_NN'...\n",
            "remote: Enumerating objects: 223, done.\u001b[K\n",
            "remote: Counting objects: 100% (19/19), done.\u001b[K\n",
            "remote: Compressing objects: 100% (15/15), done.\u001b[K\n",
            "remote: Total 223 (delta 6), reused 10 (delta 4), pack-reused 204\u001b[K\n",
            "Receiving objects: 100% (223/223), 14.81 MiB | 16.83 MiB/s, done.\n",
            "Resolving deltas: 100% (100/100), done.\n"
          ]
        }
      ],
      "source": [
        "# Clone the repository\n",
        "!git clone https://github.com/Giordano-Cicchetti/MaskTune_NN/\n",
        "!cp MaskTune_NN/CIFAR10/* /content -r\n",
        "!rm MaskTune_NN/ -r"
      ]
    },
    {
      "cell_type": "code",
      "execution_count": null,
      "metadata": {
        "colab": {
          "base_uri": "https://localhost:8080/"
        },
        "id": "9KJdmP-5hdcS",
        "outputId": "607d084b-630e-4a7b-84eb-86dc4f72a7e7"
      },
      "outputs": [
        {
          "name": "stdout",
          "output_type": "stream",
          "text": [
            "Looking in indexes: https://pypi.org/simple, https://us-python.pkg.dev/colab-wheels/public/simple/\n",
            "Collecting timm\n",
            "  Downloading timm-0.6.12-py3-none-any.whl (549 kB)\n",
            "\u001b[2K     \u001b[90m━━━━━━━━━━━━━━━━━━━━━━━━━━━━━━━━━━━━━━━\u001b[0m \u001b[32m549.1/549.1 KB\u001b[0m \u001b[31m4.2 MB/s\u001b[0m eta \u001b[36m0:00:00\u001b[0m\n",
            "\u001b[?25hCollecting huggingface-hub\n",
            "  Downloading huggingface_hub-0.12.0-py3-none-any.whl (190 kB)\n",
            "\u001b[2K     \u001b[90m━━━━━━━━━━━━━━━━━━━━━━━━━━━━━━━━━━━━━━\u001b[0m \u001b[32m190.3/190.3 KB\u001b[0m \u001b[31m13.4 MB/s\u001b[0m eta \u001b[36m0:00:00\u001b[0m\n",
            "\u001b[?25hRequirement already satisfied: torchvision in /usr/local/lib/python3.8/dist-packages (from timm) (0.14.1+cu116)\n",
            "Requirement already satisfied: pyyaml in /usr/local/lib/python3.8/dist-packages (from timm) (6.0)\n",
            "Requirement already satisfied: torch>=1.7 in /usr/local/lib/python3.8/dist-packages (from timm) (1.13.1+cu116)\n",
            "Requirement already satisfied: typing-extensions in /usr/local/lib/python3.8/dist-packages (from torch>=1.7->timm) (4.4.0)\n",
            "Requirement already satisfied: packaging>=20.9 in /usr/local/lib/python3.8/dist-packages (from huggingface-hub->timm) (21.3)\n",
            "Requirement already satisfied: tqdm>=4.42.1 in /usr/local/lib/python3.8/dist-packages (from huggingface-hub->timm) (4.64.1)\n",
            "Requirement already satisfied: requests in /usr/local/lib/python3.8/dist-packages (from huggingface-hub->timm) (2.25.1)\n",
            "Requirement already satisfied: filelock in /usr/local/lib/python3.8/dist-packages (from huggingface-hub->timm) (3.9.0)\n",
            "Requirement already satisfied: pillow!=8.3.*,>=5.3.0 in /usr/local/lib/python3.8/dist-packages (from torchvision->timm) (7.1.2)\n",
            "Requirement already satisfied: numpy in /usr/local/lib/python3.8/dist-packages (from torchvision->timm) (1.21.6)\n",
            "Requirement already satisfied: pyparsing!=3.0.5,>=2.0.2 in /usr/local/lib/python3.8/dist-packages (from packaging>=20.9->huggingface-hub->timm) (3.0.9)\n",
            "Requirement already satisfied: chardet<5,>=3.0.2 in /usr/local/lib/python3.8/dist-packages (from requests->huggingface-hub->timm) (4.0.0)\n",
            "Requirement already satisfied: idna<3,>=2.5 in /usr/local/lib/python3.8/dist-packages (from requests->huggingface-hub->timm) (2.10)\n",
            "Requirement already satisfied: urllib3<1.27,>=1.21.1 in /usr/local/lib/python3.8/dist-packages (from requests->huggingface-hub->timm) (1.24.3)\n",
            "Requirement already satisfied: certifi>=2017.4.17 in /usr/local/lib/python3.8/dist-packages (from requests->huggingface-hub->timm) (2022.12.7)\n",
            "Installing collected packages: huggingface-hub, timm\n",
            "Successfully installed huggingface-hub-0.12.0 timm-0.6.12\n",
            "Looking in indexes: https://pypi.org/simple, https://us-python.pkg.dev/colab-wheels/public/simple/\n",
            "Collecting grad-cam\n",
            "  Downloading grad-cam-1.4.6.tar.gz (7.8 MB)\n",
            "\u001b[2K     \u001b[90m━━━━━━━━━━━━━━━━━━━━━━━━━━━━━━━━━━━━━━━━\u001b[0m \u001b[32m7.8/7.8 MB\u001b[0m \u001b[31m26.0 MB/s\u001b[0m eta \u001b[36m0:00:00\u001b[0m\n",
            "\u001b[?25h  Installing build dependencies ... \u001b[?25l\u001b[?25hdone\n",
            "  Getting requirements to build wheel ... \u001b[?25l\u001b[?25hdone\n",
            "  Preparing metadata (pyproject.toml) ... \u001b[?25l\u001b[?25hdone\n",
            "Requirement already satisfied: numpy in /usr/local/lib/python3.8/dist-packages (from grad-cam) (1.21.6)\n",
            "Requirement already satisfied: matplotlib in /usr/local/lib/python3.8/dist-packages (from grad-cam) (3.2.2)\n",
            "Requirement already satisfied: tqdm in /usr/local/lib/python3.8/dist-packages (from grad-cam) (4.64.1)\n",
            "Requirement already satisfied: Pillow in /usr/local/lib/python3.8/dist-packages (from grad-cam) (7.1.2)\n",
            "Collecting ttach\n",
            "  Downloading ttach-0.0.3-py3-none-any.whl (9.8 kB)\n",
            "Requirement already satisfied: scikit-learn in /usr/local/lib/python3.8/dist-packages (from grad-cam) (1.0.2)\n",
            "Requirement already satisfied: torch>=1.7.1 in /usr/local/lib/python3.8/dist-packages (from grad-cam) (1.13.1+cu116)\n",
            "Requirement already satisfied: opencv-python in /usr/local/lib/python3.8/dist-packages (from grad-cam) (4.6.0.66)\n",
            "Requirement already satisfied: torchvision>=0.8.2 in /usr/local/lib/python3.8/dist-packages (from grad-cam) (0.14.1+cu116)\n",
            "Requirement already satisfied: typing-extensions in /usr/local/lib/python3.8/dist-packages (from torch>=1.7.1->grad-cam) (4.4.0)\n",
            "Requirement already satisfied: requests in /usr/local/lib/python3.8/dist-packages (from torchvision>=0.8.2->grad-cam) (2.25.1)\n",
            "Requirement already satisfied: cycler>=0.10 in /usr/local/lib/python3.8/dist-packages (from matplotlib->grad-cam) (0.11.0)\n",
            "Requirement already satisfied: kiwisolver>=1.0.1 in /usr/local/lib/python3.8/dist-packages (from matplotlib->grad-cam) (1.4.4)\n",
            "Requirement already satisfied: python-dateutil>=2.1 in /usr/local/lib/python3.8/dist-packages (from matplotlib->grad-cam) (2.8.2)\n",
            "Requirement already satisfied: pyparsing!=2.0.4,!=2.1.2,!=2.1.6,>=2.0.1 in /usr/local/lib/python3.8/dist-packages (from matplotlib->grad-cam) (3.0.9)\n",
            "Requirement already satisfied: scipy>=1.1.0 in /usr/local/lib/python3.8/dist-packages (from scikit-learn->grad-cam) (1.7.3)\n",
            "Requirement already satisfied: threadpoolctl>=2.0.0 in /usr/local/lib/python3.8/dist-packages (from scikit-learn->grad-cam) (3.1.0)\n",
            "Requirement already satisfied: joblib>=0.11 in /usr/local/lib/python3.8/dist-packages (from scikit-learn->grad-cam) (1.2.0)\n",
            "Requirement already satisfied: six>=1.5 in /usr/local/lib/python3.8/dist-packages (from python-dateutil>=2.1->matplotlib->grad-cam) (1.15.0)\n",
            "Requirement already satisfied: idna<3,>=2.5 in /usr/local/lib/python3.8/dist-packages (from requests->torchvision>=0.8.2->grad-cam) (2.10)\n",
            "Requirement already satisfied: chardet<5,>=3.0.2 in /usr/local/lib/python3.8/dist-packages (from requests->torchvision>=0.8.2->grad-cam) (4.0.0)\n",
            "Requirement already satisfied: certifi>=2017.4.17 in /usr/local/lib/python3.8/dist-packages (from requests->torchvision>=0.8.2->grad-cam) (2022.12.7)\n",
            "Requirement already satisfied: urllib3<1.27,>=1.21.1 in /usr/local/lib/python3.8/dist-packages (from requests->torchvision>=0.8.2->grad-cam) (1.24.3)\n",
            "Building wheels for collected packages: grad-cam\n",
            "  Building wheel for grad-cam (pyproject.toml) ... \u001b[?25l\u001b[?25hdone\n",
            "  Created wheel for grad-cam: filename=grad_cam-1.4.6-py3-none-any.whl size=38261 sha256=c7e147bcf78a20352723838b565d54ab9c14dd9ade6999f5a1ec11e4b23e2975\n",
            "  Stored in directory: /root/.cache/pip/wheels/53/02/43/1f75726b5c28459596067ad91e36951463c01273eef661f09f\n",
            "Successfully built grad-cam\n",
            "Installing collected packages: ttach, grad-cam\n",
            "Successfully installed grad-cam-1.4.6 ttach-0.0.3\n"
          ]
        }
      ],
      "source": [
        "# add needed dependencies\n",
        "!pip install timm\n",
        "!pip install grad-cam\n",
        "import torch\n",
        "from TrainCifar10 import *"
      ]
    },
    {
      "cell_type": "code",
      "execution_count": null,
      "metadata": {
        "colab": {
          "base_uri": "https://localhost:8080/"
        },
        "id": "i-R0bUxUhQ9y",
        "outputId": "3ea27aba-04fa-412d-f293-15bc7292e827"
      },
      "outputs": [
        {
          "data": {
            "text/plain": [
              "device(type='cuda')"
            ]
          },
          "execution_count": 1,
          "metadata": {},
          "output_type": "execute_result"
        }
      ],
      "source": [
        "# Device configuration\n",
        "device = torch.device('cuda' if torch.cuda.is_available() else 'cpu')\n",
        "device"
      ]
    },
    {
      "cell_type": "markdown",
      "metadata": {
        "id": "3KTLrMkRGn_i"
      },
      "source": [
        "The following instruction build the datasets and the data loaders used in this work."
      ]
    },
    {
      "cell_type": "code",
      "execution_count": null,
      "metadata": {
        "colab": {
          "base_uri": "https://localhost:8080/"
        },
        "id": "MVTui7lug_Jn",
        "outputId": "cea7e7e0-0656-4a15-94ad-f901263e8bbf"
      },
      "outputs": [
        {
          "name": "stdout",
          "output_type": "stream",
          "text": [
            "Files already downloaded and verified\n",
            "Files already downloaded and verified\n",
            "Files already downloaded and verified\n"
          ]
        }
      ],
      "source": [
        "# Build an instance of the class Cifar10Train\n",
        "C10train = Cifar10Train(device=device)"
      ]
    },
    {
      "attachments": {},
      "cell_type": "markdown",
      "metadata": {
        "id": "WmjlqYYrHDdx"
      },
      "source": [
        "The used model is a **ResNet-32**. ResNet-32 is a convolutional neural network that is based on ResNet architecture and, as suggested by the name, ResNet-32 has 32 layers.<br>\n",
        "![modello.jpg](data:image/jpeg;base64,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)"
      ]
    },
    {
      "attachments": {},
      "cell_type": "markdown",
      "metadata": {},
      "source": [
        "The network consists an initial convolutional layer, a final fully-connected layer and in the middle 3 layers, each of 5 blocks. In every block we can find 2 convolutional layers, these make network 32-dimensional.\n",
        "In order to implement the ResNet32 (a non standard model) as suggested by the authors of MaskTune, we follow the implementation of the original paper <<i>Kaiming He, Xiangyu Zhang, Shaoqing Ren, Jian Sun\n",
        "    Deep Residual Learning for Image Recognition. arXiv:1512.03385</i>>\n",
        "pointed [here](https://github.com/pytorch/vision/blob/master/torchvision/models/resnet.py)."
      ]
    },
    {
      "attachments": {},
      "cell_type": "markdown",
      "metadata": {
        "id": "VG9pJEB1Mj6t"
      },
      "source": [
        "Code for training phase and testing phase can be analyzed in the file <a href=\"https://github.com/Giordano-Cicchetti/MaskTune_NN/blob/main/CIFAR10/TrainCifar10.py\">CIFAR10/TrainCifar10.py</a>"
      ]
    },
    {
      "cell_type": "markdown",
      "metadata": {
        "id": "hOf6upDrGynC"
      },
      "source": [
        "#### Training"
      ]
    },
    {
      "cell_type": "markdown",
      "metadata": {
        "id": "r3t4AKZLJfFS"
      },
      "source": [
        "Parameters:\n",
        "\n",
        "\n",
        "*   learning rate ⇒ 0.1\n",
        "*   learning rate cut ⇒ halved for every 25 epochs\n",
        "*   momentum ⇒ 0.9\n",
        "*   weight decay ⇒ 0.0001\n",
        "*   batch size ⇒ 128  \n",
        "\n",
        "\n"
      ]
    },
    {
      "cell_type": "code",
      "execution_count": null,
      "metadata": {
        "colab": {
          "base_uri": "https://localhost:8080/"
        },
        "id": "zyAHATSLiY4_",
        "outputId": "4548272f-6845-44c1-dc48-e2ca2aa73fd4"
      },
      "outputs": [
        {
          "name": "stderr",
          "output_type": "stream",
          "text": [
            "train epoch 0: 100%|██████████| 313/313 [00:20<00:00, 15.20it/s, loss=2.36, accuracy=0.154]\n",
            "validation epoch 0: 100%|██████████| 79/79 [00:02<00:00, 31.23it/s, loss=1.94, accuracy=0.248]\n"
          ]
        },
        {
          "name": "stdout",
          "output_type": "stream",
          "text": [
            "lr: 0.1\n"
          ]
        },
        {
          "name": "stderr",
          "output_type": "stream",
          "text": [
            "train epoch 1: 100%|██████████| 313/313 [00:18<00:00, 16.74it/s, loss=1.76, accuracy=0.322]\n",
            "validation epoch 1: 100%|██████████| 79/79 [00:02<00:00, 32.65it/s, loss=1.56, accuracy=0.421]\n"
          ]
        },
        {
          "name": "stdout",
          "output_type": "stream",
          "text": [
            "lr: 0.1\n"
          ]
        },
        {
          "name": "stderr",
          "output_type": "stream",
          "text": [
            "train epoch 2: 100%|██████████| 313/313 [00:19<00:00, 15.93it/s, loss=1.49, accuracy=0.451]\n",
            "validation epoch 2: 100%|██████████| 79/79 [00:02<00:00, 31.38it/s, loss=1.38, accuracy=0.498]\n"
          ]
        },
        {
          "name": "stdout",
          "output_type": "stream",
          "text": [
            "lr: 0.1\n"
          ]
        },
        {
          "name": "stderr",
          "output_type": "stream",
          "text": [
            "train epoch 3: 100%|██████████| 313/313 [00:18<00:00, 16.81it/s, loss=1.28, accuracy=0.536]\n",
            "validation epoch 3: 100%|██████████| 79/79 [00:02<00:00, 31.03it/s, loss=1.47, accuracy=0.513]\n"
          ]
        },
        {
          "name": "stdout",
          "output_type": "stream",
          "text": [
            "lr: 0.1\n"
          ]
        },
        {
          "name": "stderr",
          "output_type": "stream",
          "text": [
            "train epoch 4: 100%|██████████| 313/313 [00:19<00:00, 16.29it/s, loss=1.15, accuracy=0.587]\n",
            "validation epoch 4: 100%|██████████| 79/79 [00:02<00:00, 31.36it/s, loss=1.21, accuracy=0.563]\n"
          ]
        },
        {
          "name": "stdout",
          "output_type": "stream",
          "text": [
            "lr: 0.1\n"
          ]
        },
        {
          "name": "stderr",
          "output_type": "stream",
          "text": [
            "train epoch 5: 100%|██████████| 313/313 [00:18<00:00, 17.07it/s, loss=1.04, accuracy=0.63]\n",
            "validation epoch 5: 100%|██████████| 79/79 [00:02<00:00, 30.85it/s, loss=0.983, accuracy=0.651]\n"
          ]
        },
        {
          "name": "stdout",
          "output_type": "stream",
          "text": [
            "lr: 0.1\n"
          ]
        },
        {
          "name": "stderr",
          "output_type": "stream",
          "text": [
            "train epoch 6: 100%|██████████| 313/313 [00:18<00:00, 16.93it/s, loss=0.953, accuracy=0.662]\n",
            "validation epoch 6: 100%|██████████| 79/79 [00:02<00:00, 32.39it/s, loss=0.907, accuracy=0.687]\n"
          ]
        },
        {
          "name": "stdout",
          "output_type": "stream",
          "text": [
            "lr: 0.1\n"
          ]
        },
        {
          "name": "stderr",
          "output_type": "stream",
          "text": [
            "train epoch 7: 100%|██████████| 313/313 [00:18<00:00, 16.89it/s, loss=0.873, accuracy=0.693]\n",
            "validation epoch 7: 100%|██████████| 79/79 [00:02<00:00, 31.55it/s, loss=0.852, accuracy=0.711]\n"
          ]
        },
        {
          "name": "stdout",
          "output_type": "stream",
          "text": [
            "lr: 0.1\n"
          ]
        },
        {
          "name": "stderr",
          "output_type": "stream",
          "text": [
            "train epoch 8: 100%|██████████| 313/313 [00:18<00:00, 17.08it/s, loss=0.806, accuracy=0.719]\n",
            "validation epoch 8: 100%|██████████| 79/79 [00:02<00:00, 32.03it/s, loss=0.786, accuracy=0.727]\n"
          ]
        },
        {
          "name": "stdout",
          "output_type": "stream",
          "text": [
            "lr: 0.1\n"
          ]
        },
        {
          "name": "stderr",
          "output_type": "stream",
          "text": [
            "train epoch 9: 100%|██████████| 313/313 [00:18<00:00, 16.76it/s, loss=0.765, accuracy=0.731]\n",
            "validation epoch 9: 100%|██████████| 79/79 [00:02<00:00, 31.24it/s, loss=0.822, accuracy=0.724]\n"
          ]
        },
        {
          "name": "stdout",
          "output_type": "stream",
          "text": [
            "lr: 0.1\n"
          ]
        },
        {
          "name": "stderr",
          "output_type": "stream",
          "text": [
            "train epoch 10: 100%|██████████| 313/313 [00:18<00:00, 16.76it/s, loss=0.728, accuracy=0.747]\n",
            "validation epoch 10: 100%|██████████| 79/79 [00:02<00:00, 31.69it/s, loss=0.891, accuracy=0.709]\n"
          ]
        },
        {
          "name": "stdout",
          "output_type": "stream",
          "text": [
            "lr: 0.1\n"
          ]
        },
        {
          "name": "stderr",
          "output_type": "stream",
          "text": [
            "train epoch 11: 100%|██████████| 313/313 [00:18<00:00, 16.92it/s, loss=0.689, accuracy=0.76]\n",
            "validation epoch 11: 100%|██████████| 79/79 [00:02<00:00, 32.42it/s, loss=0.641, accuracy=0.779]\n"
          ]
        },
        {
          "name": "stdout",
          "output_type": "stream",
          "text": [
            "lr: 0.1\n"
          ]
        },
        {
          "name": "stderr",
          "output_type": "stream",
          "text": [
            "train epoch 12: 100%|██████████| 313/313 [00:18<00:00, 16.74it/s, loss=0.666, accuracy=0.767]\n",
            "validation epoch 12: 100%|██████████| 79/79 [00:02<00:00, 31.45it/s, loss=0.824, accuracy=0.732]\n"
          ]
        },
        {
          "name": "stdout",
          "output_type": "stream",
          "text": [
            "lr: 0.1\n"
          ]
        },
        {
          "name": "stderr",
          "output_type": "stream",
          "text": [
            "train epoch 13: 100%|██████████| 313/313 [00:18<00:00, 16.83it/s, loss=0.633, accuracy=0.78]\n",
            "validation epoch 13: 100%|██████████| 79/79 [00:02<00:00, 31.50it/s, loss=0.633, accuracy=0.78]\n"
          ]
        },
        {
          "name": "stdout",
          "output_type": "stream",
          "text": [
            "lr: 0.1\n"
          ]
        },
        {
          "name": "stderr",
          "output_type": "stream",
          "text": [
            "train epoch 14: 100%|██████████| 313/313 [00:19<00:00, 15.95it/s, loss=0.62, accuracy=0.783]\n",
            "validation epoch 14: 100%|██████████| 79/79 [00:02<00:00, 31.98it/s, loss=0.677, accuracy=0.771]\n"
          ]
        },
        {
          "name": "stdout",
          "output_type": "stream",
          "text": [
            "lr: 0.1\n"
          ]
        },
        {
          "name": "stderr",
          "output_type": "stream",
          "text": [
            "train epoch 15: 100%|██████████| 313/313 [00:18<00:00, 16.86it/s, loss=0.599, accuracy=0.792]\n",
            "validation epoch 15: 100%|██████████| 79/79 [00:02<00:00, 31.18it/s, loss=0.707, accuracy=0.767]\n"
          ]
        },
        {
          "name": "stdout",
          "output_type": "stream",
          "text": [
            "lr: 0.1\n"
          ]
        },
        {
          "name": "stderr",
          "output_type": "stream",
          "text": [
            "train epoch 16: 100%|██████████| 313/313 [00:18<00:00, 16.69it/s, loss=0.575, accuracy=0.8]\n",
            "validation epoch 16: 100%|██████████| 79/79 [00:02<00:00, 32.09it/s, loss=0.664, accuracy=0.776]\n"
          ]
        },
        {
          "name": "stdout",
          "output_type": "stream",
          "text": [
            "lr: 0.1\n"
          ]
        },
        {
          "name": "stderr",
          "output_type": "stream",
          "text": [
            "train epoch 17: 100%|██████████| 313/313 [00:18<00:00, 16.72it/s, loss=0.564, accuracy=0.804]\n",
            "validation epoch 17: 100%|██████████| 79/79 [00:02<00:00, 31.05it/s, loss=0.731, accuracy=0.758]\n"
          ]
        },
        {
          "name": "stdout",
          "output_type": "stream",
          "text": [
            "lr: 0.1\n"
          ]
        },
        {
          "name": "stderr",
          "output_type": "stream",
          "text": [
            "train epoch 18: 100%|██████████| 313/313 [00:18<00:00, 16.77it/s, loss=0.553, accuracy=0.809]\n",
            "validation epoch 18: 100%|██████████| 79/79 [00:02<00:00, 31.92it/s, loss=0.769, accuracy=0.749]\n"
          ]
        },
        {
          "name": "stdout",
          "output_type": "stream",
          "text": [
            "lr: 0.1\n"
          ]
        },
        {
          "name": "stderr",
          "output_type": "stream",
          "text": [
            "train epoch 19: 100%|██████████| 313/313 [00:18<00:00, 16.83it/s, loss=0.533, accuracy=0.813]\n",
            "validation epoch 19: 100%|██████████| 79/79 [00:02<00:00, 30.40it/s, loss=0.633, accuracy=0.789]\n"
          ]
        },
        {
          "name": "stdout",
          "output_type": "stream",
          "text": [
            "lr: 0.1\n"
          ]
        },
        {
          "name": "stderr",
          "output_type": "stream",
          "text": [
            "train epoch 20: 100%|██████████| 313/313 [00:18<00:00, 16.80it/s, loss=0.515, accuracy=0.821]\n",
            "validation epoch 20: 100%|██████████| 79/79 [00:02<00:00, 32.21it/s, loss=0.69, accuracy=0.772]\n"
          ]
        },
        {
          "name": "stdout",
          "output_type": "stream",
          "text": [
            "lr: 0.1\n"
          ]
        },
        {
          "name": "stderr",
          "output_type": "stream",
          "text": [
            "train epoch 21: 100%|██████████| 313/313 [00:18<00:00, 16.78it/s, loss=0.51, accuracy=0.822]\n",
            "validation epoch 21: 100%|██████████| 79/79 [00:02<00:00, 31.85it/s, loss=0.558, accuracy=0.813]\n"
          ]
        },
        {
          "name": "stdout",
          "output_type": "stream",
          "text": [
            "lr: 0.1\n"
          ]
        },
        {
          "name": "stderr",
          "output_type": "stream",
          "text": [
            "train epoch 22: 100%|██████████| 313/313 [00:18<00:00, 16.82it/s, loss=0.496, accuracy=0.828]\n",
            "validation epoch 22: 100%|██████████| 79/79 [00:02<00:00, 32.06it/s, loss=0.558, accuracy=0.808]\n"
          ]
        },
        {
          "name": "stdout",
          "output_type": "stream",
          "text": [
            "lr: 0.1\n"
          ]
        },
        {
          "name": "stderr",
          "output_type": "stream",
          "text": [
            "train epoch 23: 100%|██████████| 313/313 [00:19<00:00, 15.90it/s, loss=0.487, accuracy=0.831]\n",
            "validation epoch 23: 100%|██████████| 79/79 [00:02<00:00, 30.72it/s, loss=0.527, accuracy=0.82]\n"
          ]
        },
        {
          "name": "stdout",
          "output_type": "stream",
          "text": [
            "lr: 0.1\n"
          ]
        },
        {
          "name": "stderr",
          "output_type": "stream",
          "text": [
            "train epoch 24: 100%|██████████| 313/313 [00:18<00:00, 16.80it/s, loss=0.478, accuracy=0.834]\n",
            "validation epoch 24: 100%|██████████| 79/79 [00:02<00:00, 30.73it/s, loss=0.517, accuracy=0.828]\n"
          ]
        },
        {
          "name": "stdout",
          "output_type": "stream",
          "text": [
            "lr: 0.05\n"
          ]
        },
        {
          "name": "stderr",
          "output_type": "stream",
          "text": [
            "train epoch 25: 100%|██████████| 313/313 [00:18<00:00, 16.79it/s, loss=0.398, accuracy=0.861]\n",
            "validation epoch 25: 100%|██████████| 79/79 [00:02<00:00, 32.43it/s, loss=0.443, accuracy=0.85]\n"
          ]
        },
        {
          "name": "stdout",
          "output_type": "stream",
          "text": [
            "lr: 0.05\n"
          ]
        },
        {
          "name": "stderr",
          "output_type": "stream",
          "text": [
            "train epoch 26: 100%|██████████| 313/313 [00:18<00:00, 16.94it/s, loss=0.38, accuracy=0.867]\n",
            "validation epoch 26: 100%|██████████| 79/79 [00:02<00:00, 30.84it/s, loss=0.44, accuracy=0.854]\n"
          ]
        },
        {
          "name": "stdout",
          "output_type": "stream",
          "text": [
            "lr: 0.05\n"
          ]
        },
        {
          "name": "stderr",
          "output_type": "stream",
          "text": [
            "train epoch 27: 100%|██████████| 313/313 [00:18<00:00, 16.76it/s, loss=0.372, accuracy=0.869]\n",
            "validation epoch 27: 100%|██████████| 79/79 [00:02<00:00, 31.79it/s, loss=0.469, accuracy=0.843]\n"
          ]
        },
        {
          "name": "stdout",
          "output_type": "stream",
          "text": [
            "lr: 0.05\n"
          ]
        },
        {
          "name": "stderr",
          "output_type": "stream",
          "text": [
            "train epoch 28: 100%|██████████| 313/313 [00:18<00:00, 16.77it/s, loss=0.364, accuracy=0.872]\n",
            "validation epoch 28: 100%|██████████| 79/79 [00:02<00:00, 30.86it/s, loss=0.432, accuracy=0.856]\n"
          ]
        },
        {
          "name": "stdout",
          "output_type": "stream",
          "text": [
            "lr: 0.05\n"
          ]
        },
        {
          "name": "stderr",
          "output_type": "stream",
          "text": [
            "train epoch 29: 100%|██████████| 313/313 [00:18<00:00, 16.73it/s, loss=0.363, accuracy=0.873]\n",
            "validation epoch 29: 100%|██████████| 79/79 [00:02<00:00, 30.94it/s, loss=0.457, accuracy=0.844]\n"
          ]
        },
        {
          "name": "stdout",
          "output_type": "stream",
          "text": [
            "lr: 0.05\n"
          ]
        },
        {
          "name": "stderr",
          "output_type": "stream",
          "text": [
            "train epoch 30: 100%|██████████| 313/313 [00:18<00:00, 16.66it/s, loss=0.357, accuracy=0.876]\n",
            "validation epoch 30: 100%|██████████| 79/79 [00:02<00:00, 32.35it/s, loss=0.45, accuracy=0.854]\n"
          ]
        },
        {
          "name": "stdout",
          "output_type": "stream",
          "text": [
            "lr: 0.05\n"
          ]
        },
        {
          "name": "stderr",
          "output_type": "stream",
          "text": [
            "train epoch 31: 100%|██████████| 313/313 [00:18<00:00, 16.87it/s, loss=0.348, accuracy=0.879]\n",
            "validation epoch 31: 100%|██████████| 79/79 [00:02<00:00, 32.46it/s, loss=0.459, accuracy=0.85]\n"
          ]
        },
        {
          "name": "stdout",
          "output_type": "stream",
          "text": [
            "lr: 0.05\n"
          ]
        },
        {
          "name": "stderr",
          "output_type": "stream",
          "text": [
            "train epoch 32: 100%|██████████| 313/313 [00:18<00:00, 16.89it/s, loss=0.345, accuracy=0.88]\n",
            "validation epoch 32: 100%|██████████| 79/79 [00:02<00:00, 32.14it/s, loss=0.44, accuracy=0.854]\n"
          ]
        },
        {
          "name": "stdout",
          "output_type": "stream",
          "text": [
            "lr: 0.05\n"
          ]
        },
        {
          "name": "stderr",
          "output_type": "stream",
          "text": [
            "train epoch 33: 100%|██████████| 313/313 [00:19<00:00, 16.11it/s, loss=0.341, accuracy=0.881]\n",
            "validation epoch 33: 100%|██████████| 79/79 [00:02<00:00, 31.56it/s, loss=0.477, accuracy=0.849]\n"
          ]
        },
        {
          "name": "stdout",
          "output_type": "stream",
          "text": [
            "lr: 0.05\n"
          ]
        },
        {
          "name": "stderr",
          "output_type": "stream",
          "text": [
            "train epoch 34: 100%|██████████| 313/313 [00:18<00:00, 16.69it/s, loss=0.338, accuracy=0.883]\n",
            "validation epoch 34: 100%|██████████| 79/79 [00:02<00:00, 30.65it/s, loss=0.448, accuracy=0.858]\n"
          ]
        },
        {
          "name": "stdout",
          "output_type": "stream",
          "text": [
            "lr: 0.05\n"
          ]
        },
        {
          "name": "stderr",
          "output_type": "stream",
          "text": [
            "train epoch 35: 100%|██████████| 313/313 [00:18<00:00, 16.77it/s, loss=0.337, accuracy=0.882]\n",
            "validation epoch 35: 100%|██████████| 79/79 [00:02<00:00, 30.26it/s, loss=0.446, accuracy=0.852]\n"
          ]
        },
        {
          "name": "stdout",
          "output_type": "stream",
          "text": [
            "lr: 0.05\n"
          ]
        },
        {
          "name": "stderr",
          "output_type": "stream",
          "text": [
            "train epoch 36: 100%|██████████| 313/313 [00:18<00:00, 16.62it/s, loss=0.33, accuracy=0.882]\n",
            "validation epoch 36: 100%|██████████| 79/79 [00:02<00:00, 30.75it/s, loss=0.518, accuracy=0.838]\n"
          ]
        },
        {
          "name": "stdout",
          "output_type": "stream",
          "text": [
            "lr: 0.05\n"
          ]
        },
        {
          "name": "stderr",
          "output_type": "stream",
          "text": [
            "train epoch 37: 100%|██████████| 313/313 [00:18<00:00, 16.71it/s, loss=0.332, accuracy=0.882]\n",
            "validation epoch 37: 100%|██████████| 79/79 [00:02<00:00, 31.43it/s, loss=0.496, accuracy=0.844]\n"
          ]
        },
        {
          "name": "stdout",
          "output_type": "stream",
          "text": [
            "lr: 0.05\n"
          ]
        },
        {
          "name": "stderr",
          "output_type": "stream",
          "text": [
            "train epoch 38: 100%|██████████| 313/313 [00:18<00:00, 17.04it/s, loss=0.326, accuracy=0.885]\n",
            "validation epoch 38: 100%|██████████| 79/79 [00:02<00:00, 31.05it/s, loss=0.417, accuracy=0.861]\n"
          ]
        },
        {
          "name": "stdout",
          "output_type": "stream",
          "text": [
            "lr: 0.05\n"
          ]
        },
        {
          "name": "stderr",
          "output_type": "stream",
          "text": [
            "train epoch 39: 100%|██████████| 313/313 [00:18<00:00, 16.93it/s, loss=0.323, accuracy=0.886]\n",
            "validation epoch 39: 100%|██████████| 79/79 [00:02<00:00, 32.05it/s, loss=0.401, accuracy=0.866]\n"
          ]
        },
        {
          "name": "stdout",
          "output_type": "stream",
          "text": [
            "lr: 0.05\n"
          ]
        },
        {
          "name": "stderr",
          "output_type": "stream",
          "text": [
            "train epoch 40: 100%|██████████| 313/313 [00:18<00:00, 16.84it/s, loss=0.319, accuracy=0.886]\n",
            "validation epoch 40: 100%|██████████| 79/79 [00:02<00:00, 30.33it/s, loss=0.446, accuracy=0.857]\n"
          ]
        },
        {
          "name": "stdout",
          "output_type": "stream",
          "text": [
            "lr: 0.05\n"
          ]
        },
        {
          "name": "stderr",
          "output_type": "stream",
          "text": [
            "train epoch 41: 100%|██████████| 313/313 [00:18<00:00, 16.59it/s, loss=0.326, accuracy=0.886]\n",
            "validation epoch 41: 100%|██████████| 79/79 [00:02<00:00, 31.14it/s, loss=0.418, accuracy=0.862]\n"
          ]
        },
        {
          "name": "stdout",
          "output_type": "stream",
          "text": [
            "lr: 0.05\n"
          ]
        },
        {
          "name": "stderr",
          "output_type": "stream",
          "text": [
            "train epoch 42: 100%|██████████| 313/313 [00:19<00:00, 15.94it/s, loss=0.313, accuracy=0.89]\n",
            "validation epoch 42: 100%|██████████| 79/79 [00:02<00:00, 29.81it/s, loss=0.443, accuracy=0.859]\n"
          ]
        },
        {
          "name": "stdout",
          "output_type": "stream",
          "text": [
            "lr: 0.05\n"
          ]
        },
        {
          "name": "stderr",
          "output_type": "stream",
          "text": [
            "train epoch 43: 100%|██████████| 313/313 [00:18<00:00, 16.97it/s, loss=0.31, accuracy=0.892]\n",
            "validation epoch 43: 100%|██████████| 79/79 [00:02<00:00, 31.53it/s, loss=0.46, accuracy=0.854]\n"
          ]
        },
        {
          "name": "stdout",
          "output_type": "stream",
          "text": [
            "lr: 0.05\n"
          ]
        },
        {
          "name": "stderr",
          "output_type": "stream",
          "text": [
            "train epoch 44: 100%|██████████| 313/313 [00:18<00:00, 16.80it/s, loss=0.312, accuracy=0.891]\n",
            "validation epoch 44: 100%|██████████| 79/79 [00:02<00:00, 31.58it/s, loss=0.405, accuracy=0.868]\n"
          ]
        },
        {
          "name": "stdout",
          "output_type": "stream",
          "text": [
            "lr: 0.05\n"
          ]
        },
        {
          "name": "stderr",
          "output_type": "stream",
          "text": [
            "train epoch 45: 100%|██████████| 313/313 [00:18<00:00, 16.94it/s, loss=0.307, accuracy=0.892]\n",
            "validation epoch 45: 100%|██████████| 79/79 [00:02<00:00, 31.00it/s, loss=0.446, accuracy=0.857]\n"
          ]
        },
        {
          "name": "stdout",
          "output_type": "stream",
          "text": [
            "lr: 0.05\n"
          ]
        },
        {
          "name": "stderr",
          "output_type": "stream",
          "text": [
            "train epoch 46: 100%|██████████| 313/313 [00:18<00:00, 16.63it/s, loss=0.301, accuracy=0.894]\n",
            "validation epoch 46: 100%|██████████| 79/79 [00:02<00:00, 31.39it/s, loss=0.475, accuracy=0.855]\n"
          ]
        },
        {
          "name": "stdout",
          "output_type": "stream",
          "text": [
            "lr: 0.05\n"
          ]
        },
        {
          "name": "stderr",
          "output_type": "stream",
          "text": [
            "train epoch 47: 100%|██████████| 313/313 [00:18<00:00, 16.86it/s, loss=0.305, accuracy=0.892]\n",
            "validation epoch 47: 100%|██████████| 79/79 [00:02<00:00, 31.45it/s, loss=0.509, accuracy=0.848]\n"
          ]
        },
        {
          "name": "stdout",
          "output_type": "stream",
          "text": [
            "lr: 0.05\n"
          ]
        },
        {
          "name": "stderr",
          "output_type": "stream",
          "text": [
            "train epoch 48: 100%|██████████| 313/313 [00:18<00:00, 16.82it/s, loss=0.3, accuracy=0.894]\n",
            "validation epoch 48: 100%|██████████| 79/79 [00:02<00:00, 31.75it/s, loss=0.416, accuracy=0.863]\n"
          ]
        },
        {
          "name": "stdout",
          "output_type": "stream",
          "text": [
            "lr: 0.05\n"
          ]
        },
        {
          "name": "stderr",
          "output_type": "stream",
          "text": [
            "train epoch 49: 100%|██████████| 313/313 [00:18<00:00, 16.99it/s, loss=0.299, accuracy=0.895]\n",
            "validation epoch 49: 100%|██████████| 79/79 [00:02<00:00, 32.22it/s, loss=0.439, accuracy=0.856]\n"
          ]
        },
        {
          "name": "stdout",
          "output_type": "stream",
          "text": [
            "lr: 0.025\n"
          ]
        },
        {
          "name": "stderr",
          "output_type": "stream",
          "text": [
            "train epoch 50: 100%|██████████| 313/313 [00:18<00:00, 16.95it/s, loss=0.235, accuracy=0.917]\n",
            "validation epoch 50: 100%|██████████| 79/79 [00:02<00:00, 31.39it/s, loss=0.375, accuracy=0.881]\n"
          ]
        },
        {
          "name": "stdout",
          "output_type": "stream",
          "text": [
            "lr: 0.025\n"
          ]
        },
        {
          "name": "stderr",
          "output_type": "stream",
          "text": [
            "train epoch 51: 100%|██████████| 313/313 [00:18<00:00, 17.06it/s, loss=0.219, accuracy=0.924]\n",
            "validation epoch 51: 100%|██████████| 79/79 [00:02<00:00, 30.09it/s, loss=0.369, accuracy=0.883]\n"
          ]
        },
        {
          "name": "stdout",
          "output_type": "stream",
          "text": [
            "lr: 0.025\n"
          ]
        },
        {
          "name": "stderr",
          "output_type": "stream",
          "text": [
            "train epoch 52: 100%|██████████| 313/313 [00:19<00:00, 16.28it/s, loss=0.217, accuracy=0.924]\n",
            "validation epoch 52: 100%|██████████| 79/79 [00:02<00:00, 31.65it/s, loss=0.409, accuracy=0.871]\n"
          ]
        },
        {
          "name": "stdout",
          "output_type": "stream",
          "text": [
            "lr: 0.025\n"
          ]
        },
        {
          "name": "stderr",
          "output_type": "stream",
          "text": [
            "train epoch 53: 100%|██████████| 313/313 [00:18<00:00, 17.04it/s, loss=0.209, accuracy=0.925]\n",
            "validation epoch 53: 100%|██████████| 79/79 [00:02<00:00, 31.91it/s, loss=0.391, accuracy=0.881]\n"
          ]
        },
        {
          "name": "stdout",
          "output_type": "stream",
          "text": [
            "lr: 0.025\n"
          ]
        },
        {
          "name": "stderr",
          "output_type": "stream",
          "text": [
            "train epoch 54: 100%|██████████| 313/313 [00:18<00:00, 17.01it/s, loss=0.208, accuracy=0.927]\n",
            "validation epoch 54: 100%|██████████| 79/79 [00:02<00:00, 31.76it/s, loss=0.431, accuracy=0.875]\n"
          ]
        },
        {
          "name": "stdout",
          "output_type": "stream",
          "text": [
            "lr: 0.025\n"
          ]
        },
        {
          "name": "stderr",
          "output_type": "stream",
          "text": [
            "train epoch 55: 100%|██████████| 313/313 [00:18<00:00, 16.90it/s, loss=0.206, accuracy=0.927]\n",
            "validation epoch 55: 100%|██████████| 79/79 [00:02<00:00, 31.35it/s, loss=0.418, accuracy=0.879]\n"
          ]
        },
        {
          "name": "stdout",
          "output_type": "stream",
          "text": [
            "lr: 0.025\n"
          ]
        },
        {
          "name": "stderr",
          "output_type": "stream",
          "text": [
            "train epoch 56: 100%|██████████| 313/313 [00:18<00:00, 16.66it/s, loss=0.204, accuracy=0.928]\n",
            "validation epoch 56: 100%|██████████| 79/79 [00:02<00:00, 31.35it/s, loss=0.447, accuracy=0.867]\n"
          ]
        },
        {
          "name": "stdout",
          "output_type": "stream",
          "text": [
            "lr: 0.025\n"
          ]
        },
        {
          "name": "stderr",
          "output_type": "stream",
          "text": [
            "train epoch 57: 100%|██████████| 313/313 [00:18<00:00, 16.84it/s, loss=0.205, accuracy=0.926]\n",
            "validation epoch 57: 100%|██████████| 79/79 [00:02<00:00, 31.50it/s, loss=0.391, accuracy=0.88]\n"
          ]
        },
        {
          "name": "stdout",
          "output_type": "stream",
          "text": [
            "lr: 0.025\n"
          ]
        },
        {
          "name": "stderr",
          "output_type": "stream",
          "text": [
            "train epoch 58: 100%|██████████| 313/313 [00:18<00:00, 16.81it/s, loss=0.204, accuracy=0.93]\n",
            "validation epoch 58: 100%|██████████| 79/79 [00:02<00:00, 31.66it/s, loss=0.409, accuracy=0.881]\n"
          ]
        },
        {
          "name": "stdout",
          "output_type": "stream",
          "text": [
            "lr: 0.025\n"
          ]
        },
        {
          "name": "stderr",
          "output_type": "stream",
          "text": [
            "train epoch 59: 100%|██████████| 313/313 [00:18<00:00, 16.60it/s, loss=0.203, accuracy=0.928]\n",
            "validation epoch 59: 100%|██████████| 79/79 [00:02<00:00, 30.84it/s, loss=0.428, accuracy=0.873]\n"
          ]
        },
        {
          "name": "stdout",
          "output_type": "stream",
          "text": [
            "lr: 0.025\n"
          ]
        },
        {
          "name": "stderr",
          "output_type": "stream",
          "text": [
            "train epoch 60: 100%|██████████| 313/313 [00:18<00:00, 16.96it/s, loss=0.209, accuracy=0.925]\n",
            "validation epoch 60: 100%|██████████| 79/79 [00:02<00:00, 30.59it/s, loss=0.397, accuracy=0.875]\n"
          ]
        },
        {
          "name": "stdout",
          "output_type": "stream",
          "text": [
            "lr: 0.025\n"
          ]
        },
        {
          "name": "stderr",
          "output_type": "stream",
          "text": [
            "train epoch 61: 100%|██████████| 313/313 [00:19<00:00, 16.19it/s, loss=0.2, accuracy=0.93]\n",
            "validation epoch 61: 100%|██████████| 79/79 [00:02<00:00, 31.64it/s, loss=0.412, accuracy=0.878]\n"
          ]
        },
        {
          "name": "stdout",
          "output_type": "stream",
          "text": [
            "lr: 0.025\n"
          ]
        },
        {
          "name": "stderr",
          "output_type": "stream",
          "text": [
            "train epoch 62: 100%|██████████| 313/313 [00:18<00:00, 16.85it/s, loss=0.196, accuracy=0.93]\n",
            "validation epoch 62: 100%|██████████| 79/79 [00:02<00:00, 30.52it/s, loss=0.381, accuracy=0.886]\n"
          ]
        },
        {
          "name": "stdout",
          "output_type": "stream",
          "text": [
            "lr: 0.025\n"
          ]
        },
        {
          "name": "stderr",
          "output_type": "stream",
          "text": [
            "train epoch 63: 100%|██████████| 313/313 [00:18<00:00, 16.82it/s, loss=0.198, accuracy=0.929]\n",
            "validation epoch 63: 100%|██████████| 79/79 [00:02<00:00, 31.39it/s, loss=0.432, accuracy=0.872]\n"
          ]
        },
        {
          "name": "stdout",
          "output_type": "stream",
          "text": [
            "lr: 0.025\n"
          ]
        },
        {
          "name": "stderr",
          "output_type": "stream",
          "text": [
            "train epoch 64: 100%|██████████| 313/313 [00:18<00:00, 16.97it/s, loss=0.196, accuracy=0.929]\n",
            "validation epoch 64: 100%|██████████| 79/79 [00:02<00:00, 31.74it/s, loss=0.436, accuracy=0.871]\n"
          ]
        },
        {
          "name": "stdout",
          "output_type": "stream",
          "text": [
            "lr: 0.025\n"
          ]
        },
        {
          "name": "stderr",
          "output_type": "stream",
          "text": [
            "train epoch 65: 100%|██████████| 313/313 [00:18<00:00, 16.93it/s, loss=0.193, accuracy=0.932]\n",
            "validation epoch 65: 100%|██████████| 79/79 [00:02<00:00, 31.67it/s, loss=0.382, accuracy=0.885]\n"
          ]
        },
        {
          "name": "stdout",
          "output_type": "stream",
          "text": [
            "lr: 0.025\n"
          ]
        },
        {
          "name": "stderr",
          "output_type": "stream",
          "text": [
            "train epoch 66: 100%|██████████| 313/313 [00:18<00:00, 16.87it/s, loss=0.192, accuracy=0.932]\n",
            "validation epoch 66: 100%|██████████| 79/79 [00:02<00:00, 31.63it/s, loss=0.451, accuracy=0.874]\n"
          ]
        },
        {
          "name": "stdout",
          "output_type": "stream",
          "text": [
            "lr: 0.025\n"
          ]
        },
        {
          "name": "stderr",
          "output_type": "stream",
          "text": [
            "train epoch 67: 100%|██████████| 313/313 [00:18<00:00, 16.96it/s, loss=0.192, accuracy=0.931]\n",
            "validation epoch 67: 100%|██████████| 79/79 [00:02<00:00, 31.36it/s, loss=0.447, accuracy=0.869]\n"
          ]
        },
        {
          "name": "stdout",
          "output_type": "stream",
          "text": [
            "lr: 0.025\n"
          ]
        },
        {
          "name": "stderr",
          "output_type": "stream",
          "text": [
            "train epoch 68: 100%|██████████| 313/313 [00:18<00:00, 17.02it/s, loss=0.188, accuracy=0.933]\n",
            "validation epoch 68: 100%|██████████| 79/79 [00:02<00:00, 31.23it/s, loss=0.406, accuracy=0.879]\n"
          ]
        },
        {
          "name": "stdout",
          "output_type": "stream",
          "text": [
            "lr: 0.025\n"
          ]
        },
        {
          "name": "stderr",
          "output_type": "stream",
          "text": [
            "train epoch 69: 100%|██████████| 313/313 [00:18<00:00, 16.86it/s, loss=0.194, accuracy=0.931]\n",
            "validation epoch 69: 100%|██████████| 79/79 [00:02<00:00, 31.32it/s, loss=0.407, accuracy=0.879]\n"
          ]
        },
        {
          "name": "stdout",
          "output_type": "stream",
          "text": [
            "lr: 0.025\n"
          ]
        },
        {
          "name": "stderr",
          "output_type": "stream",
          "text": [
            "train epoch 70: 100%|██████████| 313/313 [00:18<00:00, 16.90it/s, loss=0.186, accuracy=0.934]\n",
            "validation epoch 70: 100%|██████████| 79/79 [00:02<00:00, 29.21it/s, loss=0.441, accuracy=0.873]\n"
          ]
        },
        {
          "name": "stdout",
          "output_type": "stream",
          "text": [
            "lr: 0.025\n"
          ]
        },
        {
          "name": "stderr",
          "output_type": "stream",
          "text": [
            "train epoch 71: 100%|██████████| 313/313 [00:19<00:00, 15.97it/s, loss=0.189, accuracy=0.932]\n",
            "validation epoch 71: 100%|██████████| 79/79 [00:02<00:00, 30.66it/s, loss=0.42, accuracy=0.879]\n"
          ]
        },
        {
          "name": "stdout",
          "output_type": "stream",
          "text": [
            "lr: 0.025\n"
          ]
        },
        {
          "name": "stderr",
          "output_type": "stream",
          "text": [
            "train epoch 72: 100%|██████████| 313/313 [00:18<00:00, 16.67it/s, loss=0.19, accuracy=0.932]\n",
            "validation epoch 72: 100%|██████████| 79/79 [00:02<00:00, 30.53it/s, loss=0.438, accuracy=0.872]\n"
          ]
        },
        {
          "name": "stdout",
          "output_type": "stream",
          "text": [
            "lr: 0.025\n"
          ]
        },
        {
          "name": "stderr",
          "output_type": "stream",
          "text": [
            "train epoch 73: 100%|██████████| 313/313 [00:18<00:00, 16.62it/s, loss=0.188, accuracy=0.933]\n",
            "validation epoch 73: 100%|██████████| 79/79 [00:02<00:00, 30.99it/s, loss=0.416, accuracy=0.876]\n"
          ]
        },
        {
          "name": "stdout",
          "output_type": "stream",
          "text": [
            "lr: 0.025\n"
          ]
        },
        {
          "name": "stderr",
          "output_type": "stream",
          "text": [
            "train epoch 74: 100%|██████████| 313/313 [00:18<00:00, 16.80it/s, loss=0.179, accuracy=0.936]\n",
            "validation epoch 74: 100%|██████████| 79/79 [00:02<00:00, 30.45it/s, loss=0.402, accuracy=0.884]\n"
          ]
        },
        {
          "name": "stdout",
          "output_type": "stream",
          "text": [
            "lr: 0.0125\n"
          ]
        },
        {
          "name": "stderr",
          "output_type": "stream",
          "text": [
            "train epoch 75: 100%|██████████| 313/313 [00:18<00:00, 16.81it/s, loss=0.143, accuracy=0.95]\n",
            "validation epoch 75: 100%|██████████| 79/79 [00:02<00:00, 31.92it/s, loss=0.374, accuracy=0.891]\n"
          ]
        },
        {
          "name": "stdout",
          "output_type": "stream",
          "text": [
            "lr: 0.0125\n"
          ]
        },
        {
          "name": "stderr",
          "output_type": "stream",
          "text": [
            "train epoch 76: 100%|██████████| 313/313 [00:18<00:00, 16.75it/s, loss=0.134, accuracy=0.953]\n",
            "validation epoch 76: 100%|██████████| 79/79 [00:02<00:00, 29.70it/s, loss=0.387, accuracy=0.892]\n"
          ]
        },
        {
          "name": "stdout",
          "output_type": "stream",
          "text": [
            "lr: 0.0125\n"
          ]
        },
        {
          "name": "stderr",
          "output_type": "stream",
          "text": [
            "train epoch 77: 100%|██████████| 313/313 [00:18<00:00, 16.64it/s, loss=0.126, accuracy=0.956]\n",
            "validation epoch 77: 100%|██████████| 79/79 [00:02<00:00, 31.20it/s, loss=0.378, accuracy=0.893]\n"
          ]
        },
        {
          "name": "stdout",
          "output_type": "stream",
          "text": [
            "lr: 0.0125\n"
          ]
        },
        {
          "name": "stderr",
          "output_type": "stream",
          "text": [
            "train epoch 78: 100%|██████████| 313/313 [00:18<00:00, 16.71it/s, loss=0.129, accuracy=0.954]\n",
            "validation epoch 78: 100%|██████████| 79/79 [00:02<00:00, 31.42it/s, loss=0.375, accuracy=0.89]\n"
          ]
        },
        {
          "name": "stdout",
          "output_type": "stream",
          "text": [
            "lr: 0.0125\n"
          ]
        },
        {
          "name": "stderr",
          "output_type": "stream",
          "text": [
            "train epoch 79: 100%|██████████| 313/313 [00:18<00:00, 16.98it/s, loss=0.121, accuracy=0.957]\n",
            "validation epoch 79: 100%|██████████| 79/79 [00:02<00:00, 31.59it/s, loss=0.387, accuracy=0.892]\n"
          ]
        },
        {
          "name": "stdout",
          "output_type": "stream",
          "text": [
            "lr: 0.0125\n"
          ]
        },
        {
          "name": "stderr",
          "output_type": "stream",
          "text": [
            "train epoch 80: 100%|██████████| 313/313 [00:19<00:00, 16.04it/s, loss=0.126, accuracy=0.956]\n",
            "validation epoch 80: 100%|██████████| 79/79 [00:02<00:00, 31.37it/s, loss=0.384, accuracy=0.894]\n"
          ]
        },
        {
          "name": "stdout",
          "output_type": "stream",
          "text": [
            "lr: 0.0125\n"
          ]
        },
        {
          "name": "stderr",
          "output_type": "stream",
          "text": [
            "train epoch 81: 100%|██████████| 313/313 [00:18<00:00, 16.87it/s, loss=0.118, accuracy=0.958]\n",
            "validation epoch 81: 100%|██████████| 79/79 [00:02<00:00, 29.80it/s, loss=0.388, accuracy=0.891]\n"
          ]
        },
        {
          "name": "stdout",
          "output_type": "stream",
          "text": [
            "lr: 0.0125\n"
          ]
        },
        {
          "name": "stderr",
          "output_type": "stream",
          "text": [
            "train epoch 82: 100%|██████████| 313/313 [00:18<00:00, 16.52it/s, loss=0.121, accuracy=0.956]\n",
            "validation epoch 82: 100%|██████████| 79/79 [00:02<00:00, 30.98it/s, loss=0.394, accuracy=0.894]\n"
          ]
        },
        {
          "name": "stdout",
          "output_type": "stream",
          "text": [
            "lr: 0.0125\n"
          ]
        },
        {
          "name": "stderr",
          "output_type": "stream",
          "text": [
            "train epoch 83: 100%|██████████| 313/313 [00:18<00:00, 16.72it/s, loss=0.12, accuracy=0.957]\n",
            "validation epoch 83: 100%|██████████| 79/79 [00:02<00:00, 30.96it/s, loss=0.403, accuracy=0.89]\n"
          ]
        },
        {
          "name": "stdout",
          "output_type": "stream",
          "text": [
            "lr: 0.0125\n"
          ]
        },
        {
          "name": "stderr",
          "output_type": "stream",
          "text": [
            "train epoch 84: 100%|██████████| 313/313 [00:18<00:00, 16.87it/s, loss=0.117, accuracy=0.959]\n",
            "validation epoch 84: 100%|██████████| 79/79 [00:02<00:00, 31.61it/s, loss=0.424, accuracy=0.888]\n"
          ]
        },
        {
          "name": "stdout",
          "output_type": "stream",
          "text": [
            "lr: 0.0125\n"
          ]
        },
        {
          "name": "stderr",
          "output_type": "stream",
          "text": [
            "train epoch 85: 100%|██████████| 313/313 [00:18<00:00, 16.86it/s, loss=0.124, accuracy=0.956]\n",
            "validation epoch 85: 100%|██████████| 79/79 [00:02<00:00, 29.92it/s, loss=0.421, accuracy=0.887]\n"
          ]
        },
        {
          "name": "stdout",
          "output_type": "stream",
          "text": [
            "lr: 0.0125\n"
          ]
        },
        {
          "name": "stderr",
          "output_type": "stream",
          "text": [
            "train epoch 86: 100%|██████████| 313/313 [00:18<00:00, 16.73it/s, loss=0.118, accuracy=0.958]\n",
            "validation epoch 86: 100%|██████████| 79/79 [00:02<00:00, 31.25it/s, loss=0.397, accuracy=0.893]\n"
          ]
        },
        {
          "name": "stdout",
          "output_type": "stream",
          "text": [
            "lr: 0.0125\n"
          ]
        },
        {
          "name": "stderr",
          "output_type": "stream",
          "text": [
            "train epoch 87: 100%|██████████| 313/313 [00:18<00:00, 16.48it/s, loss=0.118, accuracy=0.958]\n",
            "validation epoch 87: 100%|██████████| 79/79 [00:02<00:00, 31.33it/s, loss=0.39, accuracy=0.892]\n"
          ]
        },
        {
          "name": "stdout",
          "output_type": "stream",
          "text": [
            "lr: 0.0125\n"
          ]
        },
        {
          "name": "stderr",
          "output_type": "stream",
          "text": [
            "train epoch 88: 100%|██████████| 313/313 [00:18<00:00, 16.71it/s, loss=0.115, accuracy=0.959]\n",
            "validation epoch 88: 100%|██████████| 79/79 [00:02<00:00, 31.38it/s, loss=0.39, accuracy=0.89]\n"
          ]
        },
        {
          "name": "stdout",
          "output_type": "stream",
          "text": [
            "lr: 0.0125\n"
          ]
        },
        {
          "name": "stderr",
          "output_type": "stream",
          "text": [
            "train epoch 89: 100%|██████████| 313/313 [00:19<00:00, 15.93it/s, loss=0.111, accuracy=0.96]\n",
            "validation epoch 89: 100%|██████████| 79/79 [00:02<00:00, 31.40it/s, loss=0.4, accuracy=0.891]\n"
          ]
        },
        {
          "name": "stdout",
          "output_type": "stream",
          "text": [
            "lr: 0.0125\n"
          ]
        },
        {
          "name": "stderr",
          "output_type": "stream",
          "text": [
            "train epoch 90: 100%|██████████| 313/313 [00:18<00:00, 16.86it/s, loss=0.115, accuracy=0.959]\n",
            "validation epoch 90: 100%|██████████| 79/79 [00:02<00:00, 31.64it/s, loss=0.403, accuracy=0.893]\n"
          ]
        },
        {
          "name": "stdout",
          "output_type": "stream",
          "text": [
            "lr: 0.0125\n"
          ]
        },
        {
          "name": "stderr",
          "output_type": "stream",
          "text": [
            "train epoch 91: 100%|██████████| 313/313 [00:18<00:00, 16.84it/s, loss=0.11, accuracy=0.961]\n",
            "validation epoch 91: 100%|██████████| 79/79 [00:02<00:00, 31.10it/s, loss=0.408, accuracy=0.893]\n"
          ]
        },
        {
          "name": "stdout",
          "output_type": "stream",
          "text": [
            "lr: 0.0125\n"
          ]
        },
        {
          "name": "stderr",
          "output_type": "stream",
          "text": [
            "train epoch 92: 100%|██████████| 313/313 [00:18<00:00, 16.91it/s, loss=0.11, accuracy=0.961]\n",
            "validation epoch 92: 100%|██████████| 79/79 [00:02<00:00, 31.68it/s, loss=0.418, accuracy=0.892]\n"
          ]
        },
        {
          "name": "stdout",
          "output_type": "stream",
          "text": [
            "lr: 0.0125\n"
          ]
        },
        {
          "name": "stderr",
          "output_type": "stream",
          "text": [
            "train epoch 93: 100%|██████████| 313/313 [00:18<00:00, 16.64it/s, loss=0.112, accuracy=0.959]\n",
            "validation epoch 93: 100%|██████████| 79/79 [00:02<00:00, 30.97it/s, loss=0.412, accuracy=0.888]\n"
          ]
        },
        {
          "name": "stdout",
          "output_type": "stream",
          "text": [
            "lr: 0.0125\n"
          ]
        },
        {
          "name": "stderr",
          "output_type": "stream",
          "text": [
            "train epoch 94: 100%|██████████| 313/313 [00:18<00:00, 16.73it/s, loss=0.116, accuracy=0.959]\n",
            "validation epoch 94: 100%|██████████| 79/79 [00:02<00:00, 30.35it/s, loss=0.405, accuracy=0.892]\n"
          ]
        },
        {
          "name": "stdout",
          "output_type": "stream",
          "text": [
            "lr: 0.0125\n"
          ]
        },
        {
          "name": "stderr",
          "output_type": "stream",
          "text": [
            "train epoch 95: 100%|██████████| 313/313 [00:18<00:00, 16.68it/s, loss=0.108, accuracy=0.962]\n",
            "validation epoch 95: 100%|██████████| 79/79 [00:02<00:00, 30.29it/s, loss=0.421, accuracy=0.89]\n"
          ]
        },
        {
          "name": "stdout",
          "output_type": "stream",
          "text": [
            "lr: 0.0125\n"
          ]
        },
        {
          "name": "stderr",
          "output_type": "stream",
          "text": [
            "train epoch 96: 100%|██████████| 313/313 [00:18<00:00, 16.55it/s, loss=0.112, accuracy=0.959]\n",
            "validation epoch 96: 100%|██████████| 79/79 [00:02<00:00, 31.31it/s, loss=0.436, accuracy=0.884]\n"
          ]
        },
        {
          "name": "stdout",
          "output_type": "stream",
          "text": [
            "lr: 0.0125\n"
          ]
        },
        {
          "name": "stderr",
          "output_type": "stream",
          "text": [
            "train epoch 97: 100%|██████████| 313/313 [00:18<00:00, 16.76it/s, loss=0.11, accuracy=0.96]\n",
            "validation epoch 97: 100%|██████████| 79/79 [00:02<00:00, 31.04it/s, loss=0.426, accuracy=0.89]\n"
          ]
        },
        {
          "name": "stdout",
          "output_type": "stream",
          "text": [
            "lr: 0.0125\n"
          ]
        },
        {
          "name": "stderr",
          "output_type": "stream",
          "text": [
            "train epoch 98: 100%|██████████| 313/313 [00:19<00:00, 16.01it/s, loss=0.11, accuracy=0.962]\n",
            "validation epoch 98: 100%|██████████| 79/79 [00:02<00:00, 31.07it/s, loss=0.433, accuracy=0.884]\n"
          ]
        },
        {
          "name": "stdout",
          "output_type": "stream",
          "text": [
            "lr: 0.0125\n"
          ]
        },
        {
          "name": "stderr",
          "output_type": "stream",
          "text": [
            "train epoch 99: 100%|██████████| 313/313 [00:18<00:00, 16.93it/s, loss=0.11, accuracy=0.961]\n",
            "validation epoch 99: 100%|██████████| 79/79 [00:02<00:00, 30.82it/s, loss=0.417, accuracy=0.89]\n"
          ]
        },
        {
          "name": "stdout",
          "output_type": "stream",
          "text": [
            "lr: 0.00625\n"
          ]
        },
        {
          "name": "stderr",
          "output_type": "stream",
          "text": [
            "train epoch 100: 100%|██████████| 313/313 [00:18<00:00, 16.57it/s, loss=0.0872, accuracy=0.969]\n",
            "validation epoch 100: 100%|██████████| 79/79 [00:02<00:00, 31.08it/s, loss=0.395, accuracy=0.897]\n"
          ]
        },
        {
          "name": "stdout",
          "output_type": "stream",
          "text": [
            "lr: 0.00625\n"
          ]
        },
        {
          "name": "stderr",
          "output_type": "stream",
          "text": [
            "train epoch 101: 100%|██████████| 313/313 [00:18<00:00, 16.64it/s, loss=0.0824, accuracy=0.971]\n",
            "validation epoch 101: 100%|██████████| 79/79 [00:02<00:00, 29.03it/s, loss=0.403, accuracy=0.896]\n"
          ]
        },
        {
          "name": "stdout",
          "output_type": "stream",
          "text": [
            "lr: 0.00625\n"
          ]
        },
        {
          "name": "stderr",
          "output_type": "stream",
          "text": [
            "train epoch 102: 100%|██████████| 313/313 [00:18<00:00, 16.84it/s, loss=0.0797, accuracy=0.973]\n",
            "validation epoch 102: 100%|██████████| 79/79 [00:02<00:00, 31.30it/s, loss=0.402, accuracy=0.895]\n"
          ]
        },
        {
          "name": "stdout",
          "output_type": "stream",
          "text": [
            "lr: 0.00625\n"
          ]
        },
        {
          "name": "stderr",
          "output_type": "stream",
          "text": [
            "train epoch 103: 100%|██████████| 313/313 [00:18<00:00, 16.66it/s, loss=0.0746, accuracy=0.974]\n",
            "validation epoch 103: 100%|██████████| 79/79 [00:02<00:00, 30.65it/s, loss=0.413, accuracy=0.897]\n"
          ]
        },
        {
          "name": "stdout",
          "output_type": "stream",
          "text": [
            "lr: 0.00625\n"
          ]
        },
        {
          "name": "stderr",
          "output_type": "stream",
          "text": [
            "train epoch 104: 100%|██████████| 313/313 [00:18<00:00, 16.64it/s, loss=0.0715, accuracy=0.976]\n",
            "validation epoch 104: 100%|██████████| 79/79 [00:02<00:00, 30.58it/s, loss=0.407, accuracy=0.897]\n"
          ]
        },
        {
          "name": "stdout",
          "output_type": "stream",
          "text": [
            "lr: 0.00625\n"
          ]
        },
        {
          "name": "stderr",
          "output_type": "stream",
          "text": [
            "train epoch 105: 100%|██████████| 313/313 [00:19<00:00, 16.47it/s, loss=0.0723, accuracy=0.974]\n",
            "validation epoch 105: 100%|██████████| 79/79 [00:02<00:00, 29.89it/s, loss=0.413, accuracy=0.899]\n"
          ]
        },
        {
          "name": "stdout",
          "output_type": "stream",
          "text": [
            "lr: 0.00625\n"
          ]
        },
        {
          "name": "stderr",
          "output_type": "stream",
          "text": [
            "train epoch 106: 100%|██████████| 313/313 [00:18<00:00, 16.58it/s, loss=0.0728, accuracy=0.975]\n",
            "validation epoch 106: 100%|██████████| 79/79 [00:02<00:00, 30.53it/s, loss=0.412, accuracy=0.896]\n"
          ]
        },
        {
          "name": "stdout",
          "output_type": "stream",
          "text": [
            "lr: 0.00625\n"
          ]
        },
        {
          "name": "stderr",
          "output_type": "stream",
          "text": [
            "train epoch 107: 100%|██████████| 313/313 [00:19<00:00, 15.99it/s, loss=0.0708, accuracy=0.975]\n",
            "validation epoch 107: 100%|██████████| 79/79 [00:02<00:00, 29.69it/s, loss=0.416, accuracy=0.895]\n"
          ]
        },
        {
          "name": "stdout",
          "output_type": "stream",
          "text": [
            "lr: 0.00625\n"
          ]
        },
        {
          "name": "stderr",
          "output_type": "stream",
          "text": [
            "train epoch 108: 100%|██████████| 313/313 [00:18<00:00, 16.84it/s, loss=0.07, accuracy=0.975]\n",
            "validation epoch 108: 100%|██████████| 79/79 [00:02<00:00, 30.97it/s, loss=0.407, accuracy=0.901]\n"
          ]
        },
        {
          "name": "stdout",
          "output_type": "stream",
          "text": [
            "lr: 0.00625\n"
          ]
        },
        {
          "name": "stderr",
          "output_type": "stream",
          "text": [
            "train epoch 109: 100%|██████████| 313/313 [00:18<00:00, 16.72it/s, loss=0.0726, accuracy=0.974]\n",
            "validation epoch 109: 100%|██████████| 79/79 [00:02<00:00, 30.86it/s, loss=0.445, accuracy=0.889]\n"
          ]
        },
        {
          "name": "stdout",
          "output_type": "stream",
          "text": [
            "lr: 0.00625\n"
          ]
        },
        {
          "name": "stderr",
          "output_type": "stream",
          "text": [
            "train epoch 110: 100%|██████████| 313/313 [00:18<00:00, 16.70it/s, loss=0.0739, accuracy=0.974]\n",
            "validation epoch 110: 100%|██████████| 79/79 [00:02<00:00, 30.20it/s, loss=0.423, accuracy=0.897]\n"
          ]
        },
        {
          "name": "stdout",
          "output_type": "stream",
          "text": [
            "lr: 0.00625\n"
          ]
        },
        {
          "name": "stderr",
          "output_type": "stream",
          "text": [
            "train epoch 111: 100%|██████████| 313/313 [00:18<00:00, 16.78it/s, loss=0.0711, accuracy=0.975]\n",
            "validation epoch 111: 100%|██████████| 79/79 [00:02<00:00, 30.42it/s, loss=0.433, accuracy=0.89]\n"
          ]
        },
        {
          "name": "stdout",
          "output_type": "stream",
          "text": [
            "lr: 0.00625\n"
          ]
        },
        {
          "name": "stderr",
          "output_type": "stream",
          "text": [
            "train epoch 112: 100%|██████████| 313/313 [00:19<00:00, 16.44it/s, loss=0.0698, accuracy=0.975]\n",
            "validation epoch 112: 100%|██████████| 79/79 [00:02<00:00, 30.76it/s, loss=0.415, accuracy=0.896]\n"
          ]
        },
        {
          "name": "stdout",
          "output_type": "stream",
          "text": [
            "lr: 0.00625\n"
          ]
        },
        {
          "name": "stderr",
          "output_type": "stream",
          "text": [
            "train epoch 113: 100%|██████████| 313/313 [00:18<00:00, 16.78it/s, loss=0.0668, accuracy=0.977]\n",
            "validation epoch 113: 100%|██████████| 79/79 [00:02<00:00, 30.96it/s, loss=0.427, accuracy=0.899]\n"
          ]
        },
        {
          "name": "stdout",
          "output_type": "stream",
          "text": [
            "lr: 0.00625\n"
          ]
        },
        {
          "name": "stderr",
          "output_type": "stream",
          "text": [
            "train epoch 114: 100%|██████████| 313/313 [00:18<00:00, 16.65it/s, loss=0.067, accuracy=0.978]\n",
            "validation epoch 114: 100%|██████████| 79/79 [00:02<00:00, 30.93it/s, loss=0.422, accuracy=0.898]\n"
          ]
        },
        {
          "name": "stdout",
          "output_type": "stream",
          "text": [
            "lr: 0.00625\n"
          ]
        },
        {
          "name": "stderr",
          "output_type": "stream",
          "text": [
            "train epoch 115: 100%|██████████| 313/313 [00:18<00:00, 16.78it/s, loss=0.0682, accuracy=0.976]\n",
            "validation epoch 115: 100%|██████████| 79/79 [00:02<00:00, 30.51it/s, loss=0.423, accuracy=0.899]\n"
          ]
        },
        {
          "name": "stdout",
          "output_type": "stream",
          "text": [
            "lr: 0.00625\n"
          ]
        },
        {
          "name": "stderr",
          "output_type": "stream",
          "text": [
            "train epoch 116: 100%|██████████| 313/313 [00:18<00:00, 16.62it/s, loss=0.0702, accuracy=0.976]\n",
            "validation epoch 116: 100%|██████████| 79/79 [00:03<00:00, 25.56it/s, loss=0.42, accuracy=0.896]\n"
          ]
        },
        {
          "name": "stdout",
          "output_type": "stream",
          "text": [
            "lr: 0.00625\n"
          ]
        },
        {
          "name": "stderr",
          "output_type": "stream",
          "text": [
            "train epoch 117: 100%|██████████| 313/313 [00:18<00:00, 16.54it/s, loss=0.0673, accuracy=0.977]\n",
            "validation epoch 117: 100%|██████████| 79/79 [00:02<00:00, 30.97it/s, loss=0.434, accuracy=0.899]\n"
          ]
        },
        {
          "name": "stdout",
          "output_type": "stream",
          "text": [
            "lr: 0.00625\n"
          ]
        },
        {
          "name": "stderr",
          "output_type": "stream",
          "text": [
            "train epoch 118: 100%|██████████| 313/313 [00:18<00:00, 16.57it/s, loss=0.0651, accuracy=0.977]\n",
            "validation epoch 118: 100%|██████████| 79/79 [00:02<00:00, 30.32it/s, loss=0.434, accuracy=0.895]\n"
          ]
        },
        {
          "name": "stdout",
          "output_type": "stream",
          "text": [
            "lr: 0.00625\n"
          ]
        },
        {
          "name": "stderr",
          "output_type": "stream",
          "text": [
            "train epoch 119: 100%|██████████| 313/313 [00:18<00:00, 16.71it/s, loss=0.0724, accuracy=0.974]\n",
            "validation epoch 119: 100%|██████████| 79/79 [00:02<00:00, 29.33it/s, loss=0.428, accuracy=0.899]\n"
          ]
        },
        {
          "name": "stdout",
          "output_type": "stream",
          "text": [
            "lr: 0.00625\n"
          ]
        },
        {
          "name": "stderr",
          "output_type": "stream",
          "text": [
            "train epoch 120: 100%|██████████| 313/313 [00:18<00:00, 16.70it/s, loss=0.0663, accuracy=0.977]\n",
            "validation epoch 120: 100%|██████████| 79/79 [00:02<00:00, 31.00it/s, loss=0.438, accuracy=0.893]\n"
          ]
        },
        {
          "name": "stdout",
          "output_type": "stream",
          "text": [
            "lr: 0.00625\n"
          ]
        },
        {
          "name": "stderr",
          "output_type": "stream",
          "text": [
            "train epoch 121: 100%|██████████| 313/313 [00:18<00:00, 16.69it/s, loss=0.0652, accuracy=0.977]\n",
            "validation epoch 121: 100%|██████████| 79/79 [00:02<00:00, 30.59it/s, loss=0.452, accuracy=0.897]\n"
          ]
        },
        {
          "name": "stdout",
          "output_type": "stream",
          "text": [
            "lr: 0.00625\n"
          ]
        },
        {
          "name": "stderr",
          "output_type": "stream",
          "text": [
            "train epoch 122: 100%|██████████| 313/313 [00:18<00:00, 16.77it/s, loss=0.0674, accuracy=0.976]\n",
            "validation epoch 122: 100%|██████████| 79/79 [00:02<00:00, 30.95it/s, loss=0.44, accuracy=0.896]\n"
          ]
        },
        {
          "name": "stdout",
          "output_type": "stream",
          "text": [
            "lr: 0.00625\n"
          ]
        },
        {
          "name": "stderr",
          "output_type": "stream",
          "text": [
            "train epoch 123: 100%|██████████| 313/313 [00:18<00:00, 16.64it/s, loss=0.0633, accuracy=0.978]\n",
            "validation epoch 123: 100%|██████████| 79/79 [00:02<00:00, 30.86it/s, loss=0.428, accuracy=0.898]\n"
          ]
        },
        {
          "name": "stdout",
          "output_type": "stream",
          "text": [
            "lr: 0.00625\n"
          ]
        },
        {
          "name": "stderr",
          "output_type": "stream",
          "text": [
            "train epoch 124: 100%|██████████| 313/313 [00:18<00:00, 16.69it/s, loss=0.0664, accuracy=0.977]\n",
            "validation epoch 124: 100%|██████████| 79/79 [00:02<00:00, 31.04it/s, loss=0.431, accuracy=0.895]\n"
          ]
        },
        {
          "name": "stdout",
          "output_type": "stream",
          "text": [
            "lr: 0.003125\n"
          ]
        },
        {
          "name": "stderr",
          "output_type": "stream",
          "text": [
            "train epoch 125: 100%|██████████| 313/313 [00:18<00:00, 16.70it/s, loss=0.0547, accuracy=0.982]\n",
            "validation epoch 125: 100%|██████████| 79/79 [00:02<00:00, 31.53it/s, loss=0.418, accuracy=0.898]\n"
          ]
        },
        {
          "name": "stdout",
          "output_type": "stream",
          "text": [
            "lr: 0.003125\n"
          ]
        },
        {
          "name": "stderr",
          "output_type": "stream",
          "text": [
            "train epoch 126: 100%|██████████| 313/313 [00:19<00:00, 16.07it/s, loss=0.0517, accuracy=0.983]\n",
            "validation epoch 126: 100%|██████████| 79/79 [00:02<00:00, 31.40it/s, loss=0.426, accuracy=0.901]\n"
          ]
        },
        {
          "name": "stdout",
          "output_type": "stream",
          "text": [
            "lr: 0.003125\n"
          ]
        },
        {
          "name": "stderr",
          "output_type": "stream",
          "text": [
            "train epoch 127: 100%|██████████| 313/313 [00:18<00:00, 16.60it/s, loss=0.0532, accuracy=0.982]\n",
            "validation epoch 127: 100%|██████████| 79/79 [00:02<00:00, 30.55it/s, loss=0.425, accuracy=0.9]\n"
          ]
        },
        {
          "name": "stdout",
          "output_type": "stream",
          "text": [
            "lr: 0.003125\n"
          ]
        },
        {
          "name": "stderr",
          "output_type": "stream",
          "text": [
            "train epoch 128: 100%|██████████| 313/313 [00:19<00:00, 16.44it/s, loss=0.0507, accuracy=0.983]\n",
            "validation epoch 128: 100%|██████████| 79/79 [00:02<00:00, 29.15it/s, loss=0.431, accuracy=0.9]\n"
          ]
        },
        {
          "name": "stdout",
          "output_type": "stream",
          "text": [
            "lr: 0.003125\n"
          ]
        },
        {
          "name": "stderr",
          "output_type": "stream",
          "text": [
            "train epoch 129: 100%|██████████| 313/313 [00:18<00:00, 16.55it/s, loss=0.0489, accuracy=0.984]\n",
            "validation epoch 129: 100%|██████████| 79/79 [00:02<00:00, 30.57it/s, loss=0.431, accuracy=0.9]\n"
          ]
        },
        {
          "name": "stdout",
          "output_type": "stream",
          "text": [
            "lr: 0.003125\n"
          ]
        },
        {
          "name": "stderr",
          "output_type": "stream",
          "text": [
            "train epoch 130: 100%|██████████| 313/313 [00:18<00:00, 16.70it/s, loss=0.0472, accuracy=0.984]\n",
            "validation epoch 130: 100%|██████████| 79/79 [00:02<00:00, 29.81it/s, loss=0.432, accuracy=0.898]\n"
          ]
        },
        {
          "name": "stdout",
          "output_type": "stream",
          "text": [
            "lr: 0.003125\n"
          ]
        },
        {
          "name": "stderr",
          "output_type": "stream",
          "text": [
            "train epoch 131: 100%|██████████| 313/313 [00:18<00:00, 16.71it/s, loss=0.0515, accuracy=0.982]\n",
            "validation epoch 131: 100%|██████████| 79/79 [00:02<00:00, 31.08it/s, loss=0.429, accuracy=0.898]\n"
          ]
        },
        {
          "name": "stdout",
          "output_type": "stream",
          "text": [
            "lr: 0.003125\n"
          ]
        },
        {
          "name": "stderr",
          "output_type": "stream",
          "text": [
            "train epoch 132: 100%|██████████| 313/313 [00:18<00:00, 16.79it/s, loss=0.0466, accuracy=0.984]\n",
            "validation epoch 132: 100%|██████████| 79/79 [00:02<00:00, 30.91it/s, loss=0.431, accuracy=0.899]\n"
          ]
        },
        {
          "name": "stdout",
          "output_type": "stream",
          "text": [
            "lr: 0.003125\n"
          ]
        },
        {
          "name": "stderr",
          "output_type": "stream",
          "text": [
            "train epoch 133: 100%|██████████| 313/313 [00:18<00:00, 16.87it/s, loss=0.0463, accuracy=0.985]\n",
            "validation epoch 133: 100%|██████████| 79/79 [00:02<00:00, 30.93it/s, loss=0.426, accuracy=0.899]\n"
          ]
        },
        {
          "name": "stdout",
          "output_type": "stream",
          "text": [
            "lr: 0.003125\n"
          ]
        },
        {
          "name": "stderr",
          "output_type": "stream",
          "text": [
            "train epoch 134: 100%|██████████| 313/313 [00:18<00:00, 16.70it/s, loss=0.0471, accuracy=0.984]\n",
            "validation epoch 134: 100%|██████████| 79/79 [00:02<00:00, 31.03it/s, loss=0.446, accuracy=0.897]\n"
          ]
        },
        {
          "name": "stdout",
          "output_type": "stream",
          "text": [
            "lr: 0.003125\n"
          ]
        },
        {
          "name": "stderr",
          "output_type": "stream",
          "text": [
            "train epoch 135: 100%|██████████| 313/313 [00:19<00:00, 15.87it/s, loss=0.0448, accuracy=0.984]\n",
            "validation epoch 135: 100%|██████████| 79/79 [00:02<00:00, 30.34it/s, loss=0.448, accuracy=0.896]\n"
          ]
        },
        {
          "name": "stdout",
          "output_type": "stream",
          "text": [
            "lr: 0.003125\n"
          ]
        },
        {
          "name": "stderr",
          "output_type": "stream",
          "text": [
            "train epoch 136: 100%|██████████| 313/313 [00:18<00:00, 16.53it/s, loss=0.0461, accuracy=0.984]\n",
            "validation epoch 136: 100%|██████████| 79/79 [00:02<00:00, 30.01it/s, loss=0.428, accuracy=0.9]\n"
          ]
        },
        {
          "name": "stdout",
          "output_type": "stream",
          "text": [
            "lr: 0.003125\n"
          ]
        },
        {
          "name": "stderr",
          "output_type": "stream",
          "text": [
            "train epoch 137: 100%|██████████| 313/313 [00:18<00:00, 16.51it/s, loss=0.0456, accuracy=0.984]\n",
            "validation epoch 137: 100%|██████████| 79/79 [00:02<00:00, 28.40it/s, loss=0.436, accuracy=0.899]\n"
          ]
        },
        {
          "name": "stdout",
          "output_type": "stream",
          "text": [
            "lr: 0.003125\n"
          ]
        },
        {
          "name": "stderr",
          "output_type": "stream",
          "text": [
            "train epoch 138: 100%|██████████| 313/313 [00:18<00:00, 16.56it/s, loss=0.0461, accuracy=0.984]\n",
            "validation epoch 138: 100%|██████████| 79/79 [00:02<00:00, 31.03it/s, loss=0.44, accuracy=0.9]\n"
          ]
        },
        {
          "name": "stdout",
          "output_type": "stream",
          "text": [
            "lr: 0.003125\n"
          ]
        },
        {
          "name": "stderr",
          "output_type": "stream",
          "text": [
            "train epoch 139: 100%|██████████| 313/313 [00:18<00:00, 16.64it/s, loss=0.0458, accuracy=0.984]\n",
            "validation epoch 139: 100%|██████████| 79/79 [00:02<00:00, 30.45it/s, loss=0.437, accuracy=0.899]\n"
          ]
        },
        {
          "name": "stdout",
          "output_type": "stream",
          "text": [
            "lr: 0.003125\n"
          ]
        },
        {
          "name": "stderr",
          "output_type": "stream",
          "text": [
            "train epoch 140: 100%|██████████| 313/313 [00:18<00:00, 16.77it/s, loss=0.0454, accuracy=0.985]\n",
            "validation epoch 140: 100%|██████████| 79/79 [00:02<00:00, 31.02it/s, loss=0.431, accuracy=0.899]\n"
          ]
        },
        {
          "name": "stdout",
          "output_type": "stream",
          "text": [
            "lr: 0.003125\n"
          ]
        },
        {
          "name": "stderr",
          "output_type": "stream",
          "text": [
            "train epoch 141: 100%|██████████| 313/313 [00:18<00:00, 16.72it/s, loss=0.0457, accuracy=0.985]\n",
            "validation epoch 141: 100%|██████████| 79/79 [00:02<00:00, 30.77it/s, loss=0.445, accuracy=0.899]\n"
          ]
        },
        {
          "name": "stdout",
          "output_type": "stream",
          "text": [
            "lr: 0.003125\n"
          ]
        },
        {
          "name": "stderr",
          "output_type": "stream",
          "text": [
            "train epoch 142: 100%|██████████| 313/313 [00:18<00:00, 16.56it/s, loss=0.0466, accuracy=0.984]\n",
            "validation epoch 142: 100%|██████████| 79/79 [00:02<00:00, 29.91it/s, loss=0.435, accuracy=0.899]\n"
          ]
        },
        {
          "name": "stdout",
          "output_type": "stream",
          "text": [
            "lr: 0.003125\n"
          ]
        },
        {
          "name": "stderr",
          "output_type": "stream",
          "text": [
            "train epoch 143: 100%|██████████| 313/313 [00:19<00:00, 16.42it/s, loss=0.0443, accuracy=0.985]\n",
            "validation epoch 143: 100%|██████████| 79/79 [00:02<00:00, 30.21it/s, loss=0.445, accuracy=0.897]\n"
          ]
        },
        {
          "name": "stdout",
          "output_type": "stream",
          "text": [
            "lr: 0.003125\n"
          ]
        },
        {
          "name": "stderr",
          "output_type": "stream",
          "text": [
            "train epoch 144: 100%|██████████| 313/313 [00:19<00:00, 15.79it/s, loss=0.048, accuracy=0.983]\n",
            "validation epoch 144: 100%|██████████| 79/79 [00:02<00:00, 30.75it/s, loss=0.443, accuracy=0.9]\n"
          ]
        },
        {
          "name": "stdout",
          "output_type": "stream",
          "text": [
            "lr: 0.003125\n"
          ]
        },
        {
          "name": "stderr",
          "output_type": "stream",
          "text": [
            "train epoch 145: 100%|██████████| 313/313 [00:18<00:00, 16.61it/s, loss=0.044, accuracy=0.985]\n",
            "validation epoch 145: 100%|██████████| 79/79 [00:02<00:00, 29.38it/s, loss=0.449, accuracy=0.897]\n"
          ]
        },
        {
          "name": "stdout",
          "output_type": "stream",
          "text": [
            "lr: 0.003125\n"
          ]
        },
        {
          "name": "stderr",
          "output_type": "stream",
          "text": [
            "train epoch 146: 100%|██████████| 313/313 [00:19<00:00, 16.47it/s, loss=0.0425, accuracy=0.986]\n",
            "validation epoch 146: 100%|██████████| 79/79 [00:02<00:00, 29.22it/s, loss=0.447, accuracy=0.899]\n"
          ]
        },
        {
          "name": "stdout",
          "output_type": "stream",
          "text": [
            "lr: 0.003125\n"
          ]
        },
        {
          "name": "stderr",
          "output_type": "stream",
          "text": [
            "train epoch 147: 100%|██████████| 313/313 [00:18<00:00, 16.71it/s, loss=0.042, accuracy=0.986]\n",
            "validation epoch 147: 100%|██████████| 79/79 [00:02<00:00, 30.47it/s, loss=0.451, accuracy=0.897]\n"
          ]
        },
        {
          "name": "stdout",
          "output_type": "stream",
          "text": [
            "lr: 0.003125\n"
          ]
        },
        {
          "name": "stderr",
          "output_type": "stream",
          "text": [
            "train epoch 148: 100%|██████████| 313/313 [00:18<00:00, 16.68it/s, loss=0.0436, accuracy=0.986]\n",
            "validation epoch 148: 100%|██████████| 79/79 [00:02<00:00, 29.81it/s, loss=0.447, accuracy=0.895]\n"
          ]
        },
        {
          "name": "stdout",
          "output_type": "stream",
          "text": [
            "lr: 0.003125\n"
          ]
        },
        {
          "name": "stderr",
          "output_type": "stream",
          "text": [
            "train epoch 149: 100%|██████████| 313/313 [00:18<00:00, 16.65it/s, loss=0.0444, accuracy=0.985]\n",
            "validation epoch 149: 100%|██████████| 79/79 [00:02<00:00, 30.22it/s, loss=0.449, accuracy=0.898]\n"
          ]
        },
        {
          "name": "stdout",
          "output_type": "stream",
          "text": [
            "lr: 0.0015625\n"
          ]
        },
        {
          "name": "stderr",
          "output_type": "stream",
          "text": [
            "train epoch 150: 100%|██████████| 313/313 [00:18<00:00, 16.60it/s, loss=0.0402, accuracy=0.986]\n",
            "validation epoch 150: 100%|██████████| 79/79 [00:02<00:00, 30.37it/s, loss=0.442, accuracy=0.902]\n"
          ]
        },
        {
          "name": "stdout",
          "output_type": "stream",
          "text": [
            "lr: 0.0015625\n"
          ]
        },
        {
          "name": "stderr",
          "output_type": "stream",
          "text": [
            "train epoch 151: 100%|██████████| 313/313 [00:18<00:00, 16.70it/s, loss=0.0382, accuracy=0.987]\n",
            "validation epoch 151: 100%|██████████| 79/79 [00:02<00:00, 30.14it/s, loss=0.445, accuracy=0.902]\n"
          ]
        },
        {
          "name": "stdout",
          "output_type": "stream",
          "text": [
            "lr: 0.0015625\n"
          ]
        },
        {
          "name": "stderr",
          "output_type": "stream",
          "text": [
            "train epoch 152: 100%|██████████| 313/313 [00:18<00:00, 16.53it/s, loss=0.0396, accuracy=0.986]\n",
            "validation epoch 152: 100%|██████████| 79/79 [00:02<00:00, 30.08it/s, loss=0.44, accuracy=0.903]\n"
          ]
        },
        {
          "name": "stdout",
          "output_type": "stream",
          "text": [
            "lr: 0.0015625\n"
          ]
        },
        {
          "name": "stderr",
          "output_type": "stream",
          "text": [
            "train epoch 153: 100%|██████████| 313/313 [00:19<00:00, 15.85it/s, loss=0.037, accuracy=0.988]\n",
            "validation epoch 153: 100%|██████████| 79/79 [00:02<00:00, 28.87it/s, loss=0.448, accuracy=0.902]\n"
          ]
        },
        {
          "name": "stdout",
          "output_type": "stream",
          "text": [
            "lr: 0.0015625\n"
          ]
        },
        {
          "name": "stderr",
          "output_type": "stream",
          "text": [
            "train epoch 154: 100%|██████████| 313/313 [00:18<00:00, 16.51it/s, loss=0.0359, accuracy=0.988]\n",
            "validation epoch 154: 100%|██████████| 79/79 [00:02<00:00, 30.35it/s, loss=0.449, accuracy=0.9]\n"
          ]
        },
        {
          "name": "stdout",
          "output_type": "stream",
          "text": [
            "lr: 0.0015625\n"
          ]
        },
        {
          "name": "stderr",
          "output_type": "stream",
          "text": [
            "train epoch 155: 100%|██████████| 313/313 [00:18<00:00, 16.70it/s, loss=0.0365, accuracy=0.988]\n",
            "validation epoch 155: 100%|██████████| 79/79 [00:02<00:00, 30.50it/s, loss=0.444, accuracy=0.899]\n"
          ]
        },
        {
          "name": "stdout",
          "output_type": "stream",
          "text": [
            "lr: 0.0015625\n"
          ]
        },
        {
          "name": "stderr",
          "output_type": "stream",
          "text": [
            "train epoch 156: 100%|██████████| 313/313 [00:18<00:00, 16.65it/s, loss=0.0346, accuracy=0.988]\n",
            "validation epoch 156: 100%|██████████| 79/79 [00:02<00:00, 30.78it/s, loss=0.441, accuracy=0.9]\n"
          ]
        },
        {
          "name": "stdout",
          "output_type": "stream",
          "text": [
            "lr: 0.0015625\n"
          ]
        },
        {
          "name": "stderr",
          "output_type": "stream",
          "text": [
            "train epoch 157: 100%|██████████| 313/313 [00:19<00:00, 16.39it/s, loss=0.0345, accuracy=0.989]\n",
            "validation epoch 157: 100%|██████████| 79/79 [00:02<00:00, 29.89it/s, loss=0.445, accuracy=0.902]\n"
          ]
        },
        {
          "name": "stdout",
          "output_type": "stream",
          "text": [
            "lr: 0.0015625\n"
          ]
        },
        {
          "name": "stderr",
          "output_type": "stream",
          "text": [
            "train epoch 158: 100%|██████████| 313/313 [00:19<00:00, 16.32it/s, loss=0.0374, accuracy=0.987]\n",
            "validation epoch 158: 100%|██████████| 79/79 [00:02<00:00, 29.80it/s, loss=0.445, accuracy=0.903]\n"
          ]
        },
        {
          "name": "stdout",
          "output_type": "stream",
          "text": [
            "lr: 0.0015625\n"
          ]
        },
        {
          "name": "stderr",
          "output_type": "stream",
          "text": [
            "train epoch 159: 100%|██████████| 313/313 [00:18<00:00, 16.49it/s, loss=0.0377, accuracy=0.988]\n",
            "validation epoch 159: 100%|██████████| 79/79 [00:02<00:00, 29.94it/s, loss=0.445, accuracy=0.903]\n"
          ]
        },
        {
          "name": "stdout",
          "output_type": "stream",
          "text": [
            "lr: 0.0015625\n"
          ]
        },
        {
          "name": "stderr",
          "output_type": "stream",
          "text": [
            "train epoch 160: 100%|██████████| 313/313 [00:18<00:00, 16.58it/s, loss=0.0341, accuracy=0.989]\n",
            "validation epoch 160: 100%|██████████| 79/79 [00:02<00:00, 29.95it/s, loss=0.446, accuracy=0.902]\n"
          ]
        },
        {
          "name": "stdout",
          "output_type": "stream",
          "text": [
            "lr: 0.0015625\n"
          ]
        },
        {
          "name": "stderr",
          "output_type": "stream",
          "text": [
            "train epoch 161: 100%|██████████| 313/313 [00:19<00:00, 16.37it/s, loss=0.0345, accuracy=0.988]\n",
            "validation epoch 161: 100%|██████████| 79/79 [00:03<00:00, 23.27it/s, loss=0.452, accuracy=0.899]\n"
          ]
        },
        {
          "name": "stdout",
          "output_type": "stream",
          "text": [
            "lr: 0.0015625\n"
          ]
        },
        {
          "name": "stderr",
          "output_type": "stream",
          "text": [
            "train epoch 162: 100%|██████████| 313/313 [00:19<00:00, 16.47it/s, loss=0.0332, accuracy=0.99]\n",
            "validation epoch 162: 100%|██████████| 79/79 [00:02<00:00, 27.84it/s, loss=0.456, accuracy=0.901]\n"
          ]
        },
        {
          "name": "stdout",
          "output_type": "stream",
          "text": [
            "lr: 0.0015625\n"
          ]
        },
        {
          "name": "stderr",
          "output_type": "stream",
          "text": [
            "train epoch 163: 100%|██████████| 313/313 [00:18<00:00, 16.49it/s, loss=0.034, accuracy=0.988]\n",
            "validation epoch 163: 100%|██████████| 79/79 [00:02<00:00, 30.64it/s, loss=0.447, accuracy=0.901]\n"
          ]
        },
        {
          "name": "stdout",
          "output_type": "stream",
          "text": [
            "lr: 0.0015625\n"
          ]
        },
        {
          "name": "stderr",
          "output_type": "stream",
          "text": [
            "train epoch 164: 100%|██████████| 313/313 [00:19<00:00, 16.39it/s, loss=0.0361, accuracy=0.988]\n",
            "validation epoch 164: 100%|██████████| 79/79 [00:02<00:00, 30.41it/s, loss=0.455, accuracy=0.902]\n"
          ]
        },
        {
          "name": "stdout",
          "output_type": "stream",
          "text": [
            "lr: 0.0015625\n"
          ]
        },
        {
          "name": "stderr",
          "output_type": "stream",
          "text": [
            "train epoch 165: 100%|██████████| 313/313 [00:19<00:00, 16.45it/s, loss=0.0359, accuracy=0.989]\n",
            "validation epoch 165: 100%|██████████| 79/79 [00:02<00:00, 30.40it/s, loss=0.454, accuracy=0.9]\n"
          ]
        },
        {
          "name": "stdout",
          "output_type": "stream",
          "text": [
            "lr: 0.0015625\n"
          ]
        },
        {
          "name": "stderr",
          "output_type": "stream",
          "text": [
            "train epoch 166: 100%|██████████| 313/313 [00:18<00:00, 16.57it/s, loss=0.0333, accuracy=0.989]\n",
            "validation epoch 166: 100%|██████████| 79/79 [00:02<00:00, 29.20it/s, loss=0.457, accuracy=0.9]\n"
          ]
        },
        {
          "name": "stdout",
          "output_type": "stream",
          "text": [
            "lr: 0.0015625\n"
          ]
        },
        {
          "name": "stderr",
          "output_type": "stream",
          "text": [
            "train epoch 167: 100%|██████████| 313/313 [00:19<00:00, 16.47it/s, loss=0.0337, accuracy=0.989]\n",
            "validation epoch 167: 100%|██████████| 79/79 [00:02<00:00, 30.03it/s, loss=0.458, accuracy=0.896]\n"
          ]
        },
        {
          "name": "stdout",
          "output_type": "stream",
          "text": [
            "lr: 0.0015625\n"
          ]
        },
        {
          "name": "stderr",
          "output_type": "stream",
          "text": [
            "train epoch 168: 100%|██████████| 313/313 [00:19<00:00, 16.25it/s, loss=0.0328, accuracy=0.99]\n",
            "validation epoch 168: 100%|██████████| 79/79 [00:02<00:00, 29.62it/s, loss=0.455, accuracy=0.899]\n"
          ]
        },
        {
          "name": "stdout",
          "output_type": "stream",
          "text": [
            "lr: 0.0015625\n"
          ]
        },
        {
          "name": "stderr",
          "output_type": "stream",
          "text": [
            "train epoch 169: 100%|██████████| 313/313 [00:19<00:00, 16.43it/s, loss=0.0346, accuracy=0.989]\n",
            "validation epoch 169: 100%|██████████| 79/79 [00:02<00:00, 30.57it/s, loss=0.46, accuracy=0.901]\n"
          ]
        },
        {
          "name": "stdout",
          "output_type": "stream",
          "text": [
            "lr: 0.0015625\n"
          ]
        },
        {
          "name": "stderr",
          "output_type": "stream",
          "text": [
            "train epoch 170: 100%|██████████| 313/313 [00:19<00:00, 15.72it/s, loss=0.0351, accuracy=0.989]\n",
            "validation epoch 170: 100%|██████████| 79/79 [00:02<00:00, 30.20it/s, loss=0.462, accuracy=0.899]\n"
          ]
        },
        {
          "name": "stdout",
          "output_type": "stream",
          "text": [
            "lr: 0.0015625\n"
          ]
        },
        {
          "name": "stderr",
          "output_type": "stream",
          "text": [
            "train epoch 171: 100%|██████████| 313/313 [00:18<00:00, 16.54it/s, loss=0.0349, accuracy=0.988]\n",
            "validation epoch 171: 100%|██████████| 79/79 [00:02<00:00, 27.84it/s, loss=0.459, accuracy=0.899]\n"
          ]
        },
        {
          "name": "stdout",
          "output_type": "stream",
          "text": [
            "lr: 0.0015625\n"
          ]
        },
        {
          "name": "stderr",
          "output_type": "stream",
          "text": [
            "train epoch 172: 100%|██████████| 313/313 [00:19<00:00, 16.38it/s, loss=0.0341, accuracy=0.988]\n",
            "validation epoch 172: 100%|██████████| 79/79 [00:02<00:00, 29.29it/s, loss=0.453, accuracy=0.902]\n"
          ]
        },
        {
          "name": "stdout",
          "output_type": "stream",
          "text": [
            "lr: 0.0015625\n"
          ]
        },
        {
          "name": "stderr",
          "output_type": "stream",
          "text": [
            "train epoch 173: 100%|██████████| 313/313 [00:19<00:00, 16.45it/s, loss=0.0343, accuracy=0.988]\n",
            "validation epoch 173: 100%|██████████| 79/79 [00:02<00:00, 29.74it/s, loss=0.457, accuracy=0.9]\n"
          ]
        },
        {
          "name": "stdout",
          "output_type": "stream",
          "text": [
            "lr: 0.0015625\n"
          ]
        },
        {
          "name": "stderr",
          "output_type": "stream",
          "text": [
            "train epoch 174: 100%|██████████| 313/313 [00:18<00:00, 16.71it/s, loss=0.0329, accuracy=0.989]\n",
            "validation epoch 174: 100%|██████████| 79/79 [00:02<00:00, 30.42it/s, loss=0.451, accuracy=0.901]\n"
          ]
        },
        {
          "name": "stdout",
          "output_type": "stream",
          "text": [
            "lr: 0.00078125\n"
          ]
        },
        {
          "name": "stderr",
          "output_type": "stream",
          "text": [
            "train epoch 175: 100%|██████████| 313/313 [00:19<00:00, 15.70it/s, loss=0.0323, accuracy=0.99]\n",
            "validation epoch 175: 100%|██████████| 79/79 [00:02<00:00, 30.03it/s, loss=0.451, accuracy=0.901]\n"
          ]
        },
        {
          "name": "stdout",
          "output_type": "stream",
          "text": [
            "lr: 0.00078125\n"
          ]
        },
        {
          "name": "stderr",
          "output_type": "stream",
          "text": [
            "train epoch 176: 100%|██████████| 313/313 [00:19<00:00, 16.38it/s, loss=0.0324, accuracy=0.989]\n",
            "validation epoch 176: 100%|██████████| 79/79 [00:02<00:00, 29.70it/s, loss=0.454, accuracy=0.901]\n"
          ]
        },
        {
          "name": "stdout",
          "output_type": "stream",
          "text": [
            "lr: 0.00078125\n"
          ]
        },
        {
          "name": "stderr",
          "output_type": "stream",
          "text": [
            "train epoch 177: 100%|██████████| 313/313 [00:18<00:00, 16.58it/s, loss=0.0322, accuracy=0.99]\n",
            "validation epoch 177: 100%|██████████| 79/79 [00:02<00:00, 30.33it/s, loss=0.453, accuracy=0.902]\n"
          ]
        },
        {
          "name": "stdout",
          "output_type": "stream",
          "text": [
            "lr: 0.00078125\n"
          ]
        },
        {
          "name": "stderr",
          "output_type": "stream",
          "text": [
            "train epoch 178: 100%|██████████| 313/313 [00:18<00:00, 16.50it/s, loss=0.0316, accuracy=0.99]\n",
            "validation epoch 178: 100%|██████████| 79/79 [00:02<00:00, 30.07it/s, loss=0.451, accuracy=0.901]\n"
          ]
        },
        {
          "name": "stdout",
          "output_type": "stream",
          "text": [
            "lr: 0.00078125\n"
          ]
        },
        {
          "name": "stderr",
          "output_type": "stream",
          "text": [
            "train epoch 179: 100%|██████████| 313/313 [00:19<00:00, 16.40it/s, loss=0.0324, accuracy=0.989]\n",
            "validation epoch 179: 100%|██████████| 79/79 [00:02<00:00, 29.80it/s, loss=0.451, accuracy=0.902]\n"
          ]
        },
        {
          "name": "stdout",
          "output_type": "stream",
          "text": [
            "lr: 0.00078125\n"
          ]
        },
        {
          "name": "stderr",
          "output_type": "stream",
          "text": [
            "train epoch 180: 100%|██████████| 313/313 [00:19<00:00, 16.41it/s, loss=0.0297, accuracy=0.99]\n",
            "validation epoch 180: 100%|██████████| 79/79 [00:02<00:00, 28.95it/s, loss=0.449, accuracy=0.902]\n"
          ]
        },
        {
          "name": "stdout",
          "output_type": "stream",
          "text": [
            "lr: 0.00078125\n"
          ]
        },
        {
          "name": "stderr",
          "output_type": "stream",
          "text": [
            "train epoch 181: 100%|██████████| 313/313 [00:18<00:00, 16.62it/s, loss=0.0317, accuracy=0.99]\n",
            "validation epoch 181: 100%|██████████| 79/79 [00:02<00:00, 30.25it/s, loss=0.457, accuracy=0.901]\n"
          ]
        },
        {
          "name": "stdout",
          "output_type": "stream",
          "text": [
            "lr: 0.00078125\n"
          ]
        },
        {
          "name": "stderr",
          "output_type": "stream",
          "text": [
            "train epoch 182: 100%|██████████| 313/313 [00:19<00:00, 16.42it/s, loss=0.0302, accuracy=0.99]\n",
            "validation epoch 182: 100%|██████████| 79/79 [00:02<00:00, 30.13it/s, loss=0.456, accuracy=0.902]\n"
          ]
        },
        {
          "name": "stdout",
          "output_type": "stream",
          "text": [
            "lr: 0.00078125\n"
          ]
        },
        {
          "name": "stderr",
          "output_type": "stream",
          "text": [
            "train epoch 183: 100%|██████████| 313/313 [00:19<00:00, 16.38it/s, loss=0.03, accuracy=0.99]\n",
            "validation epoch 183: 100%|██████████| 79/79 [00:03<00:00, 23.90it/s, loss=0.452, accuracy=0.902]\n"
          ]
        },
        {
          "name": "stdout",
          "output_type": "stream",
          "text": [
            "lr: 0.00078125\n"
          ]
        },
        {
          "name": "stderr",
          "output_type": "stream",
          "text": [
            "train epoch 184: 100%|██████████| 313/313 [00:19<00:00, 16.36it/s, loss=0.0296, accuracy=0.99]\n",
            "validation epoch 184: 100%|██████████| 79/79 [00:02<00:00, 29.65it/s, loss=0.449, accuracy=0.901]\n"
          ]
        },
        {
          "name": "stdout",
          "output_type": "stream",
          "text": [
            "lr: 0.00078125\n"
          ]
        },
        {
          "name": "stderr",
          "output_type": "stream",
          "text": [
            "train epoch 185: 100%|██████████| 313/313 [00:18<00:00, 16.55it/s, loss=0.0312, accuracy=0.99]\n",
            "validation epoch 185: 100%|██████████| 79/79 [00:02<00:00, 29.50it/s, loss=0.461, accuracy=0.902]\n"
          ]
        },
        {
          "name": "stdout",
          "output_type": "stream",
          "text": [
            "lr: 0.00078125\n"
          ]
        },
        {
          "name": "stderr",
          "output_type": "stream",
          "text": [
            "train epoch 186: 100%|██████████| 313/313 [00:19<00:00, 16.31it/s, loss=0.0294, accuracy=0.99]\n",
            "validation epoch 186: 100%|██████████| 79/79 [00:02<00:00, 30.03it/s, loss=0.455, accuracy=0.9]\n"
          ]
        },
        {
          "name": "stdout",
          "output_type": "stream",
          "text": [
            "lr: 0.00078125\n"
          ]
        },
        {
          "name": "stderr",
          "output_type": "stream",
          "text": [
            "train epoch 187: 100%|██████████| 313/313 [00:19<00:00, 16.45it/s, loss=0.0299, accuracy=0.99]\n",
            "validation epoch 187: 100%|██████████| 79/79 [00:02<00:00, 29.84it/s, loss=0.459, accuracy=0.901]\n"
          ]
        },
        {
          "name": "stdout",
          "output_type": "stream",
          "text": [
            "lr: 0.00078125\n"
          ]
        },
        {
          "name": "stderr",
          "output_type": "stream",
          "text": [
            "train epoch 188: 100%|██████████| 313/313 [00:18<00:00, 16.57it/s, loss=0.0291, accuracy=0.99]\n",
            "validation epoch 188: 100%|██████████| 79/79 [00:02<00:00, 29.96it/s, loss=0.453, accuracy=0.901]\n"
          ]
        },
        {
          "name": "stdout",
          "output_type": "stream",
          "text": [
            "lr: 0.00078125\n"
          ]
        },
        {
          "name": "stderr",
          "output_type": "stream",
          "text": [
            "train epoch 189: 100%|██████████| 313/313 [00:19<00:00, 16.45it/s, loss=0.0294, accuracy=0.991]\n",
            "validation epoch 189: 100%|██████████| 79/79 [00:02<00:00, 29.11it/s, loss=0.447, accuracy=0.902]\n"
          ]
        },
        {
          "name": "stdout",
          "output_type": "stream",
          "text": [
            "lr: 0.00078125\n"
          ]
        },
        {
          "name": "stderr",
          "output_type": "stream",
          "text": [
            "train epoch 190: 100%|██████████| 313/313 [00:19<00:00, 16.42it/s, loss=0.0302, accuracy=0.99]\n",
            "validation epoch 190: 100%|██████████| 79/79 [00:02<00:00, 30.15it/s, loss=0.459, accuracy=0.901]\n"
          ]
        },
        {
          "name": "stdout",
          "output_type": "stream",
          "text": [
            "lr: 0.00078125\n"
          ]
        },
        {
          "name": "stderr",
          "output_type": "stream",
          "text": [
            "train epoch 191: 100%|██████████| 313/313 [00:19<00:00, 16.33it/s, loss=0.0305, accuracy=0.99]\n",
            "validation epoch 191: 100%|██████████| 79/79 [00:02<00:00, 30.04it/s, loss=0.453, accuracy=0.903]\n"
          ]
        },
        {
          "name": "stdout",
          "output_type": "stream",
          "text": [
            "lr: 0.00078125\n"
          ]
        },
        {
          "name": "stderr",
          "output_type": "stream",
          "text": [
            "train epoch 192: 100%|██████████| 313/313 [00:19<00:00, 15.78it/s, loss=0.0295, accuracy=0.99]\n",
            "validation epoch 192: 100%|██████████| 79/79 [00:02<00:00, 29.89it/s, loss=0.448, accuracy=0.904]\n"
          ]
        },
        {
          "name": "stdout",
          "output_type": "stream",
          "text": [
            "lr: 0.00078125\n"
          ]
        },
        {
          "name": "stderr",
          "output_type": "stream",
          "text": [
            "train epoch 193: 100%|██████████| 313/313 [00:19<00:00, 16.43it/s, loss=0.0296, accuracy=0.99]\n",
            "validation epoch 193: 100%|██████████| 79/79 [00:02<00:00, 29.69it/s, loss=0.451, accuracy=0.903]\n"
          ]
        },
        {
          "name": "stdout",
          "output_type": "stream",
          "text": [
            "lr: 0.00078125\n"
          ]
        },
        {
          "name": "stderr",
          "output_type": "stream",
          "text": [
            "train epoch 194: 100%|██████████| 313/313 [00:19<00:00, 16.43it/s, loss=0.0305, accuracy=0.99]\n",
            "validation epoch 194: 100%|██████████| 79/79 [00:02<00:00, 29.66it/s, loss=0.46, accuracy=0.904]\n"
          ]
        },
        {
          "name": "stdout",
          "output_type": "stream",
          "text": [
            "lr: 0.00078125\n"
          ]
        },
        {
          "name": "stderr",
          "output_type": "stream",
          "text": [
            "train epoch 195: 100%|██████████| 313/313 [00:19<00:00, 16.35it/s, loss=0.028, accuracy=0.991]\n",
            "validation epoch 195: 100%|██████████| 79/79 [00:02<00:00, 30.40it/s, loss=0.456, accuracy=0.903]\n"
          ]
        },
        {
          "name": "stdout",
          "output_type": "stream",
          "text": [
            "lr: 0.00078125\n"
          ]
        },
        {
          "name": "stderr",
          "output_type": "stream",
          "text": [
            "train epoch 196: 100%|██████████| 313/313 [00:18<00:00, 16.57it/s, loss=0.0296, accuracy=0.99]\n",
            "validation epoch 196: 100%|██████████| 79/79 [00:02<00:00, 29.62it/s, loss=0.456, accuracy=0.901]\n"
          ]
        },
        {
          "name": "stdout",
          "output_type": "stream",
          "text": [
            "lr: 0.00078125\n"
          ]
        },
        {
          "name": "stderr",
          "output_type": "stream",
          "text": [
            "train epoch 197: 100%|██████████| 313/313 [00:19<00:00, 16.41it/s, loss=0.0289, accuracy=0.991]\n",
            "validation epoch 197: 100%|██████████| 79/79 [00:02<00:00, 29.38it/s, loss=0.46, accuracy=0.903]\n"
          ]
        },
        {
          "name": "stdout",
          "output_type": "stream",
          "text": [
            "lr: 0.00078125\n"
          ]
        },
        {
          "name": "stderr",
          "output_type": "stream",
          "text": [
            "train epoch 198: 100%|██████████| 313/313 [00:19<00:00, 16.33it/s, loss=0.0291, accuracy=0.991]\n",
            "validation epoch 198: 100%|██████████| 79/79 [00:02<00:00, 30.00it/s, loss=0.456, accuracy=0.901]\n"
          ]
        },
        {
          "name": "stdout",
          "output_type": "stream",
          "text": [
            "lr: 0.00078125\n"
          ]
        },
        {
          "name": "stderr",
          "output_type": "stream",
          "text": [
            "train epoch 199: 100%|██████████| 313/313 [00:19<00:00, 16.18it/s, loss=0.0302, accuracy=0.99]\n",
            "validation epoch 199: 100%|██████████| 79/79 [00:02<00:00, 29.65it/s, loss=0.461, accuracy=0.9]\n"
          ]
        },
        {
          "name": "stdout",
          "output_type": "stream",
          "text": [
            "lr: 0.000390625\n"
          ]
        },
        {
          "name": "stderr",
          "output_type": "stream",
          "text": [
            "train epoch 200: 100%|██████████| 313/313 [00:19<00:00, 16.31it/s, loss=0.0301, accuracy=0.99]\n",
            "validation epoch 200: 100%|██████████| 79/79 [00:02<00:00, 28.53it/s, loss=0.457, accuracy=0.901]\n"
          ]
        },
        {
          "name": "stdout",
          "output_type": "stream",
          "text": [
            "lr: 0.000390625\n"
          ]
        },
        {
          "name": "stderr",
          "output_type": "stream",
          "text": [
            "train epoch 201: 100%|██████████| 313/313 [00:20<00:00, 15.51it/s, loss=0.0282, accuracy=0.991]\n",
            "validation epoch 201: 100%|██████████| 79/79 [00:02<00:00, 29.69it/s, loss=0.456, accuracy=0.901]\n"
          ]
        },
        {
          "name": "stdout",
          "output_type": "stream",
          "text": [
            "lr: 0.000390625\n"
          ]
        },
        {
          "name": "stderr",
          "output_type": "stream",
          "text": [
            "train epoch 202: 100%|██████████| 313/313 [00:19<00:00, 16.15it/s, loss=0.0259, accuracy=0.991]\n",
            "validation epoch 202: 100%|██████████| 79/79 [00:02<00:00, 29.35it/s, loss=0.455, accuracy=0.901]\n"
          ]
        },
        {
          "name": "stdout",
          "output_type": "stream",
          "text": [
            "lr: 0.000390625\n"
          ]
        },
        {
          "name": "stderr",
          "output_type": "stream",
          "text": [
            "train epoch 203: 100%|██████████| 313/313 [00:19<00:00, 16.43it/s, loss=0.0283, accuracy=0.991]\n",
            "validation epoch 203: 100%|██████████| 79/79 [00:02<00:00, 29.94it/s, loss=0.462, accuracy=0.902]\n"
          ]
        },
        {
          "name": "stdout",
          "output_type": "stream",
          "text": [
            "lr: 0.000390625\n"
          ]
        },
        {
          "name": "stderr",
          "output_type": "stream",
          "text": [
            "train epoch 204: 100%|██████████| 313/313 [00:19<00:00, 16.20it/s, loss=0.0284, accuracy=0.991]\n",
            "validation epoch 204: 100%|██████████| 79/79 [00:02<00:00, 30.33it/s, loss=0.458, accuracy=0.902]\n"
          ]
        },
        {
          "name": "stdout",
          "output_type": "stream",
          "text": [
            "lr: 0.000390625\n"
          ]
        },
        {
          "name": "stderr",
          "output_type": "stream",
          "text": [
            "train epoch 205: 100%|██████████| 313/313 [00:19<00:00, 16.30it/s, loss=0.0265, accuracy=0.992]\n",
            "validation epoch 205: 100%|██████████| 79/79 [00:02<00:00, 28.97it/s, loss=0.459, accuracy=0.904]\n"
          ]
        },
        {
          "name": "stdout",
          "output_type": "stream",
          "text": [
            "lr: 0.000390625\n"
          ]
        },
        {
          "name": "stderr",
          "output_type": "stream",
          "text": [
            "train epoch 206: 100%|██████████| 313/313 [00:19<00:00, 16.36it/s, loss=0.0277, accuracy=0.991]\n",
            "validation epoch 206: 100%|██████████| 79/79 [00:02<00:00, 29.48it/s, loss=0.458, accuracy=0.903]\n"
          ]
        },
        {
          "name": "stdout",
          "output_type": "stream",
          "text": [
            "lr: 0.000390625\n"
          ]
        },
        {
          "name": "stderr",
          "output_type": "stream",
          "text": [
            "train epoch 207: 100%|██████████| 313/313 [00:19<00:00, 16.22it/s, loss=0.029, accuracy=0.99]\n",
            "validation epoch 207: 100%|██████████| 79/79 [00:02<00:00, 29.64it/s, loss=0.455, accuracy=0.9]\n"
          ]
        },
        {
          "name": "stdout",
          "output_type": "stream",
          "text": [
            "lr: 0.000390625\n"
          ]
        },
        {
          "name": "stderr",
          "output_type": "stream",
          "text": [
            "train epoch 208: 100%|██████████| 313/313 [00:19<00:00, 16.03it/s, loss=0.0277, accuracy=0.99]\n",
            "validation epoch 208: 100%|██████████| 79/79 [00:02<00:00, 28.40it/s, loss=0.46, accuracy=0.901]\n"
          ]
        },
        {
          "name": "stdout",
          "output_type": "stream",
          "text": [
            "lr: 0.000390625\n"
          ]
        },
        {
          "name": "stderr",
          "output_type": "stream",
          "text": [
            "train epoch 209: 100%|██████████| 313/313 [00:19<00:00, 16.33it/s, loss=0.0268, accuracy=0.991]\n",
            "validation epoch 209: 100%|██████████| 79/79 [00:02<00:00, 28.56it/s, loss=0.455, accuracy=0.902]\n"
          ]
        },
        {
          "name": "stdout",
          "output_type": "stream",
          "text": [
            "lr: 0.000390625\n"
          ]
        },
        {
          "name": "stderr",
          "output_type": "stream",
          "text": [
            "train epoch 210: 100%|██████████| 313/313 [00:20<00:00, 15.56it/s, loss=0.0279, accuracy=0.991]\n",
            "validation epoch 210: 100%|██████████| 79/79 [00:02<00:00, 29.51it/s, loss=0.461, accuracy=0.902]\n"
          ]
        },
        {
          "name": "stdout",
          "output_type": "stream",
          "text": [
            "lr: 0.000390625\n"
          ]
        },
        {
          "name": "stderr",
          "output_type": "stream",
          "text": [
            "train epoch 211: 100%|██████████| 313/313 [00:19<00:00, 16.22it/s, loss=0.0296, accuracy=0.99]\n",
            "validation epoch 211: 100%|██████████| 79/79 [00:02<00:00, 29.33it/s, loss=0.461, accuracy=0.901]\n"
          ]
        },
        {
          "name": "stdout",
          "output_type": "stream",
          "text": [
            "lr: 0.000390625\n"
          ]
        },
        {
          "name": "stderr",
          "output_type": "stream",
          "text": [
            "train epoch 212: 100%|██████████| 313/313 [00:19<00:00, 16.40it/s, loss=0.0288, accuracy=0.99]\n",
            "validation epoch 212: 100%|██████████| 79/79 [00:02<00:00, 29.37it/s, loss=0.46, accuracy=0.902]\n"
          ]
        },
        {
          "name": "stdout",
          "output_type": "stream",
          "text": [
            "lr: 0.000390625\n"
          ]
        },
        {
          "name": "stderr",
          "output_type": "stream",
          "text": [
            "train epoch 213: 100%|██████████| 313/313 [00:19<00:00, 16.08it/s, loss=0.0283, accuracy=0.991]\n",
            "validation epoch 213: 100%|██████████| 79/79 [00:02<00:00, 29.81it/s, loss=0.462, accuracy=0.901]\n"
          ]
        },
        {
          "name": "stdout",
          "output_type": "stream",
          "text": [
            "lr: 0.000390625\n"
          ]
        },
        {
          "name": "stderr",
          "output_type": "stream",
          "text": [
            "train epoch 214: 100%|██████████| 313/313 [00:19<00:00, 16.18it/s, loss=0.027, accuracy=0.991]\n",
            "validation epoch 214: 100%|██████████| 79/79 [00:02<00:00, 29.06it/s, loss=0.461, accuracy=0.902]\n"
          ]
        },
        {
          "name": "stdout",
          "output_type": "stream",
          "text": [
            "lr: 0.000390625\n"
          ]
        },
        {
          "name": "stderr",
          "output_type": "stream",
          "text": [
            "train epoch 215: 100%|██████████| 313/313 [00:19<00:00, 16.06it/s, loss=0.0267, accuracy=0.992]\n",
            "validation epoch 215: 100%|██████████| 79/79 [00:02<00:00, 29.34it/s, loss=0.457, accuracy=0.9]\n"
          ]
        },
        {
          "name": "stdout",
          "output_type": "stream",
          "text": [
            "lr: 0.000390625\n"
          ]
        },
        {
          "name": "stderr",
          "output_type": "stream",
          "text": [
            "train epoch 216: 100%|██████████| 313/313 [00:19<00:00, 16.09it/s, loss=0.0267, accuracy=0.991]\n",
            "validation epoch 216: 100%|██████████| 79/79 [00:02<00:00, 29.48it/s, loss=0.46, accuracy=0.899]\n"
          ]
        },
        {
          "name": "stdout",
          "output_type": "stream",
          "text": [
            "lr: 0.000390625\n"
          ]
        },
        {
          "name": "stderr",
          "output_type": "stream",
          "text": [
            "train epoch 217: 100%|██████████| 313/313 [00:19<00:00, 16.15it/s, loss=0.0275, accuracy=0.991]\n",
            "validation epoch 217: 100%|██████████| 79/79 [00:02<00:00, 29.88it/s, loss=0.465, accuracy=0.903]\n"
          ]
        },
        {
          "name": "stdout",
          "output_type": "stream",
          "text": [
            "lr: 0.000390625\n"
          ]
        },
        {
          "name": "stderr",
          "output_type": "stream",
          "text": [
            "train epoch 218: 100%|██████████| 313/313 [00:19<00:00, 16.47it/s, loss=0.0276, accuracy=0.991]\n",
            "validation epoch 218: 100%|██████████| 79/79 [00:02<00:00, 28.35it/s, loss=0.456, accuracy=0.902]\n"
          ]
        },
        {
          "name": "stdout",
          "output_type": "stream",
          "text": [
            "lr: 0.000390625\n"
          ]
        },
        {
          "name": "stderr",
          "output_type": "stream",
          "text": [
            "train epoch 219: 100%|██████████| 313/313 [00:20<00:00, 15.59it/s, loss=0.0262, accuracy=0.992]\n",
            "validation epoch 219: 100%|██████████| 79/79 [00:02<00:00, 29.21it/s, loss=0.466, accuracy=0.901]\n"
          ]
        },
        {
          "name": "stdout",
          "output_type": "stream",
          "text": [
            "lr: 0.000390625\n"
          ]
        },
        {
          "name": "stderr",
          "output_type": "stream",
          "text": [
            "train epoch 220: 100%|██████████| 313/313 [00:19<00:00, 16.17it/s, loss=0.0273, accuracy=0.991]\n",
            "validation epoch 220: 100%|██████████| 79/79 [00:02<00:00, 29.76it/s, loss=0.454, accuracy=0.901]\n"
          ]
        },
        {
          "name": "stdout",
          "output_type": "stream",
          "text": [
            "lr: 0.000390625\n"
          ]
        },
        {
          "name": "stderr",
          "output_type": "stream",
          "text": [
            "train epoch 221: 100%|██████████| 313/313 [00:19<00:00, 16.37it/s, loss=0.0276, accuracy=0.992]\n",
            "validation epoch 221: 100%|██████████| 79/79 [00:02<00:00, 29.75it/s, loss=0.462, accuracy=0.901]\n"
          ]
        },
        {
          "name": "stdout",
          "output_type": "stream",
          "text": [
            "lr: 0.000390625\n"
          ]
        },
        {
          "name": "stderr",
          "output_type": "stream",
          "text": [
            "train epoch 222: 100%|██████████| 313/313 [00:19<00:00, 16.23it/s, loss=0.0283, accuracy=0.991]\n",
            "validation epoch 222: 100%|██████████| 79/79 [00:02<00:00, 29.34it/s, loss=0.463, accuracy=0.901]\n"
          ]
        },
        {
          "name": "stdout",
          "output_type": "stream",
          "text": [
            "lr: 0.000390625\n"
          ]
        },
        {
          "name": "stderr",
          "output_type": "stream",
          "text": [
            "train epoch 223: 100%|██████████| 313/313 [00:19<00:00, 16.35it/s, loss=0.0266, accuracy=0.991]\n",
            "validation epoch 223: 100%|██████████| 79/79 [00:02<00:00, 29.26it/s, loss=0.465, accuracy=0.899]\n"
          ]
        },
        {
          "name": "stdout",
          "output_type": "stream",
          "text": [
            "lr: 0.000390625\n"
          ]
        },
        {
          "name": "stderr",
          "output_type": "stream",
          "text": [
            "train epoch 224: 100%|██████████| 313/313 [00:19<00:00, 16.07it/s, loss=0.0276, accuracy=0.991]\n",
            "validation epoch 224: 100%|██████████| 79/79 [00:02<00:00, 29.63it/s, loss=0.458, accuracy=0.902]\n"
          ]
        },
        {
          "name": "stdout",
          "output_type": "stream",
          "text": [
            "lr: 0.0001953125\n"
          ]
        },
        {
          "name": "stderr",
          "output_type": "stream",
          "text": [
            "train epoch 225: 100%|██████████| 313/313 [00:19<00:00, 16.37it/s, loss=0.0258, accuracy=0.992]\n",
            "validation epoch 225: 100%|██████████| 79/79 [00:02<00:00, 29.09it/s, loss=0.464, accuracy=0.902]\n"
          ]
        },
        {
          "name": "stdout",
          "output_type": "stream",
          "text": [
            "lr: 0.0001953125\n"
          ]
        },
        {
          "name": "stderr",
          "output_type": "stream",
          "text": [
            "train epoch 226: 100%|██████████| 313/313 [00:19<00:00, 16.00it/s, loss=0.0267, accuracy=0.991]\n",
            "validation epoch 226: 100%|██████████| 79/79 [00:02<00:00, 28.98it/s, loss=0.456, accuracy=0.903]\n"
          ]
        },
        {
          "name": "stdout",
          "output_type": "stream",
          "text": [
            "lr: 0.0001953125\n"
          ]
        },
        {
          "name": "stderr",
          "output_type": "stream",
          "text": [
            "train epoch 227: 100%|██████████| 313/313 [00:19<00:00, 16.11it/s, loss=0.0254, accuracy=0.992]\n",
            "validation epoch 227: 100%|██████████| 79/79 [00:02<00:00, 27.68it/s, loss=0.462, accuracy=0.902]\n"
          ]
        },
        {
          "name": "stdout",
          "output_type": "stream",
          "text": [
            "lr: 0.0001953125\n"
          ]
        },
        {
          "name": "stderr",
          "output_type": "stream",
          "text": [
            "train epoch 228: 100%|██████████| 313/313 [00:20<00:00, 15.38it/s, loss=0.0256, accuracy=0.992]\n",
            "validation epoch 228: 100%|██████████| 79/79 [00:02<00:00, 29.41it/s, loss=0.46, accuracy=0.902]\n"
          ]
        },
        {
          "name": "stdout",
          "output_type": "stream",
          "text": [
            "lr: 0.0001953125\n"
          ]
        },
        {
          "name": "stderr",
          "output_type": "stream",
          "text": [
            "train epoch 229: 100%|██████████| 313/313 [00:19<00:00, 16.14it/s, loss=0.028, accuracy=0.991]\n",
            "validation epoch 229: 100%|██████████| 79/79 [00:02<00:00, 29.90it/s, loss=0.459, accuracy=0.903]\n"
          ]
        },
        {
          "name": "stdout",
          "output_type": "stream",
          "text": [
            "lr: 0.0001953125\n"
          ]
        },
        {
          "name": "stderr",
          "output_type": "stream",
          "text": [
            "train epoch 230: 100%|██████████| 313/313 [00:19<00:00, 16.23it/s, loss=0.0265, accuracy=0.991]\n",
            "validation epoch 230: 100%|██████████| 79/79 [00:02<00:00, 29.36it/s, loss=0.461, accuracy=0.901]\n"
          ]
        },
        {
          "name": "stdout",
          "output_type": "stream",
          "text": [
            "lr: 0.0001953125\n"
          ]
        },
        {
          "name": "stderr",
          "output_type": "stream",
          "text": [
            "train epoch 231: 100%|██████████| 313/313 [00:19<00:00, 16.16it/s, loss=0.0256, accuracy=0.991]\n",
            "validation epoch 231: 100%|██████████| 79/79 [00:02<00:00, 29.47it/s, loss=0.462, accuracy=0.901]\n"
          ]
        },
        {
          "name": "stdout",
          "output_type": "stream",
          "text": [
            "lr: 0.0001953125\n"
          ]
        },
        {
          "name": "stderr",
          "output_type": "stream",
          "text": [
            "train epoch 232: 100%|██████████| 313/313 [00:19<00:00, 16.35it/s, loss=0.0259, accuracy=0.992]\n",
            "validation epoch 232: 100%|██████████| 79/79 [00:02<00:00, 29.24it/s, loss=0.455, accuracy=0.903]\n"
          ]
        },
        {
          "name": "stdout",
          "output_type": "stream",
          "text": [
            "lr: 0.0001953125\n"
          ]
        },
        {
          "name": "stderr",
          "output_type": "stream",
          "text": [
            "train epoch 233: 100%|██████████| 313/313 [00:19<00:00, 16.16it/s, loss=0.0264, accuracy=0.991]\n",
            "validation epoch 233: 100%|██████████| 79/79 [00:02<00:00, 30.27it/s, loss=0.457, accuracy=0.902]\n"
          ]
        },
        {
          "name": "stdout",
          "output_type": "stream",
          "text": [
            "lr: 0.0001953125\n"
          ]
        },
        {
          "name": "stderr",
          "output_type": "stream",
          "text": [
            "train epoch 234: 100%|██████████| 313/313 [00:19<00:00, 16.02it/s, loss=0.0255, accuracy=0.993]\n",
            "validation epoch 234: 100%|██████████| 79/79 [00:02<00:00, 28.88it/s, loss=0.461, accuracy=0.903]\n"
          ]
        },
        {
          "name": "stdout",
          "output_type": "stream",
          "text": [
            "lr: 0.0001953125\n"
          ]
        },
        {
          "name": "stderr",
          "output_type": "stream",
          "text": [
            "train epoch 235: 100%|██████████| 313/313 [00:19<00:00, 15.96it/s, loss=0.0274, accuracy=0.991]\n",
            "validation epoch 235: 100%|██████████| 79/79 [00:02<00:00, 29.35it/s, loss=0.462, accuracy=0.902]\n"
          ]
        },
        {
          "name": "stdout",
          "output_type": "stream",
          "text": [
            "lr: 0.0001953125\n"
          ]
        },
        {
          "name": "stderr",
          "output_type": "stream",
          "text": [
            "train epoch 236: 100%|██████████| 313/313 [00:19<00:00, 16.27it/s, loss=0.027, accuracy=0.991]\n",
            "validation epoch 236: 100%|██████████| 79/79 [00:02<00:00, 28.27it/s, loss=0.461, accuracy=0.904]\n"
          ]
        },
        {
          "name": "stdout",
          "output_type": "stream",
          "text": [
            "lr: 0.0001953125\n"
          ]
        },
        {
          "name": "stderr",
          "output_type": "stream",
          "text": [
            "train epoch 237: 100%|██████████| 313/313 [00:20<00:00, 15.51it/s, loss=0.0266, accuracy=0.991]\n",
            "validation epoch 237: 100%|██████████| 79/79 [00:02<00:00, 29.13it/s, loss=0.458, accuracy=0.903]\n"
          ]
        },
        {
          "name": "stdout",
          "output_type": "stream",
          "text": [
            "lr: 0.0001953125\n"
          ]
        },
        {
          "name": "stderr",
          "output_type": "stream",
          "text": [
            "train epoch 238: 100%|██████████| 313/313 [00:19<00:00, 15.94it/s, loss=0.0267, accuracy=0.991]\n",
            "validation epoch 238: 100%|██████████| 79/79 [00:02<00:00, 29.10it/s, loss=0.459, accuracy=0.903]\n"
          ]
        },
        {
          "name": "stdout",
          "output_type": "stream",
          "text": [
            "lr: 0.0001953125\n"
          ]
        },
        {
          "name": "stderr",
          "output_type": "stream",
          "text": [
            "train epoch 239: 100%|██████████| 313/313 [00:19<00:00, 16.12it/s, loss=0.0262, accuracy=0.991]\n",
            "validation epoch 239: 100%|██████████| 79/79 [00:02<00:00, 29.33it/s, loss=0.46, accuracy=0.9]\n"
          ]
        },
        {
          "name": "stdout",
          "output_type": "stream",
          "text": [
            "lr: 0.0001953125\n"
          ]
        },
        {
          "name": "stderr",
          "output_type": "stream",
          "text": [
            "train epoch 240: 100%|██████████| 313/313 [00:19<00:00, 16.16it/s, loss=0.0267, accuracy=0.991]\n",
            "validation epoch 240: 100%|██████████| 79/79 [00:02<00:00, 28.77it/s, loss=0.459, accuracy=0.902]\n"
          ]
        },
        {
          "name": "stdout",
          "output_type": "stream",
          "text": [
            "lr: 0.0001953125\n"
          ]
        },
        {
          "name": "stderr",
          "output_type": "stream",
          "text": [
            "train epoch 241: 100%|██████████| 313/313 [00:19<00:00, 16.24it/s, loss=0.0258, accuracy=0.991]\n",
            "validation epoch 241: 100%|██████████| 79/79 [00:02<00:00, 28.67it/s, loss=0.467, accuracy=0.901]\n"
          ]
        },
        {
          "name": "stdout",
          "output_type": "stream",
          "text": [
            "lr: 0.0001953125\n"
          ]
        },
        {
          "name": "stderr",
          "output_type": "stream",
          "text": [
            "train epoch 242: 100%|██████████| 313/313 [00:19<00:00, 15.97it/s, loss=0.0245, accuracy=0.992]\n",
            "validation epoch 242: 100%|██████████| 79/79 [00:02<00:00, 29.50it/s, loss=0.463, accuracy=0.902]\n"
          ]
        },
        {
          "name": "stdout",
          "output_type": "stream",
          "text": [
            "lr: 0.0001953125\n"
          ]
        },
        {
          "name": "stderr",
          "output_type": "stream",
          "text": [
            "train epoch 243: 100%|██████████| 313/313 [00:19<00:00, 16.18it/s, loss=0.0255, accuracy=0.992]\n",
            "validation epoch 243: 100%|██████████| 79/79 [00:02<00:00, 29.27it/s, loss=0.464, accuracy=0.901]\n"
          ]
        },
        {
          "name": "stdout",
          "output_type": "stream",
          "text": [
            "lr: 0.0001953125\n"
          ]
        },
        {
          "name": "stderr",
          "output_type": "stream",
          "text": [
            "train epoch 244: 100%|██████████| 313/313 [00:19<00:00, 16.44it/s, loss=0.0252, accuracy=0.992]\n",
            "validation epoch 244: 100%|██████████| 79/79 [00:02<00:00, 29.58it/s, loss=0.464, accuracy=0.903]\n"
          ]
        },
        {
          "name": "stdout",
          "output_type": "stream",
          "text": [
            "lr: 0.0001953125\n"
          ]
        },
        {
          "name": "stderr",
          "output_type": "stream",
          "text": [
            "train epoch 245: 100%|██████████| 313/313 [00:19<00:00, 16.20it/s, loss=0.0276, accuracy=0.991]\n",
            "validation epoch 245: 100%|██████████| 79/79 [00:03<00:00, 23.33it/s, loss=0.459, accuracy=0.903]\n"
          ]
        },
        {
          "name": "stdout",
          "output_type": "stream",
          "text": [
            "lr: 0.0001953125\n"
          ]
        },
        {
          "name": "stderr",
          "output_type": "stream",
          "text": [
            "train epoch 246: 100%|██████████| 313/313 [00:19<00:00, 15.92it/s, loss=0.026, accuracy=0.992]\n",
            "validation epoch 246: 100%|██████████| 79/79 [00:02<00:00, 29.61it/s, loss=0.467, accuracy=0.902]\n"
          ]
        },
        {
          "name": "stdout",
          "output_type": "stream",
          "text": [
            "lr: 0.0001953125\n"
          ]
        },
        {
          "name": "stderr",
          "output_type": "stream",
          "text": [
            "train epoch 247: 100%|██████████| 313/313 [00:19<00:00, 16.10it/s, loss=0.0249, accuracy=0.992]\n",
            "validation epoch 247: 100%|██████████| 79/79 [00:02<00:00, 29.23it/s, loss=0.462, accuracy=0.902]\n"
          ]
        },
        {
          "name": "stdout",
          "output_type": "stream",
          "text": [
            "lr: 0.0001953125\n"
          ]
        },
        {
          "name": "stderr",
          "output_type": "stream",
          "text": [
            "train epoch 248: 100%|██████████| 313/313 [00:19<00:00, 16.19it/s, loss=0.0271, accuracy=0.991]\n",
            "validation epoch 248: 100%|██████████| 79/79 [00:02<00:00, 29.05it/s, loss=0.462, accuracy=0.902]\n"
          ]
        },
        {
          "name": "stdout",
          "output_type": "stream",
          "text": [
            "lr: 0.0001953125\n"
          ]
        },
        {
          "name": "stderr",
          "output_type": "stream",
          "text": [
            "train epoch 249: 100%|██████████| 313/313 [00:19<00:00, 15.89it/s, loss=0.0262, accuracy=0.991]\n",
            "validation epoch 249: 100%|██████████| 79/79 [00:02<00:00, 28.43it/s, loss=0.466, accuracy=0.903]\n"
          ]
        },
        {
          "name": "stdout",
          "output_type": "stream",
          "text": [
            "lr: 9.765625e-05\n"
          ]
        },
        {
          "name": "stderr",
          "output_type": "stream",
          "text": [
            "train epoch 250: 100%|██████████| 313/313 [00:19<00:00, 16.21it/s, loss=0.027, accuracy=0.991]\n",
            "validation epoch 250: 100%|██████████| 79/79 [00:02<00:00, 29.26it/s, loss=0.464, accuracy=0.903]\n"
          ]
        },
        {
          "name": "stdout",
          "output_type": "stream",
          "text": [
            "lr: 9.765625e-05\n"
          ]
        },
        {
          "name": "stderr",
          "output_type": "stream",
          "text": [
            "train epoch 251: 100%|██████████| 313/313 [00:19<00:00, 16.05it/s, loss=0.0285, accuracy=0.991]\n",
            "validation epoch 251: 100%|██████████| 79/79 [00:02<00:00, 29.32it/s, loss=0.464, accuracy=0.901]\n"
          ]
        },
        {
          "name": "stdout",
          "output_type": "stream",
          "text": [
            "lr: 9.765625e-05\n"
          ]
        },
        {
          "name": "stderr",
          "output_type": "stream",
          "text": [
            "train epoch 252: 100%|██████████| 313/313 [00:19<00:00, 16.24it/s, loss=0.0262, accuracy=0.991]\n",
            "validation epoch 252: 100%|██████████| 79/79 [00:02<00:00, 29.38it/s, loss=0.461, accuracy=0.903]\n"
          ]
        },
        {
          "name": "stdout",
          "output_type": "stream",
          "text": [
            "lr: 9.765625e-05\n"
          ]
        },
        {
          "name": "stderr",
          "output_type": "stream",
          "text": [
            "train epoch 253: 100%|██████████| 313/313 [00:19<00:00, 16.11it/s, loss=0.0263, accuracy=0.992]\n",
            "validation epoch 253: 100%|██████████| 79/79 [00:02<00:00, 29.31it/s, loss=0.47, accuracy=0.902]\n"
          ]
        },
        {
          "name": "stdout",
          "output_type": "stream",
          "text": [
            "lr: 9.765625e-05\n"
          ]
        },
        {
          "name": "stderr",
          "output_type": "stream",
          "text": [
            "train epoch 254: 100%|██████████| 313/313 [00:20<00:00, 15.52it/s, loss=0.024, accuracy=0.993]\n",
            "validation epoch 254: 100%|██████████| 79/79 [00:02<00:00, 27.25it/s, loss=0.459, accuracy=0.903]\n"
          ]
        },
        {
          "name": "stdout",
          "output_type": "stream",
          "text": [
            "lr: 9.765625e-05\n"
          ]
        },
        {
          "name": "stderr",
          "output_type": "stream",
          "text": [
            "train epoch 255: 100%|██████████| 313/313 [00:19<00:00, 16.11it/s, loss=0.0257, accuracy=0.991]\n",
            "validation epoch 255: 100%|██████████| 79/79 [00:02<00:00, 29.33it/s, loss=0.462, accuracy=0.902]\n"
          ]
        },
        {
          "name": "stdout",
          "output_type": "stream",
          "text": [
            "lr: 9.765625e-05\n"
          ]
        },
        {
          "name": "stderr",
          "output_type": "stream",
          "text": [
            "train epoch 256: 100%|██████████| 313/313 [00:19<00:00, 15.81it/s, loss=0.0248, accuracy=0.992]\n",
            "validation epoch 256: 100%|██████████| 79/79 [00:02<00:00, 28.57it/s, loss=0.463, accuracy=0.902]\n"
          ]
        },
        {
          "name": "stdout",
          "output_type": "stream",
          "text": [
            "lr: 9.765625e-05\n"
          ]
        },
        {
          "name": "stderr",
          "output_type": "stream",
          "text": [
            "train epoch 257: 100%|██████████| 313/313 [00:19<00:00, 16.15it/s, loss=0.0258, accuracy=0.992]\n",
            "validation epoch 257: 100%|██████████| 79/79 [00:02<00:00, 29.18it/s, loss=0.466, accuracy=0.902]\n"
          ]
        },
        {
          "name": "stdout",
          "output_type": "stream",
          "text": [
            "lr: 9.765625e-05\n"
          ]
        },
        {
          "name": "stderr",
          "output_type": "stream",
          "text": [
            "train epoch 258: 100%|██████████| 313/313 [00:19<00:00, 16.17it/s, loss=0.0259, accuracy=0.991]\n",
            "validation epoch 258: 100%|██████████| 79/79 [00:02<00:00, 29.53it/s, loss=0.462, accuracy=0.902]\n"
          ]
        },
        {
          "name": "stdout",
          "output_type": "stream",
          "text": [
            "lr: 9.765625e-05\n"
          ]
        },
        {
          "name": "stderr",
          "output_type": "stream",
          "text": [
            "train epoch 259: 100%|██████████| 313/313 [00:19<00:00, 16.19it/s, loss=0.0245, accuracy=0.992]\n",
            "validation epoch 259: 100%|██████████| 79/79 [00:02<00:00, 28.25it/s, loss=0.468, accuracy=0.9]\n"
          ]
        },
        {
          "name": "stdout",
          "output_type": "stream",
          "text": [
            "lr: 9.765625e-05\n"
          ]
        },
        {
          "name": "stderr",
          "output_type": "stream",
          "text": [
            "train epoch 260: 100%|██████████| 313/313 [00:19<00:00, 15.94it/s, loss=0.0254, accuracy=0.992]\n",
            "validation epoch 260: 100%|██████████| 79/79 [00:02<00:00, 29.17it/s, loss=0.463, accuracy=0.903]\n"
          ]
        },
        {
          "name": "stdout",
          "output_type": "stream",
          "text": [
            "lr: 9.765625e-05\n"
          ]
        },
        {
          "name": "stderr",
          "output_type": "stream",
          "text": [
            "train epoch 261: 100%|██████████| 313/313 [00:19<00:00, 16.22it/s, loss=0.0247, accuracy=0.992]\n",
            "validation epoch 261: 100%|██████████| 79/79 [00:02<00:00, 29.25it/s, loss=0.461, accuracy=0.904]\n"
          ]
        },
        {
          "name": "stdout",
          "output_type": "stream",
          "text": [
            "lr: 9.765625e-05\n"
          ]
        },
        {
          "name": "stderr",
          "output_type": "stream",
          "text": [
            "train epoch 262: 100%|██████████| 313/313 [00:19<00:00, 16.26it/s, loss=0.0255, accuracy=0.992]\n",
            "validation epoch 262: 100%|██████████| 79/79 [00:02<00:00, 29.26it/s, loss=0.465, accuracy=0.902]\n"
          ]
        },
        {
          "name": "stdout",
          "output_type": "stream",
          "text": [
            "lr: 9.765625e-05\n"
          ]
        },
        {
          "name": "stderr",
          "output_type": "stream",
          "text": [
            "train epoch 263: 100%|██████████| 313/313 [00:20<00:00, 15.40it/s, loss=0.0246, accuracy=0.992]\n",
            "validation epoch 263: 100%|██████████| 79/79 [00:02<00:00, 27.89it/s, loss=0.461, accuracy=0.902]\n"
          ]
        },
        {
          "name": "stdout",
          "output_type": "stream",
          "text": [
            "lr: 9.765625e-05\n"
          ]
        },
        {
          "name": "stderr",
          "output_type": "stream",
          "text": [
            "train epoch 264: 100%|██████████| 313/313 [00:19<00:00, 16.09it/s, loss=0.025, accuracy=0.992]\n",
            "validation epoch 264: 100%|██████████| 79/79 [00:02<00:00, 29.19it/s, loss=0.465, accuracy=0.902]\n"
          ]
        },
        {
          "name": "stdout",
          "output_type": "stream",
          "text": [
            "lr: 9.765625e-05\n"
          ]
        },
        {
          "name": "stderr",
          "output_type": "stream",
          "text": [
            "train epoch 265: 100%|██████████| 313/313 [00:19<00:00, 15.85it/s, loss=0.0266, accuracy=0.991]\n",
            "validation epoch 265: 100%|██████████| 79/79 [00:02<00:00, 28.91it/s, loss=0.466, accuracy=0.901]\n"
          ]
        },
        {
          "name": "stdout",
          "output_type": "stream",
          "text": [
            "lr: 9.765625e-05\n"
          ]
        },
        {
          "name": "stderr",
          "output_type": "stream",
          "text": [
            "train epoch 266: 100%|██████████| 313/313 [00:19<00:00, 16.07it/s, loss=0.0256, accuracy=0.992]\n",
            "validation epoch 266: 100%|██████████| 79/79 [00:02<00:00, 29.25it/s, loss=0.465, accuracy=0.902]\n"
          ]
        },
        {
          "name": "stdout",
          "output_type": "stream",
          "text": [
            "lr: 9.765625e-05\n"
          ]
        },
        {
          "name": "stderr",
          "output_type": "stream",
          "text": [
            "train epoch 267: 100%|██████████| 313/313 [00:19<00:00, 15.91it/s, loss=0.0235, accuracy=0.992]\n",
            "validation epoch 267: 100%|██████████| 79/79 [00:02<00:00, 28.31it/s, loss=0.462, accuracy=0.903]\n"
          ]
        },
        {
          "name": "stdout",
          "output_type": "stream",
          "text": [
            "lr: 9.765625e-05\n"
          ]
        },
        {
          "name": "stderr",
          "output_type": "stream",
          "text": [
            "train epoch 268: 100%|██████████| 313/313 [00:19<00:00, 16.16it/s, loss=0.0264, accuracy=0.991]\n",
            "validation epoch 268: 100%|██████████| 79/79 [00:02<00:00, 29.21it/s, loss=0.461, accuracy=0.903]\n"
          ]
        },
        {
          "name": "stdout",
          "output_type": "stream",
          "text": [
            "lr: 9.765625e-05\n"
          ]
        },
        {
          "name": "stderr",
          "output_type": "stream",
          "text": [
            "train epoch 269: 100%|██████████| 313/313 [00:19<00:00, 16.00it/s, loss=0.0233, accuracy=0.993]\n",
            "validation epoch 269: 100%|██████████| 79/79 [00:02<00:00, 28.68it/s, loss=0.464, accuracy=0.903]\n"
          ]
        },
        {
          "name": "stdout",
          "output_type": "stream",
          "text": [
            "lr: 9.765625e-05\n"
          ]
        },
        {
          "name": "stderr",
          "output_type": "stream",
          "text": [
            "train epoch 270: 100%|██████████| 313/313 [00:19<00:00, 16.01it/s, loss=0.0255, accuracy=0.992]\n",
            "validation epoch 270: 100%|██████████| 79/79 [00:02<00:00, 29.53it/s, loss=0.459, accuracy=0.903]\n"
          ]
        },
        {
          "name": "stdout",
          "output_type": "stream",
          "text": [
            "lr: 9.765625e-05\n"
          ]
        },
        {
          "name": "stderr",
          "output_type": "stream",
          "text": [
            "train epoch 271: 100%|██████████| 313/313 [00:19<00:00, 16.05it/s, loss=0.0253, accuracy=0.993]\n",
            "validation epoch 271: 100%|██████████| 79/79 [00:02<00:00, 29.01it/s, loss=0.465, accuracy=0.902]\n"
          ]
        },
        {
          "name": "stdout",
          "output_type": "stream",
          "text": [
            "lr: 9.765625e-05\n"
          ]
        },
        {
          "name": "stderr",
          "output_type": "stream",
          "text": [
            "train epoch 272: 100%|██████████| 313/313 [00:20<00:00, 15.42it/s, loss=0.0244, accuracy=0.992]\n",
            "validation epoch 272: 100%|██████████| 79/79 [00:02<00:00, 28.44it/s, loss=0.468, accuracy=0.903]\n"
          ]
        },
        {
          "name": "stdout",
          "output_type": "stream",
          "text": [
            "lr: 9.765625e-05\n"
          ]
        },
        {
          "name": "stderr",
          "output_type": "stream",
          "text": [
            "train epoch 273: 100%|██████████| 313/313 [00:19<00:00, 16.14it/s, loss=0.0247, accuracy=0.992]\n",
            "validation epoch 273: 100%|██████████| 79/79 [00:02<00:00, 29.20it/s, loss=0.468, accuracy=0.903]\n"
          ]
        },
        {
          "name": "stdout",
          "output_type": "stream",
          "text": [
            "lr: 9.765625e-05\n"
          ]
        },
        {
          "name": "stderr",
          "output_type": "stream",
          "text": [
            "train epoch 274: 100%|██████████| 313/313 [00:19<00:00, 15.99it/s, loss=0.0257, accuracy=0.992]\n",
            "validation epoch 274: 100%|██████████| 79/79 [00:02<00:00, 28.32it/s, loss=0.463, accuracy=0.902]\n"
          ]
        },
        {
          "name": "stdout",
          "output_type": "stream",
          "text": [
            "lr: 4.8828125e-05\n"
          ]
        },
        {
          "name": "stderr",
          "output_type": "stream",
          "text": [
            "train epoch 275: 100%|██████████| 313/313 [00:19<00:00, 16.09it/s, loss=0.0268, accuracy=0.991]\n",
            "validation epoch 275: 100%|██████████| 79/79 [00:02<00:00, 28.52it/s, loss=0.464, accuracy=0.901]\n"
          ]
        },
        {
          "name": "stdout",
          "output_type": "stream",
          "text": [
            "lr: 4.8828125e-05\n"
          ]
        },
        {
          "name": "stderr",
          "output_type": "stream",
          "text": [
            "train epoch 276: 100%|██████████| 313/313 [00:19<00:00, 16.01it/s, loss=0.0261, accuracy=0.992]\n",
            "validation epoch 276: 100%|██████████| 79/79 [00:02<00:00, 29.17it/s, loss=0.47, accuracy=0.901]\n"
          ]
        },
        {
          "name": "stdout",
          "output_type": "stream",
          "text": [
            "lr: 4.8828125e-05\n"
          ]
        },
        {
          "name": "stderr",
          "output_type": "stream",
          "text": [
            "train epoch 277: 100%|██████████| 313/313 [00:19<00:00, 16.11it/s, loss=0.0267, accuracy=0.991]\n",
            "validation epoch 277: 100%|██████████| 79/79 [00:02<00:00, 28.12it/s, loss=0.463, accuracy=0.902]\n"
          ]
        },
        {
          "name": "stdout",
          "output_type": "stream",
          "text": [
            "lr: 4.8828125e-05\n"
          ]
        },
        {
          "name": "stderr",
          "output_type": "stream",
          "text": [
            "train epoch 278: 100%|██████████| 313/313 [00:19<00:00, 15.82it/s, loss=0.0251, accuracy=0.992]\n",
            "validation epoch 278: 100%|██████████| 79/79 [00:02<00:00, 29.38it/s, loss=0.464, accuracy=0.903]\n"
          ]
        },
        {
          "name": "stdout",
          "output_type": "stream",
          "text": [
            "lr: 4.8828125e-05\n"
          ]
        },
        {
          "name": "stderr",
          "output_type": "stream",
          "text": [
            "train epoch 279: 100%|██████████| 313/313 [00:19<00:00, 16.05it/s, loss=0.0277, accuracy=0.991]\n",
            "validation epoch 279: 100%|██████████| 79/79 [00:02<00:00, 28.27it/s, loss=0.463, accuracy=0.902]\n"
          ]
        },
        {
          "name": "stdout",
          "output_type": "stream",
          "text": [
            "lr: 4.8828125e-05\n"
          ]
        },
        {
          "name": "stderr",
          "output_type": "stream",
          "text": [
            "train epoch 280: 100%|██████████| 313/313 [00:19<00:00, 16.12it/s, loss=0.0258, accuracy=0.992]\n",
            "validation epoch 280: 100%|██████████| 79/79 [00:02<00:00, 28.72it/s, loss=0.47, accuracy=0.903]\n"
          ]
        },
        {
          "name": "stdout",
          "output_type": "stream",
          "text": [
            "lr: 4.8828125e-05\n"
          ]
        },
        {
          "name": "stderr",
          "output_type": "stream",
          "text": [
            "train epoch 281: 100%|██████████| 313/313 [00:20<00:00, 15.21it/s, loss=0.0258, accuracy=0.992]\n",
            "validation epoch 281: 100%|██████████| 79/79 [00:02<00:00, 27.53it/s, loss=0.462, accuracy=0.902]\n"
          ]
        },
        {
          "name": "stdout",
          "output_type": "stream",
          "text": [
            "lr: 4.8828125e-05\n"
          ]
        },
        {
          "name": "stderr",
          "output_type": "stream",
          "text": [
            "train epoch 282: 100%|██████████| 313/313 [00:19<00:00, 15.90it/s, loss=0.0261, accuracy=0.992]\n",
            "validation epoch 282: 100%|██████████| 79/79 [00:02<00:00, 29.14it/s, loss=0.464, accuracy=0.903]\n"
          ]
        },
        {
          "name": "stdout",
          "output_type": "stream",
          "text": [
            "lr: 4.8828125e-05\n"
          ]
        },
        {
          "name": "stderr",
          "output_type": "stream",
          "text": [
            "train epoch 283: 100%|██████████| 313/313 [00:19<00:00, 15.98it/s, loss=0.0255, accuracy=0.992]\n",
            "validation epoch 283: 100%|██████████| 79/79 [00:02<00:00, 28.02it/s, loss=0.463, accuracy=0.902]\n"
          ]
        },
        {
          "name": "stdout",
          "output_type": "stream",
          "text": [
            "lr: 4.8828125e-05\n"
          ]
        },
        {
          "name": "stderr",
          "output_type": "stream",
          "text": [
            "train epoch 284: 100%|██████████| 313/313 [00:19<00:00, 15.87it/s, loss=0.0248, accuracy=0.992]\n",
            "validation epoch 284: 100%|██████████| 79/79 [00:02<00:00, 28.81it/s, loss=0.465, accuracy=0.901]\n"
          ]
        },
        {
          "name": "stdout",
          "output_type": "stream",
          "text": [
            "lr: 4.8828125e-05\n"
          ]
        },
        {
          "name": "stderr",
          "output_type": "stream",
          "text": [
            "train epoch 285: 100%|██████████| 313/313 [00:19<00:00, 15.71it/s, loss=0.0256, accuracy=0.992]\n",
            "validation epoch 285: 100%|██████████| 79/79 [00:02<00:00, 28.56it/s, loss=0.466, accuracy=0.902]\n"
          ]
        },
        {
          "name": "stdout",
          "output_type": "stream",
          "text": [
            "lr: 4.8828125e-05\n"
          ]
        },
        {
          "name": "stderr",
          "output_type": "stream",
          "text": [
            "train epoch 286: 100%|██████████| 313/313 [00:19<00:00, 16.00it/s, loss=0.0269, accuracy=0.991]\n",
            "validation epoch 286: 100%|██████████| 79/79 [00:02<00:00, 28.74it/s, loss=0.465, accuracy=0.901]\n"
          ]
        },
        {
          "name": "stdout",
          "output_type": "stream",
          "text": [
            "lr: 4.8828125e-05\n"
          ]
        },
        {
          "name": "stderr",
          "output_type": "stream",
          "text": [
            "train epoch 287: 100%|██████████| 313/313 [00:19<00:00, 16.00it/s, loss=0.0244, accuracy=0.992]\n",
            "validation epoch 287: 100%|██████████| 79/79 [00:02<00:00, 28.30it/s, loss=0.462, accuracy=0.904]\n"
          ]
        },
        {
          "name": "stdout",
          "output_type": "stream",
          "text": [
            "lr: 4.8828125e-05\n"
          ]
        },
        {
          "name": "stderr",
          "output_type": "stream",
          "text": [
            "train epoch 288: 100%|██████████| 313/313 [00:19<00:00, 15.93it/s, loss=0.0264, accuracy=0.992]\n",
            "validation epoch 288: 100%|██████████| 79/79 [00:02<00:00, 28.77it/s, loss=0.465, accuracy=0.903]\n"
          ]
        },
        {
          "name": "stdout",
          "output_type": "stream",
          "text": [
            "lr: 4.8828125e-05\n"
          ]
        },
        {
          "name": "stderr",
          "output_type": "stream",
          "text": [
            "train epoch 289: 100%|██████████| 313/313 [00:20<00:00, 15.06it/s, loss=0.0246, accuracy=0.993]\n",
            "validation epoch 289: 100%|██████████| 79/79 [00:02<00:00, 28.54it/s, loss=0.462, accuracy=0.903]\n"
          ]
        },
        {
          "name": "stdout",
          "output_type": "stream",
          "text": [
            "lr: 4.8828125e-05\n"
          ]
        },
        {
          "name": "stderr",
          "output_type": "stream",
          "text": [
            "train epoch 290: 100%|██████████| 313/313 [00:19<00:00, 16.07it/s, loss=0.0246, accuracy=0.992]\n",
            "validation epoch 290: 100%|██████████| 79/79 [00:02<00:00, 27.82it/s, loss=0.466, accuracy=0.903]\n"
          ]
        },
        {
          "name": "stdout",
          "output_type": "stream",
          "text": [
            "lr: 4.8828125e-05\n"
          ]
        },
        {
          "name": "stderr",
          "output_type": "stream",
          "text": [
            "train epoch 291: 100%|██████████| 313/313 [00:19<00:00, 16.01it/s, loss=0.0261, accuracy=0.991]\n",
            "validation epoch 291: 100%|██████████| 79/79 [00:02<00:00, 28.56it/s, loss=0.461, accuracy=0.901]\n"
          ]
        },
        {
          "name": "stdout",
          "output_type": "stream",
          "text": [
            "lr: 4.8828125e-05\n"
          ]
        },
        {
          "name": "stderr",
          "output_type": "stream",
          "text": [
            "train epoch 292: 100%|██████████| 313/313 [00:19<00:00, 15.88it/s, loss=0.0248, accuracy=0.992]\n",
            "validation epoch 292: 100%|██████████| 79/79 [00:02<00:00, 27.79it/s, loss=0.458, accuracy=0.904]\n"
          ]
        },
        {
          "name": "stdout",
          "output_type": "stream",
          "text": [
            "lr: 4.8828125e-05\n"
          ]
        },
        {
          "name": "stderr",
          "output_type": "stream",
          "text": [
            "train epoch 293: 100%|██████████| 313/313 [00:19<00:00, 15.81it/s, loss=0.0249, accuracy=0.992]\n",
            "validation epoch 293: 100%|██████████| 79/79 [00:02<00:00, 28.59it/s, loss=0.467, accuracy=0.902]\n"
          ]
        },
        {
          "name": "stdout",
          "output_type": "stream",
          "text": [
            "lr: 4.8828125e-05\n"
          ]
        },
        {
          "name": "stderr",
          "output_type": "stream",
          "text": [
            "train epoch 294: 100%|██████████| 313/313 [00:19<00:00, 15.81it/s, loss=0.0275, accuracy=0.991]\n",
            "validation epoch 294: 100%|██████████| 79/79 [00:02<00:00, 29.18it/s, loss=0.466, accuracy=0.903]\n"
          ]
        },
        {
          "name": "stdout",
          "output_type": "stream",
          "text": [
            "lr: 4.8828125e-05\n"
          ]
        },
        {
          "name": "stderr",
          "output_type": "stream",
          "text": [
            "train epoch 295: 100%|██████████| 313/313 [00:19<00:00, 15.80it/s, loss=0.0258, accuracy=0.992]\n",
            "validation epoch 295: 100%|██████████| 79/79 [00:02<00:00, 28.42it/s, loss=0.46, accuracy=0.904]\n"
          ]
        },
        {
          "name": "stdout",
          "output_type": "stream",
          "text": [
            "lr: 4.8828125e-05\n"
          ]
        },
        {
          "name": "stderr",
          "output_type": "stream",
          "text": [
            "train epoch 296: 100%|██████████| 313/313 [00:19<00:00, 15.82it/s, loss=0.0251, accuracy=0.992]\n",
            "validation epoch 296: 100%|██████████| 79/79 [00:02<00:00, 29.01it/s, loss=0.465, accuracy=0.902]\n"
          ]
        },
        {
          "name": "stdout",
          "output_type": "stream",
          "text": [
            "lr: 4.8828125e-05\n"
          ]
        },
        {
          "name": "stderr",
          "output_type": "stream",
          "text": [
            "train epoch 297: 100%|██████████| 313/313 [00:19<00:00, 15.89it/s, loss=0.0235, accuracy=0.992]\n",
            "validation epoch 297: 100%|██████████| 79/79 [00:02<00:00, 27.08it/s, loss=0.463, accuracy=0.902]\n"
          ]
        },
        {
          "name": "stdout",
          "output_type": "stream",
          "text": [
            "lr: 4.8828125e-05\n"
          ]
        },
        {
          "name": "stderr",
          "output_type": "stream",
          "text": [
            "train epoch 298: 100%|██████████| 313/313 [00:20<00:00, 15.19it/s, loss=0.0267, accuracy=0.991]\n",
            "validation epoch 298: 100%|██████████| 79/79 [00:02<00:00, 28.17it/s, loss=0.464, accuracy=0.903]\n"
          ]
        },
        {
          "name": "stdout",
          "output_type": "stream",
          "text": [
            "lr: 4.8828125e-05\n"
          ]
        },
        {
          "name": "stderr",
          "output_type": "stream",
          "text": [
            "train epoch 299: 100%|██████████| 313/313 [00:20<00:00, 15.51it/s, loss=0.0256, accuracy=0.992]\n",
            "validation epoch 299: 100%|██████████| 79/79 [00:02<00:00, 28.16it/s, loss=0.463, accuracy=0.904]\n"
          ]
        },
        {
          "name": "stdout",
          "output_type": "stream",
          "text": [
            "lr: 2.44140625e-05\n"
          ]
        }
      ],
      "source": [
        "# Let's start training\n",
        "C10train.train_erm()"
      ]
    },
    {
      "cell_type": "markdown",
      "metadata": {
        "id": "fAobrlGyLvkj"
      },
      "source": [
        "#### Testing"
      ]
    },
    {
      "cell_type": "markdown",
      "metadata": {
        "id": "Sv8f23S38niZ"
      },
      "source": [
        "Perform the evaluation of the model by using the parameters of the epoch with highest accuracy in validation phase. This step is done without performing selective classification, so the model never abstains."
      ]
    },
    {
      "cell_type": "code",
      "execution_count": null,
      "metadata": {
        "colab": {
          "base_uri": "https://localhost:8080/"
        },
        "id": "YHz8KaA3Q9pr",
        "outputId": "71244e4b-7e89-4d67-c5c3-84fbae1a7e58"
      },
      "outputs": [
        {
          "name": "stdout",
          "output_type": "stream",
          "text": [
            "----------testing the model----------\n"
          ]
        },
        {
          "name": "stderr",
          "output_type": "stream",
          "text": [
            "test epoch 292: 100%|██████████| 79/79 [00:08<00:00,  9.23it/s, loss=0.521, accuracy=0.891]"
          ]
        },
        {
          "name": "stdout",
          "output_type": "stream",
          "text": [
            "----------Test accuracy =0.8912183544303798----------\n"
          ]
        },
        {
          "name": "stderr",
          "output_type": "stream",
          "text": [
            "\n"
          ]
        }
      ],
      "source": [
        "C10train.test(C10train.test_loader,\"best_erm_model.pt\")"
      ]
    },
    {
      "attachments": {},
      "cell_type": "markdown",
      "metadata": {
        "id": "48_T8JRBMd-a"
      },
      "source": [
        "#### Masking and Fine-Tuning"
      ]
    },
    {
      "cell_type": "code",
      "execution_count": null,
      "metadata": {
        "colab": {
          "base_uri": "https://localhost:8080/"
        },
        "id": "XYlp_Gakk4GK",
        "outputId": "4bcc29f3-8f19-4bc8-8ff8-308db33416d9"
      },
      "outputs": [
        {
          "name": "stderr",
          "output_type": "stream",
          "text": [
            "100%|██████████| 50000/50000 [11:49<00:00, 70.52it/s]\n",
            "train epoch 300: 100%|██████████| 313/313 [00:15<00:00, 20.83it/s, loss=0.408, accuracy=0.884]\n",
            "validation epoch 300: 100%|██████████| 79/79 [00:02<00:00, 28.96it/s, loss=0.505, accuracy=0.889]\n"
          ]
        }
      ],
      "source": [
        "def finetune(best_resume_checkpoint_path: str=None, last_resume_checkpoint_path: str=None) -> None:\n",
        "  \n",
        "  if(best_resume_checkpoint_path!=None and last_resume_checkpoint_path!=None):\n",
        "    # build the dataset composed by masked images and the data loader\n",
        "    C10train.mask_data(best_resume_checkpoint_path)\n",
        "\n",
        "    # resume needed data stored in saved models\n",
        "    checkpoint = torch.load(last_resume_checkpoint_path)\n",
        "    C10train.model.load_state_dict(checkpoint['model_state_dict'])\n",
        "    C10train.optimizer.load_state_dict(checkpoint['optimizer_state_dict'])\n",
        "    resume_epoch = checkpoint['epoch'] + 1\n",
        "\n",
        "    # perform a single training epoch on the masked dataset and build the 'masked model'\n",
        "    C10train.run_an_epoch(data_loader=C10train.masked_loader,epoch=resume_epoch,mode=\"train\",device=C10train.device)\n",
        "    val_accuracy = C10train.run_an_epoch(\n",
        "        data_loader=C10train.val_loader, epoch=resume_epoch, mode=\"validation\",device=C10train.device\n",
        "    )\n",
        "    torch.save({\n",
        "                'epoch': resume_epoch,\n",
        "                'model_state_dict': C10train.model.state_dict(),\n",
        "                'optimizer_state_dict': C10train.optimizer.state_dict(),\n",
        "                'scheduler_state_dict': C10train.lr_scheduler.state_dict(),\n",
        "                'accuracy' : val_accuracy,\n",
        "                }, \"masked_erm_model.pt\")\n",
        "    \n",
        "\n",
        "finetune(best_resume_checkpoint_path=\"best_erm_model.pt\",last_resume_checkpoint_path=\"last_erm_model.pt\")"
      ]
    },
    {
      "cell_type": "code",
      "execution_count": null,
      "metadata": {
        "colab": {
          "base_uri": "https://localhost:8080/"
        },
        "id": "QMtaNsco4Cqo",
        "outputId": "4445de84-b746-438d-c81c-f04f63147c6e"
      },
      "outputs": [
        {
          "name": "stdout",
          "output_type": "stream",
          "text": [
            "----------testing the model----------\n"
          ]
        },
        {
          "name": "stderr",
          "output_type": "stream",
          "text": [
            "test epoch 300: 100%|██████████| 79/79 [00:02<00:00, 29.38it/s, loss=0.575, accuracy=0.879]"
          ]
        },
        {
          "name": "stdout",
          "output_type": "stream",
          "text": [
            "----------Test accuracy =0.8791534810126582----------\n"
          ]
        },
        {
          "name": "stderr",
          "output_type": "stream",
          "text": [
            "\n"
          ]
        }
      ],
      "source": [
        "# perform evaluation on the built masked model \n",
        "C10train.test(C10train.test_loader,\"masked_erm_model.pt\")"
      ]
    },
    {
      "cell_type": "markdown",
      "metadata": {
        "id": "2iLMy7C-O4EN"
      },
      "source": [
        "#### Selective Classification"
      ]
    },
    {
      "cell_type": "code",
      "execution_count": null,
      "metadata": {
        "id": "SUXYzR0gO9Gy"
      },
      "outputs": [],
      "source": [
        "import copy\n",
        "from tqdm import tqdm\n",
        "import torch.nn.functional as Functional"
      ]
    },
    {
      "cell_type": "code",
      "execution_count": null,
      "metadata": {
        "id": "dQwu2Of3ZBpx"
      },
      "outputs": [],
      "source": [
        "def test_selective_classification(erm_model_checkpoint_path: str=None, finetuned_model_checkpoint_path: str=None):\n",
        "        # verifies the existence of the models\n",
        "        assert erm_model_checkpoint_path is not None, \"erm model's checkpoint path should be passed to the test function to test on that\"\n",
        "        assert finetuned_model_checkpoint_path is not None, \"finetuned model's checkpoint path should be passed to the test function to test on that\"\n",
        "        \n",
        "        # create a copy of the model used in train\n",
        "        finetuned_model = copy.deepcopy(C10train.model)\n",
        "        finetuned_model = finetuned_model.to(C10train.device)\n",
        "        C10train.logger.info(\n",
        "            \"-\" * 10 + \"testing with selective classification\" + \"-\" * 10, print_msg=True)\n",
        "        \n",
        "        # set the 'standard' model in evaluation phase and load parameters of the model\n",
        "        checkpoint_erm = torch.load(erm_model_checkpoint_path)\n",
        "        C10train.model.load_state_dict(checkpoint_erm['model_state_dict'])\n",
        "        C10train.model.eval()\n",
        "        \n",
        "        # set the 'fine tuned' model in evaluation phase and load parameters of the model\n",
        "        checkpoint_finetuned = torch.load(finetuned_model_checkpoint_path)\n",
        "        finetuned_model.load_state_dict(checkpoint_finetuned['model_state_dict'])\n",
        "        finetuned_model.eval()\n",
        "\n",
        "        # initialize needed structures\n",
        "        val_equals = []\n",
        "        val_prob = []\n",
        "        test_equals = []\n",
        "        test_prob = []\n",
        "\n",
        "\n",
        "        with torch.no_grad():\n",
        "            # round over validation dataset\n",
        "            for inputs, targets in tqdm(C10train.val_loader):\n",
        "                inputs, targets = inputs.to(\n",
        "                    C10train.device), targets.to(C10train.device)\n",
        "\n",
        "                # 'standard' model\n",
        "                outputs = C10train.model(inputs)\n",
        "                output_prob = Functional.softmax(outputs, dim=1)\n",
        "\n",
        "                # 'fine tuned' model\n",
        "                ft_outputs = finetuned_model(inputs)\n",
        "                ft_output_prob = Functional.softmax(\n",
        "                    ft_outputs, dim=1)\n",
        "                \n",
        "                # combine probabilities of the models\n",
        "                probabilities = Functional.softmax(\n",
        "                    output_prob * ft_output_prob, dim=1)\n",
        "                \n",
        "                # define for each element in 'probabilities' the class in\n",
        "                # which it is predicted and the related probability\n",
        "                # add the probability values found in the related structure\n",
        "                prob_class, predictions_class = probabilities.data.max(1)\n",
        "                val_prob.append(prob_class)\n",
        "                \n",
        "                # find the elements which prediction is equal to target\n",
        "                equals = predictions_class.cpu().eq(targets.data.cpu())\n",
        "                val_equals.append(equals)\n",
        "\n",
        "            # define structures that contain data extracted on validation dataset\n",
        "            val_equals = torch.cat(val_equals, 0).cpu()\n",
        "            val_prob = torch.cat(val_prob, 0).cpu()\n",
        "            val_indices = torch.sort(val_prob, descending=True)[1]\n",
        "            val_equals = torch.gather(val_equals, dim=0, index=val_indices)\n",
        "            val_prob = torch.gather(val_prob, dim=0, index=val_indices)\n",
        "\n",
        "            # round over test dataset\n",
        "            for inputs, targets in tqdm(C10train.test_loader):\n",
        "                inputs, targets = inputs.to(\n",
        "                    C10train.device), targets.to(C10train.device)\n",
        "\n",
        "                # 'standard' model\n",
        "                outputs = C10train.model(inputs)\n",
        "                output_prob = Functional.softmax(outputs, dim=1)\n",
        "\n",
        "                # 'fine tuned' model\n",
        "                ft_outputs = finetuned_model(inputs)\n",
        "                ft_output_prob = Functional.softmax(\n",
        "                    ft_outputs, dim=1)\n",
        "                \n",
        "                # combine probabilities of the models over test set\n",
        "                probabilities = Functional.softmax(\n",
        "                    output_prob * ft_output_prob, dim=1)\n",
        "                \n",
        "                # define for each element in 'probabilities' the class in\n",
        "                # which it is predicted and the related probability\n",
        "                # add the probability values found in the related structure\n",
        "                prob_class, predictions_class = probabilities.data.max(1)\n",
        "                test_prob.append(prob_class)\n",
        "\n",
        "                # find the elements which prediction is equal to target\n",
        "                equals = predictions_class.cpu().eq(targets.data.cpu())\n",
        "                test_equals.append(equals)\n",
        "            \n",
        "            # define structures that contain data extracted on test dataset\n",
        "            test_equals = torch.cat(test_equals, 0).cpu()\n",
        "            test_prob = torch.cat(test_prob, 0).cpu()\n",
        "            test_indices = torch.sort(test_prob, descending=True)[1]\n",
        "            test_equals = torch.gather(test_equals, dim=0, index=test_indices)\n",
        "            test_prob = torch.gather(test_prob, dim=0, index=test_indices)\n",
        "            \n",
        "            # round over the coverage percentage\n",
        "            for cov_val in range(85,101,5):\n",
        "                # takes the index of the element in the position that represents \n",
        "                # the cov_val percentage of the validation set \n",
        "                th_index = int((cov_val / 100) * len(val_indices))\n",
        "                \n",
        "                # set the threshold as the number in the index defined above\n",
        "                # or if |val_prob| is lower than this index, as the element\n",
        "                # in last position of val_prob \n",
        "                threshold = val_prob[min(th_index, len(val_prob)-1)]\n",
        "                \n",
        "                # define for each element in test dataset if it will be \n",
        "                # used or not\n",
        "                predicted_samples = test_prob>=threshold\n",
        "                \n",
        "                # compute the classification error rate over the studied elements of\n",
        "                # the test dataset  \n",
        "                error = 1 - (torch.sum(predicted_samples * test_equals) / torch.sum(predicted_samples))\n",
        "                \n",
        "                # print the expected coverage, the real coverage, classification error rate\n",
        "                C10train.logger.info(\n",
        "                    \"EXP COV {}, COV {}, ERROR: {}\".format(\n",
        "                        cov_val, int((torch.sum(predicted_samples).item() / len(predicted_samples)) * 100.0, 2), 100 * int(error.item(), 3)\n",
        "                    ),\n",
        "                    print_msg=True\n",
        "                )\n",
        "                "
      ]
    },
    {
      "cell_type": "code",
      "execution_count": null,
      "metadata": {
        "colab": {
          "base_uri": "https://localhost:8080/"
        },
        "id": "DeR_ik1JiXw1",
        "outputId": "8d8c59f3-a8fe-4a91-d9e9-47b7635783c5"
      },
      "outputs": [
        {
          "name": "stdout",
          "output_type": "stream",
          "text": [
            "----------testing with selective classification----------\n"
          ]
        },
        {
          "name": "stderr",
          "output_type": "stream",
          "text": [
            "100%|██████████| 79/79 [00:02<00:00, 31.53it/s]\n",
            "100%|██████████| 79/79 [00:02<00:00, 31.90it/s]"
          ]
        },
        {
          "name": "stdout",
          "output_type": "stream",
          "text": [
            "EXP COV 85, COV 84.89, ERROR: 4.96\n",
            "EXP COV 90, COV 89.93, ERROR: 6.68\n",
            "EXP COV 95, COV 94.78, ERROR: 8.690000000000001\n",
            "EXP COV 100, COV 100.0, ERROR: 11.15\n"
          ]
        },
        {
          "name": "stderr",
          "output_type": "stream",
          "text": [
            "\n"
          ]
        }
      ],
      "source": [
        "# Perform selective classification\n",
        "test_selective_classification(\"best_erm_model.pt\",\"masked_erm_model.pt\")"
      ]
    },
    {
      "cell_type": "markdown",
      "metadata": {
        "id": "3jdkQoj8AG1q"
      },
      "source": [
        "![image.png](data:image/png;base64,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)"
      ]
    }
  ],
  "metadata": {
    "accelerator": "GPU",
    "colab": {
      "provenance": []
    },
    "gpuClass": "standard",
    "kernelspec": {
      "display_name": "MACHINELEARNING",
      "language": "python",
      "name": "python3"
    },
    "language_info": {
      "codemirror_mode": {
        "name": "ipython",
        "version": 3
      },
      "file_extension": ".py",
      "mimetype": "text/x-python",
      "name": "python",
      "nbconvert_exporter": "python",
      "pygments_lexer": "ipython3",
      "version": "3.9.15 (main, Nov 24 2022, 14:39:17) [MSC v.1916 64 bit (AMD64)]"
    },
    "vscode": {
      "interpreter": {
        "hash": "c3d2da9ea33237c85584c9c67e1981ac38a3fd243e6de17eadf5b3b825ecc547"
      }
    }
  },
  "nbformat": 4,
  "nbformat_minor": 0
}
