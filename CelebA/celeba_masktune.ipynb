{
  "cells": [
    {
      "cell_type": "markdown",
      "source": [
        "<h1><center>MASKTUNE: Mitigating Spurious Correlations by forcing to explore</center></h1>\n",
        "\n",
        "In this second notebook we will focus our attenction in a different dataset: CELEBA.\n",
        "\n",
        "CelebFaces Attributes Dataset (CelebA) is a large-scale face attributes dataset with more than 200K celebrity images, each with 40 attribute annotations. The images in this dataset cover large pose variations and background clutter. CelebA has large diversities, large quantities, and rich annotations.\n",
        "\n",
        "In the CelebA dataset,\n",
        "there is a high correlation between features gender={male, female} and hair_color={blond, dark},\n",
        "meaning that the feature gender might be used as predictor to the hair_color.\n",
        "\n",
        "In other words, an ERM would assign the label dark to male images since the majority of male images have dark\n",
        "hair, and there are only 1,387 (0.85%) blond males in the training set of size 162,770.\n",
        "\n",
        "The goal of MaskTune in this dataset is to force the model to explore new features of the input images in order to eliminate the spurious correlation male->dark hair color.\n",
        " "
      ],
      "metadata": {
        "id": "TFfJtJ8mBBjR"
      }
    },
    {
      "cell_type": "markdown",
      "metadata": {
        "id": "ZobuOGoOwn_E"
      },
      "source": [
        "## 1. Download Dataset\n",
        "CelebA dataset is imported by Kaggle. It is important that who want to run this notebook has the kaggle api file called kaggle.json\n",
        "\n",
        "This file could be downloaded from your profile on kaggle and it must be imported on this notebook using the dedicated cell."
      ]
    },
    {
      "cell_type": "code",
      "execution_count": null,
      "metadata": {
        "id": "9KJdmP-5hdcS"
      },
      "outputs": [],
      "source": [
        "!pip install timm\n",
        "!pip install grad-cam"
      ]
    },
    {
      "cell_type": "code",
      "execution_count": 2,
      "metadata": {
        "colab": {
          "base_uri": "https://localhost:8080/"
        },
        "id": "NrgpxzWxgfMH",
        "outputId": "02c4bb68-21cb-49c8-c351-6ae2bd37c151"
      },
      "outputs": [
        {
          "output_type": "stream",
          "name": "stdout",
          "text": [
            "Cloning into 'MaskTune_NN'...\n",
            "remote: Enumerating objects: 333, done.\u001b[K\n",
            "remote: Counting objects: 100% (129/129), done.\u001b[K\n",
            "remote: Compressing objects: 100% (94/94), done.\u001b[K\n",
            "remote: Total 333 (delta 69), reused 80 (delta 35), pack-reused 204\u001b[K\n",
            "Receiving objects: 100% (333/333), 31.71 MiB | 7.01 MiB/s, done.\n",
            "Resolving deltas: 100% (163/163), done.\n"
          ]
        }
      ],
      "source": [
        "#only in google colab\n",
        "!git clone https://github.com/Giordano-Cicchetti/MaskTune_NN/\n",
        "!cp MaskTune_NN/CelebA/* /content -r\n",
        "!rm MaskTune_NN/ -r"
      ]
    },
    {
      "cell_type": "code",
      "execution_count": 3,
      "metadata": {
        "colab": {
          "base_uri": "https://localhost:8080/",
          "height": 73
        },
        "id": "Ov2tiN_I76ba",
        "outputId": "41e292aa-a485-4fa5-a3b6-e883e28d7eed"
      },
      "outputs": [
        {
          "output_type": "display_data",
          "data": {
            "text/plain": [
              "<IPython.core.display.HTML object>"
            ],
            "text/html": [
              "\n",
              "     <input type=\"file\" id=\"files-d39c059c-4c2d-4b5c-b8ef-2699a8fcb369\" name=\"files[]\" multiple disabled\n",
              "        style=\"border:none\" />\n",
              "     <output id=\"result-d39c059c-4c2d-4b5c-b8ef-2699a8fcb369\">\n",
              "      Upload widget is only available when the cell has been executed in the\n",
              "      current browser session. Please rerun this cell to enable.\n",
              "      </output>\n",
              "      <script>// Copyright 2017 Google LLC\n",
              "//\n",
              "// Licensed under the Apache License, Version 2.0 (the \"License\");\n",
              "// you may not use this file except in compliance with the License.\n",
              "// You may obtain a copy of the License at\n",
              "//\n",
              "//      http://www.apache.org/licenses/LICENSE-2.0\n",
              "//\n",
              "// Unless required by applicable law or agreed to in writing, software\n",
              "// distributed under the License is distributed on an \"AS IS\" BASIS,\n",
              "// WITHOUT WARRANTIES OR CONDITIONS OF ANY KIND, either express or implied.\n",
              "// See the License for the specific language governing permissions and\n",
              "// limitations under the License.\n",
              "\n",
              "/**\n",
              " * @fileoverview Helpers for google.colab Python module.\n",
              " */\n",
              "(function(scope) {\n",
              "function span(text, styleAttributes = {}) {\n",
              "  const element = document.createElement('span');\n",
              "  element.textContent = text;\n",
              "  for (const key of Object.keys(styleAttributes)) {\n",
              "    element.style[key] = styleAttributes[key];\n",
              "  }\n",
              "  return element;\n",
              "}\n",
              "\n",
              "// Max number of bytes which will be uploaded at a time.\n",
              "const MAX_PAYLOAD_SIZE = 100 * 1024;\n",
              "\n",
              "function _uploadFiles(inputId, outputId) {\n",
              "  const steps = uploadFilesStep(inputId, outputId);\n",
              "  const outputElement = document.getElementById(outputId);\n",
              "  // Cache steps on the outputElement to make it available for the next call\n",
              "  // to uploadFilesContinue from Python.\n",
              "  outputElement.steps = steps;\n",
              "\n",
              "  return _uploadFilesContinue(outputId);\n",
              "}\n",
              "\n",
              "// This is roughly an async generator (not supported in the browser yet),\n",
              "// where there are multiple asynchronous steps and the Python side is going\n",
              "// to poll for completion of each step.\n",
              "// This uses a Promise to block the python side on completion of each step,\n",
              "// then passes the result of the previous step as the input to the next step.\n",
              "function _uploadFilesContinue(outputId) {\n",
              "  const outputElement = document.getElementById(outputId);\n",
              "  const steps = outputElement.steps;\n",
              "\n",
              "  const next = steps.next(outputElement.lastPromiseValue);\n",
              "  return Promise.resolve(next.value.promise).then((value) => {\n",
              "    // Cache the last promise value to make it available to the next\n",
              "    // step of the generator.\n",
              "    outputElement.lastPromiseValue = value;\n",
              "    return next.value.response;\n",
              "  });\n",
              "}\n",
              "\n",
              "/**\n",
              " * Generator function which is called between each async step of the upload\n",
              " * process.\n",
              " * @param {string} inputId Element ID of the input file picker element.\n",
              " * @param {string} outputId Element ID of the output display.\n",
              " * @return {!Iterable<!Object>} Iterable of next steps.\n",
              " */\n",
              "function* uploadFilesStep(inputId, outputId) {\n",
              "  const inputElement = document.getElementById(inputId);\n",
              "  inputElement.disabled = false;\n",
              "\n",
              "  const outputElement = document.getElementById(outputId);\n",
              "  outputElement.innerHTML = '';\n",
              "\n",
              "  const pickedPromise = new Promise((resolve) => {\n",
              "    inputElement.addEventListener('change', (e) => {\n",
              "      resolve(e.target.files);\n",
              "    });\n",
              "  });\n",
              "\n",
              "  const cancel = document.createElement('button');\n",
              "  inputElement.parentElement.appendChild(cancel);\n",
              "  cancel.textContent = 'Cancel upload';\n",
              "  const cancelPromise = new Promise((resolve) => {\n",
              "    cancel.onclick = () => {\n",
              "      resolve(null);\n",
              "    };\n",
              "  });\n",
              "\n",
              "  // Wait for the user to pick the files.\n",
              "  const files = yield {\n",
              "    promise: Promise.race([pickedPromise, cancelPromise]),\n",
              "    response: {\n",
              "      action: 'starting',\n",
              "    }\n",
              "  };\n",
              "\n",
              "  cancel.remove();\n",
              "\n",
              "  // Disable the input element since further picks are not allowed.\n",
              "  inputElement.disabled = true;\n",
              "\n",
              "  if (!files) {\n",
              "    return {\n",
              "      response: {\n",
              "        action: 'complete',\n",
              "      }\n",
              "    };\n",
              "  }\n",
              "\n",
              "  for (const file of files) {\n",
              "    const li = document.createElement('li');\n",
              "    li.append(span(file.name, {fontWeight: 'bold'}));\n",
              "    li.append(span(\n",
              "        `(${file.type || 'n/a'}) - ${file.size} bytes, ` +\n",
              "        `last modified: ${\n",
              "            file.lastModifiedDate ? file.lastModifiedDate.toLocaleDateString() :\n",
              "                                    'n/a'} - `));\n",
              "    const percent = span('0% done');\n",
              "    li.appendChild(percent);\n",
              "\n",
              "    outputElement.appendChild(li);\n",
              "\n",
              "    const fileDataPromise = new Promise((resolve) => {\n",
              "      const reader = new FileReader();\n",
              "      reader.onload = (e) => {\n",
              "        resolve(e.target.result);\n",
              "      };\n",
              "      reader.readAsArrayBuffer(file);\n",
              "    });\n",
              "    // Wait for the data to be ready.\n",
              "    let fileData = yield {\n",
              "      promise: fileDataPromise,\n",
              "      response: {\n",
              "        action: 'continue',\n",
              "      }\n",
              "    };\n",
              "\n",
              "    // Use a chunked sending to avoid message size limits. See b/62115660.\n",
              "    let position = 0;\n",
              "    do {\n",
              "      const length = Math.min(fileData.byteLength - position, MAX_PAYLOAD_SIZE);\n",
              "      const chunk = new Uint8Array(fileData, position, length);\n",
              "      position += length;\n",
              "\n",
              "      const base64 = btoa(String.fromCharCode.apply(null, chunk));\n",
              "      yield {\n",
              "        response: {\n",
              "          action: 'append',\n",
              "          file: file.name,\n",
              "          data: base64,\n",
              "        },\n",
              "      };\n",
              "\n",
              "      let percentDone = fileData.byteLength === 0 ?\n",
              "          100 :\n",
              "          Math.round((position / fileData.byteLength) * 100);\n",
              "      percent.textContent = `${percentDone}% done`;\n",
              "\n",
              "    } while (position < fileData.byteLength);\n",
              "  }\n",
              "\n",
              "  // All done.\n",
              "  yield {\n",
              "    response: {\n",
              "      action: 'complete',\n",
              "    }\n",
              "  };\n",
              "}\n",
              "\n",
              "scope.google = scope.google || {};\n",
              "scope.google.colab = scope.google.colab || {};\n",
              "scope.google.colab._files = {\n",
              "  _uploadFiles,\n",
              "  _uploadFilesContinue,\n",
              "};\n",
              "})(self);\n",
              "</script> "
            ]
          },
          "metadata": {}
        },
        {
          "output_type": "stream",
          "name": "stdout",
          "text": [
            "Saving kaggle.json to kaggle.json\n"
          ]
        }
      ],
      "source": [
        "from google.colab import files\n",
        "uploaded = files.upload()"
      ]
    },
    {
      "cell_type": "code",
      "execution_count": 4,
      "metadata": {
        "id": "Ez5aiqqa7_SV",
        "colab": {
          "base_uri": "https://localhost:8080/"
        },
        "outputId": "2d16bef3-2781-476c-8359-81d8437295cb"
      },
      "outputs": [
        {
          "output_type": "stream",
          "name": "stdout",
          "text": [
            "Warning: Your Kaggle API key is readable by other users on this system! To fix this, you can run 'chmod 600 /content/kaggle.json'\n",
            "Downloading celeba-dataset.zip to /content\n",
            " 99% 1.31G/1.33G [00:06<00:00, 184MB/s]\n",
            "100% 1.33G/1.33G [00:06<00:00, 205MB/s]\n"
          ]
        }
      ],
      "source": [
        "import os\n",
        "os.environ['KAGGLE_CONFIG_DIR'] = \"/content/\"\n",
        "!kaggle datasets download -d jessicali9530/celeba-dataset --force\n",
        "!chmod 600 /content/kaggle.json\n",
        "!mkdir data\n",
        "from zipfile import ZipFile\n",
        "with ZipFile('celeba-dataset.zip', 'r') as zipObj:\n",
        "   # Extract all the contents of zip file in current directory\n",
        "   zipObj.extractall(\"data\")"
      ]
    },
    {
      "cell_type": "markdown",
      "metadata": {
        "id": "lP8wCzWviiSr"
      },
      "source": [
        "MOUNT DRIVE WITH DATASET FOLDER"
      ]
    },
    {
      "cell_type": "code",
      "execution_count": 5,
      "metadata": {
        "colab": {
          "base_uri": "https://localhost:8080/"
        },
        "id": "YxyzIECwDCc_",
        "outputId": "5df9eabc-ed43-4dad-f18f-fa08395e904d"
      },
      "outputs": [
        {
          "output_type": "stream",
          "name": "stdout",
          "text": [
            "Mounted at /content/drive\n"
          ]
        }
      ],
      "source": [
        "from google.colab import drive\n",
        "drive.mount('/content/drive')"
      ]
    },
    {
      "cell_type": "code",
      "execution_count": null,
      "metadata": {
        "id": "zzmrjudzQeiJ"
      },
      "outputs": [],
      "source": [
        "!mkdir checkpoints -p\n",
        "!cp drive/MyDrive/NN_Project_GiorJac/* /content/checkpoints/ -r "
      ]
    },
    {
      "cell_type": "markdown",
      "metadata": {
        "id": "JDe_qQT8g5nw"
      },
      "source": [
        "#2. TRAIN MODEL\n"
      ]
    },
    {
      "cell_type": "code",
      "execution_count": 6,
      "metadata": {
        "colab": {
          "base_uri": "https://localhost:8080/"
        },
        "id": "i-R0bUxUhQ9y",
        "outputId": "ee4badb3-13e3-40a6-c6d5-442161dabc14"
      },
      "outputs": [
        {
          "output_type": "execute_result",
          "data": {
            "text/plain": [
              "device(type='cuda')"
            ]
          },
          "metadata": {},
          "execution_count": 6
        }
      ],
      "source": [
        "import torch\n",
        "# Device configuration\n",
        "device = torch.device('cuda' if torch.cuda.is_available() else 'cpu')\n",
        "device"
      ]
    },
    {
      "cell_type": "markdown",
      "source": [
        "The creation of the Train/Validation/Test datasets and corrispondent dataloaders is done in the constructor of the class Train_CelebA. The code can be explored in the files of our GitHub repository CelebA/TrainCelebA.py and CelebA/CelebA.py "
      ],
      "metadata": {
        "id": "ZtUF6mUADtd2"
      }
    },
    {
      "cell_type": "code",
      "execution_count": 7,
      "metadata": {
        "colab": {
          "base_uri": "https://localhost:8080/"
        },
        "id": "MVTui7lug_Jn",
        "outputId": "6962c541-d296-4693-ca4c-ac59d9a7035a"
      },
      "outputs": [
        {
          "output_type": "stream",
          "name": "stderr",
          "text": [
            "Downloading: \"https://github.com/rwightman/pytorch-image-models/releases/download/v0.1-rsb-weights/resnet50_a1_0-14fe96d1.pth\" to /root/.cache/torch/hub/checkpoints/resnet50_a1_0-14fe96d1.pth\n",
            "/usr/local/lib/python3.8/dist-packages/torchvision/transforms/transforms.py:899: UserWarning: Argument 'interpolation' of type int is deprecated since 0.13 and will be removed in 0.15. Please use InterpolationMode enum.\n",
            "  warnings.warn(\n"
          ]
        },
        {
          "output_type": "stream",
          "name": "stdout",
          "text": [
            "\n",
            "\n",
            "start creating and saving train dataset of CelebA\n",
            "\n",
            "\n",
            "---------- indexing train data ----------\n"
          ]
        },
        {
          "output_type": "stream",
          "name": "stderr",
          "text": [
            "100%|██████████| 202599/202599 [00:21<00:00, 9407.11it/s] \n"
          ]
        },
        {
          "output_type": "stream",
          "name": "stdout",
          "text": [
            "\n",
            "\n",
            "finished creating and saving train dataset of CelebA\n",
            "\n",
            "\n",
            "\n",
            "\n",
            "start creating and saving valid dataset of CelebA\n",
            "\n",
            "\n",
            "---------- indexing valid data ----------\n"
          ]
        },
        {
          "output_type": "stream",
          "name": "stderr",
          "text": [
            "100%|██████████| 202599/202599 [00:02<00:00, 81055.16it/s]  \n"
          ]
        },
        {
          "output_type": "stream",
          "name": "stdout",
          "text": [
            "\n",
            "\n",
            "finished creating and saving valid dataset of CelebA\n",
            "\n",
            "\n",
            "\n",
            "\n",
            "start creating and saving test dataset of CelebA\n",
            "\n",
            "\n",
            "---------- indexing test data ----------\n"
          ]
        },
        {
          "output_type": "stream",
          "name": "stderr",
          "text": [
            "100%|██████████| 202599/202599 [00:02<00:00, 83042.23it/s]  "
          ]
        },
        {
          "output_type": "stream",
          "name": "stdout",
          "text": [
            "\n",
            "\n",
            "finished creating and saving test dataset of CelebA\n",
            "\n",
            "\n"
          ]
        },
        {
          "output_type": "stream",
          "name": "stderr",
          "text": [
            "\n"
          ]
        }
      ],
      "source": [
        "from TrainCelebA import *\n",
        "Train_CelebA=CelebATrain(device=device)"
      ]
    },
    {
      "cell_type": "markdown",
      "source": [
        "We are ready to train a model that will accomplish the task of classify the color of the hair of the subjects inside images.\n",
        ">The model used is a Pretrained ResNet50\n",
        "We put the code of the model inside this notebook only for completeness. The same code is stored inside the file CelebA/model.py and it is referenced by the constructor of the class Train_CelebA.\n",
        "<br>It is the same architecture used by the authors of the paper. Our goal is to achieve the same results using the same architecture.\n",
        "\n",
        ">As optimizer we use SGD with a momentum of 0.9, weight decay of 1e-4 and learning rate of 1e-4."
      ],
      "metadata": {
        "id": "D_LAI0dEEgw6"
      }
    },
    {
      "cell_type": "code",
      "source": [
        "import torch.nn as nn\n",
        "import timm\n",
        "#`timm` is a deep-learning library and a collection of SOTA computer vision models,\n",
        "# layers, utilities, optimizers, schedulers, data-loaders, augmentations and also training/validating \n",
        "# scripts with ability to reproduce ImageNet training results.\n",
        "\n",
        "#From Timm we import a pretrained resnet50. Pretrained on ImageNet\n",
        "class ResNet50(nn.Module):\n",
        "    def __init__(self, pretrained=False, num_classes=9):\n",
        "        super().__init__()\n",
        "        self.model = timm.create_model('resnet50', pretrained=pretrained, num_classes=num_classes)\n",
        "        \n",
        "    def get_grad_cam_target_layer(self):\n",
        "        return self.model.layer4[-1]\n",
        "\n",
        "    def forward(self, x):\n",
        "        return self.model(x)"
      ],
      "metadata": {
        "id": "N-FZkitXFR4u"
      },
      "execution_count": null,
      "outputs": []
    },
    {
      "cell_type": "markdown",
      "source": [
        "This model has been finetuned for 20 epoch over the CelebA train dataset.\n",
        "\n",
        "The code of the training routine can be analized in the CelebA/TrainCelebA.py file."
      ],
      "metadata": {
        "id": "0zpfi9ekFcnS"
      }
    },
    {
      "cell_type": "code",
      "execution_count": null,
      "metadata": {
        "id": "zyAHATSLiY4_",
        "colab": {
          "base_uri": "https://localhost:8080/"
        },
        "outputId": "cc8baeae-6977-45e0-f420-0218fc19827a"
      },
      "outputs": [
        {
          "output_type": "stream",
          "name": "stderr",
          "text": [
            "train epoch 0: 100%|██████████| 1272/1272 [27:56<00:00,  1.32s/it, loss=0.414, accuracy=0.85]\n",
            "validation epoch 0: 100%|██████████| 156/156 [01:09<00:00,  2.24it/s, loss=0.383, accuracy=0.846]\n",
            "train epoch 1: 100%|██████████| 1272/1272 [27:40<00:00,  1.31s/it, loss=0.349, accuracy=0.851]\n",
            "validation epoch 1: 100%|██████████| 156/156 [01:08<00:00,  2.27it/s, loss=0.333, accuracy=0.847]\n",
            "train epoch 2: 100%|██████████| 1272/1272 [27:38<00:00,  1.30s/it, loss=0.307, accuracy=0.857]\n",
            "validation epoch 2: 100%|██████████| 156/156 [01:09<00:00,  2.25it/s, loss=0.294, accuracy=0.863]\n",
            "train epoch 3: 100%|██████████| 1272/1272 [27:39<00:00,  1.30s/it, loss=0.273, accuracy=0.879]\n",
            "validation epoch 3: 100%|██████████| 156/156 [01:10<00:00,  2.20it/s, loss=0.263, accuracy=0.894]\n",
            "train epoch 4: 100%|██████████| 1272/1272 [27:38<00:00,  1.30s/it, loss=0.245, accuracy=0.9]\n",
            "validation epoch 4: 100%|██████████| 156/156 [01:09<00:00,  2.25it/s, loss=0.237, accuracy=0.907]\n",
            "train epoch 5: 100%|██████████| 1272/1272 [27:39<00:00,  1.30s/it, loss=0.225, accuracy=0.912]\n",
            "validation epoch 5: 100%|██████████| 156/156 [01:09<00:00,  2.23it/s, loss=0.218, accuracy=0.916]\n",
            "train epoch 6: 100%|██████████| 1272/1272 [27:39<00:00,  1.30s/it, loss=0.21, accuracy=0.919]\n",
            "validation epoch 6: 100%|██████████| 156/156 [01:08<00:00,  2.27it/s, loss=0.205, accuracy=0.921]\n",
            "train epoch 7:  76%|███████▌  | 966/1272 [21:01<06:40,  1.31s/it, loss=0.201, accuracy=0.923]"
          ]
        }
      ],
      "source": [
        "Train_CelebA.train_erm(epochs=20)"
      ]
    },
    {
      "cell_type": "code",
      "source": [
        "Train_CelebA.train_erm(last_resume_checkpoint_path=\"drive/MyDrive/last_erm_model.pt\",best_resume_checkpoint_path=\"drive/MyDrive/last_erm_model.pt\")"
      ],
      "metadata": {
        "colab": {
          "base_uri": "https://localhost:8080/",
          "height": 693
        },
        "id": "KgjRBQtlnSCJ",
        "outputId": "f4b4ff56-14bf-4395-e180-316bf5691ca1"
      },
      "execution_count": null,
      "outputs": [
        {
          "output_type": "stream",
          "name": "stderr",
          "text": [
            "train epoch 6: 100%|██████████| 1272/1272 [25:58<00:00,  1.22s/it, loss=0.209, accuracy=0.919]\n",
            "validation epoch 6: 100%|██████████| 156/156 [01:09<00:00,  2.24it/s, loss=0.205, accuracy=0.921]\n",
            "train epoch 7: 100%|██████████| 1272/1272 [25:48<00:00,  1.22s/it, loss=0.198, accuracy=0.924]\n",
            "validation epoch 7: 100%|██████████| 156/156 [01:10<00:00,  2.23it/s, loss=0.196, accuracy=0.924]\n",
            "train epoch 8: 100%|██████████| 1272/1272 [25:48<00:00,  1.22s/it, loss=0.189, accuracy=0.927]\n",
            "validation epoch 8: 100%|██████████| 156/156 [01:11<00:00,  2.18it/s, loss=0.189, accuracy=0.926]\n",
            "train epoch 9: 100%|██████████| 1272/1272 [25:48<00:00,  1.22s/it, loss=0.183, accuracy=0.929]\n",
            "validation epoch 9: 100%|██████████| 156/156 [01:10<00:00,  2.22it/s, loss=0.184, accuracy=0.928]\n",
            "train epoch 10: 100%|██████████| 1272/1272 [25:49<00:00,  1.22s/it, loss=0.179, accuracy=0.93]\n",
            "validation epoch 10: 100%|██████████| 156/156 [01:11<00:00,  2.19it/s, loss=0.18, accuracy=0.93]\n",
            "train epoch 11: 100%|██████████| 1272/1272 [25:49<00:00,  1.22s/it, loss=0.176, accuracy=0.931]\n",
            "validation epoch 11: 100%|██████████| 156/156 [01:10<00:00,  2.21it/s, loss=0.176, accuracy=0.931]\n",
            "train epoch 12: 100%|██████████| 1272/1272 [25:48<00:00,  1.22s/it, loss=0.173, accuracy=0.932]\n",
            "validation epoch 12: 100%|██████████| 156/156 [01:09<00:00,  2.24it/s, loss=0.173, accuracy=0.932]\n",
            "train epoch 13: 100%|██████████| 1272/1272 [25:48<00:00,  1.22s/it, loss=0.17, accuracy=0.933]\n",
            "validation epoch 13: 100%|██████████| 156/156 [01:08<00:00,  2.26it/s, loss=0.17, accuracy=0.933]\n",
            "train epoch 14: 100%|██████████| 1272/1272 [25:48<00:00,  1.22s/it, loss=0.168, accuracy=0.934]\n",
            "validation epoch 14: 100%|██████████| 156/156 [01:08<00:00,  2.27it/s, loss=0.17, accuracy=0.933]\n",
            "train epoch 15: 100%|██████████| 1272/1272 [25:49<00:00,  1.22s/it, loss=0.166, accuracy=0.934]\n",
            "validation epoch 15: 100%|██████████| 156/156 [01:09<00:00,  2.25it/s, loss=0.166, accuracy=0.935]\n",
            "train epoch 16:   0%|          | 1/1272 [00:02<47:14,  2.23s/it, loss=0.192, accuracy=0.914]\n"
          ]
        },
        {
          "output_type": "error",
          "ename": "KeyboardInterrupt",
          "evalue": "ignored",
          "traceback": [
            "\u001b[0;31m---------------------------------------------------------------------------\u001b[0m",
            "\u001b[0;31mKeyboardInterrupt\u001b[0m                         Traceback (most recent call last)",
            "\u001b[0;32m<ipython-input-8-608cda631cbe>\u001b[0m in \u001b[0;36m<module>\u001b[0;34m\u001b[0m\n\u001b[0;32m----> 1\u001b[0;31m \u001b[0mTrain_CelebA\u001b[0m\u001b[0;34m.\u001b[0m\u001b[0mtrain_erm\u001b[0m\u001b[0;34m(\u001b[0m\u001b[0mlast_resume_checkpoint_path\u001b[0m\u001b[0;34m=\u001b[0m\u001b[0;34m\"drive/MyDrive/last_erm_model.pt\"\u001b[0m\u001b[0;34m,\u001b[0m\u001b[0mbest_resume_checkpoint_path\u001b[0m\u001b[0;34m=\u001b[0m\u001b[0;34m\"drive/MyDrive/last_erm_model.pt\"\u001b[0m\u001b[0;34m)\u001b[0m\u001b[0;34m\u001b[0m\u001b[0;34m\u001b[0m\u001b[0m\n\u001b[0m",
            "\u001b[0;32m/content/TrainCelebA.py\u001b[0m in \u001b[0;36mtrain_erm\u001b[0;34m(self, epochs, resume, best_resume_checkpoint_path, last_resume_checkpoint_path)\u001b[0m\n\u001b[1;32m    251\u001b[0m             \u001b[0mself\u001b[0m\u001b[0;34m.\u001b[0m\u001b[0mcurrent_epoch\u001b[0m \u001b[0;34m=\u001b[0m \u001b[0mcurrent_epoch\u001b[0m\u001b[0;34m\u001b[0m\u001b[0;34m\u001b[0m\u001b[0m\n\u001b[1;32m    252\u001b[0m             \u001b[0;31m#Run a train epoch\u001b[0m\u001b[0;34m\u001b[0m\u001b[0;34m\u001b[0m\u001b[0;34m\u001b[0m\u001b[0m\n\u001b[0;32m--> 253\u001b[0;31m             self.run_an_epoch(\n\u001b[0m\u001b[1;32m    254\u001b[0m                 data_loader=self.train_loader, epoch=current_epoch, mode=\"train\",device=self.device)\n\u001b[1;32m    255\u001b[0m             \u001b[0;31m#Run a validation epoch and save the validation accuracy\u001b[0m\u001b[0;34m\u001b[0m\u001b[0;34m\u001b[0m\u001b[0;34m\u001b[0m\u001b[0m\n",
            "\u001b[0;32m/content/TrainCelebA.py\u001b[0m in \u001b[0;36mrun_an_epoch\u001b[0;34m(self, data_loader, epoch, mode, device)\u001b[0m\n\u001b[1;32m    216\u001b[0m                     \u001b[0mself\u001b[0m\u001b[0;34m.\u001b[0m\u001b[0moptimizer\u001b[0m\u001b[0;34m.\u001b[0m\u001b[0mzero_grad\u001b[0m\u001b[0;34m(\u001b[0m\u001b[0;34m)\u001b[0m\u001b[0;34m\u001b[0m\u001b[0;34m\u001b[0m\u001b[0m\n\u001b[1;32m    217\u001b[0m                     \u001b[0mloss\u001b[0m\u001b[0;34m.\u001b[0m\u001b[0mbackward\u001b[0m\u001b[0;34m(\u001b[0m\u001b[0;34m)\u001b[0m\u001b[0;34m\u001b[0m\u001b[0;34m\u001b[0m\u001b[0m\n\u001b[0;32m--> 218\u001b[0;31m                     \u001b[0mself\u001b[0m\u001b[0;34m.\u001b[0m\u001b[0moptimizer\u001b[0m\u001b[0;34m.\u001b[0m\u001b[0mstep\u001b[0m\u001b[0;34m(\u001b[0m\u001b[0;34m)\u001b[0m\u001b[0;34m\u001b[0m\u001b[0;34m\u001b[0m\u001b[0m\n\u001b[0m\u001b[1;32m    219\u001b[0m \u001b[0;34m\u001b[0m\u001b[0m\n\u001b[1;32m    220\u001b[0m                 progress_bar.set_postfix(\n",
            "\u001b[0;32m/usr/local/lib/python3.8/dist-packages/torch/optim/optimizer.py\u001b[0m in \u001b[0;36mwrapper\u001b[0;34m(*args, **kwargs)\u001b[0m\n\u001b[1;32m    138\u001b[0m                 \u001b[0mprofile_name\u001b[0m \u001b[0;34m=\u001b[0m \u001b[0;34m\"Optimizer.step#{}.step\"\u001b[0m\u001b[0;34m.\u001b[0m\u001b[0mformat\u001b[0m\u001b[0;34m(\u001b[0m\u001b[0mobj\u001b[0m\u001b[0;34m.\u001b[0m\u001b[0m__class__\u001b[0m\u001b[0;34m.\u001b[0m\u001b[0m__name__\u001b[0m\u001b[0;34m)\u001b[0m\u001b[0;34m\u001b[0m\u001b[0;34m\u001b[0m\u001b[0m\n\u001b[1;32m    139\u001b[0m                 \u001b[0;32mwith\u001b[0m \u001b[0mtorch\u001b[0m\u001b[0;34m.\u001b[0m\u001b[0mautograd\u001b[0m\u001b[0;34m.\u001b[0m\u001b[0mprofiler\u001b[0m\u001b[0;34m.\u001b[0m\u001b[0mrecord_function\u001b[0m\u001b[0;34m(\u001b[0m\u001b[0mprofile_name\u001b[0m\u001b[0;34m)\u001b[0m\u001b[0;34m:\u001b[0m\u001b[0;34m\u001b[0m\u001b[0;34m\u001b[0m\u001b[0m\n\u001b[0;32m--> 140\u001b[0;31m                     \u001b[0mout\u001b[0m \u001b[0;34m=\u001b[0m \u001b[0mfunc\u001b[0m\u001b[0;34m(\u001b[0m\u001b[0;34m*\u001b[0m\u001b[0margs\u001b[0m\u001b[0;34m,\u001b[0m \u001b[0;34m**\u001b[0m\u001b[0mkwargs\u001b[0m\u001b[0;34m)\u001b[0m\u001b[0;34m\u001b[0m\u001b[0;34m\u001b[0m\u001b[0m\n\u001b[0m\u001b[1;32m    141\u001b[0m                     \u001b[0mobj\u001b[0m\u001b[0;34m.\u001b[0m\u001b[0m_optimizer_step_code\u001b[0m\u001b[0;34m(\u001b[0m\u001b[0;34m)\u001b[0m\u001b[0;34m\u001b[0m\u001b[0;34m\u001b[0m\u001b[0m\n\u001b[1;32m    142\u001b[0m                     \u001b[0;32mreturn\u001b[0m \u001b[0mout\u001b[0m\u001b[0;34m\u001b[0m\u001b[0;34m\u001b[0m\u001b[0m\n",
            "\u001b[0;32m/usr/local/lib/python3.8/dist-packages/torch/optim/optimizer.py\u001b[0m in \u001b[0;36m_use_grad\u001b[0;34m(self, *args, **kwargs)\u001b[0m\n\u001b[1;32m     21\u001b[0m         \u001b[0;32mtry\u001b[0m\u001b[0;34m:\u001b[0m\u001b[0;34m\u001b[0m\u001b[0;34m\u001b[0m\u001b[0m\n\u001b[1;32m     22\u001b[0m             \u001b[0mtorch\u001b[0m\u001b[0;34m.\u001b[0m\u001b[0mset_grad_enabled\u001b[0m\u001b[0;34m(\u001b[0m\u001b[0mself\u001b[0m\u001b[0;34m.\u001b[0m\u001b[0mdefaults\u001b[0m\u001b[0;34m[\u001b[0m\u001b[0;34m'differentiable'\u001b[0m\u001b[0;34m]\u001b[0m\u001b[0;34m)\u001b[0m\u001b[0;34m\u001b[0m\u001b[0;34m\u001b[0m\u001b[0m\n\u001b[0;32m---> 23\u001b[0;31m             \u001b[0mret\u001b[0m \u001b[0;34m=\u001b[0m \u001b[0mfunc\u001b[0m\u001b[0;34m(\u001b[0m\u001b[0mself\u001b[0m\u001b[0;34m,\u001b[0m \u001b[0;34m*\u001b[0m\u001b[0margs\u001b[0m\u001b[0;34m,\u001b[0m \u001b[0;34m**\u001b[0m\u001b[0mkwargs\u001b[0m\u001b[0;34m)\u001b[0m\u001b[0;34m\u001b[0m\u001b[0;34m\u001b[0m\u001b[0m\n\u001b[0m\u001b[1;32m     24\u001b[0m         \u001b[0;32mfinally\u001b[0m\u001b[0;34m:\u001b[0m\u001b[0;34m\u001b[0m\u001b[0;34m\u001b[0m\u001b[0m\n\u001b[1;32m     25\u001b[0m             \u001b[0mtorch\u001b[0m\u001b[0;34m.\u001b[0m\u001b[0mset_grad_enabled\u001b[0m\u001b[0;34m(\u001b[0m\u001b[0mprev_grad\u001b[0m\u001b[0;34m)\u001b[0m\u001b[0;34m\u001b[0m\u001b[0;34m\u001b[0m\u001b[0m\n",
            "\u001b[0;32m/usr/local/lib/python3.8/dist-packages/torch/optim/sgd.py\u001b[0m in \u001b[0;36mstep\u001b[0;34m(self, closure)\u001b[0m\n\u001b[1;32m    149\u001b[0m                         \u001b[0mmomentum_buffer_list\u001b[0m\u001b[0;34m.\u001b[0m\u001b[0mappend\u001b[0m\u001b[0;34m(\u001b[0m\u001b[0mstate\u001b[0m\u001b[0;34m[\u001b[0m\u001b[0;34m'momentum_buffer'\u001b[0m\u001b[0;34m]\u001b[0m\u001b[0;34m)\u001b[0m\u001b[0;34m\u001b[0m\u001b[0;34m\u001b[0m\u001b[0m\n\u001b[1;32m    150\u001b[0m \u001b[0;34m\u001b[0m\u001b[0m\n\u001b[0;32m--> 151\u001b[0;31m             sgd(params_with_grad,\n\u001b[0m\u001b[1;32m    152\u001b[0m                 \u001b[0md_p_list\u001b[0m\u001b[0;34m,\u001b[0m\u001b[0;34m\u001b[0m\u001b[0;34m\u001b[0m\u001b[0m\n\u001b[1;32m    153\u001b[0m                 \u001b[0mmomentum_buffer_list\u001b[0m\u001b[0;34m,\u001b[0m\u001b[0;34m\u001b[0m\u001b[0;34m\u001b[0m\u001b[0m\n",
            "\u001b[0;32m/usr/local/lib/python3.8/dist-packages/torch/optim/sgd.py\u001b[0m in \u001b[0;36msgd\u001b[0;34m(params, d_p_list, momentum_buffer_list, has_sparse_grad, foreach, weight_decay, momentum, lr, dampening, nesterov, maximize)\u001b[0m\n\u001b[1;32m    200\u001b[0m         \u001b[0mfunc\u001b[0m \u001b[0;34m=\u001b[0m \u001b[0m_single_tensor_sgd\u001b[0m\u001b[0;34m\u001b[0m\u001b[0;34m\u001b[0m\u001b[0m\n\u001b[1;32m    201\u001b[0m \u001b[0;34m\u001b[0m\u001b[0m\n\u001b[0;32m--> 202\u001b[0;31m     func(params,\n\u001b[0m\u001b[1;32m    203\u001b[0m          \u001b[0md_p_list\u001b[0m\u001b[0;34m,\u001b[0m\u001b[0;34m\u001b[0m\u001b[0;34m\u001b[0m\u001b[0m\n\u001b[1;32m    204\u001b[0m          \u001b[0mmomentum_buffer_list\u001b[0m\u001b[0;34m,\u001b[0m\u001b[0;34m\u001b[0m\u001b[0;34m\u001b[0m\u001b[0m\n",
            "\u001b[0;32m/usr/local/lib/python3.8/dist-packages/torch/optim/sgd.py\u001b[0m in \u001b[0;36m_single_tensor_sgd\u001b[0;34m(params, d_p_list, momentum_buffer_list, weight_decay, momentum, lr, dampening, nesterov, maximize, has_sparse_grad)\u001b[0m\n\u001b[1;32m    236\u001b[0m                 \u001b[0mmomentum_buffer_list\u001b[0m\u001b[0;34m[\u001b[0m\u001b[0mi\u001b[0m\u001b[0;34m]\u001b[0m \u001b[0;34m=\u001b[0m \u001b[0mbuf\u001b[0m\u001b[0;34m\u001b[0m\u001b[0;34m\u001b[0m\u001b[0m\n\u001b[1;32m    237\u001b[0m             \u001b[0;32melse\u001b[0m\u001b[0;34m:\u001b[0m\u001b[0;34m\u001b[0m\u001b[0;34m\u001b[0m\u001b[0m\n\u001b[0;32m--> 238\u001b[0;31m                 \u001b[0mbuf\u001b[0m\u001b[0;34m.\u001b[0m\u001b[0mmul_\u001b[0m\u001b[0;34m(\u001b[0m\u001b[0mmomentum\u001b[0m\u001b[0;34m)\u001b[0m\u001b[0;34m.\u001b[0m\u001b[0madd_\u001b[0m\u001b[0;34m(\u001b[0m\u001b[0md_p\u001b[0m\u001b[0;34m,\u001b[0m \u001b[0malpha\u001b[0m\u001b[0;34m=\u001b[0m\u001b[0;36m1\u001b[0m \u001b[0;34m-\u001b[0m \u001b[0mdampening\u001b[0m\u001b[0;34m)\u001b[0m\u001b[0;34m\u001b[0m\u001b[0;34m\u001b[0m\u001b[0m\n\u001b[0m\u001b[1;32m    239\u001b[0m \u001b[0;34m\u001b[0m\u001b[0m\n\u001b[1;32m    240\u001b[0m             \u001b[0;32mif\u001b[0m \u001b[0mnesterov\u001b[0m\u001b[0;34m:\u001b[0m\u001b[0;34m\u001b[0m\u001b[0;34m\u001b[0m\u001b[0m\n",
            "\u001b[0;31mKeyboardInterrupt\u001b[0m: "
          ]
        }
      ]
    },
    {
      "cell_type": "code",
      "source": [
        "Train_CelebA.train_erm(last_resume_checkpoint_path=\"drive/MyDrive/last_erm_model.pt\",best_resume_checkpoint_path=\"drive/MyDrive/last_erm_model.pt\")"
      ],
      "metadata": {
        "colab": {
          "base_uri": "https://localhost:8080/"
        },
        "id": "ExxeJi1Zmidx",
        "outputId": "07b6c45d-128d-4785-9663-9aa26a191d1d"
      },
      "execution_count": 8,
      "outputs": [
        {
          "output_type": "stream",
          "name": "stderr",
          "text": [
            "train epoch 16: 100%|██████████| 1272/1272 [25:48<00:00,  1.22s/it, loss=0.164, accuracy=0.935]\n",
            "validation epoch 16: 100%|██████████| 156/156 [01:11<00:00,  2.19it/s, loss=0.165, accuracy=0.936]\n",
            "train epoch 17: 100%|██████████| 1272/1272 [25:41<00:00,  1.21s/it, loss=0.162, accuracy=0.937]\n",
            "validation epoch 17: 100%|██████████| 156/156 [01:10<00:00,  2.22it/s, loss=0.163, accuracy=0.937]\n",
            "train epoch 18: 100%|██████████| 1272/1272 [25:40<00:00,  1.21s/it, loss=0.161, accuracy=0.936]\n",
            "validation epoch 18: 100%|██████████| 156/156 [01:09<00:00,  2.24it/s, loss=0.162, accuracy=0.937]\n",
            "train epoch 19: 100%|██████████| 1272/1272 [25:42<00:00,  1.21s/it, loss=0.159, accuracy=0.937]\n",
            "validation epoch 19: 100%|██████████| 156/156 [01:09<00:00,  2.25it/s, loss=0.162, accuracy=0.938]\n"
          ]
        }
      ]
    },
    {
      "cell_type": "markdown",
      "source": [
        "After the training phase we can evaluate the model over the test dataset.\n",
        "We calculate the accuracy of the model in this four possible scenarios:\n",
        ">Group 1: female with non-blonde hair; Accuracy 95.9%\n",
        "\n",
        ">Group 2: female with blonde hair; Accuracy 75.9%\n",
        "\n",
        ">Group 3: male with non-blonde hair; Accuracy 99.6%\n",
        "\n",
        ">Group 4: male with blonde hair; Accuracy 22.2%\n",
        "\n",
        "As we can see the accuracy on the fourth group is very low; This beacuse the model associate with high probability male to non-blonde hair.\n"
      ],
      "metadata": {
        "id": "0FFDuaV-iLZz"
      }
    },
    {
      "cell_type": "code",
      "execution_count": 9,
      "metadata": {
        "colab": {
          "base_uri": "https://localhost:8080/"
        },
        "id": "YHz8KaA3Q9pr",
        "outputId": "24427033-0560-4121-8d46-bb10e1bd1811"
      },
      "outputs": [
        {
          "output_type": "stream",
          "name": "stdout",
          "text": [
            "----------testing the model----------\n"
          ]
        },
        {
          "output_type": "stream",
          "name": "stderr",
          "text": [
            "Test epoch 19: 100%|██████████| 156/156 [01:11<00:00,  2.17it/s, loss=0.147]\n"
          ]
        },
        {
          "output_type": "stream",
          "name": "stdout",
          "text": [
            "accuracy of group 1: 0.9593529231084263\n",
            "accuracy of group 2: 0.7596774193548387\n",
            "accuracy of group 3: 0.9961512939615129\n",
            "accuracy of group 4: 0.2222222222222222\n",
            "average accuracy: 0.9417893998597335\n",
            "----------Test accuracy =0.2222222222222222----------\n"
          ]
        }
      ],
      "source": [
        "Train_CelebA.test(Train_CelebA.test_loader,\"best_erm_model.pt\")"
      ]
    },
    {
      "cell_type": "markdown",
      "source": [
        "As just illustrated in others notebooks we apply the finetune function;\n",
        "The training data are masked using the best trained model and then the last model is finetuned with a single epoch using the masked dataset."
      ],
      "metadata": {
        "id": "gmHrCYOTj439"
      }
    },
    {
      "cell_type": "code",
      "execution_count": 10,
      "metadata": {
        "colab": {
          "base_uri": "https://localhost:8080/"
        },
        "id": "XYlp_Gakk4GK",
        "outputId": "24131d95-d251-4351-f92b-da8a24ab24ff"
      },
      "outputs": [
        {
          "output_type": "stream",
          "name": "stderr",
          "text": [
            "100%|██████████| 1272/1272 [24:32<00:00,  1.16s/it]\n"
          ]
        },
        {
          "output_type": "stream",
          "name": "stdout",
          "text": [
            "---------- indexing Masked data ----------\n"
          ]
        },
        {
          "output_type": "stream",
          "name": "stderr",
          "text": [
            "100%|██████████| 2/2 [00:00<00:00,  5.92it/s]\n",
            "train epoch 20: 100%|██████████| 1272/1272 [25:43<00:00,  1.21s/it, loss=0.17, accuracy=0.93]\n",
            "validation epoch 20: 100%|██████████| 156/156 [01:11<00:00,  2.18it/s, loss=0.173, accuracy=0.932]\n"
          ]
        }
      ],
      "source": [
        "def finetune(best_resume_checkpoint_path: str=None, last_resume_checkpoint_path: str=None) -> None:\n",
        "  \n",
        "  if(best_resume_checkpoint_path!=None and last_resume_checkpoint_path!=None):\n",
        "    #Mask the data\n",
        "    Train_CelebA.mask_data(Train_CelebA.train_loader,best_resume_checkpoint_path)\n",
        "    #Load the model\n",
        "    checkpoint = torch.load(last_resume_checkpoint_path)\n",
        "    Train_CelebA.model.load_state_dict(checkpoint['model_state_dict'])\n",
        "    Train_CelebA.optimizer.load_state_dict(checkpoint['optimizer_state_dict'])\n",
        "    resume_epoch = checkpoint['epoch'] + 1\n",
        "\n",
        "    #Run a training epoch using the masked dataset\n",
        "    Train_CelebA.run_an_epoch(data_loader=Train_CelebA.masked_loader,epoch=resume_epoch,mode=\"train\",device=Train_CelebA.device)\n",
        "    val_accuracy = Train_CelebA.run_an_epoch(\n",
        "        data_loader=Train_CelebA.val_loader, epoch=resume_epoch, mode=\"validation\",device=Train_CelebA.device\n",
        "    )\n",
        "    #Save the finetuned model\n",
        "    torch.save({\n",
        "                'epoch': resume_epoch,\n",
        "                'model_state_dict': Train_CelebA.model.state_dict(),\n",
        "                'optimizer_state_dict': Train_CelebA.optimizer.state_dict(),\n",
        "                'accuracy' : val_accuracy,\n",
        "                }, \"masked_erm_model.pt\")\n",
        "    \n",
        "\n",
        "finetune(best_resume_checkpoint_path=\"best_erm_model.pt\",last_resume_checkpoint_path=\"last_erm_model.pt\")"
      ]
    },
    {
      "cell_type": "markdown",
      "source": [
        "Final tests show that this methodology is able to increase the accuracy on the worst/s groups.\n",
        "We can take as example group 2 where the accuracy goes from 75% to 83%\n",
        "And group 4 where the accuracy goes from 22.2% to 27.2%\n",
        "\n",
        "Unfortunately,even if we notice improvements with the finetune function, in this dataset we are not able to match the accuracy mentioned in the paper: 78.0% on the worst group.\n"
      ],
      "metadata": {
        "id": "e643ZgpwlVat"
      }
    },
    {
      "cell_type": "code",
      "execution_count": 11,
      "metadata": {
        "colab": {
          "base_uri": "https://localhost:8080/"
        },
        "id": "QMtaNsco4Cqo",
        "outputId": "4096597f-bfb8-4571-c6c4-a789f9d0bea4"
      },
      "outputs": [
        {
          "output_type": "stream",
          "name": "stdout",
          "text": [
            "----------testing the model----------\n"
          ]
        },
        {
          "output_type": "stream",
          "name": "stderr",
          "text": [
            "Test epoch 20: 100%|██████████| 156/156 [01:10<00:00,  2.20it/s, loss=0.154]"
          ]
        },
        {
          "output_type": "stream",
          "name": "stdout",
          "text": [
            "accuracy of group 1: 0.9380567216135968\n",
            "accuracy of group 2: 0.8379032258064516\n",
            "accuracy of group 3: 0.9930988719309887\n",
            "accuracy of group 4: 0.2722222222222222\n",
            "average accuracy: 0.9403867347961126\n",
            "----------Test accuracy =0.2722222222222222----------\n"
          ]
        },
        {
          "output_type": "stream",
          "name": "stderr",
          "text": [
            "\n"
          ]
        }
      ],
      "source": [
        "Train_CelebA.test(Train_CelebA.test_loader,\"masked_erm_model.pt\")"
      ]
    },
    {
      "cell_type": "code",
      "source": [
        "import numpy as np\n",
        "from pytorch_grad_cam import XGradCAM\n",
        "import matplotlib.pyplot as plt\n",
        "\n",
        "\n",
        "checkpoint = torch.load(\"best_erm_model.pt\")\n",
        "Train_CelebA.model.load_state_dict(checkpoint['model_state_dict'])\n",
        "heat_map_generator = XGradCAM(\n",
        "        model= Train_CelebA.model,\n",
        "        target_layers=[Train_CelebA.model.get_grad_cam_target_layer()],\n",
        "        use_cuda=True,\n",
        "    )\n",
        "fig, axs = plt.subplots(1, 5,figsize=(24, 10))\n",
        "image=Train_CelebA.train_dataset[11][0]\n",
        "axs[0].imshow(image.permute(1,2,0))\n",
        "axs[0].set_title(\"Train Image\")\n",
        "image= torch.unsqueeze(image,0)\n",
        "image= image.to(device)\n",
        "hm = heat_map_generator(image)\n",
        "axs[1].imshow(hm[0])\n",
        "axs[1].set_title(\"Image HeatMap\")\n",
        "mask_mean_value = np.nanmean(np.where(hm > 0, hm, np.nan), axis=(1, 2))[:, None, None]\n",
        "mask_std_value = np.nanstd(np.where(hm > 0, hm, np.nan), axis=(1, 2))[:, None, None]\n",
        "mask_threshold_value = mask_mean_value + 2 * mask_std_value\n",
        "mask = np.where(hm > mask_threshold_value, 0, 1)\n",
        "axs[2].imshow(mask[0])\n",
        "axs[2].set_title(\"Image Mask\")\n",
        "masked_img=(image[0].cpu()*mask)\n",
        "axs[3].imshow(masked_img.permute(1,2,0))\n",
        "axs[3].set_title(\"Masked Image\")\n",
        "checkpoint = torch.load(\"masked_erm_model.pt\")\n",
        "Train_CelebA.model.load_state_dict(checkpoint['model_state_dict'])\n",
        "heat_map_generator = XGradCAM(\n",
        "        model= Train_CelebA.model,\n",
        "        target_layers=[Train_CelebA.model.get_grad_cam_target_layer()],\n",
        "        use_cuda=True,\n",
        "    )\n",
        "masked_image= torch.unsqueeze(masked_img,0)\n",
        "masked_image= masked_image.to(device)\n",
        "masked_image_hm = heat_map_generator(masked_image.float())\n",
        "axs[4].imshow(masked_image_hm[0])\n",
        "axs[4].set_title(\"HeatMap after mask application\")"
      ],
      "metadata": {
        "colab": {
          "base_uri": "https://localhost:8080/",
          "height": 347
        },
        "id": "pFhLB9cdm6HC",
        "outputId": "8319407a-de9a-4dd7-a04c-211616c67512"
      },
      "execution_count": 20,
      "outputs": [
        {
          "output_type": "stream",
          "name": "stderr",
          "text": [
            "WARNING:matplotlib.image:Clipping input data to the valid range for imshow with RGB data ([0..1] for floats or [0..255] for integers).\n",
            "WARNING:matplotlib.image:Clipping input data to the valid range for imshow with RGB data ([0..1] for floats or [0..255] for integers).\n"
          ]
        },
        {
          "output_type": "execute_result",
          "data": {
            "text/plain": [
              "Text(0.5, 1.0, 'HeatMap after mask application')"
            ]
          },
          "metadata": {},
          "execution_count": 20
        },
        {
          "output_type": "display_data",
          "data": {
            "text/plain": [
              "<Figure size 1728x720 with 5 Axes>"
            ],
            "image/png": "[encoded data removed]"
          },
          "metadata": {
            "needs_background": "light"
          }
        }
      ]
    }
  ],
  "metadata": {
    "accelerator": "GPU",
    "colab": {
      "provenance": []
    },
    "gpuClass": "standard",
    "kernelspec": {
      "display_name": "MACHINELEARNING",
      "language": "python",
      "name": "python3"
    },
    "language_info": {
      "name": "python",
      "version": "3.9.15 (main, Nov 24 2022, 14:39:17) [MSC v.1916 64 bit (AMD64)]"
    },
    "vscode": {
      "interpreter": {
        "hash": "c3d2da9ea33237c85584c9c67e1981ac38a3fd243e6de17eadf5b3b825ecc547"
      }
    }
  },
  "nbformat": 4,
  "nbformat_minor": 0
}