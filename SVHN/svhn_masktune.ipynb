{
  "cells": [
    {
      "attachments": {},
      "cell_type": "markdown",
      "metadata": {
        "id": "ZobuOGoOwn_E"
      },
      "source": [
        "### Selective Classification\n",
        "---"
      ]
    },
    {
      "attachments": {},
      "cell_type": "markdown",
      "metadata": {},
      "source": [
        "### SVHN\n",
        "This notebook focuses on the \"SVHN\" dataset."
      ]
    },
    {
      "cell_type": "code",
      "execution_count": 1,
      "metadata": {
        "colab": {
          "base_uri": "https://localhost:8080/"
        },
        "id": "9KJdmP-5hdcS",
        "outputId": "ee3331f0-f27c-46e8-a9cf-86b213522d8d"
      },
      "outputs": [
        {
          "name": "stdout",
          "output_type": "stream",
          "text": [
            "Looking in indexes: https://pypi.org/simple, https://us-python.pkg.dev/colab-wheels/public/simple/\n",
            "Collecting timm\n",
            "  Downloading timm-0.6.12-py3-none-any.whl (549 kB)\n",
            "\u001b[2K     \u001b[90m━━━━━━━━━━━━━━━━━━━━━━━━━━━━━━━━━━━━━━\u001b[0m \u001b[32m549.1/549.1 KB\u001b[0m \u001b[31m12.3 MB/s\u001b[0m eta \u001b[36m0:00:00\u001b[0m\n",
            "\u001b[?25hRequirement already satisfied: pyyaml in /usr/local/lib/python3.8/dist-packages (from timm) (6.0)\n",
            "Requirement already satisfied: torch>=1.7 in /usr/local/lib/python3.8/dist-packages (from timm) (1.13.1+cu116)\n",
            "Requirement already satisfied: torchvision in /usr/local/lib/python3.8/dist-packages (from timm) (0.14.1+cu116)\n",
            "Collecting huggingface-hub\n",
            "  Downloading huggingface_hub-0.12.0-py3-none-any.whl (190 kB)\n",
            "\u001b[2K     \u001b[90m━━━━━━━━━━━━━━━━━━━━━━━━━━━━━━━━━━━━━━\u001b[0m \u001b[32m190.3/190.3 KB\u001b[0m \u001b[31m11.5 MB/s\u001b[0m eta \u001b[36m0:00:00\u001b[0m\n",
            "\u001b[?25hRequirement already satisfied: typing-extensions in /usr/local/lib/python3.8/dist-packages (from torch>=1.7->timm) (4.4.0)\n",
            "Requirement already satisfied: tqdm>=4.42.1 in /usr/local/lib/python3.8/dist-packages (from huggingface-hub->timm) (4.64.1)\n",
            "Requirement already satisfied: packaging>=20.9 in /usr/local/lib/python3.8/dist-packages (from huggingface-hub->timm) (21.3)\n",
            "Requirement already satisfied: requests in /usr/local/lib/python3.8/dist-packages (from huggingface-hub->timm) (2.25.1)\n",
            "Requirement already satisfied: filelock in /usr/local/lib/python3.8/dist-packages (from huggingface-hub->timm) (3.9.0)\n",
            "Requirement already satisfied: pillow!=8.3.*,>=5.3.0 in /usr/local/lib/python3.8/dist-packages (from torchvision->timm) (7.1.2)\n",
            "Requirement already satisfied: numpy in /usr/local/lib/python3.8/dist-packages (from torchvision->timm) (1.21.6)\n",
            "Requirement already satisfied: pyparsing!=3.0.5,>=2.0.2 in /usr/local/lib/python3.8/dist-packages (from packaging>=20.9->huggingface-hub->timm) (3.0.9)\n",
            "Requirement already satisfied: chardet<5,>=3.0.2 in /usr/local/lib/python3.8/dist-packages (from requests->huggingface-hub->timm) (4.0.0)\n",
            "Requirement already satisfied: certifi>=2017.4.17 in /usr/local/lib/python3.8/dist-packages (from requests->huggingface-hub->timm) (2022.12.7)\n",
            "Requirement already satisfied: idna<3,>=2.5 in /usr/local/lib/python3.8/dist-packages (from requests->huggingface-hub->timm) (2.10)\n",
            "Requirement already satisfied: urllib3<1.27,>=1.21.1 in /usr/local/lib/python3.8/dist-packages (from requests->huggingface-hub->timm) (1.24.3)\n",
            "Installing collected packages: huggingface-hub, timm\n",
            "Successfully installed huggingface-hub-0.12.0 timm-0.6.12\n",
            "Looking in indexes: https://pypi.org/simple, https://us-python.pkg.dev/colab-wheels/public/simple/\n",
            "Collecting grad-cam\n",
            "  Downloading grad-cam-1.4.6.tar.gz (7.8 MB)\n",
            "\u001b[2K     \u001b[90m━━━━━━━━━━━━━━━━━━━━━━━━━━━━━━━━━━━━━━━━\u001b[0m \u001b[32m7.8/7.8 MB\u001b[0m \u001b[31m54.1 MB/s\u001b[0m eta \u001b[36m0:00:00\u001b[0m\n",
            "\u001b[?25h  Installing build dependencies ... \u001b[?25l\u001b[?25hdone\n",
            "  Getting requirements to build wheel ... \u001b[?25l\u001b[?25hdone\n",
            "  Preparing metadata (pyproject.toml) ... \u001b[?25l\u001b[?25hdone\n",
            "Collecting ttach\n",
            "  Downloading ttach-0.0.3-py3-none-any.whl (9.8 kB)\n",
            "Requirement already satisfied: numpy in /usr/local/lib/python3.8/dist-packages (from grad-cam) (1.21.6)\n",
            "Requirement already satisfied: matplotlib in /usr/local/lib/python3.8/dist-packages (from grad-cam) (3.2.2)\n",
            "Requirement already satisfied: opencv-python in /usr/local/lib/python3.8/dist-packages (from grad-cam) (4.6.0.66)\n",
            "Requirement already satisfied: scikit-learn in /usr/local/lib/python3.8/dist-packages (from grad-cam) (1.0.2)\n",
            "Requirement already satisfied: tqdm in /usr/local/lib/python3.8/dist-packages (from grad-cam) (4.64.1)\n",
            "Requirement already satisfied: torchvision>=0.8.2 in /usr/local/lib/python3.8/dist-packages (from grad-cam) (0.14.1+cu116)\n",
            "Requirement already satisfied: Pillow in /usr/local/lib/python3.8/dist-packages (from grad-cam) (7.1.2)\n",
            "Requirement already satisfied: torch>=1.7.1 in /usr/local/lib/python3.8/dist-packages (from grad-cam) (1.13.1+cu116)\n",
            "Requirement already satisfied: typing-extensions in /usr/local/lib/python3.8/dist-packages (from torch>=1.7.1->grad-cam) (4.4.0)\n",
            "Requirement already satisfied: requests in /usr/local/lib/python3.8/dist-packages (from torchvision>=0.8.2->grad-cam) (2.25.1)\n",
            "Requirement already satisfied: cycler>=0.10 in /usr/local/lib/python3.8/dist-packages (from matplotlib->grad-cam) (0.11.0)\n",
            "Requirement already satisfied: kiwisolver>=1.0.1 in /usr/local/lib/python3.8/dist-packages (from matplotlib->grad-cam) (1.4.4)\n",
            "Requirement already satisfied: pyparsing!=2.0.4,!=2.1.2,!=2.1.6,>=2.0.1 in /usr/local/lib/python3.8/dist-packages (from matplotlib->grad-cam) (3.0.9)\n",
            "Requirement already satisfied: python-dateutil>=2.1 in /usr/local/lib/python3.8/dist-packages (from matplotlib->grad-cam) (2.8.2)\n",
            "Requirement already satisfied: scipy>=1.1.0 in /usr/local/lib/python3.8/dist-packages (from scikit-learn->grad-cam) (1.7.3)\n",
            "Requirement already satisfied: joblib>=0.11 in /usr/local/lib/python3.8/dist-packages (from scikit-learn->grad-cam) (1.2.0)\n",
            "Requirement already satisfied: threadpoolctl>=2.0.0 in /usr/local/lib/python3.8/dist-packages (from scikit-learn->grad-cam) (3.1.0)\n",
            "Requirement already satisfied: six>=1.5 in /usr/local/lib/python3.8/dist-packages (from python-dateutil>=2.1->matplotlib->grad-cam) (1.15.0)\n",
            "Requirement already satisfied: idna<3,>=2.5 in /usr/local/lib/python3.8/dist-packages (from requests->torchvision>=0.8.2->grad-cam) (2.10)\n",
            "Requirement already satisfied: chardet<5,>=3.0.2 in /usr/local/lib/python3.8/dist-packages (from requests->torchvision>=0.8.2->grad-cam) (4.0.0)\n",
            "Requirement already satisfied: urllib3<1.27,>=1.21.1 in /usr/local/lib/python3.8/dist-packages (from requests->torchvision>=0.8.2->grad-cam) (1.24.3)\n",
            "Requirement already satisfied: certifi>=2017.4.17 in /usr/local/lib/python3.8/dist-packages (from requests->torchvision>=0.8.2->grad-cam) (2022.12.7)\n",
            "Building wheels for collected packages: grad-cam\n",
            "  Building wheel for grad-cam (pyproject.toml) ... \u001b[?25l\u001b[?25hdone\n",
            "  Created wheel for grad-cam: filename=grad_cam-1.4.6-py3-none-any.whl size=38261 sha256=19905fee9940366eb316a3f09b1bf7e2aca222d790def660834617be33981df5\n",
            "  Stored in directory: /root/.cache/pip/wheels/53/02/43/1f75726b5c28459596067ad91e36951463c01273eef661f09f\n",
            "Successfully built grad-cam\n",
            "Installing collected packages: ttach, grad-cam\n",
            "Successfully installed grad-cam-1.4.6 ttach-0.0.3\n"
          ]
        }
      ],
      "source": [
        "import torch\n",
        "from train import *\n",
        "!pip install timm\n",
        "!pip install grad-cam"
      ]
    },
    {
      "cell_type": "code",
      "execution_count": 2,
      "metadata": {
        "colab": {
          "base_uri": "https://localhost:8080/"
        },
        "id": "NrgpxzWxgfMH",
        "outputId": "551c4a73-cfb3-4cfd-dee7-e17d41f64036"
      },
      "outputs": [
        {
          "name": "stdout",
          "output_type": "stream",
          "text": [
            "Cloning into 'MaskTune_NN'...\n",
            "remote: Enumerating objects: 244, done.\u001b[K\n",
            "remote: Counting objects: 100% (40/40), done.\u001b[K\n",
            "remote: Compressing objects: 100% (28/28), done.\u001b[K\n",
            "remote: Total 244 (delta 18), reused 28 (delta 12), pack-reused 204\u001b[K\n",
            "Receiving objects: 100% (244/244), 18.16 MiB | 22.19 MiB/s, done.\n",
            "Resolving deltas: 100% (112/112), done.\n"
          ]
        }
      ],
      "source": [
        "# Clone the repository\n",
        "!git clone https://github.com/Giordano-Cicchetti/MaskTune_NN/\n",
        "!cp MaskTune_NN/SVHN/* /content -r\n",
        "!rm MaskTune_NN/ -r"
      ]
    },
    {
      "cell_type": "code",
      "execution_count": 1,
      "metadata": {
        "colab": {
          "base_uri": "https://localhost:8080/"
        },
        "id": "i-R0bUxUhQ9y",
        "outputId": "b04d22bf-b64b-439a-b3c5-3509e2255732"
      },
      "outputs": [
        {
          "data": {
            "text/plain": [
              "device(type='cuda')"
            ]
          },
          "execution_count": 1,
          "metadata": {},
          "output_type": "execute_result"
        }
      ],
      "source": [
        "# Device configuration\n",
        "device = torch.device('cuda' if torch.cuda.is_available() else 'cpu')\n",
        "device"
      ]
    },
    {
      "cell_type": "code",
      "execution_count": 2,
      "metadata": {
        "colab": {
          "base_uri": "https://localhost:8080/"
        },
        "id": "MVTui7lug_Jn",
        "outputId": "2cfcc165-a6b6-4310-8f1e-674ae365bc6f"
      },
      "outputs": [
        {
          "name": "stdout",
          "output_type": "stream",
          "text": [
            "Using downloaded and verified file: data/train_32x32.mat\n",
            "Using downloaded and verified file: data/test_32x32.mat\n",
            "Using downloaded and verified file: data/train_32x32.mat\n"
          ]
        }
      ],
      "source": [
        "# Build an instance of the class SVHNTrain\n",
        "SVHN_train=SVHNTrain(device=device)"
      ]
    },
    {
      "attachments": {},
      "cell_type": "markdown",
      "metadata": {},
      "source": [
        "The used network is a **ResNet-32**. ResNet-32 is a convolutional neural network that is based on ResNet architecture and, as suggested by the name, ResNet-32 has 32 layers.<br>\n",
        "The network is trained from scratch for 300 epochs."
      ]
    },
    {
      "attachments": {},
      "cell_type": "markdown",
      "metadata": {},
      "source": [
        "#### Training"
      ]
    },
    {
      "attachments": {},
      "cell_type": "markdown",
      "metadata": {},
      "source": [
        "Parameters:\n",
        "\n",
        "\n",
        "*   learning rate ⇒ 0.1\n",
        "*   learning rate cut ⇒ halved for every 25 epochs\n",
        "*   momentum ⇒ 0.9\n",
        "*   weight decay ⇒ 0.0005\n",
        "*   batch size ⇒ 128  "
      ]
    },
    {
      "cell_type": "code",
      "execution_count": 5,
      "metadata": {
        "colab": {
          "base_uri": "https://localhost:8080/"
        },
        "id": "zyAHATSLiY4_",
        "outputId": "e34d0d3b-2859-48fd-8c2d-b3404e7a83b5"
      },
      "outputs": [
        {
          "name": "stderr",
          "output_type": "stream",
          "text": [
            "train epoch 0: 100%|██████████| 58/58 [00:27<00:00,  2.12it/s, loss=2.79, accuracy=0.168]\n",
            "validation epoch 0: 100%|██████████| 15/15 [00:02<00:00,  5.92it/s, loss=2.23, accuracy=0.192]\n"
          ]
        },
        {
          "name": "stdout",
          "output_type": "stream",
          "text": [
            "lr: 0.1\n"
          ]
        },
        {
          "name": "stderr",
          "output_type": "stream",
          "text": [
            "train epoch 1: 100%|██████████| 58/58 [00:20<00:00,  2.80it/s, loss=2.24, accuracy=0.188]\n",
            "validation epoch 1: 100%|██████████| 15/15 [00:02<00:00,  5.96it/s, loss=2.23, accuracy=0.192]\n"
          ]
        },
        {
          "name": "stdout",
          "output_type": "stream",
          "text": [
            "lr: 0.1\n"
          ]
        },
        {
          "name": "stderr",
          "output_type": "stream",
          "text": [
            "train epoch 2: 100%|██████████| 58/58 [00:21<00:00,  2.73it/s, loss=2.24, accuracy=0.189]\n",
            "validation epoch 2: 100%|██████████| 15/15 [00:02<00:00,  5.95it/s, loss=2.23, accuracy=0.191]\n"
          ]
        },
        {
          "name": "stdout",
          "output_type": "stream",
          "text": [
            "lr: 0.1\n"
          ]
        },
        {
          "name": "stderr",
          "output_type": "stream",
          "text": [
            "train epoch 3: 100%|██████████| 58/58 [00:21<00:00,  2.74it/s, loss=2.24, accuracy=0.188]\n",
            "validation epoch 3: 100%|██████████| 15/15 [00:02<00:00,  5.80it/s, loss=2.23, accuracy=0.191]\n"
          ]
        },
        {
          "name": "stdout",
          "output_type": "stream",
          "text": [
            "lr: 0.1\n"
          ]
        },
        {
          "name": "stderr",
          "output_type": "stream",
          "text": [
            "train epoch 4: 100%|██████████| 58/58 [00:20<00:00,  2.78it/s, loss=2.24, accuracy=0.189]\n",
            "validation epoch 4: 100%|██████████| 15/15 [00:02<00:00,  6.02it/s, loss=2.23, accuracy=0.193]\n"
          ]
        },
        {
          "name": "stdout",
          "output_type": "stream",
          "text": [
            "lr: 0.1\n"
          ]
        },
        {
          "name": "stderr",
          "output_type": "stream",
          "text": [
            "train epoch 5: 100%|██████████| 58/58 [00:20<00:00,  2.77it/s, loss=2.24, accuracy=0.189]\n",
            "validation epoch 5: 100%|██████████| 15/15 [00:02<00:00,  5.99it/s, loss=2.23, accuracy=0.192]\n"
          ]
        },
        {
          "name": "stdout",
          "output_type": "stream",
          "text": [
            "lr: 0.1\n"
          ]
        },
        {
          "name": "stderr",
          "output_type": "stream",
          "text": [
            "train epoch 6: 100%|██████████| 58/58 [00:21<00:00,  2.75it/s, loss=2.24, accuracy=0.189]\n",
            "validation epoch 6: 100%|██████████| 15/15 [00:02<00:00,  5.84it/s, loss=2.23, accuracy=0.193]\n"
          ]
        },
        {
          "name": "stdout",
          "output_type": "stream",
          "text": [
            "lr: 0.1\n"
          ]
        },
        {
          "name": "stderr",
          "output_type": "stream",
          "text": [
            "train epoch 7: 100%|██████████| 58/58 [00:20<00:00,  2.77it/s, loss=2.24, accuracy=0.19]\n",
            "validation epoch 7: 100%|██████████| 15/15 [00:02<00:00,  5.95it/s, loss=2.23, accuracy=0.192]\n"
          ]
        },
        {
          "name": "stdout",
          "output_type": "stream",
          "text": [
            "lr: 0.1\n"
          ]
        },
        {
          "name": "stderr",
          "output_type": "stream",
          "text": [
            "train epoch 8: 100%|██████████| 58/58 [00:20<00:00,  2.77it/s, loss=2.23, accuracy=0.198]\n",
            "validation epoch 8: 100%|██████████| 15/15 [00:02<00:00,  5.56it/s, loss=2.23, accuracy=0.198]\n"
          ]
        },
        {
          "name": "stdout",
          "output_type": "stream",
          "text": [
            "lr: 0.1\n"
          ]
        },
        {
          "name": "stderr",
          "output_type": "stream",
          "text": [
            "train epoch 9: 100%|██████████| 58/58 [00:21<00:00,  2.73it/s, loss=2.14, accuracy=0.253]\n",
            "validation epoch 9: 100%|██████████| 15/15 [00:02<00:00,  5.91it/s, loss=2.02, accuracy=0.307]\n"
          ]
        },
        {
          "name": "stdout",
          "output_type": "stream",
          "text": [
            "lr: 0.1\n"
          ]
        },
        {
          "name": "stderr",
          "output_type": "stream",
          "text": [
            "train epoch 10: 100%|██████████| 58/58 [00:21<00:00,  2.73it/s, loss=1.47, accuracy=0.496]\n",
            "validation epoch 10: 100%|██████████| 15/15 [00:02<00:00,  5.92it/s, loss=1.2, accuracy=0.62]\n"
          ]
        },
        {
          "name": "stdout",
          "output_type": "stream",
          "text": [
            "lr: 0.1\n"
          ]
        },
        {
          "name": "stderr",
          "output_type": "stream",
          "text": [
            "train epoch 11: 100%|██████████| 58/58 [00:21<00:00,  2.73it/s, loss=0.597, accuracy=0.813]\n",
            "validation epoch 11: 100%|██████████| 15/15 [00:02<00:00,  5.94it/s, loss=0.783, accuracy=0.773]\n"
          ]
        },
        {
          "name": "stdout",
          "output_type": "stream",
          "text": [
            "lr: 0.1\n"
          ]
        },
        {
          "name": "stderr",
          "output_type": "stream",
          "text": [
            "train epoch 12: 100%|██████████| 58/58 [00:21<00:00,  2.71it/s, loss=0.357, accuracy=0.892]\n",
            "validation epoch 12: 100%|██████████| 15/15 [00:02<00:00,  5.85it/s, loss=0.519, accuracy=0.843]\n"
          ]
        },
        {
          "name": "stdout",
          "output_type": "stream",
          "text": [
            "lr: 0.1\n"
          ]
        },
        {
          "name": "stderr",
          "output_type": "stream",
          "text": [
            "train epoch 13: 100%|██████████| 58/58 [00:21<00:00,  2.72it/s, loss=0.293, accuracy=0.911]\n",
            "validation epoch 13: 100%|██████████| 15/15 [00:02<00:00,  5.93it/s, loss=0.534, accuracy=0.844]\n"
          ]
        },
        {
          "name": "stdout",
          "output_type": "stream",
          "text": [
            "lr: 0.1\n"
          ]
        },
        {
          "name": "stderr",
          "output_type": "stream",
          "text": [
            "train epoch 14: 100%|██████████| 58/58 [00:21<00:00,  2.73it/s, loss=0.258, accuracy=0.923]\n",
            "validation epoch 14: 100%|██████████| 15/15 [00:02<00:00,  5.95it/s, loss=0.397, accuracy=0.884]\n"
          ]
        },
        {
          "name": "stdout",
          "output_type": "stream",
          "text": [
            "lr: 0.1\n"
          ]
        },
        {
          "name": "stderr",
          "output_type": "stream",
          "text": [
            "train epoch 15: 100%|██████████| 58/58 [00:21<00:00,  2.73it/s, loss=0.236, accuracy=0.929]\n",
            "validation epoch 15: 100%|██████████| 15/15 [00:02<00:00,  5.89it/s, loss=0.345, accuracy=0.902]\n"
          ]
        },
        {
          "name": "stdout",
          "output_type": "stream",
          "text": [
            "lr: 0.1\n"
          ]
        },
        {
          "name": "stderr",
          "output_type": "stream",
          "text": [
            "train epoch 16: 100%|██████████| 58/58 [00:21<00:00,  2.71it/s, loss=0.22, accuracy=0.934]\n",
            "validation epoch 16: 100%|██████████| 15/15 [00:02<00:00,  5.90it/s, loss=0.51, accuracy=0.842]\n"
          ]
        },
        {
          "name": "stdout",
          "output_type": "stream",
          "text": [
            "lr: 0.1\n"
          ]
        },
        {
          "name": "stderr",
          "output_type": "stream",
          "text": [
            "train epoch 17: 100%|██████████| 58/58 [00:21<00:00,  2.73it/s, loss=0.208, accuracy=0.94]\n",
            "validation epoch 17: 100%|██████████| 15/15 [00:02<00:00,  5.91it/s, loss=0.315, accuracy=0.91]\n"
          ]
        },
        {
          "name": "stdout",
          "output_type": "stream",
          "text": [
            "lr: 0.1\n"
          ]
        },
        {
          "name": "stderr",
          "output_type": "stream",
          "text": [
            "train epoch 18: 100%|██████████| 58/58 [00:21<00:00,  2.73it/s, loss=0.191, accuracy=0.944]\n",
            "validation epoch 18: 100%|██████████| 15/15 [00:02<00:00,  6.02it/s, loss=0.342, accuracy=0.903]\n"
          ]
        },
        {
          "name": "stdout",
          "output_type": "stream",
          "text": [
            "lr: 0.1\n"
          ]
        },
        {
          "name": "stderr",
          "output_type": "stream",
          "text": [
            "train epoch 19: 100%|██████████| 58/58 [00:21<00:00,  2.73it/s, loss=0.185, accuracy=0.947]\n",
            "validation epoch 19: 100%|██████████| 15/15 [00:02<00:00,  5.52it/s, loss=0.559, accuracy=0.827]\n"
          ]
        },
        {
          "name": "stdout",
          "output_type": "stream",
          "text": [
            "lr: 0.1\n"
          ]
        },
        {
          "name": "stderr",
          "output_type": "stream",
          "text": [
            "train epoch 20: 100%|██████████| 58/58 [00:21<00:00,  2.74it/s, loss=0.18, accuracy=0.948]\n",
            "validation epoch 20: 100%|██████████| 15/15 [00:02<00:00,  5.83it/s, loss=0.284, accuracy=0.918]\n"
          ]
        },
        {
          "name": "stdout",
          "output_type": "stream",
          "text": [
            "lr: 0.1\n"
          ]
        },
        {
          "name": "stderr",
          "output_type": "stream",
          "text": [
            "train epoch 21: 100%|██████████| 58/58 [00:21<00:00,  2.73it/s, loss=0.168, accuracy=0.951]\n",
            "validation epoch 21: 100%|██████████| 15/15 [00:02<00:00,  5.99it/s, loss=0.263, accuracy=0.924]\n"
          ]
        },
        {
          "name": "stdout",
          "output_type": "stream",
          "text": [
            "lr: 0.1\n"
          ]
        },
        {
          "name": "stderr",
          "output_type": "stream",
          "text": [
            "train epoch 22: 100%|██████████| 58/58 [00:21<00:00,  2.71it/s, loss=0.166, accuracy=0.952]\n",
            "validation epoch 22: 100%|██████████| 15/15 [00:02<00:00,  5.95it/s, loss=0.31, accuracy=0.916]\n"
          ]
        },
        {
          "name": "stdout",
          "output_type": "stream",
          "text": [
            "lr: 0.1\n"
          ]
        },
        {
          "name": "stderr",
          "output_type": "stream",
          "text": [
            "train epoch 23: 100%|██████████| 58/58 [00:21<00:00,  2.73it/s, loss=0.161, accuracy=0.954]\n",
            "validation epoch 23: 100%|██████████| 15/15 [00:02<00:00,  5.90it/s, loss=0.235, accuracy=0.932]\n"
          ]
        },
        {
          "name": "stdout",
          "output_type": "stream",
          "text": [
            "lr: 0.1\n"
          ]
        },
        {
          "name": "stderr",
          "output_type": "stream",
          "text": [
            "train epoch 24: 100%|██████████| 58/58 [00:21<00:00,  2.73it/s, loss=0.149, accuracy=0.958]\n",
            "validation epoch 24: 100%|██████████| 15/15 [00:02<00:00,  6.00it/s, loss=0.36, accuracy=0.904]\n"
          ]
        },
        {
          "name": "stdout",
          "output_type": "stream",
          "text": [
            "lr: 0.05\n"
          ]
        },
        {
          "name": "stderr",
          "output_type": "stream",
          "text": [
            "train epoch 25: 100%|██████████| 58/58 [00:21<00:00,  2.72it/s, loss=0.126, accuracy=0.965]\n",
            "validation epoch 25: 100%|██████████| 15/15 [00:02<00:00,  5.92it/s, loss=0.252, accuracy=0.932]\n"
          ]
        },
        {
          "name": "stdout",
          "output_type": "stream",
          "text": [
            "lr: 0.05\n"
          ]
        },
        {
          "name": "stderr",
          "output_type": "stream",
          "text": [
            "train epoch 26: 100%|██████████| 58/58 [00:21<00:00,  2.72it/s, loss=0.113, accuracy=0.97]\n",
            "validation epoch 26: 100%|██████████| 15/15 [00:02<00:00,  5.96it/s, loss=0.239, accuracy=0.935]\n"
          ]
        },
        {
          "name": "stdout",
          "output_type": "stream",
          "text": [
            "lr: 0.05\n"
          ]
        },
        {
          "name": "stderr",
          "output_type": "stream",
          "text": [
            "train epoch 27: 100%|██████████| 58/58 [00:21<00:00,  2.72it/s, loss=0.108, accuracy=0.97]\n",
            "validation epoch 27: 100%|██████████| 15/15 [00:02<00:00,  5.90it/s, loss=0.241, accuracy=0.94]\n"
          ]
        },
        {
          "name": "stdout",
          "output_type": "stream",
          "text": [
            "lr: 0.05\n"
          ]
        },
        {
          "name": "stderr",
          "output_type": "stream",
          "text": [
            "train epoch 28: 100%|██████████| 58/58 [00:21<00:00,  2.72it/s, loss=0.107, accuracy=0.971]\n",
            "validation epoch 28: 100%|██████████| 15/15 [00:02<00:00,  6.06it/s, loss=0.224, accuracy=0.939]\n"
          ]
        },
        {
          "name": "stdout",
          "output_type": "stream",
          "text": [
            "lr: 0.05\n"
          ]
        },
        {
          "name": "stderr",
          "output_type": "stream",
          "text": [
            "train epoch 29: 100%|██████████| 58/58 [00:21<00:00,  2.73it/s, loss=0.101, accuracy=0.972]\n",
            "validation epoch 29: 100%|██████████| 15/15 [00:02<00:00,  5.98it/s, loss=0.297, accuracy=0.916]\n"
          ]
        },
        {
          "name": "stdout",
          "output_type": "stream",
          "text": [
            "lr: 0.05\n"
          ]
        },
        {
          "name": "stderr",
          "output_type": "stream",
          "text": [
            "train epoch 30: 100%|██████████| 58/58 [00:21<00:00,  2.74it/s, loss=0.102, accuracy=0.972]\n",
            "validation epoch 30: 100%|██████████| 15/15 [00:02<00:00,  5.77it/s, loss=0.288, accuracy=0.921]\n"
          ]
        },
        {
          "name": "stdout",
          "output_type": "stream",
          "text": [
            "lr: 0.05\n"
          ]
        },
        {
          "name": "stderr",
          "output_type": "stream",
          "text": [
            "train epoch 31: 100%|██████████| 58/58 [00:21<00:00,  2.73it/s, loss=0.0953, accuracy=0.974]\n",
            "validation epoch 31: 100%|██████████| 15/15 [00:02<00:00,  5.90it/s, loss=0.279, accuracy=0.931]\n"
          ]
        },
        {
          "name": "stdout",
          "output_type": "stream",
          "text": [
            "lr: 0.05\n"
          ]
        },
        {
          "name": "stderr",
          "output_type": "stream",
          "text": [
            "train epoch 32: 100%|██████████| 58/58 [00:21<00:00,  2.73it/s, loss=0.0959, accuracy=0.974]\n",
            "validation epoch 32: 100%|██████████| 15/15 [00:02<00:00,  5.89it/s, loss=0.24, accuracy=0.936]\n"
          ]
        },
        {
          "name": "stdout",
          "output_type": "stream",
          "text": [
            "lr: 0.05\n"
          ]
        },
        {
          "name": "stderr",
          "output_type": "stream",
          "text": [
            "train epoch 33: 100%|██████████| 58/58 [00:21<00:00,  2.73it/s, loss=0.0937, accuracy=0.974]\n",
            "validation epoch 33: 100%|██████████| 15/15 [00:02<00:00,  5.93it/s, loss=0.274, accuracy=0.928]\n"
          ]
        },
        {
          "name": "stdout",
          "output_type": "stream",
          "text": [
            "lr: 0.05\n"
          ]
        },
        {
          "name": "stderr",
          "output_type": "stream",
          "text": [
            "train epoch 34: 100%|██████████| 58/58 [00:21<00:00,  2.71it/s, loss=0.0883, accuracy=0.976]\n",
            "validation epoch 34: 100%|██████████| 15/15 [00:02<00:00,  5.98it/s, loss=0.279, accuracy=0.929]\n"
          ]
        },
        {
          "name": "stdout",
          "output_type": "stream",
          "text": [
            "lr: 0.05\n"
          ]
        },
        {
          "name": "stderr",
          "output_type": "stream",
          "text": [
            "train epoch 35: 100%|██████████| 58/58 [00:21<00:00,  2.74it/s, loss=0.0944, accuracy=0.973]\n",
            "validation epoch 35: 100%|██████████| 15/15 [00:02<00:00,  5.54it/s, loss=0.306, accuracy=0.919]\n"
          ]
        },
        {
          "name": "stdout",
          "output_type": "stream",
          "text": [
            "lr: 0.05\n"
          ]
        },
        {
          "name": "stderr",
          "output_type": "stream",
          "text": [
            "train epoch 36: 100%|██████████| 58/58 [00:21<00:00,  2.75it/s, loss=0.0915, accuracy=0.975]\n",
            "validation epoch 36: 100%|██████████| 15/15 [00:02<00:00,  5.93it/s, loss=0.28, accuracy=0.926]\n"
          ]
        },
        {
          "name": "stdout",
          "output_type": "stream",
          "text": [
            "lr: 0.05\n"
          ]
        },
        {
          "name": "stderr",
          "output_type": "stream",
          "text": [
            "train epoch 37: 100%|██████████| 58/58 [00:21<00:00,  2.72it/s, loss=0.0907, accuracy=0.974]\n",
            "validation epoch 37: 100%|██████████| 15/15 [00:02<00:00,  5.86it/s, loss=0.267, accuracy=0.932]\n"
          ]
        },
        {
          "name": "stdout",
          "output_type": "stream",
          "text": [
            "lr: 0.05\n"
          ]
        },
        {
          "name": "stderr",
          "output_type": "stream",
          "text": [
            "train epoch 38: 100%|██████████| 58/58 [00:21<00:00,  2.72it/s, loss=0.0846, accuracy=0.976]\n",
            "validation epoch 38: 100%|██████████| 15/15 [00:02<00:00,  5.87it/s, loss=0.254, accuracy=0.937]\n"
          ]
        },
        {
          "name": "stdout",
          "output_type": "stream",
          "text": [
            "lr: 0.05\n"
          ]
        },
        {
          "name": "stderr",
          "output_type": "stream",
          "text": [
            "train epoch 39: 100%|██████████| 58/58 [00:21<00:00,  2.73it/s, loss=0.0817, accuracy=0.976]\n",
            "validation epoch 39: 100%|██████████| 15/15 [00:02<00:00,  5.98it/s, loss=0.303, accuracy=0.925]\n"
          ]
        },
        {
          "name": "stdout",
          "output_type": "stream",
          "text": [
            "lr: 0.05\n"
          ]
        },
        {
          "name": "stderr",
          "output_type": "stream",
          "text": [
            "train epoch 40: 100%|██████████| 58/58 [00:21<00:00,  2.73it/s, loss=0.0895, accuracy=0.974]\n",
            "validation epoch 40: 100%|██████████| 15/15 [00:02<00:00,  5.43it/s, loss=0.244, accuracy=0.941]\n"
          ]
        },
        {
          "name": "stdout",
          "output_type": "stream",
          "text": [
            "lr: 0.05\n"
          ]
        },
        {
          "name": "stderr",
          "output_type": "stream",
          "text": [
            "train epoch 41: 100%|██████████| 58/58 [00:21<00:00,  2.73it/s, loss=0.0833, accuracy=0.976]\n",
            "validation epoch 41: 100%|██████████| 15/15 [00:02<00:00,  5.74it/s, loss=0.26, accuracy=0.939]\n"
          ]
        },
        {
          "name": "stdout",
          "output_type": "stream",
          "text": [
            "lr: 0.05\n"
          ]
        },
        {
          "name": "stderr",
          "output_type": "stream",
          "text": [
            "train epoch 42: 100%|██████████| 58/58 [00:21<00:00,  2.71it/s, loss=0.0789, accuracy=0.977]\n",
            "validation epoch 42: 100%|██████████| 15/15 [00:02<00:00,  5.93it/s, loss=0.281, accuracy=0.931]\n"
          ]
        },
        {
          "name": "stdout",
          "output_type": "stream",
          "text": [
            "lr: 0.05\n"
          ]
        },
        {
          "name": "stderr",
          "output_type": "stream",
          "text": [
            "train epoch 43: 100%|██████████| 58/58 [00:21<00:00,  2.72it/s, loss=0.0749, accuracy=0.979]\n",
            "validation epoch 43: 100%|██████████| 15/15 [00:02<00:00,  5.99it/s, loss=0.293, accuracy=0.93]\n"
          ]
        },
        {
          "name": "stdout",
          "output_type": "stream",
          "text": [
            "lr: 0.05\n"
          ]
        },
        {
          "name": "stderr",
          "output_type": "stream",
          "text": [
            "train epoch 44: 100%|██████████| 58/58 [00:21<00:00,  2.72it/s, loss=0.078, accuracy=0.977]\n",
            "validation epoch 44: 100%|██████████| 15/15 [00:02<00:00,  5.85it/s, loss=0.268, accuracy=0.932]\n"
          ]
        },
        {
          "name": "stdout",
          "output_type": "stream",
          "text": [
            "lr: 0.05\n"
          ]
        },
        {
          "name": "stderr",
          "output_type": "stream",
          "text": [
            "train epoch 45: 100%|██████████| 58/58 [00:21<00:00,  2.71it/s, loss=0.0772, accuracy=0.978]\n",
            "validation epoch 45: 100%|██████████| 15/15 [00:02<00:00,  5.91it/s, loss=0.296, accuracy=0.927]\n"
          ]
        },
        {
          "name": "stdout",
          "output_type": "stream",
          "text": [
            "lr: 0.05\n"
          ]
        },
        {
          "name": "stderr",
          "output_type": "stream",
          "text": [
            "train epoch 46: 100%|██████████| 58/58 [00:21<00:00,  2.73it/s, loss=0.0723, accuracy=0.979]\n",
            "validation epoch 46: 100%|██████████| 15/15 [00:02<00:00,  5.45it/s, loss=0.27, accuracy=0.936]\n"
          ]
        },
        {
          "name": "stdout",
          "output_type": "stream",
          "text": [
            "lr: 0.05\n"
          ]
        },
        {
          "name": "stderr",
          "output_type": "stream",
          "text": [
            "train epoch 47: 100%|██████████| 58/58 [00:21<00:00,  2.73it/s, loss=0.0702, accuracy=0.98]\n",
            "validation epoch 47: 100%|██████████| 15/15 [00:02<00:00,  5.88it/s, loss=0.336, accuracy=0.923]\n"
          ]
        },
        {
          "name": "stdout",
          "output_type": "stream",
          "text": [
            "lr: 0.05\n"
          ]
        },
        {
          "name": "stderr",
          "output_type": "stream",
          "text": [
            "train epoch 48: 100%|██████████| 58/58 [00:21<00:00,  2.71it/s, loss=0.0703, accuracy=0.98]\n",
            "validation epoch 48: 100%|██████████| 15/15 [00:02<00:00,  5.97it/s, loss=0.303, accuracy=0.924]\n"
          ]
        },
        {
          "name": "stdout",
          "output_type": "stream",
          "text": [
            "lr: 0.05\n"
          ]
        },
        {
          "name": "stderr",
          "output_type": "stream",
          "text": [
            "train epoch 49: 100%|██████████| 58/58 [00:21<00:00,  2.72it/s, loss=0.0722, accuracy=0.979]\n",
            "validation epoch 49: 100%|██████████| 15/15 [00:02<00:00,  5.90it/s, loss=0.292, accuracy=0.93]\n"
          ]
        },
        {
          "name": "stdout",
          "output_type": "stream",
          "text": [
            "lr: 0.025\n"
          ]
        },
        {
          "name": "stderr",
          "output_type": "stream",
          "text": [
            "train epoch 50: 100%|██████████| 58/58 [00:21<00:00,  2.71it/s, loss=0.0492, accuracy=0.986]\n",
            "validation epoch 50: 100%|██████████| 15/15 [00:02<00:00,  5.90it/s, loss=0.214, accuracy=0.949]\n"
          ]
        },
        {
          "name": "stdout",
          "output_type": "stream",
          "text": [
            "lr: 0.025\n"
          ]
        },
        {
          "name": "stderr",
          "output_type": "stream",
          "text": [
            "train epoch 51: 100%|██████████| 58/58 [00:21<00:00,  2.73it/s, loss=0.0361, accuracy=0.991]\n",
            "validation epoch 51: 100%|██████████| 15/15 [00:02<00:00,  5.52it/s, loss=0.25, accuracy=0.943]\n"
          ]
        },
        {
          "name": "stdout",
          "output_type": "stream",
          "text": [
            "lr: 0.025\n"
          ]
        },
        {
          "name": "stderr",
          "output_type": "stream",
          "text": [
            "train epoch 52: 100%|██████████| 58/58 [00:21<00:00,  2.73it/s, loss=0.0323, accuracy=0.992]\n",
            "validation epoch 52: 100%|██████████| 15/15 [00:02<00:00,  5.88it/s, loss=0.24, accuracy=0.946]\n"
          ]
        },
        {
          "name": "stdout",
          "output_type": "stream",
          "text": [
            "lr: 0.025\n"
          ]
        },
        {
          "name": "stderr",
          "output_type": "stream",
          "text": [
            "train epoch 53: 100%|██████████| 58/58 [00:21<00:00,  2.72it/s, loss=0.0309, accuracy=0.992]\n",
            "validation epoch 53: 100%|██████████| 15/15 [00:02<00:00,  6.06it/s, loss=0.264, accuracy=0.943]\n"
          ]
        },
        {
          "name": "stdout",
          "output_type": "stream",
          "text": [
            "lr: 0.025\n"
          ]
        },
        {
          "name": "stderr",
          "output_type": "stream",
          "text": [
            "train epoch 54: 100%|██████████| 58/58 [00:21<00:00,  2.72it/s, loss=0.03, accuracy=0.992]\n",
            "validation epoch 54: 100%|██████████| 15/15 [00:02<00:00,  5.85it/s, loss=0.242, accuracy=0.946]\n"
          ]
        },
        {
          "name": "stdout",
          "output_type": "stream",
          "text": [
            "lr: 0.025\n"
          ]
        },
        {
          "name": "stderr",
          "output_type": "stream",
          "text": [
            "train epoch 55: 100%|██████████| 58/58 [00:21<00:00,  2.72it/s, loss=0.0281, accuracy=0.993]\n",
            "validation epoch 55: 100%|██████████| 15/15 [00:02<00:00,  5.93it/s, loss=0.258, accuracy=0.944]\n"
          ]
        },
        {
          "name": "stdout",
          "output_type": "stream",
          "text": [
            "lr: 0.025\n"
          ]
        },
        {
          "name": "stderr",
          "output_type": "stream",
          "text": [
            "train epoch 56: 100%|██████████| 58/58 [00:21<00:00,  2.74it/s, loss=0.0286, accuracy=0.992]\n",
            "validation epoch 56: 100%|██████████| 15/15 [00:02<00:00,  5.49it/s, loss=0.292, accuracy=0.941]\n"
          ]
        },
        {
          "name": "stdout",
          "output_type": "stream",
          "text": [
            "lr: 0.025\n"
          ]
        },
        {
          "name": "stderr",
          "output_type": "stream",
          "text": [
            "train epoch 57: 100%|██████████| 58/58 [00:21<00:00,  2.73it/s, loss=0.0274, accuracy=0.993]\n",
            "validation epoch 57: 100%|██████████| 15/15 [00:02<00:00,  5.68it/s, loss=0.303, accuracy=0.936]\n"
          ]
        },
        {
          "name": "stdout",
          "output_type": "stream",
          "text": [
            "lr: 0.025\n"
          ]
        },
        {
          "name": "stderr",
          "output_type": "stream",
          "text": [
            "train epoch 58: 100%|██████████| 58/58 [00:21<00:00,  2.71it/s, loss=0.0281, accuracy=0.993]\n",
            "validation epoch 58: 100%|██████████| 15/15 [00:02<00:00,  5.90it/s, loss=0.273, accuracy=0.939]\n"
          ]
        },
        {
          "name": "stdout",
          "output_type": "stream",
          "text": [
            "lr: 0.025\n"
          ]
        },
        {
          "name": "stderr",
          "output_type": "stream",
          "text": [
            "train epoch 59: 100%|██████████| 58/58 [00:21<00:00,  2.72it/s, loss=0.0272, accuracy=0.992]\n",
            "validation epoch 59: 100%|██████████| 15/15 [00:02<00:00,  5.95it/s, loss=0.263, accuracy=0.943]\n"
          ]
        },
        {
          "name": "stdout",
          "output_type": "stream",
          "text": [
            "lr: 0.025\n"
          ]
        },
        {
          "name": "stderr",
          "output_type": "stream",
          "text": [
            "train epoch 60: 100%|██████████| 58/58 [00:21<00:00,  2.72it/s, loss=0.0265, accuracy=0.993]\n",
            "validation epoch 60: 100%|██████████| 15/15 [00:02<00:00,  5.90it/s, loss=0.266, accuracy=0.943]\n"
          ]
        },
        {
          "name": "stdout",
          "output_type": "stream",
          "text": [
            "lr: 0.025\n"
          ]
        },
        {
          "name": "stderr",
          "output_type": "stream",
          "text": [
            "train epoch 61: 100%|██████████| 58/58 [00:21<00:00,  2.73it/s, loss=0.0319, accuracy=0.991]\n",
            "validation epoch 61: 100%|██████████| 15/15 [00:02<00:00,  5.92it/s, loss=0.27, accuracy=0.944]\n"
          ]
        },
        {
          "name": "stdout",
          "output_type": "stream",
          "text": [
            "lr: 0.025\n"
          ]
        },
        {
          "name": "stderr",
          "output_type": "stream",
          "text": [
            "train epoch 62: 100%|██████████| 58/58 [00:21<00:00,  2.75it/s, loss=0.0313, accuracy=0.992]\n",
            "validation epoch 62: 100%|██████████| 15/15 [00:02<00:00,  5.67it/s, loss=0.315, accuracy=0.933]\n"
          ]
        },
        {
          "name": "stdout",
          "output_type": "stream",
          "text": [
            "lr: 0.025\n"
          ]
        },
        {
          "name": "stderr",
          "output_type": "stream",
          "text": [
            "train epoch 63: 100%|██████████| 58/58 [00:21<00:00,  2.73it/s, loss=0.028, accuracy=0.992]\n",
            "validation epoch 63: 100%|██████████| 15/15 [00:02<00:00,  5.93it/s, loss=0.296, accuracy=0.935]\n"
          ]
        },
        {
          "name": "stdout",
          "output_type": "stream",
          "text": [
            "lr: 0.025\n"
          ]
        },
        {
          "name": "stderr",
          "output_type": "stream",
          "text": [
            "train epoch 64: 100%|██████████| 58/58 [00:21<00:00,  2.72it/s, loss=0.0299, accuracy=0.991]\n",
            "validation epoch 64: 100%|██████████| 15/15 [00:02<00:00,  5.90it/s, loss=0.284, accuracy=0.941]\n"
          ]
        },
        {
          "name": "stdout",
          "output_type": "stream",
          "text": [
            "lr: 0.025\n"
          ]
        },
        {
          "name": "stderr",
          "output_type": "stream",
          "text": [
            "train epoch 65: 100%|██████████| 58/58 [00:21<00:00,  2.73it/s, loss=0.0272, accuracy=0.992]\n",
            "validation epoch 65: 100%|██████████| 15/15 [00:02<00:00,  5.90it/s, loss=0.285, accuracy=0.94]\n"
          ]
        },
        {
          "name": "stdout",
          "output_type": "stream",
          "text": [
            "lr: 0.025\n"
          ]
        },
        {
          "name": "stderr",
          "output_type": "stream",
          "text": [
            "train epoch 66: 100%|██████████| 58/58 [00:21<00:00,  2.72it/s, loss=0.0295, accuracy=0.991]\n",
            "validation epoch 66: 100%|██████████| 15/15 [00:02<00:00,  5.92it/s, loss=0.349, accuracy=0.927]\n"
          ]
        },
        {
          "name": "stdout",
          "output_type": "stream",
          "text": [
            "lr: 0.025\n"
          ]
        },
        {
          "name": "stderr",
          "output_type": "stream",
          "text": [
            "train epoch 67: 100%|██████████| 58/58 [00:21<00:00,  2.73it/s, loss=0.0329, accuracy=0.99]\n",
            "validation epoch 67: 100%|██████████| 15/15 [00:02<00:00,  5.65it/s, loss=0.289, accuracy=0.939]\n"
          ]
        },
        {
          "name": "stdout",
          "output_type": "stream",
          "text": [
            "lr: 0.025\n"
          ]
        },
        {
          "name": "stderr",
          "output_type": "stream",
          "text": [
            "train epoch 68: 100%|██████████| 58/58 [00:21<00:00,  2.74it/s, loss=0.0349, accuracy=0.99]\n",
            "validation epoch 68: 100%|██████████| 15/15 [00:02<00:00,  5.90it/s, loss=0.307, accuracy=0.935]\n"
          ]
        },
        {
          "name": "stdout",
          "output_type": "stream",
          "text": [
            "lr: 0.025\n"
          ]
        },
        {
          "name": "stderr",
          "output_type": "stream",
          "text": [
            "train epoch 69: 100%|██████████| 58/58 [00:21<00:00,  2.73it/s, loss=0.0292, accuracy=0.992]\n",
            "validation epoch 69: 100%|██████████| 15/15 [00:02<00:00,  5.92it/s, loss=0.261, accuracy=0.942]\n"
          ]
        },
        {
          "name": "stdout",
          "output_type": "stream",
          "text": [
            "lr: 0.025\n"
          ]
        },
        {
          "name": "stderr",
          "output_type": "stream",
          "text": [
            "train epoch 70: 100%|██████████| 58/58 [00:21<00:00,  2.73it/s, loss=0.0258, accuracy=0.992]\n",
            "validation epoch 70: 100%|██████████| 15/15 [00:02<00:00,  6.00it/s, loss=0.276, accuracy=0.943]\n"
          ]
        },
        {
          "name": "stdout",
          "output_type": "stream",
          "text": [
            "lr: 0.025\n"
          ]
        },
        {
          "name": "stderr",
          "output_type": "stream",
          "text": [
            "train epoch 71: 100%|██████████| 58/58 [00:21<00:00,  2.72it/s, loss=0.03, accuracy=0.991]\n",
            "validation epoch 71: 100%|██████████| 15/15 [00:02<00:00,  5.85it/s, loss=0.294, accuracy=0.939]\n"
          ]
        },
        {
          "name": "stdout",
          "output_type": "stream",
          "text": [
            "lr: 0.025\n"
          ]
        },
        {
          "name": "stderr",
          "output_type": "stream",
          "text": [
            "train epoch 72: 100%|██████████| 58/58 [00:21<00:00,  2.73it/s, loss=0.0269, accuracy=0.992]\n",
            "validation epoch 72: 100%|██████████| 15/15 [00:02<00:00,  5.38it/s, loss=0.294, accuracy=0.936]\n"
          ]
        },
        {
          "name": "stdout",
          "output_type": "stream",
          "text": [
            "lr: 0.025\n"
          ]
        },
        {
          "name": "stderr",
          "output_type": "stream",
          "text": [
            "train epoch 73: 100%|██████████| 58/58 [00:21<00:00,  2.74it/s, loss=0.0268, accuracy=0.992]\n",
            "validation epoch 73: 100%|██████████| 15/15 [00:02<00:00,  5.95it/s, loss=0.278, accuracy=0.943]\n"
          ]
        },
        {
          "name": "stdout",
          "output_type": "stream",
          "text": [
            "lr: 0.025\n"
          ]
        },
        {
          "name": "stderr",
          "output_type": "stream",
          "text": [
            "train epoch 74: 100%|██████████| 58/58 [00:21<00:00,  2.73it/s, loss=0.0301, accuracy=0.991]\n",
            "validation epoch 74: 100%|██████████| 15/15 [00:02<00:00,  5.84it/s, loss=0.331, accuracy=0.936]\n"
          ]
        },
        {
          "name": "stdout",
          "output_type": "stream",
          "text": [
            "lr: 0.0125\n"
          ]
        },
        {
          "name": "stderr",
          "output_type": "stream",
          "text": [
            "train epoch 75: 100%|██████████| 58/58 [00:21<00:00,  2.72it/s, loss=0.0168, accuracy=0.996]\n",
            "validation epoch 75: 100%|██████████| 15/15 [00:02<00:00,  5.81it/s, loss=0.255, accuracy=0.947]\n"
          ]
        },
        {
          "name": "stdout",
          "output_type": "stream",
          "text": [
            "lr: 0.0125\n"
          ]
        },
        {
          "name": "stderr",
          "output_type": "stream",
          "text": [
            "train epoch 76: 100%|██████████| 58/58 [00:21<00:00,  2.71it/s, loss=0.0115, accuracy=0.997]\n",
            "validation epoch 76: 100%|██████████| 15/15 [00:02<00:00,  5.90it/s, loss=0.258, accuracy=0.948]\n"
          ]
        },
        {
          "name": "stdout",
          "output_type": "stream",
          "text": [
            "lr: 0.0125\n"
          ]
        },
        {
          "name": "stderr",
          "output_type": "stream",
          "text": [
            "train epoch 77: 100%|██████████| 58/58 [00:21<00:00,  2.73it/s, loss=0.0102, accuracy=0.998]\n",
            "validation epoch 77: 100%|██████████| 15/15 [00:02<00:00,  5.42it/s, loss=0.256, accuracy=0.949]\n"
          ]
        },
        {
          "name": "stdout",
          "output_type": "stream",
          "text": [
            "lr: 0.0125\n"
          ]
        },
        {
          "name": "stderr",
          "output_type": "stream",
          "text": [
            "train epoch 78: 100%|██████████| 58/58 [00:21<00:00,  2.73it/s, loss=0.00968, accuracy=0.998]\n",
            "validation epoch 78: 100%|██████████| 15/15 [00:02<00:00,  5.68it/s, loss=0.258, accuracy=0.95]\n"
          ]
        },
        {
          "name": "stdout",
          "output_type": "stream",
          "text": [
            "lr: 0.0125\n"
          ]
        },
        {
          "name": "stderr",
          "output_type": "stream",
          "text": [
            "train epoch 79: 100%|██████████| 58/58 [00:21<00:00,  2.73it/s, loss=0.00924, accuracy=0.998]\n",
            "validation epoch 79: 100%|██████████| 15/15 [00:02<00:00,  5.89it/s, loss=0.259, accuracy=0.949]\n"
          ]
        },
        {
          "name": "stdout",
          "output_type": "stream",
          "text": [
            "lr: 0.0125\n"
          ]
        },
        {
          "name": "stderr",
          "output_type": "stream",
          "text": [
            "train epoch 80: 100%|██████████| 58/58 [00:21<00:00,  2.72it/s, loss=0.00873, accuracy=0.998]\n",
            "validation epoch 80: 100%|██████████| 15/15 [00:02<00:00,  6.06it/s, loss=0.266, accuracy=0.95]\n"
          ]
        },
        {
          "name": "stdout",
          "output_type": "stream",
          "text": [
            "lr: 0.0125\n"
          ]
        },
        {
          "name": "stderr",
          "output_type": "stream",
          "text": [
            "train epoch 81: 100%|██████████| 58/58 [00:21<00:00,  2.72it/s, loss=0.00749, accuracy=0.998]\n",
            "validation epoch 81: 100%|██████████| 15/15 [00:02<00:00,  5.87it/s, loss=0.262, accuracy=0.95]\n"
          ]
        },
        {
          "name": "stdout",
          "output_type": "stream",
          "text": [
            "lr: 0.0125\n"
          ]
        },
        {
          "name": "stderr",
          "output_type": "stream",
          "text": [
            "train epoch 82: 100%|██████████| 58/58 [00:21<00:00,  2.72it/s, loss=0.0081, accuracy=0.998]\n",
            "validation epoch 82: 100%|██████████| 15/15 [00:02<00:00,  5.85it/s, loss=0.267, accuracy=0.948]\n"
          ]
        },
        {
          "name": "stdout",
          "output_type": "stream",
          "text": [
            "lr: 0.0125\n"
          ]
        },
        {
          "name": "stderr",
          "output_type": "stream",
          "text": [
            "train epoch 83: 100%|██████████| 58/58 [00:21<00:00,  2.73it/s, loss=0.00767, accuracy=0.998]\n",
            "validation epoch 83: 100%|██████████| 15/15 [00:02<00:00,  5.53it/s, loss=0.263, accuracy=0.95]\n"
          ]
        },
        {
          "name": "stdout",
          "output_type": "stream",
          "text": [
            "lr: 0.0125\n"
          ]
        },
        {
          "name": "stderr",
          "output_type": "stream",
          "text": [
            "train epoch 84: 100%|██████████| 58/58 [00:21<00:00,  2.73it/s, loss=0.00675, accuracy=0.998]\n",
            "validation epoch 84: 100%|██████████| 15/15 [00:02<00:00,  5.80it/s, loss=0.27, accuracy=0.95]\n"
          ]
        },
        {
          "name": "stdout",
          "output_type": "stream",
          "text": [
            "lr: 0.0125\n"
          ]
        },
        {
          "name": "stderr",
          "output_type": "stream",
          "text": [
            "train epoch 85: 100%|██████████| 58/58 [00:21<00:00,  2.73it/s, loss=0.00792, accuracy=0.998]\n",
            "validation epoch 85: 100%|██████████| 15/15 [00:02<00:00,  5.94it/s, loss=0.259, accuracy=0.951]\n"
          ]
        },
        {
          "name": "stdout",
          "output_type": "stream",
          "text": [
            "lr: 0.0125\n"
          ]
        },
        {
          "name": "stderr",
          "output_type": "stream",
          "text": [
            "train epoch 86: 100%|██████████| 58/58 [00:21<00:00,  2.72it/s, loss=0.00642, accuracy=0.999]\n",
            "validation epoch 86: 100%|██████████| 15/15 [00:02<00:00,  5.80it/s, loss=0.258, accuracy=0.949]\n"
          ]
        },
        {
          "name": "stdout",
          "output_type": "stream",
          "text": [
            "lr: 0.0125\n"
          ]
        },
        {
          "name": "stderr",
          "output_type": "stream",
          "text": [
            "train epoch 87: 100%|██████████| 58/58 [00:21<00:00,  2.71it/s, loss=0.00666, accuracy=0.999]\n",
            "validation epoch 87: 100%|██████████| 15/15 [00:02<00:00,  5.93it/s, loss=0.26, accuracy=0.95]\n"
          ]
        },
        {
          "name": "stdout",
          "output_type": "stream",
          "text": [
            "lr: 0.0125\n"
          ]
        },
        {
          "name": "stderr",
          "output_type": "stream",
          "text": [
            "train epoch 88: 100%|██████████| 58/58 [00:21<00:00,  2.74it/s, loss=0.00645, accuracy=0.999]\n",
            "validation epoch 88: 100%|██████████| 15/15 [00:02<00:00,  5.38it/s, loss=0.263, accuracy=0.949]\n"
          ]
        },
        {
          "name": "stdout",
          "output_type": "stream",
          "text": [
            "lr: 0.0125\n"
          ]
        },
        {
          "name": "stderr",
          "output_type": "stream",
          "text": [
            "train epoch 89: 100%|██████████| 58/58 [00:21<00:00,  2.74it/s, loss=0.00623, accuracy=0.999]\n",
            "validation epoch 89: 100%|██████████| 15/15 [00:02<00:00,  5.51it/s, loss=0.277, accuracy=0.951]\n"
          ]
        },
        {
          "name": "stdout",
          "output_type": "stream",
          "text": [
            "lr: 0.0125\n"
          ]
        },
        {
          "name": "stderr",
          "output_type": "stream",
          "text": [
            "train epoch 90: 100%|██████████| 58/58 [00:21<00:00,  2.70it/s, loss=0.00797, accuracy=0.998]\n",
            "validation epoch 90: 100%|██████████| 15/15 [00:02<00:00,  5.79it/s, loss=0.266, accuracy=0.95]\n"
          ]
        },
        {
          "name": "stdout",
          "output_type": "stream",
          "text": [
            "lr: 0.0125\n"
          ]
        },
        {
          "name": "stderr",
          "output_type": "stream",
          "text": [
            "train epoch 91: 100%|██████████| 58/58 [00:21<00:00,  2.73it/s, loss=0.00603, accuracy=0.999]\n",
            "validation epoch 91: 100%|██████████| 15/15 [00:02<00:00,  5.81it/s, loss=0.275, accuracy=0.948]\n"
          ]
        },
        {
          "name": "stdout",
          "output_type": "stream",
          "text": [
            "lr: 0.0125\n"
          ]
        },
        {
          "name": "stderr",
          "output_type": "stream",
          "text": [
            "train epoch 92: 100%|██████████| 58/58 [00:21<00:00,  2.73it/s, loss=0.00604, accuracy=0.999]\n",
            "validation epoch 92: 100%|██████████| 15/15 [00:02<00:00,  5.89it/s, loss=0.262, accuracy=0.952]\n"
          ]
        },
        {
          "name": "stdout",
          "output_type": "stream",
          "text": [
            "lr: 0.0125\n"
          ]
        },
        {
          "name": "stderr",
          "output_type": "stream",
          "text": [
            "train epoch 93: 100%|██████████| 58/58 [00:21<00:00,  2.73it/s, loss=0.00618, accuracy=0.999]\n",
            "validation epoch 93: 100%|██████████| 15/15 [00:02<00:00,  5.92it/s, loss=0.277, accuracy=0.947]\n"
          ]
        },
        {
          "name": "stdout",
          "output_type": "stream",
          "text": [
            "lr: 0.0125\n"
          ]
        },
        {
          "name": "stderr",
          "output_type": "stream",
          "text": [
            "train epoch 94: 100%|██████████| 58/58 [00:21<00:00,  2.73it/s, loss=0.00642, accuracy=0.999]\n",
            "validation epoch 94: 100%|██████████| 15/15 [00:02<00:00,  5.45it/s, loss=0.277, accuracy=0.95]\n"
          ]
        },
        {
          "name": "stdout",
          "output_type": "stream",
          "text": [
            "lr: 0.0125\n"
          ]
        },
        {
          "name": "stderr",
          "output_type": "stream",
          "text": [
            "train epoch 95: 100%|██████████| 58/58 [00:21<00:00,  2.75it/s, loss=0.00579, accuracy=0.999]\n",
            "validation epoch 95: 100%|██████████| 15/15 [00:02<00:00,  5.86it/s, loss=0.267, accuracy=0.949]\n"
          ]
        },
        {
          "name": "stdout",
          "output_type": "stream",
          "text": [
            "lr: 0.0125\n"
          ]
        },
        {
          "name": "stderr",
          "output_type": "stream",
          "text": [
            "train epoch 96: 100%|██████████| 58/58 [00:21<00:00,  2.73it/s, loss=0.00464, accuracy=0.999]\n",
            "validation epoch 96: 100%|██████████| 15/15 [00:02<00:00,  5.82it/s, loss=0.27, accuracy=0.95]\n"
          ]
        },
        {
          "name": "stdout",
          "output_type": "stream",
          "text": [
            "lr: 0.0125\n"
          ]
        },
        {
          "name": "stderr",
          "output_type": "stream",
          "text": [
            "train epoch 97: 100%|██████████| 58/58 [00:21<00:00,  2.72it/s, loss=0.00464, accuracy=0.999]\n",
            "validation epoch 97: 100%|██████████| 15/15 [00:02<00:00,  5.92it/s, loss=0.264, accuracy=0.951]\n"
          ]
        },
        {
          "name": "stdout",
          "output_type": "stream",
          "text": [
            "lr: 0.0125\n"
          ]
        },
        {
          "name": "stderr",
          "output_type": "stream",
          "text": [
            "train epoch 98: 100%|██████████| 58/58 [00:21<00:00,  2.73it/s, loss=0.00422, accuracy=0.999]\n",
            "validation epoch 98: 100%|██████████| 15/15 [00:02<00:00,  5.88it/s, loss=0.266, accuracy=0.952]\n"
          ]
        },
        {
          "name": "stdout",
          "output_type": "stream",
          "text": [
            "lr: 0.0125\n"
          ]
        },
        {
          "name": "stderr",
          "output_type": "stream",
          "text": [
            "train epoch 99: 100%|██████████| 58/58 [00:21<00:00,  2.74it/s, loss=0.00449, accuracy=0.999]\n",
            "validation epoch 99: 100%|██████████| 15/15 [00:02<00:00,  5.39it/s, loss=0.269, accuracy=0.95]\n"
          ]
        },
        {
          "name": "stdout",
          "output_type": "stream",
          "text": [
            "lr: 0.00625\n"
          ]
        },
        {
          "name": "stderr",
          "output_type": "stream",
          "text": [
            "train epoch 100: 100%|██████████| 58/58 [00:21<00:00,  2.73it/s, loss=0.00401, accuracy=0.999]\n",
            "validation epoch 100: 100%|██████████| 15/15 [00:02<00:00,  5.85it/s, loss=0.263, accuracy=0.951]\n"
          ]
        },
        {
          "name": "stdout",
          "output_type": "stream",
          "text": [
            "lr: 0.00625\n"
          ]
        },
        {
          "name": "stderr",
          "output_type": "stream",
          "text": [
            "train epoch 101: 100%|██████████| 58/58 [00:21<00:00,  2.72it/s, loss=0.00343, accuracy=0.999]\n",
            "validation epoch 101: 100%|██████████| 15/15 [00:02<00:00,  5.91it/s, loss=0.261, accuracy=0.951]\n"
          ]
        },
        {
          "name": "stdout",
          "output_type": "stream",
          "text": [
            "lr: 0.00625\n"
          ]
        },
        {
          "name": "stderr",
          "output_type": "stream",
          "text": [
            "train epoch 102: 100%|██████████| 58/58 [00:21<00:00,  2.72it/s, loss=0.00304, accuracy=1]\n",
            "validation epoch 102: 100%|██████████| 15/15 [00:02<00:00,  5.86it/s, loss=0.261, accuracy=0.952]\n"
          ]
        },
        {
          "name": "stdout",
          "output_type": "stream",
          "text": [
            "lr: 0.00625\n"
          ]
        },
        {
          "name": "stderr",
          "output_type": "stream",
          "text": [
            "train epoch 103: 100%|██████████| 58/58 [00:21<00:00,  2.72it/s, loss=0.00305, accuracy=1]\n",
            "validation epoch 103: 100%|██████████| 15/15 [00:02<00:00,  5.73it/s, loss=0.259, accuracy=0.952]\n"
          ]
        },
        {
          "name": "stdout",
          "output_type": "stream",
          "text": [
            "lr: 0.00625\n"
          ]
        },
        {
          "name": "stderr",
          "output_type": "stream",
          "text": [
            "train epoch 104: 100%|██████████| 58/58 [00:21<00:00,  2.73it/s, loss=0.00315, accuracy=1]\n",
            "validation epoch 104: 100%|██████████| 15/15 [00:02<00:00,  5.46it/s, loss=0.259, accuracy=0.953]\n"
          ]
        },
        {
          "name": "stdout",
          "output_type": "stream",
          "text": [
            "lr: 0.00625\n"
          ]
        },
        {
          "name": "stderr",
          "output_type": "stream",
          "text": [
            "train epoch 105: 100%|██████████| 58/58 [00:21<00:00,  2.73it/s, loss=0.00289, accuracy=1]\n",
            "validation epoch 105: 100%|██████████| 15/15 [00:02<00:00,  5.68it/s, loss=0.261, accuracy=0.953]\n"
          ]
        },
        {
          "name": "stdout",
          "output_type": "stream",
          "text": [
            "lr: 0.00625\n"
          ]
        },
        {
          "name": "stderr",
          "output_type": "stream",
          "text": [
            "train epoch 106: 100%|██████████| 58/58 [00:21<00:00,  2.71it/s, loss=0.00296, accuracy=1]\n",
            "validation epoch 106: 100%|██████████| 15/15 [00:02<00:00,  5.86it/s, loss=0.259, accuracy=0.952]\n"
          ]
        },
        {
          "name": "stdout",
          "output_type": "stream",
          "text": [
            "lr: 0.00625\n"
          ]
        },
        {
          "name": "stderr",
          "output_type": "stream",
          "text": [
            "train epoch 107: 100%|██████████| 58/58 [00:21<00:00,  2.71it/s, loss=0.00282, accuracy=1]\n",
            "validation epoch 107: 100%|██████████| 15/15 [00:02<00:00,  5.89it/s, loss=0.263, accuracy=0.951]\n"
          ]
        },
        {
          "name": "stdout",
          "output_type": "stream",
          "text": [
            "lr: 0.00625\n"
          ]
        },
        {
          "name": "stderr",
          "output_type": "stream",
          "text": [
            "train epoch 108: 100%|██████████| 58/58 [00:21<00:00,  2.72it/s, loss=0.00292, accuracy=1]\n",
            "validation epoch 108: 100%|██████████| 15/15 [00:02<00:00,  5.89it/s, loss=0.262, accuracy=0.953]\n"
          ]
        },
        {
          "name": "stdout",
          "output_type": "stream",
          "text": [
            "lr: 0.00625\n"
          ]
        },
        {
          "name": "stderr",
          "output_type": "stream",
          "text": [
            "train epoch 109: 100%|██████████| 58/58 [00:21<00:00,  2.72it/s, loss=0.00301, accuracy=1]\n",
            "validation epoch 109: 100%|██████████| 15/15 [00:02<00:00,  5.81it/s, loss=0.264, accuracy=0.951]\n"
          ]
        },
        {
          "name": "stdout",
          "output_type": "stream",
          "text": [
            "lr: 0.00625\n"
          ]
        },
        {
          "name": "stderr",
          "output_type": "stream",
          "text": [
            "train epoch 110: 100%|██████████| 58/58 [00:21<00:00,  2.73it/s, loss=0.00264, accuracy=1]\n",
            "validation epoch 110: 100%|██████████| 15/15 [00:02<00:00,  5.50it/s, loss=0.263, accuracy=0.953]\n"
          ]
        },
        {
          "name": "stdout",
          "output_type": "stream",
          "text": [
            "lr: 0.00625\n"
          ]
        },
        {
          "name": "stderr",
          "output_type": "stream",
          "text": [
            "train epoch 111: 100%|██████████| 58/58 [00:21<00:00,  2.73it/s, loss=0.00262, accuracy=1]\n",
            "validation epoch 111: 100%|██████████| 15/15 [00:02<00:00,  5.82it/s, loss=0.259, accuracy=0.953]\n"
          ]
        },
        {
          "name": "stdout",
          "output_type": "stream",
          "text": [
            "lr: 0.00625\n"
          ]
        },
        {
          "name": "stderr",
          "output_type": "stream",
          "text": [
            "train epoch 112: 100%|██████████| 58/58 [00:21<00:00,  2.72it/s, loss=0.00241, accuracy=1]\n",
            "validation epoch 112: 100%|██████████| 15/15 [00:02<00:00,  5.92it/s, loss=0.262, accuracy=0.952]\n"
          ]
        },
        {
          "name": "stdout",
          "output_type": "stream",
          "text": [
            "lr: 0.00625\n"
          ]
        },
        {
          "name": "stderr",
          "output_type": "stream",
          "text": [
            "train epoch 113: 100%|██████████| 58/58 [00:21<00:00,  2.72it/s, loss=0.00236, accuracy=1]\n",
            "validation epoch 113: 100%|██████████| 15/15 [00:02<00:00,  5.96it/s, loss=0.26, accuracy=0.952]\n"
          ]
        },
        {
          "name": "stdout",
          "output_type": "stream",
          "text": [
            "lr: 0.00625\n"
          ]
        },
        {
          "name": "stderr",
          "output_type": "stream",
          "text": [
            "train epoch 114: 100%|██████████| 58/58 [00:21<00:00,  2.72it/s, loss=0.00262, accuracy=1]\n",
            "validation epoch 114: 100%|██████████| 15/15 [00:02<00:00,  5.83it/s, loss=0.264, accuracy=0.953]\n"
          ]
        },
        {
          "name": "stdout",
          "output_type": "stream",
          "text": [
            "lr: 0.00625\n"
          ]
        },
        {
          "name": "stderr",
          "output_type": "stream",
          "text": [
            "train epoch 115: 100%|██████████| 58/58 [00:21<00:00,  2.73it/s, loss=0.00261, accuracy=1]\n",
            "validation epoch 115: 100%|██████████| 15/15 [00:02<00:00,  5.43it/s, loss=0.257, accuracy=0.953]\n"
          ]
        },
        {
          "name": "stdout",
          "output_type": "stream",
          "text": [
            "lr: 0.00625\n"
          ]
        },
        {
          "name": "stderr",
          "output_type": "stream",
          "text": [
            "train epoch 116: 100%|██████████| 58/58 [00:21<00:00,  2.73it/s, loss=0.00261, accuracy=1]\n",
            "validation epoch 116: 100%|██████████| 15/15 [00:02<00:00,  5.84it/s, loss=0.259, accuracy=0.952]\n"
          ]
        },
        {
          "name": "stdout",
          "output_type": "stream",
          "text": [
            "lr: 0.00625\n"
          ]
        },
        {
          "name": "stderr",
          "output_type": "stream",
          "text": [
            "train epoch 117: 100%|██████████| 58/58 [00:21<00:00,  2.72it/s, loss=0.00242, accuracy=1]\n",
            "validation epoch 117: 100%|██████████| 15/15 [00:02<00:00,  5.94it/s, loss=0.258, accuracy=0.953]\n"
          ]
        },
        {
          "name": "stdout",
          "output_type": "stream",
          "text": [
            "lr: 0.00625\n"
          ]
        },
        {
          "name": "stderr",
          "output_type": "stream",
          "text": [
            "train epoch 118: 100%|██████████| 58/58 [00:21<00:00,  2.72it/s, loss=0.00257, accuracy=1]\n",
            "validation epoch 118: 100%|██████████| 15/15 [00:02<00:00,  5.98it/s, loss=0.258, accuracy=0.954]\n"
          ]
        },
        {
          "name": "stdout",
          "output_type": "stream",
          "text": [
            "lr: 0.00625\n"
          ]
        },
        {
          "name": "stderr",
          "output_type": "stream",
          "text": [
            "train epoch 119: 100%|██████████| 58/58 [00:21<00:00,  2.72it/s, loss=0.00231, accuracy=1]\n",
            "validation epoch 119: 100%|██████████| 15/15 [00:02<00:00,  5.92it/s, loss=0.26, accuracy=0.952]\n"
          ]
        },
        {
          "name": "stdout",
          "output_type": "stream",
          "text": [
            "lr: 0.00625\n"
          ]
        },
        {
          "name": "stderr",
          "output_type": "stream",
          "text": [
            "train epoch 120: 100%|██████████| 58/58 [00:21<00:00,  2.73it/s, loss=0.00241, accuracy=1]\n",
            "validation epoch 120: 100%|██████████| 15/15 [00:02<00:00,  5.54it/s, loss=0.258, accuracy=0.953]\n"
          ]
        },
        {
          "name": "stdout",
          "output_type": "stream",
          "text": [
            "lr: 0.00625\n"
          ]
        },
        {
          "name": "stderr",
          "output_type": "stream",
          "text": [
            "train epoch 121: 100%|██████████| 58/58 [00:21<00:00,  2.73it/s, loss=0.00232, accuracy=1]\n",
            "validation epoch 121: 100%|██████████| 15/15 [00:02<00:00,  5.59it/s, loss=0.259, accuracy=0.951]\n"
          ]
        },
        {
          "name": "stdout",
          "output_type": "stream",
          "text": [
            "lr: 0.00625\n"
          ]
        },
        {
          "name": "stderr",
          "output_type": "stream",
          "text": [
            "train epoch 122: 100%|██████████| 58/58 [00:21<00:00,  2.71it/s, loss=0.00219, accuracy=1]\n",
            "validation epoch 122: 100%|██████████| 15/15 [00:02<00:00,  5.90it/s, loss=0.257, accuracy=0.953]\n"
          ]
        },
        {
          "name": "stdout",
          "output_type": "stream",
          "text": [
            "lr: 0.00625\n"
          ]
        },
        {
          "name": "stderr",
          "output_type": "stream",
          "text": [
            "train epoch 123: 100%|██████████| 58/58 [00:21<00:00,  2.72it/s, loss=0.00219, accuracy=1]\n",
            "validation epoch 123: 100%|██████████| 15/15 [00:02<00:00,  5.95it/s, loss=0.259, accuracy=0.953]\n"
          ]
        },
        {
          "name": "stdout",
          "output_type": "stream",
          "text": [
            "lr: 0.00625\n"
          ]
        },
        {
          "name": "stderr",
          "output_type": "stream",
          "text": [
            "train epoch 124: 100%|██████████| 58/58 [00:21<00:00,  2.72it/s, loss=0.00232, accuracy=1]\n",
            "validation epoch 124: 100%|██████████| 15/15 [00:02<00:00,  5.89it/s, loss=0.259, accuracy=0.951]\n"
          ]
        },
        {
          "name": "stdout",
          "output_type": "stream",
          "text": [
            "lr: 0.003125\n"
          ]
        },
        {
          "name": "stderr",
          "output_type": "stream",
          "text": [
            "train epoch 125: 100%|██████████| 58/58 [00:21<00:00,  2.72it/s, loss=0.00227, accuracy=1]\n",
            "validation epoch 125: 100%|██████████| 15/15 [00:02<00:00,  5.88it/s, loss=0.259, accuracy=0.952]\n"
          ]
        },
        {
          "name": "stdout",
          "output_type": "stream",
          "text": [
            "lr: 0.003125\n"
          ]
        },
        {
          "name": "stderr",
          "output_type": "stream",
          "text": [
            "train epoch 126: 100%|██████████| 58/58 [00:21<00:00,  2.73it/s, loss=0.002, accuracy=1]\n",
            "validation epoch 126: 100%|██████████| 15/15 [00:02<00:00,  5.42it/s, loss=0.257, accuracy=0.952]\n"
          ]
        },
        {
          "name": "stdout",
          "output_type": "stream",
          "text": [
            "lr: 0.003125\n"
          ]
        },
        {
          "name": "stderr",
          "output_type": "stream",
          "text": [
            "train epoch 127: 100%|██████████| 58/58 [00:21<00:00,  2.73it/s, loss=0.0021, accuracy=1]\n",
            "validation epoch 127: 100%|██████████| 15/15 [00:02<00:00,  5.90it/s, loss=0.26, accuracy=0.953]\n"
          ]
        },
        {
          "name": "stdout",
          "output_type": "stream",
          "text": [
            "lr: 0.003125\n"
          ]
        },
        {
          "name": "stderr",
          "output_type": "stream",
          "text": [
            "train epoch 128: 100%|██████████| 58/58 [00:21<00:00,  2.72it/s, loss=0.00209, accuracy=1]\n",
            "validation epoch 128: 100%|██████████| 15/15 [00:02<00:00,  5.92it/s, loss=0.259, accuracy=0.952]\n"
          ]
        },
        {
          "name": "stdout",
          "output_type": "stream",
          "text": [
            "lr: 0.003125\n"
          ]
        },
        {
          "name": "stderr",
          "output_type": "stream",
          "text": [
            "train epoch 129: 100%|██████████| 58/58 [00:21<00:00,  2.72it/s, loss=0.00219, accuracy=1]\n",
            "validation epoch 129: 100%|██████████| 15/15 [00:02<00:00,  5.96it/s, loss=0.258, accuracy=0.953]\n"
          ]
        },
        {
          "name": "stdout",
          "output_type": "stream",
          "text": [
            "lr: 0.003125\n"
          ]
        },
        {
          "name": "stderr",
          "output_type": "stream",
          "text": [
            "train epoch 130: 100%|██████████| 58/58 [00:21<00:00,  2.72it/s, loss=0.00201, accuracy=1]\n",
            "validation epoch 130: 100%|██████████| 15/15 [00:02<00:00,  5.86it/s, loss=0.256, accuracy=0.951]\n"
          ]
        },
        {
          "name": "stdout",
          "output_type": "stream",
          "text": [
            "lr: 0.003125\n"
          ]
        },
        {
          "name": "stderr",
          "output_type": "stream",
          "text": [
            "train epoch 131: 100%|██████████| 58/58 [00:21<00:00,  2.73it/s, loss=0.00214, accuracy=1]\n",
            "validation epoch 131: 100%|██████████| 15/15 [00:02<00:00,  5.93it/s, loss=0.257, accuracy=0.953]\n"
          ]
        },
        {
          "name": "stdout",
          "output_type": "stream",
          "text": [
            "lr: 0.003125\n"
          ]
        },
        {
          "name": "stderr",
          "output_type": "stream",
          "text": [
            "train epoch 132: 100%|██████████| 58/58 [00:21<00:00,  2.71it/s, loss=0.002, accuracy=1]\n",
            "validation epoch 132: 100%|██████████| 15/15 [00:02<00:00,  5.89it/s, loss=0.256, accuracy=0.953]\n"
          ]
        },
        {
          "name": "stdout",
          "output_type": "stream",
          "text": [
            "lr: 0.003125\n"
          ]
        },
        {
          "name": "stderr",
          "output_type": "stream",
          "text": [
            "train epoch 133: 100%|██████████| 58/58 [00:21<00:00,  2.73it/s, loss=0.00195, accuracy=1]\n",
            "validation epoch 133: 100%|██████████| 15/15 [00:02<00:00,  5.90it/s, loss=0.258, accuracy=0.952]\n"
          ]
        },
        {
          "name": "stdout",
          "output_type": "stream",
          "text": [
            "lr: 0.003125\n"
          ]
        },
        {
          "name": "stderr",
          "output_type": "stream",
          "text": [
            "train epoch 134: 100%|██████████| 58/58 [00:21<00:00,  2.73it/s, loss=0.00204, accuracy=1]\n",
            "validation epoch 134: 100%|██████████| 15/15 [00:02<00:00,  5.92it/s, loss=0.257, accuracy=0.953]\n"
          ]
        },
        {
          "name": "stdout",
          "output_type": "stream",
          "text": [
            "lr: 0.003125\n"
          ]
        },
        {
          "name": "stderr",
          "output_type": "stream",
          "text": [
            "train epoch 135: 100%|██████████| 58/58 [00:21<00:00,  2.72it/s, loss=0.00199, accuracy=1]\n",
            "validation epoch 135: 100%|██████████| 15/15 [00:02<00:00,  5.83it/s, loss=0.255, accuracy=0.954]\n"
          ]
        },
        {
          "name": "stdout",
          "output_type": "stream",
          "text": [
            "lr: 0.003125\n"
          ]
        },
        {
          "name": "stderr",
          "output_type": "stream",
          "text": [
            "train epoch 136: 100%|██████████| 58/58 [00:21<00:00,  2.74it/s, loss=0.00205, accuracy=1]\n",
            "validation epoch 136: 100%|██████████| 15/15 [00:02<00:00,  5.38it/s, loss=0.257, accuracy=0.952]\n"
          ]
        },
        {
          "name": "stdout",
          "output_type": "stream",
          "text": [
            "lr: 0.003125\n"
          ]
        },
        {
          "name": "stderr",
          "output_type": "stream",
          "text": [
            "train epoch 137: 100%|██████████| 58/58 [00:21<00:00,  2.74it/s, loss=0.00188, accuracy=1]\n",
            "validation epoch 137: 100%|██████████| 15/15 [00:02<00:00,  5.86it/s, loss=0.254, accuracy=0.953]\n"
          ]
        },
        {
          "name": "stdout",
          "output_type": "stream",
          "text": [
            "lr: 0.003125\n"
          ]
        },
        {
          "name": "stderr",
          "output_type": "stream",
          "text": [
            "train epoch 138: 100%|██████████| 58/58 [00:21<00:00,  2.72it/s, loss=0.00194, accuracy=1]\n",
            "validation epoch 138: 100%|██████████| 15/15 [00:02<00:00,  5.83it/s, loss=0.254, accuracy=0.952]\n"
          ]
        },
        {
          "name": "stdout",
          "output_type": "stream",
          "text": [
            "lr: 0.003125\n"
          ]
        },
        {
          "name": "stderr",
          "output_type": "stream",
          "text": [
            "train epoch 139: 100%|██████████| 58/58 [00:21<00:00,  2.72it/s, loss=0.00201, accuracy=1]\n",
            "validation epoch 139: 100%|██████████| 15/15 [00:02<00:00,  5.89it/s, loss=0.258, accuracy=0.953]\n"
          ]
        },
        {
          "name": "stdout",
          "output_type": "stream",
          "text": [
            "lr: 0.003125\n"
          ]
        },
        {
          "name": "stderr",
          "output_type": "stream",
          "text": [
            "train epoch 140: 100%|██████████| 58/58 [00:21<00:00,  2.71it/s, loss=0.00188, accuracy=1]\n",
            "validation epoch 140: 100%|██████████| 15/15 [00:02<00:00,  5.84it/s, loss=0.257, accuracy=0.955]\n"
          ]
        },
        {
          "name": "stdout",
          "output_type": "stream",
          "text": [
            "lr: 0.003125\n"
          ]
        },
        {
          "name": "stderr",
          "output_type": "stream",
          "text": [
            "train epoch 141: 100%|██████████| 58/58 [00:21<00:00,  2.73it/s, loss=0.00188, accuracy=1]\n",
            "validation epoch 141: 100%|██████████| 15/15 [00:02<00:00,  5.37it/s, loss=0.257, accuracy=0.953]\n"
          ]
        },
        {
          "name": "stdout",
          "output_type": "stream",
          "text": [
            "lr: 0.003125\n"
          ]
        },
        {
          "name": "stderr",
          "output_type": "stream",
          "text": [
            "train epoch 142: 100%|██████████| 58/58 [00:21<00:00,  2.73it/s, loss=0.00189, accuracy=1]\n",
            "validation epoch 142: 100%|██████████| 15/15 [00:02<00:00,  5.90it/s, loss=0.256, accuracy=0.952]\n"
          ]
        },
        {
          "name": "stdout",
          "output_type": "stream",
          "text": [
            "lr: 0.003125\n"
          ]
        },
        {
          "name": "stderr",
          "output_type": "stream",
          "text": [
            "train epoch 143: 100%|██████████| 58/58 [00:21<00:00,  2.72it/s, loss=0.00186, accuracy=1]\n",
            "validation epoch 143: 100%|██████████| 15/15 [00:02<00:00,  5.93it/s, loss=0.254, accuracy=0.954]\n"
          ]
        },
        {
          "name": "stdout",
          "output_type": "stream",
          "text": [
            "lr: 0.003125\n"
          ]
        },
        {
          "name": "stderr",
          "output_type": "stream",
          "text": [
            "train epoch 144: 100%|██████████| 58/58 [00:21<00:00,  2.71it/s, loss=0.00177, accuracy=1]\n",
            "validation epoch 144: 100%|██████████| 15/15 [00:02<00:00,  5.85it/s, loss=0.255, accuracy=0.954]\n"
          ]
        },
        {
          "name": "stdout",
          "output_type": "stream",
          "text": [
            "lr: 0.003125\n"
          ]
        },
        {
          "name": "stderr",
          "output_type": "stream",
          "text": [
            "train epoch 145: 100%|██████████| 58/58 [00:21<00:00,  2.72it/s, loss=0.00187, accuracy=1]\n",
            "validation epoch 145: 100%|██████████| 15/15 [00:02<00:00,  5.84it/s, loss=0.255, accuracy=0.954]\n"
          ]
        },
        {
          "name": "stdout",
          "output_type": "stream",
          "text": [
            "lr: 0.003125\n"
          ]
        },
        {
          "name": "stderr",
          "output_type": "stream",
          "text": [
            "train epoch 146: 100%|██████████| 58/58 [00:21<00:00,  2.73it/s, loss=0.00192, accuracy=1]\n",
            "validation epoch 146: 100%|██████████| 15/15 [00:02<00:00,  5.49it/s, loss=0.256, accuracy=0.952]\n"
          ]
        },
        {
          "name": "stdout",
          "output_type": "stream",
          "text": [
            "lr: 0.003125\n"
          ]
        },
        {
          "name": "stderr",
          "output_type": "stream",
          "text": [
            "train epoch 147: 100%|██████████| 58/58 [00:21<00:00,  2.74it/s, loss=0.00185, accuracy=1]\n",
            "validation epoch 147: 100%|██████████| 15/15 [00:02<00:00,  5.67it/s, loss=0.256, accuracy=0.953]\n"
          ]
        },
        {
          "name": "stdout",
          "output_type": "stream",
          "text": [
            "lr: 0.003125\n"
          ]
        },
        {
          "name": "stderr",
          "output_type": "stream",
          "text": [
            "train epoch 148: 100%|██████████| 58/58 [00:21<00:00,  2.71it/s, loss=0.00187, accuracy=1]\n",
            "validation epoch 148: 100%|██████████| 15/15 [00:02<00:00,  5.84it/s, loss=0.258, accuracy=0.953]\n"
          ]
        },
        {
          "name": "stdout",
          "output_type": "stream",
          "text": [
            "lr: 0.003125\n"
          ]
        },
        {
          "name": "stderr",
          "output_type": "stream",
          "text": [
            "train epoch 149: 100%|██████████| 58/58 [00:21<00:00,  2.72it/s, loss=0.00203, accuracy=1]\n",
            "validation epoch 149: 100%|██████████| 15/15 [00:02<00:00,  5.85it/s, loss=0.258, accuracy=0.953]\n"
          ]
        },
        {
          "name": "stdout",
          "output_type": "stream",
          "text": [
            "lr: 0.0015625\n"
          ]
        },
        {
          "name": "stderr",
          "output_type": "stream",
          "text": [
            "train epoch 150: 100%|██████████| 58/58 [00:21<00:00,  2.72it/s, loss=0.00181, accuracy=1]\n",
            "validation epoch 150: 100%|██████████| 15/15 [00:02<00:00,  5.84it/s, loss=0.258, accuracy=0.953]\n"
          ]
        },
        {
          "name": "stdout",
          "output_type": "stream",
          "text": [
            "lr: 0.0015625\n"
          ]
        },
        {
          "name": "stderr",
          "output_type": "stream",
          "text": [
            "train epoch 151: 100%|██████████| 58/58 [00:21<00:00,  2.73it/s, loss=0.00188, accuracy=1]\n",
            "validation epoch 151: 100%|██████████| 15/15 [00:02<00:00,  5.82it/s, loss=0.257, accuracy=0.953]\n"
          ]
        },
        {
          "name": "stdout",
          "output_type": "stream",
          "text": [
            "lr: 0.0015625\n"
          ]
        },
        {
          "name": "stderr",
          "output_type": "stream",
          "text": [
            "train epoch 152: 100%|██████████| 58/58 [00:21<00:00,  2.74it/s, loss=0.00179, accuracy=1]\n",
            "validation epoch 152: 100%|██████████| 15/15 [00:02<00:00,  5.45it/s, loss=0.257, accuracy=0.954]\n"
          ]
        },
        {
          "name": "stdout",
          "output_type": "stream",
          "text": [
            "lr: 0.0015625\n"
          ]
        },
        {
          "name": "stderr",
          "output_type": "stream",
          "text": [
            "train epoch 153: 100%|██████████| 58/58 [00:21<00:00,  2.72it/s, loss=0.0018, accuracy=1]\n",
            "validation epoch 153: 100%|██████████| 15/15 [00:02<00:00,  5.90it/s, loss=0.257, accuracy=0.953]\n"
          ]
        },
        {
          "name": "stdout",
          "output_type": "stream",
          "text": [
            "lr: 0.0015625\n"
          ]
        },
        {
          "name": "stderr",
          "output_type": "stream",
          "text": [
            "train epoch 154: 100%|██████████| 58/58 [00:21<00:00,  2.73it/s, loss=0.00184, accuracy=1]\n",
            "validation epoch 154: 100%|██████████| 15/15 [00:02<00:00,  5.87it/s, loss=0.257, accuracy=0.953]\n"
          ]
        },
        {
          "name": "stdout",
          "output_type": "stream",
          "text": [
            "lr: 0.0015625\n"
          ]
        },
        {
          "name": "stderr",
          "output_type": "stream",
          "text": [
            "train epoch 155: 100%|██████████| 58/58 [00:21<00:00,  2.73it/s, loss=0.00176, accuracy=1]\n",
            "validation epoch 155: 100%|██████████| 15/15 [00:02<00:00,  5.88it/s, loss=0.256, accuracy=0.953]\n"
          ]
        },
        {
          "name": "stdout",
          "output_type": "stream",
          "text": [
            "lr: 0.0015625\n"
          ]
        },
        {
          "name": "stderr",
          "output_type": "stream",
          "text": [
            "train epoch 156: 100%|██████████| 58/58 [00:21<00:00,  2.71it/s, loss=0.00186, accuracy=1]\n",
            "validation epoch 156: 100%|██████████| 15/15 [00:02<00:00,  5.79it/s, loss=0.256, accuracy=0.954]\n"
          ]
        },
        {
          "name": "stdout",
          "output_type": "stream",
          "text": [
            "lr: 0.0015625\n"
          ]
        },
        {
          "name": "stderr",
          "output_type": "stream",
          "text": [
            "train epoch 157: 100%|██████████| 58/58 [00:21<00:00,  2.74it/s, loss=0.00178, accuracy=1]\n",
            "validation epoch 157: 100%|██████████| 15/15 [00:02<00:00,  5.45it/s, loss=0.256, accuracy=0.954]\n"
          ]
        },
        {
          "name": "stdout",
          "output_type": "stream",
          "text": [
            "lr: 0.0015625\n"
          ]
        },
        {
          "name": "stderr",
          "output_type": "stream",
          "text": [
            "train epoch 158: 100%|██████████| 58/58 [00:21<00:00,  2.75it/s, loss=0.00178, accuracy=1]\n",
            "validation epoch 158: 100%|██████████| 15/15 [00:02<00:00,  5.82it/s, loss=0.256, accuracy=0.954]\n"
          ]
        },
        {
          "name": "stdout",
          "output_type": "stream",
          "text": [
            "lr: 0.0015625\n"
          ]
        },
        {
          "name": "stderr",
          "output_type": "stream",
          "text": [
            "train epoch 159: 100%|██████████| 58/58 [00:21<00:00,  2.72it/s, loss=0.00176, accuracy=1]\n",
            "validation epoch 159: 100%|██████████| 15/15 [00:02<00:00,  5.82it/s, loss=0.256, accuracy=0.954]\n"
          ]
        },
        {
          "name": "stdout",
          "output_type": "stream",
          "text": [
            "lr: 0.0015625\n"
          ]
        },
        {
          "name": "stderr",
          "output_type": "stream",
          "text": [
            "train epoch 160: 100%|██████████| 58/58 [00:21<00:00,  2.72it/s, loss=0.00173, accuracy=1]\n",
            "validation epoch 160: 100%|██████████| 15/15 [00:02<00:00,  5.88it/s, loss=0.256, accuracy=0.952]\n"
          ]
        },
        {
          "name": "stdout",
          "output_type": "stream",
          "text": [
            "lr: 0.0015625\n"
          ]
        },
        {
          "name": "stderr",
          "output_type": "stream",
          "text": [
            "train epoch 161: 100%|██████████| 58/58 [00:21<00:00,  2.73it/s, loss=0.00174, accuracy=1]\n",
            "validation epoch 161: 100%|██████████| 15/15 [00:02<00:00,  5.82it/s, loss=0.256, accuracy=0.953]\n"
          ]
        },
        {
          "name": "stdout",
          "output_type": "stream",
          "text": [
            "lr: 0.0015625\n"
          ]
        },
        {
          "name": "stderr",
          "output_type": "stream",
          "text": [
            "train epoch 162: 100%|██████████| 58/58 [00:21<00:00,  2.74it/s, loss=0.00173, accuracy=1]\n",
            "validation epoch 162: 100%|██████████| 15/15 [00:02<00:00,  5.48it/s, loss=0.256, accuracy=0.953]\n"
          ]
        },
        {
          "name": "stdout",
          "output_type": "stream",
          "text": [
            "lr: 0.0015625\n"
          ]
        },
        {
          "name": "stderr",
          "output_type": "stream",
          "text": [
            "train epoch 163: 100%|██████████| 58/58 [00:21<00:00,  2.73it/s, loss=0.00174, accuracy=1]\n",
            "validation epoch 163: 100%|██████████| 15/15 [00:02<00:00,  5.80it/s, loss=0.255, accuracy=0.955]\n"
          ]
        },
        {
          "name": "stdout",
          "output_type": "stream",
          "text": [
            "lr: 0.0015625\n"
          ]
        },
        {
          "name": "stderr",
          "output_type": "stream",
          "text": [
            "train epoch 164: 100%|██████████| 58/58 [00:21<00:00,  2.73it/s, loss=0.00172, accuracy=1]\n",
            "validation epoch 164: 100%|██████████| 15/15 [00:02<00:00,  5.87it/s, loss=0.255, accuracy=0.953]\n"
          ]
        },
        {
          "name": "stdout",
          "output_type": "stream",
          "text": [
            "lr: 0.0015625\n"
          ]
        },
        {
          "name": "stderr",
          "output_type": "stream",
          "text": [
            "train epoch 165: 100%|██████████| 58/58 [00:21<00:00,  2.73it/s, loss=0.0018, accuracy=1]\n",
            "validation epoch 165: 100%|██████████| 15/15 [00:02<00:00,  5.78it/s, loss=0.255, accuracy=0.953]\n"
          ]
        },
        {
          "name": "stdout",
          "output_type": "stream",
          "text": [
            "lr: 0.0015625\n"
          ]
        },
        {
          "name": "stderr",
          "output_type": "stream",
          "text": [
            "train epoch 166: 100%|██████████| 58/58 [00:21<00:00,  2.72it/s, loss=0.00169, accuracy=1]\n",
            "validation epoch 166: 100%|██████████| 15/15 [00:02<00:00,  5.82it/s, loss=0.255, accuracy=0.953]\n"
          ]
        },
        {
          "name": "stdout",
          "output_type": "stream",
          "text": [
            "lr: 0.0015625\n"
          ]
        },
        {
          "name": "stderr",
          "output_type": "stream",
          "text": [
            "train epoch 167: 100%|██████████| 58/58 [00:21<00:00,  2.74it/s, loss=0.00181, accuracy=1]\n",
            "validation epoch 167: 100%|██████████| 15/15 [00:02<00:00,  5.85it/s, loss=0.255, accuracy=0.953]\n"
          ]
        },
        {
          "name": "stdout",
          "output_type": "stream",
          "text": [
            "lr: 0.0015625\n"
          ]
        },
        {
          "name": "stderr",
          "output_type": "stream",
          "text": [
            "train epoch 168: 100%|██████████| 58/58 [00:21<00:00,  2.74it/s, loss=0.00164, accuracy=1]\n",
            "validation epoch 168: 100%|██████████| 15/15 [00:02<00:00,  5.61it/s, loss=0.256, accuracy=0.953]\n"
          ]
        },
        {
          "name": "stdout",
          "output_type": "stream",
          "text": [
            "lr: 0.0015625\n"
          ]
        },
        {
          "name": "stderr",
          "output_type": "stream",
          "text": [
            "train epoch 169: 100%|██████████| 58/58 [00:21<00:00,  2.70it/s, loss=0.00171, accuracy=1]\n",
            "validation epoch 169: 100%|██████████| 15/15 [00:02<00:00,  5.84it/s, loss=0.255, accuracy=0.953]\n"
          ]
        },
        {
          "name": "stdout",
          "output_type": "stream",
          "text": [
            "lr: 0.0015625\n"
          ]
        },
        {
          "name": "stderr",
          "output_type": "stream",
          "text": [
            "train epoch 170: 100%|██████████| 58/58 [00:21<00:00,  2.73it/s, loss=0.00181, accuracy=1]\n",
            "validation epoch 170: 100%|██████████| 15/15 [00:02<00:00,  5.86it/s, loss=0.256, accuracy=0.953]\n"
          ]
        },
        {
          "name": "stdout",
          "output_type": "stream",
          "text": [
            "lr: 0.0015625\n"
          ]
        },
        {
          "name": "stderr",
          "output_type": "stream",
          "text": [
            "train epoch 171: 100%|██████████| 58/58 [00:21<00:00,  2.73it/s, loss=0.00168, accuracy=1]\n",
            "validation epoch 171: 100%|██████████| 15/15 [00:02<00:00,  5.83it/s, loss=0.256, accuracy=0.953]\n"
          ]
        },
        {
          "name": "stdout",
          "output_type": "stream",
          "text": [
            "lr: 0.0015625\n"
          ]
        },
        {
          "name": "stderr",
          "output_type": "stream",
          "text": [
            "train epoch 172: 100%|██████████| 58/58 [00:21<00:00,  2.72it/s, loss=0.00178, accuracy=1]\n",
            "validation epoch 172: 100%|██████████| 15/15 [00:02<00:00,  5.83it/s, loss=0.256, accuracy=0.954]\n"
          ]
        },
        {
          "name": "stdout",
          "output_type": "stream",
          "text": [
            "lr: 0.0015625\n"
          ]
        },
        {
          "name": "stderr",
          "output_type": "stream",
          "text": [
            "train epoch 173: 100%|██████████| 58/58 [00:21<00:00,  2.74it/s, loss=0.00174, accuracy=1]\n",
            "validation epoch 173: 100%|██████████| 15/15 [00:02<00:00,  5.43it/s, loss=0.255, accuracy=0.953]\n"
          ]
        },
        {
          "name": "stdout",
          "output_type": "stream",
          "text": [
            "lr: 0.0015625\n"
          ]
        },
        {
          "name": "stderr",
          "output_type": "stream",
          "text": [
            "train epoch 174: 100%|██████████| 58/58 [00:21<00:00,  2.74it/s, loss=0.00166, accuracy=1]\n",
            "validation epoch 174: 100%|██████████| 15/15 [00:02<00:00,  5.84it/s, loss=0.255, accuracy=0.953]\n"
          ]
        },
        {
          "name": "stdout",
          "output_type": "stream",
          "text": [
            "lr: 0.00078125\n"
          ]
        },
        {
          "name": "stderr",
          "output_type": "stream",
          "text": [
            "train epoch 175: 100%|██████████| 58/58 [00:21<00:00,  2.71it/s, loss=0.00172, accuracy=1]\n",
            "validation epoch 175: 100%|██████████| 15/15 [00:02<00:00,  5.73it/s, loss=0.255, accuracy=0.953]\n"
          ]
        },
        {
          "name": "stdout",
          "output_type": "stream",
          "text": [
            "lr: 0.00078125\n"
          ]
        },
        {
          "name": "stderr",
          "output_type": "stream",
          "text": [
            "train epoch 176: 100%|██████████| 58/58 [00:21<00:00,  2.71it/s, loss=0.00164, accuracy=1]\n",
            "validation epoch 176: 100%|██████████| 15/15 [00:02<00:00,  5.81it/s, loss=0.256, accuracy=0.954]\n"
          ]
        },
        {
          "name": "stdout",
          "output_type": "stream",
          "text": [
            "lr: 0.00078125\n"
          ]
        },
        {
          "name": "stderr",
          "output_type": "stream",
          "text": [
            "train epoch 177: 100%|██████████| 58/58 [00:21<00:00,  2.72it/s, loss=0.00171, accuracy=1]\n",
            "validation epoch 177: 100%|██████████| 15/15 [00:02<00:00,  5.62it/s, loss=0.255, accuracy=0.954]\n"
          ]
        },
        {
          "name": "stdout",
          "output_type": "stream",
          "text": [
            "lr: 0.00078125\n"
          ]
        },
        {
          "name": "stderr",
          "output_type": "stream",
          "text": [
            "train epoch 178: 100%|██████████| 58/58 [00:21<00:00,  2.73it/s, loss=0.00173, accuracy=1]\n",
            "validation epoch 178: 100%|██████████| 15/15 [00:02<00:00,  5.40it/s, loss=0.255, accuracy=0.954]\n"
          ]
        },
        {
          "name": "stdout",
          "output_type": "stream",
          "text": [
            "lr: 0.00078125\n"
          ]
        },
        {
          "name": "stderr",
          "output_type": "stream",
          "text": [
            "train epoch 179: 100%|██████████| 58/58 [00:21<00:00,  2.73it/s, loss=0.00173, accuracy=1]\n",
            "validation epoch 179: 100%|██████████| 15/15 [00:02<00:00,  5.81it/s, loss=0.256, accuracy=0.953]\n"
          ]
        },
        {
          "name": "stdout",
          "output_type": "stream",
          "text": [
            "lr: 0.00078125\n"
          ]
        },
        {
          "name": "stderr",
          "output_type": "stream",
          "text": [
            "train epoch 180: 100%|██████████| 58/58 [00:21<00:00,  2.73it/s, loss=0.00168, accuracy=1]\n",
            "validation epoch 180: 100%|██████████| 15/15 [00:02<00:00,  5.77it/s, loss=0.255, accuracy=0.954]\n"
          ]
        },
        {
          "name": "stdout",
          "output_type": "stream",
          "text": [
            "lr: 0.00078125\n"
          ]
        },
        {
          "name": "stderr",
          "output_type": "stream",
          "text": [
            "train epoch 181: 100%|██████████| 58/58 [00:21<00:00,  2.73it/s, loss=0.00163, accuracy=1]\n",
            "validation epoch 181: 100%|██████████| 15/15 [00:02<00:00,  5.77it/s, loss=0.255, accuracy=0.953]\n"
          ]
        },
        {
          "name": "stdout",
          "output_type": "stream",
          "text": [
            "lr: 0.00078125\n"
          ]
        },
        {
          "name": "stderr",
          "output_type": "stream",
          "text": [
            "train epoch 182: 100%|██████████| 58/58 [00:21<00:00,  2.72it/s, loss=0.0016, accuracy=1]\n",
            "validation epoch 182: 100%|██████████| 15/15 [00:02<00:00,  5.80it/s, loss=0.255, accuracy=0.953]\n"
          ]
        },
        {
          "name": "stdout",
          "output_type": "stream",
          "text": [
            "lr: 0.00078125\n"
          ]
        },
        {
          "name": "stderr",
          "output_type": "stream",
          "text": [
            "train epoch 183: 100%|██████████| 58/58 [00:21<00:00,  2.74it/s, loss=0.00165, accuracy=1]\n",
            "validation epoch 183: 100%|██████████| 15/15 [00:02<00:00,  5.40it/s, loss=0.255, accuracy=0.954]\n"
          ]
        },
        {
          "name": "stdout",
          "output_type": "stream",
          "text": [
            "lr: 0.00078125\n"
          ]
        },
        {
          "name": "stderr",
          "output_type": "stream",
          "text": [
            "train epoch 184: 100%|██████████| 58/58 [00:21<00:00,  2.74it/s, loss=0.00165, accuracy=1]\n",
            "validation epoch 184: 100%|██████████| 15/15 [00:02<00:00,  5.66it/s, loss=0.255, accuracy=0.953]\n"
          ]
        },
        {
          "name": "stdout",
          "output_type": "stream",
          "text": [
            "lr: 0.00078125\n"
          ]
        },
        {
          "name": "stderr",
          "output_type": "stream",
          "text": [
            "train epoch 185: 100%|██████████| 58/58 [00:21<00:00,  2.71it/s, loss=0.00159, accuracy=1]\n",
            "validation epoch 185: 100%|██████████| 15/15 [00:02<00:00,  5.78it/s, loss=0.256, accuracy=0.953]\n"
          ]
        },
        {
          "name": "stdout",
          "output_type": "stream",
          "text": [
            "lr: 0.00078125\n"
          ]
        },
        {
          "name": "stderr",
          "output_type": "stream",
          "text": [
            "train epoch 186: 100%|██████████| 58/58 [00:21<00:00,  2.73it/s, loss=0.00178, accuracy=1]\n",
            "validation epoch 186: 100%|██████████| 15/15 [00:02<00:00,  5.77it/s, loss=0.255, accuracy=0.953]\n"
          ]
        },
        {
          "name": "stdout",
          "output_type": "stream",
          "text": [
            "lr: 0.00078125\n"
          ]
        },
        {
          "name": "stderr",
          "output_type": "stream",
          "text": [
            "train epoch 187: 100%|██████████| 58/58 [00:21<00:00,  2.73it/s, loss=0.00178, accuracy=1]\n",
            "validation epoch 187: 100%|██████████| 15/15 [00:02<00:00,  5.75it/s, loss=0.256, accuracy=0.953]\n"
          ]
        },
        {
          "name": "stdout",
          "output_type": "stream",
          "text": [
            "lr: 0.00078125\n"
          ]
        },
        {
          "name": "stderr",
          "output_type": "stream",
          "text": [
            "train epoch 188: 100%|██████████| 58/58 [00:21<00:00,  2.71it/s, loss=0.00171, accuracy=1]\n",
            "validation epoch 188: 100%|██████████| 15/15 [00:02<00:00,  5.77it/s, loss=0.256, accuracy=0.952]\n"
          ]
        },
        {
          "name": "stdout",
          "output_type": "stream",
          "text": [
            "lr: 0.00078125\n"
          ]
        },
        {
          "name": "stderr",
          "output_type": "stream",
          "text": [
            "train epoch 189: 100%|██████████| 58/58 [00:21<00:00,  2.73it/s, loss=0.00178, accuracy=1]\n",
            "validation epoch 189: 100%|██████████| 15/15 [00:02<00:00,  5.87it/s, loss=0.255, accuracy=0.953]\n"
          ]
        },
        {
          "name": "stdout",
          "output_type": "stream",
          "text": [
            "lr: 0.00078125\n"
          ]
        },
        {
          "name": "stderr",
          "output_type": "stream",
          "text": [
            "train epoch 190: 100%|██████████| 58/58 [00:21<00:00,  2.71it/s, loss=0.00168, accuracy=1]\n",
            "validation epoch 190: 100%|██████████| 15/15 [00:02<00:00,  5.77it/s, loss=0.256, accuracy=0.953]\n"
          ]
        },
        {
          "name": "stdout",
          "output_type": "stream",
          "text": [
            "lr: 0.00078125\n"
          ]
        },
        {
          "name": "stderr",
          "output_type": "stream",
          "text": [
            "train epoch 191: 100%|██████████| 58/58 [00:21<00:00,  2.72it/s, loss=0.00159, accuracy=1]\n",
            "validation epoch 191: 100%|██████████| 15/15 [00:02<00:00,  5.88it/s, loss=0.255, accuracy=0.953]\n"
          ]
        },
        {
          "name": "stdout",
          "output_type": "stream",
          "text": [
            "lr: 0.00078125\n"
          ]
        },
        {
          "name": "stderr",
          "output_type": "stream",
          "text": [
            "train epoch 192: 100%|██████████| 58/58 [00:21<00:00,  2.71it/s, loss=0.00167, accuracy=1]\n",
            "validation epoch 192: 100%|██████████| 15/15 [00:02<00:00,  5.86it/s, loss=0.256, accuracy=0.953]\n"
          ]
        },
        {
          "name": "stdout",
          "output_type": "stream",
          "text": [
            "lr: 0.00078125\n"
          ]
        },
        {
          "name": "stderr",
          "output_type": "stream",
          "text": [
            "train epoch 193: 100%|██████████| 58/58 [00:21<00:00,  2.73it/s, loss=0.00173, accuracy=1]\n",
            "validation epoch 193: 100%|██████████| 15/15 [00:02<00:00,  5.85it/s, loss=0.255, accuracy=0.953]\n"
          ]
        },
        {
          "name": "stdout",
          "output_type": "stream",
          "text": [
            "lr: 0.00078125\n"
          ]
        },
        {
          "name": "stderr",
          "output_type": "stream",
          "text": [
            "train epoch 194: 100%|██████████| 58/58 [00:21<00:00,  2.74it/s, loss=0.00162, accuracy=1]\n",
            "validation epoch 194: 100%|██████████| 15/15 [00:02<00:00,  5.46it/s, loss=0.255, accuracy=0.954]\n"
          ]
        },
        {
          "name": "stdout",
          "output_type": "stream",
          "text": [
            "lr: 0.00078125\n"
          ]
        },
        {
          "name": "stderr",
          "output_type": "stream",
          "text": [
            "train epoch 195: 100%|██████████| 58/58 [00:21<00:00,  2.73it/s, loss=0.00158, accuracy=1]\n",
            "validation epoch 195: 100%|██████████| 15/15 [00:02<00:00,  5.77it/s, loss=0.255, accuracy=0.953]\n"
          ]
        },
        {
          "name": "stdout",
          "output_type": "stream",
          "text": [
            "lr: 0.00078125\n"
          ]
        },
        {
          "name": "stderr",
          "output_type": "stream",
          "text": [
            "train epoch 196: 100%|██████████| 58/58 [00:21<00:00,  2.72it/s, loss=0.00175, accuracy=1]\n",
            "validation epoch 196: 100%|██████████| 15/15 [00:02<00:00,  5.75it/s, loss=0.256, accuracy=0.954]\n"
          ]
        },
        {
          "name": "stdout",
          "output_type": "stream",
          "text": [
            "lr: 0.00078125\n"
          ]
        },
        {
          "name": "stderr",
          "output_type": "stream",
          "text": [
            "train epoch 197: 100%|██████████| 58/58 [00:21<00:00,  2.73it/s, loss=0.00166, accuracy=1]\n",
            "validation epoch 197: 100%|██████████| 15/15 [00:02<00:00,  5.83it/s, loss=0.257, accuracy=0.953]\n"
          ]
        },
        {
          "name": "stdout",
          "output_type": "stream",
          "text": [
            "lr: 0.00078125\n"
          ]
        },
        {
          "name": "stderr",
          "output_type": "stream",
          "text": [
            "train epoch 198: 100%|██████████| 58/58 [00:21<00:00,  2.71it/s, loss=0.00168, accuracy=1]\n",
            "validation epoch 198: 100%|██████████| 15/15 [00:02<00:00,  5.90it/s, loss=0.256, accuracy=0.953]\n"
          ]
        },
        {
          "name": "stdout",
          "output_type": "stream",
          "text": [
            "lr: 0.00078125\n"
          ]
        },
        {
          "name": "stderr",
          "output_type": "stream",
          "text": [
            "train epoch 199: 100%|██████████| 58/58 [00:21<00:00,  2.74it/s, loss=0.00163, accuracy=1]\n",
            "validation epoch 199: 100%|██████████| 15/15 [00:02<00:00,  5.39it/s, loss=0.255, accuracy=0.954]\n"
          ]
        },
        {
          "name": "stdout",
          "output_type": "stream",
          "text": [
            "lr: 0.000390625\n"
          ]
        },
        {
          "name": "stderr",
          "output_type": "stream",
          "text": [
            "train epoch 200: 100%|██████████| 58/58 [00:21<00:00,  2.75it/s, loss=0.00173, accuracy=1]\n",
            "validation epoch 200: 100%|██████████| 15/15 [00:02<00:00,  5.71it/s, loss=0.256, accuracy=0.953]\n"
          ]
        },
        {
          "name": "stdout",
          "output_type": "stream",
          "text": [
            "lr: 0.000390625\n"
          ]
        },
        {
          "name": "stderr",
          "output_type": "stream",
          "text": [
            "train epoch 201: 100%|██████████| 58/58 [00:21<00:00,  2.72it/s, loss=0.0016, accuracy=1]\n",
            "validation epoch 201: 100%|██████████| 15/15 [00:02<00:00,  5.94it/s, loss=0.255, accuracy=0.953]\n"
          ]
        },
        {
          "name": "stdout",
          "output_type": "stream",
          "text": [
            "lr: 0.000390625\n"
          ]
        },
        {
          "name": "stderr",
          "output_type": "stream",
          "text": [
            "train epoch 202: 100%|██████████| 58/58 [00:21<00:00,  2.72it/s, loss=0.00169, accuracy=1]\n",
            "validation epoch 202: 100%|██████████| 15/15 [00:02<00:00,  5.79it/s, loss=0.255, accuracy=0.954]\n"
          ]
        },
        {
          "name": "stdout",
          "output_type": "stream",
          "text": [
            "lr: 0.000390625\n"
          ]
        },
        {
          "name": "stderr",
          "output_type": "stream",
          "text": [
            "train epoch 203: 100%|██████████| 58/58 [00:21<00:00,  2.72it/s, loss=0.00163, accuracy=1]\n",
            "validation epoch 203: 100%|██████████| 15/15 [00:02<00:00,  5.86it/s, loss=0.255, accuracy=0.954]\n"
          ]
        },
        {
          "name": "stdout",
          "output_type": "stream",
          "text": [
            "lr: 0.000390625\n"
          ]
        },
        {
          "name": "stderr",
          "output_type": "stream",
          "text": [
            "train epoch 204: 100%|██████████| 58/58 [00:21<00:00,  2.74it/s, loss=0.00166, accuracy=1]\n",
            "validation epoch 204: 100%|██████████| 15/15 [00:02<00:00,  5.36it/s, loss=0.254, accuracy=0.953]\n"
          ]
        },
        {
          "name": "stdout",
          "output_type": "stream",
          "text": [
            "lr: 0.000390625\n"
          ]
        },
        {
          "name": "stderr",
          "output_type": "stream",
          "text": [
            "train epoch 205: 100%|██████████| 58/58 [00:21<00:00,  2.74it/s, loss=0.00163, accuracy=1]\n",
            "validation epoch 205: 100%|██████████| 15/15 [00:02<00:00,  5.57it/s, loss=0.255, accuracy=0.954]\n"
          ]
        },
        {
          "name": "stdout",
          "output_type": "stream",
          "text": [
            "lr: 0.000390625\n"
          ]
        },
        {
          "name": "stderr",
          "output_type": "stream",
          "text": [
            "train epoch 206: 100%|██████████| 58/58 [00:21<00:00,  2.71it/s, loss=0.00166, accuracy=1]\n",
            "validation epoch 206: 100%|██████████| 15/15 [00:02<00:00,  5.79it/s, loss=0.255, accuracy=0.954]\n"
          ]
        },
        {
          "name": "stdout",
          "output_type": "stream",
          "text": [
            "lr: 0.000390625\n"
          ]
        },
        {
          "name": "stderr",
          "output_type": "stream",
          "text": [
            "train epoch 207: 100%|██████████| 58/58 [00:21<00:00,  2.72it/s, loss=0.00165, accuracy=1]\n",
            "validation epoch 207: 100%|██████████| 15/15 [00:02<00:00,  5.74it/s, loss=0.254, accuracy=0.953]\n"
          ]
        },
        {
          "name": "stdout",
          "output_type": "stream",
          "text": [
            "lr: 0.000390625\n"
          ]
        },
        {
          "name": "stderr",
          "output_type": "stream",
          "text": [
            "train epoch 208: 100%|██████████| 58/58 [00:21<00:00,  2.72it/s, loss=0.00159, accuracy=1]\n",
            "validation epoch 208: 100%|██████████| 15/15 [00:02<00:00,  5.81it/s, loss=0.255, accuracy=0.954]\n"
          ]
        },
        {
          "name": "stdout",
          "output_type": "stream",
          "text": [
            "lr: 0.000390625\n"
          ]
        },
        {
          "name": "stderr",
          "output_type": "stream",
          "text": [
            "train epoch 209: 100%|██████████| 58/58 [00:21<00:00,  2.72it/s, loss=0.00162, accuracy=1]\n",
            "validation epoch 209: 100%|██████████| 15/15 [00:02<00:00,  5.81it/s, loss=0.255, accuracy=0.953]\n"
          ]
        },
        {
          "name": "stdout",
          "output_type": "stream",
          "text": [
            "lr: 0.000390625\n"
          ]
        },
        {
          "name": "stderr",
          "output_type": "stream",
          "text": [
            "train epoch 210: 100%|██████████| 58/58 [00:21<00:00,  2.73it/s, loss=0.00161, accuracy=1]\n",
            "validation epoch 210: 100%|██████████| 15/15 [00:02<00:00,  5.55it/s, loss=0.255, accuracy=0.955]\n"
          ]
        },
        {
          "name": "stdout",
          "output_type": "stream",
          "text": [
            "lr: 0.000390625\n"
          ]
        },
        {
          "name": "stderr",
          "output_type": "stream",
          "text": [
            "train epoch 211: 100%|██████████| 58/58 [00:21<00:00,  2.75it/s, loss=0.00169, accuracy=1]\n",
            "validation epoch 211: 100%|██████████| 15/15 [00:02<00:00,  5.89it/s, loss=0.254, accuracy=0.954]\n"
          ]
        },
        {
          "name": "stdout",
          "output_type": "stream",
          "text": [
            "lr: 0.000390625\n"
          ]
        },
        {
          "name": "stderr",
          "output_type": "stream",
          "text": [
            "train epoch 212: 100%|██████████| 58/58 [00:21<00:00,  2.73it/s, loss=0.00161, accuracy=1]\n",
            "validation epoch 212: 100%|██████████| 15/15 [00:02<00:00,  5.79it/s, loss=0.254, accuracy=0.954]\n"
          ]
        },
        {
          "name": "stdout",
          "output_type": "stream",
          "text": [
            "lr: 0.000390625\n"
          ]
        },
        {
          "name": "stderr",
          "output_type": "stream",
          "text": [
            "train epoch 213: 100%|██████████| 58/58 [00:21<00:00,  2.72it/s, loss=0.00171, accuracy=1]\n",
            "validation epoch 213: 100%|██████████| 15/15 [00:02<00:00,  5.84it/s, loss=0.254, accuracy=0.953]\n"
          ]
        },
        {
          "name": "stdout",
          "output_type": "stream",
          "text": [
            "lr: 0.000390625\n"
          ]
        },
        {
          "name": "stderr",
          "output_type": "stream",
          "text": [
            "train epoch 214: 100%|██████████| 58/58 [00:21<00:00,  2.73it/s, loss=0.0017, accuracy=1]\n",
            "validation epoch 214: 100%|██████████| 15/15 [00:02<00:00,  5.81it/s, loss=0.255, accuracy=0.953]\n"
          ]
        },
        {
          "name": "stdout",
          "output_type": "stream",
          "text": [
            "lr: 0.000390625\n"
          ]
        },
        {
          "name": "stderr",
          "output_type": "stream",
          "text": [
            "train epoch 215: 100%|██████████| 58/58 [00:21<00:00,  2.74it/s, loss=0.00167, accuracy=1]\n",
            "validation epoch 215: 100%|██████████| 15/15 [00:02<00:00,  5.32it/s, loss=0.255, accuracy=0.952]\n"
          ]
        },
        {
          "name": "stdout",
          "output_type": "stream",
          "text": [
            "lr: 0.000390625\n"
          ]
        },
        {
          "name": "stderr",
          "output_type": "stream",
          "text": [
            "train epoch 216: 100%|██████████| 58/58 [00:21<00:00,  2.73it/s, loss=0.00168, accuracy=1]\n",
            "validation epoch 216: 100%|██████████| 15/15 [00:02<00:00,  5.86it/s, loss=0.254, accuracy=0.953]\n"
          ]
        },
        {
          "name": "stdout",
          "output_type": "stream",
          "text": [
            "lr: 0.000390625\n"
          ]
        },
        {
          "name": "stderr",
          "output_type": "stream",
          "text": [
            "train epoch 217: 100%|██████████| 58/58 [00:21<00:00,  2.73it/s, loss=0.00163, accuracy=1]\n",
            "validation epoch 217: 100%|██████████| 15/15 [00:02<00:00,  5.75it/s, loss=0.255, accuracy=0.955]\n"
          ]
        },
        {
          "name": "stdout",
          "output_type": "stream",
          "text": [
            "lr: 0.000390625\n"
          ]
        },
        {
          "name": "stderr",
          "output_type": "stream",
          "text": [
            "train epoch 218: 100%|██████████| 58/58 [00:21<00:00,  2.73it/s, loss=0.00161, accuracy=1]\n",
            "validation epoch 218: 100%|██████████| 15/15 [00:02<00:00,  5.83it/s, loss=0.255, accuracy=0.954]\n"
          ]
        },
        {
          "name": "stdout",
          "output_type": "stream",
          "text": [
            "lr: 0.000390625\n"
          ]
        },
        {
          "name": "stderr",
          "output_type": "stream",
          "text": [
            "train epoch 219: 100%|██████████| 58/58 [00:21<00:00,  2.72it/s, loss=0.00164, accuracy=1]\n",
            "validation epoch 219: 100%|██████████| 15/15 [00:02<00:00,  5.69it/s, loss=0.255, accuracy=0.952]\n"
          ]
        },
        {
          "name": "stdout",
          "output_type": "stream",
          "text": [
            "lr: 0.000390625\n"
          ]
        },
        {
          "name": "stderr",
          "output_type": "stream",
          "text": [
            "train epoch 220: 100%|██████████| 58/58 [00:21<00:00,  2.74it/s, loss=0.00165, accuracy=1]\n",
            "validation epoch 220: 100%|██████████| 15/15 [00:02<00:00,  5.35it/s, loss=0.254, accuracy=0.954]\n"
          ]
        },
        {
          "name": "stdout",
          "output_type": "stream",
          "text": [
            "lr: 0.000390625\n"
          ]
        },
        {
          "name": "stderr",
          "output_type": "stream",
          "text": [
            "train epoch 221: 100%|██████████| 58/58 [00:21<00:00,  2.74it/s, loss=0.00167, accuracy=1]\n",
            "validation epoch 221: 100%|██████████| 15/15 [00:02<00:00,  5.54it/s, loss=0.254, accuracy=0.954]\n"
          ]
        },
        {
          "name": "stdout",
          "output_type": "stream",
          "text": [
            "lr: 0.000390625\n"
          ]
        },
        {
          "name": "stderr",
          "output_type": "stream",
          "text": [
            "train epoch 222: 100%|██████████| 58/58 [00:21<00:00,  2.71it/s, loss=0.00165, accuracy=1]\n",
            "validation epoch 222: 100%|██████████| 15/15 [00:02<00:00,  5.72it/s, loss=0.254, accuracy=0.953]\n"
          ]
        },
        {
          "name": "stdout",
          "output_type": "stream",
          "text": [
            "lr: 0.000390625\n"
          ]
        },
        {
          "name": "stderr",
          "output_type": "stream",
          "text": [
            "train epoch 223: 100%|██████████| 58/58 [00:21<00:00,  2.72it/s, loss=0.00168, accuracy=1]\n",
            "validation epoch 223: 100%|██████████| 15/15 [00:02<00:00,  5.75it/s, loss=0.255, accuracy=0.954]\n"
          ]
        },
        {
          "name": "stdout",
          "output_type": "stream",
          "text": [
            "lr: 0.000390625\n"
          ]
        },
        {
          "name": "stderr",
          "output_type": "stream",
          "text": [
            "train epoch 224: 100%|██████████| 58/58 [00:21<00:00,  2.73it/s, loss=0.00169, accuracy=1]\n",
            "validation epoch 224: 100%|██████████| 15/15 [00:02<00:00,  5.72it/s, loss=0.254, accuracy=0.953]\n"
          ]
        },
        {
          "name": "stdout",
          "output_type": "stream",
          "text": [
            "lr: 0.0001953125\n"
          ]
        },
        {
          "name": "stderr",
          "output_type": "stream",
          "text": [
            "train epoch 225: 100%|██████████| 58/58 [00:21<00:00,  2.71it/s, loss=0.00169, accuracy=1]\n",
            "validation epoch 225: 100%|██████████| 15/15 [00:02<00:00,  5.77it/s, loss=0.255, accuracy=0.954]\n"
          ]
        },
        {
          "name": "stdout",
          "output_type": "stream",
          "text": [
            "lr: 0.0001953125\n"
          ]
        },
        {
          "name": "stderr",
          "output_type": "stream",
          "text": [
            "train epoch 226: 100%|██████████| 58/58 [00:21<00:00,  2.73it/s, loss=0.00171, accuracy=1]\n",
            "validation epoch 226: 100%|██████████| 15/15 [00:02<00:00,  5.84it/s, loss=0.254, accuracy=0.955]\n"
          ]
        },
        {
          "name": "stdout",
          "output_type": "stream",
          "text": [
            "lr: 0.0001953125\n"
          ]
        },
        {
          "name": "stderr",
          "output_type": "stream",
          "text": [
            "train epoch 227: 100%|██████████| 58/58 [00:21<00:00,  2.73it/s, loss=0.0017, accuracy=1]\n",
            "validation epoch 227: 100%|██████████| 15/15 [00:02<00:00,  5.81it/s, loss=0.255, accuracy=0.953]\n"
          ]
        },
        {
          "name": "stdout",
          "output_type": "stream",
          "text": [
            "lr: 0.0001953125\n"
          ]
        },
        {
          "name": "stderr",
          "output_type": "stream",
          "text": [
            "train epoch 228: 100%|██████████| 58/58 [00:21<00:00,  2.72it/s, loss=0.00164, accuracy=1]\n",
            "validation epoch 228: 100%|██████████| 15/15 [00:02<00:00,  5.79it/s, loss=0.254, accuracy=0.954]\n"
          ]
        },
        {
          "name": "stdout",
          "output_type": "stream",
          "text": [
            "lr: 0.0001953125\n"
          ]
        },
        {
          "name": "stderr",
          "output_type": "stream",
          "text": [
            "train epoch 229: 100%|██████████| 58/58 [00:21<00:00,  2.71it/s, loss=0.00158, accuracy=1]\n",
            "validation epoch 229: 100%|██████████| 15/15 [00:02<00:00,  5.79it/s, loss=0.255, accuracy=0.954]\n"
          ]
        },
        {
          "name": "stdout",
          "output_type": "stream",
          "text": [
            "lr: 0.0001953125\n"
          ]
        },
        {
          "name": "stderr",
          "output_type": "stream",
          "text": [
            "train epoch 230: 100%|██████████| 58/58 [00:21<00:00,  2.73it/s, loss=0.00168, accuracy=1]\n",
            "validation epoch 230: 100%|██████████| 15/15 [00:02<00:00,  5.32it/s, loss=0.254, accuracy=0.953]\n"
          ]
        },
        {
          "name": "stdout",
          "output_type": "stream",
          "text": [
            "lr: 0.0001953125\n"
          ]
        },
        {
          "name": "stderr",
          "output_type": "stream",
          "text": [
            "train epoch 231: 100%|██████████| 58/58 [00:21<00:00,  2.73it/s, loss=0.00163, accuracy=1]\n",
            "validation epoch 231: 100%|██████████| 15/15 [00:02<00:00,  5.58it/s, loss=0.256, accuracy=0.953]\n"
          ]
        },
        {
          "name": "stdout",
          "output_type": "stream",
          "text": [
            "lr: 0.0001953125\n"
          ]
        },
        {
          "name": "stderr",
          "output_type": "stream",
          "text": [
            "train epoch 232: 100%|██████████| 58/58 [00:21<00:00,  2.71it/s, loss=0.00159, accuracy=1]\n",
            "validation epoch 232: 100%|██████████| 15/15 [00:02<00:00,  5.83it/s, loss=0.255, accuracy=0.953]\n"
          ]
        },
        {
          "name": "stdout",
          "output_type": "stream",
          "text": [
            "lr: 0.0001953125\n"
          ]
        },
        {
          "name": "stderr",
          "output_type": "stream",
          "text": [
            "train epoch 233: 100%|██████████| 58/58 [00:21<00:00,  2.71it/s, loss=0.00163, accuracy=1]\n",
            "validation epoch 233: 100%|██████████| 15/15 [00:02<00:00,  5.81it/s, loss=0.254, accuracy=0.952]\n"
          ]
        },
        {
          "name": "stdout",
          "output_type": "stream",
          "text": [
            "lr: 0.0001953125\n"
          ]
        },
        {
          "name": "stderr",
          "output_type": "stream",
          "text": [
            "train epoch 234: 100%|██████████| 58/58 [00:21<00:00,  2.72it/s, loss=0.00166, accuracy=1]\n",
            "validation epoch 234: 100%|██████████| 15/15 [00:02<00:00,  5.81it/s, loss=0.255, accuracy=0.954]\n"
          ]
        },
        {
          "name": "stdout",
          "output_type": "stream",
          "text": [
            "lr: 0.0001953125\n"
          ]
        },
        {
          "name": "stderr",
          "output_type": "stream",
          "text": [
            "train epoch 235: 100%|██████████| 58/58 [00:21<00:00,  2.72it/s, loss=0.00172, accuracy=1]\n",
            "validation epoch 235: 100%|██████████| 15/15 [00:02<00:00,  5.84it/s, loss=0.254, accuracy=0.954]\n"
          ]
        },
        {
          "name": "stdout",
          "output_type": "stream",
          "text": [
            "lr: 0.0001953125\n"
          ]
        },
        {
          "name": "stderr",
          "output_type": "stream",
          "text": [
            "train epoch 236: 100%|██████████| 58/58 [00:21<00:00,  2.73it/s, loss=0.00165, accuracy=1]\n",
            "validation epoch 236: 100%|██████████| 15/15 [00:02<00:00,  5.37it/s, loss=0.254, accuracy=0.954]\n"
          ]
        },
        {
          "name": "stdout",
          "output_type": "stream",
          "text": [
            "lr: 0.0001953125\n"
          ]
        },
        {
          "name": "stderr",
          "output_type": "stream",
          "text": [
            "train epoch 237: 100%|██████████| 58/58 [00:21<00:00,  2.73it/s, loss=0.00158, accuracy=1]\n",
            "validation epoch 237: 100%|██████████| 15/15 [00:02<00:00,  5.77it/s, loss=0.254, accuracy=0.954]\n"
          ]
        },
        {
          "name": "stdout",
          "output_type": "stream",
          "text": [
            "lr: 0.0001953125\n"
          ]
        },
        {
          "name": "stderr",
          "output_type": "stream",
          "text": [
            "train epoch 238: 100%|██████████| 58/58 [00:21<00:00,  2.71it/s, loss=0.00167, accuracy=1]\n",
            "validation epoch 238: 100%|██████████| 15/15 [00:02<00:00,  5.79it/s, loss=0.254, accuracy=0.954]\n"
          ]
        },
        {
          "name": "stdout",
          "output_type": "stream",
          "text": [
            "lr: 0.0001953125\n"
          ]
        },
        {
          "name": "stderr",
          "output_type": "stream",
          "text": [
            "train epoch 239: 100%|██████████| 58/58 [00:21<00:00,  2.73it/s, loss=0.00159, accuracy=1]\n",
            "validation epoch 239: 100%|██████████| 15/15 [00:02<00:00,  5.88it/s, loss=0.254, accuracy=0.954]\n"
          ]
        },
        {
          "name": "stdout",
          "output_type": "stream",
          "text": [
            "lr: 0.0001953125\n"
          ]
        },
        {
          "name": "stderr",
          "output_type": "stream",
          "text": [
            "train epoch 240: 100%|██████████| 58/58 [00:21<00:00,  2.73it/s, loss=0.00166, accuracy=1]\n",
            "validation epoch 240: 100%|██████████| 15/15 [00:02<00:00,  5.78it/s, loss=0.255, accuracy=0.953]\n"
          ]
        },
        {
          "name": "stdout",
          "output_type": "stream",
          "text": [
            "lr: 0.0001953125\n"
          ]
        },
        {
          "name": "stderr",
          "output_type": "stream",
          "text": [
            "train epoch 241: 100%|██████████| 58/58 [00:21<00:00,  2.73it/s, loss=0.00158, accuracy=1]\n",
            "validation epoch 241: 100%|██████████| 15/15 [00:02<00:00,  5.84it/s, loss=0.255, accuracy=0.953]\n"
          ]
        },
        {
          "name": "stdout",
          "output_type": "stream",
          "text": [
            "lr: 0.0001953125\n"
          ]
        },
        {
          "name": "stderr",
          "output_type": "stream",
          "text": [
            "train epoch 242: 100%|██████████| 58/58 [00:21<00:00,  2.70it/s, loss=0.00158, accuracy=1]\n",
            "validation epoch 242: 100%|██████████| 15/15 [00:02<00:00,  5.87it/s, loss=0.255, accuracy=0.953]\n"
          ]
        },
        {
          "name": "stdout",
          "output_type": "stream",
          "text": [
            "lr: 0.0001953125\n"
          ]
        },
        {
          "name": "stderr",
          "output_type": "stream",
          "text": [
            "train epoch 243: 100%|██████████| 58/58 [00:21<00:00,  2.72it/s, loss=0.0017, accuracy=1]\n",
            "validation epoch 243: 100%|██████████| 15/15 [00:02<00:00,  5.77it/s, loss=0.255, accuracy=0.954]\n"
          ]
        },
        {
          "name": "stdout",
          "output_type": "stream",
          "text": [
            "lr: 0.0001953125\n"
          ]
        },
        {
          "name": "stderr",
          "output_type": "stream",
          "text": [
            "train epoch 244: 100%|██████████| 58/58 [00:21<00:00,  2.72it/s, loss=0.00163, accuracy=1]\n",
            "validation epoch 244: 100%|██████████| 15/15 [00:02<00:00,  5.89it/s, loss=0.254, accuracy=0.953]\n"
          ]
        },
        {
          "name": "stdout",
          "output_type": "stream",
          "text": [
            "lr: 0.0001953125\n"
          ]
        },
        {
          "name": "stderr",
          "output_type": "stream",
          "text": [
            "train epoch 245: 100%|██████████| 58/58 [00:21<00:00,  2.74it/s, loss=0.00164, accuracy=1]\n",
            "validation epoch 245: 100%|██████████| 15/15 [00:02<00:00,  5.36it/s, loss=0.255, accuracy=0.954]\n"
          ]
        },
        {
          "name": "stdout",
          "output_type": "stream",
          "text": [
            "lr: 0.0001953125\n"
          ]
        },
        {
          "name": "stderr",
          "output_type": "stream",
          "text": [
            "train epoch 246: 100%|██████████| 58/58 [00:21<00:00,  2.73it/s, loss=0.00158, accuracy=1]\n",
            "validation epoch 246: 100%|██████████| 15/15 [00:02<00:00,  5.56it/s, loss=0.254, accuracy=0.954]\n"
          ]
        },
        {
          "name": "stdout",
          "output_type": "stream",
          "text": [
            "lr: 0.0001953125\n"
          ]
        },
        {
          "name": "stderr",
          "output_type": "stream",
          "text": [
            "train epoch 247: 100%|██████████| 58/58 [00:21<00:00,  2.71it/s, loss=0.00159, accuracy=1]\n",
            "validation epoch 247: 100%|██████████| 15/15 [00:02<00:00,  5.88it/s, loss=0.255, accuracy=0.953]\n"
          ]
        },
        {
          "name": "stdout",
          "output_type": "stream",
          "text": [
            "lr: 0.0001953125\n"
          ]
        },
        {
          "name": "stderr",
          "output_type": "stream",
          "text": [
            "train epoch 248: 100%|██████████| 58/58 [00:21<00:00,  2.72it/s, loss=0.00173, accuracy=1]\n",
            "validation epoch 248: 100%|██████████| 15/15 [00:02<00:00,  5.89it/s, loss=0.254, accuracy=0.954]\n"
          ]
        },
        {
          "name": "stdout",
          "output_type": "stream",
          "text": [
            "lr: 0.0001953125\n"
          ]
        },
        {
          "name": "stderr",
          "output_type": "stream",
          "text": [
            "train epoch 249: 100%|██████████| 58/58 [00:21<00:00,  2.71it/s, loss=0.00163, accuracy=1]\n",
            "validation epoch 249: 100%|██████████| 15/15 [00:02<00:00,  5.83it/s, loss=0.255, accuracy=0.954]\n"
          ]
        },
        {
          "name": "stdout",
          "output_type": "stream",
          "text": [
            "lr: 9.765625e-05\n"
          ]
        },
        {
          "name": "stderr",
          "output_type": "stream",
          "text": [
            "train epoch 250: 100%|██████████| 58/58 [00:21<00:00,  2.72it/s, loss=0.00163, accuracy=1]\n",
            "validation epoch 250: 100%|██████████| 15/15 [00:02<00:00,  5.76it/s, loss=0.255, accuracy=0.953]\n"
          ]
        },
        {
          "name": "stdout",
          "output_type": "stream",
          "text": [
            "lr: 9.765625e-05\n"
          ]
        },
        {
          "name": "stderr",
          "output_type": "stream",
          "text": [
            "train epoch 251: 100%|██████████| 58/58 [00:21<00:00,  2.73it/s, loss=0.00159, accuracy=1]\n",
            "validation epoch 251: 100%|██████████| 15/15 [00:02<00:00,  5.53it/s, loss=0.254, accuracy=0.954]\n"
          ]
        },
        {
          "name": "stdout",
          "output_type": "stream",
          "text": [
            "lr: 9.765625e-05\n"
          ]
        },
        {
          "name": "stderr",
          "output_type": "stream",
          "text": [
            "train epoch 252: 100%|██████████| 58/58 [00:21<00:00,  2.71it/s, loss=0.00168, accuracy=1]\n",
            "validation epoch 252: 100%|██████████| 15/15 [00:02<00:00,  5.80it/s, loss=0.254, accuracy=0.953]\n"
          ]
        },
        {
          "name": "stdout",
          "output_type": "stream",
          "text": [
            "lr: 9.765625e-05\n"
          ]
        },
        {
          "name": "stderr",
          "output_type": "stream",
          "text": [
            "train epoch 253: 100%|██████████| 58/58 [00:21<00:00,  2.72it/s, loss=0.00158, accuracy=1]\n",
            "validation epoch 253: 100%|██████████| 15/15 [00:02<00:00,  5.84it/s, loss=0.254, accuracy=0.954]\n"
          ]
        },
        {
          "name": "stdout",
          "output_type": "stream",
          "text": [
            "lr: 9.765625e-05\n"
          ]
        },
        {
          "name": "stderr",
          "output_type": "stream",
          "text": [
            "train epoch 254: 100%|██████████| 58/58 [00:21<00:00,  2.71it/s, loss=0.00158, accuracy=1]\n",
            "validation epoch 254: 100%|██████████| 15/15 [00:02<00:00,  5.75it/s, loss=0.254, accuracy=0.953]\n"
          ]
        },
        {
          "name": "stdout",
          "output_type": "stream",
          "text": [
            "lr: 9.765625e-05\n"
          ]
        },
        {
          "name": "stderr",
          "output_type": "stream",
          "text": [
            "train epoch 255: 100%|██████████| 58/58 [00:21<00:00,  2.71it/s, loss=0.00161, accuracy=1]\n",
            "validation epoch 255: 100%|██████████| 15/15 [00:02<00:00,  5.82it/s, loss=0.254, accuracy=0.953]\n"
          ]
        },
        {
          "name": "stdout",
          "output_type": "stream",
          "text": [
            "lr: 9.765625e-05\n"
          ]
        },
        {
          "name": "stderr",
          "output_type": "stream",
          "text": [
            "train epoch 256: 100%|██████████| 58/58 [00:21<00:00,  2.73it/s, loss=0.00163, accuracy=1]\n",
            "validation epoch 256: 100%|██████████| 15/15 [00:02<00:00,  5.48it/s, loss=0.254, accuracy=0.953]\n"
          ]
        },
        {
          "name": "stdout",
          "output_type": "stream",
          "text": [
            "lr: 9.765625e-05\n"
          ]
        },
        {
          "name": "stderr",
          "output_type": "stream",
          "text": [
            "train epoch 257: 100%|██████████| 58/58 [00:21<00:00,  2.74it/s, loss=0.00166, accuracy=1]\n",
            "validation epoch 257: 100%|██████████| 15/15 [00:02<00:00,  5.82it/s, loss=0.255, accuracy=0.954]\n"
          ]
        },
        {
          "name": "stdout",
          "output_type": "stream",
          "text": [
            "lr: 9.765625e-05\n"
          ]
        },
        {
          "name": "stderr",
          "output_type": "stream",
          "text": [
            "train epoch 258: 100%|██████████| 58/58 [00:21<00:00,  2.72it/s, loss=0.0017, accuracy=1]\n",
            "validation epoch 258: 100%|██████████| 15/15 [00:02<00:00,  5.82it/s, loss=0.255, accuracy=0.954]\n"
          ]
        },
        {
          "name": "stdout",
          "output_type": "stream",
          "text": [
            "lr: 9.765625e-05\n"
          ]
        },
        {
          "name": "stderr",
          "output_type": "stream",
          "text": [
            "train epoch 259: 100%|██████████| 58/58 [00:21<00:00,  2.71it/s, loss=0.0016, accuracy=1]\n",
            "validation epoch 259: 100%|██████████| 15/15 [00:02<00:00,  5.72it/s, loss=0.254, accuracy=0.954]\n"
          ]
        },
        {
          "name": "stdout",
          "output_type": "stream",
          "text": [
            "lr: 9.765625e-05\n"
          ]
        },
        {
          "name": "stderr",
          "output_type": "stream",
          "text": [
            "train epoch 260: 100%|██████████| 58/58 [00:21<00:00,  2.71it/s, loss=0.00168, accuracy=1]\n",
            "validation epoch 260: 100%|██████████| 15/15 [00:02<00:00,  5.73it/s, loss=0.255, accuracy=0.953]\n"
          ]
        },
        {
          "name": "stdout",
          "output_type": "stream",
          "text": [
            "lr: 9.765625e-05\n"
          ]
        },
        {
          "name": "stderr",
          "output_type": "stream",
          "text": [
            "train epoch 261: 100%|██████████| 58/58 [00:21<00:00,  2.73it/s, loss=0.0016, accuracy=1]\n",
            "validation epoch 261: 100%|██████████| 15/15 [00:02<00:00,  5.38it/s, loss=0.254, accuracy=0.954]\n"
          ]
        },
        {
          "name": "stdout",
          "output_type": "stream",
          "text": [
            "lr: 9.765625e-05\n"
          ]
        },
        {
          "name": "stderr",
          "output_type": "stream",
          "text": [
            "train epoch 262: 100%|██████████| 58/58 [00:21<00:00,  2.73it/s, loss=0.00167, accuracy=1]\n",
            "validation epoch 262: 100%|██████████| 15/15 [00:02<00:00,  5.81it/s, loss=0.255, accuracy=0.954]\n"
          ]
        },
        {
          "name": "stdout",
          "output_type": "stream",
          "text": [
            "lr: 9.765625e-05\n"
          ]
        },
        {
          "name": "stderr",
          "output_type": "stream",
          "text": [
            "train epoch 263: 100%|██████████| 58/58 [00:21<00:00,  2.72it/s, loss=0.00161, accuracy=1]\n",
            "validation epoch 263: 100%|██████████| 15/15 [00:02<00:00,  5.78it/s, loss=0.255, accuracy=0.953]\n"
          ]
        },
        {
          "name": "stdout",
          "output_type": "stream",
          "text": [
            "lr: 9.765625e-05\n"
          ]
        },
        {
          "name": "stderr",
          "output_type": "stream",
          "text": [
            "train epoch 264: 100%|██████████| 58/58 [00:21<00:00,  2.72it/s, loss=0.00169, accuracy=1]\n",
            "validation epoch 264: 100%|██████████| 15/15 [00:02<00:00,  5.75it/s, loss=0.255, accuracy=0.954]\n"
          ]
        },
        {
          "name": "stdout",
          "output_type": "stream",
          "text": [
            "lr: 9.765625e-05\n"
          ]
        },
        {
          "name": "stderr",
          "output_type": "stream",
          "text": [
            "train epoch 265: 100%|██████████| 58/58 [00:21<00:00,  2.73it/s, loss=0.00168, accuracy=1]\n",
            "validation epoch 265: 100%|██████████| 15/15 [00:02<00:00,  5.75it/s, loss=0.254, accuracy=0.953]\n"
          ]
        },
        {
          "name": "stdout",
          "output_type": "stream",
          "text": [
            "lr: 9.765625e-05\n"
          ]
        },
        {
          "name": "stderr",
          "output_type": "stream",
          "text": [
            "train epoch 266: 100%|██████████| 58/58 [00:21<00:00,  2.73it/s, loss=0.0016, accuracy=1]\n",
            "validation epoch 266: 100%|██████████| 15/15 [00:02<00:00,  5.41it/s, loss=0.255, accuracy=0.954]\n"
          ]
        },
        {
          "name": "stdout",
          "output_type": "stream",
          "text": [
            "lr: 9.765625e-05\n"
          ]
        },
        {
          "name": "stderr",
          "output_type": "stream",
          "text": [
            "train epoch 267: 100%|██████████| 58/58 [00:21<00:00,  2.73it/s, loss=0.00154, accuracy=1]\n",
            "validation epoch 267: 100%|██████████| 15/15 [00:02<00:00,  5.51it/s, loss=0.254, accuracy=0.953]\n"
          ]
        },
        {
          "name": "stdout",
          "output_type": "stream",
          "text": [
            "lr: 9.765625e-05\n"
          ]
        },
        {
          "name": "stderr",
          "output_type": "stream",
          "text": [
            "train epoch 268: 100%|██████████| 58/58 [00:21<00:00,  2.71it/s, loss=0.00167, accuracy=1]\n",
            "validation epoch 268: 100%|██████████| 15/15 [00:02<00:00,  5.87it/s, loss=0.255, accuracy=0.954]\n"
          ]
        },
        {
          "name": "stdout",
          "output_type": "stream",
          "text": [
            "lr: 9.765625e-05\n"
          ]
        },
        {
          "name": "stderr",
          "output_type": "stream",
          "text": [
            "train epoch 269: 100%|██████████| 58/58 [00:21<00:00,  2.71it/s, loss=0.00157, accuracy=1]\n",
            "validation epoch 269: 100%|██████████| 15/15 [00:02<00:00,  5.73it/s, loss=0.255, accuracy=0.953]\n"
          ]
        },
        {
          "name": "stdout",
          "output_type": "stream",
          "text": [
            "lr: 9.765625e-05\n"
          ]
        },
        {
          "name": "stderr",
          "output_type": "stream",
          "text": [
            "train epoch 270: 100%|██████████| 58/58 [00:21<00:00,  2.73it/s, loss=0.00169, accuracy=1]\n",
            "validation epoch 270: 100%|██████████| 15/15 [00:02<00:00,  5.77it/s, loss=0.254, accuracy=0.953]\n"
          ]
        },
        {
          "name": "stdout",
          "output_type": "stream",
          "text": [
            "lr: 9.765625e-05\n"
          ]
        },
        {
          "name": "stderr",
          "output_type": "stream",
          "text": [
            "train epoch 271: 100%|██████████| 58/58 [00:21<00:00,  2.73it/s, loss=0.00167, accuracy=1]\n",
            "validation epoch 271: 100%|██████████| 15/15 [00:02<00:00,  5.84it/s, loss=0.255, accuracy=0.955]\n"
          ]
        },
        {
          "name": "stdout",
          "output_type": "stream",
          "text": [
            "lr: 9.765625e-05\n"
          ]
        },
        {
          "name": "stderr",
          "output_type": "stream",
          "text": [
            "train epoch 272: 100%|██████████| 58/58 [00:21<00:00,  2.73it/s, loss=0.00164, accuracy=1]\n",
            "validation epoch 272: 100%|██████████| 15/15 [00:02<00:00,  5.37it/s, loss=0.255, accuracy=0.954]\n"
          ]
        },
        {
          "name": "stdout",
          "output_type": "stream",
          "text": [
            "lr: 9.765625e-05\n"
          ]
        },
        {
          "name": "stderr",
          "output_type": "stream",
          "text": [
            "train epoch 273: 100%|██████████| 58/58 [00:21<00:00,  2.75it/s, loss=0.0017, accuracy=1]\n",
            "validation epoch 273: 100%|██████████| 15/15 [00:02<00:00,  5.83it/s, loss=0.254, accuracy=0.954]\n"
          ]
        },
        {
          "name": "stdout",
          "output_type": "stream",
          "text": [
            "lr: 9.765625e-05\n"
          ]
        },
        {
          "name": "stderr",
          "output_type": "stream",
          "text": [
            "train epoch 274: 100%|██████████| 58/58 [00:21<00:00,  2.72it/s, loss=0.00171, accuracy=1]\n",
            "validation epoch 274: 100%|██████████| 15/15 [00:02<00:00,  5.81it/s, loss=0.255, accuracy=0.953]\n"
          ]
        },
        {
          "name": "stdout",
          "output_type": "stream",
          "text": [
            "lr: 4.8828125e-05\n"
          ]
        },
        {
          "name": "stderr",
          "output_type": "stream",
          "text": [
            "train epoch 275: 100%|██████████| 58/58 [00:21<00:00,  2.71it/s, loss=0.00156, accuracy=1]\n",
            "validation epoch 275: 100%|██████████| 15/15 [00:02<00:00,  5.80it/s, loss=0.255, accuracy=0.953]\n"
          ]
        },
        {
          "name": "stdout",
          "output_type": "stream",
          "text": [
            "lr: 4.8828125e-05\n"
          ]
        },
        {
          "name": "stderr",
          "output_type": "stream",
          "text": [
            "train epoch 276: 100%|██████████| 58/58 [00:21<00:00,  2.73it/s, loss=0.00162, accuracy=1]\n",
            "validation epoch 276: 100%|██████████| 15/15 [00:02<00:00,  5.77it/s, loss=0.254, accuracy=0.953]\n"
          ]
        },
        {
          "name": "stdout",
          "output_type": "stream",
          "text": [
            "lr: 4.8828125e-05\n"
          ]
        },
        {
          "name": "stderr",
          "output_type": "stream",
          "text": [
            "train epoch 277: 100%|██████████| 58/58 [00:21<00:00,  2.74it/s, loss=0.00173, accuracy=1]\n",
            "validation epoch 277: 100%|██████████| 15/15 [00:02<00:00,  5.69it/s, loss=0.254, accuracy=0.954]\n"
          ]
        },
        {
          "name": "stdout",
          "output_type": "stream",
          "text": [
            "lr: 4.8828125e-05\n"
          ]
        },
        {
          "name": "stderr",
          "output_type": "stream",
          "text": [
            "train epoch 278: 100%|██████████| 58/58 [00:21<00:00,  2.70it/s, loss=0.0016, accuracy=1]\n",
            "validation epoch 278: 100%|██████████| 15/15 [00:02<00:00,  5.81it/s, loss=0.254, accuracy=0.953]\n"
          ]
        },
        {
          "name": "stdout",
          "output_type": "stream",
          "text": [
            "lr: 4.8828125e-05\n"
          ]
        },
        {
          "name": "stderr",
          "output_type": "stream",
          "text": [
            "train epoch 279: 100%|██████████| 58/58 [00:21<00:00,  2.72it/s, loss=0.00167, accuracy=1]\n",
            "validation epoch 279: 100%|██████████| 15/15 [00:02<00:00,  5.77it/s, loss=0.254, accuracy=0.954]\n"
          ]
        },
        {
          "name": "stdout",
          "output_type": "stream",
          "text": [
            "lr: 4.8828125e-05\n"
          ]
        },
        {
          "name": "stderr",
          "output_type": "stream",
          "text": [
            "train epoch 280: 100%|██████████| 58/58 [00:21<00:00,  2.71it/s, loss=0.0017, accuracy=1]\n",
            "validation epoch 280: 100%|██████████| 15/15 [00:02<00:00,  5.80it/s, loss=0.254, accuracy=0.954]\n"
          ]
        },
        {
          "name": "stdout",
          "output_type": "stream",
          "text": [
            "lr: 4.8828125e-05\n"
          ]
        },
        {
          "name": "stderr",
          "output_type": "stream",
          "text": [
            "train epoch 281: 100%|██████████| 58/58 [00:21<00:00,  2.72it/s, loss=0.0016, accuracy=1]\n",
            "validation epoch 281: 100%|██████████| 15/15 [00:02<00:00,  5.85it/s, loss=0.254, accuracy=0.954]\n"
          ]
        },
        {
          "name": "stdout",
          "output_type": "stream",
          "text": [
            "lr: 4.8828125e-05\n"
          ]
        },
        {
          "name": "stderr",
          "output_type": "stream",
          "text": [
            "train epoch 282: 100%|██████████| 58/58 [00:21<00:00,  2.73it/s, loss=0.00162, accuracy=1]\n",
            "validation epoch 282: 100%|██████████| 15/15 [00:02<00:00,  5.40it/s, loss=0.255, accuracy=0.954]\n"
          ]
        },
        {
          "name": "stdout",
          "output_type": "stream",
          "text": [
            "lr: 4.8828125e-05\n"
          ]
        },
        {
          "name": "stderr",
          "output_type": "stream",
          "text": [
            "train epoch 283: 100%|██████████| 58/58 [00:21<00:00,  2.74it/s, loss=0.00166, accuracy=1]\n",
            "validation epoch 283: 100%|██████████| 15/15 [00:02<00:00,  5.79it/s, loss=0.255, accuracy=0.953]\n"
          ]
        },
        {
          "name": "stdout",
          "output_type": "stream",
          "text": [
            "lr: 4.8828125e-05\n"
          ]
        },
        {
          "name": "stderr",
          "output_type": "stream",
          "text": [
            "train epoch 284: 100%|██████████| 58/58 [00:21<00:00,  2.72it/s, loss=0.00158, accuracy=1]\n",
            "validation epoch 284: 100%|██████████| 15/15 [00:02<00:00,  5.80it/s, loss=0.255, accuracy=0.954]\n"
          ]
        },
        {
          "name": "stdout",
          "output_type": "stream",
          "text": [
            "lr: 4.8828125e-05\n"
          ]
        },
        {
          "name": "stderr",
          "output_type": "stream",
          "text": [
            "train epoch 285: 100%|██████████| 58/58 [00:21<00:00,  2.71it/s, loss=0.00157, accuracy=1]\n",
            "validation epoch 285: 100%|██████████| 15/15 [00:02<00:00,  5.73it/s, loss=0.255, accuracy=0.953]\n"
          ]
        },
        {
          "name": "stdout",
          "output_type": "stream",
          "text": [
            "lr: 4.8828125e-05\n"
          ]
        },
        {
          "name": "stderr",
          "output_type": "stream",
          "text": [
            "train epoch 286: 100%|██████████| 58/58 [00:21<00:00,  2.71it/s, loss=0.00167, accuracy=1]\n",
            "validation epoch 286: 100%|██████████| 15/15 [00:02<00:00,  5.82it/s, loss=0.254, accuracy=0.955]\n"
          ]
        },
        {
          "name": "stdout",
          "output_type": "stream",
          "text": [
            "lr: 4.8828125e-05\n"
          ]
        },
        {
          "name": "stderr",
          "output_type": "stream",
          "text": [
            "train epoch 287: 100%|██████████| 58/58 [00:21<00:00,  2.73it/s, loss=0.00172, accuracy=1]\n",
            "validation epoch 287: 100%|██████████| 15/15 [00:02<00:00,  5.36it/s, loss=0.255, accuracy=0.953]\n"
          ]
        },
        {
          "name": "stdout",
          "output_type": "stream",
          "text": [
            "lr: 4.8828125e-05\n"
          ]
        },
        {
          "name": "stderr",
          "output_type": "stream",
          "text": [
            "train epoch 288: 100%|██████████| 58/58 [00:21<00:00,  2.73it/s, loss=0.00157, accuracy=1]\n",
            "validation epoch 288: 100%|██████████| 15/15 [00:02<00:00,  5.81it/s, loss=0.254, accuracy=0.954]\n"
          ]
        },
        {
          "name": "stdout",
          "output_type": "stream",
          "text": [
            "lr: 4.8828125e-05\n"
          ]
        },
        {
          "name": "stderr",
          "output_type": "stream",
          "text": [
            "train epoch 289: 100%|██████████| 58/58 [00:21<00:00,  2.72it/s, loss=0.00154, accuracy=1]\n",
            "validation epoch 289: 100%|██████████| 15/15 [00:02<00:00,  5.70it/s, loss=0.255, accuracy=0.954]\n"
          ]
        },
        {
          "name": "stdout",
          "output_type": "stream",
          "text": [
            "lr: 4.8828125e-05\n"
          ]
        },
        {
          "name": "stderr",
          "output_type": "stream",
          "text": [
            "train epoch 290: 100%|██████████| 58/58 [00:21<00:00,  2.72it/s, loss=0.00157, accuracy=1]\n",
            "validation epoch 290: 100%|██████████| 15/15 [00:02<00:00,  5.70it/s, loss=0.255, accuracy=0.954]\n"
          ]
        },
        {
          "name": "stdout",
          "output_type": "stream",
          "text": [
            "lr: 4.8828125e-05\n"
          ]
        },
        {
          "name": "stderr",
          "output_type": "stream",
          "text": [
            "train epoch 291: 100%|██████████| 58/58 [00:21<00:00,  2.73it/s, loss=0.00156, accuracy=1]\n",
            "validation epoch 291: 100%|██████████| 15/15 [00:02<00:00,  5.82it/s, loss=0.254, accuracy=0.953]\n"
          ]
        },
        {
          "name": "stdout",
          "output_type": "stream",
          "text": [
            "lr: 4.8828125e-05\n"
          ]
        },
        {
          "name": "stderr",
          "output_type": "stream",
          "text": [
            "train epoch 292: 100%|██████████| 58/58 [00:21<00:00,  2.74it/s, loss=0.00163, accuracy=1]\n",
            "validation epoch 292: 100%|██████████| 15/15 [00:02<00:00,  5.31it/s, loss=0.254, accuracy=0.953]\n"
          ]
        },
        {
          "name": "stdout",
          "output_type": "stream",
          "text": [
            "lr: 4.8828125e-05\n"
          ]
        },
        {
          "name": "stderr",
          "output_type": "stream",
          "text": [
            "train epoch 293: 100%|██████████| 58/58 [00:21<00:00,  2.73it/s, loss=0.0016, accuracy=1]\n",
            "validation epoch 293: 100%|██████████| 15/15 [00:02<00:00,  5.49it/s, loss=0.255, accuracy=0.953]\n"
          ]
        },
        {
          "name": "stdout",
          "output_type": "stream",
          "text": [
            "lr: 4.8828125e-05\n"
          ]
        },
        {
          "name": "stderr",
          "output_type": "stream",
          "text": [
            "train epoch 294: 100%|██████████| 58/58 [00:21<00:00,  2.72it/s, loss=0.00157, accuracy=1]\n",
            "validation epoch 294: 100%|██████████| 15/15 [00:02<00:00,  5.77it/s, loss=0.254, accuracy=0.953]\n"
          ]
        },
        {
          "name": "stdout",
          "output_type": "stream",
          "text": [
            "lr: 4.8828125e-05\n"
          ]
        },
        {
          "name": "stderr",
          "output_type": "stream",
          "text": [
            "train epoch 295: 100%|██████████| 58/58 [00:21<00:00,  2.72it/s, loss=0.00168, accuracy=1]\n",
            "validation epoch 295: 100%|██████████| 15/15 [00:02<00:00,  5.78it/s, loss=0.255, accuracy=0.953]\n"
          ]
        },
        {
          "name": "stdout",
          "output_type": "stream",
          "text": [
            "lr: 4.8828125e-05\n"
          ]
        },
        {
          "name": "stderr",
          "output_type": "stream",
          "text": [
            "train epoch 296: 100%|██████████| 58/58 [00:21<00:00,  2.71it/s, loss=0.00166, accuracy=1]\n",
            "validation epoch 296: 100%|██████████| 15/15 [00:02<00:00,  5.75it/s, loss=0.254, accuracy=0.954]\n"
          ]
        },
        {
          "name": "stdout",
          "output_type": "stream",
          "text": [
            "lr: 4.8828125e-05\n"
          ]
        },
        {
          "name": "stderr",
          "output_type": "stream",
          "text": [
            "train epoch 297: 100%|██████████| 58/58 [00:21<00:00,  2.71it/s, loss=0.00157, accuracy=1]\n",
            "validation epoch 297: 100%|██████████| 15/15 [00:02<00:00,  5.77it/s, loss=0.255, accuracy=0.953]\n"
          ]
        },
        {
          "name": "stdout",
          "output_type": "stream",
          "text": [
            "lr: 4.8828125e-05\n"
          ]
        },
        {
          "name": "stderr",
          "output_type": "stream",
          "text": [
            "train epoch 298: 100%|██████████| 58/58 [00:21<00:00,  2.74it/s, loss=0.0017, accuracy=1]\n",
            "validation epoch 298: 100%|██████████| 15/15 [00:02<00:00,  5.46it/s, loss=0.255, accuracy=0.954]\n"
          ]
        },
        {
          "name": "stdout",
          "output_type": "stream",
          "text": [
            "lr: 4.8828125e-05\n"
          ]
        },
        {
          "name": "stderr",
          "output_type": "stream",
          "text": [
            "train epoch 299: 100%|██████████| 58/58 [00:21<00:00,  2.75it/s, loss=0.00165, accuracy=1]\n",
            "validation epoch 299: 100%|██████████| 15/15 [00:02<00:00,  5.81it/s, loss=0.254, accuracy=0.954]"
          ]
        },
        {
          "name": "stdout",
          "output_type": "stream",
          "text": [
            "lr: 2.44140625e-05\n"
          ]
        },
        {
          "name": "stderr",
          "output_type": "stream",
          "text": [
            "\n"
          ]
        }
      ],
      "source": [
        "# Let's start training\n",
        "SVHN_train.train_erm()"
      ]
    },
    {
      "attachments": {},
      "cell_type": "markdown",
      "metadata": {},
      "source": [
        "#### Testing"
      ]
    },
    {
      "attachments": {},
      "cell_type": "markdown",
      "metadata": {},
      "source": [
        "Perform the evaluation of the model by using the parameters of the epoch with highest accuracy in validation phase. This step is done without performing selective classification, so the model never abstains."
      ]
    },
    {
      "cell_type": "code",
      "execution_count": 3,
      "metadata": {
        "colab": {
          "base_uri": "https://localhost:8080/"
        },
        "id": "YHz8KaA3Q9pr",
        "outputId": "f3a1a2c1-8891-4119-9fbd-dd07a9643378"
      },
      "outputs": [
        {
          "name": "stdout",
          "output_type": "stream",
          "text": [
            "----------testing the model----------\n"
          ]
        },
        {
          "name": "stderr",
          "output_type": "stream",
          "text": [
            "test epoch 271: 100%|██████████| 26/26 [00:11<00:00,  2.26it/s, loss=0.207, accuracy=0.959]"
          ]
        },
        {
          "name": "stdout",
          "output_type": "stream",
          "text": [
            "----------Test accuracy =0.9591888688568376----------\n"
          ]
        },
        {
          "name": "stderr",
          "output_type": "stream",
          "text": [
            "\n"
          ]
        }
      ],
      "source": [
        "SVHN_train.test(SVHN_train.test_loader,\"best_erm_model.pt\")"
      ]
    },
    {
      "attachments": {},
      "cell_type": "markdown",
      "metadata": {},
      "source": [
        "#### Masking"
      ]
    },
    {
      "cell_type": "code",
      "execution_count": 4,
      "metadata": {
        "colab": {
          "base_uri": "https://localhost:8080/"
        },
        "id": "XYlp_Gakk4GK",
        "outputId": "4c1452b0-e618-4594-deae-001dacd99f44"
      },
      "outputs": [
        {
          "name": "stderr",
          "output_type": "stream",
          "text": [
            "100%|██████████| 73257/73257 [17:00<00:00, 71.77it/s]\n",
            "train epoch 300: 100%|██████████| 58/58 [00:21<00:00,  2.74it/s, loss=0.351, accuracy=0.914]\n",
            "validation epoch 300: 100%|██████████| 15/15 [00:03<00:00,  4.36it/s, loss=0.339, accuracy=0.928]\n"
          ]
        }
      ],
      "source": [
        "def finetune(best_resume_checkpoint_path: str=None, last_resume_checkpoint_path: str=None) -> None:\n",
        "  \n",
        "  if(best_resume_checkpoint_path!=None and last_resume_checkpoint_path!=None):\n",
        "    # build the dataset composed by masked images and the data loader\n",
        "    SVHN_train.mask_data(best_resume_checkpoint_path)\n",
        "\n",
        "    # resume needed data stored in saved models\n",
        "    checkpoint = torch.load(last_resume_checkpoint_path)\n",
        "    SVHN_train.model.load_state_dict(checkpoint['model_state_dict'])\n",
        "    SVHN_train.optimizer.load_state_dict(checkpoint['optimizer_state_dict'])\n",
        "    resume_epoch = checkpoint['epoch'] + 1\n",
        "\n",
        "    # perform a single training epoch on the masked dataset and build the 'masked model'\n",
        "    SVHN_train.run_an_epoch(data_loader=SVHN_train.masked_loader,epoch=resume_epoch,mode=\"train\",device=SVHN_train.device)\n",
        "    val_accuracy = SVHN_train.run_an_epoch(\n",
        "        data_loader=SVHN_train.val_loader, epoch=resume_epoch, mode=\"validation\",device=SVHN_train.device\n",
        "    )\n",
        "    torch.save({\n",
        "                'epoch': resume_epoch,\n",
        "                'model_state_dict': SVHN_train.model.state_dict(),\n",
        "                'optimizer_state_dict': SVHN_train.optimizer.state_dict(),\n",
        "                'scheduler_state_dict': SVHN_train.lr_scheduler.state_dict(),\n",
        "                'accuracy' : val_accuracy,\n",
        "                }, \"masked_erm_model.pt\")\n",
        "    \n",
        "\n",
        "finetune(best_resume_checkpoint_path=\"best_erm_model.pt\",last_resume_checkpoint_path=\"last_erm_model.pt\")"
      ]
    },
    {
      "cell_type": "code",
      "execution_count": 5,
      "metadata": {
        "colab": {
          "base_uri": "https://localhost:8080/"
        },
        "id": "QMtaNsco4Cqo",
        "outputId": "620ff7bc-1e6b-437c-b8ba-3818eeb48714"
      },
      "outputs": [
        {
          "name": "stdout",
          "output_type": "stream",
          "text": [
            "----------testing the model----------\n"
          ]
        },
        {
          "name": "stderr",
          "output_type": "stream",
          "text": [
            "test epoch 300: 100%|██████████| 26/26 [00:05<00:00,  5.18it/s, loss=0.334, accuracy=0.92]"
          ]
        },
        {
          "name": "stdout",
          "output_type": "stream",
          "text": [
            "----------Test accuracy =0.9203614672364673----------\n"
          ]
        },
        {
          "name": "stderr",
          "output_type": "stream",
          "text": [
            "\n"
          ]
        }
      ],
      "source": [
        "# perform evaluation on the built masked model \n",
        "SVHN_train.test(SVHN_train.test_loader,\"masked_erm_model.pt\")"
      ]
    },
    {
      "attachments": {},
      "cell_type": "markdown",
      "metadata": {},
      "source": [
        "#### Selective Classification"
      ]
    },
    {
      "cell_type": "code",
      "execution_count": null,
      "metadata": {},
      "outputs": [],
      "source": [
        "import copy\n",
        "from tqdm import tqdm\n",
        "import torch.nn.functional as F"
      ]
    },
    {
      "cell_type": "code",
      "execution_count": 6,
      "metadata": {
        "id": "dQwu2Of3ZBpx"
      },
      "outputs": [],
      "source": [
        "def test_selective_classification(erm_model_checkpoint_path: str=None, finetuned_model_checkpoint_path: str=None):\n",
        "        # verifies the existence of the models\n",
        "        assert erm_model_checkpoint_path is not None, \"erm model's checkpoint path should be passed to the test function to test on that\"\n",
        "        assert finetuned_model_checkpoint_path is not None, \"finetuned model's checkpoint path should be passed to the test function to test on that\"\n",
        "        \n",
        "        # create a copy of the model used in train\n",
        "        finetuned_model = copy.deepcopy(SVHN_train.model)\n",
        "        finetuned_model = finetuned_model.to(SVHN_train.device)\n",
        "        SVHN_train.logger.info(\n",
        "            \"-\" * 10 + \"testing with selective classification\" + \"-\" * 10, print_msg=True)\n",
        "        \n",
        "        # set the 'standard' model in evaluation phase and load parameters of the model\n",
        "        checkpoint_finetuned = torch.load(finetuned_model_checkpoint_path)\n",
        "        finetuned_model.load_state_dict(checkpoint_finetuned['model_state_dict'])\n",
        "        finetuned_model.eval()\n",
        "\n",
        "        # set the 'fine tuned' model in evaluation phase and load parameters of the model\n",
        "        checkpoint_erm = torch.load(erm_model_checkpoint_path)\n",
        "        SVHN_train.model.load_state_dict(checkpoint_erm['model_state_dict'])\n",
        "        SVHN_train.model.eval()\n",
        "\n",
        "        # initialize needed structures\n",
        "        val_equals = []\n",
        "        val_prob = []\n",
        "        test_equals = []\n",
        "        test_prob = []\n",
        "\n",
        "\n",
        "\n",
        "        with torch.no_grad():\n",
        "            # round over validation dataset\n",
        "            for inputs, targets in tqdm(SVHN_train.val_loader):\n",
        "                inputs, targets = inputs.to(\n",
        "                    SVHN_train.device), targets.to(SVHN_train.device)\n",
        "                \n",
        "                # 'standard' model\n",
        "                outputs = SVHN_train.model(inputs)\n",
        "                output_prob = F.softmax(outputs, dim=1)\n",
        "                \n",
        "                # 'fine tuned' model\n",
        "                final_outputs = finetuned_model(inputs)\n",
        "                ft_output_prob = F.softmax(\n",
        "                    final_outputs, dim=1)\n",
        "                \n",
        "                # combine probabilities of the models\n",
        "                probabilities = F.softmax(\n",
        "                    output_prob * ft_output_prob, dim=1)\n",
        "\n",
        "\n",
        "                # define for each element in 'probabilities' the class in\n",
        "                # which it is predicted and the related probability\n",
        "                # add the probability values found in the related structure\n",
        "                prob_class, predictions_class = probabilities.data.max(1)\n",
        "                val_prob.append(prob_class)\n",
        "\n",
        "                # find the elements which prediction is equal to target\n",
        "                equals = predictions_class.cpu().eq(targets.data.cpu())\n",
        "                val_equals.append(equals)\n",
        "            \n",
        "            # define structures that contain data extracted on validation dataset\n",
        "            val_equals = torch.cat(val_equals, 0).cpu()\n",
        "            val_prob = torch.cat(val_prob, 0).cpu()\n",
        "            val_indices = torch.sort(val_prob, descending=True)[1]\n",
        "            val_equals = torch.gather(val_equals, dim=0, index=val_indices)\n",
        "            val_prob = torch.gather(val_prob, dim=0, index=val_indices)\n",
        "\n",
        "            # round over test dataset\n",
        "            for inputs, targets in tqdm(SVHN_train.test_loader):\n",
        "                inputs, targets = inputs.to(\n",
        "                    SVHN_train.device), targets.to(SVHN_train.device)\n",
        "\n",
        "                # 'standard' model\n",
        "                outputs = SVHN_train.model(inputs)\n",
        "                output_prob = F.softmax(outputs, dim=1)\n",
        "\n",
        "                # 'fine tuned' model\n",
        "                final_outputs = finetuned_model(inputs)\n",
        "                ft_output_prob = F.softmax(\n",
        "                    final_outputs, dim=1)\n",
        "                \n",
        "                # combine probabilities of the models over test set\n",
        "                probabilities = F.softmax(\n",
        "                    output_prob * ft_output_prob, dim=1)\n",
        "\n",
        "                # define for each element in 'probabilities' the class in\n",
        "                # which it is predicted and the related probability\n",
        "                # add the probability values found in the related structure\n",
        "                prob_class, predictions_class = probabilities.data.max(1)\n",
        "                test_prob.append(prob_class)\n",
        "\n",
        "                # find the elements which prediction is equal to target\n",
        "                equals = predictions_class.cpu().eq(targets.data.cpu())\n",
        "                test_equals.append(equals)\n",
        "            \n",
        "            # define structures that contain data extracted on test dataset\n",
        "            test_equals = torch.cat(test_equals, 0).cpu()\n",
        "            test_prob = torch.cat(test_prob, 0).cpu()\n",
        "            test_indices = torch.sort(test_prob, descending=True)[1]\n",
        "            test_equals = torch.gather(test_equals, dim=0, index=test_indices)\n",
        "            test_prob = torch.gather(test_prob, dim=0, index=test_indices)\n",
        "            \n",
        "\n",
        "            for cov_val in range(85,101,5):\n",
        "                # takes the index of the element in the position that represents \n",
        "                # the cov_val percentage of the validation set \n",
        "                th_index = round((cov_val / 100) * len(val_indices))\n",
        "\n",
        "                # set the threshold as the number in the index defined above\n",
        "                # or if |val_prob| is lower than this index, as the element\n",
        "                # in last position of val_prob \n",
        "                threshold = val_prob[min(th_index, len(val_prob)-1)]\n",
        "                \n",
        "                # defiene for each element in test dataset if it will be \n",
        "                # used or not\n",
        "                predicted_samples = test_prob>=threshold\n",
        "                \n",
        "                # compute the classification error rate over the studied elements of\n",
        "                # the test dataset \n",
        "                error = 1 - (torch.sum(predicted_samples * test_equals) / torch.sum(predicted_samples))\n",
        "                \n",
        "                # print the expected coverage, the real coverage, classification error rate\n",
        "                SVHN_train.logger.info(\n",
        "                    \"EXP COV {}, COV {}, ERROR: {}\".format(\n",
        "                        cov_val, round((torch.sum(predicted_samples).item() / len(predicted_samples)) * 100.0, 2), 100 * round(error.item(), 4)\n",
        "                    ),\n",
        "                    print_msg=True\n",
        "                )\n",
        "                "
      ]
    },
    {
      "cell_type": "code",
      "execution_count": 7,
      "metadata": {
        "colab": {
          "base_uri": "https://localhost:8080/"
        },
        "id": "DeR_ik1JiXw1",
        "outputId": "b36342d4-4228-4bb6-a86d-e6067e595753"
      },
      "outputs": [
        {
          "name": "stdout",
          "output_type": "stream",
          "text": [
            "----------testing with selective classification----------\n"
          ]
        },
        {
          "name": "stderr",
          "output_type": "stream",
          "text": [
            "100%|██████████| 15/15 [00:02<00:00,  5.07it/s]\n",
            "100%|██████████| 26/26 [00:04<00:00,  5.31it/s]"
          ]
        },
        {
          "name": "stdout",
          "output_type": "stream",
          "text": [
            "EXP COV 85, COV 81.33, ERROR: 1.05\n",
            "EXP COV 90, COV 87.53, ERROR: 1.6099999999999999\n",
            "EXP COV 95, COV 93.3, ERROR: 2.73\n",
            "EXP COV 100, COV 99.98, ERROR: 4.2299999999999995\n"
          ]
        },
        {
          "name": "stderr",
          "output_type": "stream",
          "text": [
            "\n"
          ]
        }
      ],
      "source": [
        "test_selective_classification(\"best_erm_model.pt\",\"masked_erm_model.pt\")"
      ]
    }
  ],
  "metadata": {
    "accelerator": "GPU",
    "colab": {
      "provenance": []
    },
    "gpuClass": "standard",
    "kernelspec": {
      "display_name": "MACHINELEARNING",
      "language": "python",
      "name": "python3"
    },
    "language_info": {
      "codemirror_mode": {
        "name": "ipython",
        "version": 3
      },
      "file_extension": ".py",
      "mimetype": "text/x-python",
      "name": "python",
      "nbconvert_exporter": "python",
      "pygments_lexer": "ipython3",
      "version": "3.9.15"
    },
    "vscode": {
      "interpreter": {
        "hash": "c3d2da9ea33237c85584c9c67e1981ac38a3fd243e6de17eadf5b3b825ecc547"
      }
    }
  },
  "nbformat": 4,
  "nbformat_minor": 0
}
